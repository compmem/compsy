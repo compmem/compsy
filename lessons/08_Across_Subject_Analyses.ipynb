{
 "cells": [
  {
   "cell_type": "markdown",
   "metadata": {
    "slideshow": {
     "slide_type": "slide"
    }
   },
   "source": [
    "# Across-Subject Analyses\n",
    "## Computational Methods in Psychology and Neuroscience\n",
    "### Psychology 4215/7215 --- Fall 2023\n",
    "By: Per B. Sederberg, PhD\n",
    "\n"
   ]
  },
  {
   "cell_type": "markdown",
   "metadata": {
    "slideshow": {
     "slide_type": "slide"
    }
   },
   "source": [
    "# Lesson Objectives\n",
    "\n",
    "Upon completion of this lesson, students should have learned:\n",
    "\n",
    "1. How to read in multiple data files\n",
    "2. Perform some simple data clean-up\n",
    "3. Some more Pandas analysis tricks\n",
    "4. Regression across subjects\n"
   ]
  },
  {
   "cell_type": "markdown",
   "metadata": {
    "slideshow": {
     "slide_type": "slide"
    }
   },
   "source": [
    "# Loading in all the data\n",
    "\n",
    "- Let's explore one subject's data and learn stuff along the way!\n",
    "- Where are the data?"
   ]
  },
  {
   "cell_type": "code",
   "execution_count": 15,
   "metadata": {},
   "outputs": [
    {
     "name": "stdout",
     "output_type": "stream",
     "text": [
      "log_flanker_s000.slog  log_flanker_s009.slog  log_flanker_s018.slog\r\n",
      "log_flanker_s001.slog  log_flanker_s010.slog  log_flanker_s019.slog\r\n",
      "log_flanker_s002.slog  log_flanker_s011.slog  log_flanker_s020.slog\r\n",
      "log_flanker_s003.slog  log_flanker_s012.slog  log_flanker_s021.slog\r\n",
      "log_flanker_s004.slog  log_flanker_s013.slog  log_flanker_s022.slog\r\n",
      "log_flanker_s005.slog  log_flanker_s014.slog  log_flanker_s023.slog\r\n",
      "log_flanker_s006.slog  log_flanker_s015.slog  log_flanker_s024.slog\r\n",
      "log_flanker_s007.slog  log_flanker_s016.slog\r\n",
      "log_flanker_s008.slog  log_flanker_s017.slog\r\n"
     ]
    }
   ],
   "source": [
    "ls flanker_dat"
   ]
  },
  {
   "cell_type": "code",
   "execution_count": 13,
   "metadata": {},
   "outputs": [],
   "source": [
    "from smile.log import log2dl\n",
    "import numpy as np\n",
    "from scipy import stats\n",
    "import pandas as pd\n",
    "from glob import glob\n",
    "import os\n",
    "import shutil"
   ]
  },
  {
   "cell_type": "markdown",
   "metadata": {
    "slideshow": {
     "slide_type": "slide"
    }
   },
   "source": [
    "## Glob?\n",
    "\n",
    "- Allows for pattern matching for files\n",
    "- Here we want to return a list of all slogs matching a specific pattern"
   ]
  },
  {
   "cell_type": "code",
   "execution_count": 16,
   "metadata": {},
   "outputs": [
    {
     "data": {
      "text/plain": [
       "['flanker_dat/log_flanker_s015.slog',\n",
       " 'flanker_dat/log_flanker_s007.slog',\n",
       " 'flanker_dat/log_flanker_s024.slog',\n",
       " 'flanker_dat/log_flanker_s002.slog',\n",
       " 'flanker_dat/log_flanker_s003.slog',\n",
       " 'flanker_dat/log_flanker_s010.slog',\n",
       " 'flanker_dat/log_flanker_s022.slog',\n",
       " 'flanker_dat/log_flanker_s012.slog',\n",
       " 'flanker_dat/log_flanker_s008.slog',\n",
       " 'flanker_dat/log_flanker_s013.slog',\n",
       " 'flanker_dat/log_flanker_s011.slog',\n",
       " 'flanker_dat/log_flanker_s021.slog',\n",
       " 'flanker_dat/log_flanker_s016.slog',\n",
       " 'flanker_dat/log_flanker_s001.slog',\n",
       " 'flanker_dat/log_flanker_s019.slog',\n",
       " 'flanker_dat/log_flanker_s005.slog',\n",
       " 'flanker_dat/log_flanker_s018.slog',\n",
       " 'flanker_dat/log_flanker_s014.slog',\n",
       " 'flanker_dat/log_flanker_s023.slog',\n",
       " 'flanker_dat/log_flanker_s020.slog',\n",
       " 'flanker_dat/log_flanker_s000.slog',\n",
       " 'flanker_dat/log_flanker_s004.slog',\n",
       " 'flanker_dat/log_flanker_s009.slog',\n",
       " 'flanker_dat/log_flanker_s017.slog',\n",
       " 'flanker_dat/log_flanker_s006.slog']"
      ]
     },
     "execution_count": 16,
     "metadata": {},
     "output_type": "execute_result"
    }
   ],
   "source": [
    "# note the results are not sorted, but we can sort them after\n",
    "glob('flanker_dat/log_flanker_s???.slog')"
   ]
  },
  {
   "cell_type": "markdown",
   "metadata": {
    "slideshow": {
     "slide_type": "slide"
    }
   },
   "source": [
    "## Manipulating paths with `os.path`\n",
    "\n",
    "- Different operation systems have different ways of dealing with directories\n",
    "  - Windows separate directories with `\\`\n",
    "  - Most others use `/`\n",
    "- Python can handle processing paths for you with the `os.path` module"
   ]
  },
  {
   "cell_type": "code",
   "execution_count": 17,
   "metadata": {},
   "outputs": [
    {
     "data": {
      "text/plain": [
       "('data/flanker_dat', 'log_flanker_s002.slog')"
      ]
     },
     "execution_count": 17,
     "metadata": {},
     "output_type": "execute_result"
    }
   ],
   "source": [
    "# split up the path\n",
    "filepath = 'data/flanker_dat/log_flanker_s002.slog'\n",
    "os.path.split(filepath)"
   ]
  },
  {
   "cell_type": "code",
   "execution_count": 18,
   "metadata": {},
   "outputs": [
    {
     "data": {
      "text/plain": [
       "('log_flanker_s002', '.slog')"
      ]
     },
     "execution_count": 18,
     "metadata": {},
     "output_type": "execute_result"
    }
   ],
   "source": [
    "# now we need to pull of the file extension\n",
    "os.path.splitext(os.path.split(filepath)[1])"
   ]
  },
  {
   "cell_type": "code",
   "execution_count": 19,
   "metadata": {},
   "outputs": [
    {
     "data": {
      "text/plain": [
       "'s002'"
      ]
     },
     "execution_count": 19,
     "metadata": {},
     "output_type": "execute_result"
    }
   ],
   "source": [
    "# and finally extract the subject id with a standard string split\n",
    "os.path.splitext(os.path.split(filepath)[1])[0].split('_')[-1]"
   ]
  },
  {
   "cell_type": "markdown",
   "metadata": {
    "slideshow": {
     "slide_type": "slide"
    }
   },
   "source": [
    "## Custom SLOG loading function"
   ]
  },
  {
   "cell_type": "code",
   "execution_count": 20,
   "metadata": {},
   "outputs": [],
   "source": [
    "# custom function to load slogs\n",
    "def load_all_subj_logs(data_dir, log_file):\n",
    "    # load in a list of all the subj\n",
    "    subjs = [os.path.splitext(os.path.split(filepath)[1])[0].split('_')[-1]\n",
    "             for filepath in glob(os.path.join(data_dir, log_file + '*.slog'))]\n",
    "    subjs.sort()\n",
    "\n",
    "    # loop over subj and their data\n",
    "    all_dat = []\n",
    "    for subj in subjs:\n",
    "        # set the file\n",
    "        log_path = os.path.join(data_dir, log_file+'_'+subj+'.slog')\n",
    "        #print(log_path)\n",
    "\n",
    "        # load the data\n",
    "        try:\n",
    "            all_dat.extend(log2dl(log_path, subj=subj))\n",
    "        except:\n",
    "            pass\n",
    "\n",
    "    df = pd.DataFrame(all_dat)\n",
    "    \n",
    "    return df"
   ]
  },
  {
   "cell_type": "markdown",
   "metadata": {
    "slideshow": {
     "slide_type": "slide"
    }
   },
   "source": [
    "## Load in all the data"
   ]
  },
  {
   "cell_type": "code",
   "execution_count": 21,
   "metadata": {},
   "outputs": [
    {
     "data": {
      "text/html": [
       "<div>\n",
       "<style scoped>\n",
       "    .dataframe tbody tr th:only-of-type {\n",
       "        vertical-align: middle;\n",
       "    }\n",
       "\n",
       "    .dataframe tbody tr th {\n",
       "        vertical-align: top;\n",
       "    }\n",
       "\n",
       "    .dataframe thead th {\n",
       "        text-align: right;\n",
       "    }\n",
       "</style>\n",
       "<table border=\"1\" class=\"dataframe\">\n",
       "  <thead>\n",
       "    <tr style=\"text-align: right;\">\n",
       "      <th></th>\n",
       "      <th>resp_map_left</th>\n",
       "      <th>resp_map_right</th>\n",
       "      <th>block_num</th>\n",
       "      <th>trial_num</th>\n",
       "      <th>stim_on_time</th>\n",
       "      <th>stim_on_error</th>\n",
       "      <th>resp</th>\n",
       "      <th>resp_time_time</th>\n",
       "      <th>resp_time_error</th>\n",
       "      <th>rt</th>\n",
       "      <th>correct</th>\n",
       "      <th>location_0</th>\n",
       "      <th>location_1</th>\n",
       "      <th>log_time</th>\n",
       "      <th>condition</th>\n",
       "      <th>direction</th>\n",
       "      <th>stimulus</th>\n",
       "      <th>subj</th>\n",
       "      <th>log_num</th>\n",
       "    </tr>\n",
       "  </thead>\n",
       "  <tbody>\n",
       "    <tr>\n",
       "      <th>0</th>\n",
       "      <td>F</td>\n",
       "      <td>J</td>\n",
       "      <td>0.0</td>\n",
       "      <td>0.0</td>\n",
       "      <td>249613.254891</td>\n",
       "      <td>0.0</td>\n",
       "      <td>J</td>\n",
       "      <td>249616.094203</td>\n",
       "      <td>0.009599</td>\n",
       "      <td>2.839313</td>\n",
       "      <td>True</td>\n",
       "      <td>785.943662</td>\n",
       "      <td>947.191251</td>\n",
       "      <td>249616.754529</td>\n",
       "      <td>congruent</td>\n",
       "      <td>right</td>\n",
       "      <td>&gt;&gt;&gt;&gt;&gt;&gt;&gt;</td>\n",
       "      <td>s000</td>\n",
       "      <td>0</td>\n",
       "    </tr>\n",
       "    <tr>\n",
       "      <th>1</th>\n",
       "      <td>F</td>\n",
       "      <td>J</td>\n",
       "      <td>0.0</td>\n",
       "      <td>1.0</td>\n",
       "      <td>249616.788268</td>\n",
       "      <td>0.0</td>\n",
       "      <td>J</td>\n",
       "      <td>249618.508490</td>\n",
       "      <td>0.000162</td>\n",
       "      <td>1.720221</td>\n",
       "      <td>True</td>\n",
       "      <td>1167.172787</td>\n",
       "      <td>1046.039929</td>\n",
       "      <td>249619.114608</td>\n",
       "      <td>incongruent</td>\n",
       "      <td>right</td>\n",
       "      <td>&lt;&lt;&lt;&gt;&lt;&lt;&lt;</td>\n",
       "      <td>s000</td>\n",
       "      <td>0</td>\n",
       "    </tr>\n",
       "    <tr>\n",
       "      <th>2</th>\n",
       "      <td>F</td>\n",
       "      <td>J</td>\n",
       "      <td>0.0</td>\n",
       "      <td>2.0</td>\n",
       "      <td>249619.153833</td>\n",
       "      <td>0.0</td>\n",
       "      <td>F</td>\n",
       "      <td>249620.227561</td>\n",
       "      <td>0.009391</td>\n",
       "      <td>1.073728</td>\n",
       "      <td>True</td>\n",
       "      <td>918.107885</td>\n",
       "      <td>998.335457</td>\n",
       "      <td>249621.140820</td>\n",
       "      <td>incongruent</td>\n",
       "      <td>left</td>\n",
       "      <td>&gt;&gt;&gt;&lt;&gt;&gt;&gt;</td>\n",
       "      <td>s000</td>\n",
       "      <td>0</td>\n",
       "    </tr>\n",
       "    <tr>\n",
       "      <th>3</th>\n",
       "      <td>F</td>\n",
       "      <td>J</td>\n",
       "      <td>0.0</td>\n",
       "      <td>3.0</td>\n",
       "      <td>249621.171137</td>\n",
       "      <td>0.0</td>\n",
       "      <td>F</td>\n",
       "      <td>249624.694328</td>\n",
       "      <td>0.009471</td>\n",
       "      <td>3.523191</td>\n",
       "      <td>True</td>\n",
       "      <td>1351.709251</td>\n",
       "      <td>693.928666</td>\n",
       "      <td>249625.293006</td>\n",
       "      <td>incongruent</td>\n",
       "      <td>left</td>\n",
       "      <td>&gt;&gt;&gt;&lt;&gt;&gt;&gt;</td>\n",
       "      <td>s000</td>\n",
       "      <td>0</td>\n",
       "    </tr>\n",
       "    <tr>\n",
       "      <th>4</th>\n",
       "      <td>F</td>\n",
       "      <td>J</td>\n",
       "      <td>0.0</td>\n",
       "      <td>4.0</td>\n",
       "      <td>249625.321733</td>\n",
       "      <td>0.0</td>\n",
       "      <td>F</td>\n",
       "      <td>249626.794440</td>\n",
       "      <td>0.009338</td>\n",
       "      <td>1.472707</td>\n",
       "      <td>True</td>\n",
       "      <td>904.081606</td>\n",
       "      <td>995.939834</td>\n",
       "      <td>249627.558606</td>\n",
       "      <td>mix</td>\n",
       "      <td>left</td>\n",
       "      <td>&lt;&gt;&gt;&lt;&gt;&gt;&lt;</td>\n",
       "      <td>s000</td>\n",
       "      <td>0</td>\n",
       "    </tr>\n",
       "  </tbody>\n",
       "</table>\n",
       "</div>"
      ],
      "text/plain": [
       "  resp_map_left resp_map_right  block_num  trial_num   stim_on_time  \\\n",
       "0             F              J        0.0        0.0  249613.254891   \n",
       "1             F              J        0.0        1.0  249616.788268   \n",
       "2             F              J        0.0        2.0  249619.153833   \n",
       "3             F              J        0.0        3.0  249621.171137   \n",
       "4             F              J        0.0        4.0  249625.321733   \n",
       "\n",
       "   stim_on_error resp  resp_time_time  resp_time_error        rt correct  \\\n",
       "0            0.0    J   249616.094203         0.009599  2.839313    True   \n",
       "1            0.0    J   249618.508490         0.000162  1.720221    True   \n",
       "2            0.0    F   249620.227561         0.009391  1.073728    True   \n",
       "3            0.0    F   249624.694328         0.009471  3.523191    True   \n",
       "4            0.0    F   249626.794440         0.009338  1.472707    True   \n",
       "\n",
       "    location_0   location_1       log_time    condition direction stimulus  \\\n",
       "0   785.943662   947.191251  249616.754529    congruent     right  >>>>>>>   \n",
       "1  1167.172787  1046.039929  249619.114608  incongruent     right  <<<><<<   \n",
       "2   918.107885   998.335457  249621.140820  incongruent      left  >>><>>>   \n",
       "3  1351.709251   693.928666  249625.293006  incongruent      left  >>><>>>   \n",
       "4   904.081606   995.939834  249627.558606          mix      left  <>><>><   \n",
       "\n",
       "   subj  log_num  \n",
       "0  s000        0  \n",
       "1  s000        0  \n",
       "2  s000        0  \n",
       "3  s000        0  \n",
       "4  s000        0  "
      ]
     },
     "execution_count": 21,
     "metadata": {},
     "output_type": "execute_result"
    }
   ],
   "source": [
    "# load the data from each task\n",
    "data_dir = 'flanker_dat'\n",
    "df = load_all_subj_logs(data_dir, 'log_flanker')\n",
    "df.head()"
   ]
  },
  {
   "cell_type": "markdown",
   "metadata": {
    "slideshow": {
     "slide_type": "slide"
    }
   },
   "source": [
    "## Some data clean-up"
   ]
  },
  {
   "cell_type": "code",
   "execution_count": 37,
   "metadata": {},
   "outputs": [
    {
     "data": {
      "text/plain": [
       "Index(['resp_map_left', 'resp_map_right', 'block_num', 'trial_num',\n",
       "       'stim_on_time', 'stim_on_error', 'resp', 'resp_time_time',\n",
       "       'resp_time_error', 'rt', 'correct', 'location_0', 'location_1',\n",
       "       'log_time', 'condition', 'direction', 'stimulus', 'subj', 'log_num',\n",
       "       'log_rt', 'dx'],\n",
       "      dtype='object')"
      ]
     },
     "execution_count": 37,
     "metadata": {},
     "output_type": "execute_result"
    }
   ],
   "source": [
    "# add in log_rt columns\n",
    "df['log_rt'] = np.log(df['rt'])\n",
    "\n",
    "# calculate change in x from previous location\n",
    "df['dx'] = np.concatenate([[np.nan], \n",
    "                np.array(df['location_0'][1:]) - \n",
    "                np.array(df['location_0'][:-1])])\n",
    "# must set all first trials to nan\n",
    "df.loc[df['trial_num']==0, 'dx'] = np.nan\n",
    "\n",
    "# show the columns\n",
    "df.columns"
   ]
  },
  {
   "cell_type": "markdown",
   "metadata": {
    "slideshow": {
     "slide_type": "slide"
    }
   },
   "source": [
    "## Check Flanker Baseline Performance\n",
    "\n",
    "- We want to calculate mean performance in the congruent trials and run a binomial test on each participant\n",
    "- How can we do this efficiently with Pandas?"
   ]
  },
  {
   "cell_type": "markdown",
   "metadata": {
    "slideshow": {
     "slide_type": "slide"
    }
   },
   "source": [
    "## Start with a `groupby`\n",
    "\n",
    "- We know we can group rows of data by subject and apply a function to specific columns"
   ]
  },
  {
   "cell_type": "code",
   "execution_count": 44,
   "metadata": {},
   "outputs": [
    {
     "data": {
      "text/plain": [
       "subj\n",
       "s000    0.984375\n",
       "s001     0.96875\n",
       "s002     0.96875\n",
       "s003         1.0\n",
       "s004         1.0\n",
       "s005         1.0\n",
       "s006    0.984375\n",
       "s007         1.0\n",
       "s008    0.953125\n",
       "s009    0.984375\n",
       "s010         1.0\n",
       "s011         1.0\n",
       "s012         1.0\n",
       "s013         1.0\n",
       "s014         1.0\n",
       "s015         1.0\n",
       "s016         1.0\n",
       "s017         1.0\n",
       "s018         NaN\n",
       "s019         1.0\n",
       "s020         1.0\n",
       "s021         1.0\n",
       "s022     0.96875\n",
       "s023      0.9375\n",
       "s024     0.96875\n",
       "Name: correct, dtype: object"
      ]
     },
     "execution_count": 44,
     "metadata": {},
     "output_type": "execute_result"
    }
   ],
   "source": [
    "df[df.condition=='congruent'].groupby(['subj'])['correct'].mean()"
   ]
  },
  {
   "cell_type": "code",
   "execution_count": 54,
   "metadata": {},
   "outputs": [
    {
     "data": {
      "text/plain": [
       "Index([3457, 3461, 3465, 3466], dtype='int64')"
      ]
     },
     "execution_count": 54,
     "metadata": {},
     "output_type": "execute_result"
    }
   ],
   "source": [
    "df[df.condition=='congruent'].groupby(['subj']).groups['s018']"
   ]
  },
  {
   "cell_type": "code",
   "execution_count": 55,
   "metadata": {},
   "outputs": [],
   "source": [
    "# get rid of that subj with very little data\n",
    "df = df.loc[df['subj']!='s018']"
   ]
  },
  {
   "cell_type": "code",
   "execution_count": 56,
   "metadata": {},
   "outputs": [
    {
     "data": {
      "text/plain": [
       "subj  condition  \n",
       "s000  congruent      0.984375\n",
       "      incongruent    0.984375\n",
       "      mix             0.96875\n",
       "s001  congruent       0.96875\n",
       "      incongruent      0.9375\n",
       "                       ...   \n",
       "s023  incongruent    0.984375\n",
       "      mix            0.984375\n",
       "s024  congruent       0.96875\n",
       "      incongruent    0.984375\n",
       "      mix                 1.0\n",
       "Name: correct, Length: 72, dtype: object"
      ]
     },
     "execution_count": 56,
     "metadata": {},
     "output_type": "execute_result"
    }
   ],
   "source": [
    "df.groupby(['subj', 'condition'])['correct'].mean()"
   ]
  },
  {
   "cell_type": "markdown",
   "metadata": {
    "slideshow": {
     "slide_type": "slide"
    }
   },
   "source": [
    "## The `agg` method can help\n",
    "\n",
    "- `agg` allows us to run more than one function on each group\n",
    "- Can provide either a string or the actual function\n",
    "- We need the `sum` and the `count` for the binomial test"
   ]
  },
  {
   "cell_type": "code",
   "execution_count": 57,
   "metadata": {},
   "outputs": [
    {
     "data": {
      "text/html": [
       "<div>\n",
       "<style scoped>\n",
       "    .dataframe tbody tr th:only-of-type {\n",
       "        vertical-align: middle;\n",
       "    }\n",
       "\n",
       "    .dataframe tbody tr th {\n",
       "        vertical-align: top;\n",
       "    }\n",
       "\n",
       "    .dataframe thead th {\n",
       "        text-align: right;\n",
       "    }\n",
       "</style>\n",
       "<table border=\"1\" class=\"dataframe\">\n",
       "  <thead>\n",
       "    <tr style=\"text-align: right;\">\n",
       "      <th></th>\n",
       "      <th>sum</th>\n",
       "      <th>count</th>\n",
       "      <th>mean</th>\n",
       "    </tr>\n",
       "    <tr>\n",
       "      <th>subj</th>\n",
       "      <th></th>\n",
       "      <th></th>\n",
       "      <th></th>\n",
       "    </tr>\n",
       "  </thead>\n",
       "  <tbody>\n",
       "    <tr>\n",
       "      <th>s014</th>\n",
       "      <td>64</td>\n",
       "      <td>64</td>\n",
       "      <td>1.0</td>\n",
       "    </tr>\n",
       "    <tr>\n",
       "      <th>s015</th>\n",
       "      <td>64</td>\n",
       "      <td>64</td>\n",
       "      <td>1.0</td>\n",
       "    </tr>\n",
       "    <tr>\n",
       "      <th>s016</th>\n",
       "      <td>64</td>\n",
       "      <td>64</td>\n",
       "      <td>1.0</td>\n",
       "    </tr>\n",
       "    <tr>\n",
       "      <th>s017</th>\n",
       "      <td>64</td>\n",
       "      <td>64</td>\n",
       "      <td>1.0</td>\n",
       "    </tr>\n",
       "    <tr>\n",
       "      <th>s019</th>\n",
       "      <td>64</td>\n",
       "      <td>64</td>\n",
       "      <td>1.0</td>\n",
       "    </tr>\n",
       "    <tr>\n",
       "      <th>s020</th>\n",
       "      <td>64</td>\n",
       "      <td>64</td>\n",
       "      <td>1.0</td>\n",
       "    </tr>\n",
       "    <tr>\n",
       "      <th>s021</th>\n",
       "      <td>64</td>\n",
       "      <td>64</td>\n",
       "      <td>1.0</td>\n",
       "    </tr>\n",
       "    <tr>\n",
       "      <th>s022</th>\n",
       "      <td>62</td>\n",
       "      <td>64</td>\n",
       "      <td>0.96875</td>\n",
       "    </tr>\n",
       "    <tr>\n",
       "      <th>s023</th>\n",
       "      <td>60</td>\n",
       "      <td>64</td>\n",
       "      <td>0.9375</td>\n",
       "    </tr>\n",
       "    <tr>\n",
       "      <th>s024</th>\n",
       "      <td>62</td>\n",
       "      <td>64</td>\n",
       "      <td>0.96875</td>\n",
       "    </tr>\n",
       "  </tbody>\n",
       "</table>\n",
       "</div>"
      ],
      "text/plain": [
       "     sum  count     mean\n",
       "subj                    \n",
       "s014  64     64      1.0\n",
       "s015  64     64      1.0\n",
       "s016  64     64      1.0\n",
       "s017  64     64      1.0\n",
       "s019  64     64      1.0\n",
       "s020  64     64      1.0\n",
       "s021  64     64      1.0\n",
       "s022  62     64  0.96875\n",
       "s023  60     64   0.9375\n",
       "s024  62     64  0.96875"
      ]
     },
     "execution_count": 57,
     "metadata": {},
     "output_type": "execute_result"
    }
   ],
   "source": [
    "mperf = df[df.condition=='congruent'].groupby(['subj'])['correct'].agg(['sum', 'count', 'mean'])\n",
    "mperf.tail(10)"
   ]
  },
  {
   "cell_type": "markdown",
   "metadata": {
    "slideshow": {
     "slide_type": "slide"
    }
   },
   "source": [
    "## Use `apply` to run a function on each row\n",
    "\n",
    "- The `apply` method of a `DataFrame` allows you to...\n",
    "- Here we need to specify a custom function that uses the info from each row to call `stats.binom_test`\n",
    "  - We could have defined a separate function\n",
    "  - But here I'll use `lambda` to define a function inline, since it's only one line of code"
   ]
  },
  {
   "cell_type": "code",
   "execution_count": 58,
   "metadata": {},
   "outputs": [],
   "source": [
    "def run_binom_test(x):\n",
    "    return stats.binomtest(x['sum'], n=x['count'], \n",
    "                           p=0.5, alternative='greater'),"
   ]
  },
  {
   "cell_type": "code",
   "execution_count": 60,
   "metadata": {},
   "outputs": [
    {
     "data": {
      "text/html": [
       "<div>\n",
       "<style scoped>\n",
       "    .dataframe tbody tr th:only-of-type {\n",
       "        vertical-align: middle;\n",
       "    }\n",
       "\n",
       "    .dataframe tbody tr th {\n",
       "        vertical-align: top;\n",
       "    }\n",
       "\n",
       "    .dataframe thead th {\n",
       "        text-align: right;\n",
       "    }\n",
       "</style>\n",
       "<table border=\"1\" class=\"dataframe\">\n",
       "  <thead>\n",
       "    <tr style=\"text-align: right;\">\n",
       "      <th></th>\n",
       "      <th>sum</th>\n",
       "      <th>count</th>\n",
       "      <th>mean</th>\n",
       "      <th>binom_pval</th>\n",
       "      <th>good</th>\n",
       "    </tr>\n",
       "    <tr>\n",
       "      <th>subj</th>\n",
       "      <th></th>\n",
       "      <th></th>\n",
       "      <th></th>\n",
       "      <th></th>\n",
       "      <th></th>\n",
       "    </tr>\n",
       "  </thead>\n",
       "  <tbody>\n",
       "    <tr>\n",
       "      <th>s000</th>\n",
       "      <td>63</td>\n",
       "      <td>64</td>\n",
       "      <td>0.984375</td>\n",
       "      <td>3.523657e-18</td>\n",
       "      <td>True</td>\n",
       "    </tr>\n",
       "    <tr>\n",
       "      <th>s001</th>\n",
       "      <td>62</td>\n",
       "      <td>64</td>\n",
       "      <td>0.96875</td>\n",
       "      <td>1.128112e-16</td>\n",
       "      <td>True</td>\n",
       "    </tr>\n",
       "    <tr>\n",
       "      <th>s002</th>\n",
       "      <td>62</td>\n",
       "      <td>64</td>\n",
       "      <td>0.96875</td>\n",
       "      <td>1.128112e-16</td>\n",
       "      <td>True</td>\n",
       "    </tr>\n",
       "    <tr>\n",
       "      <th>s003</th>\n",
       "      <td>64</td>\n",
       "      <td>64</td>\n",
       "      <td>1.0</td>\n",
       "      <td>5.421011e-20</td>\n",
       "      <td>True</td>\n",
       "    </tr>\n",
       "    <tr>\n",
       "      <th>s004</th>\n",
       "      <td>64</td>\n",
       "      <td>64</td>\n",
       "      <td>1.0</td>\n",
       "      <td>5.421011e-20</td>\n",
       "      <td>True</td>\n",
       "    </tr>\n",
       "    <tr>\n",
       "      <th>s005</th>\n",
       "      <td>64</td>\n",
       "      <td>64</td>\n",
       "      <td>1.0</td>\n",
       "      <td>5.421011e-20</td>\n",
       "      <td>True</td>\n",
       "    </tr>\n",
       "    <tr>\n",
       "      <th>s006</th>\n",
       "      <td>63</td>\n",
       "      <td>64</td>\n",
       "      <td>0.984375</td>\n",
       "      <td>3.523657e-18</td>\n",
       "      <td>True</td>\n",
       "    </tr>\n",
       "    <tr>\n",
       "      <th>s007</th>\n",
       "      <td>64</td>\n",
       "      <td>64</td>\n",
       "      <td>1.0</td>\n",
       "      <td>5.421011e-20</td>\n",
       "      <td>True</td>\n",
       "    </tr>\n",
       "    <tr>\n",
       "      <th>s008</th>\n",
       "      <td>61</td>\n",
       "      <td>64</td>\n",
       "      <td>0.953125</td>\n",
       "      <td>2.371421e-15</td>\n",
       "      <td>True</td>\n",
       "    </tr>\n",
       "    <tr>\n",
       "      <th>s009</th>\n",
       "      <td>63</td>\n",
       "      <td>64</td>\n",
       "      <td>0.984375</td>\n",
       "      <td>3.523657e-18</td>\n",
       "      <td>True</td>\n",
       "    </tr>\n",
       "    <tr>\n",
       "      <th>s010</th>\n",
       "      <td>64</td>\n",
       "      <td>64</td>\n",
       "      <td>1.0</td>\n",
       "      <td>5.421011e-20</td>\n",
       "      <td>True</td>\n",
       "    </tr>\n",
       "    <tr>\n",
       "      <th>s011</th>\n",
       "      <td>64</td>\n",
       "      <td>64</td>\n",
       "      <td>1.0</td>\n",
       "      <td>5.421011e-20</td>\n",
       "      <td>True</td>\n",
       "    </tr>\n",
       "    <tr>\n",
       "      <th>s012</th>\n",
       "      <td>64</td>\n",
       "      <td>64</td>\n",
       "      <td>1.0</td>\n",
       "      <td>5.421011e-20</td>\n",
       "      <td>True</td>\n",
       "    </tr>\n",
       "    <tr>\n",
       "      <th>s013</th>\n",
       "      <td>64</td>\n",
       "      <td>64</td>\n",
       "      <td>1.0</td>\n",
       "      <td>5.421011e-20</td>\n",
       "      <td>True</td>\n",
       "    </tr>\n",
       "    <tr>\n",
       "      <th>s014</th>\n",
       "      <td>64</td>\n",
       "      <td>64</td>\n",
       "      <td>1.0</td>\n",
       "      <td>5.421011e-20</td>\n",
       "      <td>True</td>\n",
       "    </tr>\n",
       "    <tr>\n",
       "      <th>s015</th>\n",
       "      <td>64</td>\n",
       "      <td>64</td>\n",
       "      <td>1.0</td>\n",
       "      <td>5.421011e-20</td>\n",
       "      <td>True</td>\n",
       "    </tr>\n",
       "    <tr>\n",
       "      <th>s016</th>\n",
       "      <td>64</td>\n",
       "      <td>64</td>\n",
       "      <td>1.0</td>\n",
       "      <td>5.421011e-20</td>\n",
       "      <td>True</td>\n",
       "    </tr>\n",
       "    <tr>\n",
       "      <th>s017</th>\n",
       "      <td>64</td>\n",
       "      <td>64</td>\n",
       "      <td>1.0</td>\n",
       "      <td>5.421011e-20</td>\n",
       "      <td>True</td>\n",
       "    </tr>\n",
       "    <tr>\n",
       "      <th>s019</th>\n",
       "      <td>64</td>\n",
       "      <td>64</td>\n",
       "      <td>1.0</td>\n",
       "      <td>5.421011e-20</td>\n",
       "      <td>True</td>\n",
       "    </tr>\n",
       "    <tr>\n",
       "      <th>s020</th>\n",
       "      <td>64</td>\n",
       "      <td>64</td>\n",
       "      <td>1.0</td>\n",
       "      <td>5.421011e-20</td>\n",
       "      <td>True</td>\n",
       "    </tr>\n",
       "    <tr>\n",
       "      <th>s021</th>\n",
       "      <td>64</td>\n",
       "      <td>64</td>\n",
       "      <td>1.0</td>\n",
       "      <td>5.421011e-20</td>\n",
       "      <td>True</td>\n",
       "    </tr>\n",
       "    <tr>\n",
       "      <th>s022</th>\n",
       "      <td>62</td>\n",
       "      <td>64</td>\n",
       "      <td>0.96875</td>\n",
       "      <td>1.128112e-16</td>\n",
       "      <td>True</td>\n",
       "    </tr>\n",
       "    <tr>\n",
       "      <th>s023</th>\n",
       "      <td>60</td>\n",
       "      <td>64</td>\n",
       "      <td>0.9375</td>\n",
       "      <td>3.681522e-14</td>\n",
       "      <td>True</td>\n",
       "    </tr>\n",
       "    <tr>\n",
       "      <th>s024</th>\n",
       "      <td>62</td>\n",
       "      <td>64</td>\n",
       "      <td>0.96875</td>\n",
       "      <td>1.128112e-16</td>\n",
       "      <td>True</td>\n",
       "    </tr>\n",
       "  </tbody>\n",
       "</table>\n",
       "</div>"
      ],
      "text/plain": [
       "     sum  count      mean    binom_pval  good\n",
       "subj                                         \n",
       "s000  63     64  0.984375  3.523657e-18  True\n",
       "s001  62     64   0.96875  1.128112e-16  True\n",
       "s002  62     64   0.96875  1.128112e-16  True\n",
       "s003  64     64       1.0  5.421011e-20  True\n",
       "s004  64     64       1.0  5.421011e-20  True\n",
       "s005  64     64       1.0  5.421011e-20  True\n",
       "s006  63     64  0.984375  3.523657e-18  True\n",
       "s007  64     64       1.0  5.421011e-20  True\n",
       "s008  61     64  0.953125  2.371421e-15  True\n",
       "s009  63     64  0.984375  3.523657e-18  True\n",
       "s010  64     64       1.0  5.421011e-20  True\n",
       "s011  64     64       1.0  5.421011e-20  True\n",
       "s012  64     64       1.0  5.421011e-20  True\n",
       "s013  64     64       1.0  5.421011e-20  True\n",
       "s014  64     64       1.0  5.421011e-20  True\n",
       "s015  64     64       1.0  5.421011e-20  True\n",
       "s016  64     64       1.0  5.421011e-20  True\n",
       "s017  64     64       1.0  5.421011e-20  True\n",
       "s019  64     64       1.0  5.421011e-20  True\n",
       "s020  64     64       1.0  5.421011e-20  True\n",
       "s021  64     64       1.0  5.421011e-20  True\n",
       "s022  62     64   0.96875  1.128112e-16  True\n",
       "s023  60     64    0.9375  3.681522e-14  True\n",
       "s024  62     64   0.96875  1.128112e-16  True"
      ]
     },
     "execution_count": 60,
     "metadata": {},
     "output_type": "execute_result"
    }
   ],
   "source": [
    "# add the binom_test p value as a new column (axis=1 tells it to go by row)\n",
    "mperf['binom_pval'] = mperf.apply(lambda x: stats.binomtest(x['sum'], n=x['count'], \n",
    "                                                            p=0.5, \n",
    "                                                            alternative='greater').pvalue,\n",
    "                                  axis=1)\n",
    "\n",
    "# they are good if the mean is greater than 0.5 and the pval is less that .05\n",
    "mperf['good'] = (mperf['mean']>0.5) & (mperf['binom_pval'] <= 0.05)\n",
    "mperf"
   ]
  },
  {
   "cell_type": "code",
   "execution_count": 61,
   "metadata": {},
   "outputs": [
    {
     "data": {
      "text/plain": [
       "<matplotlib.lines.Line2D at 0x7f7fb64b2710>"
      ]
     },
     "execution_count": 61,
     "metadata": {},
     "output_type": "execute_result"
    },
    {
     "data": {
      "image/png": "[encoded data removed]",
      "text/plain": [
       "<Figure size 640x480 with 1 Axes>"
      ]
     },
     "metadata": {},
     "output_type": "display_data"
    }
   ],
   "source": [
    "# quick plot of performance\n",
    "ax = mperf['mean'].hist(bins='auto')\n",
    "ax.axvline(0.5, color='k', lw=3)"
   ]
  },
  {
   "cell_type": "markdown",
   "metadata": {
    "slideshow": {
     "slide_type": "slide"
    }
   },
   "source": [
    "## What about performance on all flanker conditions?\n",
    "\n",
    "- Another way to test for task compliance is to check the performance on the easiest task conditions.\n",
    "- ***Question: Did the participant perform above chance on all flanker conditions trials?***"
   ]
  },
  {
   "cell_type": "code",
   "execution_count": 62,
   "metadata": {},
   "outputs": [
    {
     "data": {
      "text/plain": [
       "<Axes: title={'center': 'log_rt'}, xlabel='[subj]'>"
      ]
     },
     "execution_count": 62,
     "metadata": {},
     "output_type": "execute_result"
    },
    {
     "data": {
      "image/png": "[encoded data removed]",
      "text/plain": [
       "<Figure size 1200x500 with 1 Axes>"
      ]
     },
     "metadata": {},
     "output_type": "display_data"
    }
   ],
   "source": [
    "df.boxplot(column=['log_rt'], by=['subj'], figsize=(12,5))"
   ]
  },
  {
   "cell_type": "code",
   "execution_count": 63,
   "metadata": {},
   "outputs": [
    {
     "data": {
      "text/html": [
       "<div>\n",
       "<style scoped>\n",
       "    .dataframe tbody tr th:only-of-type {\n",
       "        vertical-align: middle;\n",
       "    }\n",
       "\n",
       "    .dataframe tbody tr th {\n",
       "        vertical-align: top;\n",
       "    }\n",
       "\n",
       "    .dataframe thead th {\n",
       "        text-align: right;\n",
       "    }\n",
       "</style>\n",
       "<table border=\"1\" class=\"dataframe\">\n",
       "  <thead>\n",
       "    <tr style=\"text-align: right;\">\n",
       "      <th></th>\n",
       "      <th></th>\n",
       "      <th>sum</th>\n",
       "      <th>count</th>\n",
       "      <th>mean</th>\n",
       "      <th>binom_pval</th>\n",
       "    </tr>\n",
       "    <tr>\n",
       "      <th>subj</th>\n",
       "      <th>condition</th>\n",
       "      <th></th>\n",
       "      <th></th>\n",
       "      <th></th>\n",
       "      <th></th>\n",
       "    </tr>\n",
       "  </thead>\n",
       "  <tbody>\n",
       "    <tr>\n",
       "      <th rowspan=\"3\" valign=\"top\">s000</th>\n",
       "      <th>congruent</th>\n",
       "      <td>63</td>\n",
       "      <td>64</td>\n",
       "      <td>0.984375</td>\n",
       "      <td>7.047314e-18</td>\n",
       "    </tr>\n",
       "    <tr>\n",
       "      <th>incongruent</th>\n",
       "      <td>63</td>\n",
       "      <td>64</td>\n",
       "      <td>0.984375</td>\n",
       "      <td>7.047314e-18</td>\n",
       "    </tr>\n",
       "    <tr>\n",
       "      <th>mix</th>\n",
       "      <td>62</td>\n",
       "      <td>64</td>\n",
       "      <td>0.96875</td>\n",
       "      <td>2.256225e-16</td>\n",
       "    </tr>\n",
       "    <tr>\n",
       "      <th rowspan=\"2\" valign=\"top\">s001</th>\n",
       "      <th>congruent</th>\n",
       "      <td>62</td>\n",
       "      <td>64</td>\n",
       "      <td>0.96875</td>\n",
       "      <td>2.256225e-16</td>\n",
       "    </tr>\n",
       "    <tr>\n",
       "      <th>incongruent</th>\n",
       "      <td>60</td>\n",
       "      <td>64</td>\n",
       "      <td>0.9375</td>\n",
       "      <td>7.363045e-14</td>\n",
       "    </tr>\n",
       "    <tr>\n",
       "      <th>...</th>\n",
       "      <th>...</th>\n",
       "      <td>...</td>\n",
       "      <td>...</td>\n",
       "      <td>...</td>\n",
       "      <td>...</td>\n",
       "    </tr>\n",
       "    <tr>\n",
       "      <th rowspan=\"2\" valign=\"top\">s023</th>\n",
       "      <th>incongruent</th>\n",
       "      <td>63</td>\n",
       "      <td>64</td>\n",
       "      <td>0.984375</td>\n",
       "      <td>7.047314e-18</td>\n",
       "    </tr>\n",
       "    <tr>\n",
       "      <th>mix</th>\n",
       "      <td>63</td>\n",
       "      <td>64</td>\n",
       "      <td>0.984375</td>\n",
       "      <td>7.047314e-18</td>\n",
       "    </tr>\n",
       "    <tr>\n",
       "      <th rowspan=\"3\" valign=\"top\">s024</th>\n",
       "      <th>congruent</th>\n",
       "      <td>62</td>\n",
       "      <td>64</td>\n",
       "      <td>0.96875</td>\n",
       "      <td>2.256225e-16</td>\n",
       "    </tr>\n",
       "    <tr>\n",
       "      <th>incongruent</th>\n",
       "      <td>63</td>\n",
       "      <td>64</td>\n",
       "      <td>0.984375</td>\n",
       "      <td>7.047314e-18</td>\n",
       "    </tr>\n",
       "    <tr>\n",
       "      <th>mix</th>\n",
       "      <td>64</td>\n",
       "      <td>64</td>\n",
       "      <td>1.0</td>\n",
       "      <td>1.084202e-19</td>\n",
       "    </tr>\n",
       "  </tbody>\n",
       "</table>\n",
       "<p>72 rows × 4 columns</p>\n",
       "</div>"
      ],
      "text/plain": [
       "                 sum  count      mean    binom_pval\n",
       "subj condition                                     \n",
       "s000 congruent    63     64  0.984375  7.047314e-18\n",
       "     incongruent  63     64  0.984375  7.047314e-18\n",
       "     mix          62     64   0.96875  2.256225e-16\n",
       "s001 congruent    62     64   0.96875  2.256225e-16\n",
       "     incongruent  60     64    0.9375  7.363045e-14\n",
       "...               ..    ...       ...           ...\n",
       "s023 incongruent  63     64  0.984375  7.047314e-18\n",
       "     mix          63     64  0.984375  7.047314e-18\n",
       "s024 congruent    62     64   0.96875  2.256225e-16\n",
       "     incongruent  63     64  0.984375  7.047314e-18\n",
       "     mix          64     64       1.0  1.084202e-19\n",
       "\n",
       "[72 rows x 4 columns]"
      ]
     },
     "execution_count": 63,
     "metadata": {},
     "output_type": "execute_result"
    }
   ],
   "source": [
    "fperf = df.groupby(['subj', 'condition'])['correct'].agg(['sum', 'count', 'mean'])\n",
    "fperf['binom_pval'] = fperf.apply(lambda x: stats.binomtest(x['sum'], n=x['count'], \n",
    "                                                             p=0.5, \n",
    "                                                            alternative='two-sided').pvalue,\n",
    "                                  axis=1)\n",
    "fperf"
   ]
  },
  {
   "cell_type": "markdown",
   "metadata": {
    "slideshow": {
     "slide_type": "slide"
    }
   },
   "source": [
    "## Congruency effect\n",
    "\n",
    "- The typical congruency effect is that participants show lower accuracy and slower reaction times in the incongruent relative to the congruent conditions\n",
    "- Let's check that for all our participants!"
   ]
  },
  {
   "cell_type": "markdown",
   "metadata": {},
   "source": [
    "### Performance by condition"
   ]
  },
  {
   "cell_type": "code",
   "execution_count": 64,
   "metadata": {},
   "outputs": [
    {
     "data": {
      "text/plain": [
       "Text(0.5, 0, 'Condition')"
      ]
     },
     "execution_count": 64,
     "metadata": {},
     "output_type": "execute_result"
    },
    {
     "data": {
      "image/png": "[encoded data removed]",
      "text/plain": [
       "<Figure size 640x480 with 1 Axes>"
      ]
     },
     "metadata": {},
     "output_type": "display_data"
    }
   ],
   "source": [
    "# Let's make a boxplot of the performance values\n",
    "ax = fperf.boxplot(column='mean', by=['condition'])\n",
    "ax.set_title('')\n",
    "ax.set_ylabel('Performance')\n",
    "ax.set_xlabel('Condition')"
   ]
  },
  {
   "cell_type": "markdown",
   "metadata": {
    "slideshow": {
     "slide_type": "slide"
    }
   },
   "source": [
    "### RT by condition"
   ]
  },
  {
   "cell_type": "code",
   "execution_count": 65,
   "metadata": {},
   "outputs": [
    {
     "data": {
      "text/plain": [
       "Text(0.5, 0, 'Condition')"
      ]
     },
     "execution_count": 65,
     "metadata": {},
     "output_type": "execute_result"
    },
    {
     "data": {
      "image/png": "[encoded data removed]",
      "text/plain": [
       "<Figure size 640x480 with 1 Axes>"
      ]
     },
     "metadata": {},
     "output_type": "display_data"
    }
   ],
   "source": [
    "fres = df.groupby(['subj', 'condition'])['log_rt'].mean().reset_index()\n",
    "ax = fres.boxplot(column='log_rt', by=['condition'])\n",
    "ax.set_title('')\n",
    "ax.set_ylabel('Log(RT)')\n",
    "ax.set_xlabel('Condition')"
   ]
  },
  {
   "cell_type": "markdown",
   "metadata": {
    "slideshow": {
     "slide_type": "slide"
    }
   },
   "source": [
    "## Error bars for repeated measures designs\n",
    "\n",
    "- The box plots above do not actually show us the relationships between the conditions that indicate significance\n",
    "- We have a repeated-measures design, with different conditions *within* subjects\n",
    "- Thus, the real comparisons of interest are *within* subjects, not *between* subjects\n",
    "  - In the box plots, the between-subject variability is masking the within-subject effects!\n",
    "- To help us visualize the differences more-accurately, we can calculate within-subject corrected error bars\n",
    "  - All this entails is removing the within-subject mean across conditions before calculating error"
   ]
  },
  {
   "cell_type": "code",
   "execution_count": 66,
   "metadata": {},
   "outputs": [],
   "source": [
    "# some folks wrote a useful script for calculating these for us!\n",
    "from ci_within import ci_within"
   ]
  },
  {
   "cell_type": "code",
   "execution_count": 67,
   "metadata": {},
   "outputs": [
    {
     "name": "stderr",
     "output_type": "stream",
     "text": [
      "/home/per/OneDrive/class/compsy/lessons/ci_within.py:58: FutureWarning: The provided callable <function mean at 0x7f80040a7130> is currently using SeriesGroupBy.mean. In a future version of pandas, the provided callable will be used directly. To keep current behavior pass the string \"mean\" instead.\n",
      "  out = df.groupby(withinvars)[measvar].agg(aggfuncs)\n",
      "/home/per/OneDrive/class/compsy/lessons/ci_within.py:58: FutureWarning: The provided callable <function std at 0x7f80040a7250> is currently using SeriesGroupBy.std. In a future version of pandas, the provided callable will be used directly. To keep current behavior pass the string \"std\" instead.\n",
      "  out = df.groupby(withinvars)[measvar].agg(aggfuncs)\n"
     ]
    },
    {
     "data": {
      "text/html": [
       "<div>\n",
       "<style scoped>\n",
       "    .dataframe tbody tr th:only-of-type {\n",
       "        vertical-align: middle;\n",
       "    }\n",
       "\n",
       "    .dataframe tbody tr th {\n",
       "        vertical-align: top;\n",
       "    }\n",
       "\n",
       "    .dataframe thead th {\n",
       "        text-align: right;\n",
       "    }\n",
       "</style>\n",
       "<table border=\"1\" class=\"dataframe\">\n",
       "  <thead>\n",
       "    <tr style=\"text-align: right;\">\n",
       "      <th></th>\n",
       "      <th></th>\n",
       "      <th>mean</th>\n",
       "      <th>std</th>\n",
       "      <th>sem</th>\n",
       "      <th>ci</th>\n",
       "      <th>len</th>\n",
       "    </tr>\n",
       "    <tr>\n",
       "      <th>condition</th>\n",
       "      <th>correct</th>\n",
       "      <th></th>\n",
       "      <th></th>\n",
       "      <th></th>\n",
       "      <th></th>\n",
       "      <th></th>\n",
       "    </tr>\n",
       "  </thead>\n",
       "  <tbody>\n",
       "    <tr>\n",
       "      <th rowspan=\"2\" valign=\"top\">congruent</th>\n",
       "      <th>False</th>\n",
       "      <td>-0.621069</td>\n",
       "      <td>0.273446</td>\n",
       "      <td>0.064452</td>\n",
       "      <td>0.135982</td>\n",
       "      <td>18</td>\n",
       "    </tr>\n",
       "    <tr>\n",
       "      <th>True</th>\n",
       "      <td>-0.449100</td>\n",
       "      <td>0.309789</td>\n",
       "      <td>0.007951</td>\n",
       "      <td>0.015596</td>\n",
       "      <td>1518</td>\n",
       "    </tr>\n",
       "    <tr>\n",
       "      <th rowspan=\"2\" valign=\"top\">incongruent</th>\n",
       "      <th>False</th>\n",
       "      <td>-0.284880</td>\n",
       "      <td>0.664926</td>\n",
       "      <td>0.087309</td>\n",
       "      <td>0.174833</td>\n",
       "      <td>58</td>\n",
       "    </tr>\n",
       "    <tr>\n",
       "      <th>True</th>\n",
       "      <td>-0.022914</td>\n",
       "      <td>0.339846</td>\n",
       "      <td>0.008840</td>\n",
       "      <td>0.017340</td>\n",
       "      <td>1478</td>\n",
       "    </tr>\n",
       "    <tr>\n",
       "      <th rowspan=\"2\" valign=\"top\">mix</th>\n",
       "      <th>False</th>\n",
       "      <td>-0.046418</td>\n",
       "      <td>0.657393</td>\n",
       "      <td>0.101438</td>\n",
       "      <td>0.204858</td>\n",
       "      <td>42</td>\n",
       "    </tr>\n",
       "    <tr>\n",
       "      <th>True</th>\n",
       "      <td>0.063450</td>\n",
       "      <td>0.363175</td>\n",
       "      <td>0.009396</td>\n",
       "      <td>0.018431</td>\n",
       "      <td>1494</td>\n",
       "    </tr>\n",
       "  </tbody>\n",
       "</table>\n",
       "</div>"
      ],
      "text/plain": [
       "                         mean       std       sem        ci   len\n",
       "condition   correct                                              \n",
       "congruent   False   -0.621069  0.273446  0.064452  0.135982    18\n",
       "            True    -0.449100  0.309789  0.007951  0.015596  1518\n",
       "incongruent False   -0.284880  0.664926  0.087309  0.174833    58\n",
       "            True    -0.022914  0.339846  0.008840  0.017340  1478\n",
       "mix         False   -0.046418  0.657393  0.101438  0.204858    42\n",
       "            True     0.063450  0.363175  0.009396  0.018431  1494"
      ]
     },
     "execution_count": 67,
     "metadata": {},
     "output_type": "execute_result"
    }
   ],
   "source": [
    "# get the error corrected by condition and whether they got it correct\n",
    "res = ci_within(df, indexvar='subj', \n",
    "                withinvars=['condition', 'correct'], \n",
    "                measvar='log_rt')\n",
    "res"
   ]
  },
  {
   "cell_type": "markdown",
   "metadata": {
    "slideshow": {
     "slide_type": "slide"
    }
   },
   "source": [
    "## Unstacking and Resetting Index\n",
    "\n",
    "- After a group-by, we often need to pivot the data so that it has the right indices for plotting\n",
    "- The `unstack` command takes a multi-level index and moves one of the row indices to a column\n",
    "- Here we'll move the `correct` row indicator to be a column indicator\n",
    "- Calling `reset_index` will fill in the values in all the index columns and add in an overall index."
   ]
  },
  {
   "cell_type": "code",
   "execution_count": 68,
   "metadata": {},
   "outputs": [
    {
     "data": {
      "text/html": [
       "<div>\n",
       "<style scoped>\n",
       "    .dataframe tbody tr th:only-of-type {\n",
       "        vertical-align: middle;\n",
       "    }\n",
       "\n",
       "    .dataframe tbody tr th {\n",
       "        vertical-align: top;\n",
       "    }\n",
       "\n",
       "    .dataframe thead tr th {\n",
       "        text-align: left;\n",
       "    }\n",
       "</style>\n",
       "<table border=\"1\" class=\"dataframe\">\n",
       "  <thead>\n",
       "    <tr>\n",
       "      <th></th>\n",
       "      <th>condition</th>\n",
       "      <th colspan=\"2\" halign=\"left\">mean</th>\n",
       "      <th colspan=\"2\" halign=\"left\">std</th>\n",
       "      <th colspan=\"2\" halign=\"left\">sem</th>\n",
       "      <th colspan=\"2\" halign=\"left\">ci</th>\n",
       "      <th colspan=\"2\" halign=\"left\">len</th>\n",
       "    </tr>\n",
       "    <tr>\n",
       "      <th>correct</th>\n",
       "      <th></th>\n",
       "      <th>False</th>\n",
       "      <th>True</th>\n",
       "      <th>False</th>\n",
       "      <th>True</th>\n",
       "      <th>False</th>\n",
       "      <th>True</th>\n",
       "      <th>False</th>\n",
       "      <th>True</th>\n",
       "      <th>False</th>\n",
       "      <th>True</th>\n",
       "    </tr>\n",
       "  </thead>\n",
       "  <tbody>\n",
       "    <tr>\n",
       "      <th>0</th>\n",
       "      <td>congruent</td>\n",
       "      <td>-0.621069</td>\n",
       "      <td>-0.449100</td>\n",
       "      <td>0.273446</td>\n",
       "      <td>0.309789</td>\n",
       "      <td>0.064452</td>\n",
       "      <td>0.007951</td>\n",
       "      <td>0.135982</td>\n",
       "      <td>0.015596</td>\n",
       "      <td>18</td>\n",
       "      <td>1518</td>\n",
       "    </tr>\n",
       "    <tr>\n",
       "      <th>1</th>\n",
       "      <td>incongruent</td>\n",
       "      <td>-0.284880</td>\n",
       "      <td>-0.022914</td>\n",
       "      <td>0.664926</td>\n",
       "      <td>0.339846</td>\n",
       "      <td>0.087309</td>\n",
       "      <td>0.008840</td>\n",
       "      <td>0.174833</td>\n",
       "      <td>0.017340</td>\n",
       "      <td>58</td>\n",
       "      <td>1478</td>\n",
       "    </tr>\n",
       "    <tr>\n",
       "      <th>2</th>\n",
       "      <td>mix</td>\n",
       "      <td>-0.046418</td>\n",
       "      <td>0.063450</td>\n",
       "      <td>0.657393</td>\n",
       "      <td>0.363175</td>\n",
       "      <td>0.101438</td>\n",
       "      <td>0.009396</td>\n",
       "      <td>0.204858</td>\n",
       "      <td>0.018431</td>\n",
       "      <td>42</td>\n",
       "      <td>1494</td>\n",
       "    </tr>\n",
       "  </tbody>\n",
       "</table>\n",
       "</div>"
      ],
      "text/plain": [
       "           condition      mean                 std                 sem  \\\n",
       "correct                  False      True     False      True     False   \n",
       "0          congruent -0.621069 -0.449100  0.273446  0.309789  0.064452   \n",
       "1        incongruent -0.284880 -0.022914  0.664926  0.339846  0.087309   \n",
       "2                mix -0.046418  0.063450  0.657393  0.363175  0.101438   \n",
       "\n",
       "                         ci             len        \n",
       "correct      True     False      True False  True  \n",
       "0        0.007951  0.135982  0.015596    18  1518  \n",
       "1        0.008840  0.174833  0.017340    58  1478  \n",
       "2        0.009396  0.204858  0.018431    42  1494  "
      ]
     },
     "execution_count": 68,
     "metadata": {},
     "output_type": "execute_result"
    }
   ],
   "source": [
    "# must unstack and reset index to plot properly\n",
    "res.unstack().reset_index()"
   ]
  },
  {
   "cell_type": "code",
   "execution_count": 69,
   "metadata": {},
   "outputs": [
    {
     "data": {
      "text/plain": [
       "Text(0, 0.5, 'Log(RT)')"
      ]
     },
     "execution_count": 69,
     "metadata": {},
     "output_type": "execute_result"
    },
    {
     "data": {
      "image/png": "[encoded data removed]",
      "text/plain": [
       "<Figure size 640x480 with 1 Axes>"
      ]
     },
     "metadata": {},
     "output_type": "display_data"
    }
   ],
   "source": [
    "# plot the results\n",
    "ax = res.unstack().reset_index().plot(x='condition', y='mean', yerr='ci', kind=\"bar\")\n",
    "#ax.get_legend().remove()\n",
    "ax.set_xlabel('Condition')\n",
    "ax.set_ylabel('Log(RT)')"
   ]
  },
  {
   "cell_type": "code",
   "execution_count": 70,
   "metadata": {},
   "outputs": [
    {
     "name": "stderr",
     "output_type": "stream",
     "text": [
      "/home/per/OneDrive/class/compsy/lessons/ci_within.py:58: FutureWarning: The provided callable <function mean at 0x7f80040a7130> is currently using SeriesGroupBy.mean. In a future version of pandas, the provided callable will be used directly. To keep current behavior pass the string \"mean\" instead.\n",
      "  out = df.groupby(withinvars)[measvar].agg(aggfuncs)\n",
      "/home/per/OneDrive/class/compsy/lessons/ci_within.py:58: FutureWarning: The provided callable <function std at 0x7f80040a7250> is currently using SeriesGroupBy.std. In a future version of pandas, the provided callable will be used directly. To keep current behavior pass the string \"std\" instead.\n",
      "  out = df.groupby(withinvars)[measvar].agg(aggfuncs)\n"
     ]
    },
    {
     "data": {
      "text/plain": [
       "<Axes: xlabel='condition'>"
      ]
     },
     "execution_count": 70,
     "metadata": {},
     "output_type": "execute_result"
    },
    {
     "data": {
      "image/png": "[encoded data removed]",
      "text/plain": [
       "<Figure size 640x480 with 1 Axes>"
      ]
     },
     "metadata": {},
     "output_type": "display_data"
    }
   ],
   "source": [
    "# get the error corrected by condition and whether they got it correct\n",
    "res = ci_within(df, indexvar='subj', \n",
    "                withinvars=['condition'], \n",
    "                measvar='correct')\n",
    "res.reset_index().plot(x='condition', y='mean', yerr='ci', kind=\"line\")"
   ]
  },
  {
   "cell_type": "markdown",
   "metadata": {
    "slideshow": {
     "slide_type": "slide"
    }
   },
   "source": [
    "## Regression and beyond!\n",
    "\n",
    "- This sure looks significant, but we need to build a regression to test all these factors\n",
    "\n",
    "![](https://scipy-lectures.org/_images/math/8c27948834377cd91a6907f91d1f87acb32f1817.png)\n",
    "\n",
    "- Here `y` is the dependent variable and `x` is the independent variable(s).\n",
    "- This is also often called *endogenous* and *exogenous*."
   ]
  },
  {
   "cell_type": "markdown",
   "metadata": {
    "slideshow": {
     "slide_type": "slide"
    }
   },
   "source": [
    "## Statsmodels allows us to specify regressions as formulas\n",
    "\n",
    "- There are many ways to fit regression models that often depend on your dependent data\n",
    "  - e.g., ordinary least squares vs. logistic regression"
   ]
  },
  {
   "cell_type": "code",
   "execution_count": 71,
   "metadata": {},
   "outputs": [],
   "source": [
    "import statsmodels.formula.api as smf\n",
    "import statsmodels.api as sm"
   ]
  },
  {
   "cell_type": "markdown",
   "metadata": {
    "slideshow": {
     "slide_type": "slide"
    }
   },
   "source": [
    "### Question: Are there differences in accuracy between conditions?"
   ]
  },
  {
   "cell_type": "code",
   "execution_count": 96,
   "metadata": {},
   "outputs": [
    {
     "data": {
      "text/html": [
       "<div>\n",
       "<style scoped>\n",
       "    .dataframe tbody tr th:only-of-type {\n",
       "        vertical-align: middle;\n",
       "    }\n",
       "\n",
       "    .dataframe tbody tr th {\n",
       "        vertical-align: top;\n",
       "    }\n",
       "\n",
       "    .dataframe thead th {\n",
       "        text-align: right;\n",
       "    }\n",
       "</style>\n",
       "<table border=\"1\" class=\"dataframe\">\n",
       "  <thead>\n",
       "    <tr style=\"text-align: right;\">\n",
       "      <th></th>\n",
       "      <th>subj</th>\n",
       "      <th>condition</th>\n",
       "      <th>correct</th>\n",
       "    </tr>\n",
       "  </thead>\n",
       "  <tbody>\n",
       "    <tr>\n",
       "      <th>0</th>\n",
       "      <td>s000</td>\n",
       "      <td>congruent</td>\n",
       "      <td>0.984375</td>\n",
       "    </tr>\n",
       "    <tr>\n",
       "      <th>1</th>\n",
       "      <td>s000</td>\n",
       "      <td>incongruent</td>\n",
       "      <td>0.984375</td>\n",
       "    </tr>\n",
       "    <tr>\n",
       "      <th>2</th>\n",
       "      <td>s000</td>\n",
       "      <td>mix</td>\n",
       "      <td>0.968750</td>\n",
       "    </tr>\n",
       "    <tr>\n",
       "      <th>3</th>\n",
       "      <td>s001</td>\n",
       "      <td>congruent</td>\n",
       "      <td>0.968750</td>\n",
       "    </tr>\n",
       "    <tr>\n",
       "      <th>4</th>\n",
       "      <td>s001</td>\n",
       "      <td>incongruent</td>\n",
       "      <td>0.937500</td>\n",
       "    </tr>\n",
       "    <tr>\n",
       "      <th>...</th>\n",
       "      <td>...</td>\n",
       "      <td>...</td>\n",
       "      <td>...</td>\n",
       "    </tr>\n",
       "    <tr>\n",
       "      <th>67</th>\n",
       "      <td>s023</td>\n",
       "      <td>incongruent</td>\n",
       "      <td>0.984375</td>\n",
       "    </tr>\n",
       "    <tr>\n",
       "      <th>68</th>\n",
       "      <td>s023</td>\n",
       "      <td>mix</td>\n",
       "      <td>0.984375</td>\n",
       "    </tr>\n",
       "    <tr>\n",
       "      <th>69</th>\n",
       "      <td>s024</td>\n",
       "      <td>congruent</td>\n",
       "      <td>0.968750</td>\n",
       "    </tr>\n",
       "    <tr>\n",
       "      <th>70</th>\n",
       "      <td>s024</td>\n",
       "      <td>incongruent</td>\n",
       "      <td>0.984375</td>\n",
       "    </tr>\n",
       "    <tr>\n",
       "      <th>71</th>\n",
       "      <td>s024</td>\n",
       "      <td>mix</td>\n",
       "      <td>1.000000</td>\n",
       "    </tr>\n",
       "  </tbody>\n",
       "</table>\n",
       "<p>72 rows × 3 columns</p>\n",
       "</div>"
      ],
      "text/plain": [
       "    subj    condition   correct\n",
       "0   s000    congruent  0.984375\n",
       "1   s000  incongruent  0.984375\n",
       "2   s000          mix  0.968750\n",
       "3   s001    congruent  0.968750\n",
       "4   s001  incongruent  0.937500\n",
       "..   ...          ...       ...\n",
       "67  s023  incongruent  0.984375\n",
       "68  s023          mix  0.984375\n",
       "69  s024    congruent  0.968750\n",
       "70  s024  incongruent  0.984375\n",
       "71  s024          mix  1.000000\n",
       "\n",
       "[72 rows x 3 columns]"
      ]
     },
     "execution_count": 96,
     "metadata": {},
     "output_type": "execute_result"
    }
   ],
   "source": [
    "# first we need to get summary values for each subj\n",
    "sum_df = df.groupby(['subj', 'condition'])['correct'].mean().reset_index()\n",
    "\n",
    "# for some reason the dtype was coming back as an object\n",
    "sum_df.correct = sum_df.correct.astype(np.float64)\n",
    "sum_df"
   ]
  },
  {
   "cell_type": "code",
   "execution_count": 97,
   "metadata": {},
   "outputs": [
    {
     "data": {
      "text/html": [
       "<table class=\"simpletable\">\n",
       "<caption>OLS Regression Results</caption>\n",
       "<tr>\n",
       "  <th>Dep. Variable:</th>         <td>correct</td>     <th>  R-squared:         </th> <td>   0.093</td>\n",
       "</tr>\n",
       "<tr>\n",
       "  <th>Model:</th>                   <td>OLS</td>       <th>  Adj. R-squared:    </th> <td>   0.067</td>\n",
       "</tr>\n",
       "<tr>\n",
       "  <th>Method:</th>             <td>Least Squares</td>  <th>  F-statistic:       </th> <td>   3.544</td>\n",
       "</tr>\n",
       "<tr>\n",
       "  <th>Date:</th>             <td>Thu, 12 Oct 2023</td> <th>  Prob (F-statistic):</th>  <td>0.0343</td> \n",
       "</tr>\n",
       "<tr>\n",
       "  <th>Time:</th>                 <td>09:43:26</td>     <th>  Log-Likelihood:    </th> <td>  142.60</td>\n",
       "</tr>\n",
       "<tr>\n",
       "  <th>No. Observations:</th>      <td>    72</td>      <th>  AIC:               </th> <td>  -279.2</td>\n",
       "</tr>\n",
       "<tr>\n",
       "  <th>Df Residuals:</th>          <td>    69</td>      <th>  BIC:               </th> <td>  -272.4</td>\n",
       "</tr>\n",
       "<tr>\n",
       "  <th>Df Model:</th>              <td>     2</td>      <th>                     </th>     <td> </td>   \n",
       "</tr>\n",
       "<tr>\n",
       "  <th>Covariance Type:</th>      <td>nonrobust</td>    <th>                     </th>     <td> </td>   \n",
       "</tr>\n",
       "</table>\n",
       "<table class=\"simpletable\">\n",
       "<tr>\n",
       "              <td></td>                <th>coef</th>     <th>std err</th>      <th>t</th>      <th>P>|t|</th>  <th>[0.025</th>    <th>0.975]</th>  \n",
       "</tr>\n",
       "<tr>\n",
       "  <th>Intercept</th>                <td>    0.9883</td> <td>    0.007</td> <td>  141.939</td> <td> 0.000</td> <td>    0.974</td> <td>    1.002</td>\n",
       "</tr>\n",
       "<tr>\n",
       "  <th>condition[T.incongruent]</th> <td>   -0.0260</td> <td>    0.010</td> <td>   -2.645</td> <td> 0.010</td> <td>   -0.046</td> <td>   -0.006</td>\n",
       "</tr>\n",
       "<tr>\n",
       "  <th>condition[T.mix]</th>         <td>   -0.0156</td> <td>    0.010</td> <td>   -1.587</td> <td> 0.117</td> <td>   -0.035</td> <td>    0.004</td>\n",
       "</tr>\n",
       "</table>\n",
       "<table class=\"simpletable\">\n",
       "<tr>\n",
       "  <th>Omnibus:</th>       <td>37.431</td> <th>  Durbin-Watson:     </th> <td>   1.383</td>\n",
       "</tr>\n",
       "<tr>\n",
       "  <th>Prob(Omnibus):</th> <td> 0.000</td> <th>  Jarque-Bera (JB):  </th> <td>  81.011</td>\n",
       "</tr>\n",
       "<tr>\n",
       "  <th>Skew:</th>          <td>-1.833</td> <th>  Prob(JB):          </th> <td>2.56e-18</td>\n",
       "</tr>\n",
       "<tr>\n",
       "  <th>Kurtosis:</th>      <td> 6.683</td> <th>  Cond. No.          </th> <td>    3.73</td>\n",
       "</tr>\n",
       "</table><br/><br/>Notes:<br/>[1] Standard Errors assume that the covariance matrix of the errors is correctly specified."
      ],
      "text/latex": [
       "\\begin{center}\n",
       "\\begin{tabular}{lclc}\n",
       "\\toprule\n",
       "\\textbf{Dep. Variable:}           &     correct      & \\textbf{  R-squared:         } &     0.093   \\\\\n",
       "\\textbf{Model:}                   &       OLS        & \\textbf{  Adj. R-squared:    } &     0.067   \\\\\n",
       "\\textbf{Method:}                  &  Least Squares   & \\textbf{  F-statistic:       } &     3.544   \\\\\n",
       "\\textbf{Date:}                    & Thu, 12 Oct 2023 & \\textbf{  Prob (F-statistic):} &   0.0343    \\\\\n",
       "\\textbf{Time:}                    &     09:43:26     & \\textbf{  Log-Likelihood:    } &    142.60   \\\\\n",
       "\\textbf{No. Observations:}        &          72      & \\textbf{  AIC:               } &    -279.2   \\\\\n",
       "\\textbf{Df Residuals:}            &          69      & \\textbf{  BIC:               } &    -272.4   \\\\\n",
       "\\textbf{Df Model:}                &           2      & \\textbf{                     } &             \\\\\n",
       "\\textbf{Covariance Type:}         &    nonrobust     & \\textbf{                     } &             \\\\\n",
       "\\bottomrule\n",
       "\\end{tabular}\n",
       "\\begin{tabular}{lcccccc}\n",
       "                                  & \\textbf{coef} & \\textbf{std err} & \\textbf{t} & \\textbf{P$> |$t$|$} & \\textbf{[0.025} & \\textbf{0.975]}  \\\\\n",
       "\\midrule\n",
       "\\textbf{Intercept}                &       0.9883  &        0.007     &   141.939  &         0.000        &        0.974    &        1.002     \\\\\n",
       "\\textbf{condition[T.incongruent]} &      -0.0260  &        0.010     &    -2.645  &         0.010        &       -0.046    &       -0.006     \\\\\n",
       "\\textbf{condition[T.mix]}         &      -0.0156  &        0.010     &    -1.587  &         0.117        &       -0.035    &        0.004     \\\\\n",
       "\\bottomrule\n",
       "\\end{tabular}\n",
       "\\begin{tabular}{lclc}\n",
       "\\textbf{Omnibus:}       & 37.431 & \\textbf{  Durbin-Watson:     } &    1.383  \\\\\n",
       "\\textbf{Prob(Omnibus):} &  0.000 & \\textbf{  Jarque-Bera (JB):  } &   81.011  \\\\\n",
       "\\textbf{Skew:}          & -1.833 & \\textbf{  Prob(JB):          } & 2.56e-18  \\\\\n",
       "\\textbf{Kurtosis:}      &  6.683 & \\textbf{  Cond. No.          } &     3.73  \\\\\n",
       "\\bottomrule\n",
       "\\end{tabular}\n",
       "%\\caption{OLS Regression Results}\n",
       "\\end{center}\n",
       "\n",
       "Notes: \\newline\n",
       " [1] Standard Errors assume that the covariance matrix of the errors is correctly specified."
      ],
      "text/plain": [
       "<class 'statsmodels.iolib.summary.Summary'>\n",
       "\"\"\"\n",
       "                            OLS Regression Results                            \n",
       "==============================================================================\n",
       "Dep. Variable:                correct   R-squared:                       0.093\n",
       "Model:                            OLS   Adj. R-squared:                  0.067\n",
       "Method:                 Least Squares   F-statistic:                     3.544\n",
       "Date:                Thu, 12 Oct 2023   Prob (F-statistic):             0.0343\n",
       "Time:                        09:43:26   Log-Likelihood:                 142.60\n",
       "No. Observations:                  72   AIC:                            -279.2\n",
       "Df Residuals:                      69   BIC:                            -272.4\n",
       "Df Model:                           2                                         \n",
       "Covariance Type:            nonrobust                                         \n",
       "============================================================================================\n",
       "                               coef    std err          t      P>|t|      [0.025      0.975]\n",
       "--------------------------------------------------------------------------------------------\n",
       "Intercept                    0.9883      0.007    141.939      0.000       0.974       1.002\n",
       "condition[T.incongruent]    -0.0260      0.010     -2.645      0.010      -0.046      -0.006\n",
       "condition[T.mix]            -0.0156      0.010     -1.587      0.117      -0.035       0.004\n",
       "==============================================================================\n",
       "Omnibus:                       37.431   Durbin-Watson:                   1.383\n",
       "Prob(Omnibus):                  0.000   Jarque-Bera (JB):               81.011\n",
       "Skew:                          -1.833   Prob(JB):                     2.56e-18\n",
       "Kurtosis:                       6.683   Cond. No.                         3.73\n",
       "==============================================================================\n",
       "\n",
       "Notes:\n",
       "[1] Standard Errors assume that the covariance matrix of the errors is correctly specified.\n",
       "\"\"\""
      ]
     },
     "execution_count": 97,
     "metadata": {},
     "output_type": "execute_result"
    }
   ],
   "source": [
    "# build a least squares regression\n",
    "model = smf.ols(\"correct ~ condition\", sum_df).fit()\n",
    "model.summary()"
   ]
  },
  {
   "cell_type": "code",
   "execution_count": 98,
   "metadata": {},
   "outputs": [
    {
     "data": {
      "text/plain": [
       "<class 'statsmodels.stats.contrast.ContrastResults'>\n",
       "<F test: F=1.119107957425145, p=0.29380017352727156, df_denom=69, df_num=1>"
      ]
     },
     "execution_count": 98,
     "metadata": {},
     "output_type": "execute_result"
    }
   ],
   "source": [
    "model.f_test(\"condition[T.incongruent]=condition[T.mix]\")"
   ]
  },
  {
   "cell_type": "markdown",
   "metadata": {
    "slideshow": {
     "slide_type": "slide"
    }
   },
   "source": [
    "### Question: Are there differences in RTs between conditions?"
   ]
  },
  {
   "cell_type": "code",
   "execution_count": 99,
   "metadata": {},
   "outputs": [
    {
     "data": {
      "text/html": [
       "<div>\n",
       "<style scoped>\n",
       "    .dataframe tbody tr th:only-of-type {\n",
       "        vertical-align: middle;\n",
       "    }\n",
       "\n",
       "    .dataframe tbody tr th {\n",
       "        vertical-align: top;\n",
       "    }\n",
       "\n",
       "    .dataframe thead th {\n",
       "        text-align: right;\n",
       "    }\n",
       "</style>\n",
       "<table border=\"1\" class=\"dataframe\">\n",
       "  <thead>\n",
       "    <tr style=\"text-align: right;\">\n",
       "      <th></th>\n",
       "      <th>subj</th>\n",
       "      <th>condition</th>\n",
       "      <th>correct</th>\n",
       "      <th>log_rt</th>\n",
       "    </tr>\n",
       "  </thead>\n",
       "  <tbody>\n",
       "    <tr>\n",
       "      <th>0</th>\n",
       "      <td>s000</td>\n",
       "      <td>congruent</td>\n",
       "      <td>False</td>\n",
       "      <td>-0.019019</td>\n",
       "    </tr>\n",
       "    <tr>\n",
       "      <th>1</th>\n",
       "      <td>s000</td>\n",
       "      <td>congruent</td>\n",
       "      <td>True</td>\n",
       "      <td>-0.082375</td>\n",
       "    </tr>\n",
       "    <tr>\n",
       "      <th>2</th>\n",
       "      <td>s000</td>\n",
       "      <td>incongruent</td>\n",
       "      <td>False</td>\n",
       "      <td>0.635847</td>\n",
       "    </tr>\n",
       "    <tr>\n",
       "      <th>3</th>\n",
       "      <td>s000</td>\n",
       "      <td>incongruent</td>\n",
       "      <td>True</td>\n",
       "      <td>0.162179</td>\n",
       "    </tr>\n",
       "    <tr>\n",
       "      <th>4</th>\n",
       "      <td>s000</td>\n",
       "      <td>mix</td>\n",
       "      <td>False</td>\n",
       "      <td>0.242996</td>\n",
       "    </tr>\n",
       "    <tr>\n",
       "      <th>...</th>\n",
       "      <td>...</td>\n",
       "      <td>...</td>\n",
       "      <td>...</td>\n",
       "      <td>...</td>\n",
       "    </tr>\n",
       "    <tr>\n",
       "      <th>113</th>\n",
       "      <td>s024</td>\n",
       "      <td>congruent</td>\n",
       "      <td>False</td>\n",
       "      <td>-0.482125</td>\n",
       "    </tr>\n",
       "    <tr>\n",
       "      <th>114</th>\n",
       "      <td>s024</td>\n",
       "      <td>congruent</td>\n",
       "      <td>True</td>\n",
       "      <td>-0.441140</td>\n",
       "    </tr>\n",
       "    <tr>\n",
       "      <th>115</th>\n",
       "      <td>s024</td>\n",
       "      <td>incongruent</td>\n",
       "      <td>False</td>\n",
       "      <td>-0.329127</td>\n",
       "    </tr>\n",
       "    <tr>\n",
       "      <th>116</th>\n",
       "      <td>s024</td>\n",
       "      <td>incongruent</td>\n",
       "      <td>True</td>\n",
       "      <td>0.120897</td>\n",
       "    </tr>\n",
       "    <tr>\n",
       "      <th>117</th>\n",
       "      <td>s024</td>\n",
       "      <td>mix</td>\n",
       "      <td>True</td>\n",
       "      <td>0.146048</td>\n",
       "    </tr>\n",
       "  </tbody>\n",
       "</table>\n",
       "<p>118 rows × 4 columns</p>\n",
       "</div>"
      ],
      "text/plain": [
       "     subj    condition  correct    log_rt\n",
       "0    s000    congruent    False -0.019019\n",
       "1    s000    congruent     True -0.082375\n",
       "2    s000  incongruent    False  0.635847\n",
       "3    s000  incongruent     True  0.162179\n",
       "4    s000          mix    False  0.242996\n",
       "..    ...          ...      ...       ...\n",
       "113  s024    congruent    False -0.482125\n",
       "114  s024    congruent     True -0.441140\n",
       "115  s024  incongruent    False -0.329127\n",
       "116  s024  incongruent     True  0.120897\n",
       "117  s024          mix     True  0.146048\n",
       "\n",
       "[118 rows x 4 columns]"
      ]
     },
     "execution_count": 99,
     "metadata": {},
     "output_type": "execute_result"
    }
   ],
   "source": [
    "# first we need to get summary values for each subj\n",
    "sum_df = df.groupby(['subj', 'condition', 'correct'])['log_rt'].mean().reset_index()\n",
    "sum_df"
   ]
  },
  {
   "cell_type": "markdown",
   "metadata": {
    "slideshow": {
     "slide_type": "slide"
    }
   },
   "source": [
    "#### Full model with interaction"
   ]
  },
  {
   "cell_type": "markdown",
   "metadata": {},
   "source": [
    "log_rt ~ condition + correct + condition*correct + intercept + noise"
   ]
  },
  {
   "cell_type": "code",
   "execution_count": 100,
   "metadata": {},
   "outputs": [
    {
     "data": {
      "text/html": [
       "<table class=\"simpletable\">\n",
       "<caption>OLS Regression Results</caption>\n",
       "<tr>\n",
       "  <th>Dep. Variable:</th>         <td>log_rt</td>      <th>  R-squared:         </th> <td>   0.154</td>\n",
       "</tr>\n",
       "<tr>\n",
       "  <th>Model:</th>                   <td>OLS</td>       <th>  Adj. R-squared:    </th> <td>   0.116</td>\n",
       "</tr>\n",
       "<tr>\n",
       "  <th>Method:</th>             <td>Least Squares</td>  <th>  F-statistic:       </th> <td>   4.085</td>\n",
       "</tr>\n",
       "<tr>\n",
       "  <th>Date:</th>             <td>Thu, 12 Oct 2023</td> <th>  Prob (F-statistic):</th>  <td>0.00192</td>\n",
       "</tr>\n",
       "<tr>\n",
       "  <th>Time:</th>                 <td>09:44:22</td>     <th>  Log-Likelihood:    </th> <td> -71.764</td>\n",
       "</tr>\n",
       "<tr>\n",
       "  <th>No. Observations:</th>      <td>   118</td>      <th>  AIC:               </th> <td>   155.5</td>\n",
       "</tr>\n",
       "<tr>\n",
       "  <th>Df Residuals:</th>          <td>   112</td>      <th>  BIC:               </th> <td>   172.2</td>\n",
       "</tr>\n",
       "<tr>\n",
       "  <th>Df Model:</th>              <td>     5</td>      <th>                     </th>     <td> </td>   \n",
       "</tr>\n",
       "<tr>\n",
       "  <th>Covariance Type:</th>      <td>nonrobust</td>    <th>                     </th>     <td> </td>   \n",
       "</tr>\n",
       "</table>\n",
       "<table class=\"simpletable\">\n",
       "<tr>\n",
       "                      <td></td>                        <th>coef</th>     <th>std err</th>      <th>t</th>      <th>P>|t|</th>  <th>[0.025</th>    <th>0.975]</th>  \n",
       "</tr>\n",
       "<tr>\n",
       "  <th>Intercept</th>                                <td>   -0.4119</td> <td>    0.152</td> <td>   -2.708</td> <td> 0.008</td> <td>   -0.713</td> <td>   -0.111</td>\n",
       "</tr>\n",
       "<tr>\n",
       "  <th>condition[T.incongruent]</th>                 <td>    0.2282</td> <td>    0.186</td> <td>    1.225</td> <td> 0.223</td> <td>   -0.141</td> <td>    0.597</td>\n",
       "</tr>\n",
       "<tr>\n",
       "  <th>condition[T.mix]</th>                         <td>    0.2209</td> <td>    0.185</td> <td>    1.196</td> <td> 0.234</td> <td>   -0.145</td> <td>    0.587</td>\n",
       "</tr>\n",
       "<tr>\n",
       "  <th>correct[T.True]</th>                          <td>   -0.0385</td> <td>    0.178</td> <td>   -0.216</td> <td> 0.829</td> <td>   -0.392</td> <td>    0.315</td>\n",
       "</tr>\n",
       "<tr>\n",
       "  <th>condition[T.incongruent]:correct[T.True]</th> <td>    0.1994</td> <td>    0.228</td> <td>    0.874</td> <td> 0.384</td> <td>   -0.253</td> <td>    0.651</td>\n",
       "</tr>\n",
       "<tr>\n",
       "  <th>condition[T.mix]:correct[T.True]</th>         <td>    0.2930</td> <td>    0.227</td> <td>    1.292</td> <td> 0.199</td> <td>   -0.156</td> <td>    0.742</td>\n",
       "</tr>\n",
       "</table>\n",
       "<table class=\"simpletable\">\n",
       "<tr>\n",
       "  <th>Omnibus:</th>       <td>37.136</td> <th>  Durbin-Watson:     </th> <td>   1.245</td>\n",
       "</tr>\n",
       "<tr>\n",
       "  <th>Prob(Omnibus):</th> <td> 0.000</td> <th>  Jarque-Bera (JB):  </th> <td>  75.922</td>\n",
       "</tr>\n",
       "<tr>\n",
       "  <th>Skew:</th>          <td> 1.302</td> <th>  Prob(JB):          </th> <td>3.26e-17</td>\n",
       "</tr>\n",
       "<tr>\n",
       "  <th>Kurtosis:</th>      <td> 5.943</td> <th>  Cond. No.          </th> <td>    13.3</td>\n",
       "</tr>\n",
       "</table><br/><br/>Notes:<br/>[1] Standard Errors assume that the covariance matrix of the errors is correctly specified."
      ],
      "text/latex": [
       "\\begin{center}\n",
       "\\begin{tabular}{lclc}\n",
       "\\toprule\n",
       "\\textbf{Dep. Variable:}                           &     log\\_rt      & \\textbf{  R-squared:         } &     0.154   \\\\\n",
       "\\textbf{Model:}                                   &       OLS        & \\textbf{  Adj. R-squared:    } &     0.116   \\\\\n",
       "\\textbf{Method:}                                  &  Least Squares   & \\textbf{  F-statistic:       } &     4.085   \\\\\n",
       "\\textbf{Date:}                                    & Thu, 12 Oct 2023 & \\textbf{  Prob (F-statistic):} &  0.00192    \\\\\n",
       "\\textbf{Time:}                                    &     09:44:22     & \\textbf{  Log-Likelihood:    } &   -71.764   \\\\\n",
       "\\textbf{No. Observations:}                        &         118      & \\textbf{  AIC:               } &     155.5   \\\\\n",
       "\\textbf{Df Residuals:}                            &         112      & \\textbf{  BIC:               } &     172.2   \\\\\n",
       "\\textbf{Df Model:}                                &           5      & \\textbf{                     } &             \\\\\n",
       "\\textbf{Covariance Type:}                         &    nonrobust     & \\textbf{                     } &             \\\\\n",
       "\\bottomrule\n",
       "\\end{tabular}\n",
       "\\begin{tabular}{lcccccc}\n",
       "                                                  & \\textbf{coef} & \\textbf{std err} & \\textbf{t} & \\textbf{P$> |$t$|$} & \\textbf{[0.025} & \\textbf{0.975]}  \\\\\n",
       "\\midrule\n",
       "\\textbf{Intercept}                                &      -0.4119  &        0.152     &    -2.708  &         0.008        &       -0.713    &       -0.111     \\\\\n",
       "\\textbf{condition[T.incongruent]}                 &       0.2282  &        0.186     &     1.225  &         0.223        &       -0.141    &        0.597     \\\\\n",
       "\\textbf{condition[T.mix]}                         &       0.2209  &        0.185     &     1.196  &         0.234        &       -0.145    &        0.587     \\\\\n",
       "\\textbf{correct[T.True]}                          &      -0.0385  &        0.178     &    -0.216  &         0.829        &       -0.392    &        0.315     \\\\\n",
       "\\textbf{condition[T.incongruent]:correct[T.True]} &       0.1994  &        0.228     &     0.874  &         0.384        &       -0.253    &        0.651     \\\\\n",
       "\\textbf{condition[T.mix]:correct[T.True]}         &       0.2930  &        0.227     &     1.292  &         0.199        &       -0.156    &        0.742     \\\\\n",
       "\\bottomrule\n",
       "\\end{tabular}\n",
       "\\begin{tabular}{lclc}\n",
       "\\textbf{Omnibus:}       & 37.136 & \\textbf{  Durbin-Watson:     } &    1.245  \\\\\n",
       "\\textbf{Prob(Omnibus):} &  0.000 & \\textbf{  Jarque-Bera (JB):  } &   75.922  \\\\\n",
       "\\textbf{Skew:}          &  1.302 & \\textbf{  Prob(JB):          } & 3.26e-17  \\\\\n",
       "\\textbf{Kurtosis:}      &  5.943 & \\textbf{  Cond. No.          } &     13.3  \\\\\n",
       "\\bottomrule\n",
       "\\end{tabular}\n",
       "%\\caption{OLS Regression Results}\n",
       "\\end{center}\n",
       "\n",
       "Notes: \\newline\n",
       " [1] Standard Errors assume that the covariance matrix of the errors is correctly specified."
      ],
      "text/plain": [
       "<class 'statsmodels.iolib.summary.Summary'>\n",
       "\"\"\"\n",
       "                            OLS Regression Results                            \n",
       "==============================================================================\n",
       "Dep. Variable:                 log_rt   R-squared:                       0.154\n",
       "Model:                            OLS   Adj. R-squared:                  0.116\n",
       "Method:                 Least Squares   F-statistic:                     4.085\n",
       "Date:                Thu, 12 Oct 2023   Prob (F-statistic):            0.00192\n",
       "Time:                        09:44:22   Log-Likelihood:                -71.764\n",
       "No. Observations:                 118   AIC:                             155.5\n",
       "Df Residuals:                     112   BIC:                             172.2\n",
       "Df Model:                           5                                         \n",
       "Covariance Type:            nonrobust                                         \n",
       "============================================================================================================\n",
       "                                               coef    std err          t      P>|t|      [0.025      0.975]\n",
       "------------------------------------------------------------------------------------------------------------\n",
       "Intercept                                   -0.4119      0.152     -2.708      0.008      -0.713      -0.111\n",
       "condition[T.incongruent]                     0.2282      0.186      1.225      0.223      -0.141       0.597\n",
       "condition[T.mix]                             0.2209      0.185      1.196      0.234      -0.145       0.587\n",
       "correct[T.True]                             -0.0385      0.178     -0.216      0.829      -0.392       0.315\n",
       "condition[T.incongruent]:correct[T.True]     0.1994      0.228      0.874      0.384      -0.253       0.651\n",
       "condition[T.mix]:correct[T.True]             0.2930      0.227      1.292      0.199      -0.156       0.742\n",
       "==============================================================================\n",
       "Omnibus:                       37.136   Durbin-Watson:                   1.245\n",
       "Prob(Omnibus):                  0.000   Jarque-Bera (JB):               75.922\n",
       "Skew:                           1.302   Prob(JB):                     3.26e-17\n",
       "Kurtosis:                       5.943   Cond. No.                         13.3\n",
       "==============================================================================\n",
       "\n",
       "Notes:\n",
       "[1] Standard Errors assume that the covariance matrix of the errors is correctly specified.\n",
       "\"\"\""
      ]
     },
     "execution_count": 100,
     "metadata": {},
     "output_type": "execute_result"
    }
   ],
   "source": [
    "# build a linear regression of the full model\n",
    "m0 = smf.ols(\"log_rt ~ condition * correct\", sum_df).fit()\n",
    "m0.summary()"
   ]
  },
  {
   "cell_type": "code",
   "execution_count": 101,
   "metadata": {},
   "outputs": [
    {
     "data": {
      "text/html": [
       "<div>\n",
       "<style scoped>\n",
       "    .dataframe tbody tr th:only-of-type {\n",
       "        vertical-align: middle;\n",
       "    }\n",
       "\n",
       "    .dataframe tbody tr th {\n",
       "        vertical-align: top;\n",
       "    }\n",
       "\n",
       "    .dataframe thead th {\n",
       "        text-align: right;\n",
       "    }\n",
       "</style>\n",
       "<table border=\"1\" class=\"dataframe\">\n",
       "  <thead>\n",
       "    <tr style=\"text-align: right;\">\n",
       "      <th></th>\n",
       "      <th>sum_sq</th>\n",
       "      <th>df</th>\n",
       "      <th>F</th>\n",
       "      <th>PR(&gt;F)</th>\n",
       "    </tr>\n",
       "  </thead>\n",
       "  <tbody>\n",
       "    <tr>\n",
       "      <th>condition</th>\n",
       "      <td>3.650120</td>\n",
       "      <td>2.0</td>\n",
       "      <td>8.766737</td>\n",
       "      <td>0.000290</td>\n",
       "    </tr>\n",
       "    <tr>\n",
       "      <th>correct</th>\n",
       "      <td>0.613172</td>\n",
       "      <td>1.0</td>\n",
       "      <td>2.945394</td>\n",
       "      <td>0.088887</td>\n",
       "    </tr>\n",
       "    <tr>\n",
       "      <th>condition:correct</th>\n",
       "      <td>0.349594</td>\n",
       "      <td>2.0</td>\n",
       "      <td>0.839644</td>\n",
       "      <td>0.434564</td>\n",
       "    </tr>\n",
       "    <tr>\n",
       "      <th>Residual</th>\n",
       "      <td>23.316169</td>\n",
       "      <td>112.0</td>\n",
       "      <td>NaN</td>\n",
       "      <td>NaN</td>\n",
       "    </tr>\n",
       "  </tbody>\n",
       "</table>\n",
       "</div>"
      ],
      "text/plain": [
       "                      sum_sq     df         F    PR(>F)\n",
       "condition           3.650120    2.0  8.766737  0.000290\n",
       "correct             0.613172    1.0  2.945394  0.088887\n",
       "condition:correct   0.349594    2.0  0.839644  0.434564\n",
       "Residual           23.316169  112.0       NaN       NaN"
      ]
     },
     "execution_count": 101,
     "metadata": {},
     "output_type": "execute_result"
    }
   ],
   "source": [
    "sm.stats.anova_lm(m0, typ=2)"
   ]
  },
  {
   "cell_type": "markdown",
   "metadata": {
    "slideshow": {
     "slide_type": "slide"
    }
   },
   "source": [
    "#### Model with only correct items"
   ]
  },
  {
   "cell_type": "code",
   "execution_count": 102,
   "metadata": {},
   "outputs": [
    {
     "data": {
      "text/html": [
       "<div>\n",
       "<style scoped>\n",
       "    .dataframe tbody tr th:only-of-type {\n",
       "        vertical-align: middle;\n",
       "    }\n",
       "\n",
       "    .dataframe tbody tr th {\n",
       "        vertical-align: top;\n",
       "    }\n",
       "\n",
       "    .dataframe thead th {\n",
       "        text-align: right;\n",
       "    }\n",
       "</style>\n",
       "<table border=\"1\" class=\"dataframe\">\n",
       "  <thead>\n",
       "    <tr style=\"text-align: right;\">\n",
       "      <th></th>\n",
       "      <th>subj</th>\n",
       "      <th>condition</th>\n",
       "      <th>log_rt</th>\n",
       "    </tr>\n",
       "  </thead>\n",
       "  <tbody>\n",
       "    <tr>\n",
       "      <th>0</th>\n",
       "      <td>s000</td>\n",
       "      <td>congruent</td>\n",
       "      <td>-0.082375</td>\n",
       "    </tr>\n",
       "    <tr>\n",
       "      <th>1</th>\n",
       "      <td>s000</td>\n",
       "      <td>incongruent</td>\n",
       "      <td>0.162179</td>\n",
       "    </tr>\n",
       "    <tr>\n",
       "      <th>2</th>\n",
       "      <td>s000</td>\n",
       "      <td>mix</td>\n",
       "      <td>0.289561</td>\n",
       "    </tr>\n",
       "    <tr>\n",
       "      <th>3</th>\n",
       "      <td>s001</td>\n",
       "      <td>congruent</td>\n",
       "      <td>-0.267958</td>\n",
       "    </tr>\n",
       "    <tr>\n",
       "      <th>4</th>\n",
       "      <td>s001</td>\n",
       "      <td>incongruent</td>\n",
       "      <td>0.350148</td>\n",
       "    </tr>\n",
       "    <tr>\n",
       "      <th>...</th>\n",
       "      <td>...</td>\n",
       "      <td>...</td>\n",
       "      <td>...</td>\n",
       "    </tr>\n",
       "    <tr>\n",
       "      <th>67</th>\n",
       "      <td>s023</td>\n",
       "      <td>incongruent</td>\n",
       "      <td>1.075740</td>\n",
       "    </tr>\n",
       "    <tr>\n",
       "      <th>68</th>\n",
       "      <td>s023</td>\n",
       "      <td>mix</td>\n",
       "      <td>1.192626</td>\n",
       "    </tr>\n",
       "    <tr>\n",
       "      <th>69</th>\n",
       "      <td>s024</td>\n",
       "      <td>congruent</td>\n",
       "      <td>-0.441140</td>\n",
       "    </tr>\n",
       "    <tr>\n",
       "      <th>70</th>\n",
       "      <td>s024</td>\n",
       "      <td>incongruent</td>\n",
       "      <td>0.120897</td>\n",
       "    </tr>\n",
       "    <tr>\n",
       "      <th>71</th>\n",
       "      <td>s024</td>\n",
       "      <td>mix</td>\n",
       "      <td>0.146048</td>\n",
       "    </tr>\n",
       "  </tbody>\n",
       "</table>\n",
       "<p>72 rows × 3 columns</p>\n",
       "</div>"
      ],
      "text/plain": [
       "    subj    condition    log_rt\n",
       "0   s000    congruent -0.082375\n",
       "1   s000  incongruent  0.162179\n",
       "2   s000          mix  0.289561\n",
       "3   s001    congruent -0.267958\n",
       "4   s001  incongruent  0.350148\n",
       "..   ...          ...       ...\n",
       "67  s023  incongruent  1.075740\n",
       "68  s023          mix  1.192626\n",
       "69  s024    congruent -0.441140\n",
       "70  s024  incongruent  0.120897\n",
       "71  s024          mix  0.146048\n",
       "\n",
       "[72 rows x 3 columns]"
      ]
     },
     "execution_count": 102,
     "metadata": {},
     "output_type": "execute_result"
    }
   ],
   "source": [
    "sum_df = df.loc[df['correct']].groupby(['subj', 'condition'])['log_rt'].mean().reset_index()\n",
    "sum_df"
   ]
  },
  {
   "cell_type": "code",
   "execution_count": 103,
   "metadata": {},
   "outputs": [
    {
     "data": {
      "text/html": [
       "<table class=\"simpletable\">\n",
       "<caption>OLS Regression Results</caption>\n",
       "<tr>\n",
       "  <th>Dep. Variable:</th>         <td>log_rt</td>      <th>  R-squared:         </th> <td>   0.396</td>\n",
       "</tr>\n",
       "<tr>\n",
       "  <th>Model:</th>                   <td>OLS</td>       <th>  Adj. R-squared:    </th> <td>   0.379</td>\n",
       "</tr>\n",
       "<tr>\n",
       "  <th>Method:</th>             <td>Least Squares</td>  <th>  F-statistic:       </th> <td>   22.64</td>\n",
       "</tr>\n",
       "<tr>\n",
       "  <th>Date:</th>             <td>Thu, 12 Oct 2023</td> <th>  Prob (F-statistic):</th> <td>2.76e-08</td>\n",
       "</tr>\n",
       "<tr>\n",
       "  <th>Time:</th>                 <td>09:44:53</td>     <th>  Log-Likelihood:    </th> <td> -9.8317</td>\n",
       "</tr>\n",
       "<tr>\n",
       "  <th>No. Observations:</th>      <td>    72</td>      <th>  AIC:               </th> <td>   25.66</td>\n",
       "</tr>\n",
       "<tr>\n",
       "  <th>Df Residuals:</th>          <td>    69</td>      <th>  BIC:               </th> <td>   32.49</td>\n",
       "</tr>\n",
       "<tr>\n",
       "  <th>Df Model:</th>              <td>     2</td>      <th>                     </th>     <td> </td>   \n",
       "</tr>\n",
       "<tr>\n",
       "  <th>Covariance Type:</th>      <td>nonrobust</td>    <th>                     </th>     <td> </td>   \n",
       "</tr>\n",
       "</table>\n",
       "<table class=\"simpletable\">\n",
       "<tr>\n",
       "              <td></td>                <th>coef</th>     <th>std err</th>      <th>t</th>      <th>P>|t|</th>  <th>[0.025</th>    <th>0.975]</th>  \n",
       "</tr>\n",
       "<tr>\n",
       "  <th>Intercept</th>                <td>   -0.4504</td> <td>    0.058</td> <td>   -7.788</td> <td> 0.000</td> <td>   -0.566</td> <td>   -0.335</td>\n",
       "</tr>\n",
       "<tr>\n",
       "  <th>condition[T.incongruent]</th> <td>    0.4276</td> <td>    0.082</td> <td>    5.228</td> <td> 0.000</td> <td>    0.264</td> <td>    0.591</td>\n",
       "</tr>\n",
       "<tr>\n",
       "  <th>condition[T.mix]</th>         <td>    0.5139</td> <td>    0.082</td> <td>    6.282</td> <td> 0.000</td> <td>    0.351</td> <td>    0.677</td>\n",
       "</tr>\n",
       "</table>\n",
       "<table class=\"simpletable\">\n",
       "<tr>\n",
       "  <th>Omnibus:</th>       <td>39.808</td> <th>  Durbin-Watson:     </th> <td>   0.715</td>\n",
       "</tr>\n",
       "<tr>\n",
       "  <th>Prob(Omnibus):</th> <td> 0.000</td> <th>  Jarque-Bera (JB):  </th> <td> 108.871</td>\n",
       "</tr>\n",
       "<tr>\n",
       "  <th>Skew:</th>          <td> 1.790</td> <th>  Prob(JB):          </th> <td>2.29e-24</td>\n",
       "</tr>\n",
       "<tr>\n",
       "  <th>Kurtosis:</th>      <td> 7.845</td> <th>  Cond. No.          </th> <td>    3.73</td>\n",
       "</tr>\n",
       "</table><br/><br/>Notes:<br/>[1] Standard Errors assume that the covariance matrix of the errors is correctly specified."
      ],
      "text/latex": [
       "\\begin{center}\n",
       "\\begin{tabular}{lclc}\n",
       "\\toprule\n",
       "\\textbf{Dep. Variable:}           &     log\\_rt      & \\textbf{  R-squared:         } &     0.396   \\\\\n",
       "\\textbf{Model:}                   &       OLS        & \\textbf{  Adj. R-squared:    } &     0.379   \\\\\n",
       "\\textbf{Method:}                  &  Least Squares   & \\textbf{  F-statistic:       } &     22.64   \\\\\n",
       "\\textbf{Date:}                    & Thu, 12 Oct 2023 & \\textbf{  Prob (F-statistic):} &  2.76e-08   \\\\\n",
       "\\textbf{Time:}                    &     09:44:53     & \\textbf{  Log-Likelihood:    } &   -9.8317   \\\\\n",
       "\\textbf{No. Observations:}        &          72      & \\textbf{  AIC:               } &     25.66   \\\\\n",
       "\\textbf{Df Residuals:}            &          69      & \\textbf{  BIC:               } &     32.49   \\\\\n",
       "\\textbf{Df Model:}                &           2      & \\textbf{                     } &             \\\\\n",
       "\\textbf{Covariance Type:}         &    nonrobust     & \\textbf{                     } &             \\\\\n",
       "\\bottomrule\n",
       "\\end{tabular}\n",
       "\\begin{tabular}{lcccccc}\n",
       "                                  & \\textbf{coef} & \\textbf{std err} & \\textbf{t} & \\textbf{P$> |$t$|$} & \\textbf{[0.025} & \\textbf{0.975]}  \\\\\n",
       "\\midrule\n",
       "\\textbf{Intercept}                &      -0.4504  &        0.058     &    -7.788  &         0.000        &       -0.566    &       -0.335     \\\\\n",
       "\\textbf{condition[T.incongruent]} &       0.4276  &        0.082     &     5.228  &         0.000        &        0.264    &        0.591     \\\\\n",
       "\\textbf{condition[T.mix]}         &       0.5139  &        0.082     &     6.282  &         0.000        &        0.351    &        0.677     \\\\\n",
       "\\bottomrule\n",
       "\\end{tabular}\n",
       "\\begin{tabular}{lclc}\n",
       "\\textbf{Omnibus:}       & 39.808 & \\textbf{  Durbin-Watson:     } &    0.715  \\\\\n",
       "\\textbf{Prob(Omnibus):} &  0.000 & \\textbf{  Jarque-Bera (JB):  } &  108.871  \\\\\n",
       "\\textbf{Skew:}          &  1.790 & \\textbf{  Prob(JB):          } & 2.29e-24  \\\\\n",
       "\\textbf{Kurtosis:}      &  7.845 & \\textbf{  Cond. No.          } &     3.73  \\\\\n",
       "\\bottomrule\n",
       "\\end{tabular}\n",
       "%\\caption{OLS Regression Results}\n",
       "\\end{center}\n",
       "\n",
       "Notes: \\newline\n",
       " [1] Standard Errors assume that the covariance matrix of the errors is correctly specified."
      ],
      "text/plain": [
       "<class 'statsmodels.iolib.summary.Summary'>\n",
       "\"\"\"\n",
       "                            OLS Regression Results                            \n",
       "==============================================================================\n",
       "Dep. Variable:                 log_rt   R-squared:                       0.396\n",
       "Model:                            OLS   Adj. R-squared:                  0.379\n",
       "Method:                 Least Squares   F-statistic:                     22.64\n",
       "Date:                Thu, 12 Oct 2023   Prob (F-statistic):           2.76e-08\n",
       "Time:                        09:44:53   Log-Likelihood:                -9.8317\n",
       "No. Observations:                  72   AIC:                             25.66\n",
       "Df Residuals:                      69   BIC:                             32.49\n",
       "Df Model:                           2                                         \n",
       "Covariance Type:            nonrobust                                         \n",
       "============================================================================================\n",
       "                               coef    std err          t      P>|t|      [0.025      0.975]\n",
       "--------------------------------------------------------------------------------------------\n",
       "Intercept                   -0.4504      0.058     -7.788      0.000      -0.566      -0.335\n",
       "condition[T.incongruent]     0.4276      0.082      5.228      0.000       0.264       0.591\n",
       "condition[T.mix]             0.5139      0.082      6.282      0.000       0.351       0.677\n",
       "==============================================================================\n",
       "Omnibus:                       39.808   Durbin-Watson:                   0.715\n",
       "Prob(Omnibus):                  0.000   Jarque-Bera (JB):              108.871\n",
       "Skew:                           1.790   Prob(JB):                     2.29e-24\n",
       "Kurtosis:                       7.845   Cond. No.                         3.73\n",
       "==============================================================================\n",
       "\n",
       "Notes:\n",
       "[1] Standard Errors assume that the covariance matrix of the errors is correctly specified.\n",
       "\"\"\""
      ]
     },
     "execution_count": 103,
     "metadata": {},
     "output_type": "execute_result"
    }
   ],
   "source": [
    "m2 = smf.ols(\"log_rt ~ condition\", sum_df).fit()\n",
    "m2.summary()"
   ]
  },
  {
   "cell_type": "code",
   "execution_count": 105,
   "metadata": {},
   "outputs": [
    {
     "data": {
      "text/plain": [
       "<class 'statsmodels.stats.contrast.ContrastResults'>\n",
       "<F test: F=1.119107957425145, p=0.29380017352727156, df_denom=69, df_num=1>"
      ]
     },
     "execution_count": 105,
     "metadata": {},
     "output_type": "execute_result"
    }
   ],
   "source": [
    "model.f_test(\"condition[T.incongruent]=condition[T.mix]\")"
   ]
  },
  {
   "cell_type": "markdown",
   "metadata": {
    "slideshow": {
     "slide_type": "slide"
    }
   },
   "source": [
    "## Conclusion\n",
    "\n",
    "- We see a robust congruency effect whereby:\n",
    "  - Incongruent/Mixed trials have lower performance than congruent\n",
    "  - *Correct* incongruent/mixed trials are much slower than *incorrect*\n",
    "  - i.e., participants make \"fast\" errors"
   ]
  },
  {
   "cell_type": "markdown",
   "metadata": {
    "slideshow": {
     "slide_type": "slide"
    }
   },
   "source": [
    "## Assignment before next class\n",
    "\n",
    "- We will some post recognition tasks to run based on the tasks developed for class\n",
    "- This will be due on ***Tuesday*** next week so we have time to compile the data\n",
    "\n",
    "### See you next week!!!"
   ]
  }
 ],
 "metadata": {
  "celltoolbar": "Slideshow",
  "kernelspec": {
   "display_name": "smiledev",
   "language": "python",
   "name": "smiledev"
  },
  "language_info": {
   "codemirror_mode": {
    "name": "ipython",
    "version": 3
   },
   "file_extension": ".py",
   "mimetype": "text/x-python",
   "name": "python",
   "nbconvert_exporter": "python",
   "pygments_lexer": "ipython3",
   "version": "3.10.12"
  },
  "rise": {
   "scroll": true
  }
 },
 "nbformat": 4,
 "nbformat_minor": 2
}
