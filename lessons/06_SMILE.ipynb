{
 "cells": [
  {
   "cell_type": "markdown",
   "metadata": {
    "slideshow": {
     "slide_type": "slide"
    }
   },
   "source": [
    "# SMILE!!!\n",
    "## Computational Methods in Psychology (and Neuroscience)\n",
    "### Psychology 4500/7559 --- Fall 2020\n",
    "By: Per B. Sederberg, PhD\n",
    "\n"
   ]
  },
  {
   "cell_type": "markdown",
   "metadata": {
    "slideshow": {
     "slide_type": "slide"
    }
   },
   "source": [
    "# List Generation Sample\n",
    "```python\n",
    "[{'study': [{'stimulus': 'bliss',\n",
    "    'pool_type': 'POS',\n",
    "    'cond': 'PURE',\n",
    "    'novelty': 'TARGET'},\n",
    "   {'stimulus': 'spirit',\n",
    "    'pool_type': 'POS',\n",
    "    'cond': 'PURE',\n",
    "    'novelty': 'TARGET'},\n",
    "   {'stimulus': 'nature',\n",
    "    'pool_type': 'POS',\n",
    "    'cond': 'PURE',\n",
    "    'novelty': 'TARGET'},\n",
    "   {'stimulus': 'luxury',\n",
    "    'pool_type': 'POS',\n",
    "    'cond': 'PURE',\n",
    "    'novelty': 'TARGET'},\n",
    "   {'stimulus': 'kindness',\n",
    "    'pool_type': 'POS',\n",
    "    'cond': 'PURE',\n",
    "    'novelty': 'TARGET'},\n",
    "   {'stimulus': 'restaurant',\n",
    "    'pool_type': 'POS',\n",
    "    'cond': 'PURE',\n",
    "    'novelty': 'TARGET'}],\n",
    "  'test': [{'stimulus': 'brave',\n",
    "    'pool_type': 'POS',\n",
    "    'cond': 'PURE',\n",
    "    'novelty': 'LURE'},\n",
    "   {'stimulus': 'tender',\n",
    "    'pool_type': 'POS',\n",
    "    'cond': 'PURE',\n",
    "    'novelty': 'LURE'},\n",
    "   {'stimulus': 'spouse',\n",
    "    'pool_type': 'POS',\n",
    "    'cond': 'PURE',\n",
    "    'novelty': 'LURE'},\n",
    "   {'stimulus': 'spirit',\n",
    "    'pool_type': 'POS',\n",
    "    'cond': 'PURE',\n",
    "    'novelty': 'TARGET'},\n",
    "   {'stimulus': 'kindness',\n",
    "    'pool_type': 'POS',\n",
    "    'cond': 'PURE',\n",
    "    'novelty': 'TARGET'},\n",
    "   {'stimulus': 'father',\n",
    "    'pool_type': 'POS',\n",
    "    'cond': 'PURE',\n",
    "    'novelty': 'LURE'},\n",
    "   {'stimulus': 'restaurant',\n",
    "    'pool_type': 'POS',\n",
    "    'cond': 'PURE',\n",
    "    'novelty': 'TARGET'},\n",
    "   {'stimulus': 'nature',\n",
    "    'pool_type': 'POS',\n",
    "    'cond': 'PURE',\n",
    "    'novelty': 'TARGET'},\n",
    "   {'stimulus': 'outstanding',\n",
    "    'pool_type': 'POS',\n",
    "    'cond': 'PURE',\n",
    "    'novelty': 'LURE'},\n",
    "   {'stimulus': 'bliss',\n",
    "    'pool_type': 'POS',\n",
    "    'cond': 'PURE',\n",
    "    'novelty': 'TARGET'},\n",
    "   {'stimulus': 'luxury',\n",
    "    'pool_type': 'POS',\n",
    "    'cond': 'PURE',\n",
    "    'novelty': 'TARGET'},\n",
    "   {'stimulus': 'acceptance',\n",
    "    'pool_type': 'POS',\n",
    "    'cond': 'PURE',\n",
    "    'novelty': 'LURE'}]},\n",
    " ...\n",
    "]\n",
    "```"
   ]
  },
  {
   "cell_type": "markdown",
   "metadata": {
    "slideshow": {
     "slide_type": "slide"
    }
   },
   "source": [
    "# Lesson Objectives\n",
    "\n",
    "Upon completion of this lesson, students should have learned:\n",
    "\n",
    "1. To define a hierarchical state machine\n",
    "2. The difference between build-time and run-time in SMILE\n",
    "3. The difference between Action and Flow states in SMILE\n",
    "4. How to build simple experiments in SMILE\n"
   ]
  },
  {
   "cell_type": "markdown",
   "metadata": {
    "slideshow": {
     "slide_type": "slide"
    }
   },
   "source": [
    "# What is SMILE?\n",
    "\n",
    "- ***State Machine Interface Library for Experiments***\n",
    "- Goals in developing SMILE:\n",
    "  - Have millisecond accuracy in timing without difficult code\n",
    "  - Write experiments that run cross-platforms\n",
    "  - Make easy tasks easy and hard tasks possible\n",
    "  - Log everything, so you can recreate any experiment\n",
    "\n",
    "Instead of *coding* you're *smiling*!!!\n"
   ]
  },
  {
   "cell_type": "markdown",
   "metadata": {
    "slideshow": {
     "slide_type": "slide"
    }
   },
   "source": [
    "# Installing SMILE\n",
    "\n",
    "- First you need Kivy, which is the primary dependency of SMILE:\n",
    "\n",
    "```bash\n",
    "conda install -c conda-forge kivy\n",
    "```\n",
    "\n",
    "- Then you can install SMILE right from the GitHub repository:\n",
    "\n",
    "```bash\n",
    "pip install git+https://github.com/compmem/smile\n",
    "```"
   ]
  },
  {
   "cell_type": "markdown",
   "metadata": {
    "slideshow": {
     "slide_type": "slide"
    }
   },
   "source": [
    "# Kivy \n",
    "\n",
    "- [Kivy](https://kivy.org) is a cross-platform python application development library\n",
    "- All core libraries are compiled to C code, so it's very fast\n",
    "- It's built on OpenGL, so it can have powerful graphics\n",
    "- Possible to deploy your apps on Android, iOS, Windows, OSX, and Linux from one Python code-base.\n",
    "\n"
   ]
  },
  {
   "cell_type": "markdown",
   "metadata": {
    "slideshow": {
     "slide_type": "slide"
    }
   },
   "source": [
    "# What is a State Machine?\n",
    "\n",
    "- We're really talking about a *finite* state machine, because it does not have unlimited states.\n",
    "- Are a common way of modeling systems in many fields/areas\n",
    "- Often represented by a directed graph with nodes as states and edges as transitions\n",
    "  - Like a stoplight! Here's an example of what I wish stoplights were like in the US:\n",
    "  \n",
    "![Stoplight](http://www.computing.northampton.ac.uk/~anastas/images/GamesProgramming/FiniteStateMachines/Figure%20(1).png)"
   ]
  },
  {
   "cell_type": "markdown",
   "metadata": {
    "slideshow": {
     "slide_type": "slide"
    }
   },
   "source": [
    "# Hierarchical State Machines\n",
    "\n",
    "- A very powerful extension of a base state machine is to make it hierarchical\n",
    "- This just means that states can be entire finite state machines!\n",
    "- HSMs can represent almost any computer program\n",
    "  - e.g., most computer games are just really big and complex HSMs"
   ]
  },
  {
   "cell_type": "markdown",
   "metadata": {
    "slideshow": {
     "slide_type": "slide"
    }
   },
   "source": [
    "# SMILE helps you build state machines\n",
    "\n"
   ]
  },
  {
   "cell_type": "code",
   "execution_count": 1,
   "metadata": {},
   "outputs": [
    {
     "name": "stderr",
     "output_type": "stream",
     "text": [
      "[INFO   ] [Logger      ] Record log in /home/per/.kivy/logs/kivy_20-10-01_10.txt\n",
      "[INFO   ] [Kivy        ] v1.11.1\n",
      "[INFO   ] [Kivy        ] Installed at \"/home/per/anaconda3/lib/python3.7/site-packages/kivy/__init__.py\"\n",
      "[INFO   ] [Python      ] v3.7.6 (default, Jan  8 2020, 19:59:22) \n",
      "[GCC 7.3.0]\n",
      "[INFO   ] [Python      ] Interpreter at \"/home/per/anaconda3/bin/python\"\n",
      "[INFO   ] [Factory     ] 184 symbols loaded\n",
      "[INFO   ] [Image       ] Providers: img_tex, img_dds, img_sdl2, img_pil, img_gif (img_ffpyplayer ignored)\n",
      "[INFO   ] [Text        ] Provider: sdl2\n",
      "[INFO   ] [Camera      ] Provider: opencv(['camera_picamera', 'camera_gi'] ignored)\n",
      "[INFO   ] [VideoGstplayer] Using Gstreamer 1.14.5.0\n",
      "[INFO   ] [Video       ] Provider: gstplayer\n",
      "[INFO   ] [Window      ] Provider: sdl2(['window_egl_rpi'] ignored)\n",
      "[INFO   ] [GL          ] Using the \"OpenGL\" graphics system\n",
      "[INFO   ] [GL          ] Backend used <sdl2>\n",
      "[INFO   ] [GL          ] OpenGL version <b'4.6.0 NVIDIA 450.66'>\n",
      "[INFO   ] [GL          ] OpenGL vendor <b'NVIDIA Corporation'>\n",
      "[INFO   ] [GL          ] OpenGL renderer <b'GeForce GTX 1080 Ti/PCIe/SSE2'>\n",
      "[INFO   ] [GL          ] OpenGL parsed version: 4, 6\n",
      "[INFO   ] [GL          ] Shading version <b'4.60 NVIDIA'>\n",
      "[INFO   ] [GL          ] Texture max size <32768>\n",
      "[INFO   ] [GL          ] Texture max units <32>\n",
      "[INFO   ] [Window      ] auto add sdl2 input provider\n",
      "[INFO   ] [Window      ] virtual keyboard not allowed, single mode, not docked\n",
      "[INFO   ] [Base        ] Start application main loop\n",
      "[INFO   ] [GL          ] NPOT texture support is available\n",
      "[INFO   ] [Base        ] Leaving application in progress...\n",
      "[INFO   ] [WindowSDL   ] exiting mainloop and closing.\n",
      "[INFO   ] [Window      ] Provider: sdl2(['window_egl_rpi'] ignored)\n",
      "[INFO   ] [GL          ] Using the \"OpenGL\" graphics system\n",
      "[INFO   ] [GL          ] Backend used <sdl2>\n",
      "[INFO   ] [GL          ] OpenGL version <b'4.6.0 NVIDIA 450.66'>\n",
      "[INFO   ] [GL          ] OpenGL vendor <b'NVIDIA Corporation'>\n",
      "[INFO   ] [GL          ] OpenGL renderer <b'GeForce GTX 1080 Ti/PCIe/SSE2'>\n",
      "[INFO   ] [GL          ] OpenGL parsed version: 4, 6\n",
      "[INFO   ] [GL          ] Shading version <b'4.60 NVIDIA'>\n",
      "[INFO   ] [GL          ] Texture max size <32768>\n",
      "[INFO   ] [GL          ] Texture max units <32>\n",
      "[INFO   ] [Window      ] auto add sdl2 input provider\n",
      "[INFO   ] [Window      ] virtual keyboard not allowed, single mode, not docked\n",
      "[INFO   ] [Base        ] Start application main loop\n",
      "[INFO   ] [Base        ] Leaving application in progress...\n",
      "[INFO   ] [WindowSDL   ] exiting mainloop and closing.\n",
      "[INFO   ] [Window      ] Provider: sdl2(['window_egl_rpi'] ignored)\n",
      "[INFO   ] [GL          ] Using the \"OpenGL\" graphics system\n",
      "[INFO   ] [GL          ] Backend used <sdl2>\n",
      "[INFO   ] [GL          ] OpenGL version <b'4.6.0 NVIDIA 450.66'>\n",
      "[INFO   ] [GL          ] OpenGL vendor <b'NVIDIA Corporation'>\n",
      "[INFO   ] [GL          ] OpenGL renderer <b'GeForce GTX 1080 Ti/PCIe/SSE2'>\n",
      "[INFO   ] [GL          ] OpenGL parsed version: 4, 6\n",
      "[INFO   ] [GL          ] Shading version <b'4.60 NVIDIA'>\n",
      "[INFO   ] [GL          ] Texture max size <32768>\n",
      "[INFO   ] [GL          ] Texture max units <32>\n",
      "[INFO   ] [Window      ] auto add sdl2 input provider\n",
      "[INFO   ] [Window      ] virtual keyboard not allowed, single mode, not docked\n",
      "[INFO   ] [Base        ] Start application main loop\n",
      "[INFO   ] [Base        ] Leaving application in progress...\n",
      "[INFO   ] [WindowSDL   ] exiting mainloop and closing.\n",
      "[INFO   ] [Window      ] Provider: sdl2(['window_egl_rpi'] ignored)\n",
      "[INFO   ] [GL          ] Using the \"OpenGL\" graphics system\n",
      "[INFO   ] [GL          ] Backend used <sdl2>\n",
      "[INFO   ] [GL          ] OpenGL version <b'4.6.0 NVIDIA 450.66'>\n",
      "[INFO   ] [GL          ] OpenGL vendor <b'NVIDIA Corporation'>\n",
      "[INFO   ] [GL          ] OpenGL renderer <b'GeForce GTX 1080 Ti/PCIe/SSE2'>\n",
      "[INFO   ] [GL          ] OpenGL parsed version: 4, 6\n",
      "[INFO   ] [GL          ] Shading version <b'4.60 NVIDIA'>\n",
      "[INFO   ] [GL          ] Texture max size <32768>\n",
      "[INFO   ] [GL          ] Texture max units <32>\n",
      "[INFO   ] [Window      ] auto add sdl2 input provider\n",
      "[INFO   ] [Window      ] virtual keyboard not allowed, single mode, not docked\n",
      "[INFO   ] [Base        ] Start application main loop\n",
      "[INFO   ] [Base        ] Leaving application in progress...\n",
      "[INFO   ] [WindowSDL   ] exiting mainloop and closing.\n",
      "[INFO   ] [Window      ] Provider: sdl2(['window_egl_rpi'] ignored)\n",
      "[INFO   ] [GL          ] Using the \"OpenGL\" graphics system\n",
      "[INFO   ] [GL          ] Backend used <sdl2>\n",
      "[INFO   ] [GL          ] OpenGL version <b'4.6.0 NVIDIA 450.66'>\n",
      "[INFO   ] [GL          ] OpenGL vendor <b'NVIDIA Corporation'>\n",
      "[INFO   ] [GL          ] OpenGL renderer <b'GeForce GTX 1080 Ti/PCIe/SSE2'>\n",
      "[INFO   ] [GL          ] OpenGL parsed version: 4, 6\n",
      "[INFO   ] [GL          ] Shading version <b'4.60 NVIDIA'>\n",
      "[INFO   ] [GL          ] Texture max size <32768>\n",
      "[INFO   ] [GL          ] Texture max units <32>\n",
      "[INFO   ] [Window      ] auto add sdl2 input provider\n",
      "[INFO   ] [Window      ] virtual keyboard not allowed, single mode, not docked\n",
      "[INFO   ] [Base        ] Start application main loop\n",
      "[INFO   ] [Base        ] Leaving application in progress...\n",
      "[INFO   ] [WindowSDL   ] exiting mainloop and closing.\n",
      "[INFO   ] [Window      ] Provider: sdl2(['window_egl_rpi'] ignored)\n",
      "[INFO   ] [GL          ] Using the \"OpenGL\" graphics system\n",
      "[INFO   ] [GL          ] Backend used <sdl2>\n",
      "[INFO   ] [GL          ] OpenGL version <b'4.6.0 NVIDIA 450.66'>\n",
      "[INFO   ] [GL          ] OpenGL vendor <b'NVIDIA Corporation'>\n",
      "[INFO   ] [GL          ] OpenGL renderer <b'GeForce GTX 1080 Ti/PCIe/SSE2'>\n",
      "[INFO   ] [GL          ] OpenGL parsed version: 4, 6\n",
      "[INFO   ] [GL          ] Shading version <b'4.60 NVIDIA'>\n",
      "[INFO   ] [GL          ] Texture max size <32768>\n",
      "[INFO   ] [GL          ] Texture max units <32>\n",
      "[INFO   ] [Window      ] auto add sdl2 input provider\n",
      "[INFO   ] [Window      ] virtual keyboard not allowed, single mode, not docked\n",
      "[INFO   ] [Base        ] Start application main loop\n",
      "[INFO   ] [Base        ] Leaving application in progress...\n",
      "[INFO   ] [WindowSDL   ] exiting mainloop and closing.\n",
      "[INFO   ] [Window      ] Provider: sdl2(['window_egl_rpi'] ignored)\n",
      "[INFO   ] [GL          ] Using the \"OpenGL\" graphics system\n",
      "[INFO   ] [GL          ] Backend used <sdl2>\n",
      "[INFO   ] [GL          ] OpenGL version <b'4.6.0 NVIDIA 450.66'>\n",
      "[INFO   ] [GL          ] OpenGL vendor <b'NVIDIA Corporation'>\n",
      "[INFO   ] [GL          ] OpenGL renderer <b'GeForce GTX 1080 Ti/PCIe/SSE2'>\n",
      "[INFO   ] [GL          ] OpenGL parsed version: 4, 6\n",
      "[INFO   ] [GL          ] Shading version <b'4.60 NVIDIA'>\n",
      "[INFO   ] [GL          ] Texture max size <32768>\n",
      "[INFO   ] [GL          ] Texture max units <32>\n",
      "[INFO   ] [Window      ] auto add sdl2 input provider\n",
      "[INFO   ] [Window      ] virtual keyboard not allowed, single mode, not docked\n",
      "[INFO   ] [Base        ] Start application main loop\n",
      "[INFO   ] [Base        ] Leaving application in progress...\n",
      "[INFO   ] [WindowSDL   ] exiting mainloop and closing.\n",
      "[INFO   ] [Window      ] Provider: sdl2(['window_egl_rpi'] ignored)\n",
      "[INFO   ] [GL          ] Using the \"OpenGL\" graphics system\n",
      "[INFO   ] [GL          ] Backend used <sdl2>\n",
      "[INFO   ] [GL          ] OpenGL version <b'4.6.0 NVIDIA 450.66'>\n",
      "[INFO   ] [GL          ] OpenGL vendor <b'NVIDIA Corporation'>\n",
      "[INFO   ] [GL          ] OpenGL renderer <b'GeForce GTX 1080 Ti/PCIe/SSE2'>\n",
      "[INFO   ] [GL          ] OpenGL parsed version: 4, 6\n",
      "[INFO   ] [GL          ] Shading version <b'4.60 NVIDIA'>\n",
      "[INFO   ] [GL          ] Texture max size <32768>\n",
      "[INFO   ] [GL          ] Texture max units <32>\n",
      "[INFO   ] [Window      ] auto add sdl2 input provider\n",
      "[INFO   ] [Window      ] virtual keyboard not allowed, single mode, not docked\n",
      "[INFO   ] [Base        ] Start application main loop\n",
      "[INFO   ] [Base        ] Leaving application in progress...\n",
      "[INFO   ] [WindowSDL   ] exiting mainloop and closing.\n",
      "[INFO   ] [Window      ] Provider: sdl2(['window_egl_rpi'] ignored)\n",
      "[INFO   ] [GL          ] Using the \"OpenGL\" graphics system\n",
      "[INFO   ] [GL          ] Backend used <sdl2>\n",
      "[INFO   ] [GL          ] OpenGL version <b'4.6.0 NVIDIA 450.66'>\n",
      "[INFO   ] [GL          ] OpenGL vendor <b'NVIDIA Corporation'>\n"
     ]
    },
    {
     "name": "stderr",
     "output_type": "stream",
     "text": [
      "[INFO   ] [GL          ] OpenGL renderer <b'GeForce GTX 1080 Ti/PCIe/SSE2'>\n",
      "[INFO   ] [GL          ] OpenGL parsed version: 4, 6\n",
      "[INFO   ] [GL          ] Shading version <b'4.60 NVIDIA'>\n",
      "[INFO   ] [GL          ] Texture max size <32768>\n",
      "[INFO   ] [GL          ] Texture max units <32>\n",
      "[INFO   ] [Window      ] auto add sdl2 input provider\n",
      "[INFO   ] [Window      ] virtual keyboard not allowed, single mode, not docked\n",
      "[INFO   ] [Base        ] Start application main loop\n",
      "[INFO   ] [Base        ] Leaving application in progress...\n",
      "[INFO   ] [WindowSDL   ] exiting mainloop and closing.\n",
      "[INFO   ] [Window      ] Provider: sdl2(['window_egl_rpi'] ignored)\n",
      "[INFO   ] [GL          ] Using the \"OpenGL\" graphics system\n",
      "[INFO   ] [GL          ] Backend used <sdl2>\n",
      "[INFO   ] [GL          ] OpenGL version <b'4.6.0 NVIDIA 450.66'>\n",
      "[INFO   ] [GL          ] OpenGL vendor <b'NVIDIA Corporation'>\n",
      "[INFO   ] [GL          ] OpenGL renderer <b'GeForce GTX 1080 Ti/PCIe/SSE2'>\n",
      "[INFO   ] [GL          ] OpenGL parsed version: 4, 6\n",
      "[INFO   ] [GL          ] Shading version <b'4.60 NVIDIA'>\n",
      "[INFO   ] [GL          ] Texture max size <32768>\n",
      "[INFO   ] [GL          ] Texture max units <32>\n",
      "[INFO   ] [Window      ] auto add sdl2 input provider\n",
      "[INFO   ] [Window      ] virtual keyboard not allowed, single mode, not docked\n",
      "[INFO   ] [Base        ] Start application main loop\n",
      "[INFO   ] [Base        ] Leaving application in progress...\n",
      "[INFO   ] [WindowSDL   ] exiting mainloop and closing.\n",
      "[INFO   ] [Window      ] Provider: sdl2(['window_egl_rpi'] ignored)\n",
      "[INFO   ] [GL          ] Using the \"OpenGL\" graphics system\n",
      "[INFO   ] [GL          ] Backend used <sdl2>\n",
      "[INFO   ] [GL          ] OpenGL version <b'4.6.0 NVIDIA 450.66'>\n",
      "[INFO   ] [GL          ] OpenGL vendor <b'NVIDIA Corporation'>\n",
      "[INFO   ] [GL          ] OpenGL renderer <b'GeForce GTX 1080 Ti/PCIe/SSE2'>\n",
      "[INFO   ] [GL          ] OpenGL parsed version: 4, 6\n",
      "[INFO   ] [GL          ] Shading version <b'4.60 NVIDIA'>\n",
      "[INFO   ] [GL          ] Texture max size <32768>\n",
      "[INFO   ] [GL          ] Texture max units <32>\n",
      "[INFO   ] [Window      ] auto add sdl2 input provider\n",
      "[INFO   ] [Window      ] virtual keyboard not allowed, single mode, not docked\n",
      "[INFO   ] [Base        ] Start application main loop\n",
      "[INFO   ] [Base        ] Leaving application in progress...\n",
      "[INFO   ] [WindowSDL   ] exiting mainloop and closing.\n"
     ]
    }
   ],
   "source": [
    "# load in smile states\n",
    "from smile.common import *\n",
    "\n",
    "# create an experiment instance\n",
    "exp = Experiment(show_splash=False)\n",
    "\n",
    "# show some text for 3 seconds\n",
    "Label(text=\"Hello, World!\", duration=3)\n",
    "\n",
    "# run the experiment\n",
    "exp.run()"
   ]
  },
  {
   "cell_type": "markdown",
   "metadata": {
    "slideshow": {
     "slide_type": "slide"
    }
   },
   "source": [
    "![](./hello_world0001.png)"
   ]
  },
  {
   "cell_type": "markdown",
   "metadata": {
    "slideshow": {
     "slide_type": "slide"
    }
   },
   "source": [
    "# Running a SMILE experiment\n",
    "\n",
    "- While it's possible to start an experiment inside a notebook, typically you'll starte experiments from the command line:\n",
    "\n",
    "```bash\n",
    "python exp_name.py -s subj001\n",
    "```\n",
    "\n",
    "- The `-s` option allows you to specify a subject id, which will determine where the data are saved.\n",
    "- There are other command line options, such as `-f` to turn off fullscreen mode:\n",
    "\n",
    "```bash\n",
    "python exp_name.py -s subj001 -f\n",
    "```\n"
   ]
  },
  {
   "cell_type": "markdown",
   "metadata": {
    "slideshow": {
     "slide_type": "slide"
    }
   },
   "source": [
    "# Build-time vs. Run-time\n",
    "\n",
    "- The most important concept to learn with SMILE is the distinction between *building* a state machine and *running* a state machine.\n",
    "- During build-time:\n",
    "  - Calls to the SMILE states construct the state machine\n",
    "  - Actual values in Python variables will not be available, yet\n",
    "- During run-time:\n",
    "  - The state machine is initialized at the first state and runs to completion\n",
    "  - ***Python code in your script is not run, just the state machine you have constructed.***"
   ]
  },
  {
   "cell_type": "markdown",
   "metadata": {
    "slideshow": {
     "slide_type": "slide"
    }
   },
   "source": [
    "# References\n",
    "\n",
    "- Since you can't evaluate python variables during build time, you need delay evaluations until later.\n",
    "- References help make that happen:"
   ]
  },
  {
   "cell_type": "code",
   "execution_count": 11,
   "metadata": {},
   "outputs": [
    {
     "name": "stdout",
     "output_type": "stream",
     "text": [
      "Ref(<built-in function add>, Ref(<function pass_thru at 0x7f3710e83b00>, 3), Ref(<function pass_thru at 0x7f3710e83b00>, 4))\n",
      "7\n"
     ]
    }
   ],
   "source": [
    "a = Ref.object(3)\n",
    "b = Ref.object(4)\n",
    "c = a + b\n",
    "print(c.__repr__())\n",
    "print(c.eval())"
   ]
  },
  {
   "cell_type": "markdown",
   "metadata": {},
   "source": [
    "- All state attributes in SMILE are references\n",
    "  - Meaning you can refer to them at build time and evaluate them at run time"
   ]
  },
  {
   "cell_type": "markdown",
   "metadata": {
    "slideshow": {
     "slide_type": "slide"
    }
   },
   "source": [
    "# Action vs. Flow\n",
    "\n",
    "- Another key concept in SMILE is the distinction between `Action` states and `Flow` states.\n",
    "- Action states carry out some specific input or output operation and often have a `duration`.\n",
    "- Flow states control the order of operations for the action states and rarely have a `duration`."
   ]
  },
  {
   "cell_type": "markdown",
   "metadata": {
    "slideshow": {
     "slide_type": "slide"
    }
   },
   "source": [
    "# Action state examples\n",
    "\n",
    "- `Image`: Presents an image on the screen\n",
    "- `Label`: Places text on the screen\n",
    "- `KeyPress`: Accepts specific user input\n",
    "- `MovingDot`: Present a moving dot stimulus on the screen"
   ]
  },
  {
   "cell_type": "markdown",
   "metadata": {
    "slideshow": {
     "slide_type": "slide"
    }
   },
   "source": [
    "# Flow state examples\n",
    "\n",
    "Most Flow states are parents to other states:\n",
    "\n",
    "- `Parallel` and `Serial`: Control sequences of states\n",
    "- `If`, `Elif`, `Else`: Condition branching\n",
    "- `Loop`: Provide looping over states (optionally with conditionals)\n",
    "- `Meanwhile`, `UntilDone`: Run some states while others while other states are running\n",
    "  - These are basically convenience methods for common uses of Parallel."
   ]
  },
  {
   "cell_type": "markdown",
   "metadata": {
    "slideshow": {
     "slide_type": "slide"
    }
   },
   "source": [
    "# Let's build a stop light!"
   ]
  },
  {
   "cell_type": "code",
   "execution_count": 3,
   "metadata": {},
   "outputs": [],
   "source": [
    "from smile.common import * \n",
    "\n",
    "# set up times for each light\n",
    "red_time = 2.0\n",
    "yellow_time = 1.0\n",
    "green_time = 2.0\n",
    "\n",
    "# define the colors (RGBA)\n",
    "green_on = [0,1,0,1]\n",
    "green_off = [0,1,0,.1]\n",
    "red_on = [1,0,0,1]\n",
    "red_off = [1,0,0,.1]\n",
    "yellow_on = [1,1,0,1]\n",
    "yellow_off = [1,1,0,.1]\n",
    "\n",
    "radius_prop = 1/6.\n",
    "\n",
    "num_loops = 5\n",
    "\n",
    "# make a stoplight exp\n",
    "exp = Experiment(show_splash=False, debug=True)\n",
    "\n",
    "#Wait(1.0)\n",
    "\n",
    "# put up rectangle with three colored circles (low alpha for off)\n",
    "with Parallel():\n",
    "    box = Rectangle(height=300, width=100, color='gray')\n",
    "    yellow_light = Ellipse(color=yellow_off,\n",
    "                           radius=box.height*radius_prop)\n",
    "    red_light = Ellipse(color=red_off, \n",
    "                        radius=box.height*radius_prop,\n",
    "                        bottom=yellow_light.top)\n",
    "    green_light = Ellipse(color=green_off, \n",
    "                          radius=box.height*radius_prop,\n",
    "                          top=yellow_light.bottom)\n",
    "    \n",
    "    # add some labels for the lights\n",
    "    Label(text='GO', color='black', center=green_light.center)\n",
    "    Label(text='Wait', color='black', center=yellow_light.center)\n",
    "    Label(text='STOP', color='black', center=red_light.center)\n",
    "with UntilDone():\n",
    "    Wait(until=box.appear_time)\n",
    "    with Loop(num_loops):\n",
    "        # make green light active\n",
    "        UpdateWidget(green_light, color=green_on)\n",
    "        Wait(green_time)\n",
    "        UpdateWidget(green_light, color=green_off)\n",
    "        \n",
    "        # make yellow light active\n",
    "        UpdateWidget(yellow_light, color=yellow_on)\n",
    "        Wait(yellow_time)\n",
    "        UpdateWidget(yellow_light, color=yellow_off)\n",
    "        \n",
    "        # make red light active\n",
    "        UpdateWidget(red_light, color=red_on)\n",
    "        Wait(red_time)\n",
    "        UpdateWidget(red_light, color=red_off)\n",
    "\n",
    "Wait(1.0)\n",
    "\n",
    "# run the experiment\n",
    "exp.run()\n"
   ]
  },
  {
   "cell_type": "markdown",
   "metadata": {
    "slideshow": {
     "slide_type": "slide"
    }
   },
   "source": [
    "# Let's learn by building together!\n",
    "\n",
    "- Last class we wrote a list generation for a Flanker task.\n",
    "- Let's write the frontend experiment to loop over those trials."
   ]
  },
  {
   "cell_type": "markdown",
   "metadata": {
    "slideshow": {
     "slide_type": "slide"
    }
   },
   "source": [
    "# List Gen Function"
   ]
  },
  {
   "cell_type": "code",
   "execution_count": 4,
   "metadata": {},
   "outputs": [
    {
     "name": "stdout",
     "output_type": "stream",
     "text": [
      "[{'condition': 'neutral', 'direction': 'right', 'stimulus': '===>==='}, {'condition': 'incongruent', 'direction': 'left', 'stimulus': '>>><>>>'}, {'condition': 'congruent', 'direction': 'left', 'stimulus': '<<<<<<<'}, {'condition': 'incongruent', 'direction': 'right', 'stimulus': '<<<><<<'}, {'condition': 'congruent', 'direction': 'right', 'stimulus': '>>>>>>>'}, {'condition': 'congruent', 'direction': 'left', 'stimulus': '<<<<<<<'}, {'condition': 'incongruent', 'direction': 'left', 'stimulus': '>>><>>>'}, {'condition': 'neutral', 'direction': 'left', 'stimulus': '===<==='}, {'condition': 'neutral', 'direction': 'right', 'stimulus': '===>==='}, {'condition': 'congruent', 'direction': 'right', 'stimulus': '>>>>>>>'}, {'condition': 'incongruent', 'direction': 'right', 'stimulus': '<<<><<<'}, {'condition': 'neutral', 'direction': 'left', 'stimulus': '===<==='}]\n"
     ]
    }
   ],
   "source": [
    "import random \n",
    "import copy\n",
    "\n",
    "# define the conditions\n",
    "conds = [{'condition': 'congruent',\n",
    "          'direction': 'left',\n",
    "          'stimulus': '<<<<<<<'\n",
    "         },\n",
    "         {'condition': 'congruent',\n",
    "          'direction': 'right',\n",
    "          'stimulus': '>>>>>>>'\n",
    "         },\n",
    "         {'condition': 'incongruent',\n",
    "          'direction': 'left',\n",
    "          'stimulus': '>>><>>>'\n",
    "         },\n",
    "         {'condition': 'incongruent',\n",
    "          'direction': 'right',\n",
    "          'stimulus': '<<<><<<'\n",
    "         },\n",
    "         {'condition': 'neutral',\n",
    "          'direction': 'left',\n",
    "          'stimulus': '===<==='\n",
    "         },\n",
    "         {'condition': 'neutral',\n",
    "          'direction': 'right',\n",
    "          'stimulus': '===>==='\n",
    "         },]\n",
    "\n",
    "# specify number of reps of these conditions\n",
    "num_reps = 2\n",
    "\n",
    "# loop and create the list\n",
    "trials = []\n",
    "for i in range(num_reps):\n",
    "    # extend the trials with copies of the conditions\n",
    "    trials.extend(copy.deepcopy(conds))\n",
    "\n",
    "# shuffle the trials\n",
    "random.shuffle(trials)\n",
    "\n",
    "print(trials)"
   ]
  },
  {
   "cell_type": "markdown",
   "metadata": {
    "slideshow": {
     "slide_type": "slide"
    }
   },
   "source": [
    "# Goal for each trial\n",
    "\n",
    "- Present the correct stimulus as text on the screen\n",
    "- Wait for a response\n",
    "- Remove the stimulus\n",
    "- Wait for an inter-stimulus interval\n",
    "- Log the result of the trial"
   ]
  },
  {
   "cell_type": "code",
   "execution_count": 14,
   "metadata": {
    "slideshow": {
     "slide_type": "slide"
    }
   },
   "outputs": [],
   "source": [
    "from smile.common import *\n",
    "\n",
    "font_size = 75\n",
    "resp_keys = ['F', 'J']\n",
    "ISI_dur = 0.5\n",
    "ISI_jitter = 0.5\n",
    "\n",
    "# create the experiment\n",
    "exp = Experiment(show_splash=False, fullscreen=False)\n",
    "\n",
    "# show the stimulus (will default to center of the screen)\n",
    "with Loop(trials) as trial:\n",
    "    stim = Label(text=trial.current['stimulus'],\n",
    "                 font_size=font_size)\n",
    "    with UntilDone():\n",
    "        kp = KeyPress(keys=resp_keys)\n",
    "    \n",
    "    Wait(ISI_dur, jitter=ISI_jitter)\n",
    "    \n",
    "    Log(trial.current, name='flanker',\n",
    "        stim_on=stim.appear_time,\n",
    "        resp=kp.pressed,\n",
    "        resp_time=kp.press_time\n",
    "       )\n",
    "    \n",
    "# run the experiment\n",
    "exp.run()"
   ]
  },
  {
   "cell_type": "markdown",
   "metadata": {
    "slideshow": {
     "slide_type": "slide"
    }
   },
   "source": [
    "## Tips\n",
    "\n",
    "- When in doubt, draw it out!\n",
    "  - Since SMILE just creates state machines, you can draw out exactly the flow of actions and that can help you translate it into code.\n",
    "- Debugging is hard in a state machine, so make use of the `Debug` state to help you by printing out various values at run time.\n",
    "\n",
    "- The SMILE docs need updating, but go into more detail: https://smile-docs.readthedocs.io/en/latest/index.html"
   ]
  },
  {
   "cell_type": "markdown",
   "metadata": {
    "slideshow": {
     "slide_type": "slide"
    }
   },
   "source": [
    "## Assignment before next class\n",
    "\n",
    "- Your list generation code is due next Thursday!\n",
    "- Start familiarizing yourself with SMILE, since that will be front and center for the next assignment.\n",
    "\n",
    "\n",
    "### See you next week!!!"
   ]
  }
 ],
 "metadata": {
  "celltoolbar": "Slideshow",
  "kernelspec": {
   "display_name": "Python 3",
   "language": "python",
   "name": "python3"
  },
  "language_info": {
   "codemirror_mode": {
    "name": "ipython",
    "version": 3
   },
   "file_extension": ".py",
   "mimetype": "text/x-python",
   "name": "python",
   "nbconvert_exporter": "python",
   "pygments_lexer": "ipython3",
   "version": "3.7.6"
  },
  "rise": {
   "scroll": true
  }
 },
 "nbformat": 4,
 "nbformat_minor": 2
}
