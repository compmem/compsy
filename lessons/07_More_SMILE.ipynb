{
 "cells": [
  {
   "cell_type": "markdown",
   "metadata": {
    "slideshow": {
     "slide_type": "slide"
    }
   },
   "source": [
    "# More SMILE!!!\n",
    "## Computational Methods in Psychology (and Neuroscience)\n",
    "### Psychology 4500/7559 --- Fall 2020\n",
    "By: Per B. Sederberg, PhD\n",
    "\n"
   ]
  },
  {
   "cell_type": "markdown",
   "metadata": {
    "slideshow": {
     "slide_type": "slide"
    }
   },
   "source": [
    "# Lesson Objectives\n",
    "\n",
    "Upon completion of this lesson, students should have learned:\n",
    "\n",
    "1. How to update SMILE to the latest version\n",
    "2. How to present images\n",
    "3. To visualize the DAG for an experiment\n",
    "4. How to lay out visual states on the screen\n",
    "5. To log information for easy analysis\n",
    "6. How to write subroutines to organize your code\n",
    "7. How to include mouse interaction\n"
   ]
  },
  {
   "cell_type": "markdown",
   "metadata": {
    "slideshow": {
     "slide_type": "slide"
    }
   },
   "source": [
    "# Updating SMILE\n",
    "\n",
    "- First you can test whether there is a new version Kivy, which is the primary dependency of SMILE:\n",
    "\n",
    "```bash\n",
    "conda install -c conda-forge kivy\n",
    "```\n",
    "\n",
    "- Then you can update SMILE right from the GitHub repository (note the upgrade option at the end):\n",
    "\n",
    "```bash\n",
    "pip install git+https://github.com/compmem/smile --upgrade\n",
    "```"
   ]
  },
  {
   "cell_type": "markdown",
   "metadata": {
    "slideshow": {
     "slide_type": "slide"
    }
   },
   "source": [
    "# Understanding Flow\n",
    "\n",
    "- By default, everything in SMILE proceeds sequentially (i.e., in *serial*) in the order the states are added.\n",
    "  - The `Serial` parent state manages starting the next child state when the previous child finishes.\n",
    "- The `Parallel` state allows for multiple states to run *at the same time*.\n",
    "  - By default the `Parallel` state is done with all its child states are done.\n",
    "  - The `blocking` attribute allows ending a `Parallel` state when all non-blocking states are done.\n",
    "  - The `UntilDone` and `Meanwhile` parent states simply create Serial/Parallel states with specific blocking values."
   ]
  },
  {
   "cell_type": "markdown",
   "metadata": {
    "slideshow": {
     "slide_type": "slide"
    }
   },
   "source": [
    "## These are the same"
   ]
  },
  {
   "cell_type": "code",
   "execution_count": 36,
   "metadata": {},
   "outputs": [],
   "source": [
    "# load in smile states\n",
    "from smile.common import *\n",
    "\n",
    "# create an experiment instance\n",
    "exp = Experiment(show_splash=False, resolution=(1024,768))\n",
    "\n",
    "Label(text='Press Any Key')\n",
    "with UntilDone():\n",
    "    KeyPress()\n",
    "Wait(.5)\n",
    "\n",
    "with Parallel():\n",
    "    Label(text='Press Any Key', blocking=False)\n",
    "    KeyPress()\n",
    "Wait(.5)\n",
    "\n",
    "KeyPress()\n",
    "with Meanwhile():\n",
    "    Label(text='Press Any Key')\n",
    "Wait(.5)\n",
    "\n",
    "exp.run()"
   ]
  },
  {
   "cell_type": "markdown",
   "metadata": {
    "slideshow": {
     "slide_type": "slide"
    }
   },
   "source": [
    "# Showing Images\n"
   ]
  },
  {
   "cell_type": "code",
   "execution_count": 28,
   "metadata": {},
   "outputs": [],
   "source": [
    "# load in smile states\n",
    "from smile.common import *\n",
    "\n",
    "# create an experiment instance\n",
    "exp = Experiment(show_splash=False, resolution=(1024,768))\n",
    "\n",
    "# show an image until keypress\n",
    "Image(source=\"../assignments/outdoor/out0099_new.jpg\")\n",
    "with UntilDone():\n",
    "    KeyPress()\n",
    "\n",
    "# show a larger image until keypress (note allow_stretch)\n",
    "Image(source=\"../assignments/outdoor/out0099_new.jpg\", \n",
    "      width=400, height=400, allow_stretch=True)\n",
    "with UntilDone():\n",
    "    KeyPress()\n",
    "\n",
    "# run the experiment\n",
    "exp.run()"
   ]
  },
  {
   "cell_type": "markdown",
   "metadata": {
    "slideshow": {
     "slide_type": "slide"
    }
   },
   "source": [
    "# Visualizing State Machines\n",
    "\n",
    "- A SMILE experiment is a directed acyclic graph (DAG)\n",
    "- It's possible to visualize the full hierarchy of states"
   ]
  },
  {
   "cell_type": "code",
   "execution_count": 29,
   "metadata": {},
   "outputs": [
    {
     "data": {
      "image/png": "[encoded data removed]",
      "text/plain": [
       "<IPython.core.display.Image object>"
      ]
     },
     "metadata": {},
     "output_type": "display_data"
    }
   ],
   "source": [
    "from smile.dag import DAG\n",
    "d = DAG(exp)\n",
    "d.view_png()"
   ]
  },
  {
   "cell_type": "markdown",
   "metadata": {
    "slideshow": {
     "slide_type": "slide"
    }
   },
   "source": [
    "# Advanced Placement\n",
    "\n",
    "- All visual states have a coordinate system based on the screen.\n",
    "- You can place any visual state relative to either the screen or other visual states:"
   ]
  },
  {
   "cell_type": "code",
   "execution_count": 37,
   "metadata": {},
   "outputs": [],
   "source": [
    "# load in smile states\n",
    "from smile.common import *\n",
    "\n",
    "# create an experiment instance\n",
    "exp = Experiment(show_splash=False, resolution=(1024,768))\n",
    "\n",
    "# show images and labels until keypress\n",
    "with Parallel():\n",
    "    # place images based on the screen coords\n",
    "    out_im = Image(source=\"../assignments/outdoor/out0091_new.jpg\",\n",
    "                   left=exp.screen.center_x + 50)\n",
    "    in_im = Image(source=\"../assignments/indoor/in0021.jpg\",\n",
    "                  right=exp.screen.center_x - 50)\n",
    "    \n",
    "    # place labels based on the images\n",
    "    out_txt = Label(text='Outdoor', font_size=50, \n",
    "                    center_bottom=out_im.center_top)\n",
    "    in_txt = Label(text='Indoor', font_size=50, \n",
    "                   center_bottom=in_im.center_top)\n",
    "with UntilDone():\n",
    "    KeyPress()\n",
    "\n",
    "# run the experiment\n",
    "exp.run()"
   ]
  },
  {
   "cell_type": "markdown",
   "metadata": {
    "slideshow": {
     "slide_type": "slide"
    }
   },
   "source": [
    "# Mouse States\n",
    "\n",
    "- The mouse is hidden by default\n",
    "- You can add in a mouse cursor with the `MouseCursor` state\n",
    "- It's possible to trigger events based on mouse location"
   ]
  },
  {
   "cell_type": "code",
   "execution_count": 6,
   "metadata": {},
   "outputs": [
    {
     "name": "stdout",
     "output_type": "stream",
     "text": [
      "DEBUG (file: '<ipython-input-6-7c4c4150c708>', line: 26) - lag=0.001886s\n",
      "  choice: 'A'\n",
      "  rt: 0.4882863195380196\n"
     ]
    }
   ],
   "source": [
    "from smile.common import *\n",
    "\n",
    "# set up an experiment\n",
    "exp = Experiment(show_splash=False, debug=True)\n",
    "\n",
    "Wait(0.5)\n",
    "\n",
    "# display a rectangle and the mouse cursor\n",
    "with Parallel():\n",
    "    rect = Rectangle(center_bottom=exp.screen.center_bottom,\n",
    "                     color='white')\n",
    "    MouseCursor()\n",
    "with UntilDone():\n",
    "    Wait(until=MouseWithin(rect))\n",
    "\n",
    "# put up two new rectangles\n",
    "with Parallel():\n",
    "    choice_A = Rectangle(left_top=(exp.screen.left + 100, exp.screen.top - 100))\n",
    "    choice_B = Rectangle(right_top=(exp.screen.right - 100, exp.screen.top - 100))\n",
    "    mrec = Record(mouse_pos=MousePos())\n",
    "    MouseCursor()\n",
    "with UntilDone():\n",
    "    mwa = MouseWithin(choice_A)\n",
    "    mwb = MouseWithin(choice_B)\n",
    "    w = Wait(until= mwa | mwb)\n",
    "    with If(mwa):\n",
    "        Debug(choice='A',\n",
    "              rt=w.event_time['time'] - choice_A.appear_time['time'])\n",
    "    with Else():\n",
    "        Debug(choice='B',\n",
    "              rt=w.event_time['time'] - choice_B.appear_time['time'])\n",
    "\n",
    "exp.run()"
   ]
  },
  {
   "cell_type": "markdown",
   "metadata": {
    "slideshow": {
     "slide_type": "slide"
    }
   },
   "source": [
    "# Animations\n",
    "\n",
    "- It's possible to link the attributes of a visual state to a function.\n",
    "- Here we move rectangles based on the mouse position:"
   ]
  },
  {
   "cell_type": "code",
   "execution_count": null,
   "metadata": {},
   "outputs": [],
   "source": [
    "from smile.common import *\n",
    "\n",
    "# set up an experiment\n",
    "exp = Experiment(show_splash=False, debug=True)\n",
    "\n",
    "Wait(1.0)\n",
    "\n",
    "with Parallel():\n",
    "    rect = Rectangle(center_bottom=exp.screen.center_bottom,\n",
    "                     color='white')\n",
    "    r2 = Rectangle(bottom=rect.bottom, color='purple')\n",
    "    r3 = Rectangle(center_top=exp.screen.center_top, color='green')\n",
    "    MouseCursor()\n",
    "with UntilDone():\n",
    "    Wait(until=MouseWithin(rect))\n",
    "    with Meanwhile():\n",
    "        with Parallel():\n",
    "            r2.animate(center_x=lambda t, initial: MousePos()[0])\n",
    "            r3.animate(center_y=lambda t, initial: MousePos()[1])\n",
    "\n",
    "exp.run()"
   ]
  },
  {
   "cell_type": "markdown",
   "metadata": {
    "slideshow": {
     "slide_type": "slide"
    }
   },
   "source": [
    "# Sliding\n",
    "\n",
    "- Visual States have a slide method to set new parameter values over a duration."
   ]
  },
  {
   "cell_type": "code",
   "execution_count": 19,
   "metadata": {},
   "outputs": [],
   "source": [
    "from smile.common import *\n",
    "\n",
    "# set up the experiment\n",
    "exp = Experiment(show_splash=False, debug=True)\n",
    "\n",
    "# initial wait\n",
    "Wait(.25)\n",
    "\n",
    "# Put up a circle\n",
    "circ = Ellipse(color=(jitter(0, 1),\n",
    "                      jitter(0, 1),\n",
    "                      jitter(0, 1)))\n",
    "with UntilDone():\n",
    "    Wait(until=circ.appeared)\n",
    "    with Loop(5):\n",
    "        # slide to new loc and color\n",
    "        exp.new_col = (jitter(0, 1),\n",
    "                       jitter(0, 1),\n",
    "                       jitter(0, 1))\n",
    "        exp.new_loc = (jitter(0, exp.screen.width),\n",
    "                       jitter(0, exp.screen.height))\n",
    "        cu = circ.slide(duration=1.5,\n",
    "                        color=exp.new_col,\n",
    "                        center=exp.new_loc)\n",
    "\n",
    "Wait(.25)\n",
    "\n",
    "exp.run()\n"
   ]
  },
  {
   "cell_type": "markdown",
   "metadata": {
    "slideshow": {
     "slide_type": "slide"
    }
   },
   "source": [
    "# Animate and Slide together!"
   ]
  },
  {
   "cell_type": "code",
   "execution_count": 18,
   "metadata": {},
   "outputs": [],
   "source": [
    "from smile.common import *\n",
    "from math import cos\n",
    "\n",
    "exp = Experiment(show_splash=False)\n",
    "\n",
    "# add a circle off the screen\n",
    "ellipse = Ellipse(right=exp.screen.left,\n",
    "              center_y=exp.screen.center_y, width=50, height=50,\n",
    "              angle_start=90.0, angle_end=460.0,\n",
    "              color=(1.0, 1.0, 0.0), name=\"Pacman\")\n",
    "\n",
    "with UntilDone():\n",
    "    with Parallel(name=\"Pacman motion\"):\n",
    "        ellipse.slide(left=exp.screen.right, duration=8.0, name=\"Pacman travel\")\n",
    "        ellipse.animate(\n",
    "            angle_start=lambda t, initial: initial + (cos(t * 8) + 1) * 22.5,\n",
    "            angle_end=lambda t, initial: initial - (cos(t * 8) + 1) * 22.5,\n",
    "            duration=8.0, name=\"Pacman gobble\")\n",
    "\n",
    "exp.run()"
   ]
  },
  {
   "cell_type": "markdown",
   "metadata": {
    "slideshow": {
     "slide_type": "slide"
    }
   },
   "source": [
    "# Logging\n",
    "\n",
    "- SMILE states automatically log themselves, so you rarely will lose information if you forget to log it.\n",
    "- It's still much easier to analyze a well-organized log file from your experiment.\n",
    "- Make use of the `Log` state to save out data."
   ]
  },
  {
   "cell_type": "markdown",
   "metadata": {
    "slideshow": {
     "slide_type": "slide"
    }
   },
   "source": [
    "# Subroutines\n",
    "\n",
    "- Functions are a great way to make clean programs when you have chunks of code that are called more than once.\n",
    "- The `Subroutine` decorator allows you to take chunks of state machine and call them like a function."
   ]
  },
  {
   "cell_type": "code",
   "execution_count": null,
   "metadata": {},
   "outputs": [],
   "source": [
    "# when defining the subroutine, you must include self as the first arg\n",
    "@Subroutine\n",
    "def MyTrial(self, text):\n",
    "    Label(text=text)\n",
    "    with UntilDone():\n",
    "        KeyPress()"
   ]
  },
  {
   "cell_type": "markdown",
   "metadata": {
    "slideshow": {
     "slide_type": "slide"
    }
   },
   "source": [
    "# Let's continue learning by building together!\n",
    "\n",
    "- Last class we wrote a list generation and initial Flanker task.\n",
    "- Let's update the frontend experiment to loop over those trials with a subroutine."
   ]
  },
  {
   "cell_type": "markdown",
   "metadata": {
    "slideshow": {
     "slide_type": "slide"
    }
   },
   "source": [
    "# List Gen Function"
   ]
  },
  {
   "cell_type": "code",
   "execution_count": 39,
   "metadata": {},
   "outputs": [
    {
     "name": "stdout",
     "output_type": "stream",
     "text": [
      "[{'condition': 'incongruent', 'direction': 'left', 'stimulus': '>>><>>>'}, {'condition': 'congruent', 'direction': 'left', 'stimulus': '<<<<<<<'}, {'condition': 'congruent', 'direction': 'left', 'stimulus': '<<<<<<<'}, {'condition': 'congruent', 'direction': 'right', 'stimulus': '>>>>>>>'}, {'condition': 'incongruent', 'direction': 'right', 'stimulus': '<<<><<<'}, {'condition': 'incongruent', 'direction': 'right', 'stimulus': '<<<><<<'}, {'condition': 'neutral', 'direction': 'left', 'stimulus': '===<==='}, {'condition': 'neutral', 'direction': 'right', 'stimulus': '===>==='}, {'condition': 'incongruent', 'direction': 'left', 'stimulus': '>>><>>>'}, {'condition': 'neutral', 'direction': 'left', 'stimulus': '===<==='}, {'condition': 'congruent', 'direction': 'right', 'stimulus': '>>>>>>>'}, {'condition': 'neutral', 'direction': 'right', 'stimulus': '===>==='}]\n"
     ]
    }
   ],
   "source": [
    "import random \n",
    "import copy\n",
    "\n",
    "# define the conditions\n",
    "conds = [{'condition': 'congruent',\n",
    "          'direction': 'left',\n",
    "          'stimulus': '<<<<<<<'\n",
    "         },\n",
    "         {'condition': 'congruent',\n",
    "          'direction': 'right',\n",
    "          'stimulus': '>>>>>>>'\n",
    "         },\n",
    "         {'condition': 'incongruent',\n",
    "          'direction': 'left',\n",
    "          'stimulus': '>>><>>>'\n",
    "         },\n",
    "         {'condition': 'incongruent',\n",
    "          'direction': 'right',\n",
    "          'stimulus': '<<<><<<'\n",
    "         },\n",
    "         {'condition': 'neutral',\n",
    "          'direction': 'left',\n",
    "          'stimulus': '===<==='\n",
    "         },\n",
    "         {'condition': 'neutral',\n",
    "          'direction': 'right',\n",
    "          'stimulus': '===>==='\n",
    "         },]\n",
    "\n",
    "# specify number of reps of these conditions\n",
    "num_reps = 2\n",
    "\n",
    "# loop and create the list\n",
    "trials = []\n",
    "for i in range(num_reps):\n",
    "    # extend the trials with copies of the conditions\n",
    "    trials.extend(copy.deepcopy(conds))\n",
    "\n",
    "# shuffle the trials\n",
    "random.shuffle(trials)\n",
    "\n",
    "print(trials)"
   ]
  },
  {
   "cell_type": "markdown",
   "metadata": {
    "slideshow": {
     "slide_type": "slide"
    }
   },
   "source": [
    "# Goal for each trial\n",
    "\n",
    "- Present the correct stimulus as text on the screen\n",
    "- Wait for a response\n",
    "- Remove the stimulus\n",
    "- Wait for an inter-stimulus interval\n",
    "- Log the result of the trial"
   ]
  },
  {
   "cell_type": "code",
   "execution_count": 40,
   "metadata": {
    "slideshow": {
     "slide_type": "slide"
    }
   },
   "outputs": [],
   "source": [
    "from smile.common import *\n",
    "\n",
    "font_size = 75\n",
    "resp_keys = ['F', 'J']\n",
    "ISI_dur = 0.5\n",
    "ISI_jitter = 0.5\n",
    "\n",
    "# create the experiment\n",
    "exp = Experiment(show_splash=False, fullscreen=False)\n",
    "\n",
    "@Subroutine\n",
    "def Trial(self, cur_trial):\n",
    "    stim = Label(text=cur_trial['stimulus'],\n",
    "                 font_size=font_size)\n",
    "    with UntilDone():\n",
    "        kp = KeyPress(keys=resp_keys)\n",
    "    \n",
    "    Wait(ISI_dur, jitter=ISI_jitter)\n",
    "    \n",
    "    Log(cur_trial, name='flanker',\n",
    "        stim_on=stim.appear_time,\n",
    "        resp=kp.pressed,\n",
    "        resp_time=kp.press_time\n",
    "       )\n",
    "    \n",
    "# show the stimulus (will default to center of the screen)\n",
    "with Loop(trials) as trial:\n",
    "    Trial(trial.current)\n",
    "\n",
    "# run the experiment\n",
    "exp.run()"
   ]
  },
  {
   "cell_type": "markdown",
   "metadata": {
    "slideshow": {
     "slide_type": "slide"
    }
   },
   "source": [
    "## Assignment before next class\n",
    "\n",
    "- We'll be posting the SMILE assignment soon.\n",
    "- Continue familiarizing yourself with SMILE, since that will be front and center for the next assignment.\n",
    "\n",
    "\n",
    "### See you next week!!!"
   ]
  }
 ],
 "metadata": {
  "celltoolbar": "Slideshow",
  "kernelspec": {
   "display_name": "Python 3",
   "language": "python",
   "name": "python3"
  },
  "language_info": {
   "codemirror_mode": {
    "name": "ipython",
    "version": 3
   },
   "file_extension": ".py",
   "mimetype": "text/x-python",
   "name": "python",
   "nbconvert_exporter": "python",
   "pygments_lexer": "ipython3",
   "version": "3.7.6"
  },
  "rise": {
   "scroll": true
  }
 },
 "nbformat": 4,
 "nbformat_minor": 2
}
