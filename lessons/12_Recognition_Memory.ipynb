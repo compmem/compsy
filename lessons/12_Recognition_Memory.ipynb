{
 "cells": [
  {
   "cell_type": "markdown",
   "metadata": {
    "slideshow": {
     "slide_type": "slide"
    }
   },
   "source": [
    "# Recognition Memory\n",
    "## Computational Methods in Psychology (and Neuroscience)\n",
    "### Psychology 4500/7559 --- Fall 2020\n",
    "By: Per B. Sederberg, PhD\n",
    "\n"
   ]
  },
  {
   "cell_type": "markdown",
   "metadata": {
    "slideshow": {
     "slide_type": "slide"
    }
   },
   "source": [
    "# Lesson Objectives\n",
    "\n",
    "Upon completion of this lesson, students should have learned:\n",
    "\n",
    "1. Some basic probability\n",
    "2. Strength theories of memory\n",
    "3. its relation to Signal Detection Theory\n",
    "4. How to calculate sensitivity (d', or d-prime) and bias (c)\n",
    "5. Plotting and statistics with d-prime and bias\n"
   ]
  },
  {
   "cell_type": "markdown",
   "metadata": {
    "slideshow": {
     "slide_type": "slide"
    }
   },
   "source": [
    "# New library to install\n",
    "\n",
    "You're going to need a new plotting library, so run this line at your Anaconda Prompt/Terminal:\n",
    "\n",
    "`conda install -c conda-forge plotnine` "
   ]
  },
  {
   "cell_type": "code",
   "execution_count": 21,
   "metadata": {},
   "outputs": [],
   "source": [
    "# import some useful libraries\n",
    "import numpy as np                # numerical analysis linear algebra\n",
    "import pandas as pd               # efficient tables\n",
    "import matplotlib.pyplot as plt   # plotting\n",
    "import plotnine as pn\n",
    "import scipy.stats.distributions as dists     # probability distributions\n",
    "from scipy import stats\n",
    "from glob import glob\n",
    "import os\n",
    "\n",
    "from smile.log import log2dl\n",
    "\n",
    "from ci_within import ci_within"
   ]
  },
  {
   "cell_type": "markdown",
   "metadata": {
    "slideshow": {
     "slide_type": "slide"
    }
   },
   "source": [
    "## Custom SLOG loading function"
   ]
  },
  {
   "cell_type": "code",
   "execution_count": 8,
   "metadata": {},
   "outputs": [],
   "source": [
    "# custom function to load slogs\n",
    "def load_all_subj_logs(task_dir, log_file):\n",
    "    # load in a list of all the subj\n",
    "    subjs = [os.path.split(subj_dir)[-1] \n",
    "             for subj_dir in glob(os.path.join(task_dir, 's*'))]\n",
    "    subjs.sort()\n",
    "\n",
    "    # loop over subj and their data\n",
    "    all_dat = []\n",
    "    for subj in subjs:\n",
    "        # set the file\n",
    "        log_path = os.path.join(task_dir, subj, log_file)\n",
    "        #print(log_path)\n",
    "\n",
    "        # load the data\n",
    "        all_dat.extend(log2dl(log_path, subj=subj))\n",
    "\n",
    "    df = pd.DataFrame(all_dat)\n",
    "    \n",
    "    return df"
   ]
  },
  {
   "cell_type": "markdown",
   "metadata": {
    "slideshow": {
     "slide_type": "slide"
    }
   },
   "source": [
    "## Load in all the data"
   ]
  },
  {
   "cell_type": "code",
   "execution_count": 9,
   "metadata": {},
   "outputs": [
    {
     "data": {
      "text/html": [
       "<div>\n",
       "<style scoped>\n",
       "    .dataframe tbody tr th:only-of-type {\n",
       "        vertical-align: middle;\n",
       "    }\n",
       "\n",
       "    .dataframe tbody tr th {\n",
       "        vertical-align: top;\n",
       "    }\n",
       "\n",
       "    .dataframe thead th {\n",
       "        text-align: right;\n",
       "    }\n",
       "</style>\n",
       "<table border=\"1\" class=\"dataframe\">\n",
       "  <thead>\n",
       "    <tr style=\"text-align: right;\">\n",
       "      <th></th>\n",
       "      <th>resp_map_lure</th>\n",
       "      <th>resp_map_target</th>\n",
       "      <th>block_num</th>\n",
       "      <th>trial_num</th>\n",
       "      <th>stim_on_time</th>\n",
       "      <th>stim_on_error</th>\n",
       "      <th>resp</th>\n",
       "      <th>resp_time_time</th>\n",
       "      <th>resp_time_error</th>\n",
       "      <th>rt</th>\n",
       "      <th>correct</th>\n",
       "      <th>log_time</th>\n",
       "      <th>filename</th>\n",
       "      <th>in_out</th>\n",
       "      <th>novelty</th>\n",
       "      <th>cond</th>\n",
       "      <th>subj</th>\n",
       "      <th>log_num</th>\n",
       "    </tr>\n",
       "  </thead>\n",
       "  <tbody>\n",
       "    <tr>\n",
       "      <th>0</th>\n",
       "      <td>F</td>\n",
       "      <td>J</td>\n",
       "      <td>0</td>\n",
       "      <td>0</td>\n",
       "      <td>2361.470167</td>\n",
       "      <td>0.0</td>\n",
       "      <td>F</td>\n",
       "      <td>2362.502265</td>\n",
       "      <td>0.000391</td>\n",
       "      <td>1.032098</td>\n",
       "      <td>True</td>\n",
       "      <td>2363.385215</td>\n",
       "      <td>out2646.jpg</td>\n",
       "      <td>outdoor</td>\n",
       "      <td>lure</td>\n",
       "      <td>outdoor</td>\n",
       "      <td>s001</td>\n",
       "      <td>0</td>\n",
       "    </tr>\n",
       "    <tr>\n",
       "      <th>1</th>\n",
       "      <td>F</td>\n",
       "      <td>J</td>\n",
       "      <td>0</td>\n",
       "      <td>1</td>\n",
       "      <td>2363.392059</td>\n",
       "      <td>0.0</td>\n",
       "      <td>J</td>\n",
       "      <td>2363.993073</td>\n",
       "      <td>0.001033</td>\n",
       "      <td>0.601014</td>\n",
       "      <td>True</td>\n",
       "      <td>2364.559602</td>\n",
       "      <td>out0031_new.jpg</td>\n",
       "      <td>outdoor</td>\n",
       "      <td>target</td>\n",
       "      <td>outdoor</td>\n",
       "      <td>s001</td>\n",
       "      <td>0</td>\n",
       "    </tr>\n",
       "    <tr>\n",
       "      <th>2</th>\n",
       "      <td>F</td>\n",
       "      <td>J</td>\n",
       "      <td>0</td>\n",
       "      <td>2</td>\n",
       "      <td>2364.572868</td>\n",
       "      <td>0.0</td>\n",
       "      <td>F</td>\n",
       "      <td>2365.363671</td>\n",
       "      <td>0.000197</td>\n",
       "      <td>0.790803</td>\n",
       "      <td>True</td>\n",
       "      <td>2365.870152</td>\n",
       "      <td>out1227.jpg</td>\n",
       "      <td>outdoor</td>\n",
       "      <td>lure</td>\n",
       "      <td>outdoor</td>\n",
       "      <td>s001</td>\n",
       "      <td>0</td>\n",
       "    </tr>\n",
       "    <tr>\n",
       "      <th>3</th>\n",
       "      <td>F</td>\n",
       "      <td>J</td>\n",
       "      <td>0</td>\n",
       "      <td>3</td>\n",
       "      <td>2365.874493</td>\n",
       "      <td>0.0</td>\n",
       "      <td>F</td>\n",
       "      <td>2366.714544</td>\n",
       "      <td>0.000191</td>\n",
       "      <td>0.840051</td>\n",
       "      <td>True</td>\n",
       "      <td>2367.588254</td>\n",
       "      <td>out0134_new.jpg</td>\n",
       "      <td>outdoor</td>\n",
       "      <td>lure</td>\n",
       "      <td>outdoor</td>\n",
       "      <td>s001</td>\n",
       "      <td>0</td>\n",
       "    </tr>\n",
       "    <tr>\n",
       "      <th>4</th>\n",
       "      <td>F</td>\n",
       "      <td>J</td>\n",
       "      <td>0</td>\n",
       "      <td>4</td>\n",
       "      <td>2367.592558</td>\n",
       "      <td>0.0</td>\n",
       "      <td>F</td>\n",
       "      <td>2368.463209</td>\n",
       "      <td>0.000248</td>\n",
       "      <td>0.870651</td>\n",
       "      <td>True</td>\n",
       "      <td>2369.152451</td>\n",
       "      <td>out2086.jpg</td>\n",
       "      <td>outdoor</td>\n",
       "      <td>lure</td>\n",
       "      <td>outdoor</td>\n",
       "      <td>s001</td>\n",
       "      <td>0</td>\n",
       "    </tr>\n",
       "  </tbody>\n",
       "</table>\n",
       "</div>"
      ],
      "text/plain": [
       "  resp_map_lure resp_map_target  block_num  trial_num  stim_on_time  \\\n",
       "0             F               J          0          0   2361.470167   \n",
       "1             F               J          0          1   2363.392059   \n",
       "2             F               J          0          2   2364.572868   \n",
       "3             F               J          0          3   2365.874493   \n",
       "4             F               J          0          4   2367.592558   \n",
       "\n",
       "   stim_on_error resp  resp_time_time  resp_time_error        rt  correct  \\\n",
       "0            0.0    F     2362.502265         0.000391  1.032098     True   \n",
       "1            0.0    J     2363.993073         0.001033  0.601014     True   \n",
       "2            0.0    F     2365.363671         0.000197  0.790803     True   \n",
       "3            0.0    F     2366.714544         0.000191  0.840051     True   \n",
       "4            0.0    F     2368.463209         0.000248  0.870651     True   \n",
       "\n",
       "      log_time         filename   in_out novelty     cond  subj  log_num  \n",
       "0  2363.385215      out2646.jpg  outdoor    lure  outdoor  s001        0  \n",
       "1  2364.559602  out0031_new.jpg  outdoor  target  outdoor  s001        0  \n",
       "2  2365.870152      out1227.jpg  outdoor    lure  outdoor  s001        0  \n",
       "3  2367.588254  out0134_new.jpg  outdoor    lure  outdoor  s001        0  \n",
       "4  2369.152451      out2086.jpg  outdoor    lure  outdoor  s001        0  "
      ]
     },
     "execution_count": 9,
     "metadata": {},
     "output_type": "execute_result"
    }
   ],
   "source": [
    "# load the data from each task\n",
    "task_dir = os.path.join('data', 'Taskapalooza')\n",
    "\n",
    "df_i = load_all_subj_logs(task_dir, 'log_image_test')\n",
    "df_w = load_all_subj_logs(task_dir, 'log_word_test')\n",
    "df_i.head()"
   ]
  },
  {
   "cell_type": "markdown",
   "metadata": {
    "slideshow": {
     "slide_type": "slide"
    }
   },
   "source": [
    "## Some data clean-up"
   ]
  },
  {
   "cell_type": "code",
   "execution_count": 17,
   "metadata": {},
   "outputs": [],
   "source": [
    "# it turns out the cond is easier to visualize as pure and mixed\n",
    "def fix_conds(df, type_col):\n",
    "    # loop over the unique subjects\n",
    "    usubj = df.subj.unique()\n",
    "    for s in usubj:\n",
    "        # loop over their blocks\n",
    "        ublocks = df.loc[df['subj']==s, 'block_num'].unique()\n",
    "        for b in ublocks:\n",
    "            # grab the data for that subj and block\n",
    "            dfb = df.loc[(df['subj']==s)&(df['block_num']==b)]\n",
    "            \n",
    "            # get the unique types in that block\n",
    "            uval = dfb[type_col].unique()\n",
    "            if len(uval) > 1:\n",
    "                # it's mixed\n",
    "                df.loc[(df['subj']==s)&(df.block_num==b), 'cond'] = 'mixed'\n",
    "            else:\n",
    "                # it's the pure\n",
    "                df.loc[(df['subj']==s)&(df.block_num==b), 'cond'] = 'pure'\n",
    "\n",
    "# fix the conds in the recog experiments (updated in place)\n",
    "fix_conds(df_i, type_col='in_out')\n",
    "fix_conds(df_w, type_col='valence')\n",
    "\n",
    "\n",
    "# add in log_rt columns\n",
    "df_i['log_rt'] = np.log(df_i['rt'])\n",
    "df_w['log_rt'] = np.log(df_w['rt'])\n",
    "\n",
    "# must make correct an int\n",
    "df_i['correct'] = df_i['correct'].astype(np.int)\n",
    "df_w['correct'] = df_w['correct'].astype(np.int)\n",
    "\n",
    "# add in a column for whether they made an 'old' response\n",
    "df_i['old_resp'] = (df_i['resp_map_target'] == df_i['resp']).astype(np.int)\n",
    "df_w['old_resp'] = (df_w['resp_map_target'] == df_w['resp']).astype(np.int)\n"
   ]
  },
  {
   "cell_type": "markdown",
   "metadata": {
    "slideshow": {
     "slide_type": "slide"
    }
   },
   "source": [
    "# Image Recognition Figure\n",
    "\n",
    "- Recognition memory performance is about more than simply whether you got a response correct\n",
    "- There are two different ways we are probing memory: \n",
    "  - With old (target) items and with new (lure) items\n",
    "- We can explore that by plotting the probability of making an `old` response, split out by novelty of the test item"
   ]
  },
  {
   "cell_type": "code",
   "execution_count": 23,
   "metadata": {},
   "outputs": [
    {
     "data": {
      "text/html": [
       "<div>\n",
       "<style scoped>\n",
       "    .dataframe tbody tr th:only-of-type {\n",
       "        vertical-align: middle;\n",
       "    }\n",
       "\n",
       "    .dataframe tbody tr th {\n",
       "        vertical-align: top;\n",
       "    }\n",
       "\n",
       "    .dataframe thead th {\n",
       "        text-align: right;\n",
       "    }\n",
       "</style>\n",
       "<table border=\"1\" class=\"dataframe\">\n",
       "  <thead>\n",
       "    <tr style=\"text-align: right;\">\n",
       "      <th></th>\n",
       "      <th></th>\n",
       "      <th></th>\n",
       "      <th>mean</th>\n",
       "      <th>std</th>\n",
       "      <th>sem</th>\n",
       "      <th>ci</th>\n",
       "      <th>len</th>\n",
       "    </tr>\n",
       "    <tr>\n",
       "      <th>cond</th>\n",
       "      <th>novelty</th>\n",
       "      <th>in_out</th>\n",
       "      <th></th>\n",
       "      <th></th>\n",
       "      <th></th>\n",
       "      <th></th>\n",
       "      <th></th>\n",
       "    </tr>\n",
       "  </thead>\n",
       "  <tbody>\n",
       "    <tr>\n",
       "      <th rowspan=\"4\" valign=\"top\">mixed</th>\n",
       "      <th rowspan=\"2\" valign=\"top\">lure</th>\n",
       "      <th>indoor</th>\n",
       "      <td>0.138889</td>\n",
       "      <td>0.371630</td>\n",
       "      <td>0.012915</td>\n",
       "      <td>0.025350</td>\n",
       "      <td>828.0</td>\n",
       "    </tr>\n",
       "    <tr>\n",
       "      <th>outdoor</th>\n",
       "      <td>0.113527</td>\n",
       "      <td>0.339890</td>\n",
       "      <td>0.011812</td>\n",
       "      <td>0.023185</td>\n",
       "      <td>828.0</td>\n",
       "    </tr>\n",
       "    <tr>\n",
       "      <th rowspan=\"2\" valign=\"top\">target</th>\n",
       "      <th>indoor</th>\n",
       "      <td>0.786232</td>\n",
       "      <td>0.426541</td>\n",
       "      <td>0.014823</td>\n",
       "      <td>0.029096</td>\n",
       "      <td>828.0</td>\n",
       "    </tr>\n",
       "    <tr>\n",
       "      <th>outdoor</th>\n",
       "      <td>0.714976</td>\n",
       "      <td>0.468479</td>\n",
       "      <td>0.016281</td>\n",
       "      <td>0.031956</td>\n",
       "      <td>828.0</td>\n",
       "    </tr>\n",
       "    <tr>\n",
       "      <th rowspan=\"4\" valign=\"top\">pure</th>\n",
       "      <th rowspan=\"2\" valign=\"top\">lure</th>\n",
       "      <th>indoor</th>\n",
       "      <td>0.138889</td>\n",
       "      <td>0.368412</td>\n",
       "      <td>0.009053</td>\n",
       "      <td>0.017757</td>\n",
       "      <td>1656.0</td>\n",
       "    </tr>\n",
       "    <tr>\n",
       "      <th>outdoor</th>\n",
       "      <td>0.141304</td>\n",
       "      <td>0.368859</td>\n",
       "      <td>0.009064</td>\n",
       "      <td>0.017779</td>\n",
       "      <td>1656.0</td>\n",
       "    </tr>\n",
       "    <tr>\n",
       "      <th rowspan=\"2\" valign=\"top\">target</th>\n",
       "      <th>indoor</th>\n",
       "      <td>0.791063</td>\n",
       "      <td>0.425797</td>\n",
       "      <td>0.010463</td>\n",
       "      <td>0.020523</td>\n",
       "      <td>1656.0</td>\n",
       "    </tr>\n",
       "    <tr>\n",
       "      <th>outdoor</th>\n",
       "      <td>0.691425</td>\n",
       "      <td>0.482906</td>\n",
       "      <td>0.011867</td>\n",
       "      <td>0.023275</td>\n",
       "      <td>1656.0</td>\n",
       "    </tr>\n",
       "  </tbody>\n",
       "</table>\n",
       "</div>"
      ],
      "text/plain": [
       "                           mean       std       sem        ci     len\n",
       "cond  novelty in_out                                                 \n",
       "mixed lure    indoor   0.138889  0.371630  0.012915  0.025350   828.0\n",
       "              outdoor  0.113527  0.339890  0.011812  0.023185   828.0\n",
       "      target  indoor   0.786232  0.426541  0.014823  0.029096   828.0\n",
       "              outdoor  0.714976  0.468479  0.016281  0.031956   828.0\n",
       "pure  lure    indoor   0.138889  0.368412  0.009053  0.017757  1656.0\n",
       "              outdoor  0.141304  0.368859  0.009064  0.017779  1656.0\n",
       "      target  indoor   0.791063  0.425797  0.010463  0.020523  1656.0\n",
       "              outdoor  0.691425  0.482906  0.011867  0.023275  1656.0"
      ]
     },
     "execution_count": 23,
     "metadata": {},
     "output_type": "execute_result"
    }
   ],
   "source": [
    "# get the error corrected by condition and whether they said old\n",
    "res = ci_within(df_i,  \n",
    "                indexvar='subj',       # column that identifies a subject\n",
    "                withinvars=['cond', 'novelty', 'in_out'],     # list of columns for grouping within subject\n",
    "                measvar='old_resp')        # dependent variable averaging over\n",
    "res"
   ]
  },
  {
   "cell_type": "code",
   "execution_count": 24,
   "metadata": {},
   "outputs": [
    {
     "data": {
      "text/html": [
       "<div>\n",
       "<style scoped>\n",
       "    .dataframe tbody tr th:only-of-type {\n",
       "        vertical-align: middle;\n",
       "    }\n",
       "\n",
       "    .dataframe tbody tr th {\n",
       "        vertical-align: top;\n",
       "    }\n",
       "\n",
       "    .dataframe thead tr th {\n",
       "        text-align: left;\n",
       "    }\n",
       "</style>\n",
       "<table border=\"1\" class=\"dataframe\">\n",
       "  <thead>\n",
       "    <tr>\n",
       "      <th></th>\n",
       "      <th>cond</th>\n",
       "      <th>novelty</th>\n",
       "      <th colspan=\"2\" halign=\"left\">mean</th>\n",
       "      <th colspan=\"2\" halign=\"left\">std</th>\n",
       "      <th colspan=\"2\" halign=\"left\">sem</th>\n",
       "      <th colspan=\"2\" halign=\"left\">ci</th>\n",
       "      <th colspan=\"2\" halign=\"left\">len</th>\n",
       "    </tr>\n",
       "    <tr>\n",
       "      <th>in_out</th>\n",
       "      <th></th>\n",
       "      <th></th>\n",
       "      <th>indoor</th>\n",
       "      <th>outdoor</th>\n",
       "      <th>indoor</th>\n",
       "      <th>outdoor</th>\n",
       "      <th>indoor</th>\n",
       "      <th>outdoor</th>\n",
       "      <th>indoor</th>\n",
       "      <th>outdoor</th>\n",
       "      <th>indoor</th>\n",
       "      <th>outdoor</th>\n",
       "    </tr>\n",
       "  </thead>\n",
       "  <tbody>\n",
       "    <tr>\n",
       "      <th>0</th>\n",
       "      <td>mixed</td>\n",
       "      <td>lure</td>\n",
       "      <td>0.138889</td>\n",
       "      <td>0.113527</td>\n",
       "      <td>0.371630</td>\n",
       "      <td>0.339890</td>\n",
       "      <td>0.012915</td>\n",
       "      <td>0.011812</td>\n",
       "      <td>0.025350</td>\n",
       "      <td>0.023185</td>\n",
       "      <td>828.0</td>\n",
       "      <td>828.0</td>\n",
       "    </tr>\n",
       "    <tr>\n",
       "      <th>1</th>\n",
       "      <td>mixed</td>\n",
       "      <td>target</td>\n",
       "      <td>0.786232</td>\n",
       "      <td>0.714976</td>\n",
       "      <td>0.426541</td>\n",
       "      <td>0.468479</td>\n",
       "      <td>0.014823</td>\n",
       "      <td>0.016281</td>\n",
       "      <td>0.029096</td>\n",
       "      <td>0.031956</td>\n",
       "      <td>828.0</td>\n",
       "      <td>828.0</td>\n",
       "    </tr>\n",
       "    <tr>\n",
       "      <th>2</th>\n",
       "      <td>pure</td>\n",
       "      <td>lure</td>\n",
       "      <td>0.138889</td>\n",
       "      <td>0.141304</td>\n",
       "      <td>0.368412</td>\n",
       "      <td>0.368859</td>\n",
       "      <td>0.009053</td>\n",
       "      <td>0.009064</td>\n",
       "      <td>0.017757</td>\n",
       "      <td>0.017779</td>\n",
       "      <td>1656.0</td>\n",
       "      <td>1656.0</td>\n",
       "    </tr>\n",
       "    <tr>\n",
       "      <th>3</th>\n",
       "      <td>pure</td>\n",
       "      <td>target</td>\n",
       "      <td>0.791063</td>\n",
       "      <td>0.691425</td>\n",
       "      <td>0.425797</td>\n",
       "      <td>0.482906</td>\n",
       "      <td>0.010463</td>\n",
       "      <td>0.011867</td>\n",
       "      <td>0.020523</td>\n",
       "      <td>0.023275</td>\n",
       "      <td>1656.0</td>\n",
       "      <td>1656.0</td>\n",
       "    </tr>\n",
       "  </tbody>\n",
       "</table>\n",
       "</div>"
      ],
      "text/plain": [
       "         cond novelty      mean                 std                 sem  \\\n",
       "in_out                   indoor   outdoor    indoor   outdoor    indoor   \n",
       "0       mixed    lure  0.138889  0.113527  0.371630  0.339890  0.012915   \n",
       "1       mixed  target  0.786232  0.714976  0.426541  0.468479  0.014823   \n",
       "2        pure    lure  0.138889  0.141304  0.368412  0.368859  0.009053   \n",
       "3        pure  target  0.791063  0.691425  0.425797  0.482906  0.010463   \n",
       "\n",
       "                        ci               len          \n",
       "in_out   outdoor    indoor   outdoor  indoor outdoor  \n",
       "0       0.011812  0.025350  0.023185   828.0   828.0  \n",
       "1       0.016281  0.029096  0.031956   828.0   828.0  \n",
       "2       0.009064  0.017757  0.017779  1656.0  1656.0  \n",
       "3       0.011867  0.020523  0.023275  1656.0  1656.0  "
      ]
     },
     "execution_count": 24,
     "metadata": {},
     "output_type": "execute_result"
    }
   ],
   "source": [
    "# must unstack and reset index to plot properly\n",
    "res.unstack().reset_index()"
   ]
  },
  {
   "cell_type": "code",
   "execution_count": 25,
   "metadata": {},
   "outputs": [
    {
     "data": {
      "text/plain": [
       "Text(0, 0.5, 'Performance')"
      ]
     },
     "execution_count": 25,
     "metadata": {},
     "output_type": "execute_result"
    },
    {
     "data": {
      "image/png": "[encoded data removed]",
      "text/plain": [
       "<Figure size 432x288 with 1 Axes>"
      ]
     },
     "metadata": {
      "needs_background": "light"
     },
     "output_type": "display_data"
    }
   ],
   "source": [
    "# plot the results\n",
    "ax = res.unstack().reset_index().plot(x='cond', y='mean', yerr='ci', kind=\"bar\")\n",
    "#ax.get_legend().remove()\n",
    "ax.set_xlabel('Condition')\n",
    "ax.set_ylabel('Performance')"
   ]
  },
  {
   "cell_type": "markdown",
   "metadata": {
    "slideshow": {
     "slide_type": "slide"
    }
   },
   "source": [
    "## Can we improve that plot?\n",
    "\n",
    "- It looks like we've run up against the max level of complexity Pandas can easily handle.\n",
    "- Let's explore the `plotnine` package, which provides a \"Grammar of Graphics\" (port of `ggplot` from R to Python)"
   ]
  },
  {
   "cell_type": "code",
   "execution_count": 26,
   "metadata": {},
   "outputs": [
    {
     "data": {
      "text/html": [
       "<div>\n",
       "<style scoped>\n",
       "    .dataframe tbody tr th:only-of-type {\n",
       "        vertical-align: middle;\n",
       "    }\n",
       "\n",
       "    .dataframe tbody tr th {\n",
       "        vertical-align: top;\n",
       "    }\n",
       "\n",
       "    .dataframe thead th {\n",
       "        text-align: right;\n",
       "    }\n",
       "</style>\n",
       "<table border=\"1\" class=\"dataframe\">\n",
       "  <thead>\n",
       "    <tr style=\"text-align: right;\">\n",
       "      <th></th>\n",
       "      <th>cond</th>\n",
       "      <th>novelty</th>\n",
       "      <th>in_out</th>\n",
       "      <th>mean</th>\n",
       "      <th>std</th>\n",
       "      <th>sem</th>\n",
       "      <th>ci</th>\n",
       "      <th>len</th>\n",
       "    </tr>\n",
       "  </thead>\n",
       "  <tbody>\n",
       "    <tr>\n",
       "      <th>0</th>\n",
       "      <td>mixed</td>\n",
       "      <td>lure</td>\n",
       "      <td>indoor</td>\n",
       "      <td>0.138889</td>\n",
       "      <td>0.371630</td>\n",
       "      <td>0.012915</td>\n",
       "      <td>0.025350</td>\n",
       "      <td>828.0</td>\n",
       "    </tr>\n",
       "    <tr>\n",
       "      <th>1</th>\n",
       "      <td>mixed</td>\n",
       "      <td>lure</td>\n",
       "      <td>outdoor</td>\n",
       "      <td>0.113527</td>\n",
       "      <td>0.339890</td>\n",
       "      <td>0.011812</td>\n",
       "      <td>0.023185</td>\n",
       "      <td>828.0</td>\n",
       "    </tr>\n",
       "    <tr>\n",
       "      <th>2</th>\n",
       "      <td>mixed</td>\n",
       "      <td>target</td>\n",
       "      <td>indoor</td>\n",
       "      <td>0.786232</td>\n",
       "      <td>0.426541</td>\n",
       "      <td>0.014823</td>\n",
       "      <td>0.029096</td>\n",
       "      <td>828.0</td>\n",
       "    </tr>\n",
       "    <tr>\n",
       "      <th>3</th>\n",
       "      <td>mixed</td>\n",
       "      <td>target</td>\n",
       "      <td>outdoor</td>\n",
       "      <td>0.714976</td>\n",
       "      <td>0.468479</td>\n",
       "      <td>0.016281</td>\n",
       "      <td>0.031956</td>\n",
       "      <td>828.0</td>\n",
       "    </tr>\n",
       "    <tr>\n",
       "      <th>4</th>\n",
       "      <td>pure</td>\n",
       "      <td>lure</td>\n",
       "      <td>indoor</td>\n",
       "      <td>0.138889</td>\n",
       "      <td>0.368412</td>\n",
       "      <td>0.009053</td>\n",
       "      <td>0.017757</td>\n",
       "      <td>1656.0</td>\n",
       "    </tr>\n",
       "    <tr>\n",
       "      <th>5</th>\n",
       "      <td>pure</td>\n",
       "      <td>lure</td>\n",
       "      <td>outdoor</td>\n",
       "      <td>0.141304</td>\n",
       "      <td>0.368859</td>\n",
       "      <td>0.009064</td>\n",
       "      <td>0.017779</td>\n",
       "      <td>1656.0</td>\n",
       "    </tr>\n",
       "    <tr>\n",
       "      <th>6</th>\n",
       "      <td>pure</td>\n",
       "      <td>target</td>\n",
       "      <td>indoor</td>\n",
       "      <td>0.791063</td>\n",
       "      <td>0.425797</td>\n",
       "      <td>0.010463</td>\n",
       "      <td>0.020523</td>\n",
       "      <td>1656.0</td>\n",
       "    </tr>\n",
       "    <tr>\n",
       "      <th>7</th>\n",
       "      <td>pure</td>\n",
       "      <td>target</td>\n",
       "      <td>outdoor</td>\n",
       "      <td>0.691425</td>\n",
       "      <td>0.482906</td>\n",
       "      <td>0.011867</td>\n",
       "      <td>0.023275</td>\n",
       "      <td>1656.0</td>\n",
       "    </tr>\n",
       "  </tbody>\n",
       "</table>\n",
       "</div>"
      ],
      "text/plain": [
       "    cond novelty   in_out      mean       std       sem        ci     len\n",
       "0  mixed    lure   indoor  0.138889  0.371630  0.012915  0.025350   828.0\n",
       "1  mixed    lure  outdoor  0.113527  0.339890  0.011812  0.023185   828.0\n",
       "2  mixed  target   indoor  0.786232  0.426541  0.014823  0.029096   828.0\n",
       "3  mixed  target  outdoor  0.714976  0.468479  0.016281  0.031956   828.0\n",
       "4   pure    lure   indoor  0.138889  0.368412  0.009053  0.017757  1656.0\n",
       "5   pure    lure  outdoor  0.141304  0.368859  0.009064  0.017779  1656.0\n",
       "6   pure  target   indoor  0.791063  0.425797  0.010463  0.020523  1656.0\n",
       "7   pure  target  outdoor  0.691425  0.482906  0.011867  0.023275  1656.0"
      ]
     },
     "execution_count": 26,
     "metadata": {},
     "output_type": "execute_result"
    }
   ],
   "source": [
    "# we won't need to unstack, but we will still need to reset the index\n",
    "res = res.reset_index()\n",
    "res"
   ]
  },
  {
   "cell_type": "markdown",
   "metadata": {
    "slideshow": {
     "slide_type": "slide"
    }
   },
   "source": [
    "## Plotnine / ggplot\n",
    "\n",
    "- In plotnine, you start with initializing a figure with the data you're going to plot, specifying the general `aesthetics` of what the plot will look like (i.e., what will go on each axis, what colors should they have, how to split out groups, etc...\n",
    "- Then you add in `geoms` that specify how to map your data to specific visual properties of your figure\n",
    "- You can also specify rules for how to split out a figure into sub plots\n",
    "- Finally, you can customize the labels as needed\n",
    "\n",
    "Let's build this plot, step by step!"
   ]
  },
  {
   "cell_type": "code",
   "execution_count": 51,
   "metadata": {},
   "outputs": [
    {
     "name": "stderr",
     "output_type": "stream",
     "text": [
      "/home/per/anaconda3/lib/python3.7/site-packages/plotnine/utils.py:1246: FutureWarning: is_categorical is deprecated and will be removed in a future version.  Use is_categorical_dtype instead\n",
      "  if pdtypes.is_categorical(arr):\n"
     ]
    },
    {
     "data": {
      "image/png": "[encoded data removed]",
      "text/plain": [
       "<Figure size 640x480 with 1 Axes>"
      ]
     },
     "metadata": {},
     "output_type": "display_data"
    },
    {
     "data": {
      "text/plain": [
       "<ggplot: (8767489286437)>"
      ]
     },
     "execution_count": 51,
     "metadata": {},
     "output_type": "execute_result"
    }
   ],
   "source": [
    "# start with a basic bar plot (specifying to dodge the position, so they are not stacked)\n",
    "p = (pn.ggplot(res, pn.aes('cond', 'mean', fill='in_out'))\n",
    " + pn.geom_bar(stat='identity', position=pn.position_dodge(.9))\n",
    ")\n",
    "p"
   ]
  },
  {
   "cell_type": "code",
   "execution_count": 38,
   "metadata": {},
   "outputs": [
    {
     "name": "stderr",
     "output_type": "stream",
     "text": [
      "/home/per/anaconda3/lib/python3.7/site-packages/plotnine/utils.py:1246: FutureWarning: is_categorical is deprecated and will be removed in a future version.  Use is_categorical_dtype instead\n",
      "  if pdtypes.is_categorical(arr):\n"
     ]
    },
    {
     "data": {
      "image/png": "[encoded data removed]",
      "text/plain": [
       "<Figure size 640x480 with 2 Axes>"
      ]
     },
     "metadata": {},
     "output_type": "display_data"
    },
    {
     "data": {
      "text/plain": [
       "<ggplot: (8767489349137)>"
      ]
     },
     "execution_count": 38,
     "metadata": {},
     "output_type": "execute_result"
    }
   ],
   "source": [
    "# add in separate plots for novelty because they were on top of each other\n",
    "p += pn.facet_wrap('~novelty')\n",
    "p"
   ]
  },
  {
   "cell_type": "code",
   "execution_count": 39,
   "metadata": {},
   "outputs": [
    {
     "name": "stderr",
     "output_type": "stream",
     "text": [
      "/home/per/anaconda3/lib/python3.7/site-packages/plotnine/utils.py:1246: FutureWarning: is_categorical is deprecated and will be removed in a future version.  Use is_categorical_dtype instead\n",
      "  if pdtypes.is_categorical(arr):\n"
     ]
    },
    {
     "data": {
      "image/png": "[encoded data removed]",
      "text/plain": [
       "<Figure size 640x480 with 2 Axes>"
      ]
     },
     "metadata": {},
     "output_type": "display_data"
    },
    {
     "data": {
      "text/plain": [
       "<ggplot: (8767489349137)>"
      ]
     },
     "execution_count": 39,
     "metadata": {},
     "output_type": "execute_result"
    }
   ],
   "source": [
    "# and now the error bars\n",
    "p += pn.geom_errorbar(pn.aes(ymin='mean-ci', ymax='mean+ci', width=0.2), \n",
    "                      position=pn.position_dodge(.9))   # needs to use the same dodge as the bars\n",
    "p"
   ]
  },
  {
   "cell_type": "code",
   "execution_count": 45,
   "metadata": {},
   "outputs": [
    {
     "name": "stderr",
     "output_type": "stream",
     "text": [
      "/home/per/anaconda3/lib/python3.7/site-packages/plotnine/utils.py:1246: FutureWarning: is_categorical is deprecated and will be removed in a future version.  Use is_categorical_dtype instead\n",
      "  if pdtypes.is_categorical(arr):\n"
     ]
    },
    {
     "data": {
      "image/png": "[encoded data removed]",
      "text/plain": [
       "<Figure size 640x480 with 2 Axes>"
      ]
     },
     "metadata": {},
     "output_type": "display_data"
    },
    {
     "data": {
      "text/plain": [
       "<ggplot: (8767489349137)>"
      ]
     },
     "execution_count": 45,
     "metadata": {},
     "output_type": "execute_result"
    }
   ],
   "source": [
    "# finally fix up the labels\n",
    "p += pn.labs(x=\"Condition\", y = \"P(old)\", fill='Location')\n",
    "p"
   ]
  },
  {
   "cell_type": "markdown",
   "metadata": {
    "slideshow": {
     "slide_type": "slide"
    }
   },
   "source": [
    "## What if we wanted points instead of bars?"
   ]
  },
  {
   "cell_type": "code",
   "execution_count": 59,
   "metadata": {},
   "outputs": [
    {
     "name": "stderr",
     "output_type": "stream",
     "text": [
      "/home/per/anaconda3/lib/python3.7/site-packages/plotnine/utils.py:1246: FutureWarning: is_categorical is deprecated and will be removed in a future version.  Use is_categorical_dtype instead\n",
      "  if pdtypes.is_categorical(arr):\n"
     ]
    },
    {
     "data": {
      "image/png": "[encoded data removed]",
      "text/plain": [
       "<Figure size 640x480 with 2 Axes>"
      ]
     },
     "metadata": {},
     "output_type": "display_data"
    },
    {
     "data": {
      "text/plain": [
       "<ggplot: (8767489279209)>"
      ]
     },
     "execution_count": 59,
     "metadata": {},
     "output_type": "execute_result"
    }
   ],
   "source": [
    "p = (pn.ggplot(res, pn.aes('cond', 'mean', fill='in_out'))\n",
    "     + pn.geom_errorbar(pn.aes(ymin='mean-ci', ymax='mean+ci', width=0.2), \n",
    "                        position=pn.position_dodge(.9))\n",
    "     + pn.geom_point(position=pn.position_dodge(.9), size=4)\n",
    "     + pn.facet_wrap('~novelty')\n",
    "     + pn.labs(x=\"Condition\", y = \"P(old)\", fill='Location')\n",
    "    )\n",
    "p"
   ]
  },
  {
   "cell_type": "markdown",
   "metadata": {
    "slideshow": {
     "slide_type": "slide"
    }
   },
   "source": [
    "# Probability Theory\n",
    "\n",
    "At the core of probability theory are the mathematical functions determining the probability of the potential outcomes of an experiment. \n",
    "\n",
    "In statistics, these distributions represent the models that attempt to describe the observed data. The equations take in parameters that determine the shape of the probability distributions.\n",
    "\n",
    "***Note: The area under a probability distribution must equal 1.0!***"
   ]
  },
  {
   "cell_type": "markdown",
   "metadata": {
    "slideshow": {
     "slide_type": "slide"
    }
   },
   "source": [
    "## Uniform distribution"
   ]
  },
  {
   "cell_type": "code",
   "execution_count": 74,
   "metadata": {},
   "outputs": [
    {
     "data": {
      "text/plain": [
       "[<matplotlib.lines.Line2D at 0x7f9571664210>]"
      ]
     },
     "execution_count": 74,
     "metadata": {},
     "output_type": "execute_result"
    },
    {
     "data": {
      "image/png": "[encoded data removed]",
      "text/plain": [
       "<Figure size 432x288 with 1 Axes>"
      ]
     },
     "metadata": {
      "needs_background": "light"
     },
     "output_type": "display_data"
    }
   ],
   "source": [
    "# x values to evaluate\n",
    "x = np.linspace(-5, 5, 100)\n",
    "\n",
    "# uniform distribution between 0 and 1\n",
    "d = dists.uniform(loc=0.0, scale=1.0)\n",
    "plt.plot(x, d.pdf(x), lw=3)\n",
    "\n",
    "# uniform distribution between -1 and 1\n",
    "d = dists.uniform(loc=-1, scale=2.0)\n",
    "plt.plot(x, d.pdf(x), lw=3)"
   ]
  },
  {
   "cell_type": "markdown",
   "metadata": {
    "slideshow": {
     "slide_type": "slide"
    }
   },
   "source": [
    "## The Normal / Gaussian distribution\n",
    "\n"
   ]
  },
  {
   "cell_type": "code",
   "execution_count": 71,
   "metadata": {},
   "outputs": [
    {
     "data": {
      "text/plain": [
       "[<matplotlib.lines.Line2D at 0x7f95716a4250>]"
      ]
     },
     "execution_count": 71,
     "metadata": {},
     "output_type": "execute_result"
    },
    {
     "data": {
      "image/png": "[encoded data removed]",
      "text/plain": [
       "<Figure size 432x288 with 1 Axes>"
      ]
     },
     "metadata": {
      "needs_background": "light"
     },
     "output_type": "display_data"
    }
   ],
   "source": [
    "d = dists.norm(loc=0.0, scale=1.0)\n",
    "x = np.linspace(-5, 5, 100)\n",
    "plt.plot(x, d.pdf(x), lw=3)\n"
   ]
  },
  {
   "cell_type": "markdown",
   "metadata": {
    "slideshow": {
     "slide_type": "slide"
    }
   },
   "source": [
    "### What's the probability of observing a value greater than 0?"
   ]
  },
  {
   "cell_type": "code",
   "execution_count": 77,
   "metadata": {},
   "outputs": [
    {
     "data": {
      "text/plain": [
       "<matplotlib.collections.PolyCollection at 0x7f9571616350>"
      ]
     },
     "execution_count": 77,
     "metadata": {},
     "output_type": "execute_result"
    },
    {
     "data": {
      "image/png": "[encoded data removed]",
      "text/plain": [
       "<Figure size 432x288 with 1 Axes>"
      ]
     },
     "metadata": {
      "needs_background": "light"
     },
     "output_type": "display_data"
    }
   ],
   "source": [
    "d = dists.norm(loc=0.0, scale=1.0)\n",
    "x = np.linspace(-5, 5, 100)\n",
    "plt.plot(x, d.pdf(x), lw=3)\n",
    "plt.fill_between(x, d.pdf(x), where=x>0.0, alpha=.5)"
   ]
  },
  {
   "cell_type": "markdown",
   "metadata": {
    "slideshow": {
     "slide_type": "slide"
    }
   },
   "source": [
    "# Strength theory of memory\n",
    "\n",
    "- Assumes that we have a baseline familiarity with each item\n",
    "  - CAT would be strong and have a higher value\n",
    "  - ALABASTER would be weak and have a lower value\n",
    "  - VACUUM would have a value somewhere in the middle\n",
    "- Combining all stimuli gives you a normal distribution of baseline familiarity (i.e., memory strength)\n",
    "  - This has two parameters, the mean and standard deviation of the normal distribution"
   ]
  },
  {
   "cell_type": "markdown",
   "metadata": {
    "slideshow": {
     "slide_type": "slide"
    }
   },
   "source": [
    "## The effect of studying and item\n",
    "\n",
    "- In strength theory, the process of studying an item adds some amount to that baseline familiarity for some item\n",
    "- Thus, studying a set of items shifts their strength distribution to the right!"
   ]
  },
  {
   "cell_type": "code",
   "execution_count": 81,
   "metadata": {},
   "outputs": [
    {
     "data": {
      "text/plain": [
       "<matplotlib.legend.Legend at 0x7f95721c5390>"
      ]
     },
     "execution_count": 81,
     "metadata": {},
     "output_type": "execute_result"
    },
    {
     "data": {
      "image/png": "[encoded data removed]",
      "text/plain": [
       "<Figure size 432x288 with 1 Axes>"
      ]
     },
     "metadata": {
      "needs_background": "light"
     },
     "output_type": "display_data"
    }
   ],
   "source": [
    "mu = 0.0\n",
    "sigma = 1.0\n",
    "alpha = 2.0\n",
    "\n",
    "# xrange to plot\n",
    "x = np.linspace(-5, 7.5, 100)\n",
    "\n",
    "# distribution of new items\n",
    "y1 = dists.norm(loc=mu, scale=sigma).pdf(x)\n",
    "plt.plot(x, y1, lw=3)\n",
    "\n",
    "# distribution of old (studied) items\n",
    "y2 = dists.norm(loc=mu+alpha, scale=sigma).pdf(x)\n",
    "plt.plot(x, y2, lw=3)\n",
    "\n",
    "plt.legend(['New', 'Old'])\n"
   ]
  },
  {
   "cell_type": "markdown",
   "metadata": {
    "slideshow": {
     "slide_type": "slide"
    }
   },
   "source": [
    "# Signal Detection Theory\n",
    "\n",
    "- Developed by radar operators in the 1940s to help make decisions under uncertainty\n",
    "- Casts the decision as detecting signal versus noise\n",
    "- Adds one more parameter, the decision criterion (C)\n",
    "\n",
    "![SDT](figs/signal_detection.png)\n",
    "\n"
   ]
  },
  {
   "cell_type": "markdown",
   "metadata": {
    "slideshow": {
     "slide_type": "slide"
    }
   },
   "source": [
    "## Bias: How do we pick our decision criterion?\n",
    "\n",
    "- You don't have control over the signal and noise distributions, but you do have control over the criterion\n",
    "- Questions:\n",
    "  - Where should you put your criterion to make the fewest errors?\n",
    "  - Where should you put your criterion if I said you would get $10 for every hit, and take away nothing for false alarms?\n",
    "  - How about if you had to pay me every time you made a false alarm?"
   ]
  },
  {
   "cell_type": "markdown",
   "metadata": {},
   "source": [
    "## Calculating sensitivity\n",
    "\n",
    "- Under assumptions of equal variance for both the signal and noise distributions, the d' (d-prime) is the measure of sensitivity\n",
    "\n",
    "$$d' = ((\\mu + \\alpha) - \\mu) / \\sigma$$\n",
    "$$d' = \\alpha / \\sigma$$\n",
    "\n",
    "- Thus, $d'$ is the difference between the two distributions in units of the standard deviation\n",
    "- Note, this is independent of the criterion\n"
   ]
  },
  {
   "cell_type": "code",
   "execution_count": 132,
   "metadata": {},
   "outputs": [],
   "source": [
    "def calc_dprime(n_hits, n_targets, n_false_alarms, n_lures):\n",
    "    # calculate corrected hit rate and false alarm rate (to avoid zeros)\n",
    "    hr_trans = (n_hits+.5)/(n_targets+1)\n",
    "    far_trans = (n_false_alarms+.5)/(n_lures+1)\n",
    "    \n",
    "    # calculate dprime\n",
    "    Z = dists.norm.ppf\n",
    "    dprime = Z(hr_trans) - Z(far_trans)\n",
    "    return dprime\n",
    "\n",
    "def calc_c(n_hits, n_targets, n_false_alarms, n_lures):\n",
    "    # calculate corrected hit rate and false alarm rate (to avoid zeros)\n",
    "    hr_trans = (n_hits+.5)/(n_targets+1)\n",
    "    far_trans = (n_false_alarms+.5)/(n_lures+1)\n",
    "    \n",
    "    # calculate bias\n",
    "    Z = dists.norm.ppf\n",
    "    c = -(Z(hr_trans) + Z(far_trans)) / 2\n",
    "    return c\n"
   ]
  },
  {
   "cell_type": "code",
   "execution_count": 136,
   "metadata": {},
   "outputs": [
    {
     "data": {
      "text/html": [
       "<div>\n",
       "<style scoped>\n",
       "    .dataframe tbody tr th:only-of-type {\n",
       "        vertical-align: middle;\n",
       "    }\n",
       "\n",
       "    .dataframe tbody tr th {\n",
       "        vertical-align: top;\n",
       "    }\n",
       "\n",
       "    .dataframe thead th {\n",
       "        text-align: right;\n",
       "    }\n",
       "</style>\n",
       "<table border=\"1\" class=\"dataframe\">\n",
       "  <thead>\n",
       "    <tr style=\"text-align: right;\">\n",
       "      <th></th>\n",
       "      <th>subj</th>\n",
       "      <th>cond</th>\n",
       "      <th>in_out</th>\n",
       "      <th>sum_lure</th>\n",
       "      <th>sum_target</th>\n",
       "      <th>count_lure</th>\n",
       "      <th>count_target</th>\n",
       "      <th>mean_lure</th>\n",
       "      <th>mean_target</th>\n",
       "    </tr>\n",
       "  </thead>\n",
       "  <tbody>\n",
       "    <tr>\n",
       "      <th>0</th>\n",
       "      <td>s001</td>\n",
       "      <td>mixed</td>\n",
       "      <td>indoor</td>\n",
       "      <td>0</td>\n",
       "      <td>29</td>\n",
       "      <td>36</td>\n",
       "      <td>36</td>\n",
       "      <td>0.000000</td>\n",
       "      <td>0.805556</td>\n",
       "    </tr>\n",
       "    <tr>\n",
       "      <th>1</th>\n",
       "      <td>s001</td>\n",
       "      <td>mixed</td>\n",
       "      <td>outdoor</td>\n",
       "      <td>2</td>\n",
       "      <td>28</td>\n",
       "      <td>36</td>\n",
       "      <td>36</td>\n",
       "      <td>0.055556</td>\n",
       "      <td>0.777778</td>\n",
       "    </tr>\n",
       "    <tr>\n",
       "      <th>2</th>\n",
       "      <td>s001</td>\n",
       "      <td>pure</td>\n",
       "      <td>indoor</td>\n",
       "      <td>2</td>\n",
       "      <td>61</td>\n",
       "      <td>72</td>\n",
       "      <td>72</td>\n",
       "      <td>0.027778</td>\n",
       "      <td>0.847222</td>\n",
       "    </tr>\n",
       "    <tr>\n",
       "      <th>3</th>\n",
       "      <td>s001</td>\n",
       "      <td>pure</td>\n",
       "      <td>outdoor</td>\n",
       "      <td>6</td>\n",
       "      <td>62</td>\n",
       "      <td>72</td>\n",
       "      <td>72</td>\n",
       "      <td>0.083333</td>\n",
       "      <td>0.861111</td>\n",
       "    </tr>\n",
       "    <tr>\n",
       "      <th>4</th>\n",
       "      <td>s002</td>\n",
       "      <td>mixed</td>\n",
       "      <td>indoor</td>\n",
       "      <td>5</td>\n",
       "      <td>25</td>\n",
       "      <td>36</td>\n",
       "      <td>36</td>\n",
       "      <td>0.138889</td>\n",
       "      <td>0.694444</td>\n",
       "    </tr>\n",
       "  </tbody>\n",
       "</table>\n",
       "</div>"
      ],
      "text/plain": [
       "   subj   cond   in_out  sum_lure  sum_target  count_lure  count_target  \\\n",
       "0  s001  mixed   indoor         0          29          36            36   \n",
       "1  s001  mixed  outdoor         2          28          36            36   \n",
       "2  s001   pure   indoor         2          61          72            72   \n",
       "3  s001   pure  outdoor         6          62          72            72   \n",
       "4  s002  mixed   indoor         5          25          36            36   \n",
       "\n",
       "   mean_lure  mean_target  \n",
       "0   0.000000     0.805556  \n",
       "1   0.055556     0.777778  \n",
       "2   0.027778     0.847222  \n",
       "3   0.083333     0.861111  \n",
       "4   0.138889     0.694444  "
      ]
     },
     "execution_count": 136,
     "metadata": {},
     "output_type": "execute_result"
    }
   ],
   "source": [
    "# use the agg method to get the counts\n",
    "iperf = df_i.groupby(['subj', 'cond', 'in_out', 'novelty'])['old_resp'].agg(['sum', 'count', 'mean'])\n",
    "iperf = iperf.unstack().reset_index()\n",
    "\n",
    "# collapse the multi-index\n",
    "iperf.columns = ['_'.join(col).strip() if len(col[1]) > 0 else col[0] \n",
    "                 for col in iperf.columns.values]\n",
    "iperf.head()"
   ]
  },
  {
   "cell_type": "markdown",
   "metadata": {
    "slideshow": {
     "slide_type": "slide"
    }
   },
   "source": [
    "## Use `apply` to run the functions on each row"
   ]
  },
  {
   "cell_type": "code",
   "execution_count": 137,
   "metadata": {},
   "outputs": [
    {
     "data": {
      "text/html": [
       "<div>\n",
       "<style scoped>\n",
       "    .dataframe tbody tr th:only-of-type {\n",
       "        vertical-align: middle;\n",
       "    }\n",
       "\n",
       "    .dataframe tbody tr th {\n",
       "        vertical-align: top;\n",
       "    }\n",
       "\n",
       "    .dataframe thead th {\n",
       "        text-align: right;\n",
       "    }\n",
       "</style>\n",
       "<table border=\"1\" class=\"dataframe\">\n",
       "  <thead>\n",
       "    <tr style=\"text-align: right;\">\n",
       "      <th></th>\n",
       "      <th>subj</th>\n",
       "      <th>cond</th>\n",
       "      <th>in_out</th>\n",
       "      <th>sum_lure</th>\n",
       "      <th>sum_target</th>\n",
       "      <th>count_lure</th>\n",
       "      <th>count_target</th>\n",
       "      <th>mean_lure</th>\n",
       "      <th>mean_target</th>\n",
       "      <th>dprime</th>\n",
       "      <th>c</th>\n",
       "    </tr>\n",
       "  </thead>\n",
       "  <tbody>\n",
       "    <tr>\n",
       "      <th>0</th>\n",
       "      <td>s001</td>\n",
       "      <td>mixed</td>\n",
       "      <td>indoor</td>\n",
       "      <td>0</td>\n",
       "      <td>29</td>\n",
       "      <td>36</td>\n",
       "      <td>36</td>\n",
       "      <td>0.000000</td>\n",
       "      <td>0.805556</td>\n",
       "      <td>3.043134</td>\n",
       "      <td>0.689560</td>\n",
       "    </tr>\n",
       "    <tr>\n",
       "      <th>1</th>\n",
       "      <td>s001</td>\n",
       "      <td>mixed</td>\n",
       "      <td>outdoor</td>\n",
       "      <td>2</td>\n",
       "      <td>28</td>\n",
       "      <td>36</td>\n",
       "      <td>36</td>\n",
       "      <td>0.055556</td>\n",
       "      <td>0.777778</td>\n",
       "      <td>2.233892</td>\n",
       "      <td>0.377209</td>\n",
       "    </tr>\n",
       "    <tr>\n",
       "      <th>2</th>\n",
       "      <td>s001</td>\n",
       "      <td>pure</td>\n",
       "      <td>indoor</td>\n",
       "      <td>2</td>\n",
       "      <td>61</td>\n",
       "      <td>72</td>\n",
       "      <td>72</td>\n",
       "      <td>0.027778</td>\n",
       "      <td>0.847222</td>\n",
       "      <td>2.826392</td>\n",
       "      <td>0.408552</td>\n",
       "    </tr>\n",
       "    <tr>\n",
       "      <th>3</th>\n",
       "      <td>s001</td>\n",
       "      <td>pure</td>\n",
       "      <td>outdoor</td>\n",
       "      <td>6</td>\n",
       "      <td>62</td>\n",
       "      <td>72</td>\n",
       "      <td>72</td>\n",
       "      <td>0.083333</td>\n",
       "      <td>0.861111</td>\n",
       "      <td>2.409928</td>\n",
       "      <td>0.141720</td>\n",
       "    </tr>\n",
       "    <tr>\n",
       "      <th>4</th>\n",
       "      <td>s002</td>\n",
       "      <td>mixed</td>\n",
       "      <td>indoor</td>\n",
       "      <td>5</td>\n",
       "      <td>25</td>\n",
       "      <td>36</td>\n",
       "      <td>36</td>\n",
       "      <td>0.138889</td>\n",
       "      <td>0.694444</td>\n",
       "      <td>1.535800</td>\n",
       "      <td>0.274347</td>\n",
       "    </tr>\n",
       "    <tr>\n",
       "      <th>...</th>\n",
       "      <td>...</td>\n",
       "      <td>...</td>\n",
       "      <td>...</td>\n",
       "      <td>...</td>\n",
       "      <td>...</td>\n",
       "      <td>...</td>\n",
       "      <td>...</td>\n",
       "      <td>...</td>\n",
       "      <td>...</td>\n",
       "      <td>...</td>\n",
       "      <td>...</td>\n",
       "    </tr>\n",
       "    <tr>\n",
       "      <th>87</th>\n",
       "      <td>s022</td>\n",
       "      <td>pure</td>\n",
       "      <td>outdoor</td>\n",
       "      <td>11</td>\n",
       "      <td>52</td>\n",
       "      <td>72</td>\n",
       "      <td>72</td>\n",
       "      <td>0.152778</td>\n",
       "      <td>0.722222</td>\n",
       "      <td>1.585045</td>\n",
       "      <td>0.212121</td>\n",
       "    </tr>\n",
       "    <tr>\n",
       "      <th>88</th>\n",
       "      <td>s023</td>\n",
       "      <td>mixed</td>\n",
       "      <td>indoor</td>\n",
       "      <td>3</td>\n",
       "      <td>24</td>\n",
       "      <td>36</td>\n",
       "      <td>36</td>\n",
       "      <td>0.083333</td>\n",
       "      <td>0.666667</td>\n",
       "      <td>1.731353</td>\n",
       "      <td>0.447305</td>\n",
       "    </tr>\n",
       "    <tr>\n",
       "      <th>89</th>\n",
       "      <td>s023</td>\n",
       "      <td>mixed</td>\n",
       "      <td>outdoor</td>\n",
       "      <td>2</td>\n",
       "      <td>20</td>\n",
       "      <td>36</td>\n",
       "      <td>36</td>\n",
       "      <td>0.055556</td>\n",
       "      <td>0.555556</td>\n",
       "      <td>1.630066</td>\n",
       "      <td>0.679122</td>\n",
       "    </tr>\n",
       "    <tr>\n",
       "      <th>90</th>\n",
       "      <td>s023</td>\n",
       "      <td>pure</td>\n",
       "      <td>indoor</td>\n",
       "      <td>9</td>\n",
       "      <td>55</td>\n",
       "      <td>72</td>\n",
       "      <td>72</td>\n",
       "      <td>0.125000</td>\n",
       "      <td>0.763889</td>\n",
       "      <td>1.832928</td>\n",
       "      <td>0.209280</td>\n",
       "    </tr>\n",
       "    <tr>\n",
       "      <th>91</th>\n",
       "      <td>s023</td>\n",
       "      <td>pure</td>\n",
       "      <td>outdoor</td>\n",
       "      <td>9</td>\n",
       "      <td>45</td>\n",
       "      <td>72</td>\n",
       "      <td>72</td>\n",
       "      <td>0.125000</td>\n",
       "      <td>0.625000</td>\n",
       "      <td>1.439871</td>\n",
       "      <td>0.405808</td>\n",
       "    </tr>\n",
       "  </tbody>\n",
       "</table>\n",
       "<p>92 rows × 11 columns</p>\n",
       "</div>"
      ],
      "text/plain": [
       "    subj   cond   in_out  sum_lure  sum_target  count_lure  count_target  \\\n",
       "0   s001  mixed   indoor         0          29          36            36   \n",
       "1   s001  mixed  outdoor         2          28          36            36   \n",
       "2   s001   pure   indoor         2          61          72            72   \n",
       "3   s001   pure  outdoor         6          62          72            72   \n",
       "4   s002  mixed   indoor         5          25          36            36   \n",
       "..   ...    ...      ...       ...         ...         ...           ...   \n",
       "87  s022   pure  outdoor        11          52          72            72   \n",
       "88  s023  mixed   indoor         3          24          36            36   \n",
       "89  s023  mixed  outdoor         2          20          36            36   \n",
       "90  s023   pure   indoor         9          55          72            72   \n",
       "91  s023   pure  outdoor         9          45          72            72   \n",
       "\n",
       "    mean_lure  mean_target    dprime         c  \n",
       "0    0.000000     0.805556  3.043134  0.689560  \n",
       "1    0.055556     0.777778  2.233892  0.377209  \n",
       "2    0.027778     0.847222  2.826392  0.408552  \n",
       "3    0.083333     0.861111  2.409928  0.141720  \n",
       "4    0.138889     0.694444  1.535800  0.274347  \n",
       "..        ...          ...       ...       ...  \n",
       "87   0.152778     0.722222  1.585045  0.212121  \n",
       "88   0.083333     0.666667  1.731353  0.447305  \n",
       "89   0.055556     0.555556  1.630066  0.679122  \n",
       "90   0.125000     0.763889  1.832928  0.209280  \n",
       "91   0.125000     0.625000  1.439871  0.405808  \n",
       "\n",
       "[92 rows x 11 columns]"
      ]
     },
     "execution_count": 137,
     "metadata": {},
     "output_type": "execute_result"
    }
   ],
   "source": [
    "# add the dprime as a new column (axis=1 tells it to go by row)\n",
    "iperf['dprime'] = iperf.apply(lambda x: calc_dprime(x['sum_target'], x['count_target'],\n",
    "                                                    x['sum_lure'], x['count_lure']),\n",
    "                                  axis=1)\n",
    "# add bias (c) as a new column\n",
    "iperf['c'] = iperf.apply(lambda x: calc_c(x['sum_target'], x['count_target'],\n",
    "                                                    x['sum_lure'], x['count_lure']),\n",
    "                                  axis=1)\n",
    "\n",
    "iperf"
   ]
  },
  {
   "cell_type": "markdown",
   "metadata": {
    "slideshow": {
     "slide_type": "slide"
    }
   },
   "source": [
    "## Plotting d prime\n",
    "\n",
    "Now that we have our sensitivity, let's see if there is any consistent result between conditions"
   ]
  },
  {
   "cell_type": "code",
   "execution_count": 141,
   "metadata": {},
   "outputs": [
    {
     "data": {
      "text/html": [
       "<div>\n",
       "<style scoped>\n",
       "    .dataframe tbody tr th:only-of-type {\n",
       "        vertical-align: middle;\n",
       "    }\n",
       "\n",
       "    .dataframe tbody tr th {\n",
       "        vertical-align: top;\n",
       "    }\n",
       "\n",
       "    .dataframe thead th {\n",
       "        text-align: right;\n",
       "    }\n",
       "</style>\n",
       "<table border=\"1\" class=\"dataframe\">\n",
       "  <thead>\n",
       "    <tr style=\"text-align: right;\">\n",
       "      <th></th>\n",
       "      <th>cond</th>\n",
       "      <th>in_out</th>\n",
       "      <th>mean</th>\n",
       "      <th>std</th>\n",
       "      <th>sem</th>\n",
       "      <th>ci</th>\n",
       "      <th>len</th>\n",
       "    </tr>\n",
       "  </thead>\n",
       "  <tbody>\n",
       "    <tr>\n",
       "      <th>0</th>\n",
       "      <td>mixed</td>\n",
       "      <td>indoor</td>\n",
       "      <td>2.114375</td>\n",
       "      <td>0.426006</td>\n",
       "      <td>0.088828</td>\n",
       "      <td>0.184219</td>\n",
       "      <td>23.0</td>\n",
       "    </tr>\n",
       "    <tr>\n",
       "      <th>1</th>\n",
       "      <td>mixed</td>\n",
       "      <td>outdoor</td>\n",
       "      <td>1.954991</td>\n",
       "      <td>0.430425</td>\n",
       "      <td>0.089750</td>\n",
       "      <td>0.186130</td>\n",
       "      <td>23.0</td>\n",
       "    </tr>\n",
       "    <tr>\n",
       "      <th>2</th>\n",
       "      <td>pure</td>\n",
       "      <td>indoor</td>\n",
       "      <td>2.055246</td>\n",
       "      <td>0.412101</td>\n",
       "      <td>0.085929</td>\n",
       "      <td>0.178206</td>\n",
       "      <td>23.0</td>\n",
       "    </tr>\n",
       "    <tr>\n",
       "      <th>3</th>\n",
       "      <td>pure</td>\n",
       "      <td>outdoor</td>\n",
       "      <td>1.688143</td>\n",
       "      <td>0.464978</td>\n",
       "      <td>0.096955</td>\n",
       "      <td>0.201072</td>\n",
       "      <td>23.0</td>\n",
       "    </tr>\n",
       "  </tbody>\n",
       "</table>\n",
       "</div>"
      ],
      "text/plain": [
       "    cond   in_out      mean       std       sem        ci   len\n",
       "0  mixed   indoor  2.114375  0.426006  0.088828  0.184219  23.0\n",
       "1  mixed  outdoor  1.954991  0.430425  0.089750  0.186130  23.0\n",
       "2   pure   indoor  2.055246  0.412101  0.085929  0.178206  23.0\n",
       "3   pure  outdoor  1.688143  0.464978  0.096955  0.201072  23.0"
      ]
     },
     "execution_count": 141,
     "metadata": {},
     "output_type": "execute_result"
    }
   ],
   "source": [
    "res = ci_within(iperf, indexvar='subj', \n",
    "                withinvars=['cond', 'in_out'], \n",
    "                measvar='dprime').reset_index()\n",
    "res"
   ]
  },
  {
   "cell_type": "code",
   "execution_count": 142,
   "metadata": {},
   "outputs": [
    {
     "name": "stderr",
     "output_type": "stream",
     "text": [
      "/home/per/anaconda3/lib/python3.7/site-packages/plotnine/utils.py:1246: FutureWarning: is_categorical is deprecated and will be removed in a future version.  Use is_categorical_dtype instead\n",
      "  if pdtypes.is_categorical(arr):\n"
     ]
    },
    {
     "data": {
      "image/png": "[encoded data removed]",
      "text/plain": [
       "<Figure size 640x480 with 1 Axes>"
      ]
     },
     "metadata": {},
     "output_type": "display_data"
    },
    {
     "data": {
      "text/plain": [
       "<ggplot: (8767487975925)>"
      ]
     },
     "execution_count": 142,
     "metadata": {},
     "output_type": "execute_result"
    }
   ],
   "source": [
    "p = (pn.ggplot(res, pn.aes('cond', 'mean', fill='in_out'))\n",
    "     + pn.geom_errorbar(pn.aes(ymin='mean-ci', ymax='mean+ci', width=0.2), \n",
    "                        position=pn.position_dodge(.9))\n",
    "     + pn.geom_point(position=pn.position_dodge(.9), size=4)\n",
    "     + pn.labs(x=\"Condition\", y = \"d'\", fill='Location')\n",
    "    )\n",
    "p"
   ]
  },
  {
   "cell_type": "markdown",
   "metadata": {
    "slideshow": {
     "slide_type": "slide"
    }
   },
   "source": [
    "## Let's run a linear model!"
   ]
  },
  {
   "cell_type": "code",
   "execution_count": 143,
   "metadata": {},
   "outputs": [],
   "source": [
    "import statsmodels.formula.api as smf"
   ]
  },
  {
   "cell_type": "code",
   "execution_count": 144,
   "metadata": {},
   "outputs": [
    {
     "data": {
      "text/html": [
       "<table class=\"simpletable\">\n",
       "<caption>OLS Regression Results</caption>\n",
       "<tr>\n",
       "  <th>Dep. Variable:</th>         <td>dprime</td>      <th>  R-squared:         </th> <td>   0.034</td>\n",
       "</tr>\n",
       "<tr>\n",
       "  <th>Model:</th>                   <td>OLS</td>       <th>  Adj. R-squared:    </th> <td>   0.002</td>\n",
       "</tr>\n",
       "<tr>\n",
       "  <th>Method:</th>             <td>Least Squares</td>  <th>  F-statistic:       </th> <td>   1.047</td>\n",
       "</tr>\n",
       "<tr>\n",
       "  <th>Date:</th>             <td>Thu, 12 Nov 2020</td> <th>  Prob (F-statistic):</th>  <td> 0.376</td> \n",
       "</tr>\n",
       "<tr>\n",
       "  <th>Time:</th>                 <td>13:45:31</td>     <th>  Log-Likelihood:    </th> <td> -117.12</td>\n",
       "</tr>\n",
       "<tr>\n",
       "  <th>No. Observations:</th>      <td>    92</td>      <th>  AIC:               </th> <td>   242.2</td>\n",
       "</tr>\n",
       "<tr>\n",
       "  <th>Df Residuals:</th>          <td>    88</td>      <th>  BIC:               </th> <td>   252.3</td>\n",
       "</tr>\n",
       "<tr>\n",
       "  <th>Df Model:</th>              <td>     3</td>      <th>                     </th>     <td> </td>   \n",
       "</tr>\n",
       "<tr>\n",
       "  <th>Covariance Type:</th>      <td>nonrobust</td>    <th>                     </th>     <td> </td>   \n",
       "</tr>\n",
       "</table>\n",
       "<table class=\"simpletable\">\n",
       "<tr>\n",
       "                 <td></td>                   <th>coef</th>     <th>std err</th>      <th>t</th>      <th>P>|t|</th>  <th>[0.025</th>    <th>0.975]</th>  \n",
       "</tr>\n",
       "<tr>\n",
       "  <th>Intercept</th>                      <td>    2.1144</td> <td>    0.184</td> <td>   11.476</td> <td> 0.000</td> <td>    1.748</td> <td>    2.481</td>\n",
       "</tr>\n",
       "<tr>\n",
       "  <th>cond[T.pure]</th>                   <td>   -0.0591</td> <td>    0.261</td> <td>   -0.227</td> <td> 0.821</td> <td>   -0.577</td> <td>    0.459</td>\n",
       "</tr>\n",
       "<tr>\n",
       "  <th>in_out[T.outdoor]</th>              <td>   -0.1594</td> <td>    0.261</td> <td>   -0.612</td> <td> 0.542</td> <td>   -0.677</td> <td>    0.358</td>\n",
       "</tr>\n",
       "<tr>\n",
       "  <th>cond[T.pure]:in_out[T.outdoor]</th> <td>   -0.2077</td> <td>    0.369</td> <td>   -0.564</td> <td> 0.574</td> <td>   -0.940</td> <td>    0.525</td>\n",
       "</tr>\n",
       "</table>\n",
       "<table class=\"simpletable\">\n",
       "<tr>\n",
       "  <th>Omnibus:</th>       <td> 3.796</td> <th>  Durbin-Watson:     </th> <td>   0.886</td>\n",
       "</tr>\n",
       "<tr>\n",
       "  <th>Prob(Omnibus):</th> <td> 0.150</td> <th>  Jarque-Bera (JB):  </th> <td>   3.081</td>\n",
       "</tr>\n",
       "<tr>\n",
       "  <th>Skew:</th>          <td> 0.400</td> <th>  Prob(JB):          </th> <td>   0.214</td>\n",
       "</tr>\n",
       "<tr>\n",
       "  <th>Kurtosis:</th>      <td> 3.405</td> <th>  Cond. No.          </th> <td>    6.85</td>\n",
       "</tr>\n",
       "</table><br/><br/>Notes:<br/>[1] Standard Errors assume that the covariance matrix of the errors is correctly specified."
      ],
      "text/plain": [
       "<class 'statsmodels.iolib.summary.Summary'>\n",
       "\"\"\"\n",
       "                            OLS Regression Results                            \n",
       "==============================================================================\n",
       "Dep. Variable:                 dprime   R-squared:                       0.034\n",
       "Model:                            OLS   Adj. R-squared:                  0.002\n",
       "Method:                 Least Squares   F-statistic:                     1.047\n",
       "Date:                Thu, 12 Nov 2020   Prob (F-statistic):              0.376\n",
       "Time:                        13:45:31   Log-Likelihood:                -117.12\n",
       "No. Observations:                  92   AIC:                             242.2\n",
       "Df Residuals:                      88   BIC:                             252.3\n",
       "Df Model:                           3                                         \n",
       "Covariance Type:            nonrobust                                         \n",
       "==================================================================================================\n",
       "                                     coef    std err          t      P>|t|      [0.025      0.975]\n",
       "--------------------------------------------------------------------------------------------------\n",
       "Intercept                          2.1144      0.184     11.476      0.000       1.748       2.481\n",
       "cond[T.pure]                      -0.0591      0.261     -0.227      0.821      -0.577       0.459\n",
       "in_out[T.outdoor]                 -0.1594      0.261     -0.612      0.542      -0.677       0.358\n",
       "cond[T.pure]:in_out[T.outdoor]    -0.2077      0.369     -0.564      0.574      -0.940       0.525\n",
       "==============================================================================\n",
       "Omnibus:                        3.796   Durbin-Watson:                   0.886\n",
       "Prob(Omnibus):                  0.150   Jarque-Bera (JB):                3.081\n",
       "Skew:                           0.400   Prob(JB):                        0.214\n",
       "Kurtosis:                       3.405   Cond. No.                         6.85\n",
       "==============================================================================\n",
       "\n",
       "Notes:\n",
       "[1] Standard Errors assume that the covariance matrix of the errors is correctly specified.\n",
       "\"\"\""
      ]
     },
     "execution_count": 144,
     "metadata": {},
     "output_type": "execute_result"
    }
   ],
   "source": [
    "# build a least squares regression\n",
    "model = smf.ols(\"dprime ~ cond * in_out\", iperf).fit()\n",
    "model.summary()"
   ]
  },
  {
   "cell_type": "markdown",
   "metadata": {
    "slideshow": {
     "slide_type": "slide"
    }
   },
   "source": [
    "## What about bias?\n",
    "\n",
    "It could be that there is a systematic bias in the responses due to the image types."
   ]
  },
  {
   "cell_type": "code",
   "execution_count": 146,
   "metadata": {},
   "outputs": [
    {
     "data": {
      "text/html": [
       "<div>\n",
       "<style scoped>\n",
       "    .dataframe tbody tr th:only-of-type {\n",
       "        vertical-align: middle;\n",
       "    }\n",
       "\n",
       "    .dataframe tbody tr th {\n",
       "        vertical-align: top;\n",
       "    }\n",
       "\n",
       "    .dataframe thead th {\n",
       "        text-align: right;\n",
       "    }\n",
       "</style>\n",
       "<table border=\"1\" class=\"dataframe\">\n",
       "  <thead>\n",
       "    <tr style=\"text-align: right;\">\n",
       "      <th></th>\n",
       "      <th>cond</th>\n",
       "      <th>in_out</th>\n",
       "      <th>mean</th>\n",
       "      <th>std</th>\n",
       "      <th>sem</th>\n",
       "      <th>ci</th>\n",
       "      <th>len</th>\n",
       "    </tr>\n",
       "  </thead>\n",
       "  <tbody>\n",
       "    <tr>\n",
       "      <th>0</th>\n",
       "      <td>mixed</td>\n",
       "      <td>indoor</td>\n",
       "      <td>0.125318</td>\n",
       "      <td>0.202234</td>\n",
       "      <td>0.042169</td>\n",
       "      <td>0.087452</td>\n",
       "      <td>23.0</td>\n",
       "    </tr>\n",
       "    <tr>\n",
       "      <th>1</th>\n",
       "      <td>mixed</td>\n",
       "      <td>outdoor</td>\n",
       "      <td>0.324365</td>\n",
       "      <td>0.161203</td>\n",
       "      <td>0.033613</td>\n",
       "      <td>0.069710</td>\n",
       "      <td>23.0</td>\n",
       "    </tr>\n",
       "    <tr>\n",
       "      <th>2</th>\n",
       "      <td>pure</td>\n",
       "      <td>indoor</td>\n",
       "      <td>0.133894</td>\n",
       "      <td>0.156836</td>\n",
       "      <td>0.032703</td>\n",
       "      <td>0.067821</td>\n",
       "      <td>23.0</td>\n",
       "    </tr>\n",
       "    <tr>\n",
       "      <th>3</th>\n",
       "      <td>pure</td>\n",
       "      <td>outdoor</td>\n",
       "      <td>0.301368</td>\n",
       "      <td>0.158505</td>\n",
       "      <td>0.033051</td>\n",
       "      <td>0.068543</td>\n",
       "      <td>23.0</td>\n",
       "    </tr>\n",
       "  </tbody>\n",
       "</table>\n",
       "</div>"
      ],
      "text/plain": [
       "    cond   in_out      mean       std       sem        ci   len\n",
       "0  mixed   indoor  0.125318  0.202234  0.042169  0.087452  23.0\n",
       "1  mixed  outdoor  0.324365  0.161203  0.033613  0.069710  23.0\n",
       "2   pure   indoor  0.133894  0.156836  0.032703  0.067821  23.0\n",
       "3   pure  outdoor  0.301368  0.158505  0.033051  0.068543  23.0"
      ]
     },
     "execution_count": 146,
     "metadata": {},
     "output_type": "execute_result"
    }
   ],
   "source": [
    "res = ci_within(iperf, indexvar='subj', \n",
    "                withinvars=['cond', 'in_out'], \n",
    "                measvar='c').reset_index()\n",
    "res"
   ]
  },
  {
   "cell_type": "code",
   "execution_count": 147,
   "metadata": {},
   "outputs": [
    {
     "name": "stderr",
     "output_type": "stream",
     "text": [
      "/home/per/anaconda3/lib/python3.7/site-packages/plotnine/utils.py:1246: FutureWarning: is_categorical is deprecated and will be removed in a future version.  Use is_categorical_dtype instead\n",
      "  if pdtypes.is_categorical(arr):\n"
     ]
    },
    {
     "data": {
      "image/png": "[encoded data removed]",
      "text/plain": [
       "<Figure size 640x480 with 1 Axes>"
      ]
     },
     "metadata": {},
     "output_type": "display_data"
    },
    {
     "data": {
      "text/plain": [
       "<ggplot: (8767487982573)>"
      ]
     },
     "execution_count": 147,
     "metadata": {},
     "output_type": "execute_result"
    }
   ],
   "source": [
    "p = (pn.ggplot(res, pn.aes('cond', 'mean', fill='in_out'))\n",
    "     + pn.geom_errorbar(pn.aes(ymin='mean-ci', ymax='mean+ci', width=0.2), \n",
    "                        position=pn.position_dodge(.9))\n",
    "     + pn.geom_point(position=pn.position_dodge(.9), size=4)\n",
    "     + pn.labs(x=\"Condition\", y = \"bias(c)\", fill='Location')\n",
    "    )\n",
    "p"
   ]
  },
  {
   "cell_type": "code",
   "execution_count": 149,
   "metadata": {},
   "outputs": [
    {
     "data": {
      "text/html": [
       "<table class=\"simpletable\">\n",
       "<caption>OLS Regression Results</caption>\n",
       "<tr>\n",
       "  <th>Dep. Variable:</th>            <td>c</td>        <th>  R-squared:         </th> <td>   0.093</td>\n",
       "</tr>\n",
       "<tr>\n",
       "  <th>Model:</th>                   <td>OLS</td>       <th>  Adj. R-squared:    </th> <td>   0.062</td>\n",
       "</tr>\n",
       "<tr>\n",
       "  <th>Method:</th>             <td>Least Squares</td>  <th>  F-statistic:       </th> <td>   3.013</td>\n",
       "</tr>\n",
       "<tr>\n",
       "  <th>Date:</th>             <td>Thu, 12 Nov 2020</td> <th>  Prob (F-statistic):</th>  <td>0.0343</td> \n",
       "</tr>\n",
       "<tr>\n",
       "  <th>Time:</th>                 <td>13:50:18</td>     <th>  Log-Likelihood:    </th> <td> -15.756</td>\n",
       "</tr>\n",
       "<tr>\n",
       "  <th>No. Observations:</th>      <td>    92</td>      <th>  AIC:               </th> <td>   39.51</td>\n",
       "</tr>\n",
       "<tr>\n",
       "  <th>Df Residuals:</th>          <td>    88</td>      <th>  BIC:               </th> <td>   49.60</td>\n",
       "</tr>\n",
       "<tr>\n",
       "  <th>Df Model:</th>              <td>     3</td>      <th>                     </th>     <td> </td>   \n",
       "</tr>\n",
       "<tr>\n",
       "  <th>Covariance Type:</th>      <td>nonrobust</td>    <th>                     </th>     <td> </td>   \n",
       "</tr>\n",
       "</table>\n",
       "<table class=\"simpletable\">\n",
       "<tr>\n",
       "                 <td></td>                   <th>coef</th>     <th>std err</th>      <th>t</th>      <th>P>|t|</th>  <th>[0.025</th>    <th>0.975]</th>  \n",
       "</tr>\n",
       "<tr>\n",
       "  <th>Intercept</th>                      <td>    0.1253</td> <td>    0.061</td> <td>    2.047</td> <td> 0.044</td> <td>    0.004</td> <td>    0.247</td>\n",
       "</tr>\n",
       "<tr>\n",
       "  <th>cond[T.pure]</th>                   <td>    0.0086</td> <td>    0.087</td> <td>    0.099</td> <td> 0.921</td> <td>   -0.163</td> <td>    0.181</td>\n",
       "</tr>\n",
       "<tr>\n",
       "  <th>in_out[T.outdoor]</th>              <td>    0.1990</td> <td>    0.087</td> <td>    2.299</td> <td> 0.024</td> <td>    0.027</td> <td>    0.371</td>\n",
       "</tr>\n",
       "<tr>\n",
       "  <th>cond[T.pure]:in_out[T.outdoor]</th> <td>   -0.0316</td> <td>    0.122</td> <td>   -0.258</td> <td> 0.797</td> <td>   -0.275</td> <td>    0.212</td>\n",
       "</tr>\n",
       "</table>\n",
       "<table class=\"simpletable\">\n",
       "<tr>\n",
       "  <th>Omnibus:</th>       <td> 0.249</td> <th>  Durbin-Watson:     </th> <td>   1.134</td>\n",
       "</tr>\n",
       "<tr>\n",
       "  <th>Prob(Omnibus):</th> <td> 0.883</td> <th>  Jarque-Bera (JB):  </th> <td>   0.432</td>\n",
       "</tr>\n",
       "<tr>\n",
       "  <th>Skew:</th>          <td>-0.005</td> <th>  Prob(JB):          </th> <td>   0.806</td>\n",
       "</tr>\n",
       "<tr>\n",
       "  <th>Kurtosis:</th>      <td> 2.664</td> <th>  Cond. No.          </th> <td>    6.85</td>\n",
       "</tr>\n",
       "</table><br/><br/>Notes:<br/>[1] Standard Errors assume that the covariance matrix of the errors is correctly specified."
      ],
      "text/plain": [
       "<class 'statsmodels.iolib.summary.Summary'>\n",
       "\"\"\"\n",
       "                            OLS Regression Results                            \n",
       "==============================================================================\n",
       "Dep. Variable:                      c   R-squared:                       0.093\n",
       "Model:                            OLS   Adj. R-squared:                  0.062\n",
       "Method:                 Least Squares   F-statistic:                     3.013\n",
       "Date:                Thu, 12 Nov 2020   Prob (F-statistic):             0.0343\n",
       "Time:                        13:50:18   Log-Likelihood:                -15.756\n",
       "No. Observations:                  92   AIC:                             39.51\n",
       "Df Residuals:                      88   BIC:                             49.60\n",
       "Df Model:                           3                                         \n",
       "Covariance Type:            nonrobust                                         \n",
       "==================================================================================================\n",
       "                                     coef    std err          t      P>|t|      [0.025      0.975]\n",
       "--------------------------------------------------------------------------------------------------\n",
       "Intercept                          0.1253      0.061      2.047      0.044       0.004       0.247\n",
       "cond[T.pure]                       0.0086      0.087      0.099      0.921      -0.163       0.181\n",
       "in_out[T.outdoor]                  0.1990      0.087      2.299      0.024       0.027       0.371\n",
       "cond[T.pure]:in_out[T.outdoor]    -0.0316      0.122     -0.258      0.797      -0.275       0.212\n",
       "==============================================================================\n",
       "Omnibus:                        0.249   Durbin-Watson:                   1.134\n",
       "Prob(Omnibus):                  0.883   Jarque-Bera (JB):                0.432\n",
       "Skew:                          -0.005   Prob(JB):                        0.806\n",
       "Kurtosis:                       2.664   Cond. No.                         6.85\n",
       "==============================================================================\n",
       "\n",
       "Notes:\n",
       "[1] Standard Errors assume that the covariance matrix of the errors is correctly specified.\n",
       "\"\"\""
      ]
     },
     "execution_count": 149,
     "metadata": {},
     "output_type": "execute_result"
    }
   ],
   "source": [
    "# build a linear regression of the full model\n",
    "m0 = smf.ols(\"c ~ cond * in_out\", iperf).fit()\n",
    "m0.summary()"
   ]
  },
  {
   "cell_type": "markdown",
   "metadata": {
    "slideshow": {
     "slide_type": "slide"
    }
   },
   "source": [
    "## Conclusion\n",
    "\n",
    "- We see a robust bias whereby participants are less likely to respond 'old' for outdoor items.\n",
    "- This is regardless of whether the list is mixed or pure."
   ]
  },
  {
   "cell_type": "markdown",
   "metadata": {
    "slideshow": {
     "slide_type": "slide"
    }
   },
   "source": [
    "## Assignment before next class\n",
    "\n",
    "- We will post a small set of analyses to run on the word memory data based on the examples in this class\n",
    "- This will be due on ***Thursday*** next week\n",
    "\n",
    "### See you next week!!!"
   ]
  }
 ],
 "metadata": {
  "celltoolbar": "Slideshow",
  "kernelspec": {
   "display_name": "Python 3",
   "language": "python",
   "name": "python3"
  },
  "language_info": {
   "codemirror_mode": {
    "name": "ipython",
    "version": 3
   },
   "file_extension": ".py",
   "mimetype": "text/x-python",
   "name": "python",
   "nbconvert_exporter": "python",
   "pygments_lexer": "ipython3",
   "version": "3.7.7"
  },
  "rise": {
   "scroll": true
  }
 },
 "nbformat": 4,
 "nbformat_minor": 2
}
