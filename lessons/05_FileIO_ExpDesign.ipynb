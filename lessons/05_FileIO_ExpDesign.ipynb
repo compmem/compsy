{
 "cells": [
  {
   "cell_type": "markdown",
   "metadata": {
    "slideshow": {
     "slide_type": "slide"
    }
   },
   "source": [
    "# File I/O and Experimental Design\n",
    "## Computational Methods in Psychology (and Neuroscience)\n",
    "### Psychology 4500/7559 --- Fall 2020\n",
    "By: Per B. Sederberg, PhD\n",
    "\n"
   ]
  },
  {
   "cell_type": "markdown",
   "metadata": {
    "slideshow": {
     "slide_type": "slide"
    }
   },
   "source": [
    "# Lesson Objectives\n",
    "\n",
    "Upon completion of this lesson, students should have learned:\n",
    "\n",
    "1. Read and write basic text files\n",
    "\n",
    "2. Read and write CSV files\n",
    "\n",
    "3. Know how to pickle objects\n",
    "\n",
    "then:\n",
    "\n",
    "4. Fundamentals of experiment design\n",
    "\n",
    "5. The link between science and coding\n",
    "\n",
    "6. Dependent vs. Independent variables\n",
    "\n",
    "7. Constraints on list structure\n",
    "\n",
    "8. How to make a simple list of dictionaries to define trials\n"
   ]
  },
  {
   "cell_type": "markdown",
   "metadata": {
    "slideshow": {
     "slide_type": "slide"
    }
   },
   "source": [
    "## Sorting data in files\n",
    "\n",
    "- Say we have some numbers in a file:"
   ]
  },
  {
   "cell_type": "code",
   "execution_count": 10,
   "metadata": {},
   "outputs": [
    {
     "name": "stdout",
     "output_type": "stream",
     "text": [
      "88 71 42 18 17 88 41 3 13 7 86 85 8 25 57 55 100 43 14 73 \r\n"
     ]
    }
   ],
   "source": [
    "!more spaced_numbers.txt"
   ]
  },
  {
   "cell_type": "markdown",
   "metadata": {},
   "source": [
    "- Let's read them in, sort them, and write them back out sorted!"
   ]
  },
  {
   "cell_type": "markdown",
   "metadata": {
    "slideshow": {
     "slide_type": "slide"
    }
   },
   "source": [
    "## Reading from files\n",
    "\n",
    "* Since these numbers are all on one line, we just have to read one\n",
    "  line in:\n"
   ]
  },
  {
   "cell_type": "code",
   "execution_count": 22,
   "metadata": {},
   "outputs": [
    {
     "name": "stdout",
     "output_type": "stream",
     "text": [
      "42 25 98 98 58 54 31 73 0 51 32 34 63 48 29 46 86 51 97 32 \n",
      "\n"
     ]
    }
   ],
   "source": [
    "# you can open a file for reading, writing, or appending\n",
    "f = open('spaced_numbers.txt', 'r')\n",
    "\n",
    "# Read one line in\n",
    "line = f.readline()\n",
    "\n",
    "# print what we read in\n",
    "print(line)\n",
    "\n",
    "# close the file\n",
    "f.close()"
   ]
  },
  {
   "cell_type": "markdown",
   "metadata": {
    "slideshow": {
     "slide_type": "slide"
    }
   },
   "source": [
    "## Files are objects, too!\n",
    "\n",
    "* You can see that `f` is a file object with methods:\n"
   ]
  },
  {
   "cell_type": "code",
   "execution_count": 23,
   "metadata": {},
   "outputs": [
    {
     "name": "stdout",
     "output_type": "stream",
     "text": [
      "['buffer', 'close', 'closed', 'detach', 'encoding', 'errors', 'fileno', 'flush', 'isatty', 'line_buffering', 'mode', 'name', 'newlines', 'read', 'readable', 'readline', 'readlines', 'reconfigure', 'seek', 'seekable', 'tell', 'truncate', 'writable', 'write', 'write_through', 'writelines']\n"
     ]
    }
   ],
   "source": [
    "# print out all non-hidden attributes and methods\n",
    "print([x for x in dir(f) if x[0]!='_'])"
   ]
  },
  {
   "cell_type": "markdown",
   "metadata": {
    "slideshow": {
     "slide_type": "slide"
    }
   },
   "source": [
    "## Parsing the numbers\n",
    "\n",
    "* We need to turn our big string into a list of numbers:\n"
   ]
  },
  {
   "cell_type": "code",
   "execution_count": 24,
   "metadata": {},
   "outputs": [
    {
     "data": {
      "text/plain": [
       "'42 25 98 98 58 54 31 73 0 51 32 34 63 48 29 46 86 51 97 32 \\n'"
      ]
     },
     "execution_count": 24,
     "metadata": {},
     "output_type": "execute_result"
    }
   ],
   "source": [
    "line"
   ]
  },
  {
   "cell_type": "markdown",
   "metadata": {},
   "source": [
    "* First we can use ``strip`` to pull off the trailing ``newline``."
   ]
  },
  {
   "cell_type": "code",
   "execution_count": 25,
   "metadata": {},
   "outputs": [
    {
     "data": {
      "text/plain": [
       "'42 25 98 98 58 54 31 73 0 51 32 34 63 48 29 46 86 51 97 32'"
      ]
     },
     "execution_count": 25,
     "metadata": {},
     "output_type": "execute_result"
    }
   ],
   "source": [
    "line.strip()"
   ]
  },
  {
   "cell_type": "markdown",
   "metadata": {},
   "source": [
    "* We can combine that with split to make a list of numbers"
   ]
  },
  {
   "cell_type": "code",
   "execution_count": 30,
   "metadata": {},
   "outputs": [
    {
     "name": "stdout",
     "output_type": "stream",
     "text": [
      "['42', '25', '98', '98', '58', '54', '31', '73', '0', '51', '32', '34', '63', '48', '29', '46', '86', '51', '97', '32']\n"
     ]
    }
   ],
   "source": [
    "# note how you can apply the strip and split right after one another\n",
    "# that's because strip returns a string\n",
    "print(line.strip().split(' '))"
   ]
  },
  {
   "cell_type": "markdown",
   "metadata": {
    "slideshow": {
     "slide_type": "slide"
    }
   },
   "source": [
    "## Convert to numbers\n",
    "\n",
    "* Now we have a list of strings, but we want numbers.\n",
    "\n",
    "* We could loop over each item in that list with a for loop, creating a new list."
   ]
  },
  {
   "cell_type": "code",
   "execution_count": 33,
   "metadata": {},
   "outputs": [],
   "source": [
    "ints = []\n",
    "for s in line.strip().split(' '):\n",
    "    ints.append(int(s))"
   ]
  },
  {
   "cell_type": "markdown",
   "metadata": {},
   "source": [
    "* Or, we can use a list comprehension to convert it in one line :)"
   ]
  },
  {
   "cell_type": "code",
   "execution_count": 34,
   "metadata": {},
   "outputs": [
    {
     "name": "stdout",
     "output_type": "stream",
     "text": [
      "[42, 25, 98, 98, 58, 54, 31, 73, 0, 51, 32, 34, 63, 48, 29, 46, 86, 51, 97, 32]\n"
     ]
    }
   ],
   "source": [
    "ints = [int(s) for s in line.strip().split(' ')]\n",
    "print(ints)"
   ]
  },
  {
   "cell_type": "markdown",
   "metadata": {
    "slideshow": {
     "slide_type": "slide"
    }
   },
   "source": [
    "## Sorting things out\n",
    "\n",
    "* Now that we have a list, sorting is easy :)\n"
   ]
  },
  {
   "cell_type": "code",
   "execution_count": 35,
   "metadata": {},
   "outputs": [
    {
     "name": "stdout",
     "output_type": "stream",
     "text": [
      "[0, 25, 29, 31, 32, 32, 34, 42, 46, 48, 51, 51, 54, 58, 63, 73, 86, 97, 98, 98]\n"
     ]
    }
   ],
   "source": [
    "ints.sort()\n",
    "print(ints)"
   ]
  },
  {
   "cell_type": "code",
   "execution_count": 36,
   "metadata": {},
   "outputs": [
    {
     "name": "stdout",
     "output_type": "stream",
     "text": [
      "[98, 98, 97, 86, 73, 63, 58, 54, 51, 51, 48, 46, 42, 34, 32, 32, 31, 29, 25, 0]\n"
     ]
    }
   ],
   "source": [
    "# you can reverse it, too!\n",
    "ints.sort(reverse=True)\n",
    "print(ints)"
   ]
  },
  {
   "cell_type": "markdown",
   "metadata": {
    "slideshow": {
     "slide_type": "slide"
    }
   },
   "source": [
    "## Write it back out\n",
    "\n",
    "* Now we have our sorted list, let's save it back to file\n"
   ]
  },
  {
   "cell_type": "code",
   "execution_count": 37,
   "metadata": {},
   "outputs": [],
   "source": [
    "with open('spaced_numbers_sorted.txt', 'w') as f:\n",
    "    for i in ints:\n",
    "        f.write('%d ' % i)\n",
    "    f.write('\\n')"
   ]
  },
  {
   "cell_type": "code",
   "execution_count": 38,
   "metadata": {},
   "outputs": [
    {
     "name": "stdout",
     "output_type": "stream",
     "text": [
      "98 98 97 86 73 63 58 54 51 51 48 46 42 34 32 32 31 29 25 0 \r\n"
     ]
    }
   ],
   "source": [
    "!more spaced_numbers_sorted.txt"
   ]
  },
  {
   "cell_type": "markdown",
   "metadata": {
    "slideshow": {
     "slide_type": "slide"
    }
   },
   "source": [
    "## Random Numbers\n",
    "\n",
    "How did I generate those random numbers in the first place?"
   ]
  },
  {
   "cell_type": "code",
   "execution_count": 21,
   "metadata": {},
   "outputs": [],
   "source": [
    "# import the random module\n",
    "import random\n",
    "\n",
    "# open a file for writing\n",
    "with open('spaced_numbers.txt', 'w') as f:\n",
    "    # loop some number of times\n",
    "    for i in range(20):\n",
    "        # write out a random integer, followed by a space\n",
    "        f.write('%d ' % random.randint(0, 100))\n",
    "    f.write('\\n')\n"
   ]
  },
  {
   "cell_type": "markdown",
   "metadata": {
    "slideshow": {
     "slide_type": "slide"
    }
   },
   "source": [
    "## Random Numbers\n",
    "\n",
    "* You have loads of random operations at your fingertips:\n"
   ]
  },
  {
   "cell_type": "code",
   "execution_count": 39,
   "metadata": {},
   "outputs": [
    {
     "name": "stdout",
     "output_type": "stream",
     "text": [
      "['BPF', 'LOG4', 'NV_MAGICCONST', 'RECIP_BPF', 'Random', 'SG_MAGICCONST', 'SystemRandom', 'TWOPI', 'betavariate', 'choice', 'choices', 'expovariate', 'gammavariate', 'gauss', 'getrandbits', 'getstate', 'lognormvariate', 'normalvariate', 'paretovariate', 'randint', 'random', 'randrange', 'sample', 'seed', 'setstate', 'shuffle', 'triangular', 'uniform', 'vonmisesvariate', 'weibullvariate']\n"
     ]
    }
   ],
   "source": [
    "print([m for m in dir(random) if m[0] != '_'])"
   ]
  },
  {
   "cell_type": "markdown",
   "metadata": {},
   "source": [
    "* `random.shuffle` is particularly useful in our work to randomize a list:"
   ]
  },
  {
   "cell_type": "code",
   "execution_count": 40,
   "metadata": {},
   "outputs": [
    {
     "name": "stdout",
     "output_type": "stream",
     "text": [
      "[32, 48, 98, 25, 32, 31, 34, 51, 86, 98, 51, 73, 58, 29, 42, 0, 97, 63, 54, 46]\n"
     ]
    }
   ],
   "source": [
    "random.shuffle(ints)\n",
    "print(ints)"
   ]
  },
  {
   "cell_type": "markdown",
   "metadata": {
    "slideshow": {
     "slide_type": "slide"
    }
   },
   "source": [
    "## What about CSV files?\n",
    "\n",
    "* Most often our data are in formatted files, such as comma-separated values (CSV) files, not just lists of numbers:"
   ]
  },
  {
   "cell_type": "code",
   "execution_count": 42,
   "metadata": {},
   "outputs": [
    {
     "name": "stdout",
     "output_type": "stream",
     "text": [
      "Subject,Performance\r\n",
      "0,0.19839211032002024\r\n",
      "1,0.41428489112125344\r\n",
      "2,0.027715898314496612\r\n",
      "3,0.05627103270567213\r\n",
      "4,0.27079871696692148\r\n",
      "5,0.93739232241039394\r\n",
      "6,0.49069767020105493\r\n",
      "7,0.24287893232441449\r\n",
      "8,0.97942327679701313\r\n",
      "9,0.3229346781148571\r\n"
     ]
    }
   ],
   "source": [
    "!more exp_res.csv"
   ]
  },
  {
   "cell_type": "markdown",
   "metadata": {
    "slideshow": {
     "slide_type": "slide"
    }
   },
   "source": [
    "## Using the csv module\n",
    "\n",
    "* We could parse the file with strip and split like before\n",
    "\n",
    "* or we can use the builtin ``csv`` module to read and write them:\n"
   ]
  },
  {
   "cell_type": "code",
   "execution_count": 44,
   "metadata": {},
   "outputs": [
    {
     "data": {
      "text/plain": [
       "[OrderedDict([('Subject', '0'), ('Performance', '0.19839211032002024')]),\n",
       " OrderedDict([('Subject', '1'), ('Performance', '0.41428489112125344')]),\n",
       " OrderedDict([('Subject', '2'), ('Performance', '0.027715898314496612')]),\n",
       " OrderedDict([('Subject', '3'), ('Performance', '0.05627103270567213')]),\n",
       " OrderedDict([('Subject', '4'), ('Performance', '0.27079871696692148')]),\n",
       " OrderedDict([('Subject', '5'), ('Performance', '0.93739232241039394')]),\n",
       " OrderedDict([('Subject', '6'), ('Performance', '0.49069767020105493')]),\n",
       " OrderedDict([('Subject', '7'), ('Performance', '0.24287893232441449')]),\n",
       " OrderedDict([('Subject', '8'), ('Performance', '0.97942327679701313')]),\n",
       " OrderedDict([('Subject', '9'), ('Performance', '0.3229346781148571')])]"
      ]
     },
     "execution_count": 44,
     "metadata": {},
     "output_type": "execute_result"
    }
   ],
   "source": [
    "import csv\n",
    "\n",
    "# create a dictionary reader\n",
    "dr = csv.DictReader(open('exp_res.csv','r'))\n",
    "\n",
    "# read in all the lines into a list of dicts\n",
    "d = [l for l in dr]\n",
    "\n",
    "# note it creates OrderedDict instances!!!\n",
    "d"
   ]
  },
  {
   "cell_type": "markdown",
   "metadata": {
    "slideshow": {
     "slide_type": "slide"
    }
   },
   "source": [
    "## Pickling!\n",
    "\n",
    "* Often we want to dump and object to file for future use.\n",
    "\n",
    "* Pickling allows us to *serialize* Python objects (i.e., turn them into a byte stream that can be saved to file):\n"
   ]
  },
  {
   "cell_type": "code",
   "execution_count": 47,
   "metadata": {},
   "outputs": [
    {
     "name": "stdout",
     "output_type": "stream",
     "text": [
      "�\u0003]q\u0000(ccollections\r\n",
      "OrderedDict\r\n",
      "q\u0001)Rq\u0002(X\u0007\u0000\u0000\u0000Subjectq\u0003X\u0001\u0000\u0000\u00000q\u0004X\u000b",
      "\u0000\u0000\u0000Performanceq\u0005X\u0013\u0000\u0000\u00000.19839211032002024q\u0006uh\u0001)Rq\u0007(h\u0003X\u0001\u0000\u0000\u00001q\bh\u0005X\u0013\u0000\u0000\u00000.41428489112125344q\tuh\u0001)Rq\r\n",
      "(h\u0003X\u0001\u0000\u0000\u00002q\u000b",
      "h\u0005X\u0014\u0000\u0000\u00000.027715898314496612q\f",
      "uh\u0001)Rq\r",
      "(h\u0003X\u0001\u0000\u0000\u00003q\u000eh\u0005X\u0013\u0000\u0000\u00000.05627103270567213q\u000fuh\u0001)Rq\u0010(h\u0003X\u0001\u0000\u0000\u00004q\u0011h\u0005X\u0013\u0000\u0000\u00000.27079871696692148q\u0012uh\u0001)Rq\u0013(h\u0003X\u0001\u0000\u0000\u00005q\u0014h\u0005X\u0013\u0000\u0000\u00000.93739232241039394q\u0015uh\u0001)Rq\u0016(h\u0003X\u0001\u0000\u0000\u00006q\u0017h\u0005X\u0013\u0000\u0000\u00000.49069767020105493q\u0018uh\u0001)Rq\u0019(h\u0003X\u0001\u0000\u0000\u00007q\u001ah\u0005X\u0013\u0000\u0000\u00000.24287893232441449q\u001buh\u0001)Rq\u001c",
      "(h\u0003X\u0001\u0000\u0000\u00008q\u001d",
      "h\u0005X\u0013\u0000\u0000\u00000.97942327679701313q\u001e",
      "uh\u0001)Rq\u001f(h\u0003X\u0001\u0000\u0000\u00009q h\u0005X\u0012\u0000\u0000\u00000.3229346781148571q!ue."
     ]
    }
   ],
   "source": [
    "import pickle\n",
    "\n",
    "# dump the list of ordered dicts to a file \n",
    "# (note the 'b' in the 'wb', which means a \n",
    "# binary stream instead of a ascii text stream)\n",
    "pickle.dump(d, open('my_dict.pickle', 'wb'))\n",
    "\n",
    "!cat my_dict.pickle"
   ]
  },
  {
   "cell_type": "markdown",
   "metadata": {
    "slideshow": {
     "slide_type": "slide"
    }
   },
   "source": [
    "## Unpickling\n",
    "\n",
    "* As you can see, the serialization process is not usually human-readable\n",
    "* Once pickled, it's easy to load it back:\n"
   ]
  },
  {
   "cell_type": "code",
   "execution_count": 48,
   "metadata": {},
   "outputs": [
    {
     "data": {
      "text/plain": [
       "[OrderedDict([('Subject', '0'), ('Performance', '0.19839211032002024')]),\n",
       " OrderedDict([('Subject', '1'), ('Performance', '0.41428489112125344')]),\n",
       " OrderedDict([('Subject', '2'), ('Performance', '0.027715898314496612')]),\n",
       " OrderedDict([('Subject', '3'), ('Performance', '0.05627103270567213')]),\n",
       " OrderedDict([('Subject', '4'), ('Performance', '0.27079871696692148')]),\n",
       " OrderedDict([('Subject', '5'), ('Performance', '0.93739232241039394')]),\n",
       " OrderedDict([('Subject', '6'), ('Performance', '0.49069767020105493')]),\n",
       " OrderedDict([('Subject', '7'), ('Performance', '0.24287893232441449')]),\n",
       " OrderedDict([('Subject', '8'), ('Performance', '0.97942327679701313')]),\n",
       " OrderedDict([('Subject', '9'), ('Performance', '0.3229346781148571')])]"
      ]
     },
     "execution_count": 48,
     "metadata": {},
     "output_type": "execute_result"
    }
   ],
   "source": [
    "# open the file back for reading\n",
    "d2 = pickle.load(open('my_dict.pickle','rb'))\n",
    "d2"
   ]
  },
  {
   "cell_type": "markdown",
   "metadata": {
    "slideshow": {
     "slide_type": "slide"
    }
   },
   "source": [
    "## Notes on Pickles\n",
    "\n",
    "* Delicious, but...\n",
    "\n",
    "* Note that pickles are *NOT* portable across languages\n",
    "\n",
    "* If you require interoperability, then you'll want to use a different\n",
    "  file format\n",
    "\n",
    "* Raw text is about as portable as they get, but is not always the\n",
    "  most efficient\n",
    "\n",
    "* My favorite data storage format is Hierarchical Data Format v. 5 (HDF5), which is widely used (even adopted by Matlab) and has I/O libraries for almost every programming language.\n",
    "\n",
    "  * e.g., [h5py](https://www.h5py.org/)"
   ]
  },
  {
   "cell_type": "markdown",
   "metadata": {
    "slideshow": {
     "slide_type": "slide"
    }
   },
   "source": [
    "# Experimental Design\n",
    "\n",
    "## Science is hard\n",
    "\n",
    "![](https://imgs.xkcd.com/comics/purity.png)"
   ]
  },
  {
   "cell_type": "markdown",
   "metadata": {
    "slideshow": {
     "slide_type": "slide"
    }
   },
   "source": [
    "## It all starts with a question\n",
    "\n",
    "### What are we trying to do, anyway?\n",
    "\n",
    "![](./figs/brain_quest.png)"
   ]
  },
  {
   "cell_type": "markdown",
   "metadata": {
    "slideshow": {
     "slide_type": "slide"
    }
   },
   "source": [
    "## The Scientific method as a computer program"
   ]
  },
  {
   "cell_type": "markdown",
   "metadata": {},
   "source": [
    "* Science basically involves figuring out how a function works by passing in variables and observing the output."
   ]
  },
  {
   "cell_type": "code",
   "execution_count": null,
   "metadata": {
    "slideshow": {
     "slide_type": ""
    }
   },
   "outputs": [],
   "source": [
    "def human_brain(*args, **kwargs):\n",
    "    # stuff happens\n",
    "    \n",
    "    return output"
   ]
  },
  {
   "cell_type": "markdown",
   "metadata": {
    "slideshow": {
     "slide_type": "slide"
    }
   },
   "source": [
    "## Independent vs. dependent variables\n",
    "\n",
    "- The inputs are the ***independent*** variables\n",
    "  - e.g., items, conditions, etc...\n",
    "- The outputs are the ***dependent*** variables\n",
    "  - e.g., choices, reaction times, etc...\n",
    "- There are also ***controlled*** variables that you keep the same. \n",
    "  - The goal is to prevent their influence the effect of independent on dependent variables.\n",
    "  - e.g., if you changed items when you changed conditions, you wouldn't know if it was the items or the conditions that affected the output."
   ]
  },
  {
   "cell_type": "markdown",
   "metadata": {
    "slideshow": {
     "slide_type": "slide"
    }
   },
   "source": [
    "## The Hypothesis\n",
    "\n",
    "- The scientist makes a conjecture about how change in independent variables will give rise to change in dependent variables.\n",
    "\n",
    "- The hypothesis is an instantiation of your ***model*** of the world, even if it's a poorly specified model.\n",
    "\n",
    "- It could be that the independent variables have no relation to the dependent variables, in which case we need a new hypothesis."
   ]
  },
  {
   "cell_type": "markdown",
   "metadata": {
    "slideshow": {
     "slide_type": "slide"
    }
   },
   "source": [
    "## Experiments test hypotheses\n",
    "\n",
    "- The goal is to design an experiment that can reliably ***disprove*** your hypothesis.\n",
    "- Ideally, your hypothesis is a *generative* model and you can run simulations to help you design a powerful experiment."
   ]
  },
  {
   "cell_type": "markdown",
   "metadata": {
    "slideshow": {
     "slide_type": "slide"
    }
   },
   "source": [
    "## Generative model?\n",
    "\n",
    "- A ***generative*** model is like a function you've written to mimic the behavior of the function you're trying to understand.\n",
    "- The alternative is a ***descriptive/discriminative*** model, which tests whether a change in the input to a function gives rise to a significant change in the output.\n",
    "\n",
    "(Details in another course, Quantified Cognition, which I typically teach in the Spring.)\n"
   ]
  },
  {
   "cell_type": "markdown",
   "metadata": {
    "slideshow": {
     "slide_type": "slide"
    }
   },
   "source": [
    "## Learning by example: Flanker Task\n",
    "\n",
    "Which of these is harder to indicate the direction the middle arrow is pointing?"
   ]
  },
  {
   "cell_type": "markdown",
   "metadata": {
    "slideshow": {
     "slide_type": "slide"
    }
   },
   "source": [
    "# <<<<<<<"
   ]
  },
  {
   "cell_type": "markdown",
   "metadata": {
    "slideshow": {
     "slide_type": "slide"
    }
   },
   "source": [
    "# <<<><<<"
   ]
  },
  {
   "cell_type": "markdown",
   "metadata": {
    "slideshow": {
     "slide_type": "slide"
    }
   },
   "source": [
    "# ===<==="
   ]
  },
  {
   "cell_type": "markdown",
   "metadata": {
    "slideshow": {
     "slide_type": "slide"
    }
   },
   "source": [
    "## The Flanker task\n",
    "\n",
    "Tests the role of attention and cognitive control in decision-making.\n",
    "\n",
    "### Hypothesis\n",
    "\n",
    "The items that flank a target item will affect processing of that item, requiring exertion of cognitive control to overcome the interference."
   ]
  },
  {
   "cell_type": "markdown",
   "metadata": {
    "slideshow": {
     "slide_type": "slide"
    }
   },
   "source": [
    "## How should we test this hypothesis?\n",
    "\n",
    "- How many trials do we need?\n",
    "- Should we do a between- or within-subject manipulation?\n",
    "- What conditions should we include?\n",
    "- What proportion of each condition should we include?\n",
    "- Does the order of the items matter?\n"
   ]
  },
  {
   "cell_type": "markdown",
   "metadata": {
    "slideshow": {
     "slide_type": "slide"
    }
   },
   "source": [
    "## List generation vs. Stimulus Presentation\n",
    "\n",
    "- Most experiments can separate the generation of random lists that govern what we will present to participants and the code necessary to handle the presentation of stimuli and collect the responses.\n",
    "\n",
    "  - The primary exception would be adaptive experiments that depend on the behavior (or neural activity) of the participant to determine subsequent trials.\n",
    "\n",
    "- We'll focus here on the list generation portion of the experiment."
   ]
  },
  {
   "cell_type": "markdown",
   "metadata": {
    "slideshow": {
     "slide_type": "slide"
    }
   },
   "source": [
    "## Define the trial types\n",
    "\n",
    "We have the following variables:\n",
    "\n",
    "- Condition: Incongruent, Congruent, Neutral\n",
    "- Direction: Left, Right"
   ]
  },
  {
   "cell_type": "code",
   "execution_count": 63,
   "metadata": {},
   "outputs": [],
   "source": [
    "# conditions\n",
    "conds = [{'condition': 'congruent',\n",
    "          'direction': 'left',\n",
    "          'stimulus': '<<<<<<<'\n",
    "         },\n",
    "         {'condition': 'congruent',\n",
    "          'direction': 'right',\n",
    "          'stimulus': '>>>>>>>'\n",
    "         },\n",
    "         {'condition': 'incongruent',\n",
    "          'direction': 'left',\n",
    "          'stimulus': '>>><>>>'\n",
    "         },\n",
    "         {'condition': 'incongruent',\n",
    "          'direction': 'right',\n",
    "          'stimulus': '<<<><<<'\n",
    "         },\n",
    "         {'condition': 'neutral',\n",
    "          'direction': 'left',\n",
    "          'stimulus': '===<==='\n",
    "         },\n",
    "         {'condition': 'neutral',\n",
    "          'direction': 'right',\n",
    "          'stimulus': '===>==='\n",
    "         },]"
   ]
  },
  {
   "cell_type": "markdown",
   "metadata": {
    "slideshow": {
     "slide_type": "slide"
    }
   },
   "source": [
    "## Turning conditions into trials\n",
    "\n",
    "- As long as we want to keep the conditions balanced, we can just specify the number of repetitions."
   ]
  },
  {
   "cell_type": "code",
   "execution_count": 64,
   "metadata": {},
   "outputs": [
    {
     "data": {
      "text/plain": [
       "[{'condition': 'congruent', 'direction': 'left', 'stimulus': '<<<<<<<'},\n",
       " {'condition': 'congruent', 'direction': 'right', 'stimulus': '>>>>>>>'},\n",
       " {'condition': 'incongruent', 'direction': 'left', 'stimulus': '>>><>>>'},\n",
       " {'condition': 'incongruent', 'direction': 'right', 'stimulus': '<<<><<<'},\n",
       " {'condition': 'neutral', 'direction': 'left', 'stimulus': '===<==='},\n",
       " {'condition': 'neutral', 'direction': 'right', 'stimulus': '===>==='},\n",
       " {'condition': 'congruent', 'direction': 'left', 'stimulus': '<<<<<<<'},\n",
       " {'condition': 'congruent', 'direction': 'right', 'stimulus': '>>>>>>>'},\n",
       " {'condition': 'incongruent', 'direction': 'left', 'stimulus': '>>><>>>'},\n",
       " {'condition': 'incongruent', 'direction': 'right', 'stimulus': '<<<><<<'},\n",
       " {'condition': 'neutral', 'direction': 'left', 'stimulus': '===<==='},\n",
       " {'condition': 'neutral', 'direction': 'right', 'stimulus': '===>==='},\n",
       " {'condition': 'congruent', 'direction': 'left', 'stimulus': '<<<<<<<'},\n",
       " {'condition': 'congruent', 'direction': 'right', 'stimulus': '>>>>>>>'},\n",
       " {'condition': 'incongruent', 'direction': 'left', 'stimulus': '>>><>>>'},\n",
       " {'condition': 'incongruent', 'direction': 'right', 'stimulus': '<<<><<<'},\n",
       " {'condition': 'neutral', 'direction': 'left', 'stimulus': '===<==='},\n",
       " {'condition': 'neutral', 'direction': 'right', 'stimulus': '===>==='},\n",
       " {'condition': 'congruent', 'direction': 'left', 'stimulus': '<<<<<<<'},\n",
       " {'condition': 'congruent', 'direction': 'right', 'stimulus': '>>>>>>>'},\n",
       " {'condition': 'incongruent', 'direction': 'left', 'stimulus': '>>><>>>'},\n",
       " {'condition': 'incongruent', 'direction': 'right', 'stimulus': '<<<><<<'},\n",
       " {'condition': 'neutral', 'direction': 'left', 'stimulus': '===<==='},\n",
       " {'condition': 'neutral', 'direction': 'right', 'stimulus': '===>==='}]"
      ]
     },
     "execution_count": 64,
     "metadata": {},
     "output_type": "execute_result"
    }
   ],
   "source": [
    "num_reps = 4\n",
    "trials = conds * num_reps\n",
    "trials"
   ]
  },
  {
   "cell_type": "markdown",
   "metadata": {
    "slideshow": {
     "slide_type": "slide"
    }
   },
   "source": [
    "## Randomizing the order\n",
    "\n",
    "- We don't want the participant to know what trials will come next\n",
    "- We can use the random module to help us here:"
   ]
  },
  {
   "cell_type": "code",
   "execution_count": 65,
   "metadata": {},
   "outputs": [
    {
     "data": {
      "text/plain": [
       "[{'condition': 'congruent', 'direction': 'left', 'stimulus': '<<<<<<<'},\n",
       " {'condition': 'incongruent', 'direction': 'right', 'stimulus': '<<<><<<'},\n",
       " {'condition': 'congruent', 'direction': 'left', 'stimulus': '<<<<<<<'},\n",
       " {'condition': 'neutral', 'direction': 'left', 'stimulus': '===<==='},\n",
       " {'condition': 'incongruent', 'direction': 'left', 'stimulus': '>>><>>>'},\n",
       " {'condition': 'incongruent', 'direction': 'left', 'stimulus': '>>><>>>'},\n",
       " {'condition': 'congruent', 'direction': 'right', 'stimulus': '>>>>>>>'},\n",
       " {'condition': 'incongruent', 'direction': 'left', 'stimulus': '>>><>>>'},\n",
       " {'condition': 'congruent', 'direction': 'right', 'stimulus': '>>>>>>>'},\n",
       " {'condition': 'neutral', 'direction': 'left', 'stimulus': '===<==='},\n",
       " {'condition': 'incongruent', 'direction': 'right', 'stimulus': '<<<><<<'},\n",
       " {'condition': 'congruent', 'direction': 'right', 'stimulus': '>>>>>>>'},\n",
       " {'condition': 'neutral', 'direction': 'left', 'stimulus': '===<==='},\n",
       " {'condition': 'congruent', 'direction': 'left', 'stimulus': '<<<<<<<'},\n",
       " {'condition': 'neutral', 'direction': 'right', 'stimulus': '===>==='},\n",
       " {'condition': 'congruent', 'direction': 'right', 'stimulus': '>>>>>>>'},\n",
       " {'condition': 'neutral', 'direction': 'left', 'stimulus': '===<==='},\n",
       " {'condition': 'incongruent', 'direction': 'right', 'stimulus': '<<<><<<'},\n",
       " {'condition': 'incongruent', 'direction': 'right', 'stimulus': '<<<><<<'},\n",
       " {'condition': 'incongruent', 'direction': 'left', 'stimulus': '>>><>>>'},\n",
       " {'condition': 'neutral', 'direction': 'right', 'stimulus': '===>==='},\n",
       " {'condition': 'neutral', 'direction': 'right', 'stimulus': '===>==='},\n",
       " {'condition': 'congruent', 'direction': 'left', 'stimulus': '<<<<<<<'},\n",
       " {'condition': 'neutral', 'direction': 'right', 'stimulus': '===>==='}]"
      ]
     },
     "execution_count": 65,
     "metadata": {},
     "output_type": "execute_result"
    }
   ],
   "source": [
    "random.shuffle(trials)\n",
    "trials"
   ]
  },
  {
   "cell_type": "markdown",
   "metadata": {
    "slideshow": {
     "slide_type": "slide"
    }
   },
   "source": [
    "## Multiple trial blocks\n",
    "\n",
    "- We often want to give participants a break during a task.\n",
    "- One way to do this is to split the trials into blocks"
   ]
  },
  {
   "cell_type": "code",
   "execution_count": 68,
   "metadata": {},
   "outputs": [
    {
     "data": {
      "text/plain": [
       "[[{'condition': 'neutral', 'direction': 'right', 'stimulus': '===>==='},\n",
       "  {'condition': 'congruent', 'direction': 'left', 'stimulus': '<<<<<<<'},\n",
       "  {'condition': 'neutral', 'direction': 'left', 'stimulus': '===<==='},\n",
       "  {'condition': 'congruent', 'direction': 'left', 'stimulus': '<<<<<<<'},\n",
       "  {'condition': 'incongruent', 'direction': 'right', 'stimulus': '<<<><<<'},\n",
       "  {'condition': 'neutral', 'direction': 'left', 'stimulus': '===<==='},\n",
       "  {'condition': 'neutral', 'direction': 'left', 'stimulus': '===<==='},\n",
       "  {'condition': 'congruent', 'direction': 'right', 'stimulus': '>>>>>>>'},\n",
       "  {'condition': 'congruent', 'direction': 'left', 'stimulus': '<<<<<<<'},\n",
       "  {'condition': 'neutral', 'direction': 'right', 'stimulus': '===>==='},\n",
       "  {'condition': 'incongruent', 'direction': 'left', 'stimulus': '>>><>>>'},\n",
       "  {'condition': 'incongruent', 'direction': 'right', 'stimulus': '<<<><<<'},\n",
       "  {'condition': 'incongruent', 'direction': 'right', 'stimulus': '<<<><<<'},\n",
       "  {'condition': 'congruent', 'direction': 'left', 'stimulus': '<<<<<<<'},\n",
       "  {'condition': 'neutral', 'direction': 'right', 'stimulus': '===>==='},\n",
       "  {'condition': 'congruent', 'direction': 'right', 'stimulus': '>>>>>>>'},\n",
       "  {'condition': 'congruent', 'direction': 'right', 'stimulus': '>>>>>>>'},\n",
       "  {'condition': 'neutral', 'direction': 'left', 'stimulus': '===<==='},\n",
       "  {'condition': 'incongruent', 'direction': 'left', 'stimulus': '>>><>>>'},\n",
       "  {'condition': 'congruent', 'direction': 'right', 'stimulus': '>>>>>>>'},\n",
       "  {'condition': 'incongruent', 'direction': 'left', 'stimulus': '>>><>>>'},\n",
       "  {'condition': 'neutral', 'direction': 'right', 'stimulus': '===>==='},\n",
       "  {'condition': 'incongruent', 'direction': 'left', 'stimulus': '>>><>>>'},\n",
       "  {'condition': 'incongruent', 'direction': 'right', 'stimulus': '<<<><<<'}],\n",
       " [{'condition': 'neutral', 'direction': 'right', 'stimulus': '===>==='},\n",
       "  {'condition': 'neutral', 'direction': 'left', 'stimulus': '===<==='},\n",
       "  {'condition': 'incongruent', 'direction': 'right', 'stimulus': '<<<><<<'},\n",
       "  {'condition': 'congruent', 'direction': 'right', 'stimulus': '>>>>>>>'},\n",
       "  {'condition': 'neutral', 'direction': 'right', 'stimulus': '===>==='},\n",
       "  {'condition': 'neutral', 'direction': 'left', 'stimulus': '===<==='},\n",
       "  {'condition': 'congruent', 'direction': 'right', 'stimulus': '>>>>>>>'},\n",
       "  {'condition': 'congruent', 'direction': 'right', 'stimulus': '>>>>>>>'},\n",
       "  {'condition': 'congruent', 'direction': 'left', 'stimulus': '<<<<<<<'},\n",
       "  {'condition': 'incongruent', 'direction': 'left', 'stimulus': '>>><>>>'},\n",
       "  {'condition': 'congruent', 'direction': 'left', 'stimulus': '<<<<<<<'},\n",
       "  {'condition': 'incongruent', 'direction': 'right', 'stimulus': '<<<><<<'},\n",
       "  {'condition': 'neutral', 'direction': 'left', 'stimulus': '===<==='},\n",
       "  {'condition': 'neutral', 'direction': 'right', 'stimulus': '===>==='},\n",
       "  {'condition': 'congruent', 'direction': 'right', 'stimulus': '>>>>>>>'},\n",
       "  {'condition': 'incongruent', 'direction': 'left', 'stimulus': '>>><>>>'},\n",
       "  {'condition': 'congruent', 'direction': 'left', 'stimulus': '<<<<<<<'},\n",
       "  {'condition': 'incongruent', 'direction': 'left', 'stimulus': '>>><>>>'},\n",
       "  {'condition': 'congruent', 'direction': 'left', 'stimulus': '<<<<<<<'},\n",
       "  {'condition': 'incongruent', 'direction': 'right', 'stimulus': '<<<><<<'},\n",
       "  {'condition': 'incongruent', 'direction': 'right', 'stimulus': '<<<><<<'},\n",
       "  {'condition': 'incongruent', 'direction': 'left', 'stimulus': '>>><>>>'},\n",
       "  {'condition': 'neutral', 'direction': 'left', 'stimulus': '===<==='},\n",
       "  {'condition': 'neutral', 'direction': 'right', 'stimulus': '===>==='}],\n",
       " [{'condition': 'incongruent', 'direction': 'left', 'stimulus': '>>><>>>'},\n",
       "  {'condition': 'congruent', 'direction': 'right', 'stimulus': '>>>>>>>'},\n",
       "  {'condition': 'neutral', 'direction': 'right', 'stimulus': '===>==='},\n",
       "  {'condition': 'neutral', 'direction': 'left', 'stimulus': '===<==='},\n",
       "  {'condition': 'congruent', 'direction': 'right', 'stimulus': '>>>>>>>'},\n",
       "  {'condition': 'incongruent', 'direction': 'right', 'stimulus': '<<<><<<'},\n",
       "  {'condition': 'congruent', 'direction': 'left', 'stimulus': '<<<<<<<'},\n",
       "  {'condition': 'incongruent', 'direction': 'left', 'stimulus': '>>><>>>'},\n",
       "  {'condition': 'congruent', 'direction': 'right', 'stimulus': '>>>>>>>'},\n",
       "  {'condition': 'neutral', 'direction': 'right', 'stimulus': '===>==='},\n",
       "  {'condition': 'neutral', 'direction': 'left', 'stimulus': '===<==='},\n",
       "  {'condition': 'congruent', 'direction': 'left', 'stimulus': '<<<<<<<'},\n",
       "  {'condition': 'incongruent', 'direction': 'left', 'stimulus': '>>><>>>'},\n",
       "  {'condition': 'neutral', 'direction': 'right', 'stimulus': '===>==='},\n",
       "  {'condition': 'incongruent', 'direction': 'right', 'stimulus': '<<<><<<'},\n",
       "  {'condition': 'incongruent', 'direction': 'left', 'stimulus': '>>><>>>'},\n",
       "  {'condition': 'incongruent', 'direction': 'right', 'stimulus': '<<<><<<'},\n",
       "  {'condition': 'incongruent', 'direction': 'right', 'stimulus': '<<<><<<'},\n",
       "  {'condition': 'congruent', 'direction': 'left', 'stimulus': '<<<<<<<'},\n",
       "  {'condition': 'congruent', 'direction': 'right', 'stimulus': '>>>>>>>'},\n",
       "  {'condition': 'neutral', 'direction': 'right', 'stimulus': '===>==='},\n",
       "  {'condition': 'neutral', 'direction': 'left', 'stimulus': '===<==='},\n",
       "  {'condition': 'neutral', 'direction': 'left', 'stimulus': '===<==='},\n",
       "  {'condition': 'congruent', 'direction': 'left', 'stimulus': '<<<<<<<'}]]"
      ]
     },
     "execution_count": 68,
     "metadata": {},
     "output_type": "execute_result"
    }
   ],
   "source": [
    "# turn the trial list generation into a function\n",
    "def gen_trials(conds, num_reps):\n",
    "    # warning, even though this give you a new list\n",
    "    # each dictionary in the list is the same one, repeated\n",
    "    # see the `deepcopy` in the `copy` module \n",
    "    trials = conds[:] * num_reps\n",
    "    random.shuffle(trials)\n",
    "    \n",
    "    return trials\n",
    "\n",
    "# Specify the number of blocks\n",
    "num_blocks = 3\n",
    "blocks = [gen_trials(conds, num_reps) for b in range(num_blocks)]\n",
    "blocks"
   ]
  },
  {
   "cell_type": "markdown",
   "metadata": {
    "slideshow": {
     "slide_type": "slide"
    }
   },
   "source": [
    "## General tips\n",
    "\n",
    "- Give your future self a gift!\n",
    "  - Try to include as much information as possible in your trials to facilitate subsequent analyses (e.g., don't just have a stimulus column.)\n",
    "- Try as much as possible to avoid hard-coded values.\n",
    "  - Make use of a configuration section in your code to set all the variables that would determine the lists that are generated."
   ]
  },
  {
   "cell_type": "markdown",
   "metadata": {
    "slideshow": {
     "slide_type": "slide"
    }
   },
   "source": [
    "## First bigger project!\n",
    "\n",
    "- We're going to be generating lists for an experiment we'll run in class.\n",
    "- We'll work on this now for the rest of class, though they are due next week.\n",
    "\n",
    "\n",
    "### See you next week!!!"
   ]
  }
 ],
 "metadata": {
  "celltoolbar": "Slideshow",
  "kernelspec": {
   "display_name": "Python 3",
   "language": "python",
   "name": "python3"
  },
  "language_info": {
   "codemirror_mode": {
    "name": "ipython",
    "version": 3
   },
   "file_extension": ".py",
   "mimetype": "text/x-python",
   "name": "python",
   "nbconvert_exporter": "python",
   "pygments_lexer": "ipython3",
   "version": "3.7.6"
  },
  "rise": {
   "scroll": true
  }
 },
 "nbformat": 4,
 "nbformat_minor": 2
}
