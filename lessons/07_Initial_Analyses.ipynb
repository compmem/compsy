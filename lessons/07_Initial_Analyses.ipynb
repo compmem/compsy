{
 "cells": [
  {
   "cell_type": "markdown",
   "metadata": {
    "slideshow": {
     "slide_type": "slide"
    }
   },
   "source": [
    "# Initial Analyses (Single Subject)\n",
    "## Computational Methods in Psychology and Neuroscience\n",
    "### Psychology 4215/7215 --- Fall 2023\n",
    "By: Per B. Sederberg, PhD\n",
    "\n"
   ]
  },
  {
   "cell_type": "markdown",
   "metadata": {
    "slideshow": {
     "slide_type": "slide"
    }
   },
   "source": [
    "# Lesson Objectives\n",
    "\n",
    "Upon completion of this lesson, students should have learned:\n",
    "\n",
    "1. Read in some real data\n",
    "2. Perform some simple data clean-up\n",
    "3. Some visualizations with Pandas\n",
    "4. Simple statistics with SciPy and StatsModels\n",
    "\n"
   ]
  },
  {
   "cell_type": "markdown",
   "metadata": {
    "slideshow": {
     "slide_type": "slide"
    }
   },
   "source": [
    "# Deep Dive Into Single Subj\n",
    "\n",
    "- Let's explore one subject's data and learn stuff along the way!\n",
    "- Where are the data?\n",
    "  - data, exp_name, subject, session, slogs"
   ]
  },
  {
   "cell_type": "code",
   "execution_count": 3,
   "metadata": {},
   "outputs": [],
   "source": [
    "%matplotlib inline\n",
    "import matplotlib.pyplot as plt\n",
    "import pandas as pd\n",
    "import numpy as np\n",
    "from smile.log import log2dl"
   ]
  },
  {
   "cell_type": "code",
   "execution_count": 4,
   "metadata": {},
   "outputs": [
    {
     "data": {
      "text/plain": [
       "[{'resp_map_left': 'F',\n",
       "  'resp_map_right': 'J',\n",
       "  'block_num': 0,\n",
       "  'trial_num': 0,\n",
       "  'stim_on_time': 375067.992279476,\n",
       "  'stim_on_error': 0.0,\n",
       "  'resp': 'J',\n",
       "  'resp_time_time': 375068.774703632,\n",
       "  'resp_time_error': 0.00060913001652807,\n",
       "  'rt': 0.7824241559719667,\n",
       "  'correct': True,\n",
       "  'location_0': 842.6509560580856,\n",
       "  'location_1': 799.3799389961,\n",
       "  'log_time': 375069.657998812,\n",
       "  'condition': 'incongruent',\n",
       "  'direction': 'right',\n",
       "  'stimulus': '<<<><<<',\n",
       "  'log_num': 0},\n",
       " {'resp_map_left': 'F',\n",
       "  'resp_map_right': 'J',\n",
       "  'block_num': 0,\n",
       "  'trial_num': 1,\n",
       "  'stim_on_time': 375069.665125297,\n",
       "  'stim_on_error': 0.0,\n",
       "  'resp': 'J',\n",
       "  'resp_time_time': 375070.321047353,\n",
       "  'resp_time_error': 0.0002803419774863869,\n",
       "  'rt': 0.6559220560011454,\n",
       "  'correct': True,\n",
       "  'location_0': 1642.2509552380766,\n",
       "  'location_1': 613.5382275593947,\n",
       "  'log_time': 375070.93016192334,\n",
       "  'condition': 'congruent',\n",
       "  'direction': 'right',\n",
       "  'stimulus': '>>>>>>>',\n",
       "  'log_num': 0}]"
      ]
     },
     "execution_count": 4,
     "metadata": {},
     "output_type": "execute_result"
    }
   ],
   "source": [
    "# load in the slog to a DictList\n",
    "dl = log2dl('log_flanker_0.slog')\n",
    "dl[:2]"
   ]
  },
  {
   "cell_type": "code",
   "execution_count": 5,
   "metadata": {},
   "outputs": [
    {
     "data": {
      "text/html": [
       "<div>\n",
       "<style scoped>\n",
       "    .dataframe tbody tr th:only-of-type {\n",
       "        vertical-align: middle;\n",
       "    }\n",
       "\n",
       "    .dataframe tbody tr th {\n",
       "        vertical-align: top;\n",
       "    }\n",
       "\n",
       "    .dataframe thead th {\n",
       "        text-align: right;\n",
       "    }\n",
       "</style>\n",
       "<table border=\"1\" class=\"dataframe\">\n",
       "  <thead>\n",
       "    <tr style=\"text-align: right;\">\n",
       "      <th></th>\n",
       "      <th>resp_map_left</th>\n",
       "      <th>resp_map_right</th>\n",
       "      <th>block_num</th>\n",
       "      <th>trial_num</th>\n",
       "      <th>stim_on_time</th>\n",
       "      <th>stim_on_error</th>\n",
       "      <th>resp</th>\n",
       "      <th>resp_time_time</th>\n",
       "      <th>resp_time_error</th>\n",
       "      <th>rt</th>\n",
       "      <th>correct</th>\n",
       "      <th>location_0</th>\n",
       "      <th>location_1</th>\n",
       "      <th>log_time</th>\n",
       "      <th>condition</th>\n",
       "      <th>direction</th>\n",
       "      <th>stimulus</th>\n",
       "      <th>log_num</th>\n",
       "    </tr>\n",
       "  </thead>\n",
       "  <tbody>\n",
       "    <tr>\n",
       "      <th>0</th>\n",
       "      <td>F</td>\n",
       "      <td>J</td>\n",
       "      <td>0</td>\n",
       "      <td>0</td>\n",
       "      <td>375067.992279</td>\n",
       "      <td>0.0</td>\n",
       "      <td>J</td>\n",
       "      <td>375068.774704</td>\n",
       "      <td>0.000609</td>\n",
       "      <td>0.782424</td>\n",
       "      <td>True</td>\n",
       "      <td>842.650956</td>\n",
       "      <td>799.379939</td>\n",
       "      <td>375069.657999</td>\n",
       "      <td>incongruent</td>\n",
       "      <td>right</td>\n",
       "      <td>&lt;&lt;&lt;&gt;&lt;&lt;&lt;</td>\n",
       "      <td>0</td>\n",
       "    </tr>\n",
       "    <tr>\n",
       "      <th>1</th>\n",
       "      <td>F</td>\n",
       "      <td>J</td>\n",
       "      <td>0</td>\n",
       "      <td>1</td>\n",
       "      <td>375069.665125</td>\n",
       "      <td>0.0</td>\n",
       "      <td>J</td>\n",
       "      <td>375070.321047</td>\n",
       "      <td>0.000280</td>\n",
       "      <td>0.655922</td>\n",
       "      <td>True</td>\n",
       "      <td>1642.250955</td>\n",
       "      <td>613.538228</td>\n",
       "      <td>375070.930162</td>\n",
       "      <td>congruent</td>\n",
       "      <td>right</td>\n",
       "      <td>&gt;&gt;&gt;&gt;&gt;&gt;&gt;</td>\n",
       "      <td>0</td>\n",
       "    </tr>\n",
       "    <tr>\n",
       "      <th>2</th>\n",
       "      <td>F</td>\n",
       "      <td>J</td>\n",
       "      <td>0</td>\n",
       "      <td>2</td>\n",
       "      <td>375070.948564</td>\n",
       "      <td>0.0</td>\n",
       "      <td>J</td>\n",
       "      <td>375071.589764</td>\n",
       "      <td>0.000398</td>\n",
       "      <td>0.641200</td>\n",
       "      <td>True</td>\n",
       "      <td>1539.258541</td>\n",
       "      <td>689.599330</td>\n",
       "      <td>375072.498972</td>\n",
       "      <td>incongruent</td>\n",
       "      <td>right</td>\n",
       "      <td>&lt;&lt;&lt;&gt;&lt;&lt;&lt;</td>\n",
       "      <td>0</td>\n",
       "    </tr>\n",
       "    <tr>\n",
       "      <th>3</th>\n",
       "      <td>F</td>\n",
       "      <td>J</td>\n",
       "      <td>0</td>\n",
       "      <td>3</td>\n",
       "      <td>375072.516730</td>\n",
       "      <td>0.0</td>\n",
       "      <td>J</td>\n",
       "      <td>375073.041845</td>\n",
       "      <td>0.000388</td>\n",
       "      <td>0.525115</td>\n",
       "      <td>True</td>\n",
       "      <td>1577.772055</td>\n",
       "      <td>749.247220</td>\n",
       "      <td>375073.902002</td>\n",
       "      <td>congruent</td>\n",
       "      <td>right</td>\n",
       "      <td>&gt;&gt;&gt;&gt;&gt;&gt;&gt;</td>\n",
       "      <td>0</td>\n",
       "    </tr>\n",
       "    <tr>\n",
       "      <th>4</th>\n",
       "      <td>F</td>\n",
       "      <td>J</td>\n",
       "      <td>0</td>\n",
       "      <td>4</td>\n",
       "      <td>375073.910833</td>\n",
       "      <td>0.0</td>\n",
       "      <td>F</td>\n",
       "      <td>375074.683834</td>\n",
       "      <td>0.000257</td>\n",
       "      <td>0.773001</td>\n",
       "      <td>True</td>\n",
       "      <td>1072.496985</td>\n",
       "      <td>863.688477</td>\n",
       "      <td>375075.232140</td>\n",
       "      <td>incongruent</td>\n",
       "      <td>left</td>\n",
       "      <td>&gt;&gt;&gt;&lt;&gt;&gt;&gt;</td>\n",
       "      <td>0</td>\n",
       "    </tr>\n",
       "  </tbody>\n",
       "</table>\n",
       "</div>"
      ],
      "text/plain": [
       "  resp_map_left resp_map_right  block_num  trial_num   stim_on_time  \\\n",
       "0             F              J          0          0  375067.992279   \n",
       "1             F              J          0          1  375069.665125   \n",
       "2             F              J          0          2  375070.948564   \n",
       "3             F              J          0          3  375072.516730   \n",
       "4             F              J          0          4  375073.910833   \n",
       "\n",
       "   stim_on_error resp  resp_time_time  resp_time_error        rt  correct  \\\n",
       "0            0.0    J   375068.774704         0.000609  0.782424     True   \n",
       "1            0.0    J   375070.321047         0.000280  0.655922     True   \n",
       "2            0.0    J   375071.589764         0.000398  0.641200     True   \n",
       "3            0.0    J   375073.041845         0.000388  0.525115     True   \n",
       "4            0.0    F   375074.683834         0.000257  0.773001     True   \n",
       "\n",
       "    location_0  location_1       log_time    condition direction stimulus  \\\n",
       "0   842.650956  799.379939  375069.657999  incongruent     right  <<<><<<   \n",
       "1  1642.250955  613.538228  375070.930162    congruent     right  >>>>>>>   \n",
       "2  1539.258541  689.599330  375072.498972  incongruent     right  <<<><<<   \n",
       "3  1577.772055  749.247220  375073.902002    congruent     right  >>>>>>>   \n",
       "4  1072.496985  863.688477  375075.232140  incongruent      left  >>><>>>   \n",
       "\n",
       "   log_num  \n",
       "0        0  \n",
       "1        0  \n",
       "2        0  \n",
       "3        0  \n",
       "4        0  "
      ]
     },
     "execution_count": 5,
     "metadata": {},
     "output_type": "execute_result"
    }
   ],
   "source": [
    "# turn the DictList into a DataFrame\n",
    "df = pd.DataFrame(dl)\n",
    "df.head()"
   ]
  },
  {
   "cell_type": "markdown",
   "metadata": {},
   "source": [
    "## System Info\n",
    "\n",
    "Often we may need some information about the computer where a task was run. SMILE saves out a `sysinfo.slog` with some useful info:"
   ]
  },
  {
   "cell_type": "code",
   "execution_count": 7,
   "metadata": {},
   "outputs": [
    {
     "data": {
      "text/plain": [
       "{'fullscreen': None,\n",
       " 'locked': 1,\n",
       " 'density': '2.1515',\n",
       " 'font_size': 45.0,\n",
       " 'font_name': 'Roboto',\n",
       " 'frame_rate': 60.0,\n",
       " 'default_data_dir': './data',\n",
       " 'data_time': '20211020_090742',\n",
       " 'debug': False,\n",
       " 'resolution': None,\n",
       " 'background_color': None,\n",
       " 'scale_box_0': 1024,\n",
       " 'scale_box_1': 768,\n",
       " 'scale_up': True,\n",
       " 'scale_down': True,\n",
       " 'expname': 'Flanker',\n",
       " 'processor': '',\n",
       " 'python_version': '3.9.7',\n",
       " 'system': 'Linux',\n",
       " 'version': '',\n",
       " 'author': '',\n",
       " 'email': '',\n",
       " 'date_last_update': '',\n",
       " 'uname_0': 'Linux',\n",
       " 'uname_1': 'thin',\n",
       " 'uname_2': '5.10.0-2-amd64',\n",
       " 'uname_3': '#1 SMP Debian 5.10.9-1 (2021-01-20)',\n",
       " 'uname_4': 'x86_64',\n",
       " 'uname_5': '',\n",
       " 'screen_size_0': 2560,\n",
       " 'screen_size_1': 1440,\n",
       " 'scale_factor': 0.8714849836747274,\n",
       " 'log_num': 0}"
      ]
     },
     "execution_count": 7,
     "metadata": {},
     "output_type": "execute_result"
    }
   ],
   "source": [
    "sinfo = log2dl('sysinfo.slog')[0]\n",
    "sinfo"
   ]
  },
  {
   "cell_type": "markdown",
   "metadata": {
    "slideshow": {
     "slide_type": "slide"
    }
   },
   "source": [
    "## Some data clean-up"
   ]
  },
  {
   "cell_type": "code",
   "execution_count": 8,
   "metadata": {},
   "outputs": [
    {
     "data": {
      "text/html": [
       "<div>\n",
       "<style scoped>\n",
       "    .dataframe tbody tr th:only-of-type {\n",
       "        vertical-align: middle;\n",
       "    }\n",
       "\n",
       "    .dataframe tbody tr th {\n",
       "        vertical-align: top;\n",
       "    }\n",
       "\n",
       "    .dataframe thead th {\n",
       "        text-align: right;\n",
       "    }\n",
       "</style>\n",
       "<table border=\"1\" class=\"dataframe\">\n",
       "  <thead>\n",
       "    <tr style=\"text-align: right;\">\n",
       "      <th></th>\n",
       "      <th>resp_map_left</th>\n",
       "      <th>resp_map_right</th>\n",
       "      <th>block_num</th>\n",
       "      <th>trial_num</th>\n",
       "      <th>stim_on_time</th>\n",
       "      <th>stim_on_error</th>\n",
       "      <th>resp</th>\n",
       "      <th>resp_time_time</th>\n",
       "      <th>resp_time_error</th>\n",
       "      <th>rt</th>\n",
       "      <th>...</th>\n",
       "      <th>location_1</th>\n",
       "      <th>log_time</th>\n",
       "      <th>condition</th>\n",
       "      <th>direction</th>\n",
       "      <th>stimulus</th>\n",
       "      <th>log_num</th>\n",
       "      <th>dx</th>\n",
       "      <th>x_offset</th>\n",
       "      <th>log_rt</th>\n",
       "      <th>correct_resp</th>\n",
       "    </tr>\n",
       "  </thead>\n",
       "  <tbody>\n",
       "    <tr>\n",
       "      <th>0</th>\n",
       "      <td>F</td>\n",
       "      <td>J</td>\n",
       "      <td>0</td>\n",
       "      <td>0</td>\n",
       "      <td>375067.992279</td>\n",
       "      <td>0.0</td>\n",
       "      <td>J</td>\n",
       "      <td>375068.774704</td>\n",
       "      <td>0.000609</td>\n",
       "      <td>0.782424</td>\n",
       "      <td>...</td>\n",
       "      <td>799.379939</td>\n",
       "      <td>375069.657999</td>\n",
       "      <td>incongruent</td>\n",
       "      <td>right</td>\n",
       "      <td>&lt;&lt;&lt;&gt;&lt;&lt;&lt;</td>\n",
       "      <td>0</td>\n",
       "      <td>NaN</td>\n",
       "      <td>-437.349044</td>\n",
       "      <td>-0.245358</td>\n",
       "      <td>J</td>\n",
       "    </tr>\n",
       "    <tr>\n",
       "      <th>1</th>\n",
       "      <td>F</td>\n",
       "      <td>J</td>\n",
       "      <td>0</td>\n",
       "      <td>1</td>\n",
       "      <td>375069.665125</td>\n",
       "      <td>0.0</td>\n",
       "      <td>J</td>\n",
       "      <td>375070.321047</td>\n",
       "      <td>0.000280</td>\n",
       "      <td>0.655922</td>\n",
       "      <td>...</td>\n",
       "      <td>613.538228</td>\n",
       "      <td>375070.930162</td>\n",
       "      <td>congruent</td>\n",
       "      <td>right</td>\n",
       "      <td>&gt;&gt;&gt;&gt;&gt;&gt;&gt;</td>\n",
       "      <td>0</td>\n",
       "      <td>799.599999</td>\n",
       "      <td>362.250955</td>\n",
       "      <td>-0.421713</td>\n",
       "      <td>J</td>\n",
       "    </tr>\n",
       "    <tr>\n",
       "      <th>2</th>\n",
       "      <td>F</td>\n",
       "      <td>J</td>\n",
       "      <td>0</td>\n",
       "      <td>2</td>\n",
       "      <td>375070.948564</td>\n",
       "      <td>0.0</td>\n",
       "      <td>J</td>\n",
       "      <td>375071.589764</td>\n",
       "      <td>0.000398</td>\n",
       "      <td>0.641200</td>\n",
       "      <td>...</td>\n",
       "      <td>689.599330</td>\n",
       "      <td>375072.498972</td>\n",
       "      <td>incongruent</td>\n",
       "      <td>right</td>\n",
       "      <td>&lt;&lt;&lt;&gt;&lt;&lt;&lt;</td>\n",
       "      <td>0</td>\n",
       "      <td>-102.992414</td>\n",
       "      <td>259.258541</td>\n",
       "      <td>-0.444414</td>\n",
       "      <td>J</td>\n",
       "    </tr>\n",
       "    <tr>\n",
       "      <th>3</th>\n",
       "      <td>F</td>\n",
       "      <td>J</td>\n",
       "      <td>0</td>\n",
       "      <td>3</td>\n",
       "      <td>375072.516730</td>\n",
       "      <td>0.0</td>\n",
       "      <td>J</td>\n",
       "      <td>375073.041845</td>\n",
       "      <td>0.000388</td>\n",
       "      <td>0.525115</td>\n",
       "      <td>...</td>\n",
       "      <td>749.247220</td>\n",
       "      <td>375073.902002</td>\n",
       "      <td>congruent</td>\n",
       "      <td>right</td>\n",
       "      <td>&gt;&gt;&gt;&gt;&gt;&gt;&gt;</td>\n",
       "      <td>0</td>\n",
       "      <td>38.513514</td>\n",
       "      <td>297.772055</td>\n",
       "      <td>-0.644138</td>\n",
       "      <td>J</td>\n",
       "    </tr>\n",
       "    <tr>\n",
       "      <th>4</th>\n",
       "      <td>F</td>\n",
       "      <td>J</td>\n",
       "      <td>0</td>\n",
       "      <td>4</td>\n",
       "      <td>375073.910833</td>\n",
       "      <td>0.0</td>\n",
       "      <td>F</td>\n",
       "      <td>375074.683834</td>\n",
       "      <td>0.000257</td>\n",
       "      <td>0.773001</td>\n",
       "      <td>...</td>\n",
       "      <td>863.688477</td>\n",
       "      <td>375075.232140</td>\n",
       "      <td>incongruent</td>\n",
       "      <td>left</td>\n",
       "      <td>&gt;&gt;&gt;&lt;&gt;&gt;&gt;</td>\n",
       "      <td>0</td>\n",
       "      <td>-505.275070</td>\n",
       "      <td>-207.503015</td>\n",
       "      <td>-0.257475</td>\n",
       "      <td>F</td>\n",
       "    </tr>\n",
       "  </tbody>\n",
       "</table>\n",
       "<p>5 rows × 22 columns</p>\n",
       "</div>"
      ],
      "text/plain": [
       "  resp_map_left resp_map_right  block_num  trial_num   stim_on_time  \\\n",
       "0             F              J          0          0  375067.992279   \n",
       "1             F              J          0          1  375069.665125   \n",
       "2             F              J          0          2  375070.948564   \n",
       "3             F              J          0          3  375072.516730   \n",
       "4             F              J          0          4  375073.910833   \n",
       "\n",
       "   stim_on_error resp  resp_time_time  resp_time_error        rt  ...  \\\n",
       "0            0.0    J   375068.774704         0.000609  0.782424  ...   \n",
       "1            0.0    J   375070.321047         0.000280  0.655922  ...   \n",
       "2            0.0    J   375071.589764         0.000398  0.641200  ...   \n",
       "3            0.0    J   375073.041845         0.000388  0.525115  ...   \n",
       "4            0.0    F   375074.683834         0.000257  0.773001  ...   \n",
       "\n",
       "   location_1       log_time    condition  direction stimulus log_num  \\\n",
       "0  799.379939  375069.657999  incongruent      right  <<<><<<       0   \n",
       "1  613.538228  375070.930162    congruent      right  >>>>>>>       0   \n",
       "2  689.599330  375072.498972  incongruent      right  <<<><<<       0   \n",
       "3  749.247220  375073.902002    congruent      right  >>>>>>>       0   \n",
       "4  863.688477  375075.232140  incongruent       left  >>><>>>       0   \n",
       "\n",
       "           dx    x_offset    log_rt  correct_resp  \n",
       "0         NaN -437.349044 -0.245358             J  \n",
       "1  799.599999  362.250955 -0.421713             J  \n",
       "2 -102.992414  259.258541 -0.444414             J  \n",
       "3   38.513514  297.772055 -0.644138             J  \n",
       "4 -505.275070 -207.503015 -0.257475             F  \n",
       "\n",
       "[5 rows x 22 columns]"
      ]
     },
     "execution_count": 8,
     "metadata": {},
     "output_type": "execute_result"
    }
   ],
   "source": [
    "# calculate change in x from previous location\n",
    "df['dx'] = np.concatenate([[np.nan], \n",
    "                np.array(df['location_0'][1:]) - \n",
    "                np.array(df['location_0'][:-1])])\n",
    "\n",
    "# calculate the offset from the center\n",
    "df['x_offset'] = df['location_0'] - sinfo['screen_size_0']/2\n",
    "\n",
    "# save the log(rt)\n",
    "df['log_rt'] = np.log(df['rt'])\n",
    "\n",
    "# create a correct response column b/c we didn't save it\n",
    "df['correct_resp'] = df['resp']\n",
    "df.loc[~df['correct'] & (df['resp']=='F'), 'correct_resp'] = 'J'\n",
    "df.loc[~df['correct'] & (df['resp']=='J'), 'correct_resp'] = 'F'\n",
    "\n",
    "df.head()"
   ]
  },
  {
   "cell_type": "markdown",
   "metadata": {
    "slideshow": {
     "slide_type": "slide"
    }
   },
   "source": [
    "## Statistics in Python\n",
    "\n",
    "- Once your data are in a nice tabular form, you are all set to start asking questions\n",
    "- In this section we'll introduce:\n",
    "  - Grouping and visualization with Pandas\n",
    "  - Statistics with SciPy\n",
    "  - Simple Statistics with StatsModels"
   ]
  },
  {
   "cell_type": "markdown",
   "metadata": {
    "slideshow": {
     "slide_type": "slide"
    }
   },
   "source": [
    "## Stats in SciPy\n",
    "\n",
    "- Many useful statistics are available from [SciPy](https://docs.scipy.org/doc/scipy/reference/tutorial/stats.html)"
   ]
  },
  {
   "cell_type": "code",
   "execution_count": 9,
   "metadata": {},
   "outputs": [],
   "source": [
    "import numpy as np\n",
    "from scipy import stats"
   ]
  },
  {
   "cell_type": "markdown",
   "metadata": {
    "slideshow": {
     "slide_type": "slide"
    }
   },
   "source": [
    "## Checking for performance easy conditions\n",
    "\n",
    "- One test to make sure participants are trying during the task is to check performance on the easy conditions\n",
    "- ***Question: Did they perform above chance on the congruent condition?***"
   ]
  },
  {
   "cell_type": "code",
   "execution_count": 10,
   "metadata": {},
   "outputs": [
    {
     "data": {
      "text/plain": [
       "1.0"
      ]
     },
     "execution_count": 10,
     "metadata": {},
     "output_type": "execute_result"
    }
   ],
   "source": [
    "# we can calculate mean performance, but is it significant?\n",
    "df.loc[df['condition']=='congruent', 'correct'].mean()"
   ]
  },
  {
   "cell_type": "markdown",
   "metadata": {
    "slideshow": {
     "slide_type": "slide"
    }
   },
   "source": [
    "## The binomial test\n",
    "\n",
    "- We need to take into account the number of problems\n",
    "- and whether they did significantly above what could be expected by chance\n",
    "- The binomal tests this for specific probabilities with *two* outcomes\n",
    "  - Like flipping a coin and determining whether it is fair or biased"
   ]
  },
  {
   "cell_type": "code",
   "execution_count": 14,
   "metadata": {},
   "outputs": [
    {
     "name": "stdout",
     "output_type": "stream",
     "text": [
      "[0 1 1 0 1 1 0 0 1 1 1 1 1 0 1 1 0 1 1 1 0 1 1 1 1 1 0 1 0 0 1 0 1 0 0 1 0\n",
      " 1 0 0 0 1 0 1 1 1 1 1 1 1 1 1 0 1 1 1 1 1 1 1 0 1 1 1]\n"
     ]
    },
    {
     "data": {
      "text/plain": [
       "BinomTestResult(k=44, n=64, alternative='two-sided', statistic=0.6875, pvalue=0.0036899642765400487)"
      ]
     },
     "execution_count": 14,
     "metadata": {},
     "output_type": "execute_result"
    }
   ],
   "source": [
    "# generate some random data\n",
    "dat = np.random.choice([0, 1], size=64, p=[0.3, 0.7])\n",
    "print(dat)\n",
    "\n",
    "# calculate whether it deviates from chance\n",
    "stats.binomtest(dat.sum(), len(dat), p=0.5)"
   ]
  },
  {
   "cell_type": "code",
   "execution_count": 19,
   "metadata": {},
   "outputs": [
    {
     "name": "stdout",
     "output_type": "stream",
     "text": [
      "Prop correct: 1.000 (p=0.0000)\n"
     ]
    }
   ],
   "source": [
    "# determine number correct and total number of congruent trials\n",
    "df_con = df.loc[df['condition']=='congruent', 'correct']\n",
    "num_correct = df_con.sum()\n",
    "num_tries = len(df_con)\n",
    "\n",
    "# perform the statistic\n",
    "res = stats.binomtest(num_correct, n=num_tries, \n",
    "                         p=0.5, alternative='greater')\n",
    "prop_correct = num_correct/num_tries\n",
    "\n",
    "# report the results (with some string formatting)\n",
    "print('Prop correct: {:0.3f} (p={:0.4f})'.format(prop_correct, res.pvalue))"
   ]
  },
  {
   "cell_type": "markdown",
   "metadata": {
    "slideshow": {
     "slide_type": "slide"
    }
   },
   "source": [
    "## Deeper Dive into Flanker\n",
    "\n",
    "- The typical congruency effect is that participants show lower accuracy and/or slower reaction times in the incongruent relative to the congruent conditions\n",
    "- Let's check that for our participant!"
   ]
  },
  {
   "cell_type": "code",
   "execution_count": 21,
   "metadata": {},
   "outputs": [
    {
     "data": {
      "text/plain": [
       "condition\n",
       "congruent      [>>>>>>>, <<<<<<<]\n",
       "incongruent    [<<<><<<, >>><>>>]\n",
       "mix            [><<><<>, <>><>><]\n",
       "Name: stimulus, dtype: object"
      ]
     },
     "execution_count": 21,
     "metadata": {},
     "output_type": "execute_result"
    }
   ],
   "source": [
    "# show the stim conditions\n",
    "df.groupby('condition')['stimulus'].unique()"
   ]
  },
  {
   "cell_type": "code",
   "execution_count": 22,
   "metadata": {},
   "outputs": [
    {
     "data": {
      "text/plain": [
       "condition\n",
       "congruent      1.00000\n",
       "incongruent    1.00000\n",
       "mix            0.96875\n",
       "Name: correct, dtype: float64"
      ]
     },
     "execution_count": 22,
     "metadata": {},
     "output_type": "execute_result"
    }
   ],
   "source": [
    "# look at mean performance by condition\n",
    "df.groupby(['condition'])['correct'].mean()"
   ]
  },
  {
   "cell_type": "code",
   "execution_count": 23,
   "metadata": {},
   "outputs": [
    {
     "data": {
      "text/plain": [
       "condition\n",
       "congruent      0.586320\n",
       "incongruent    0.707788\n",
       "mix            0.727889\n",
       "Name: rt, dtype: float64"
      ]
     },
     "execution_count": 23,
     "metadata": {},
     "output_type": "execute_result"
    }
   ],
   "source": [
    "# how about RT by condition?\n",
    "df.groupby(['condition'])['rt'].mean()"
   ]
  },
  {
   "cell_type": "code",
   "execution_count": 25,
   "metadata": {},
   "outputs": [
    {
     "data": {
      "image/png": "[encoded data removed]",
      "text/plain": [
       "<Figure size 640x480 with 1 Axes>"
      ]
     },
     "metadata": {},
     "output_type": "display_data"
    }
   ],
   "source": [
    "# we can visulize these values\n",
    "df.groupby('condition')['rt'].mean().plot(style='o--')\n",
    "plt.ylabel('Reaction Time (s)');"
   ]
  },
  {
   "cell_type": "markdown",
   "metadata": {
    "slideshow": {
     "slide_type": "slide"
    }
   },
   "source": [
    "## *t*-test to compare distributions\n",
    "\n",
    "- The *t*-test assesses whether two normal distributions are the same (or whether one distribution is different from a fixed value)\n",
    "- Assumes your data are independent and normally distributed\n",
    "- There are both paired (1-sample) and non-paired (independent) versions of the t-test available in scipy"
   ]
  },
  {
   "cell_type": "code",
   "execution_count": 26,
   "metadata": {},
   "outputs": [
    {
     "data": {
      "text/plain": [
       "<Axes: >"
      ]
     },
     "execution_count": 26,
     "metadata": {},
     "output_type": "execute_result"
    },
    {
     "data": {
      "image/png": "[encoded data removed]",
      "text/plain": [
       "<Figure size 640x480 with 1 Axes>"
      ]
     },
     "metadata": {},
     "output_type": "display_data"
    }
   ],
   "source": [
    "# how do our RTs look?\n",
    "df['rt'].hist(bins='auto')"
   ]
  },
  {
   "cell_type": "code",
   "execution_count": 27,
   "metadata": {},
   "outputs": [
    {
     "data": {
      "text/plain": [
       "<Axes: >"
      ]
     },
     "execution_count": 27,
     "metadata": {},
     "output_type": "execute_result"
    },
    {
     "data": {
      "image/png": "[encoded data removed]",
      "text/plain": [
       "<Figure size 640x480 with 1 Axes>"
      ]
     },
     "metadata": {},
     "output_type": "display_data"
    }
   ],
   "source": [
    "# how about if we take the log?\n",
    "np.log(df['rt']).hist(bins='auto')"
   ]
  },
  {
   "cell_type": "markdown",
   "metadata": {
    "slideshow": {
     "slide_type": "slide"
    }
   },
   "source": [
    "## Boxplots get you closer to your data\n",
    "\n",
    "- While it's hard to look at individual data points, it can still be very useful to visualize your data\n",
    "- A box plot is a non-parametric visualization of your data with the:\n",
    "  - Minimum (excluding outliers) as the lower whisker\n",
    "  - Maximum (excluding outliers) as the upper whisker\n",
    "  - Median (50% quantile) line inside the box\n",
    "  - 25% and 75% quantile of your data as the upper and lower box sides\n",
    "  - Outliers as dots"
   ]
  },
  {
   "cell_type": "code",
   "execution_count": 29,
   "metadata": {
    "scrolled": true
   },
   "outputs": [
    {
     "data": {
      "image/png": "[encoded data removed]",
      "text/plain": [
       "<Figure size 640x480 with 1 Axes>"
      ]
     },
     "metadata": {},
     "output_type": "display_data"
    }
   ],
   "source": [
    "# visualization of the comparison\n",
    "df.boxplot(column=['log_rt'], by=['condition']);"
   ]
  },
  {
   "cell_type": "markdown",
   "metadata": {
    "slideshow": {
     "slide_type": "slide"
    }
   },
   "source": [
    "## Let's run an independent samples t-test"
   ]
  },
  {
   "cell_type": "code",
   "execution_count": 30,
   "metadata": {},
   "outputs": [
    {
     "data": {
      "text/plain": [
       "TtestResult(statistic=-9.763299870748329, pvalue=4.1326128607693134e-17, df=126.0)"
      ]
     },
     "execution_count": 30,
     "metadata": {},
     "output_type": "execute_result"
    }
   ],
   "source": [
    "# we can check for statistical signficance of RTs\n",
    "# with an unpaired independent samples t-test\n",
    "stats.ttest_ind(df[df['condition']=='congruent']['log_rt'],\n",
    "                df[df['condition']=='incongruent']['log_rt'])\n"
   ]
  },
  {
   "cell_type": "code",
   "execution_count": 31,
   "metadata": {},
   "outputs": [
    {
     "data": {
      "text/plain": [
       "TtestResult(statistic=-1.1658750847528527, pvalue=0.24586712446147393, df=126.0)"
      ]
     },
     "execution_count": 31,
     "metadata": {},
     "output_type": "execute_result"
    }
   ],
   "source": [
    "# are the mixed slower than incongruent?\n",
    "stats.ttest_ind(df[df['condition']=='incongruent']['log_rt'],\n",
    "                df[df['condition']=='mix']['log_rt'])\n"
   ]
  },
  {
   "cell_type": "markdown",
   "metadata": {
    "slideshow": {
     "slide_type": "slide"
    }
   },
   "source": [
    "## Non-parametric statistics\n",
    "\n",
    "- There is an entire sub-field of statistics dedicated to situations where you can not assume your data come from normal distributions.\n",
    "- Here, the approach is to turn the values into ranks and test whether the mean *ranks* are different.\n",
    "- There are both paired (signed-rank test) and un-paired versions (Mann-Whitney U test) available in scipy."
   ]
  },
  {
   "cell_type": "code",
   "execution_count": 32,
   "metadata": {},
   "outputs": [
    {
     "data": {
      "text/plain": [
       "MannwhitneyuResult(statistic=2310.0, pvalue=0.21269125271992617)"
      ]
     },
     "execution_count": 32,
     "metadata": {},
     "output_type": "execute_result"
    }
   ],
   "source": [
    "# perform the non-paired non-parametric test on RTs\n",
    "stats.mannwhitneyu(df[df['condition']=='mix']['rt'],\n",
    "                   df[df['condition']=='incongruent']['rt'])"
   ]
  },
  {
   "cell_type": "markdown",
   "metadata": {
    "slideshow": {
     "slide_type": "slide"
    }
   },
   "source": [
    "## Regression and beyond!\n",
    "\n",
    "- More complicated questions require more complicated models\n",
    "- The most standard approach in statistics is regression:\n",
    "\n",
    "![](https://scipy-lectures.org/_images/math/8c27948834377cd91a6907f91d1f87acb32f1817.png)\n",
    "\n",
    "- Here `y` is the dependent variable and `x` is the independent variable.\n",
    "- These are also often called *endogenous* and *exogenous*."
   ]
  },
  {
   "cell_type": "markdown",
   "metadata": {
    "slideshow": {
     "slide_type": "slide"
    }
   },
   "source": [
    "## Statsmodels allows us to specify regressions as formulas\n",
    "\n",
    "- There are many ways to fit regression models that often depend on your dependent data\n",
    "  - e.g., ordinary least squares vs. logistic regression"
   ]
  },
  {
   "cell_type": "code",
   "execution_count": 56,
   "metadata": {},
   "outputs": [],
   "source": [
    "import statsmodels.formula.api as smf\n",
    "import statsmodels.api as sm"
   ]
  },
  {
   "cell_type": "markdown",
   "metadata": {
    "slideshow": {
     "slide_type": "slide"
    }
   },
   "source": [
    "***Question: Are there differences in accuracy between conditions?***"
   ]
  },
  {
   "cell_type": "code",
   "execution_count": 35,
   "metadata": {},
   "outputs": [
    {
     "name": "stdout",
     "output_type": "stream",
     "text": [
      "Warning: Maximum number of iterations has been exceeded.\n",
      "         Current function value: 0.046354\n",
      "         Iterations: 35\n"
     ]
    },
    {
     "name": "stderr",
     "output_type": "stream",
     "text": [
      "/home/per/anaconda3/envs/smiledev/lib/python3.10/site-packages/statsmodels/base/model.py:607: ConvergenceWarning: Maximum Likelihood optimization failed to converge. Check mle_retvals\n",
      "  warnings.warn(\"Maximum Likelihood optimization failed to \"\n"
     ]
    },
    {
     "data": {
      "text/html": [
       "<table class=\"simpletable\">\n",
       "<caption>Logit Regression Results</caption>\n",
       "<tr>\n",
       "  <th>Dep. Variable:</th>      <td>correct_int</td>   <th>  No. Observations:  </th>  <td>   192</td> \n",
       "</tr>\n",
       "<tr>\n",
       "  <th>Model:</th>                 <td>Logit</td>      <th>  Df Residuals:      </th>  <td>   189</td> \n",
       "</tr>\n",
       "<tr>\n",
       "  <th>Method:</th>                 <td>MLE</td>       <th>  Df Model:          </th>  <td>     2</td> \n",
       "</tr>\n",
       "<tr>\n",
       "  <th>Date:</th>            <td>Wed, 04 Oct 2023</td> <th>  Pseudo R-squ.:     </th>  <td>0.1995</td> \n",
       "</tr>\n",
       "<tr>\n",
       "  <th>Time:</th>                <td>19:59:26</td>     <th>  Log-Likelihood:    </th> <td> -8.8999</td>\n",
       "</tr>\n",
       "<tr>\n",
       "  <th>converged:</th>             <td>False</td>      <th>  LL-Null:           </th> <td> -11.118</td>\n",
       "</tr>\n",
       "<tr>\n",
       "  <th>Covariance Type:</th>     <td>nonrobust</td>    <th>  LLR p-value:       </th>  <td>0.1088</td> \n",
       "</tr>\n",
       "</table>\n",
       "<table class=\"simpletable\">\n",
       "<tr>\n",
       "              <td></td>                <th>coef</th>     <th>std err</th>      <th>z</th>      <th>P>|z|</th>  <th>[0.025</th>    <th>0.975]</th>  \n",
       "</tr>\n",
       "<tr>\n",
       "  <th>Intercept</th>                <td>   24.8517</td> <td> 3.11e+04</td> <td>    0.001</td> <td> 0.999</td> <td> -6.1e+04</td> <td> 6.11e+04</td>\n",
       "</tr>\n",
       "<tr>\n",
       "  <th>condition[T.incongruent]</th> <td>    1.2413</td> <td> 6.58e+04</td> <td> 1.89e-05</td> <td> 1.000</td> <td>-1.29e+05</td> <td> 1.29e+05</td>\n",
       "</tr>\n",
       "<tr>\n",
       "  <th>condition[T.mix]</th>         <td>  -21.4177</td> <td> 3.11e+04</td> <td>   -0.001</td> <td> 0.999</td> <td>-6.11e+04</td> <td>  6.1e+04</td>\n",
       "</tr>\n",
       "</table><br/><br/>Possibly complete quasi-separation: A fraction 0.67 of observations can be<br/>perfectly predicted. This might indicate that there is complete<br/>quasi-separation. In this case some parameters will not be identified."
      ],
      "text/latex": [
       "\\begin{center}\n",
       "\\begin{tabular}{lclc}\n",
       "\\toprule\n",
       "\\textbf{Dep. Variable:}           &   correct\\_int   & \\textbf{  No. Observations:  } &      192    \\\\\n",
       "\\textbf{Model:}                   &      Logit       & \\textbf{  Df Residuals:      } &      189    \\\\\n",
       "\\textbf{Method:}                  &       MLE        & \\textbf{  Df Model:          } &        2    \\\\\n",
       "\\textbf{Date:}                    & Wed, 04 Oct 2023 & \\textbf{  Pseudo R-squ.:     } &   0.1995    \\\\\n",
       "\\textbf{Time:}                    &     19:59:26     & \\textbf{  Log-Likelihood:    } &   -8.8999   \\\\\n",
       "\\textbf{converged:}               &      False       & \\textbf{  LL-Null:           } &   -11.118   \\\\\n",
       "\\textbf{Covariance Type:}         &    nonrobust     & \\textbf{  LLR p-value:       } &   0.1088    \\\\\n",
       "\\bottomrule\n",
       "\\end{tabular}\n",
       "\\begin{tabular}{lcccccc}\n",
       "                                  & \\textbf{coef} & \\textbf{std err} & \\textbf{z} & \\textbf{P$> |$z$|$} & \\textbf{[0.025} & \\textbf{0.975]}  \\\\\n",
       "\\midrule\n",
       "\\textbf{Intercept}                &      24.8517  &     3.11e+04     &     0.001  &         0.999        &     -6.1e+04    &     6.11e+04     \\\\\n",
       "\\textbf{condition[T.incongruent]} &       1.2413  &     6.58e+04     &  1.89e-05  &         1.000        &    -1.29e+05    &     1.29e+05     \\\\\n",
       "\\textbf{condition[T.mix]}         &     -21.4177  &     3.11e+04     &    -0.001  &         0.999        &    -6.11e+04    &      6.1e+04     \\\\\n",
       "\\bottomrule\n",
       "\\end{tabular}\n",
       "%\\caption{Logit Regression Results}\n",
       "\\end{center}\n",
       "\n",
       "Possibly complete quasi-separation: A fraction 0.67 of observations can be \\newline\n",
       " perfectly predicted. This might indicate that there is complete \\newline\n",
       " quasi-separation. In this case some parameters will not be identified."
      ],
      "text/plain": [
       "<class 'statsmodels.iolib.summary.Summary'>\n",
       "\"\"\"\n",
       "                           Logit Regression Results                           \n",
       "==============================================================================\n",
       "Dep. Variable:            correct_int   No. Observations:                  192\n",
       "Model:                          Logit   Df Residuals:                      189\n",
       "Method:                           MLE   Df Model:                            2\n",
       "Date:                Wed, 04 Oct 2023   Pseudo R-squ.:                  0.1995\n",
       "Time:                        19:59:26   Log-Likelihood:                -8.8999\n",
       "converged:                      False   LL-Null:                       -11.118\n",
       "Covariance Type:            nonrobust   LLR p-value:                    0.1088\n",
       "============================================================================================\n",
       "                               coef    std err          z      P>|z|      [0.025      0.975]\n",
       "--------------------------------------------------------------------------------------------\n",
       "Intercept                   24.8517   3.11e+04      0.001      0.999    -6.1e+04    6.11e+04\n",
       "condition[T.incongruent]     1.2413   6.58e+04   1.89e-05      1.000   -1.29e+05    1.29e+05\n",
       "condition[T.mix]           -21.4177   3.11e+04     -0.001      0.999   -6.11e+04     6.1e+04\n",
       "============================================================================================\n",
       "\n",
       "Possibly complete quasi-separation: A fraction 0.67 of observations can be\n",
       "perfectly predicted. This might indicate that there is complete\n",
       "quasi-separation. In this case some parameters will not be identified.\n",
       "\"\"\""
      ]
     },
     "execution_count": 35,
     "metadata": {},
     "output_type": "execute_result"
    }
   ],
   "source": [
    "# dependent variables can't be boolean\n",
    "df['correct_int'] = df['correct'].astype(int)\n",
    "\n",
    "# build a logistic regression\n",
    "model = smf.logit(\"correct_int ~ condition\", df).fit()\n",
    "model.summary()"
   ]
  },
  {
   "cell_type": "markdown",
   "metadata": {
    "slideshow": {
     "slide_type": "slide"
    }
   },
   "source": [
    "***Question: Can we test for differences in RTs between conditions with regression?***"
   ]
  },
  {
   "cell_type": "code",
   "execution_count": 67,
   "metadata": {},
   "outputs": [
    {
     "data": {
      "text/html": [
       "<table class=\"simpletable\">\n",
       "<caption>OLS Regression Results</caption>\n",
       "<tr>\n",
       "  <th>Dep. Variable:</th>         <td>log_rt</td>      <th>  R-squared:         </th> <td>   0.400</td>\n",
       "</tr>\n",
       "<tr>\n",
       "  <th>Model:</th>                   <td>OLS</td>       <th>  Adj. R-squared:    </th> <td>   0.393</td>\n",
       "</tr>\n",
       "<tr>\n",
       "  <th>Method:</th>             <td>Least Squares</td>  <th>  F-statistic:       </th> <td>   62.91</td>\n",
       "</tr>\n",
       "<tr>\n",
       "  <th>Date:</th>             <td>Thu, 05 Oct 2023</td> <th>  Prob (F-statistic):</th> <td>1.15e-21</td>\n",
       "</tr>\n",
       "<tr>\n",
       "  <th>Time:</th>                 <td>13:24:14</td>     <th>  Log-Likelihood:    </th> <td>  139.24</td>\n",
       "</tr>\n",
       "<tr>\n",
       "  <th>No. Observations:</th>      <td>   192</td>      <th>  AIC:               </th> <td>  -272.5</td>\n",
       "</tr>\n",
       "<tr>\n",
       "  <th>Df Residuals:</th>          <td>   189</td>      <th>  BIC:               </th> <td>  -262.7</td>\n",
       "</tr>\n",
       "<tr>\n",
       "  <th>Df Model:</th>              <td>     2</td>      <th>                     </th>     <td> </td>   \n",
       "</tr>\n",
       "<tr>\n",
       "  <th>Covariance Type:</th>      <td>nonrobust</td>    <th>                     </th>     <td> </td>   \n",
       "</tr>\n",
       "</table>\n",
       "<table class=\"simpletable\">\n",
       "<tr>\n",
       "              <td></td>                <th>coef</th>     <th>std err</th>      <th>t</th>      <th>P>|t|</th>  <th>[0.025</th>    <th>0.975]</th>  \n",
       "</tr>\n",
       "<tr>\n",
       "  <th>Intercept</th>                <td>   -0.5404</td> <td>    0.015</td> <td>  -36.609</td> <td> 0.000</td> <td>   -0.570</td> <td>   -0.511</td>\n",
       "</tr>\n",
       "<tr>\n",
       "  <th>condition[T.incongruent]</th> <td>    0.1892</td> <td>    0.021</td> <td>    9.064</td> <td> 0.000</td> <td>    0.148</td> <td>    0.230</td>\n",
       "</tr>\n",
       "<tr>\n",
       "  <th>condition[T.mix]</th>         <td>    0.2141</td> <td>    0.021</td> <td>   10.254</td> <td> 0.000</td> <td>    0.173</td> <td>    0.255</td>\n",
       "</tr>\n",
       "</table>\n",
       "<table class=\"simpletable\">\n",
       "<tr>\n",
       "  <th>Omnibus:</th>       <td> 3.265</td> <th>  Durbin-Watson:     </th> <td>   1.766</td>\n",
       "</tr>\n",
       "<tr>\n",
       "  <th>Prob(Omnibus):</th> <td> 0.195</td> <th>  Jarque-Bera (JB):  </th> <td>   2.861</td>\n",
       "</tr>\n",
       "<tr>\n",
       "  <th>Skew:</th>          <td> 0.280</td> <th>  Prob(JB):          </th> <td>   0.239</td>\n",
       "</tr>\n",
       "<tr>\n",
       "  <th>Kurtosis:</th>      <td> 3.212</td> <th>  Cond. No.          </th> <td>    3.73</td>\n",
       "</tr>\n",
       "</table><br/><br/>Notes:<br/>[1] Standard Errors assume that the covariance matrix of the errors is correctly specified."
      ],
      "text/latex": [
       "\\begin{center}\n",
       "\\begin{tabular}{lclc}\n",
       "\\toprule\n",
       "\\textbf{Dep. Variable:}           &     log\\_rt      & \\textbf{  R-squared:         } &     0.400   \\\\\n",
       "\\textbf{Model:}                   &       OLS        & \\textbf{  Adj. R-squared:    } &     0.393   \\\\\n",
       "\\textbf{Method:}                  &  Least Squares   & \\textbf{  F-statistic:       } &     62.91   \\\\\n",
       "\\textbf{Date:}                    & Thu, 05 Oct 2023 & \\textbf{  Prob (F-statistic):} &  1.15e-21   \\\\\n",
       "\\textbf{Time:}                    &     13:24:14     & \\textbf{  Log-Likelihood:    } &    139.24   \\\\\n",
       "\\textbf{No. Observations:}        &         192      & \\textbf{  AIC:               } &    -272.5   \\\\\n",
       "\\textbf{Df Residuals:}            &         189      & \\textbf{  BIC:               } &    -262.7   \\\\\n",
       "\\textbf{Df Model:}                &           2      & \\textbf{                     } &             \\\\\n",
       "\\textbf{Covariance Type:}         &    nonrobust     & \\textbf{                     } &             \\\\\n",
       "\\bottomrule\n",
       "\\end{tabular}\n",
       "\\begin{tabular}{lcccccc}\n",
       "                                  & \\textbf{coef} & \\textbf{std err} & \\textbf{t} & \\textbf{P$> |$t$|$} & \\textbf{[0.025} & \\textbf{0.975]}  \\\\\n",
       "\\midrule\n",
       "\\textbf{Intercept}                &      -0.5404  &        0.015     &   -36.609  &         0.000        &       -0.570    &       -0.511     \\\\\n",
       "\\textbf{condition[T.incongruent]} &       0.1892  &        0.021     &     9.064  &         0.000        &        0.148    &        0.230     \\\\\n",
       "\\textbf{condition[T.mix]}         &       0.2141  &        0.021     &    10.254  &         0.000        &        0.173    &        0.255     \\\\\n",
       "\\bottomrule\n",
       "\\end{tabular}\n",
       "\\begin{tabular}{lclc}\n",
       "\\textbf{Omnibus:}       &  3.265 & \\textbf{  Durbin-Watson:     } &    1.766  \\\\\n",
       "\\textbf{Prob(Omnibus):} &  0.195 & \\textbf{  Jarque-Bera (JB):  } &    2.861  \\\\\n",
       "\\textbf{Skew:}          &  0.280 & \\textbf{  Prob(JB):          } &    0.239  \\\\\n",
       "\\textbf{Kurtosis:}      &  3.212 & \\textbf{  Cond. No.          } &     3.73  \\\\\n",
       "\\bottomrule\n",
       "\\end{tabular}\n",
       "%\\caption{OLS Regression Results}\n",
       "\\end{center}\n",
       "\n",
       "Notes: \\newline\n",
       " [1] Standard Errors assume that the covariance matrix of the errors is correctly specified."
      ],
      "text/plain": [
       "<class 'statsmodels.iolib.summary.Summary'>\n",
       "\"\"\"\n",
       "                            OLS Regression Results                            \n",
       "==============================================================================\n",
       "Dep. Variable:                 log_rt   R-squared:                       0.400\n",
       "Model:                            OLS   Adj. R-squared:                  0.393\n",
       "Method:                 Least Squares   F-statistic:                     62.91\n",
       "Date:                Thu, 05 Oct 2023   Prob (F-statistic):           1.15e-21\n",
       "Time:                        13:24:14   Log-Likelihood:                 139.24\n",
       "No. Observations:                 192   AIC:                            -272.5\n",
       "Df Residuals:                     189   BIC:                            -262.7\n",
       "Df Model:                           2                                         \n",
       "Covariance Type:            nonrobust                                         \n",
       "============================================================================================\n",
       "                               coef    std err          t      P>|t|      [0.025      0.975]\n",
       "--------------------------------------------------------------------------------------------\n",
       "Intercept                   -0.5404      0.015    -36.609      0.000      -0.570      -0.511\n",
       "condition[T.incongruent]     0.1892      0.021      9.064      0.000       0.148       0.230\n",
       "condition[T.mix]             0.2141      0.021     10.254      0.000       0.173       0.255\n",
       "==============================================================================\n",
       "Omnibus:                        3.265   Durbin-Watson:                   1.766\n",
       "Prob(Omnibus):                  0.195   Jarque-Bera (JB):                2.861\n",
       "Skew:                           0.280   Prob(JB):                        0.239\n",
       "Kurtosis:                       3.212   Cond. No.                         3.73\n",
       "==============================================================================\n",
       "\n",
       "Notes:\n",
       "[1] Standard Errors assume that the covariance matrix of the errors is correctly specified.\n",
       "\"\"\""
      ]
     },
     "execution_count": 67,
     "metadata": {},
     "output_type": "execute_result"
    }
   ],
   "source": [
    "# build a linear regression\n",
    "model = smf.ols(\"log_rt ~ condition\", df).fit()\n",
    "model.summary()"
   ]
  },
  {
   "cell_type": "markdown",
   "metadata": {
    "slideshow": {
     "slide_type": "slide"
    }
   },
   "source": [
    "## Testing Specific Contrasts with an f_test\n",
    "\n",
    "Linear models are built to estimate coefficients, but follow-up tests are possible without rerunning the model."
   ]
  },
  {
   "cell_type": "code",
   "execution_count": 68,
   "metadata": {},
   "outputs": [
    {
     "data": {
      "text/plain": [
       "<class 'statsmodels.stats.contrast.ContrastResults'>\n",
       "<F test: F=1.4172399166052396, p=0.23535134145536532, df_denom=189, df_num=1>"
      ]
     },
     "execution_count": 68,
     "metadata": {},
     "output_type": "execute_result"
    }
   ],
   "source": [
    "# You can build a contrast yourself\n",
    "model.f_test([0, 1, -1])"
   ]
  },
  {
   "cell_type": "code",
   "execution_count": 69,
   "metadata": {},
   "outputs": [
    {
     "data": {
      "text/plain": [
       "Intercept                  -0.540406\n",
       "condition[T.incongruent]    0.189220\n",
       "condition[T.mix]            0.214072\n",
       "dtype: float64"
      ]
     },
     "execution_count": 69,
     "metadata": {},
     "output_type": "execute_result"
    }
   ],
   "source": [
    "# or use specify the contrast with words\n",
    "# print out our params\n",
    "model.params"
   ]
  },
  {
   "cell_type": "code",
   "execution_count": 70,
   "metadata": {},
   "outputs": [
    {
     "data": {
      "text/plain": [
       "<class 'statsmodels.stats.contrast.ContrastResults'>\n",
       "<F test: F=1.4172399166052396, p=0.23535134145536532, df_denom=189, df_num=1>"
      ]
     },
     "execution_count": 70,
     "metadata": {},
     "output_type": "execute_result"
    }
   ],
   "source": [
    "# make the contrast with named params\n",
    "model.f_test(\"condition[T.incongruent] = condition[T.mix]\")"
   ]
  },
  {
   "cell_type": "code",
   "execution_count": 71,
   "metadata": {},
   "outputs": [
    {
     "data": {
      "text/plain": [
       "<class 'statsmodels.stats.contrast.ContrastResults'>\n",
       "<F test: F=522.4696542987477, p=2.668247452695619e-56, df_denom=189, df_num=1>"
      ]
     },
     "execution_count": 71,
     "metadata": {},
     "output_type": "execute_result"
    }
   ],
   "source": [
    "# Remember the intercept is the first condition alphabetically\n",
    "model.f_test(\"Intercept = condition[T.mix]\")"
   ]
  },
  {
   "cell_type": "markdown",
   "metadata": {
    "slideshow": {
     "slide_type": "slide"
    }
   },
   "source": [
    "## Simon Effect\n",
    "\n",
    "If the stimulus is on the same side as the response you get facilitation, if it's on the opposite side, you get inhibition.\n",
    "\n",
    "Our version of flanker had the simulus moving around the screen randomly. How can we test for the Simon effect?\n"
   ]
  },
  {
   "cell_type": "code",
   "execution_count": 50,
   "metadata": {},
   "outputs": [
    {
     "data": {
      "text/plain": [
       "<Axes: >"
      ]
     },
     "execution_count": 50,
     "metadata": {},
     "output_type": "execute_result"
    },
    {
     "data": {
      "image/png": "[encoded data removed]",
      "text/plain": [
       "<Figure size 640x480 with 1 Axes>"
      ]
     },
     "metadata": {},
     "output_type": "display_data"
    }
   ],
   "source": [
    "# Let's see the distribution of offsets relative to center\n",
    "df['x_offset'].hist()"
   ]
  },
  {
   "cell_type": "markdown",
   "metadata": {},
   "source": [
    "## Seaborn has a really cool function for visualizing linear models\n",
    "\n",
    "Install with:\n",
    "\n",
    "`conda install -c conda-forge seaborn`"
   ]
  },
  {
   "cell_type": "code",
   "execution_count": 51,
   "metadata": {},
   "outputs": [],
   "source": [
    "import seaborn as sns"
   ]
  },
  {
   "cell_type": "code",
   "execution_count": 52,
   "metadata": {},
   "outputs": [
    {
     "data": {
      "text/plain": [
       "<seaborn.axisgrid.FacetGrid at 0x7fa1a08f0a60>"
      ]
     },
     "execution_count": 52,
     "metadata": {},
     "output_type": "execute_result"
    },
    {
     "data": {
      "image/png": "[encoded data removed]",
      "text/plain": [
       "<Figure size 582.75x500 with 1 Axes>"
      ]
     },
     "metadata": {},
     "output_type": "display_data"
    }
   ],
   "source": [
    "sns.lmplot(y='log_rt', x='x_offset', hue='direction', data=df)"
   ]
  },
  {
   "cell_type": "code",
   "execution_count": 53,
   "metadata": {},
   "outputs": [
    {
     "data": {
      "text/plain": [
       "<seaborn.axisgrid.FacetGrid at 0x7fa1a0c087f0>"
      ]
     },
     "execution_count": 53,
     "metadata": {},
     "output_type": "execute_result"
    },
    {
     "data": {
      "image/png": "[encoded data removed]",
      "text/plain": [
       "<Figure size 582.75x500 with 1 Axes>"
      ]
     },
     "metadata": {},
     "output_type": "display_data"
    }
   ],
   "source": [
    "sns.lmplot(y='log_rt', x='dx', hue='direction', data=df)"
   ]
  },
  {
   "cell_type": "code",
   "execution_count": 77,
   "metadata": {},
   "outputs": [
    {
     "data": {
      "text/html": [
       "<table class=\"simpletable\">\n",
       "<caption>OLS Regression Results</caption>\n",
       "<tr>\n",
       "  <th>Dep. Variable:</th>         <td>log_rt</td>      <th>  R-squared:         </th> <td>   0.046</td>\n",
       "</tr>\n",
       "<tr>\n",
       "  <th>Model:</th>                   <td>OLS</td>       <th>  Adj. R-squared:    </th> <td>   0.030</td>\n",
       "</tr>\n",
       "<tr>\n",
       "  <th>Method:</th>             <td>Least Squares</td>  <th>  F-statistic:       </th> <td>   2.984</td>\n",
       "</tr>\n",
       "<tr>\n",
       "  <th>Date:</th>             <td>Thu, 05 Oct 2023</td> <th>  Prob (F-statistic):</th>  <td>0.0325</td> \n",
       "</tr>\n",
       "<tr>\n",
       "  <th>Time:</th>                 <td>13:26:33</td>     <th>  Log-Likelihood:    </th> <td>  94.322</td>\n",
       "</tr>\n",
       "<tr>\n",
       "  <th>No. Observations:</th>      <td>   191</td>      <th>  AIC:               </th> <td>  -180.6</td>\n",
       "</tr>\n",
       "<tr>\n",
       "  <th>Df Residuals:</th>          <td>   187</td>      <th>  BIC:               </th> <td>  -167.6</td>\n",
       "</tr>\n",
       "<tr>\n",
       "  <th>Df Model:</th>              <td>     3</td>      <th>                     </th>     <td> </td>   \n",
       "</tr>\n",
       "<tr>\n",
       "  <th>Covariance Type:</th>      <td>nonrobust</td>    <th>                     </th>     <td> </td>   \n",
       "</tr>\n",
       "</table>\n",
       "<table class=\"simpletable\">\n",
       "<tr>\n",
       "            <td></td>               <th>coef</th>     <th>std err</th>      <th>t</th>      <th>P>|t|</th>  <th>[0.025</th>    <th>0.975]</th>  \n",
       "</tr>\n",
       "<tr>\n",
       "  <th>Intercept</th>             <td>   -0.3942</td> <td>    0.015</td> <td>  -25.857</td> <td> 0.000</td> <td>   -0.424</td> <td>   -0.364</td>\n",
       "</tr>\n",
       "<tr>\n",
       "  <th>direction[T.right]</th>    <td>   -0.0230</td> <td>    0.022</td> <td>   -1.065</td> <td> 0.288</td> <td>   -0.066</td> <td>    0.020</td>\n",
       "</tr>\n",
       "<tr>\n",
       "  <th>dx</th>                    <td> 4.156e-05</td> <td> 3.57e-05</td> <td>    1.165</td> <td> 0.245</td> <td>-2.88e-05</td> <td>    0.000</td>\n",
       "</tr>\n",
       "<tr>\n",
       "  <th>dx:direction[T.right]</th> <td>   -0.0001</td> <td> 4.94e-05</td> <td>   -2.586</td> <td> 0.010</td> <td>   -0.000</td> <td>-3.03e-05</td>\n",
       "</tr>\n",
       "</table>\n",
       "<table class=\"simpletable\">\n",
       "<tr>\n",
       "  <th>Omnibus:</th>       <td> 2.810</td> <th>  Durbin-Watson:     </th> <td>   1.703</td>\n",
       "</tr>\n",
       "<tr>\n",
       "  <th>Prob(Omnibus):</th> <td> 0.245</td> <th>  Jarque-Bera (JB):  </th> <td>   2.052</td>\n",
       "</tr>\n",
       "<tr>\n",
       "  <th>Skew:</th>          <td> 0.067</td> <th>  Prob(JB):          </th> <td>   0.358</td>\n",
       "</tr>\n",
       "<tr>\n",
       "  <th>Kurtosis:</th>      <td> 2.510</td> <th>  Cond. No.          </th> <td>1.16e+03</td>\n",
       "</tr>\n",
       "</table><br/><br/>Notes:<br/>[1] Standard Errors assume that the covariance matrix of the errors is correctly specified.<br/>[2] The condition number is large, 1.16e+03. This might indicate that there are<br/>strong multicollinearity or other numerical problems."
      ],
      "text/latex": [
       "\\begin{center}\n",
       "\\begin{tabular}{lclc}\n",
       "\\toprule\n",
       "\\textbf{Dep. Variable:}        &     log\\_rt      & \\textbf{  R-squared:         } &     0.046   \\\\\n",
       "\\textbf{Model:}                &       OLS        & \\textbf{  Adj. R-squared:    } &     0.030   \\\\\n",
       "\\textbf{Method:}               &  Least Squares   & \\textbf{  F-statistic:       } &     2.984   \\\\\n",
       "\\textbf{Date:}                 & Thu, 05 Oct 2023 & \\textbf{  Prob (F-statistic):} &   0.0325    \\\\\n",
       "\\textbf{Time:}                 &     13:26:33     & \\textbf{  Log-Likelihood:    } &    94.322   \\\\\n",
       "\\textbf{No. Observations:}     &         191      & \\textbf{  AIC:               } &    -180.6   \\\\\n",
       "\\textbf{Df Residuals:}         &         187      & \\textbf{  BIC:               } &    -167.6   \\\\\n",
       "\\textbf{Df Model:}             &           3      & \\textbf{                     } &             \\\\\n",
       "\\textbf{Covariance Type:}      &    nonrobust     & \\textbf{                     } &             \\\\\n",
       "\\bottomrule\n",
       "\\end{tabular}\n",
       "\\begin{tabular}{lcccccc}\n",
       "                               & \\textbf{coef} & \\textbf{std err} & \\textbf{t} & \\textbf{P$> |$t$|$} & \\textbf{[0.025} & \\textbf{0.975]}  \\\\\n",
       "\\midrule\n",
       "\\textbf{Intercept}             &      -0.3942  &        0.015     &   -25.857  &         0.000        &       -0.424    &       -0.364     \\\\\n",
       "\\textbf{direction[T.right]}    &      -0.0230  &        0.022     &    -1.065  &         0.288        &       -0.066    &        0.020     \\\\\n",
       "\\textbf{dx}                    &    4.156e-05  &     3.57e-05     &     1.165  &         0.245        &    -2.88e-05    &        0.000     \\\\\n",
       "\\textbf{dx:direction[T.right]} &      -0.0001  &     4.94e-05     &    -2.586  &         0.010        &       -0.000    &    -3.03e-05     \\\\\n",
       "\\bottomrule\n",
       "\\end{tabular}\n",
       "\\begin{tabular}{lclc}\n",
       "\\textbf{Omnibus:}       &  2.810 & \\textbf{  Durbin-Watson:     } &    1.703  \\\\\n",
       "\\textbf{Prob(Omnibus):} &  0.245 & \\textbf{  Jarque-Bera (JB):  } &    2.052  \\\\\n",
       "\\textbf{Skew:}          &  0.067 & \\textbf{  Prob(JB):          } &    0.358  \\\\\n",
       "\\textbf{Kurtosis:}      &  2.510 & \\textbf{  Cond. No.          } & 1.16e+03  \\\\\n",
       "\\bottomrule\n",
       "\\end{tabular}\n",
       "%\\caption{OLS Regression Results}\n",
       "\\end{center}\n",
       "\n",
       "Notes: \\newline\n",
       " [1] Standard Errors assume that the covariance matrix of the errors is correctly specified. \\newline\n",
       " [2] The condition number is large, 1.16e+03. This might indicate that there are \\newline\n",
       " strong multicollinearity or other numerical problems."
      ],
      "text/plain": [
       "<class 'statsmodels.iolib.summary.Summary'>\n",
       "\"\"\"\n",
       "                            OLS Regression Results                            \n",
       "==============================================================================\n",
       "Dep. Variable:                 log_rt   R-squared:                       0.046\n",
       "Model:                            OLS   Adj. R-squared:                  0.030\n",
       "Method:                 Least Squares   F-statistic:                     2.984\n",
       "Date:                Thu, 05 Oct 2023   Prob (F-statistic):             0.0325\n",
       "Time:                        13:26:33   Log-Likelihood:                 94.322\n",
       "No. Observations:                 191   AIC:                            -180.6\n",
       "Df Residuals:                     187   BIC:                            -167.6\n",
       "Df Model:                           3                                         \n",
       "Covariance Type:            nonrobust                                         \n",
       "=========================================================================================\n",
       "                            coef    std err          t      P>|t|      [0.025      0.975]\n",
       "-----------------------------------------------------------------------------------------\n",
       "Intercept                -0.3942      0.015    -25.857      0.000      -0.424      -0.364\n",
       "direction[T.right]       -0.0230      0.022     -1.065      0.288      -0.066       0.020\n",
       "dx                     4.156e-05   3.57e-05      1.165      0.245   -2.88e-05       0.000\n",
       "dx:direction[T.right]    -0.0001   4.94e-05     -2.586      0.010      -0.000   -3.03e-05\n",
       "==============================================================================\n",
       "Omnibus:                        2.810   Durbin-Watson:                   1.703\n",
       "Prob(Omnibus):                  0.245   Jarque-Bera (JB):                2.052\n",
       "Skew:                           0.067   Prob(JB):                        0.358\n",
       "Kurtosis:                       2.510   Cond. No.                     1.16e+03\n",
       "==============================================================================\n",
       "\n",
       "Notes:\n",
       "[1] Standard Errors assume that the covariance matrix of the errors is correctly specified.\n",
       "[2] The condition number is large, 1.16e+03. This might indicate that there are\n",
       "strong multicollinearity or other numerical problems.\n",
       "\"\"\""
      ]
     },
     "execution_count": 77,
     "metadata": {},
     "output_type": "execute_result"
    }
   ],
   "source": [
    "# build a linear regression\n",
    "model = smf.ols(\"log_rt ~ dx*direction\", df).fit()\n",
    "model.summary()"
   ]
  },
  {
   "cell_type": "markdown",
   "metadata": {
    "slideshow": {
     "slide_type": "slide"
    }
   },
   "source": [
    "## Evaluating models with ANOVA\n",
    "\n",
    "Linear models are also ANOVA models. You can test for main and interaction effects without refitting the model. Take care to select the most appropriate *type* of anova (1, 2, or 3) for the question you are asking. Usually you will want either Type 2 or Type 3."
   ]
  },
  {
   "cell_type": "code",
   "execution_count": 78,
   "metadata": {},
   "outputs": [
    {
     "data": {
      "text/html": [
       "<div>\n",
       "<style scoped>\n",
       "    .dataframe tbody tr th:only-of-type {\n",
       "        vertical-align: middle;\n",
       "    }\n",
       "\n",
       "    .dataframe tbody tr th {\n",
       "        vertical-align: top;\n",
       "    }\n",
       "\n",
       "    .dataframe thead th {\n",
       "        text-align: right;\n",
       "    }\n",
       "</style>\n",
       "<table border=\"1\" class=\"dataframe\">\n",
       "  <thead>\n",
       "    <tr style=\"text-align: right;\">\n",
       "      <th></th>\n",
       "      <th>sum_sq</th>\n",
       "      <th>df</th>\n",
       "      <th>F</th>\n",
       "      <th>PR(&gt;F)</th>\n",
       "    </tr>\n",
       "  </thead>\n",
       "  <tbody>\n",
       "    <tr>\n",
       "      <th>direction</th>\n",
       "      <td>0.025281</td>\n",
       "      <td>1.0</td>\n",
       "      <td>1.135054</td>\n",
       "      <td>0.288073</td>\n",
       "    </tr>\n",
       "    <tr>\n",
       "      <th>dx</th>\n",
       "      <td>0.023036</td>\n",
       "      <td>1.0</td>\n",
       "      <td>1.034272</td>\n",
       "      <td>0.310471</td>\n",
       "    </tr>\n",
       "    <tr>\n",
       "      <th>dx:direction</th>\n",
       "      <td>0.148982</td>\n",
       "      <td>1.0</td>\n",
       "      <td>6.688905</td>\n",
       "      <td>0.010462</td>\n",
       "    </tr>\n",
       "    <tr>\n",
       "      <th>Residual</th>\n",
       "      <td>4.165051</td>\n",
       "      <td>187.0</td>\n",
       "      <td>NaN</td>\n",
       "      <td>NaN</td>\n",
       "    </tr>\n",
       "  </tbody>\n",
       "</table>\n",
       "</div>"
      ],
      "text/plain": [
       "                sum_sq     df         F    PR(>F)\n",
       "direction     0.025281    1.0  1.135054  0.288073\n",
       "dx            0.023036    1.0  1.034272  0.310471\n",
       "dx:direction  0.148982    1.0  6.688905  0.010462\n",
       "Residual      4.165051  187.0       NaN       NaN"
      ]
     },
     "execution_count": 78,
     "metadata": {},
     "output_type": "execute_result"
    }
   ],
   "source": [
    "sm.stats.anova_lm(model, typ=2)"
   ]
  },
  {
   "cell_type": "code",
   "execution_count": 79,
   "metadata": {},
   "outputs": [
    {
     "data": {
      "text/html": [
       "<div>\n",
       "<style scoped>\n",
       "    .dataframe tbody tr th:only-of-type {\n",
       "        vertical-align: middle;\n",
       "    }\n",
       "\n",
       "    .dataframe tbody tr th {\n",
       "        vertical-align: top;\n",
       "    }\n",
       "\n",
       "    .dataframe thead th {\n",
       "        text-align: right;\n",
       "    }\n",
       "</style>\n",
       "<table border=\"1\" class=\"dataframe\">\n",
       "  <thead>\n",
       "    <tr style=\"text-align: right;\">\n",
       "      <th></th>\n",
       "      <th>sum_sq</th>\n",
       "      <th>df</th>\n",
       "      <th>F</th>\n",
       "      <th>PR(&gt;F)</th>\n",
       "    </tr>\n",
       "  </thead>\n",
       "  <tbody>\n",
       "    <tr>\n",
       "      <th>Intercept</th>\n",
       "      <td>14.891043</td>\n",
       "      <td>1.0</td>\n",
       "      <td>668.569281</td>\n",
       "      <td>1.174041e-63</td>\n",
       "    </tr>\n",
       "    <tr>\n",
       "      <th>direction</th>\n",
       "      <td>0.025275</td>\n",
       "      <td>1.0</td>\n",
       "      <td>1.134788</td>\n",
       "      <td>2.881299e-01</td>\n",
       "    </tr>\n",
       "    <tr>\n",
       "      <th>dx</th>\n",
       "      <td>0.030255</td>\n",
       "      <td>1.0</td>\n",
       "      <td>1.358364</td>\n",
       "      <td>2.453056e-01</td>\n",
       "    </tr>\n",
       "    <tr>\n",
       "      <th>dx:direction</th>\n",
       "      <td>0.148982</td>\n",
       "      <td>1.0</td>\n",
       "      <td>6.688905</td>\n",
       "      <td>1.046159e-02</td>\n",
       "    </tr>\n",
       "    <tr>\n",
       "      <th>Residual</th>\n",
       "      <td>4.165051</td>\n",
       "      <td>187.0</td>\n",
       "      <td>NaN</td>\n",
       "      <td>NaN</td>\n",
       "    </tr>\n",
       "  </tbody>\n",
       "</table>\n",
       "</div>"
      ],
      "text/plain": [
       "                 sum_sq     df           F        PR(>F)\n",
       "Intercept     14.891043    1.0  668.569281  1.174041e-63\n",
       "direction      0.025275    1.0    1.134788  2.881299e-01\n",
       "dx             0.030255    1.0    1.358364  2.453056e-01\n",
       "dx:direction   0.148982    1.0    6.688905  1.046159e-02\n",
       "Residual       4.165051  187.0         NaN           NaN"
      ]
     },
     "execution_count": 79,
     "metadata": {},
     "output_type": "execute_result"
    }
   ],
   "source": [
    "sm.stats.anova_lm(model, typ=3)"
   ]
  },
  {
   "cell_type": "markdown",
   "metadata": {
    "slideshow": {
     "slide_type": "slide"
    }
   },
   "source": [
    "## Assignment before next class\n",
    "\n",
    "- Run in the Flanker experiment and post the data on Canvas\n",
    "  - Due by ***Tuesday***\n",
    "- Test for the Simon effect in your data\n",
    "  - Due on ***Thursday*** next week\n",
    "\n",
    "### See you next week!!!"
   ]
  }
 ],
 "metadata": {
  "celltoolbar": "Slideshow",
  "kernelspec": {
   "display_name": "smiledev",
   "language": "python",
   "name": "smiledev"
  },
  "language_info": {
   "codemirror_mode": {
    "name": "ipython",
    "version": 3
   },
   "file_extension": ".py",
   "mimetype": "text/x-python",
   "name": "python",
   "nbconvert_exporter": "python",
   "pygments_lexer": "ipython3",
   "version": "3.10.12"
  },
  "rise": {
   "scroll": true
  }
 },
 "nbformat": 4,
 "nbformat_minor": 2
}
