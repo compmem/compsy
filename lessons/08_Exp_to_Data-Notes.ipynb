{
 "cells": [
  {
   "cell_type": "markdown",
   "metadata": {
    "slideshow": {
     "slide_type": "slide"
    }
   },
   "source": [
    "# From Experiments to Data\n",
    "## Computational Methods in Psychology (and Neuroscience)\n",
    "### Psychology 4500/7559 --- Fall 2020\n",
    "By: Per B. Sederberg, PhD\n",
    "\n"
   ]
  },
  {
   "cell_type": "markdown",
   "metadata": {
    "slideshow": {
     "slide_type": "slide"
    }
   },
   "source": [
    "# Lesson Objectives\n",
    "\n",
    "Upon completion of this lesson, students should have learned:\n",
    "\n",
    "1. How to polish up a complete experiment\n",
    "2. How SMILE stores data\n",
    "3. How to read in slog files\n",
    "4. An introduction to Pandas\n"
   ]
  },
  {
   "cell_type": "markdown",
   "metadata": {
    "slideshow": {
     "slide_type": "slide"
    }
   },
   "source": [
    "# Review list generation solution\n",
    "\n",
    "- Let's go through the list gen code you'll use for your next assignment!"
   ]
  },
  {
   "cell_type": "markdown",
   "metadata": {
    "slideshow": {
     "slide_type": "slide"
    }
   },
   "source": [
    "# Updating SMILE\n",
    "\n",
    "- First you can test whether there is a new version Kivy, which is the primary dependency of SMILE:\n",
    "\n",
    "```bash\n",
    "conda install -c conda-forge kivy\n",
    "```\n",
    "\n",
    "- Then you can update SMILE right from the GitHub repository (note the upgrade option at the end):\n",
    "\n",
    "```bash\n",
    "pip install git+https://github.com/compmem/smile --upgrade\n",
    "```"
   ]
  },
  {
   "cell_type": "markdown",
   "metadata": {
    "slideshow": {
     "slide_type": "slide"
    }
   },
   "source": [
    "# Subject Info\n",
    "\n",
    "- When collecting data from a lot of participants in a lab setting, you need an easy way to enter subject information once the experiment has started."
   ]
  },
  {
   "cell_type": "code",
   "execution_count": 1,
   "metadata": {},
   "outputs": [
    {
     "name": "stderr",
     "output_type": "stream",
     "text": [
      "[INFO   ] [Logger      ] Record log in /Users/uva/.kivy/logs/kivy_20-10-15_1.txt\n",
      "[INFO   ] [Kivy        ] v1.11.1\n",
      "[INFO   ] [Kivy        ] Installed at \"/Users/uva/opt/anaconda3/envs/compsy/lib/python3.7/site-packages/kivy/__init__.py\"\n",
      "[INFO   ] [Python      ] v3.7.7 (default, May  6 2020, 04:59:01) \n",
      "[Clang 4.0.1 (tags/RELEASE_401/final)]\n",
      "[INFO   ] [Python      ] Interpreter at \"/Users/uva/opt/anaconda3/envs/compsy/bin/python\"\n",
      "[INFO   ] [Factory     ] 184 symbols loaded\n",
      "[INFO   ] [Image       ] Providers: img_tex, img_imageio, img_dds, img_sdl2, img_pil, img_gif (img_ffpyplayer ignored)\n",
      "[INFO   ] [Text        ] Provider: sdl2\n",
      "[INFO   ] [Camera      ] Provider: avfoundation\n",
      "[INFO   ] [VideoGstplayer] Using Gstreamer 1.14.5.0\n",
      "[INFO   ] [Video       ] Provider: gstplayer\n",
      "[WARNING] [SMILE       ] Unable to import PYO!\n",
      "[WARNING] [SMILE       ] Durations will be maintained, unless none are specified\n",
      "[INFO   ] [Window      ] Provider: sdl2\n",
      "[INFO   ] [GL          ] Using the \"OpenGL ES 2\" graphics system\n",
      "[INFO   ] [GL          ] Backend used <sdl2>\n",
      "[INFO   ] [GL          ] OpenGL version <b'2.1 INTEL-14.3.9'>\n",
      "[INFO   ] [GL          ] OpenGL vendor <b'Intel Inc.'>\n",
      "[INFO   ] [GL          ] OpenGL renderer <b'Intel(R) Iris(TM) Graphics 550'>\n",
      "[INFO   ] [GL          ] OpenGL parsed version: 2, 1\n",
      "[INFO   ] [GL          ] Shading version <b'1.20'>\n",
      "[INFO   ] [GL          ] Texture max size <16384>\n",
      "[INFO   ] [GL          ] Texture max units <16>\n",
      "[INFO   ] [Window      ] auto add sdl2 input provider\n",
      "[INFO   ] [Window      ] virtual keyboard not allowed, single mode, not docked\n",
      "[INFO   ] [Base        ] Start application main loop\n",
      "[INFO   ] [GL          ] NPOT texture support is available\n",
      "[INFO   ] [WindowSDL   ] exiting mainloop and closing.\n",
      "[INFO   ] [Base        ] Leaving application in progress...\n",
      "[INFO   ] [Window      ] Provider: sdl2\n",
      "[INFO   ] [GL          ] Using the \"OpenGL ES 2\" graphics system\n",
      "[INFO   ] [GL          ] Backend used <sdl2>\n",
      "[INFO   ] [GL          ] OpenGL version <b'2.1 INTEL-14.3.9'>\n",
      "[INFO   ] [GL          ] OpenGL vendor <b'Intel Inc.'>\n",
      "[INFO   ] [GL          ] OpenGL renderer <b'Intel(R) Iris(TM) Graphics 550'>\n",
      "[INFO   ] [GL          ] OpenGL parsed version: 2, 1\n",
      "[INFO   ] [GL          ] Shading version <b'1.20'>\n",
      "[INFO   ] [GL          ] Texture max size <16384>\n",
      "[INFO   ] [GL          ] Texture max units <16>\n",
      "[INFO   ] [Window      ] auto add sdl2 input provider\n",
      "[INFO   ] [Window      ] virtual keyboard not allowed, single mode, not docked\n",
      "[INFO   ] [Base        ] Start application main loop\n",
      "[INFO   ] [Base        ] Leaving application in progress...\n"
     ]
    }
   ],
   "source": [
    "from smile.common import *\n",
    "from smile.startup import InputSubject\n",
    "\n",
    "exp = Experiment(show_splash=False, resolution=(1024,768))\n",
    "\n",
    "InputSubject('Flanker')\n",
    "\n",
    "Label(text='Hello!')\n",
    "with UntilDone():\n",
    "    KeyPress()\n",
    "    \n",
    "exp.run()"
   ]
  },
  {
   "cell_type": "markdown",
   "metadata": {
    "slideshow": {
     "slide_type": "slide"
    }
   },
   "source": [
    "# Instructions\n",
    "\n",
    "- Participants need some guidance as to how they should perform the task\n",
    "- This can be just text via `Label` states, but even better would be a visual description, and even better would be a full tutorial.\n",
    "- ***NOTE: If you provide a tutorial, do not use items that you will use for the actual task!***"
   ]
  },
  {
   "cell_type": "code",
   "execution_count": null,
   "metadata": {},
   "outputs": [],
   "source": [
    "from smile.common import *\n",
    "\n",
    "exp = Experiment(show_splash=False, resolution=(1024,768))\n",
    "\n",
    "# Labels can be multi-line with markup!\n",
    "with Parallel():\n",
    "    Label(text=\"This is multi-line text aligned to the left\", \n",
    "          font_size=50, text_size=(400, None),\n",
    "          left=exp.screen.left)\n",
    "    Label(text=\"This is multi-line text aligned to the right\", \n",
    "          font_size=50, text_size=(400, None), \n",
    "          right=exp.screen.right, halign='right')\n",
    "with UntilDone():\n",
    "    KeyPress()\n",
    "    \n",
    "exp.run()"
   ]
  },
  {
   "cell_type": "markdown",
   "metadata": {
    "slideshow": {
     "slide_type": "slide"
    }
   },
   "source": [
    "# Scaling to different screen sizes/densities\n",
    "\n",
    "- Screen sizes and pixel densities can vary across devices (especially on laptops, tablets, and phones)\n",
    "- But all sizes in Kivy/SMILE are defined by number of pixels\n",
    "- We provide a means to scale across devices:"
   ]
  },
  {
   "cell_type": "code",
   "execution_count": 2,
   "metadata": {},
   "outputs": [
    {
     "name": "stdout",
     "output_type": "stream",
     "text": [
      " SMILE Traceback:\n",
      "   Serial (EXPERIMENT BODY) - file: <ipython-input-2-34eda160b3f0>, line: 9\n",
      "     instantiation_filename: '<ipython-input-2-34eda160b3f0>'\n",
      "     instantiation_lineno: 9\n",
      "     name: 'EXPERIMENT BODY'\n",
      "     start_time: 0.238272s from now\n",
      "     end_time: None\n",
      "     enter_time: 0.011704s ago\n",
      "     leave_time: NotAvailable\n",
      "     finalize_time: NotAvailable\n",
      "   Wait - file: Turn on Debug Mode for this information, line: 0\n",
      "     instantiation_filename: 'Turn on Debug Mode for this information'\n",
      "     instantiation_lineno: 0\n",
      "     name: None\n",
      "     start_time: 0.238272s from now\n",
      "     end_time: 0.738272s from now\n",
      "     enter_time: 0.008963s ago\n",
      "     leave_time: NotAvailable\n",
      "     finalize_time: NotAvailable\n",
      "     until_value: None\n",
      "     event_time: None\n"
     ]
    },
    {
     "ename": "KeyError",
     "evalue": "'ParentSet'",
     "output_type": "error",
     "traceback": [
      "\u001b[0;31m---------------------------------------------------------------------------\u001b[0m",
      "\u001b[0;31mKeyError\u001b[0m                                  Traceback (most recent call last)",
      "\u001b[0;32m<ipython-input-2-34eda160b3f0>\u001b[0m in \u001b[0;36m<module>\u001b[0;34m\u001b[0m\n\u001b[1;32m     18\u001b[0m     \u001b[0mKeyPress\u001b[0m\u001b[0;34m(\u001b[0m\u001b[0;34m)\u001b[0m\u001b[0;34m\u001b[0m\u001b[0;34m\u001b[0m\u001b[0m\n\u001b[1;32m     19\u001b[0m \u001b[0;34m\u001b[0m\u001b[0m\n\u001b[0;32m---> 20\u001b[0;31m \u001b[0mexp\u001b[0m\u001b[0;34m.\u001b[0m\u001b[0mrun\u001b[0m\u001b[0;34m(\u001b[0m\u001b[0;34m)\u001b[0m\u001b[0;34m\u001b[0m\u001b[0;34m\u001b[0m\u001b[0m\n\u001b[0m",
      "\u001b[0;32m~/opt/anaconda3/envs/compsy/lib/python3.7/site-packages/smile/experiment.py\u001b[0m in \u001b[0;36mrun\u001b[0;34m(self, trace)\u001b[0m\n\u001b[1;32m    637\u001b[0m \u001b[0;34m\u001b[0m\u001b[0m\n\u001b[1;32m    638\u001b[0m             \u001b[0;31m# start up the app\u001b[0m\u001b[0;34m\u001b[0m\u001b[0;34m\u001b[0m\u001b[0;34m\u001b[0m\u001b[0m\n\u001b[0;32m--> 639\u001b[0;31m             \u001b[0mself\u001b[0m\u001b[0;34m.\u001b[0m\u001b[0m_app\u001b[0m\u001b[0;34m.\u001b[0m\u001b[0mrun\u001b[0m\u001b[0;34m(\u001b[0m\u001b[0;34m)\u001b[0m\u001b[0;34m\u001b[0m\u001b[0;34m\u001b[0m\u001b[0m\n\u001b[0m\u001b[1;32m    640\u001b[0m \u001b[0;34m\u001b[0m\u001b[0m\n\u001b[1;32m    641\u001b[0m         \u001b[0;32mexcept\u001b[0m\u001b[0;34m:\u001b[0m\u001b[0;34m\u001b[0m\u001b[0;34m\u001b[0m\u001b[0m\n",
      "\u001b[0;32m~/opt/anaconda3/envs/compsy/lib/python3.7/site-packages/kivy/app.py\u001b[0m in \u001b[0;36mrun\u001b[0;34m(self)\u001b[0m\n\u001b[1;32m    853\u001b[0m \u001b[0;34m\u001b[0m\u001b[0m\n\u001b[1;32m    854\u001b[0m         \u001b[0mself\u001b[0m\u001b[0;34m.\u001b[0m\u001b[0mdispatch\u001b[0m\u001b[0;34m(\u001b[0m\u001b[0;34m'on_start'\u001b[0m\u001b[0;34m)\u001b[0m\u001b[0;34m\u001b[0m\u001b[0;34m\u001b[0m\u001b[0m\n\u001b[0;32m--> 855\u001b[0;31m         \u001b[0mrunTouchApp\u001b[0m\u001b[0;34m(\u001b[0m\u001b[0;34m)\u001b[0m\u001b[0;34m\u001b[0m\u001b[0;34m\u001b[0m\u001b[0m\n\u001b[0m\u001b[1;32m    856\u001b[0m         \u001b[0mself\u001b[0m\u001b[0;34m.\u001b[0m\u001b[0mstop\u001b[0m\u001b[0;34m(\u001b[0m\u001b[0;34m)\u001b[0m\u001b[0;34m\u001b[0m\u001b[0;34m\u001b[0m\u001b[0m\n\u001b[1;32m    857\u001b[0m \u001b[0;34m\u001b[0m\u001b[0m\n",
      "\u001b[0;32m~/opt/anaconda3/envs/compsy/lib/python3.7/site-packages/kivy/base.py\u001b[0m in \u001b[0;36mrunTouchApp\u001b[0;34m(widget, slave)\u001b[0m\n\u001b[1;32m    502\u001b[0m             \u001b[0m_run_mainloop\u001b[0m\u001b[0;34m(\u001b[0m\u001b[0;34m)\u001b[0m\u001b[0;34m\u001b[0m\u001b[0;34m\u001b[0m\u001b[0m\n\u001b[1;32m    503\u001b[0m         \u001b[0;32melse\u001b[0m\u001b[0;34m:\u001b[0m\u001b[0;34m\u001b[0m\u001b[0;34m\u001b[0m\u001b[0m\n\u001b[0;32m--> 504\u001b[0;31m             \u001b[0mEventLoop\u001b[0m\u001b[0;34m.\u001b[0m\u001b[0mwindow\u001b[0m\u001b[0;34m.\u001b[0m\u001b[0mmainloop\u001b[0m\u001b[0;34m(\u001b[0m\u001b[0;34m)\u001b[0m\u001b[0;34m\u001b[0m\u001b[0;34m\u001b[0m\u001b[0m\n\u001b[0m\u001b[1;32m    505\u001b[0m     \u001b[0;32mfinally\u001b[0m\u001b[0;34m:\u001b[0m\u001b[0;34m\u001b[0m\u001b[0;34m\u001b[0m\u001b[0m\n\u001b[1;32m    506\u001b[0m         \u001b[0mstopTouchApp\u001b[0m\u001b[0;34m(\u001b[0m\u001b[0;34m)\u001b[0m\u001b[0;34m\u001b[0m\u001b[0;34m\u001b[0m\u001b[0m\n",
      "\u001b[0;32m~/opt/anaconda3/envs/compsy/lib/python3.7/site-packages/kivy/core/window/window_sdl2.py\u001b[0m in \u001b[0;36mmainloop\u001b[0;34m(self)\u001b[0m\n\u001b[1;32m    745\u001b[0m         \u001b[0;32mwhile\u001b[0m \u001b[0;32mnot\u001b[0m \u001b[0mEventLoop\u001b[0m\u001b[0;34m.\u001b[0m\u001b[0mquit\u001b[0m \u001b[0;32mand\u001b[0m \u001b[0mEventLoop\u001b[0m\u001b[0;34m.\u001b[0m\u001b[0mstatus\u001b[0m \u001b[0;34m==\u001b[0m \u001b[0;34m'started'\u001b[0m\u001b[0;34m:\u001b[0m\u001b[0;34m\u001b[0m\u001b[0;34m\u001b[0m\u001b[0m\n\u001b[1;32m    746\u001b[0m             \u001b[0;32mtry\u001b[0m\u001b[0;34m:\u001b[0m\u001b[0;34m\u001b[0m\u001b[0;34m\u001b[0m\u001b[0m\n\u001b[0;32m--> 747\u001b[0;31m                 \u001b[0mself\u001b[0m\u001b[0;34m.\u001b[0m\u001b[0m_mainloop\u001b[0m\u001b[0;34m(\u001b[0m\u001b[0;34m)\u001b[0m\u001b[0;34m\u001b[0m\u001b[0;34m\u001b[0m\u001b[0m\n\u001b[0m\u001b[1;32m    748\u001b[0m             \u001b[0;32mexcept\u001b[0m \u001b[0mBaseException\u001b[0m \u001b[0;32mas\u001b[0m \u001b[0minst\u001b[0m\u001b[0;34m:\u001b[0m\u001b[0;34m\u001b[0m\u001b[0;34m\u001b[0m\u001b[0m\n\u001b[1;32m    749\u001b[0m                 \u001b[0;31m# use exception manager first\u001b[0m\u001b[0;34m\u001b[0m\u001b[0;34m\u001b[0m\u001b[0;34m\u001b[0m\u001b[0m\n",
      "\u001b[0;32m~/opt/anaconda3/envs/compsy/lib/python3.7/site-packages/kivy/core/window/window_sdl2.py\u001b[0m in \u001b[0;36m_mainloop\u001b[0;34m(self)\u001b[0m\n\u001b[1;32m    477\u001b[0m \u001b[0;34m\u001b[0m\u001b[0m\n\u001b[1;32m    478\u001b[0m     \u001b[0;32mdef\u001b[0m \u001b[0m_mainloop\u001b[0m\u001b[0;34m(\u001b[0m\u001b[0mself\u001b[0m\u001b[0;34m)\u001b[0m\u001b[0;34m:\u001b[0m\u001b[0;34m\u001b[0m\u001b[0;34m\u001b[0m\u001b[0m\n\u001b[0;32m--> 479\u001b[0;31m         \u001b[0mEventLoop\u001b[0m\u001b[0;34m.\u001b[0m\u001b[0midle\u001b[0m\u001b[0;34m(\u001b[0m\u001b[0;34m)\u001b[0m\u001b[0;34m\u001b[0m\u001b[0;34m\u001b[0m\u001b[0m\n\u001b[0m\u001b[1;32m    480\u001b[0m \u001b[0;34m\u001b[0m\u001b[0m\n\u001b[1;32m    481\u001b[0m         \u001b[0;31m# for android/iOS, we don't want to have any event nor executing our\u001b[0m\u001b[0;34m\u001b[0m\u001b[0;34m\u001b[0m\u001b[0;34m\u001b[0m\u001b[0m\n",
      "\u001b[0;32m~/opt/anaconda3/envs/compsy/lib/python3.7/site-packages/smile/kivy_overrides.py\u001b[0m in \u001b[0;36midle\u001b[0;34m(self)\u001b[0m\n\u001b[1;32m    110\u001b[0m     \u001b[0;32mdef\u001b[0m \u001b[0midle\u001b[0m\u001b[0;34m(\u001b[0m\u001b[0mself\u001b[0m\u001b[0;34m)\u001b[0m\u001b[0;34m:\u001b[0m\u001b[0;34m\u001b[0m\u001b[0;34m\u001b[0m\u001b[0m\n\u001b[1;32m    111\u001b[0m         \u001b[0;32mif\u001b[0m \u001b[0mself\u001b[0m\u001b[0;34m.\u001b[0m\u001b[0m_idle_callback\u001b[0m\u001b[0;34m:\u001b[0m\u001b[0;34m\u001b[0m\u001b[0;34m\u001b[0m\u001b[0m\n\u001b[0;32m--> 112\u001b[0;31m             \u001b[0mself\u001b[0m\u001b[0;34m.\u001b[0m\u001b[0m_idle_callback\u001b[0m\u001b[0;34m(\u001b[0m\u001b[0mself\u001b[0m\u001b[0;34m)\u001b[0m\u001b[0;34m\u001b[0m\u001b[0;34m\u001b[0m\u001b[0m\n\u001b[0m\u001b[1;32m    113\u001b[0m \u001b[0;34m\u001b[0m\u001b[0m\n\u001b[1;32m    114\u001b[0m         \u001b[0;31m# don't loop if we don't have listeners !\u001b[0m\u001b[0;34m\u001b[0m\u001b[0;34m\u001b[0m\u001b[0;34m\u001b[0m\u001b[0m\n",
      "\u001b[0;32m~/opt/anaconda3/envs/compsy/lib/python3.7/site-packages/smile/main.py\u001b[0m in \u001b[0;36m_idle_callback\u001b[0;34m(self, event_loop)\u001b[0m\n\u001b[1;32m    250\u001b[0m \u001b[0;34m\u001b[0m\u001b[0m\n\u001b[1;32m    251\u001b[0m         \u001b[0;31m# call any of our scheduled events that are ready\u001b[0m\u001b[0;34m\u001b[0m\u001b[0;34m\u001b[0m\u001b[0;34m\u001b[0m\u001b[0m\n\u001b[0;32m--> 252\u001b[0;31m         \u001b[0mclock\u001b[0m\u001b[0;34m.\u001b[0m\u001b[0mtick\u001b[0m\u001b[0;34m(\u001b[0m\u001b[0;34m)\u001b[0m\u001b[0;34m\u001b[0m\u001b[0;34m\u001b[0m\u001b[0m\n\u001b[0m\u001b[1;32m    253\u001b[0m \u001b[0;34m\u001b[0m\u001b[0m\n\u001b[1;32m    254\u001b[0m         \u001b[0;31m# dispatch input events\u001b[0m\u001b[0;34m\u001b[0m\u001b[0;34m\u001b[0m\u001b[0;34m\u001b[0m\u001b[0m\n",
      "\u001b[0;32m~/opt/anaconda3/envs/compsy/lib/python3.7/site-packages/smile/clock.py\u001b[0m in \u001b[0;36mtick\u001b[0;34m(self)\u001b[0m\n\u001b[1;32m     32\u001b[0m                         \u001b[0mevent\u001b[0m\u001b[0;34m.\u001b[0m\u001b[0mevent_time\u001b[0m \u001b[0;34m+=\u001b[0m \u001b[0mevent\u001b[0m\u001b[0;34m.\u001b[0m\u001b[0mrepeat_interval\u001b[0m\u001b[0;34m\u001b[0m\u001b[0;34m\u001b[0m\u001b[0m\n\u001b[1;32m     33\u001b[0m                     \u001b[0mself\u001b[0m\u001b[0;34m.\u001b[0m\u001b[0m_schedule\u001b[0m\u001b[0;34m(\u001b[0m\u001b[0mevent\u001b[0m\u001b[0;34m)\u001b[0m\u001b[0;34m\u001b[0m\u001b[0;34m\u001b[0m\u001b[0m\n\u001b[0;32m---> 34\u001b[0;31m                 \u001b[0mevent\u001b[0m\u001b[0;34m.\u001b[0m\u001b[0mfunc\u001b[0m\u001b[0;34m(\u001b[0m\u001b[0;34m)\u001b[0m\u001b[0;34m\u001b[0m\u001b[0;34m\u001b[0m\u001b[0m\n\u001b[0m\u001b[1;32m     35\u001b[0m             \u001b[0;32melse\u001b[0m\u001b[0;34m:\u001b[0m\u001b[0;34m\u001b[0m\u001b[0;34m\u001b[0m\u001b[0m\n\u001b[1;32m     36\u001b[0m                 \u001b[0;32mbreak\u001b[0m\u001b[0;34m\u001b[0m\u001b[0;34m\u001b[0m\u001b[0m\n",
      "\u001b[0;32m~/opt/anaconda3/envs/compsy/lib/python3.7/site-packages/smile/state.py\u001b[0m in \u001b[0;36mfinalize\u001b[0;34m(self)\u001b[0m\n\u001b[1;32m    794\u001b[0m         \u001b[0mself\u001b[0m\u001b[0;34m.\u001b[0m\u001b[0m_active\u001b[0m \u001b[0;34m=\u001b[0m \u001b[0;32mFalse\u001b[0m\u001b[0;34m\u001b[0m\u001b[0;34m\u001b[0m\u001b[0m\n\u001b[1;32m    795\u001b[0m         \u001b[0;32mif\u001b[0m \u001b[0mself\u001b[0m\u001b[0;34m.\u001b[0m\u001b[0m__save_log\u001b[0m\u001b[0;34m:\u001b[0m\u001b[0;34m\u001b[0m\u001b[0;34m\u001b[0m\u001b[0m\n\u001b[0;32m--> 796\u001b[0;31m             \u001b[0mself\u001b[0m\u001b[0;34m.\u001b[0m\u001b[0msave_log\u001b[0m\u001b[0;34m(\u001b[0m\u001b[0;34m)\u001b[0m\u001b[0;34m\u001b[0m\u001b[0;34m\u001b[0m\u001b[0m\n\u001b[0m\u001b[1;32m    797\u001b[0m         \u001b[0;32mif\u001b[0m \u001b[0mself\u001b[0m\u001b[0;34m.\u001b[0m\u001b[0m_parent\u001b[0m\u001b[0;34m:\u001b[0m\u001b[0;34m\u001b[0m\u001b[0;34m\u001b[0m\u001b[0m\n\u001b[1;32m    798\u001b[0m             \u001b[0mclock\u001b[0m\u001b[0;34m.\u001b[0m\u001b[0mschedule\u001b[0m\u001b[0;34m(\u001b[0m\u001b[0mpartial\u001b[0m\u001b[0;34m(\u001b[0m\u001b[0mself\u001b[0m\u001b[0;34m.\u001b[0m\u001b[0m_parent\u001b[0m\u001b[0;34m.\u001b[0m\u001b[0mchild_finalize_callback\u001b[0m\u001b[0;34m,\u001b[0m \u001b[0mself\u001b[0m\u001b[0;34m)\u001b[0m\u001b[0;34m)\u001b[0m\u001b[0;34m\u001b[0m\u001b[0;34m\u001b[0m\u001b[0m\n",
      "\u001b[0;32m~/opt/anaconda3/envs/compsy/lib/python3.7/site-packages/smile/state.py\u001b[0m in \u001b[0;36msave_log\u001b[0;34m(self)\u001b[0m\n\u001b[1;32m    781\u001b[0m         self._exp.write_to_state_log(\n\u001b[1;32m    782\u001b[0m             \u001b[0mtype\u001b[0m\u001b[0;34m(\u001b[0m\u001b[0mself\u001b[0m\u001b[0;34m)\u001b[0m\u001b[0;34m.\u001b[0m\u001b[0m__name__\u001b[0m\u001b[0;34m,\u001b[0m\u001b[0;34m\u001b[0m\u001b[0;34m\u001b[0m\u001b[0m\n\u001b[0;32m--> 783\u001b[0;31m             {name : getattr(self, \"_\" + name) for name in self._log_attrs})\n\u001b[0m\u001b[1;32m    784\u001b[0m \u001b[0;34m\u001b[0m\u001b[0m\n\u001b[1;32m    785\u001b[0m     \u001b[0;32mdef\u001b[0m \u001b[0mfinalize\u001b[0m\u001b[0;34m(\u001b[0m\u001b[0mself\u001b[0m\u001b[0;34m)\u001b[0m\u001b[0;34m:\u001b[0m  \u001b[0;31m#TODO: call a _finalize method?\u001b[0m\u001b[0;34m\u001b[0m\u001b[0;34m\u001b[0m\u001b[0m\n",
      "\u001b[0;32m~/opt/anaconda3/envs/compsy/lib/python3.7/site-packages/smile/experiment.py\u001b[0m in \u001b[0;36mwrite_to_state_log\u001b[0;34m(self, state_class_name, record)\u001b[0m\n\u001b[1;32m    545\u001b[0m \u001b[0;34m\u001b[0m\u001b[0m\n\u001b[1;32m    546\u001b[0m     \u001b[0;32mdef\u001b[0m \u001b[0mwrite_to_state_log\u001b[0m\u001b[0;34m(\u001b[0m\u001b[0mself\u001b[0m\u001b[0;34m,\u001b[0m \u001b[0mstate_class_name\u001b[0m\u001b[0;34m,\u001b[0m \u001b[0mrecord\u001b[0m\u001b[0;34m)\u001b[0m\u001b[0;34m:\u001b[0m\u001b[0;34m\u001b[0m\u001b[0;34m\u001b[0m\u001b[0m\n\u001b[0;32m--> 547\u001b[0;31m         \u001b[0mself\u001b[0m\u001b[0;34m.\u001b[0m\u001b[0m_state_loggers\u001b[0m\u001b[0;34m[\u001b[0m\u001b[0mstate_class_name\u001b[0m\u001b[0;34m]\u001b[0m\u001b[0;34m[\u001b[0m\u001b[0;36m1\u001b[0m\u001b[0;34m]\u001b[0m\u001b[0;34m.\u001b[0m\u001b[0mwrite_record\u001b[0m\u001b[0;34m(\u001b[0m\u001b[0mrecord\u001b[0m\u001b[0;34m)\u001b[0m\u001b[0;34m\u001b[0m\u001b[0;34m\u001b[0m\u001b[0m\n\u001b[0m\u001b[1;32m    548\u001b[0m \u001b[0;34m\u001b[0m\u001b[0m\n\u001b[1;32m    549\u001b[0m     \u001b[0;32mdef\u001b[0m \u001b[0m_flush_state_loggers\u001b[0m\u001b[0;34m(\u001b[0m\u001b[0mself\u001b[0m\u001b[0;34m)\u001b[0m\u001b[0;34m:\u001b[0m\u001b[0;34m\u001b[0m\u001b[0;34m\u001b[0m\u001b[0m\n",
      "\u001b[0;31mKeyError\u001b[0m: 'ParentSet'"
     ]
    }
   ],
   "source": [
    "# load in smile states\n",
    "from smile.common import *\n",
    "from smile.scale import scale as s\n",
    "\n",
    "# create an experiment instance (pick different resolutions)\n",
    "resolution = (800,600)\n",
    "#resolution = (1024,768)\n",
    "exp = Experiment(show_splash=False, resolution=resolution,\n",
    "                 scale_up=True, scale_down=True, scale_box=(400, 300))\n",
    "Wait(.5)\n",
    "with Parallel():\n",
    "    # add a scaled rectangle\n",
    "    Rectangle(width=s(250),height=s(250))\n",
    "    \n",
    "    # and a fixed size rectangle\n",
    "    Rectangle(width=100, height=100, color='blue')\n",
    "with UntilDone():\n",
    "    KeyPress()\n",
    "\n",
    "exp.run()"
   ]
  },
  {
   "cell_type": "markdown",
   "metadata": {
    "slideshow": {
     "slide_type": "slide"
    }
   },
   "source": [
    "# Logging and Slogging\n",
    "\n",
    "- SMILE states automatically log themselves, so you rarely will lose information if you forget to log it.\n",
    "- It's still much easier to analyze a well-organized log file from your experiment.\n",
    "- Make use of the `Log` state to save out data.\n",
    "- All logs are stored in `.slog` files, which is short for SMILE Log.\n",
    "- These are read in as a list of dictionaries (or a dict-list):\n",
    "\n",
    "```python\n",
    "from smile.log import log2dl\n",
    "dl = log2dl('flanker_log.slog')\n",
    "```"
   ]
  },
  {
   "cell_type": "markdown",
   "metadata": {
    "slideshow": {
     "slide_type": "slide"
    }
   },
   "source": [
    "# Where have all the data gone?\n",
    "\n",
    "- All the data files are stored in the `data` directory\n",
    "  - NOTE: Even when you don't specify a subj, it saves to a `test000` directory, so you can delete that sometimes to save space.\n",
    "- There is a hierarchical structure to the data directory:\n",
    "  - Experiment -> SubjID -> Date/Time"
   ]
  },
  {
   "cell_type": "code",
   "execution_count": 10,
   "metadata": {},
   "outputs": [
    {
     "name": "stdout",
     "output_type": "stream",
     "text": [
      "state_KeyPress_0.slog  state_Rectangle_0.slog state_Wait_0.slog\r\n",
      "state_Parallel_0.slog  state_Serial_0.slog    sysinfo.slog\r\n"
     ]
    },
    {
     "data": {
      "text/plain": [
       "[{'fullscreen': False,\n",
       "  'locked': 0,\n",
       "  'density': '1.0',\n",
       "  'font_size': 45.0,\n",
       "  'font_name': 'Roboto',\n",
       "  'frame_rate': 60.0,\n",
       "  'default_data_dir': './data',\n",
       "  'data_time': '20201015_154135',\n",
       "  'debug': False,\n",
       "  'resolution_0': 800,\n",
       "  'resolution_1': 600,\n",
       "  'background_color': None,\n",
       "  'scale_box_0': 400,\n",
       "  'scale_box_1': 300,\n",
       "  'scale_up': True,\n",
       "  'scale_down': True,\n",
       "  'expname': 'SMILE',\n",
       "  'processor': 'i386',\n",
       "  'python_version': '3.7.7',\n",
       "  'system': 'Darwin',\n",
       "  'version': '',\n",
       "  'author': '',\n",
       "  'email': '',\n",
       "  'date_last_update': '',\n",
       "  'uname_0': 'Darwin',\n",
       "  'uname_1': 'Jeromes-MacBook-Pro.local',\n",
       "  'uname_2': '19.2.0',\n",
       "  'uname_3': 'Darwin Kernel Version 19.2.0: Sat Nov  9 03:47:04 PST 2019; root:xnu-6153.61.1~20/RELEASE_X86_64',\n",
       "  'uname_4': 'x86_64',\n",
       "  'uname_5': 'i386',\n",
       "  'screen_size_0': 1600,\n",
       "  'screen_size_1': 1200,\n",
       "  'log_num': 0}]"
      ]
     },
     "execution_count": 10,
     "metadata": {},
     "output_type": "execute_result"
    }
   ],
   "source": [
    "from smile.log import log2dl\n",
    "!ls data/SMILE/test000/20201015_154135\n",
    "\n",
    "dl = log2dl(\"data/SMILE/test000/20201015_154135/sysinfo.slog\")\n",
    "dl"
   ]
  },
  {
   "cell_type": "markdown",
   "metadata": {
    "slideshow": {
     "slide_type": "slide"
    }
   },
   "source": [
    "# Let's continue learning by building together!\n",
    "\n",
    "- Remaining features to add:\n",
    "  - Instructions\n",
    "  - Loop over blocks and then trials\n",
    "  - Verify logging"
   ]
  },
  {
   "cell_type": "markdown",
   "metadata": {
    "slideshow": {
     "slide_type": "slide"
    }
   },
   "source": [
    "# List Gen Function\n",
    "\n",
    "- NOTE: New addition for multiple blocks of trials"
   ]
  },
  {
   "cell_type": "code",
   "execution_count": null,
   "metadata": {},
   "outputs": [],
   "source": [
    "import random \n",
    "import copy\n",
    "\n",
    "# define the conditions\n",
    "conds = [{'condition': 'congruent',\n",
    "          'direction': 'left',\n",
    "          'stimulus': '<<<<<<<'\n",
    "         },\n",
    "         {'condition': 'congruent',\n",
    "          'direction': 'right',\n",
    "          'stimulus': '>>>>>>>'\n",
    "         },\n",
    "         {'condition': 'incongruent',\n",
    "          'direction': 'left',\n",
    "          'stimulus': '>>><>>>'\n",
    "         },\n",
    "         {'condition': 'incongruent',\n",
    "          'direction': 'right',\n",
    "          'stimulus': '<<<><<<'\n",
    "         },\n",
    "         {'condition': 'neutral',\n",
    "          'direction': 'left',\n",
    "          'stimulus': '===<==='\n",
    "         },\n",
    "         {'condition': 'neutral',\n",
    "          'direction': 'right',\n",
    "          'stimulus': '===>==='\n",
    "         },]\n",
    "\n",
    "# specify number of reps of these conditions\n",
    "num_reps = 2\n",
    "num_blocks = 3\n",
    "\n",
    "# loop and create the blocks\n",
    "blocks = []\n",
    "for b in range(num_blocks):\n",
    "    # loop and create the list\n",
    "    trials = []\n",
    "    for i in range(num_reps):\n",
    "        # extend the trials with copies of the conditions\n",
    "        trials.extend(copy.deepcopy(conds))\n",
    "        \n",
    "    # shuffle the trials\n",
    "    random.shuffle(trials)\n",
    "    \n",
    "    # append the trials to the blocks\n",
    "    blocks.append(trials)\n",
    "\n",
    "print(blocks)"
   ]
  },
  {
   "cell_type": "markdown",
   "metadata": {
    "slideshow": {
     "slide_type": "slide"
    }
   },
   "source": [
    "# Goal for task\n",
    "\n",
    "## High level structure\n",
    "\n",
    "- Present instructions\n",
    "- Loop over blocks\n",
    "- Within each block, loop over trials\n",
    "\n",
    "## Trial structure\n",
    "\n",
    "- Present the correct stimulus as text on the screen\n",
    "- Wait for a response\n",
    "- Remove the stimulus\n",
    "- Wait for an inter-stimulus interval\n",
    "- Log the result of the trial"
   ]
  },
  {
   "cell_type": "code",
   "execution_count": null,
   "metadata": {
    "slideshow": {
     "slide_type": "slide"
    }
   },
   "outputs": [],
   "source": [
    "from smile.common import *\n",
    "from smile.scale import scale as s\n",
    "\n",
    "# config section\n",
    "font_size = s(75)\n",
    "resp_keys = ['F', 'J']\n",
    "resp_map = {'left': 'F', 'right': 'J'}\n",
    "ISI_dur = 0.5\n",
    "ISI_jitter = 0.5\n",
    "LOC_X_jitter = s(200)\n",
    "LOC_Y_jitter = s(100)\n",
    "inst_font_size = s(25)\n",
    "inst_text = \"\"\"[size=40]FLANKER INSTRUCTIONS[/size]\n",
    "    \n",
    "Press ENTER key to continue.\"\"\"\n",
    "\n",
    "# create the experiment\n",
    "exp = Experiment(name='FLANKER', show_splash=False, \n",
    "                 fullscreen=False,\n",
    "                 resolution=(1024, 768))\n",
    "\n",
    "@Subroutine\n",
    "def Instruct(self):\n",
    "    # show the instructions\n",
    "    Label(text=inst_text, font_size=inst_font_size,\n",
    "          text_size=(exp.screen.width*0.75, None),\n",
    "          markup=True)\n",
    "    with UntilDone():\n",
    "        KeyPress(keys=['ENTER'])\n",
    "\n",
    "@Subroutine\n",
    "def Trial(self, block_num, trial_num, cur_trial):\n",
    "    # pick the new stimulus location\n",
    "    self.location = (jitter(self.exp.screen.center_x-LOC_X_jitter,\n",
    "                            LOC_X_jitter*2),\n",
    "                     jitter(self.exp.screen.center_y-LOC_Y_jitter,\n",
    "                            LOC_Y_jitter*2))\n",
    "    # present the stimulus\n",
    "    stim = Label(text=cur_trial['stimulus'],\n",
    "                 font_size=font_size,\n",
    "                 center=self.location)\n",
    "    with UntilDone():\n",
    "        # make sure the stimulus has appeared on the screen\n",
    "        Wait(until=stim.appear_time)\n",
    "        \n",
    "        # collect a response (with no timeout)\n",
    "        kp = KeyPress(keys=resp_keys, \n",
    "                      base_time=stim.appear_time['time'],\n",
    "                      correct_resp=Ref.object(resp_map)[cur_trial['direction']])\n",
    "    \n",
    "    # wait the ISI with jitter\n",
    "    Wait(ISI_dur, jitter=ISI_jitter)\n",
    "\n",
    "    # log the result of the trial\n",
    "    Log(name='flanker', \n",
    "        log_dict=cur_trial,\n",
    "        block_num=block_num,\n",
    "        trial_num=trial_num,\n",
    "        stim_on=stim.appear_time,\n",
    "        resp=kp.pressed,\n",
    "        resp_time=kp.press_time,\n",
    "        rt=kp.rt,\n",
    "        correct=kp.correct,\n",
    "        location=self.location\n",
    "       )\n",
    "    \n",
    "# show the instructions\n",
    "Instruct()\n",
    "Wait(0.5)\n",
    "\n",
    "# loop over the blocks\n",
    "with Loop(blocks) as block:\n",
    "    # make sure they are ready to continue\n",
    "    Label(text='Press the ENTER key to\\nstart the next block.', \n",
    "          font_size=font_size, halign='center')\n",
    "    with UntilDone():\n",
    "        KeyPress(keys=['ENTER'])\n",
    "\n",
    "    # add in some delay before the start of the block\n",
    "    Wait(ISI_dur, jitter=ISI_jitter)\n",
    "    \n",
    "    # loop over the trials\n",
    "    with Loop(block.current) as trial:\n",
    "        Trial(block.i, trial.i, trial.current)\n",
    "\n",
    "# run the experiment\n",
    "exp.run()"
   ]
  },
  {
   "cell_type": "markdown",
   "metadata": {
    "slideshow": {
     "slide_type": "slide"
    }
   },
   "source": [
    "# Read in some data from the logs"
   ]
  },
  {
   "cell_type": "code",
   "execution_count": null,
   "metadata": {},
   "outputs": [],
   "source": [
    "from smile.log import log2dl\n",
    "log2dl('data/SMILE/test000/20201015_002203/log_flanker_0.slog')"
   ]
  },
  {
   "cell_type": "markdown",
   "metadata": {
    "slideshow": {
     "slide_type": "slide"
    }
   },
   "source": [
    "## Assignment before next class\n",
    "\n",
    "- Your SMILE experiment is due next Thursday!\n",
    "\n",
    "### See you next week!!!"
   ]
  }
 ],
 "metadata": {
  "celltoolbar": "Slideshow",
  "kernelspec": {
   "display_name": "Python 3",
   "language": "python",
   "name": "python3"
  },
  "language_info": {
   "codemirror_mode": {
    "name": "ipython",
    "version": 3
   },
   "file_extension": ".py",
   "mimetype": "text/x-python",
   "name": "python",
   "nbconvert_exporter": "python",
   "pygments_lexer": "ipython3",
   "version": "3.7.7"
  },
  "rise": {
   "scroll": true
  }
 },
 "nbformat": 4,
 "nbformat_minor": 2
}
