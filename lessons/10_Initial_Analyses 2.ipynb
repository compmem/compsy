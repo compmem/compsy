{
 "cells": [
  {
   "cell_type": "markdown",
   "metadata": {
    "slideshow": {
     "slide_type": "slide"
    }
   },
   "source": [
    "# Initial Analyses\n",
    "## Computational Methods in Psychology (and Neuroscience)\n",
    "### Psychology 4500/7559 --- Fall 2020\n",
    "By: Per B. Sederberg, PhD\n",
    "\n"
   ]
  },
  {
   "cell_type": "markdown",
   "metadata": {
    "slideshow": {
     "slide_type": "slide"
    }
   },
   "source": [
    "# Lesson Objectives\n",
    "\n",
    "Upon completion of this lesson, students should have learned:\n",
    "\n",
    "1. Read in some real data\n",
    "2. Perform some simple data clean-up\n",
    "3. Some visualizations with Pandas\n",
    "4. Simple statistics with SciPy and StatsModels\n",
    "\n"
   ]
  },
  {
   "cell_type": "markdown",
   "metadata": {
    "slideshow": {
     "slide_type": "slide"
    }
   },
   "source": [
    "# Updating SMILE\n",
    "\n",
    "- First you can test whether there is a new version Kivy, which is the primary dependency of SMILE:\n",
    "\n",
    "```bash\n",
    "conda install -c conda-forge kivy==1.11.1\n",
    "```\n",
    "\n",
    "- Then you can update SMILE right from the GitHub repository (note the upgrade option at the end):\n",
    "\n",
    "```bash\n",
    "pip install git+https://github.com/compmem/smile --upgrade\n",
    "```"
   ]
  },
  {
   "cell_type": "markdown",
   "metadata": {
    "slideshow": {
     "slide_type": "slide"
    }
   },
   "source": [
    "# Deep Dive Into Single Subj\n",
    "\n",
    "- Let's explore one subject's data and learn stuff along the way!\n",
    "- Where are the data?"
   ]
  },
  {
   "cell_type": "code",
   "execution_count": 1,
   "metadata": {},
   "outputs": [
    {
     "name": "stdout",
     "output_type": "stream",
     "text": [
      "\u001b[0m\u001b[01;34ms001\u001b[0m/  \u001b[01;34ms002\u001b[0m/  \u001b[01;34ms003\u001b[0m/\r\n"
     ]
    }
   ],
   "source": [
    "ls data/Taskapalooza/"
   ]
  },
  {
   "cell_type": "code",
   "execution_count": 71,
   "metadata": {},
   "outputs": [
    {
     "data": {
      "text/html": [
       "<div>\n",
       "<style scoped>\n",
       "    .dataframe tbody tr th:only-of-type {\n",
       "        vertical-align: middle;\n",
       "    }\n",
       "\n",
       "    .dataframe tbody tr th {\n",
       "        vertical-align: top;\n",
       "    }\n",
       "\n",
       "    .dataframe thead th {\n",
       "        text-align: right;\n",
       "    }\n",
       "</style>\n",
       "<table border=\"1\" class=\"dataframe\">\n",
       "  <thead>\n",
       "    <tr style=\"text-align: right;\">\n",
       "      <th></th>\n",
       "      <th>correct</th>\n",
       "      <th>resp</th>\n",
       "      <th>rt</th>\n",
       "      <th>trial_appear_time</th>\n",
       "      <th>trial_appear_error</th>\n",
       "      <th>press_time_time</th>\n",
       "      <th>press_time_error</th>\n",
       "      <th>log_time</th>\n",
       "      <th>text</th>\n",
       "      <th>condition</th>\n",
       "      <th>correct_key</th>\n",
       "      <th>subj</th>\n",
       "      <th>log_num</th>\n",
       "    </tr>\n",
       "  </thead>\n",
       "  <tbody>\n",
       "    <tr>\n",
       "      <th>0</th>\n",
       "      <td>True</td>\n",
       "      <td>J</td>\n",
       "      <td>4.184639</td>\n",
       "      <td>2037.652723</td>\n",
       "      <td>0.0</td>\n",
       "      <td>2041.837362</td>\n",
       "      <td>0.000466</td>\n",
       "      <td>2042.337362</td>\n",
       "      <td>9-5-10=-6</td>\n",
       "      <td>True</td>\n",
       "      <td>J</td>\n",
       "      <td>s003</td>\n",
       "      <td>0</td>\n",
       "    </tr>\n",
       "    <tr>\n",
       "      <th>1</th>\n",
       "      <td>True</td>\n",
       "      <td>F</td>\n",
       "      <td>1.514299</td>\n",
       "      <td>2043.341123</td>\n",
       "      <td>0.0</td>\n",
       "      <td>2044.855422</td>\n",
       "      <td>0.000426</td>\n",
       "      <td>2045.355422</td>\n",
       "      <td>6+5+4=14</td>\n",
       "      <td>False</td>\n",
       "      <td>F</td>\n",
       "      <td>s003</td>\n",
       "      <td>0</td>\n",
       "    </tr>\n",
       "    <tr>\n",
       "      <th>2</th>\n",
       "      <td>True</td>\n",
       "      <td>F</td>\n",
       "      <td>1.808643</td>\n",
       "      <td>2046.363993</td>\n",
       "      <td>0.0</td>\n",
       "      <td>2048.172636</td>\n",
       "      <td>0.000537</td>\n",
       "      <td>2048.672636</td>\n",
       "      <td>5-3-1=0</td>\n",
       "      <td>False</td>\n",
       "      <td>F</td>\n",
       "      <td>s003</td>\n",
       "      <td>0</td>\n",
       "    </tr>\n",
       "    <tr>\n",
       "      <th>3</th>\n",
       "      <td>True</td>\n",
       "      <td>J</td>\n",
       "      <td>2.157810</td>\n",
       "      <td>2049.683841</td>\n",
       "      <td>0.0</td>\n",
       "      <td>2051.841651</td>\n",
       "      <td>0.000438</td>\n",
       "      <td>2052.341651</td>\n",
       "      <td>7+8+9=24</td>\n",
       "      <td>True</td>\n",
       "      <td>J</td>\n",
       "      <td>s003</td>\n",
       "      <td>0</td>\n",
       "    </tr>\n",
       "    <tr>\n",
       "      <th>4</th>\n",
       "      <td>True</td>\n",
       "      <td>J</td>\n",
       "      <td>0.923231</td>\n",
       "      <td>2053.354454</td>\n",
       "      <td>0.0</td>\n",
       "      <td>2054.277685</td>\n",
       "      <td>0.000521</td>\n",
       "      <td>2054.777685</td>\n",
       "      <td>10+1+3=14</td>\n",
       "      <td>True</td>\n",
       "      <td>J</td>\n",
       "      <td>s003</td>\n",
       "      <td>0</td>\n",
       "    </tr>\n",
       "    <tr>\n",
       "      <th>5</th>\n",
       "      <td>True</td>\n",
       "      <td>F</td>\n",
       "      <td>1.482598</td>\n",
       "      <td>2188.483444</td>\n",
       "      <td>0.0</td>\n",
       "      <td>2189.966042</td>\n",
       "      <td>0.000558</td>\n",
       "      <td>2190.466042</td>\n",
       "      <td>8+10+2=19</td>\n",
       "      <td>False</td>\n",
       "      <td>F</td>\n",
       "      <td>s003</td>\n",
       "      <td>0</td>\n",
       "    </tr>\n",
       "    <tr>\n",
       "      <th>6</th>\n",
       "      <td>True</td>\n",
       "      <td>F</td>\n",
       "      <td>1.129487</td>\n",
       "      <td>2191.476571</td>\n",
       "      <td>0.0</td>\n",
       "      <td>2192.606058</td>\n",
       "      <td>0.000468</td>\n",
       "      <td>2193.106058</td>\n",
       "      <td>10+1+8=29</td>\n",
       "      <td>False</td>\n",
       "      <td>F</td>\n",
       "      <td>s003</td>\n",
       "      <td>0</td>\n",
       "    </tr>\n",
       "    <tr>\n",
       "      <th>7</th>\n",
       "      <td>True</td>\n",
       "      <td>J</td>\n",
       "      <td>3.411656</td>\n",
       "      <td>2194.113561</td>\n",
       "      <td>0.0</td>\n",
       "      <td>2197.525217</td>\n",
       "      <td>0.000485</td>\n",
       "      <td>2198.025217</td>\n",
       "      <td>3-9-2=-8</td>\n",
       "      <td>True</td>\n",
       "      <td>J</td>\n",
       "      <td>s003</td>\n",
       "      <td>0</td>\n",
       "    </tr>\n",
       "    <tr>\n",
       "      <th>8</th>\n",
       "      <td>True</td>\n",
       "      <td>F</td>\n",
       "      <td>2.538657</td>\n",
       "      <td>2199.034644</td>\n",
       "      <td>0.0</td>\n",
       "      <td>2201.573302</td>\n",
       "      <td>0.000469</td>\n",
       "      <td>2202.073302</td>\n",
       "      <td>6-7-1=8</td>\n",
       "      <td>False</td>\n",
       "      <td>F</td>\n",
       "      <td>s003</td>\n",
       "      <td>0</td>\n",
       "    </tr>\n",
       "    <tr>\n",
       "      <th>9</th>\n",
       "      <td>True</td>\n",
       "      <td>J</td>\n",
       "      <td>1.469808</td>\n",
       "      <td>2203.087678</td>\n",
       "      <td>0.0</td>\n",
       "      <td>2204.557487</td>\n",
       "      <td>0.000467</td>\n",
       "      <td>2205.057487</td>\n",
       "      <td>10+6+7=23</td>\n",
       "      <td>True</td>\n",
       "      <td>J</td>\n",
       "      <td>s003</td>\n",
       "      <td>0</td>\n",
       "    </tr>\n",
       "  </tbody>\n",
       "</table>\n",
       "</div>"
      ],
      "text/plain": [
       "   correct resp        rt  trial_appear_time  trial_appear_error  \\\n",
       "0     True    J  4.184639        2037.652723                 0.0   \n",
       "1     True    F  1.514299        2043.341123                 0.0   \n",
       "2     True    F  1.808643        2046.363993                 0.0   \n",
       "3     True    J  2.157810        2049.683841                 0.0   \n",
       "4     True    J  0.923231        2053.354454                 0.0   \n",
       "5     True    F  1.482598        2188.483444                 0.0   \n",
       "6     True    F  1.129487        2191.476571                 0.0   \n",
       "7     True    J  3.411656        2194.113561                 0.0   \n",
       "8     True    F  2.538657        2199.034644                 0.0   \n",
       "9     True    J  1.469808        2203.087678                 0.0   \n",
       "\n",
       "   press_time_time  press_time_error     log_time       text  condition  \\\n",
       "0      2041.837362          0.000466  2042.337362  9-5-10=-6       True   \n",
       "1      2044.855422          0.000426  2045.355422   6+5+4=14      False   \n",
       "2      2048.172636          0.000537  2048.672636    5-3-1=0      False   \n",
       "3      2051.841651          0.000438  2052.341651   7+8+9=24       True   \n",
       "4      2054.277685          0.000521  2054.777685  10+1+3=14       True   \n",
       "5      2189.966042          0.000558  2190.466042  8+10+2=19      False   \n",
       "6      2192.606058          0.000468  2193.106058  10+1+8=29      False   \n",
       "7      2197.525217          0.000485  2198.025217   3-9-2=-8       True   \n",
       "8      2201.573302          0.000469  2202.073302    6-7-1=8      False   \n",
       "9      2204.557487          0.000467  2205.057487  10+6+7=23       True   \n",
       "\n",
       "  correct_key  subj  log_num  \n",
       "0           J  s003        0  \n",
       "1           F  s003        0  \n",
       "2           F  s003        0  \n",
       "3           J  s003        0  \n",
       "4           J  s003        0  \n",
       "5           F  s003        0  \n",
       "6           F  s003        0  \n",
       "7           J  s003        0  \n",
       "8           F  s003        0  \n",
       "9           J  s003        0  "
      ]
     },
     "execution_count": 71,
     "metadata": {},
     "output_type": "execute_result"
    }
   ],
   "source": [
    "from smile.log import log2dl\n",
    "import pandas as pd\n",
    "\n",
    "# note use of kwargs to add subject info to the dataframe\n",
    "df_i = pd.DataFrame(log2dl('data/Taskapalooza/s003/20201027_110222/log_image_test_0.slog', subj='s003'))\n",
    "df_w = pd.DataFrame(log2dl('data/Taskapalooza/s003/20201027_110222/log_word_test_0.slog', subj='s003'))\n",
    "df_f = pd.DataFrame(log2dl('data/Taskapalooza/s003/20201027_110222/log_flanker_0.slog', subj='s003'))\n",
    "df_m = pd.DataFrame(log2dl('data/Taskapalooza/s003/20201027_110222/log_math_distract', subj='s003'))\n",
    "\n",
    "df_m.head(10)\n"
   ]
  },
  {
   "cell_type": "markdown",
   "metadata": {
    "slideshow": {
     "slide_type": "slide"
    }
   },
   "source": [
    "## Some data clean-up"
   ]
  },
  {
   "cell_type": "code",
   "execution_count": 72,
   "metadata": {},
   "outputs": [],
   "source": [
    "# it turns out the cond is easier to visualize as pure and mixed\n",
    "def fix_conds(df, type_col):\n",
    "    ublocks = df.block_num.unique()\n",
    "    for b in ublocks:\n",
    "        dfb = df.loc[df.block_num==b]\n",
    "        uval = dfb[type_col].unique()\n",
    "        if len(uval) > 1:\n",
    "            # it's mixed\n",
    "            df.loc[df.block_num==b, 'cond'] = 'mixed'\n",
    "        else:\n",
    "            # it's the pure\n",
    "            df.loc[df.block_num==b, 'cond'] = 'pure'\n",
    "\n",
    "# fix the conds in the recog experiments (updated in place)\n",
    "fix_conds(df_i, type_col='in_out')\n",
    "fix_conds(df_w, type_col='valence')"
   ]
  },
  {
   "cell_type": "markdown",
   "metadata": {
    "slideshow": {
     "slide_type": "slide"
    }
   },
   "source": [
    "## Statistics in Python\n",
    "\n",
    "- Once your data are in a nice tabular form, you are all set to start asking questions\n",
    "- In this section we'll introduce:\n",
    "  - Grouping and visualization with Pandas\n",
    "  - Statistics with SciPy\n",
    "  - Simple Statistics with StatsModels"
   ]
  },
  {
   "cell_type": "markdown",
   "metadata": {
    "slideshow": {
     "slide_type": "slide"
    }
   },
   "source": [
    "## Stats in SciPy\n",
    "\n",
    "- Many useful statistics are available from [SciPy](https://docs.scipy.org/doc/scipy/reference/tutorial/stats.html)"
   ]
  },
  {
   "cell_type": "code",
   "execution_count": 83,
   "metadata": {},
   "outputs": [],
   "source": [
    "import numpy as np\n",
    "from scipy import stats"
   ]
  },
  {
   "cell_type": "markdown",
   "metadata": {
    "slideshow": {
     "slide_type": "slide"
    }
   },
   "source": [
    "## Checking for math performance\n",
    "\n",
    "- One test to make sure participants are trying during the task is to check performance on the math task\n",
    "- ***Question: Did they perform above chance on the math problems?***"
   ]
  },
  {
   "cell_type": "code",
   "execution_count": 86,
   "metadata": {},
   "outputs": [
    {
     "data": {
      "text/plain": [
       "0.9775280898876404"
      ]
     },
     "execution_count": 86,
     "metadata": {},
     "output_type": "execute_result"
    }
   ],
   "source": [
    "# we can calculate mean performance, but is it significant?\n",
    "df_m['correct'].mean()"
   ]
  },
  {
   "cell_type": "markdown",
   "metadata": {
    "slideshow": {
     "slide_type": "slide"
    }
   },
   "source": [
    "## The binomial test\n",
    "\n",
    "- We need to take into account the number of problems\n",
    "- and whether they did significantly above what could be expected by chance\n",
    "- The binomal tests this for specific probabilities with *two* outcomes\n",
    "  - Like flipping a coin and determining whether it is fair or biased"
   ]
  },
  {
   "cell_type": "code",
   "execution_count": 133,
   "metadata": {},
   "outputs": [
    {
     "name": "stdout",
     "output_type": "stream",
     "text": [
      "[0 1 1 1 1 1 1 1 0 0 1 0 1 0 1 1 1 1 1 1]\n"
     ]
    },
    {
     "data": {
      "text/plain": [
       "0.04138946533203125"
      ]
     },
     "execution_count": 133,
     "metadata": {},
     "output_type": "execute_result"
    }
   ],
   "source": [
    "# generate some random data\n",
    "dat = np.random.choice([0, 1], size=20, p=[0.3, 0.7])\n",
    "print(dat)\n",
    "\n",
    "# calculate whether it deviates from chance\n",
    "stats.binom_test(dat.sum(), len(dat), p=0.5)"
   ]
  },
  {
   "cell_type": "code",
   "execution_count": 93,
   "metadata": {},
   "outputs": [
    {
     "name": "stdout",
     "output_type": "stream",
     "text": [
      "Prop correct: 0.98 (p=0.0000)\n"
     ]
    }
   ],
   "source": [
    "# determine number correct and total number of problems\n",
    "num_correct = df_m['correct'].sum()\n",
    "num_tries = len(df_m)\n",
    "\n",
    "# perform the statistic\n",
    "p_val = stats.binom_test(num_correct, n=num_tries, \n",
    "                         p=0.5, alternative='greater')\n",
    "prop_correct = num_correct/num_tries\n",
    "\n",
    "# report the results (with some string formatting)\n",
    "print('Prop correct: {:0.2f} (p={:0.4f})'.format(prop_correct, p_val))"
   ]
  },
  {
   "cell_type": "markdown",
   "metadata": {
    "slideshow": {
     "slide_type": "slide"
    }
   },
   "source": [
    "## What about performance on the easy conditions?\n",
    "\n",
    "- Another way to test for task compliance is to check the performance on the easiest task conditions.\n",
    "- ***Question: Did the participant perform above chance on the congruent flanker trials?***"
   ]
  },
  {
   "cell_type": "code",
   "execution_count": 97,
   "metadata": {},
   "outputs": [
    {
     "name": "stdout",
     "output_type": "stream",
     "text": [
      "Prop correct: 1.00 (p=0.0000)\n"
     ]
    }
   ],
   "source": [
    "# grab a boolean index for the congruent trials\n",
    "ind = df_f['condition']=='congruent'\n",
    "num_correct = df_f[ind]['correct'].sum()\n",
    "num_tries = ind.sum()\n",
    "\n",
    "# perform the statistic\n",
    "p_val = stats.binom_test(num_correct, n=num_tries, \n",
    "                         p=0.5, alternative='greater')\n",
    "prop_correct = num_correct/num_tries\n",
    "\n",
    "# report the results (with some string formatting)\n",
    "print('Prop correct: {:0.2f} (p={:0.4f})'.format(prop_correct, p_val))"
   ]
  },
  {
   "cell_type": "markdown",
   "metadata": {
    "slideshow": {
     "slide_type": "slide"
    }
   },
   "source": [
    "## Deeper Dive into Flanker\n",
    "\n",
    "- The typical congruency effect is that participants show lower accuracy and slower reaction times in the incongruent relative to the congruent conditions\n",
    "- Let's check that for our participant!"
   ]
  },
  {
   "cell_type": "code",
   "execution_count": 134,
   "metadata": {},
   "outputs": [
    {
     "data": {
      "text/plain": [
       "condition\n",
       "congruent      1.000000\n",
       "incongruent    0.989583\n",
       "neutral        1.000000\n",
       "Name: correct, dtype: float64"
      ]
     },
     "execution_count": 134,
     "metadata": {},
     "output_type": "execute_result"
    }
   ],
   "source": [
    "# look at mean performance by condition\n",
    "df_f.groupby(['condition'])['correct'].mean()"
   ]
  },
  {
   "cell_type": "code",
   "execution_count": 135,
   "metadata": {},
   "outputs": [
    {
     "data": {
      "text/plain": [
       "condition\n",
       "congruent      0.682562\n",
       "incongruent    0.893463\n",
       "neutral        0.592118\n",
       "Name: rt, dtype: float64"
      ]
     },
     "execution_count": 135,
     "metadata": {},
     "output_type": "execute_result"
    }
   ],
   "source": [
    "# how about RT by condition?\n",
    "df_f.groupby(['condition'])['rt'].mean()"
   ]
  },
  {
   "cell_type": "markdown",
   "metadata": {
    "slideshow": {
     "slide_type": "slide"
    }
   },
   "source": [
    "## *t*-test to compare distributions\n",
    "\n",
    "- The *t*-test assesses whether two normal distributions are the same (or whether one distribution is different from a fixed value)\n",
    "- Assumes your data are independent and normally distributed\n",
    "- There are both paired (1-sample) and non-paired (independent) versions of the t-test available in scipy"
   ]
  },
  {
   "cell_type": "code",
   "execution_count": 136,
   "metadata": {},
   "outputs": [
    {
     "data": {
      "text/plain": [
       "<AxesSubplot:>"
      ]
     },
     "execution_count": 136,
     "metadata": {},
     "output_type": "execute_result"
    },
    {
     "data": {
      "image/png": "[encoded data removed]",
      "text/plain": [
       "<Figure size 432x288 with 1 Axes>"
      ]
     },
     "metadata": {
      "needs_background": "light"
     },
     "output_type": "display_data"
    }
   ],
   "source": [
    "# how do our RTs look?\n",
    "df_f['rt'].hist(bins='auto')"
   ]
  },
  {
   "cell_type": "code",
   "execution_count": 138,
   "metadata": {},
   "outputs": [
    {
     "data": {
      "text/plain": [
       "<AxesSubplot:>"
      ]
     },
     "execution_count": 138,
     "metadata": {},
     "output_type": "execute_result"
    },
    {
     "data": {
      "image/png": "[encoded data removed]",
      "text/plain": [
       "<Figure size 432x288 with 1 Axes>"
      ]
     },
     "metadata": {
      "needs_background": "light"
     },
     "output_type": "display_data"
    }
   ],
   "source": [
    "# how about if we take the log?\n",
    "np.log(df_f['rt']).hist(bins='auto')"
   ]
  },
  {
   "cell_type": "code",
   "execution_count": 139,
   "metadata": {},
   "outputs": [],
   "source": [
    "# let's just add in that column\n",
    "df_f['log_rt'] = np.log(df_f['rt'])"
   ]
  },
  {
   "cell_type": "markdown",
   "metadata": {
    "slideshow": {
     "slide_type": "slide"
    }
   },
   "source": [
    "## Boxplots get you closer to your data\n",
    "\n",
    "- While it's hard to look at individual data points, it can still be very useful to visualize your data\n",
    "- A box plot is a non-parametric visualization of your data with the:\n",
    "  - Minimum (excluding outliers) as the upper whisker\n",
    "  - Maximum (excluding outliers) as the lower whisker\n",
    "  - Median (50% quantile) line inside the box\n",
    "  - 25% and 75% quantile of your data as the upper and lower box sides\n",
    "  - Outliers as dots"
   ]
  },
  {
   "cell_type": "code",
   "execution_count": 169,
   "metadata": {},
   "outputs": [
    {
     "data": {
      "text/plain": [
       "<AxesSubplot:title={'center':'log_rt'}, xlabel='[condition]'>"
      ]
     },
     "execution_count": 169,
     "metadata": {},
     "output_type": "execute_result"
    },
    {
     "data": {
      "image/png": "[encoded data removed]",
      "text/plain": [
       "<Figure size 432x288 with 1 Axes>"
      ]
     },
     "metadata": {
      "needs_background": "light"
     },
     "output_type": "display_data"
    }
   ],
   "source": [
    "# visualization of the comparison\n",
    "df_f.boxplot(column=['log_rt'], by=['condition'])"
   ]
  },
  {
   "cell_type": "code",
   "execution_count": 146,
   "metadata": {},
   "outputs": [
    {
     "data": {
      "text/plain": [
       "Ttest_indResult(statistic=-7.040795742871274, pvalue=3.3949886939953275e-11)"
      ]
     },
     "execution_count": 146,
     "metadata": {},
     "output_type": "execute_result"
    }
   ],
   "source": [
    "# we can check for statistical signficance of RTs\n",
    "# with an unpaired independed samples t-test\n",
    "stats.ttest_ind(df_f[df_f['condition']=='congruent']['log_rt'],\n",
    "                df_f[df_f['condition']=='incongruent']['log_rt'])\n"
   ]
  },
  {
   "cell_type": "code",
   "execution_count": 170,
   "metadata": {},
   "outputs": [
    {
     "data": {
      "text/plain": [
       "Ttest_indResult(statistic=5.321568309157725, pvalue=2.879595834046887e-07)"
      ]
     },
     "execution_count": 170,
     "metadata": {},
     "output_type": "execute_result"
    }
   ],
   "source": [
    "# are the neutral even better than congruent?\n",
    "stats.ttest_ind(df_f[df_f['condition']=='congruent']['log_rt'],\n",
    "                df_f[df_f['condition']=='neutral']['log_rt'])\n"
   ]
  },
  {
   "cell_type": "markdown",
   "metadata": {
    "slideshow": {
     "slide_type": "slide"
    }
   },
   "source": [
    "## Non-parametric statistics\n",
    "\n",
    "- There is an entire sub-field of statistics dedicated to situations where you can not assume your data come from normal distributions.\n",
    "- Here, the approach is to turn the values into ranks and test whether then mean *ranks* are different.\n",
    "- There are both paired (signed-rank test) and un-paired versions (Mann-Whitney U test) available in scipy."
   ]
  },
  {
   "cell_type": "code",
   "execution_count": 174,
   "metadata": {},
   "outputs": [
    {
     "data": {
      "text/plain": [
       "MannwhitneyuResult(statistic=1854.0, pvalue=4.2769954727175223e-13)"
      ]
     },
     "execution_count": 174,
     "metadata": {},
     "output_type": "execute_result"
    }
   ],
   "source": [
    "# perform the non-paired non-parametric test on RTs\n",
    "stats.mannwhitneyu(df_f[df_f['condition']=='congruent']['rt'],\n",
    "                   df_f[df_f['condition']=='incongruent']['rt'])"
   ]
  },
  {
   "cell_type": "markdown",
   "metadata": {
    "slideshow": {
     "slide_type": "slide"
    }
   },
   "source": [
    "## Regression and beyond!\n",
    "\n",
    "- More complicated questions require more complicated models\n",
    "- The most standard approach in statistics is regression:\n",
    "\n",
    "![](https://scipy-lectures.org/_images/math/8c27948834377cd91a6907f91d1f87acb32f1817.png)\n",
    "\n",
    "- Here `y` is the dependent variable and `x` is the independent variable.\n",
    "- This is also often called *endogenous* and *exogenous*."
   ]
  },
  {
   "cell_type": "markdown",
   "metadata": {
    "slideshow": {
     "slide_type": "slide"
    }
   },
   "source": [
    "## Statsmodels allows us to specify regressions as formulas\n",
    "\n",
    "- There are many ways to fit regression models that often depend on your dependent data\n",
    "  - e.g., ordinary least squares vs. logistic regression"
   ]
  },
  {
   "cell_type": "code",
   "execution_count": 179,
   "metadata": {},
   "outputs": [],
   "source": [
    "import statsmodels.formula.api as smf"
   ]
  },
  {
   "cell_type": "markdown",
   "metadata": {
    "slideshow": {
     "slide_type": "slide"
    }
   },
   "source": [
    "***Question: Are there differences in accuracy between conditions?***"
   ]
  },
  {
   "cell_type": "code",
   "execution_count": 190,
   "metadata": {},
   "outputs": [
    {
     "name": "stdout",
     "output_type": "stream",
     "text": [
      "Optimization terminated successfully.\n",
      "         Current function value: 0.368516\n",
      "         Iterations 6\n"
     ]
    },
    {
     "data": {
      "text/html": [
       "<table class=\"simpletable\">\n",
       "<caption>Logit Regression Results</caption>\n",
       "<tr>\n",
       "  <th>Dep. Variable:</th>      <td>correct_int</td>   <th>  No. Observations:  </th>  <td>   288</td> \n",
       "</tr>\n",
       "<tr>\n",
       "  <th>Model:</th>                 <td>Logit</td>      <th>  Df Residuals:      </th>  <td>   285</td> \n",
       "</tr>\n",
       "<tr>\n",
       "  <th>Method:</th>                 <td>MLE</td>       <th>  Df Model:          </th>  <td>     2</td> \n",
       "</tr>\n",
       "<tr>\n",
       "  <th>Date:</th>            <td>Thu, 29 Oct 2020</td> <th>  Pseudo R-squ.:     </th> <td>0.003898</td>\n",
       "</tr>\n",
       "<tr>\n",
       "  <th>Time:</th>                <td>13:28:08</td>     <th>  Log-Likelihood:    </th> <td> -106.13</td>\n",
       "</tr>\n",
       "<tr>\n",
       "  <th>converged:</th>             <td>True</td>       <th>  LL-Null:           </th> <td> -106.55</td>\n",
       "</tr>\n",
       "<tr>\n",
       "  <th>Covariance Type:</th>     <td>nonrobust</td>    <th>  LLR p-value:       </th>  <td>0.6601</td> \n",
       "</tr>\n",
       "</table>\n",
       "<table class=\"simpletable\">\n",
       "<tr>\n",
       "              <td></td>                <th>coef</th>     <th>std err</th>      <th>z</th>      <th>P>|z|</th>  <th>[0.025</th>    <th>0.975]</th>  \n",
       "</tr>\n",
       "<tr>\n",
       "  <th>Intercept</th>                <td>    2.1518</td> <td>    0.334</td> <td>    6.440</td> <td> 0.000</td> <td>    1.497</td> <td>    2.807</td>\n",
       "</tr>\n",
       "<tr>\n",
       "  <th>condition[T.incongruent]</th> <td>   -0.3841</td> <td>    0.442</td> <td>   -0.869</td> <td> 0.385</td> <td>   -1.250</td> <td>    0.482</td>\n",
       "</tr>\n",
       "<tr>\n",
       "  <th>condition[T.neutral]</th>     <td>   -0.1070</td> <td>    0.463</td> <td>   -0.231</td> <td> 0.817</td> <td>   -1.014</td> <td>    0.800</td>\n",
       "</tr>\n",
       "</table>"
      ],
      "text/plain": [
       "<class 'statsmodels.iolib.summary.Summary'>\n",
       "\"\"\"\n",
       "                           Logit Regression Results                           \n",
       "==============================================================================\n",
       "Dep. Variable:            correct_int   No. Observations:                  288\n",
       "Model:                          Logit   Df Residuals:                      285\n",
       "Method:                           MLE   Df Model:                            2\n",
       "Date:                Thu, 29 Oct 2020   Pseudo R-squ.:                0.003898\n",
       "Time:                        13:28:08   Log-Likelihood:                -106.13\n",
       "converged:                       True   LL-Null:                       -106.55\n",
       "Covariance Type:            nonrobust   LLR p-value:                    0.6601\n",
       "============================================================================================\n",
       "                               coef    std err          z      P>|z|      [0.025      0.975]\n",
       "--------------------------------------------------------------------------------------------\n",
       "Intercept                    2.1518      0.334      6.440      0.000       1.497       2.807\n",
       "condition[T.incongruent]    -0.3841      0.442     -0.869      0.385      -1.250       0.482\n",
       "condition[T.neutral]        -0.1070      0.463     -0.231      0.817      -1.014       0.800\n",
       "============================================================================================\n",
       "\"\"\""
      ]
     },
     "execution_count": 190,
     "metadata": {},
     "output_type": "execute_result"
    }
   ],
   "source": [
    "# dependent variables can't be boolean\n",
    "df_f['correct_int'] = df['correct'].astype(int)\n",
    "\n",
    "# build a logistic regression\n",
    "model = smf.logit(\"correct_int ~ condition\", df_f).fit()\n",
    "model.summary()"
   ]
  },
  {
   "cell_type": "markdown",
   "metadata": {
    "slideshow": {
     "slide_type": "slide"
    }
   },
   "source": [
    "***Question: Can we test for differences in RTs between conditions with regression?***"
   ]
  },
  {
   "cell_type": "code",
   "execution_count": 191,
   "metadata": {},
   "outputs": [
    {
     "data": {
      "text/html": [
       "<table class=\"simpletable\">\n",
       "<caption>OLS Regression Results</caption>\n",
       "<tr>\n",
       "  <th>Dep. Variable:</th>         <td>log_rt</td>      <th>  R-squared:         </th> <td>   0.350</td>\n",
       "</tr>\n",
       "<tr>\n",
       "  <th>Model:</th>                   <td>OLS</td>       <th>  Adj. R-squared:    </th> <td>   0.346</td>\n",
       "</tr>\n",
       "<tr>\n",
       "  <th>Method:</th>             <td>Least Squares</td>  <th>  F-statistic:       </th> <td>   76.78</td>\n",
       "</tr>\n",
       "<tr>\n",
       "  <th>Date:</th>             <td>Thu, 29 Oct 2020</td> <th>  Prob (F-statistic):</th> <td>2.12e-27</td>\n",
       "</tr>\n",
       "<tr>\n",
       "  <th>Time:</th>                 <td>13:30:39</td>     <th>  Log-Likelihood:    </th> <td>  35.506</td>\n",
       "</tr>\n",
       "<tr>\n",
       "  <th>No. Observations:</th>      <td>   288</td>      <th>  AIC:               </th> <td>  -65.01</td>\n",
       "</tr>\n",
       "<tr>\n",
       "  <th>Df Residuals:</th>          <td>   285</td>      <th>  BIC:               </th> <td>  -54.02</td>\n",
       "</tr>\n",
       "<tr>\n",
       "  <th>Df Model:</th>              <td>     2</td>      <th>                     </th>     <td> </td>   \n",
       "</tr>\n",
       "<tr>\n",
       "  <th>Covariance Type:</th>      <td>nonrobust</td>    <th>                     </th>     <td> </td>   \n",
       "</tr>\n",
       "</table>\n",
       "<table class=\"simpletable\">\n",
       "<tr>\n",
       "              <td></td>                <th>coef</th>     <th>std err</th>      <th>t</th>      <th>P>|t|</th>  <th>[0.025</th>    <th>0.975]</th>  \n",
       "</tr>\n",
       "<tr>\n",
       "  <th>Intercept</th>                <td>   -0.4018</td> <td>    0.022</td> <td>  -18.309</td> <td> 0.000</td> <td>   -0.445</td> <td>   -0.359</td>\n",
       "</tr>\n",
       "<tr>\n",
       "  <th>condition[T.incongruent]</th> <td>    0.2458</td> <td>    0.031</td> <td>    7.921</td> <td> 0.000</td> <td>    0.185</td> <td>    0.307</td>\n",
       "</tr>\n",
       "<tr>\n",
       "  <th>condition[T.neutral]</th>     <td>   -0.1332</td> <td>    0.031</td> <td>   -4.293</td> <td> 0.000</td> <td>   -0.194</td> <td>   -0.072</td>\n",
       "</tr>\n",
       "</table>\n",
       "<table class=\"simpletable\">\n",
       "<tr>\n",
       "  <th>Omnibus:</th>       <td>68.720</td> <th>  Durbin-Watson:     </th> <td>   1.671</td>\n",
       "</tr>\n",
       "<tr>\n",
       "  <th>Prob(Omnibus):</th> <td> 0.000</td> <th>  Jarque-Bera (JB):  </th> <td> 269.077</td>\n",
       "</tr>\n",
       "<tr>\n",
       "  <th>Skew:</th>          <td> 0.946</td> <th>  Prob(JB):          </th> <td>3.72e-59</td>\n",
       "</tr>\n",
       "<tr>\n",
       "  <th>Kurtosis:</th>      <td> 7.341</td> <th>  Cond. No.          </th> <td>    3.73</td>\n",
       "</tr>\n",
       "</table><br/><br/>Notes:<br/>[1] Standard Errors assume that the covariance matrix of the errors is correctly specified."
      ],
      "text/plain": [
       "<class 'statsmodels.iolib.summary.Summary'>\n",
       "\"\"\"\n",
       "                            OLS Regression Results                            \n",
       "==============================================================================\n",
       "Dep. Variable:                 log_rt   R-squared:                       0.350\n",
       "Model:                            OLS   Adj. R-squared:                  0.346\n",
       "Method:                 Least Squares   F-statistic:                     76.78\n",
       "Date:                Thu, 29 Oct 2020   Prob (F-statistic):           2.12e-27\n",
       "Time:                        13:30:39   Log-Likelihood:                 35.506\n",
       "No. Observations:                 288   AIC:                            -65.01\n",
       "Df Residuals:                     285   BIC:                            -54.02\n",
       "Df Model:                           2                                         \n",
       "Covariance Type:            nonrobust                                         \n",
       "============================================================================================\n",
       "                               coef    std err          t      P>|t|      [0.025      0.975]\n",
       "--------------------------------------------------------------------------------------------\n",
       "Intercept                   -0.4018      0.022    -18.309      0.000      -0.445      -0.359\n",
       "condition[T.incongruent]     0.2458      0.031      7.921      0.000       0.185       0.307\n",
       "condition[T.neutral]        -0.1332      0.031     -4.293      0.000      -0.194      -0.072\n",
       "==============================================================================\n",
       "Omnibus:                       68.720   Durbin-Watson:                   1.671\n",
       "Prob(Omnibus):                  0.000   Jarque-Bera (JB):              269.077\n",
       "Skew:                           0.946   Prob(JB):                     3.72e-59\n",
       "Kurtosis:                       7.341   Cond. No.                         3.73\n",
       "==============================================================================\n",
       "\n",
       "Notes:\n",
       "[1] Standard Errors assume that the covariance matrix of the errors is correctly specified.\n",
       "\"\"\""
      ]
     },
     "execution_count": 191,
     "metadata": {},
     "output_type": "execute_result"
    }
   ],
   "source": [
    "# build a linear regression\n",
    "model = smf.ols(\"log_rt ~ condition\", df_f).fit()\n",
    "model.summary()"
   ]
  },
  {
   "cell_type": "markdown",
   "metadata": {
    "slideshow": {
     "slide_type": "slide"
    }
   },
   "source": [
    "## Assignment before next class\n",
    "\n",
    "- We will post a small set of analyses to run on some of the other data based on the examples in this class\n",
    "- This will be due on ***Thursday*** next week\n",
    "\n",
    "### See you next week!!!"
   ]
  }
 ],
 "metadata": {
  "celltoolbar": "Slideshow",
  "kernelspec": {
   "display_name": "Python 3",
   "language": "python",
   "name": "python3"
  },
  "language_info": {
   "codemirror_mode": {
    "name": "ipython",
    "version": 3
   },
   "file_extension": ".py",
   "mimetype": "text/x-python",
   "name": "python",
   "nbconvert_exporter": "python",
   "pygments_lexer": "ipython3",
   "version": "3.7.7"
  },
  "rise": {
   "scroll": true
  }
 },
 "nbformat": 4,
 "nbformat_minor": 2
}
