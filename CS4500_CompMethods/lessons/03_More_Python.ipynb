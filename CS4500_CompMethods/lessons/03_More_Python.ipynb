{
 "cells": [
  {
   "cell_type": "markdown",
   "metadata": {
    "slideshow": {
     "slide_type": "slide"
    }
   },
   "source": [
    "# More Python\n",
    "## Computational Methods in Psychology (and Neuroscience)\n",
    "### Psychology 4500/7559 --- Fall 2020\n",
    "By: Per B. Sederberg, PhD\n",
    "\n"
   ]
  },
  {
   "cell_type": "markdown",
   "metadata": {
    "slideshow": {
     "slide_type": "slide"
    }
   },
   "source": [
    "# Lesson Objectives\n",
    "\n",
    "Upon completion of this lesson, students should have learned:\n",
    "\n",
    "1. Describe the characteristics of the list, tuple, and dictionary data structures in Python\n",
    "\n",
    "2. Perform basic operations with lists including creation, concatenation, \n",
    "  repetition, slicing, and traversing\n",
    "\n",
    "3. Perform basic operations with tuples including creation, conversion, \n",
    "  repetition, slicing, and traversing\n",
    "\n",
    "4. Perform basic operations with dictionaries including creation, copying, \n",
    "  updating, and traversing\n",
    "\n",
    "5. Use lists, tuples, and dictionaries in functions\n",
    "\n"
   ]
  },
  {
   "cell_type": "markdown",
   "metadata": {
    "slideshow": {
     "slide_type": "slide"
    }
   },
   "source": [
    "## The list data structure\n",
    "\n",
    "* In Python, a list is a *mutable* sequence of values\n",
    "* Each value in the list is an element or item\n",
    "* Elements can be any Python data type\n",
    "* Lists can mix data types\n",
    "* Elements can be nested lists\n",
    "\n"
   ]
  },
  {
   "cell_type": "markdown",
   "metadata": {
    "slideshow": {
     "slide_type": "slide"
    }
   },
   "source": [
    "## Creating lists\n",
    "\n",
    "* Lists are created with comma-separated values inside brackets."
   ]
  },
  {
   "cell_type": "code",
   "execution_count": 1,
   "metadata": {},
   "outputs": [
    {
     "name": "stdout",
     "output_type": "stream",
     "text": [
      "[1, 2, 3, 4]\n",
      "['swiss', 'cheddar', 'ricotta', 'gouda']\n"
     ]
    }
   ],
   "source": [
    "numbers = [1, 2, 3, 4]\n",
    "print(numbers)\n",
    "cheeses = ['swiss', 'cheddar',\n",
    "           'ricotta', 'gouda']\n",
    "print(cheeses)"
   ]
  },
  {
   "cell_type": "markdown",
   "metadata": {
    "slideshow": {
     "slide_type": "slide"
    }
   },
   "source": [
    "## Creating lists\n",
    "\n",
    "* You can mix types"
   ]
  },
  {
   "cell_type": "code",
   "execution_count": 2,
   "metadata": {},
   "outputs": [
    {
     "name": "stdout",
     "output_type": "stream",
     "text": [
      "[1, 'a', 3.45]\n"
     ]
    }
   ],
   "source": [
    "mixed = [1, 'a', 3.45]\n",
    "print(mixed)"
   ]
  },
  {
   "cell_type": "markdown",
   "metadata": {},
   "source": [
    "* and lists with single items (or no items) are lists"
   ]
  },
  {
   "cell_type": "code",
   "execution_count": 3,
   "metadata": {},
   "outputs": [
    {
     "name": "stdout",
     "output_type": "stream",
     "text": [
      "['z']\n",
      "[]\n"
     ]
    }
   ],
   "source": [
    "single = ['z']\n",
    "print(single), type(single)\n",
    "empty = []\n",
    "print(empty)"
   ]
  },
  {
   "cell_type": "markdown",
   "metadata": {
    "slideshow": {
     "slide_type": "slide"
    }
   },
   "source": [
    "## Repeating a list\n",
    "\n",
    "* Use the `*` operator to expand a list via repetition:"
   ]
  },
  {
   "cell_type": "code",
   "execution_count": 4,
   "metadata": {},
   "outputs": [
    {
     "name": "stdout",
     "output_type": "stream",
     "text": [
      "['spam', 'spam', 'spam', 'spam']\n",
      "[1, 2, 3, 1, 2, 3, 1, 2, 3]\n"
     ]
    }
   ],
   "source": [
    "meat = ['spam']*4\n",
    "print(meat)\n",
    "print([1, 2, 3]*3)"
   ]
  },
  {
   "cell_type": "markdown",
   "metadata": {
    "slideshow": {
     "slide_type": "slide"
    }
   },
   "source": [
    "## List indexing\n",
    "\n",
    "* Elements within a list are indexed (*starting with 0*)"
   ]
  },
  {
   "cell_type": "code",
   "execution_count": 5,
   "metadata": {},
   "outputs": [
    {
     "name": "stdout",
     "output_type": "stream",
     "text": [
      "['swiss', 'cheddar', 'ricotta', 'gouda']\n",
      "swiss\n"
     ]
    }
   ],
   "source": [
    "print(cheeses)\n",
    "print(cheeses[0])"
   ]
  },
  {
   "cell_type": "markdown",
   "metadata": {},
   "source": [
    "* Lists are *mutable*"
   ]
  },
  {
   "cell_type": "code",
   "execution_count": 6,
   "metadata": {},
   "outputs": [
    {
     "name": "stdout",
     "output_type": "stream",
     "text": [
      "['Feta', 'cheddar', 'ricotta', 'gouda']\n"
     ]
    }
   ],
   "source": [
    "cheeses[0] = 'Feta'\n",
    "print(cheeses)"
   ]
  },
  {
   "cell_type": "markdown",
   "metadata": {
    "slideshow": {
     "slide_type": "slide"
    }
   },
   "source": [
    "## Slicing a list\n",
    "\n",
    "* Like strings and other sequences, lists can be *sliced*.\n",
    "\n",
    "* **Slicing syntax**: `l[start:stop:stride]`\n",
    "\n",
    "* All slicing parameters are optional:"
   ]
  },
  {
   "cell_type": "code",
   "execution_count": 7,
   "metadata": {},
   "outputs": [
    {
     "name": "stdout",
     "output_type": "stream",
     "text": [
      "[4, 5]\n",
      "[1, 2, 3]\n",
      "[1, 3, 5]\n"
     ]
    }
   ],
   "source": [
    "l = [1, 2, 3, 4, 5]\n",
    "print(l[3:])\n",
    "print(l[:3])\n",
    "print(l[::2])    "
   ]
  },
  {
   "cell_type": "markdown",
   "metadata": {},
   "source": [
    "* Note that `l[start:stop]` contains the elements with indices `i`\n",
    "  such as `start<= i < stop` (`i` ranging from `start` to\n",
    "  `stop-1`). \n",
    "\n",
    "* Therefore, `l[start:stop]` has `(stop-start)`\n",
    "  elements."
   ]
  },
  {
   "cell_type": "markdown",
   "metadata": {
    "slideshow": {
     "slide_type": "slide"
    }
   },
   "source": [
    "## Changing a slice\n",
    "\n",
    "* You can use slices to modify the contents of a list:"
   ]
  },
  {
   "cell_type": "code",
   "execution_count": 8,
   "metadata": {},
   "outputs": [
    {
     "name": "stdout",
     "output_type": "stream",
     "text": [
      "['Meghan', 'Tricia', 'Juan', 'Alton', 'Darrel', 'Jen']\n",
      "['Meghan', 'Sam', 'Kerri', 'Alton', 'Darrel', 'Jen']\n",
      "['Meghan', 'Sam', 'Kerri', 'Tayla', 'Jen']\n"
     ]
    }
   ],
   "source": [
    "roster = ['Meghan', 'Tricia', 'Juan',\n",
    "          'Alton', 'Darrel', 'Jen']\n",
    "print(roster)\n",
    "roster[1:3] = ['Sam', 'Kerri']\n",
    "print(roster)\n",
    "roster[3:5] = ['Tayla']\n",
    "print(roster)"
   ]
  },
  {
   "cell_type": "markdown",
   "metadata": {
    "slideshow": {
     "slide_type": "slide"
    }
   },
   "source": [
    "## Inserting elements\n",
    "\n",
    "* Slice notation"
   ]
  },
  {
   "cell_type": "code",
   "execution_count": 9,
   "metadata": {},
   "outputs": [
    {
     "name": "stdout",
     "output_type": "stream",
     "text": [
      "['Meghan', 'Sam', 'Kerri', 'Tayla', 'Jen']\n",
      "['Meghan', 'Sam', 'Dana', 'Ryan', 'Kerri', 'Tayla', 'Jen']\n"
     ]
    }
   ],
   "source": [
    "print(roster)\n",
    "roster[2:2] = ['Dana', 'Ryan']\n",
    "print(roster)"
   ]
  },
  {
   "cell_type": "markdown",
   "metadata": {},
   "source": [
    "* Lists have an ``insert`` method:\n"
   ]
  },
  {
   "cell_type": "code",
   "execution_count": 10,
   "metadata": {},
   "outputs": [
    {
     "name": "stdout",
     "output_type": "stream",
     "text": [
      "['Meghan', 'Sam', 'Jakob', 'Dana', 'Ryan', 'Kerri', 'Tayla', 'Jen']\n"
     ]
    }
   ],
   "source": [
    "roster.insert(2, 'Jakob')\n",
    "print(roster)"
   ]
  },
  {
   "cell_type": "markdown",
   "metadata": {
    "slideshow": {
     "slide_type": "slide"
    }
   },
   "source": [
    "## Deleting elements\n",
    "\n",
    "* Setting a slice to empty list will delete those elements:"
   ]
  },
  {
   "cell_type": "code",
   "execution_count": 11,
   "metadata": {},
   "outputs": [
    {
     "name": "stdout",
     "output_type": "stream",
     "text": [
      "['Meghan', 'Sam', 'Jakob', 'Dana', 'Ryan', 'Kerri', 'Tayla', 'Jen']\n",
      "['Meghan', 'Sam', 'Jakob', 'Kerri', 'Tayla', 'Jen']\n"
     ]
    }
   ],
   "source": [
    "print(roster)\n",
    "roster[3:5] = []\n",
    "print(roster)"
   ]
  },
  {
   "cell_type": "markdown",
   "metadata": {},
   "source": [
    "* Or you can use the del keyword:"
   ]
  },
  {
   "cell_type": "code",
   "execution_count": 12,
   "metadata": {},
   "outputs": [
    {
     "name": "stdout",
     "output_type": "stream",
     "text": [
      "['Meghan', 'Sam', 'Jakob', 'Kerri', 'Tayla', 'Jen']\n",
      "['Meghan', 'Kerri', 'Tayla', 'Jen']\n"
     ]
    }
   ],
   "source": [
    "print(roster)\n",
    "del roster[1:3]\n",
    "print(roster)"
   ]
  },
  {
   "cell_type": "markdown",
   "metadata": {
    "slideshow": {
     "slide_type": "slide"
    }
   },
   "source": [
    "## The append and extend methods\n",
    " \n",
    "* The `append` method adds individual items to a list:"
   ]
  },
  {
   "cell_type": "code",
   "execution_count": 13,
   "metadata": {},
   "outputs": [
    {
     "name": "stdout",
     "output_type": "stream",
     "text": [
      "['Meghan', 'Kerri', 'Tayla', 'Jen', 'Tonya']\n"
     ]
    }
   ],
   "source": [
    "roster.append('Tonya')\n",
    "print(roster)"
   ]
  },
  {
   "cell_type": "markdown",
   "metadata": {},
   "source": [
    "* The `extend` method adds a list to the end of an existing list:"
   ]
  },
  {
   "cell_type": "code",
   "execution_count": 14,
   "metadata": {},
   "outputs": [
    {
     "name": "stdout",
     "output_type": "stream",
     "text": [
      "['Meghan', 'Kerri', 'Tayla', 'Jen', 'Tonya', 'Ian', 'Stacie']\n"
     ]
    }
   ],
   "source": [
    "adds = ['Ian', 'Stacie'] \n",
    "roster.extend(adds)\n",
    "print(roster)"
   ]
  },
  {
   "cell_type": "markdown",
   "metadata": {
    "slideshow": {
     "slide_type": "slide"
    }
   },
   "source": [
    "## Extending a list with operators\n",
    "\n",
    "* Can also use `+=` operator"
   ]
  },
  {
   "cell_type": "code",
   "execution_count": 15,
   "metadata": {
    "slideshow": {
     "slide_type": "-"
    }
   },
   "outputs": [
    {
     "name": "stdout",
     "output_type": "stream",
     "text": [
      "['Meghan', 'Kerri', 'Tayla', 'Jen', 'Tonya', 'Ian', 'Stacie', 'Anya']\n"
     ]
    }
   ],
   "source": [
    "roster += ['Anya']\n",
    "print(roster)"
   ]
  },
  {
   "cell_type": "markdown",
   "metadata": {
    "slideshow": {
     "slide_type": "-"
    }
   },
   "source": [
    "* Or simply the `+` operator"
   ]
  },
  {
   "cell_type": "code",
   "execution_count": 16,
   "metadata": {
    "slideshow": {
     "slide_type": "-"
    }
   },
   "outputs": [
    {
     "name": "stdout",
     "output_type": "stream",
     "text": [
      "[1, 2, 3] [4, 5, 6] [1, 2, 3, 4, 5, 6]\n"
     ]
    }
   ],
   "source": [
    "a = [1, 2, 3]\n",
    "b = [4, 5, 6]\n",
    "c = a + b\n",
    "print(a, b, c)"
   ]
  },
  {
   "cell_type": "markdown",
   "metadata": {
    "slideshow": {
     "slide_type": "-"
    }
   },
   "source": [
    "* The `+` operator returns a new list that is a concatenation of two lists"
   ]
  },
  {
   "cell_type": "markdown",
   "metadata": {
    "slideshow": {
     "slide_type": "slide"
    }
   },
   "source": [
    "## List assignment and aliasing\n",
    "\n",
    "* The slice operator returns a copy of a list"
   ]
  },
  {
   "cell_type": "code",
   "execution_count": 17,
   "metadata": {},
   "outputs": [
    {
     "name": "stdout",
     "output_type": "stream",
     "text": [
      "[1, 2, 9, 4] [1, 2, 9, 4] [1, 2, 3, 4]\n"
     ]
    }
   ],
   "source": [
    "a = [1, 2, 3, 4]\n",
    "b = a\n",
    "c = a[:]\n",
    "a[2] = 9\n",
    "print(a, b, c)"
   ]
  },
  {
   "cell_type": "markdown",
   "metadata": {
    "slideshow": {
     "slide_type": "slide"
    }
   },
   "source": [
    "Traversing a list\n",
    "------------------\n",
    "\n",
    "* There are many ways to loop over a list:"
   ]
  },
  {
   "cell_type": "code",
   "execution_count": 18,
   "metadata": {},
   "outputs": [
    {
     "name": "stdout",
     "output_type": "stream",
     "text": [
      "Meghan Kerri Tayla Jen Tonya Ian Stacie Anya \n",
      "Meghan Kerri Tayla Jen Tonya Ian Stacie Anya \n",
      "0 : Meghan 1 : Kerri 2 : Tayla 3 : Jen 4 : Tonya 5 : Ian 6 : Stacie 7 : Anya \n"
     ]
    }
   ],
   "source": [
    "for index in range(len(roster)):\n",
    "   print(roster[index], end=' ')\n",
    "print()\n",
    "\n",
    "for student in roster:\n",
    "   print(student, end=' ')\n",
    "print()\n",
    "\n",
    "for index, student in enumerate(roster):\n",
    "   print(index, ':', student, end=' ')\n",
    "print()"
   ]
  },
  {
   "cell_type": "markdown",
   "metadata": {},
   "source": [
    "* Note how ``enumerate`` keeps track of the index and the item, which\n",
    "  can come in handy."
   ]
  },
  {
   "cell_type": "markdown",
   "metadata": {
    "slideshow": {
     "slide_type": "slide"
    }
   },
   "source": [
    "## Nested lists\n",
    "\n",
    "* You can nest lists of lists of lists..."
   ]
  },
  {
   "cell_type": "code",
   "execution_count": 19,
   "metadata": {},
   "outputs": [
    {
     "name": "stdout",
     "output_type": "stream",
     "text": [
      "[[1, 2, 3], [4, 5, 6], [7, 8, 9]]\n",
      "[1, 2, 3]\n",
      "2\n"
     ]
    }
   ],
   "source": [
    "nested = [[1,2,3],[4,5,6],[7,8,9]]\n",
    "print(nested)\n",
    "print(nested[0])\n",
    "print(nested[0][1])"
   ]
  },
  {
   "cell_type": "markdown",
   "metadata": {
    "slideshow": {
     "slide_type": "slide"
    }
   },
   "source": [
    "## Traversing nested lists\n",
    "\n",
    "* Each nested list can be traversed in the same way as an individual\n",
    "  list:\n",
    "\n",
    "* By index:\n",
    "\n",
    "```python\n",
    "for i in range(len(nested)):\n",
    "   for j in range(len(nested[i])):\n",
    "       print(nested[i][j])\n",
    "```\n",
    "\n",
    "* Or item:\n",
    "\n",
    "```python\n",
    "for nest in nested:\n",
    "   for item in nest:\n",
    "       print(item)\n",
    "```"
   ]
  },
  {
   "cell_type": "markdown",
   "metadata": {
    "slideshow": {
     "slide_type": "slide"
    }
   },
   "source": [
    "## Using lists: cumulate.py\n",
    "\n",
    "* You can pass lists as arguments to functions:"
   ]
  },
  {
   "cell_type": "code",
   "execution_count": 20,
   "metadata": {},
   "outputs": [
    {
     "name": "stdout",
     "output_type": "stream",
     "text": [
      "204\n"
     ]
    }
   ],
   "source": [
    "def cumulate(seq):\n",
    "    c_sum = 0\n",
    "    for item in seq:\n",
    "        c_sum += item\n",
    "    return c_sum\n",
    "\n",
    "a = [12, 78, 32, 82]\n",
    "s = cumulate(a)\n",
    "print(s)"
   ]
  },
  {
   "cell_type": "markdown",
   "metadata": {
    "slideshow": {
     "slide_type": "slide"
    }
   },
   "source": [
    "## Returning lists from functions\n",
    "\n",
    "* You can return lists from functions:"
   ]
  },
  {
   "cell_type": "code",
   "execution_count": 21,
   "metadata": {},
   "outputs": [
    {
     "name": "stdout",
     "output_type": "stream",
     "text": [
      "['B', 'O', 'O', 'M', 'E', 'R']\n"
     ]
    }
   ],
   "source": [
    "def only_upper(t):\n",
    "    res = []\n",
    "    for s in t:\n",
    "        if s.isupper():\n",
    "            res.append(s)\n",
    "    return res\n",
    "\n",
    "text = 'Bold cOlOrs Make for Easy Reading'\n",
    "secret = only_upper(text)\n",
    "print(secret)"
   ]
  },
  {
   "cell_type": "markdown",
   "metadata": {
    "slideshow": {
     "slide_type": "slide"
    }
   },
   "source": [
    "## Modifying lists in functions\n",
    "\n",
    "* In Python, arguments are passed *by reference*\n",
    "* The parameter in the function is an alias for the argument that was passed in\n",
    "* If a mutable object is changed inside the function, it is also changed \n",
    "  outside the function!"
   ]
  },
  {
   "cell_type": "markdown",
   "metadata": {
    "slideshow": {
     "slide_type": "slide"
    }
   },
   "source": [
    "## Example: By reference\n",
    "\n",
    "* Here we illustrate modifying a list in a function:"
   ]
  },
  {
   "cell_type": "code",
   "execution_count": 22,
   "metadata": {},
   "outputs": [
    {
     "name": "stdout",
     "output_type": "stream",
     "text": [
      "[1, 2, 3]\n",
      "Passed in: [1, 2, 3]\n",
      "Changed to: [1, 2, 3, 'new item']\n",
      "[1, 2, 3, 'new item']\n"
     ]
    }
   ],
   "source": [
    "def change(seq):\n",
    "    print('Passed in: ' + str(seq))\n",
    "    seq.append('new item')\n",
    "    print('Changed to: ' + str(seq))\n",
    "\n",
    "original = [1, 2, 3]\n",
    "print(original)\n",
    "change(original)\n",
    "print(original)"
   ]
  },
  {
   "cell_type": "markdown",
   "metadata": {
    "slideshow": {
     "slide_type": "slide"
    }
   },
   "source": [
    "## OOP and Methods\n",
    "\n",
    "* Let's say we've defined a list, ``r``::\n",
    "\n",
    "```python\n",
    "  r = [1,2,3,4]\n",
    "```\n",
    "\n",
    "* The notation ``r.method()`` (e.g., ``r.sort(), r.append(3), r.pop()``) is our first example of object-oriented programming (OOP).\n",
    "\n",
    "* Being a ``list``, the object ``r`` owns the *method* ``function`` that\n",
    "  is called using the notation **.**. \n",
    "\n",
    "* No further knowledge of OOP than understanding the notation **.** is\n",
    "  necessary for most of this class.\n"
   ]
  },
  {
   "cell_type": "markdown",
   "metadata": {
    "slideshow": {
     "slide_type": "slide"
    }
   },
   "source": [
    "## Discovering methods\n",
    "\n",
    "* You can always look up methods in books/docs, but...\n",
    "\n",
    "* One easy way is to use IPython tab-completion (press tab):\n"
   ]
  },
  {
   "cell_type": "code",
   "execution_count": 23,
   "metadata": {},
   "outputs": [
    {
     "data": {
      "text/plain": [
       "[1, 2, 3, 4]"
      ]
     },
     "execution_count": 23,
     "metadata": {},
     "output_type": "execute_result"
    }
   ],
   "source": [
    "# let's try it out\n",
    "r = [1, 2, 3, 4]\n",
    "r"
   ]
  },
  {
   "cell_type": "markdown",
   "metadata": {
    "slideshow": {
     "slide_type": "slide"
    }
   },
   "source": [
    "## The `tuple` data structure\n",
    "\n",
    "* In Python, a ``tuple`` is an immutable sequence of values\n",
    "* Each value in the tuple is an element or item\n",
    "* Elements can be any Python data type\n",
    "* Tuples can mix data types\n",
    "* Elements can be nested tuples\n",
    "* Essentially tuples are immutable lists\n"
   ]
  },
  {
   "cell_type": "markdown",
   "metadata": {
    "slideshow": {
     "slide_type": "slide"
    }
   },
   "source": [
    "## Creating tuples\n",
    "\n",
    "* You create tuples like you would lists, but with parentheses instead\n",
    "  of brackets"
   ]
  },
  {
   "cell_type": "code",
   "execution_count": 24,
   "metadata": {},
   "outputs": [
    {
     "name": "stdout",
     "output_type": "stream",
     "text": [
      "(1, 2, 3, 4)\n"
     ]
    }
   ],
   "source": [
    "numbers = (1, 2, 3, 4)\n",
    "print(numbers)"
   ]
  },
  {
   "cell_type": "markdown",
   "metadata": {},
   "source": [
    "* Note one difference, that tuples with only a single item reduce to\n",
    "  that item"
   ]
  },
  {
   "cell_type": "code",
   "execution_count": 25,
   "metadata": {},
   "outputs": [
    {
     "name": "stdout",
     "output_type": "stream",
     "text": [
      "a <class 'str'>\n",
      "('a',) <class 'tuple'>\n",
      "('a',) <class 'tuple'>\n"
     ]
    }
   ],
   "source": [
    "t1 = ('a')\n",
    "print(t1, type(t1))\n",
    "t2 = ('a',)\n",
    "print(t2, type(t2))\n",
    "t3 = tuple('a')\n",
    "print(t3, type(t3))"
   ]
  },
  {
   "cell_type": "markdown",
   "metadata": {},
   "source": [
    "* And you can turn a `list` into a `tuple`"
   ]
  },
  {
   "cell_type": "code",
   "execution_count": 26,
   "metadata": {},
   "outputs": [
    {
     "name": "stdout",
     "output_type": "stream",
     "text": [
      "(1, 2, 3, 4)\n",
      "('p', 'a', 'r', 'r', 'o', 't')\n"
     ]
    }
   ],
   "source": [
    "alist = [1,2,3,4]\n",
    "atuple = tuple(alist)\n",
    "print(atuple)\n",
    "\n",
    "atuple = tuple('parrot')\n",
    "print(atuple)"
   ]
  },
  {
   "cell_type": "markdown",
   "metadata": {
    "slideshow": {
     "slide_type": "slide"
    }
   },
   "source": [
    "## Tuples are *immutable*\n",
    "\n",
    "Meaning you can't change them!"
   ]
  },
  {
   "cell_type": "code",
   "execution_count": 27,
   "metadata": {},
   "outputs": [
    {
     "ename": "TypeError",
     "evalue": "'tuple' object does not support item assignment",
     "output_type": "error",
     "traceback": [
      "\u001b[0;31m---------------------------------------------------------------------------\u001b[0m",
      "\u001b[0;31mTypeError\u001b[0m                                 Traceback (most recent call last)",
      "\u001b[0;32m<ipython-input-27-98e7103915c2>\u001b[0m in \u001b[0;36m<module>\u001b[0;34m\u001b[0m\n\u001b[0;32m----> 1\u001b[0;31m \u001b[0matuple\u001b[0m\u001b[0;34m[\u001b[0m\u001b[0;36m3\u001b[0m\u001b[0;34m]\u001b[0m \u001b[0;34m=\u001b[0m \u001b[0;34m'R'\u001b[0m\u001b[0;34m\u001b[0m\u001b[0;34m\u001b[0m\u001b[0m\n\u001b[0m",
      "\u001b[0;31mTypeError\u001b[0m: 'tuple' object does not support item assignment"
     ]
    }
   ],
   "source": [
    "atuple[3] = 'R'"
   ]
  },
  {
   "cell_type": "markdown",
   "metadata": {
    "slideshow": {
     "slide_type": "slide"
    }
   },
   "source": [
    "## Operations on tuples\n",
    "\n",
    "* Tuples support all the standard sequence operations, including:\n",
    "* Membership tests (using the `in` keyword)\n",
    "* Comparison (element-wise)\n",
    "* Iteration (e.g., in a `for` loop)\n",
    "* Concatenation and repetition\n",
    "* The `len` function"
   ]
  },
  {
   "cell_type": "markdown",
   "metadata": {
    "slideshow": {
     "slide_type": "slide"
    }
   },
   "source": [
    "## Tuples and functions\n",
    "\n",
    "* Many Python functions return tuples\n",
    "* Remember that a function can only return one value\n",
    "* However, if multiple objects are packaged together into a tuple, then the \n",
    "  function can return the objects inside a single tuple"
   ]
  },
  {
   "cell_type": "markdown",
   "metadata": {
    "slideshow": {
     "slide_type": "slide"
    }
   },
   "source": [
    "## Min Max example"
   ]
  },
  {
   "cell_type": "code",
   "execution_count": 28,
   "metadata": {},
   "outputs": [
    {
     "name": "stdout",
     "output_type": "stream",
     "text": [
      "(3, 98)\n",
      "(' ', 'w')\n"
     ]
    }
   ],
   "source": [
    "def min_max(t):\n",
    "    \"\"\"Returns the smallest and largest \n",
    "    elements of a sequence as a tuple\"\"\"\n",
    "    return (min(t), max(t))\n",
    "\n",
    "seq = [12, 98, 23, 74, 3, 54]\n",
    "print(min_max(seq))\n",
    "\n",
    "string = 'She turned me into a newt!'\n",
    "print(min_max(string))\n"
   ]
  },
  {
   "cell_type": "markdown",
   "metadata": {
    "slideshow": {
     "slide_type": "slide"
    }
   },
   "source": [
    "## Passing tuples as arguments\n",
    "\n",
    "* A parameter name that begins with `*` gathers all the arguments into a `tuple`\n",
    "* This allows functions to take a variable number of arguments"
   ]
  },
  {
   "cell_type": "code",
   "execution_count": 29,
   "metadata": {},
   "outputs": [
    {
     "name": "stdout",
     "output_type": "stream",
     "text": [
      "(1, 2.0, 'three')\n"
     ]
    }
   ],
   "source": [
    "def printall(*args):\n",
    "    print(args)\n",
    "\n",
    "printall(1, 2.0, 'three')"
   ]
  },
  {
   "cell_type": "markdown",
   "metadata": {
    "slideshow": {
     "slide_type": "slide"
    }
   },
   "source": [
    "## The zip function\n",
    "\n",
    "* Built-in function that takes two or more sequences and \"zips\" them into a \n",
    "  list of tuples, where each tuple contains one element from each sequence\n"
   ]
  },
  {
   "cell_type": "code",
   "execution_count": 30,
   "metadata": {},
   "outputs": [
    {
     "name": "stdout",
     "output_type": "stream",
     "text": [
      "('a', 0)\n",
      "('b', 1)\n",
      "('c', 2)\n"
     ]
    }
   ],
   "source": [
    "s = 'abc'\n",
    "t = [0, 1, 2]\n",
    "z = zip(s, t)\n",
    "for i in z:\n",
    "    print(i)"
   ]
  },
  {
   "cell_type": "markdown",
   "metadata": {
    "slideshow": {
     "slide_type": "slide"
    }
   },
   "source": [
    "## The dictionary data structure\n",
    "\n",
    "* In Python, a dictionary (or ``dict``) is mapping between a set of\n",
    "  indices (keys) and a set of values\n",
    "* The items in a dictionary are key-value pairs"
   ]
  },
  {
   "cell_type": "markdown",
   "metadata": {
    "slideshow": {
     "slide_type": "slide"
    }
   },
   "source": [
    "## The dictionary data structure\n",
    "\n",
    "* Keys can be any Python data type\n",
    "* Because keys are used for indexing, they should be immutable\n",
    "* Values can be any Python data type\n",
    "* Values can be mutable or immutable"
   ]
  },
  {
   "cell_type": "markdown",
   "metadata": {
    "slideshow": {
     "slide_type": "slide"
    }
   },
   "source": [
    "## Creating a dictionary\n",
    "\n",
    "* There are a number of ways to create and fill a dictionary."
   ]
  },
  {
   "cell_type": "code",
   "execution_count": 31,
   "metadata": {},
   "outputs": [
    {
     "name": "stdout",
     "output_type": "stream",
     "text": [
      "{}\n",
      "{'one': 'uno'}\n",
      "{'one': 'uno', 'two': 'dos'}\n",
      "{'one': 'uno', 'two': 'dos', 'three': 'tres'}\n"
     ]
    }
   ],
   "source": [
    "eng2sp = dict()\n",
    "print(eng2sp)\n",
    "\n",
    "eng2sp['one'] = 'uno'\n",
    "print(eng2sp)\n",
    "\n",
    "eng2sp['two'] = 'dos'\n",
    "print(eng2sp)\n",
    "\n",
    "eng2sp = {'one': 'uno', 'two': 'dos', 'three': 'tres'}\n",
    "print(eng2sp)"
   ]
  },
  {
   "cell_type": "markdown",
   "metadata": {
    "slideshow": {
     "slide_type": "slide"
    }
   },
   "source": [
    "## Dictionary indexing\n",
    "\n",
    "* Dictionaries are indexed by keys, not integers\n",
    "* You can use `in` to check for the existance of a key\n"
   ]
  },
  {
   "cell_type": "code",
   "execution_count": 32,
   "metadata": {},
   "outputs": [
    {
     "name": "stdout",
     "output_type": "stream",
     "text": [
      "tres\n",
      "I can't translate the word 'five'.\n"
     ]
    }
   ],
   "source": [
    "print(eng2sp['three'])\n",
    "if 'five' in eng2sp:\n",
    "    print(eng2sp['five'])\n",
    "else:\n",
    "    print(\"I can't translate the word 'five'.\")"
   ]
  },
  {
   "cell_type": "markdown",
   "metadata": {
    "slideshow": {
     "slide_type": "slide"
    }
   },
   "source": [
    "## Histogram example"
   ]
  },
  {
   "cell_type": "code",
   "execution_count": 33,
   "metadata": {},
   "outputs": [
    {
     "name": "stdout",
     "output_type": "stream",
     "text": [
      "{'b': 1, 'r': 2, 'o': 2, 'n': 1, 't': 1, 's': 2, 'a': 1, 'u': 2}\n"
     ]
    }
   ],
   "source": [
    "def histogram(seq):\n",
    "    d = dict()\n",
    "    for element in seq:\n",
    "        if element not in d:\n",
    "            d[element] = 1\n",
    "        else:\n",
    "            d[element] += 1\n",
    "    return d\n",
    "\n",
    "h = histogram('brontosaurus')\n",
    "print(h)\n"
   ]
  },
  {
   "cell_type": "markdown",
   "metadata": {
    "slideshow": {
     "slide_type": "slide"
    }
   },
   "source": [
    "## Assignment before next class\n",
    "\n",
    "- We posted a function-writing assignment on UVACollab\n",
    "- Look for at least one more assignment to prepare you for writing a behavioral experiment!\n",
    "\n",
    "You will receive ***points*** for the participation/homework grade by finishing these tasks!\n",
    "\n",
    "### See you next week!!!"
   ]
  }
 ],
 "metadata": {
  "celltoolbar": "Slideshow",
  "kernelspec": {
   "display_name": "Python 3",
   "language": "python",
   "name": "python3"
  },
  "language_info": {
   "codemirror_mode": {
    "name": "ipython",
    "version": 3
   },
   "file_extension": ".py",
   "mimetype": "text/x-python",
   "name": "python",
   "nbconvert_exporter": "python",
   "pygments_lexer": "ipython3",
   "version": "3.8.3"
  },
  "rise": {
   "scroll": true
  }
 },
 "nbformat": 4,
 "nbformat_minor": 2
}
