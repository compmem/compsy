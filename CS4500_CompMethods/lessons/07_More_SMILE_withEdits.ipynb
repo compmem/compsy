{
 "cells": [
  {
   "cell_type": "markdown",
   "metadata": {
    "slideshow": {
     "slide_type": "slide"
    }
   },
   "source": [
    "# More SMILE!!!\n",
    "## Computational Methods in Psychology (and Neuroscience)\n",
    "### Psychology 4500/7559 --- Fall 2020\n",
    "By: Per B. Sederberg, PhD\n",
    "\n"
   ]
  },
  {
   "cell_type": "markdown",
   "metadata": {
    "slideshow": {
     "slide_type": "slide"
    }
   },
   "source": [
    "# Lesson Objectives\n",
    "\n",
    "Upon completion of this lesson, students should have learned:\n",
    "\n",
    "1. How to update SMILE to the latest version\n",
    "2. How to present images\n",
    "3. To visualize the DAG for an experiment\n",
    "4. How to lay out visual states on the screen\n",
    "5. To log information for easy analysis\n",
    "6. How to write subroutines to organize your code\n",
    "7. How to include mouse interaction\n"
   ]
  },
  {
   "cell_type": "markdown",
   "metadata": {
    "slideshow": {
     "slide_type": "slide"
    }
   },
   "source": [
    "# Updating SMILE\n",
    "\n",
    "- First you can test whether there is a new version Kivy, which is the primary dependency of SMILE:\n",
    "\n",
    "```bash\n",
    "conda install -c conda-forge kivy\n",
    "```\n",
    "\n",
    "- Then you can update SMILE right from the GitHub repository (note the upgrade option at the end):\n",
    "\n",
    "```bash\n",
    "pip install git+https://github.com/compmem/smile --upgrade\n",
    "```"
   ]
  },
  {
   "cell_type": "markdown",
   "metadata": {
    "slideshow": {
     "slide_type": "slide"
    }
   },
   "source": [
    "# Understanding Flow\n",
    "\n",
    "- By default, everything in SMILE proceeds sequentially (i.e., in *serial*) in the order the states are added.\n",
    "  - The `Serial` parent state manages starting the next child state when the previous child finishes.\n",
    "- The `Parallel` state allows for multiple states to run *at the same time*.\n",
    "  - By default the `Parallel` state is done with all its child states are done.\n",
    "  - The `blocking` attribute allows ending a `Parallel` state when all non-blocking states are done.\n",
    "  - The `UntilDone` and `Meanwhile` parent states simply create Serial/Parallel states with specific blocking values."
   ]
  },
  {
   "cell_type": "markdown",
   "metadata": {
    "slideshow": {
     "slide_type": "slide"
    }
   },
   "source": [
    "## These are the same"
   ]
  },
  {
   "cell_type": "code",
   "execution_count": 1,
   "metadata": {
    "scrolled": false
   },
   "outputs": [
    {
     "name": "stderr",
     "output_type": "stream",
     "text": [
      "[INFO   ] [Text        ] Provider: sdl2\n",
      "[CRITICAL] [Camera      ] Unable to find any valuable Camera provider. Please enable debug logging (e.g. add -d if running from the command line, or change the log level in the config) and re-run your app to identify potential causes\n",
      "picamera - ModuleNotFoundError: No module named 'picamera'\n",
      "  File \"C:\\ProgramData\\Anaconda3\\lib\\site-packages\\kivy\\core\\__init__.py\", line 59, in core_select_lib\n",
      "    mod = __import__(name='{2}.{0}.{1}'.format(\n",
      "  File \"C:\\ProgramData\\Anaconda3\\lib\\site-packages\\kivy\\core\\camera\\camera_picamera.py\", line 18, in <module>\n",
      "    from picamera import PiCamera\n",
      "\n",
      "gi - ModuleNotFoundError: No module named 'gi'\n",
      "  File \"C:\\ProgramData\\Anaconda3\\lib\\site-packages\\kivy\\core\\__init__.py\", line 59, in core_select_lib\n",
      "    mod = __import__(name='{2}.{0}.{1}'.format(\n",
      "  File \"C:\\ProgramData\\Anaconda3\\lib\\site-packages\\kivy\\core\\camera\\camera_gi.py\", line 10, in <module>\n",
      "    from gi.repository import Gst\n",
      "\n",
      "opencv - ModuleNotFoundError: No module named 'cv2'\n",
      "  File \"C:\\ProgramData\\Anaconda3\\lib\\site-packages\\kivy\\core\\__init__.py\", line 59, in core_select_lib\n",
      "    mod = __import__(name='{2}.{0}.{1}'.format(\n",
      "  File \"C:\\ProgramData\\Anaconda3\\lib\\site-packages\\kivy\\core\\camera\\camera_opencv.py\", line 48, in <module>\n",
      "    import cv2\n",
      "\n",
      "[INFO   ] [Video       ] Provider: null(['video_ffmpeg', 'video_ffpyplayer'] ignored)\n",
      "[WARNING] [SMILE       ] Unable to import PYO!\n",
      "[WARNING] [SMILE       ] Durations will be maintained, unless none are specified\n",
      "[INFO   ] [Window      ] Provider: sdl2\n",
      "[INFO   ] [GL          ] Using the \"OpenGL\" graphics system\n",
      "[INFO   ] [GL          ] GLEW initialization succeeded\n",
      "[INFO   ] [GL          ] Backend used <glew>\n",
      "[INFO   ] [GL          ] OpenGL version <b'4.6.0 - Build 27.20.100.7990'>\n",
      "[INFO   ] [GL          ] OpenGL vendor <b'Intel'>\n",
      "[INFO   ] [GL          ] OpenGL renderer <b'Intel(R) UHD Graphics 620'>\n",
      "[INFO   ] [GL          ] OpenGL parsed version: 4, 6\n",
      "[INFO   ] [GL          ] Shading version <b'4.60 - Build 27.20.100.7990'>\n",
      "[INFO   ] [GL          ] Texture max size <16384>\n",
      "[INFO   ] [GL          ] Texture max units <32>\n",
      "[INFO   ] [Window      ] auto add sdl2 input provider\n",
      "[INFO   ] [Window      ] virtual keyboard not allowed, single mode, not docked\n",
      "[INFO   ] [Base        ] Start application main loop\n",
      "[INFO   ] [GL          ] NPOT texture support is available\n",
      "[INFO   ] [Base        ] Leaving application in progress...\n",
      "[INFO   ] [WindowSDL   ] exiting mainloop and closing.\n",
      "[INFO   ] [Window      ] Provider: sdl2\n",
      "[INFO   ] [GL          ] Using the \"OpenGL\" graphics system\n",
      "[INFO   ] [GL          ] GLEW initialization succeeded\n",
      "[INFO   ] [GL          ] Backend used <glew>\n",
      "[INFO   ] [GL          ] OpenGL version <b'4.6.0 - Build 27.20.100.7990'>\n",
      "[INFO   ] [GL          ] OpenGL vendor <b'Intel'>\n",
      "[INFO   ] [GL          ] OpenGL renderer <b'Intel(R) UHD Graphics 620'>\n",
      "[INFO   ] [GL          ] OpenGL parsed version: 4, 6\n",
      "[INFO   ] [GL          ] Shading version <b'4.60 - Build 27.20.100.7990'>\n",
      "[INFO   ] [GL          ] Texture max size <16384>\n",
      "[INFO   ] [GL          ] Texture max units <32>\n",
      "[INFO   ] [Window      ] auto add sdl2 input provider\n",
      "[INFO   ] [Window      ] virtual keyboard not allowed, single mode, not docked\n",
      "[INFO   ] [Base        ] Start application main loop\n",
      "[INFO   ] [Base        ] Leaving application in progress...\n",
      "[INFO   ] [WindowSDL   ] exiting mainloop and closing.\n",
      "[INFO   ] [Window      ] Provider: sdl2\n",
      "[INFO   ] [GL          ] Using the \"OpenGL\" graphics system\n",
      "[INFO   ] [GL          ] GLEW initialization succeeded\n",
      "[INFO   ] [GL          ] Backend used <glew>\n",
      "[INFO   ] [GL          ] OpenGL version <b'4.6.0 - Build 27.20.100.7990'>\n",
      "[INFO   ] [GL          ] OpenGL vendor <b'Intel'>\n",
      "[INFO   ] [GL          ] OpenGL renderer <b'Intel(R) UHD Graphics 620'>\n",
      "[INFO   ] [GL          ] OpenGL parsed version: 4, 6\n",
      "[INFO   ] [GL          ] Shading version <b'4.60 - Build 27.20.100.7990'>\n",
      "[INFO   ] [GL          ] Texture max size <16384>\n",
      "[INFO   ] [GL          ] Texture max units <32>\n",
      "[INFO   ] [Window      ] auto add sdl2 input provider\n",
      "[INFO   ] [Window      ] virtual keyboard not allowed, single mode, not docked\n",
      "[INFO   ] [Base        ] Start application main loop\n",
      "[INFO   ] [Base        ] Leaving application in progress...\n",
      "[INFO   ] [WindowSDL   ] exiting mainloop and closing.\n"
     ]
    }
   ],
   "source": [
    "# load in smile states\n",
    "from smile.common import *\n",
    "\n",
    "# create an experiment instance\n",
    "exp = Experiment(show_splash=False, resolution=(1024,768))\n",
    "\n",
    "Label(text='Press Any Key')\n",
    "with UntilDone():\n",
    "    KeyPress()\n",
    "Wait(.5)\n",
    "\n",
    "with Parallel():\n",
    "    Label(text='Press Any Key', blocking=False)\n",
    "    KeyPress()\n",
    "Wait(.5)\n",
    "\n",
    "KeyPress()\n",
    "with Meanwhile():\n",
    "    Label(text='Press Any Key')\n",
    "Wait(.5)\n",
    "\n",
    "exp.run()"
   ]
  },
  {
   "cell_type": "markdown",
   "metadata": {
    "slideshow": {
     "slide_type": "slide"
    }
   },
   "source": [
    "# Showing Images\n"
   ]
  },
  {
   "cell_type": "code",
   "execution_count": 2,
   "metadata": {},
   "outputs": [],
   "source": [
    "# load in smile states\n",
    "from smile.common import *\n",
    "\n",
    "# create an experiment instance\n",
    "exp = Experiment(show_splash=False, resolution=(1024,768))\n",
    "\n",
    "# show an image until keypress\n",
    "Image(source=\"C:/WINDOWS/system32/compsy/lessons/outdoor/out0099_new.jpg\")\n",
    "with UntilDone():\n",
    "    KeyPress()\n",
    "\n",
    "# show a larger image until keypress (note allow_stretch)\n",
    "Image(source=\"C:/WINDOWS/system32/compsy/lessons/outdoor/out0099_new.jpg\", \n",
    "      width=400, height=400, allow_stretch=True)\n",
    "with UntilDone():\n",
    "    KeyPress()\n",
    "\n",
    "# run the experiment\n",
    "exp.run()"
   ]
  },
  {
   "cell_type": "markdown",
   "metadata": {
    "slideshow": {
     "slide_type": "slide"
    }
   },
   "source": [
    "# Visualizing State Machines\n",
    "\n",
    "- A SMILE experiment is a directed acyclic graph (DAG)\n",
    "- It's possible to visualize the full hierarchy of states"
   ]
  },
  {
   "cell_type": "code",
   "execution_count": 3,
   "metadata": {},
   "outputs": [
    {
     "data": {
      "image/png": "[encoded data removed]",
      "text/plain": [
       "<IPython.core.display.Image object>"
      ]
     },
     "metadata": {},
     "output_type": "display_data"
    }
   ],
   "source": [
    "from smile.dag import DAG\n",
    "d = DAG(exp)\n",
    "d.view_png()"
   ]
  },
  {
   "cell_type": "markdown",
   "metadata": {
    "slideshow": {
     "slide_type": "slide"
    }
   },
   "source": [
    "# Advanced Placement\n",
    "\n",
    "- All visual states have a coordinate system based on the screen.\n",
    "- You can place any visual state relative to either the screen or other visual states:"
   ]
  },
  {
   "cell_type": "code",
   "execution_count": 4,
   "metadata": {},
   "outputs": [],
   "source": [
    "# load in smile states\n",
    "from smile.common import *\n",
    "\n",
    "# create an experiment instance\n",
    "exp = Experiment(show_splash=False, resolution=(1024,768))\n",
    "\n",
    "# show images and labels until keypress\n",
    "with Parallel():\n",
    "    # place images based on the screen coords\n",
    "    out_im = Image(source=\"C:/WINDOWS/system32/compsy/lessons/outdoor/out0091_new.jpg\",\n",
    "                   left=exp.screen.center_x + 150)\n",
    "    in_im = Image(source=\"C:/WINDOWS/system32/compsy/lessons/outdoor/out0021_new.jpg\",\n",
    "                  right=exp.screen.center_x - 150)\n",
    "    # place labels based on the images\n",
    "    out_txt = Label(text='Outdoor', font_size=50, \n",
    "                    center_bottom=out_im.center_top)\n",
    "    in_txt = Label(text='Indoor', font_size=50, \n",
    "                   center_bottom=in_im.center_top)\n",
    "with UntilDone():\n",
    "    KeyPress()\n",
    "\n",
    "# run the experiment\n",
    "exp.run()"
   ]
  },
  {
   "cell_type": "markdown",
   "metadata": {
    "slideshow": {
     "slide_type": "slide"
    }
   },
   "source": [
    "# Mouse States\n",
    "\n",
    "- The mouse is hidden by default\n",
    "- You can add in a mouse cursor with the `MouseCursor` state\n",
    "- It's possible to trigger events based on mouse location"
   ]
  },
  {
   "cell_type": "code",
   "execution_count": 1,
   "metadata": {},
   "outputs": [
    {
     "name": "stderr",
     "output_type": "stream",
     "text": [
      "[INFO   ] [Logger      ] Record log in C:\\Users\\Carlos Rodriguez\\.kivy\\logs\\kivy_20-10-20_45.txt\n",
      "[INFO   ] [Kivy        ] v1.11.1\n",
      "[INFO   ] [Kivy        ] Installed at \"C:\\ProgramData\\Anaconda3\\lib\\site-packages\\kivy\\__init__.py\"\n",
      "[INFO   ] [Python      ] v3.8.3 (default, Jul  2 2020, 17:30:36) [MSC v.1916 64 bit (AMD64)]\n",
      "[INFO   ] [Python      ] Interpreter at \"C:\\ProgramData\\Anaconda3\\python.exe\"\n",
      "[INFO   ] [Factory     ] 184 symbols loaded\n",
      "[INFO   ] [Image       ] Providers: img_tex, img_dds, img_sdl2, img_pil, img_gif (img_ffpyplayer ignored)\n",
      "[INFO   ] [Text        ] Provider: sdl2\n",
      "[CRITICAL] [Camera      ] Unable to find any valuable Camera provider. Please enable debug logging (e.g. add -d if running from the command line, or change the log level in the config) and re-run your app to identify potential causes\n",
      "picamera - ModuleNotFoundError: No module named 'picamera'\n",
      "  File \"C:\\ProgramData\\Anaconda3\\lib\\site-packages\\kivy\\core\\__init__.py\", line 59, in core_select_lib\n",
      "    mod = __import__(name='{2}.{0}.{1}'.format(\n",
      "  File \"C:\\ProgramData\\Anaconda3\\lib\\site-packages\\kivy\\core\\camera\\camera_picamera.py\", line 18, in <module>\n",
      "    from picamera import PiCamera\n",
      "\n",
      "gi - ModuleNotFoundError: No module named 'gi'\n",
      "  File \"C:\\ProgramData\\Anaconda3\\lib\\site-packages\\kivy\\core\\__init__.py\", line 59, in core_select_lib\n",
      "    mod = __import__(name='{2}.{0}.{1}'.format(\n",
      "  File \"C:\\ProgramData\\Anaconda3\\lib\\site-packages\\kivy\\core\\camera\\camera_gi.py\", line 10, in <module>\n",
      "    from gi.repository import Gst\n",
      "\n",
      "opencv - ModuleNotFoundError: No module named 'cv2'\n",
      "  File \"C:\\ProgramData\\Anaconda3\\lib\\site-packages\\kivy\\core\\__init__.py\", line 59, in core_select_lib\n",
      "    mod = __import__(name='{2}.{0}.{1}'.format(\n",
      "  File \"C:\\ProgramData\\Anaconda3\\lib\\site-packages\\kivy\\core\\camera\\camera_opencv.py\", line 48, in <module>\n",
      "    import cv2\n",
      "\n",
      "[INFO   ] [Video       ] Provider: null(['video_ffmpeg', 'video_ffpyplayer'] ignored)\n",
      "[WARNING] [SMILE       ] Unable to import PYO!\n",
      "[WARNING] [SMILE       ] Durations will be maintained, unless none are specified\n"
     ]
    },
    {
     "ename": "OSError",
     "evalue": "[Errno 22] Invalid argument: '.\\\\data\\\\SMILE\\\\test000\\\\20201020_145759\\\\record_<ipython-input-1-401367284a42>_20_0.slog'",
     "output_type": "error",
     "traceback": [
      "\u001b[1;31m---------------------------------------------------------------------------\u001b[0m",
      "\u001b[1;31mOSError\u001b[0m                                   Traceback (most recent call last)",
      "\u001b[1;32m<ipython-input-1-401367284a42>\u001b[0m in \u001b[0;36m<module>\u001b[1;34m\u001b[0m\n\u001b[0;32m     31\u001b[0m               rt=w.event_time['time'] - choice_B.appear_time['time'])\n\u001b[0;32m     32\u001b[0m \u001b[1;33m\u001b[0m\u001b[0m\n\u001b[1;32m---> 33\u001b[1;33m \u001b[0mexp\u001b[0m\u001b[1;33m.\u001b[0m\u001b[0mrun\u001b[0m\u001b[1;33m(\u001b[0m\u001b[1;33m)\u001b[0m\u001b[1;33m\u001b[0m\u001b[1;33m\u001b[0m\u001b[0m\n\u001b[0m",
      "\u001b[1;32mC:\\ProgramData\\Anaconda3\\lib\\site-packages\\smile\\experiment.py\u001b[0m in \u001b[0;36mrun\u001b[1;34m(self, trace)\u001b[0m\n\u001b[0;32m    616\u001b[0m         \u001b[1;31m# open all the logs\u001b[0m\u001b[1;33m\u001b[0m\u001b[1;33m\u001b[0m\u001b[1;33m\u001b[0m\u001b[0m\n\u001b[0;32m    617\u001b[0m         \u001b[1;31m# (this will call begin_log for entire state machine)\u001b[0m\u001b[1;33m\u001b[0m\u001b[1;33m\u001b[0m\u001b[1;33m\u001b[0m\u001b[0m\n\u001b[1;32m--> 618\u001b[1;33m         \u001b[0mself\u001b[0m\u001b[1;33m.\u001b[0m\u001b[0m_root_state\u001b[0m\u001b[1;33m.\u001b[0m\u001b[0mbegin_log\u001b[0m\u001b[1;33m(\u001b[0m\u001b[1;33m)\u001b[0m\u001b[1;33m\u001b[0m\u001b[1;33m\u001b[0m\u001b[0m\n\u001b[0m\u001b[0;32m    619\u001b[0m \u001b[1;33m\u001b[0m\u001b[0m\n\u001b[0;32m    620\u001b[0m         \u001b[1;31m# clone the root state in prep for starting the state machine\u001b[0m\u001b[1;33m\u001b[0m\u001b[1;33m\u001b[0m\u001b[1;33m\u001b[0m\u001b[0m\n",
      "\u001b[1;32mC:\\ProgramData\\Anaconda3\\lib\\site-packages\\smile\\state.py\u001b[0m in \u001b[0;36mbegin_log\u001b[1;34m(self)\u001b[0m\n\u001b[0;32m    945\u001b[0m         \u001b[0msuper\u001b[0m\u001b[1;33m(\u001b[0m\u001b[0mParentState\u001b[0m\u001b[1;33m,\u001b[0m \u001b[0mself\u001b[0m\u001b[1;33m)\u001b[0m\u001b[1;33m.\u001b[0m\u001b[0mbegin_log\u001b[0m\u001b[1;33m(\u001b[0m\u001b[1;33m)\u001b[0m\u001b[1;33m\u001b[0m\u001b[1;33m\u001b[0m\u001b[0m\n\u001b[0;32m    946\u001b[0m         \u001b[1;32mfor\u001b[0m \u001b[0mchild\u001b[0m \u001b[1;32min\u001b[0m \u001b[0mself\u001b[0m\u001b[1;33m.\u001b[0m\u001b[0m_children\u001b[0m\u001b[1;33m:\u001b[0m\u001b[1;33m\u001b[0m\u001b[1;33m\u001b[0m\u001b[0m\n\u001b[1;32m--> 947\u001b[1;33m             \u001b[0mchild\u001b[0m\u001b[1;33m.\u001b[0m\u001b[0mbegin_log\u001b[0m\u001b[1;33m(\u001b[0m\u001b[1;33m)\u001b[0m\u001b[1;33m\u001b[0m\u001b[1;33m\u001b[0m\u001b[0m\n\u001b[0m\u001b[0;32m    948\u001b[0m \u001b[1;33m\u001b[0m\u001b[0m\n\u001b[0;32m    949\u001b[0m     \u001b[1;32mdef\u001b[0m \u001b[0mend_log\u001b[0m\u001b[1;33m(\u001b[0m\u001b[0mself\u001b[0m\u001b[1;33m,\u001b[0m \u001b[0mto_csv\u001b[0m\u001b[1;33m=\u001b[0m\u001b[1;32mFalse\u001b[0m\u001b[1;33m)\u001b[0m\u001b[1;33m:\u001b[0m\u001b[1;33m\u001b[0m\u001b[1;33m\u001b[0m\u001b[0m\n",
      "\u001b[1;32mC:\\ProgramData\\Anaconda3\\lib\\site-packages\\smile\\state.py\u001b[0m in \u001b[0;36mbegin_log\u001b[1;34m(self)\u001b[0m\n\u001b[0;32m    945\u001b[0m         \u001b[0msuper\u001b[0m\u001b[1;33m(\u001b[0m\u001b[0mParentState\u001b[0m\u001b[1;33m,\u001b[0m \u001b[0mself\u001b[0m\u001b[1;33m)\u001b[0m\u001b[1;33m.\u001b[0m\u001b[0mbegin_log\u001b[0m\u001b[1;33m(\u001b[0m\u001b[1;33m)\u001b[0m\u001b[1;33m\u001b[0m\u001b[1;33m\u001b[0m\u001b[0m\n\u001b[0;32m    946\u001b[0m         \u001b[1;32mfor\u001b[0m \u001b[0mchild\u001b[0m \u001b[1;32min\u001b[0m \u001b[0mself\u001b[0m\u001b[1;33m.\u001b[0m\u001b[0m_children\u001b[0m\u001b[1;33m:\u001b[0m\u001b[1;33m\u001b[0m\u001b[1;33m\u001b[0m\u001b[0m\n\u001b[1;32m--> 947\u001b[1;33m             \u001b[0mchild\u001b[0m\u001b[1;33m.\u001b[0m\u001b[0mbegin_log\u001b[0m\u001b[1;33m(\u001b[0m\u001b[1;33m)\u001b[0m\u001b[1;33m\u001b[0m\u001b[1;33m\u001b[0m\u001b[0m\n\u001b[0m\u001b[0;32m    948\u001b[0m \u001b[1;33m\u001b[0m\u001b[0m\n\u001b[0;32m    949\u001b[0m     \u001b[1;32mdef\u001b[0m \u001b[0mend_log\u001b[0m\u001b[1;33m(\u001b[0m\u001b[0mself\u001b[0m\u001b[1;33m,\u001b[0m \u001b[0mto_csv\u001b[0m\u001b[1;33m=\u001b[0m\u001b[1;32mFalse\u001b[0m\u001b[1;33m)\u001b[0m\u001b[1;33m:\u001b[0m\u001b[1;33m\u001b[0m\u001b[1;33m\u001b[0m\u001b[0m\n",
      "\u001b[1;32mC:\\ProgramData\\Anaconda3\\lib\\site-packages\\smile\\state.py\u001b[0m in \u001b[0;36mbegin_log\u001b[1;34m(self)\u001b[0m\n\u001b[0;32m    945\u001b[0m         \u001b[0msuper\u001b[0m\u001b[1;33m(\u001b[0m\u001b[0mParentState\u001b[0m\u001b[1;33m,\u001b[0m \u001b[0mself\u001b[0m\u001b[1;33m)\u001b[0m\u001b[1;33m.\u001b[0m\u001b[0mbegin_log\u001b[0m\u001b[1;33m(\u001b[0m\u001b[1;33m)\u001b[0m\u001b[1;33m\u001b[0m\u001b[1;33m\u001b[0m\u001b[0m\n\u001b[0;32m    946\u001b[0m         \u001b[1;32mfor\u001b[0m \u001b[0mchild\u001b[0m \u001b[1;32min\u001b[0m \u001b[0mself\u001b[0m\u001b[1;33m.\u001b[0m\u001b[0m_children\u001b[0m\u001b[1;33m:\u001b[0m\u001b[1;33m\u001b[0m\u001b[1;33m\u001b[0m\u001b[0m\n\u001b[1;32m--> 947\u001b[1;33m             \u001b[0mchild\u001b[0m\u001b[1;33m.\u001b[0m\u001b[0mbegin_log\u001b[0m\u001b[1;33m(\u001b[0m\u001b[1;33m)\u001b[0m\u001b[1;33m\u001b[0m\u001b[1;33m\u001b[0m\u001b[0m\n\u001b[0m\u001b[0;32m    948\u001b[0m \u001b[1;33m\u001b[0m\u001b[0m\n\u001b[0;32m    949\u001b[0m     \u001b[1;32mdef\u001b[0m \u001b[0mend_log\u001b[0m\u001b[1;33m(\u001b[0m\u001b[0mself\u001b[0m\u001b[1;33m,\u001b[0m \u001b[0mto_csv\u001b[0m\u001b[1;33m=\u001b[0m\u001b[1;32mFalse\u001b[0m\u001b[1;33m)\u001b[0m\u001b[1;33m:\u001b[0m\u001b[1;33m\u001b[0m\u001b[1;33m\u001b[0m\u001b[0m\n",
      "\u001b[1;32mC:\\ProgramData\\Anaconda3\\lib\\site-packages\\smile\\state.py\u001b[0m in \u001b[0;36mbegin_log\u001b[1;34m(self)\u001b[0m\n\u001b[0;32m   2056\u001b[0m         \u001b[1;32mif\u001b[0m \u001b[0mself\u001b[0m\u001b[1;33m.\u001b[0m\u001b[0m__log_writer\u001b[0m \u001b[1;32mis\u001b[0m \u001b[1;32mnot\u001b[0m \u001b[1;32mNone\u001b[0m\u001b[1;33m:\u001b[0m\u001b[1;33m\u001b[0m\u001b[1;33m\u001b[0m\u001b[0m\n\u001b[0;32m   2057\u001b[0m             \u001b[0mself\u001b[0m\u001b[1;33m.\u001b[0m\u001b[0m__log_writer\u001b[0m\u001b[1;33m.\u001b[0m\u001b[0mclose\u001b[0m\u001b[1;33m(\u001b[0m\u001b[1;33m)\u001b[0m\u001b[1;33m\u001b[0m\u001b[1;33m\u001b[0m\u001b[0m\n\u001b[1;32m-> 2058\u001b[1;33m         \u001b[0mself\u001b[0m\u001b[1;33m.\u001b[0m\u001b[0m__log_writer\u001b[0m \u001b[1;33m=\u001b[0m \u001b[0mLogWriter\u001b[0m\u001b[1;33m(\u001b[0m\u001b[0mself\u001b[0m\u001b[1;33m.\u001b[0m\u001b[0m__log_filename\u001b[0m\u001b[1;33m)\u001b[0m\u001b[1;33m\u001b[0m\u001b[1;33m\u001b[0m\u001b[0m\n\u001b[0m\u001b[0;32m   2059\u001b[0m \u001b[1;33m\u001b[0m\u001b[0m\n\u001b[0;32m   2060\u001b[0m     \u001b[1;32mdef\u001b[0m \u001b[0mend_log\u001b[0m\u001b[1;33m(\u001b[0m\u001b[0mself\u001b[0m\u001b[1;33m,\u001b[0m \u001b[0mto_csv\u001b[0m\u001b[1;33m=\u001b[0m\u001b[1;32mFalse\u001b[0m\u001b[1;33m)\u001b[0m\u001b[1;33m:\u001b[0m\u001b[1;33m\u001b[0m\u001b[1;33m\u001b[0m\u001b[0m\n",
      "\u001b[1;32mC:\\ProgramData\\Anaconda3\\lib\\site-packages\\smile\\log.py\u001b[0m in \u001b[0;36m__init__\u001b[1;34m(self, filename)\u001b[0m\n\u001b[0;32m     33\u001b[0m \u001b[1;33m\u001b[0m\u001b[0m\n\u001b[0;32m     34\u001b[0m     \u001b[1;32mdef\u001b[0m \u001b[0m__init__\u001b[0m\u001b[1;33m(\u001b[0m\u001b[0mself\u001b[0m\u001b[1;33m,\u001b[0m \u001b[0mfilename\u001b[0m\u001b[1;33m)\u001b[0m\u001b[1;33m:\u001b[0m\u001b[1;33m\u001b[0m\u001b[1;33m\u001b[0m\u001b[0m\n\u001b[1;32m---> 35\u001b[1;33m         \u001b[0mself\u001b[0m\u001b[1;33m.\u001b[0m\u001b[0m_file\u001b[0m \u001b[1;33m=\u001b[0m \u001b[0mgzip\u001b[0m\u001b[1;33m.\u001b[0m\u001b[0mopen\u001b[0m\u001b[1;33m(\u001b[0m\u001b[0mfilename\u001b[0m\u001b[1;33m,\u001b[0m \u001b[1;34m\"wb\"\u001b[0m\u001b[1;33m)\u001b[0m\u001b[1;33m\u001b[0m\u001b[1;33m\u001b[0m\u001b[0m\n\u001b[0m\u001b[0;32m     36\u001b[0m         \u001b[0mself\u001b[0m\u001b[1;33m.\u001b[0m\u001b[0m_pickler\u001b[0m \u001b[1;33m=\u001b[0m \u001b[0mpickle\u001b[0m\u001b[1;33m.\u001b[0m\u001b[0mPickler\u001b[0m\u001b[1;33m(\u001b[0m\u001b[0mself\u001b[0m\u001b[1;33m.\u001b[0m\u001b[0m_file\u001b[0m\u001b[1;33m,\u001b[0m \u001b[1;33m-\u001b[0m\u001b[1;36m1\u001b[0m\u001b[1;33m)\u001b[0m\u001b[1;33m\u001b[0m\u001b[1;33m\u001b[0m\u001b[0m\n\u001b[0;32m     37\u001b[0m \u001b[1;33m\u001b[0m\u001b[0m\n",
      "\u001b[1;32mC:\\ProgramData\\Anaconda3\\lib\\gzip.py\u001b[0m in \u001b[0;36mopen\u001b[1;34m(filename, mode, compresslevel, encoding, errors, newline)\u001b[0m\n\u001b[0;32m     56\u001b[0m     \u001b[0mgz_mode\u001b[0m \u001b[1;33m=\u001b[0m \u001b[0mmode\u001b[0m\u001b[1;33m.\u001b[0m\u001b[0mreplace\u001b[0m\u001b[1;33m(\u001b[0m\u001b[1;34m\"t\"\u001b[0m\u001b[1;33m,\u001b[0m \u001b[1;34m\"\"\u001b[0m\u001b[1;33m)\u001b[0m\u001b[1;33m\u001b[0m\u001b[1;33m\u001b[0m\u001b[0m\n\u001b[0;32m     57\u001b[0m     \u001b[1;32mif\u001b[0m \u001b[0misinstance\u001b[0m\u001b[1;33m(\u001b[0m\u001b[0mfilename\u001b[0m\u001b[1;33m,\u001b[0m \u001b[1;33m(\u001b[0m\u001b[0mstr\u001b[0m\u001b[1;33m,\u001b[0m \u001b[0mbytes\u001b[0m\u001b[1;33m,\u001b[0m \u001b[0mos\u001b[0m\u001b[1;33m.\u001b[0m\u001b[0mPathLike\u001b[0m\u001b[1;33m)\u001b[0m\u001b[1;33m)\u001b[0m\u001b[1;33m:\u001b[0m\u001b[1;33m\u001b[0m\u001b[1;33m\u001b[0m\u001b[0m\n\u001b[1;32m---> 58\u001b[1;33m         \u001b[0mbinary_file\u001b[0m \u001b[1;33m=\u001b[0m \u001b[0mGzipFile\u001b[0m\u001b[1;33m(\u001b[0m\u001b[0mfilename\u001b[0m\u001b[1;33m,\u001b[0m \u001b[0mgz_mode\u001b[0m\u001b[1;33m,\u001b[0m \u001b[0mcompresslevel\u001b[0m\u001b[1;33m)\u001b[0m\u001b[1;33m\u001b[0m\u001b[1;33m\u001b[0m\u001b[0m\n\u001b[0m\u001b[0;32m     59\u001b[0m     \u001b[1;32melif\u001b[0m \u001b[0mhasattr\u001b[0m\u001b[1;33m(\u001b[0m\u001b[0mfilename\u001b[0m\u001b[1;33m,\u001b[0m \u001b[1;34m\"read\"\u001b[0m\u001b[1;33m)\u001b[0m \u001b[1;32mor\u001b[0m \u001b[0mhasattr\u001b[0m\u001b[1;33m(\u001b[0m\u001b[0mfilename\u001b[0m\u001b[1;33m,\u001b[0m \u001b[1;34m\"write\"\u001b[0m\u001b[1;33m)\u001b[0m\u001b[1;33m:\u001b[0m\u001b[1;33m\u001b[0m\u001b[1;33m\u001b[0m\u001b[0m\n\u001b[0;32m     60\u001b[0m         \u001b[0mbinary_file\u001b[0m \u001b[1;33m=\u001b[0m \u001b[0mGzipFile\u001b[0m\u001b[1;33m(\u001b[0m\u001b[1;32mNone\u001b[0m\u001b[1;33m,\u001b[0m \u001b[0mgz_mode\u001b[0m\u001b[1;33m,\u001b[0m \u001b[0mcompresslevel\u001b[0m\u001b[1;33m,\u001b[0m \u001b[0mfilename\u001b[0m\u001b[1;33m)\u001b[0m\u001b[1;33m\u001b[0m\u001b[1;33m\u001b[0m\u001b[0m\n",
      "\u001b[1;32mC:\\ProgramData\\Anaconda3\\lib\\gzip.py\u001b[0m in \u001b[0;36m__init__\u001b[1;34m(self, filename, mode, compresslevel, fileobj, mtime)\u001b[0m\n\u001b[0;32m    171\u001b[0m             \u001b[0mmode\u001b[0m \u001b[1;33m+=\u001b[0m \u001b[1;34m'b'\u001b[0m\u001b[1;33m\u001b[0m\u001b[1;33m\u001b[0m\u001b[0m\n\u001b[0;32m    172\u001b[0m         \u001b[1;32mif\u001b[0m \u001b[0mfileobj\u001b[0m \u001b[1;32mis\u001b[0m \u001b[1;32mNone\u001b[0m\u001b[1;33m:\u001b[0m\u001b[1;33m\u001b[0m\u001b[1;33m\u001b[0m\u001b[0m\n\u001b[1;32m--> 173\u001b[1;33m             \u001b[0mfileobj\u001b[0m \u001b[1;33m=\u001b[0m \u001b[0mself\u001b[0m\u001b[1;33m.\u001b[0m\u001b[0mmyfileobj\u001b[0m \u001b[1;33m=\u001b[0m \u001b[0mbuiltins\u001b[0m\u001b[1;33m.\u001b[0m\u001b[0mopen\u001b[0m\u001b[1;33m(\u001b[0m\u001b[0mfilename\u001b[0m\u001b[1;33m,\u001b[0m \u001b[0mmode\u001b[0m \u001b[1;32mor\u001b[0m \u001b[1;34m'rb'\u001b[0m\u001b[1;33m)\u001b[0m\u001b[1;33m\u001b[0m\u001b[1;33m\u001b[0m\u001b[0m\n\u001b[0m\u001b[0;32m    174\u001b[0m         \u001b[1;32mif\u001b[0m \u001b[0mfilename\u001b[0m \u001b[1;32mis\u001b[0m \u001b[1;32mNone\u001b[0m\u001b[1;33m:\u001b[0m\u001b[1;33m\u001b[0m\u001b[1;33m\u001b[0m\u001b[0m\n\u001b[0;32m    175\u001b[0m             \u001b[0mfilename\u001b[0m \u001b[1;33m=\u001b[0m \u001b[0mgetattr\u001b[0m\u001b[1;33m(\u001b[0m\u001b[0mfileobj\u001b[0m\u001b[1;33m,\u001b[0m \u001b[1;34m'name'\u001b[0m\u001b[1;33m,\u001b[0m \u001b[1;34m''\u001b[0m\u001b[1;33m)\u001b[0m\u001b[1;33m\u001b[0m\u001b[1;33m\u001b[0m\u001b[0m\n",
      "\u001b[1;31mOSError\u001b[0m: [Errno 22] Invalid argument: '.\\\\data\\\\SMILE\\\\test000\\\\20201020_145759\\\\record_<ipython-input-1-401367284a42>_20_0.slog'"
     ]
    }
   ],
   "source": [
    "from smile.common import *\n",
    "\n",
    "# set up an experiment\n",
    "exp = Experiment(show_splash=False, debug=True)\n",
    "\n",
    "Wait(0.5)\n",
    "\n",
    "# display a rectangle and the mouse cursor\n",
    "with Parallel():\n",
    "    rect = Rectangle(center_bottom=exp.screen.center_bottom,\n",
    "                     color='white')\n",
    "    MouseCursor()\n",
    "with UntilDone():\n",
    "    Wait(until=MouseWithin(rect))\n",
    "\n",
    "# put up two new rectangles\n",
    "with Parallel():\n",
    "    choice_A = Rectangle(left_top=(exp.screen.left + 100, exp.screen.top - 100))\n",
    "    choice_B = Rectangle(right_top=(exp.screen.right - 100, exp.screen.top - 100))\n",
    "    mrec = Record(mouse_pos=MousePos())\n",
    "    MouseCursor()\n",
    "with UntilDone():\n",
    "    mwa = MouseWithin(choice_A)\n",
    "    mwb = MouseWithin(choice_B)\n",
    "    w = Wait(until= mwa | mwb)\n",
    "    with If(mwa):\n",
    "        Debug(choice='A',\n",
    "              rt=w.event_time['time'] - choice_A.appear_time['time'])\n",
    "    with Else():\n",
    "        Debug(choice='B',\n",
    "              rt=w.event_time['time'] - choice_B.appear_time['time'])\n",
    "\n",
    "exp.run()"
   ]
  },
  {
   "cell_type": "markdown",
   "metadata": {
    "slideshow": {
     "slide_type": "slide"
    }
   },
   "source": [
    "# Animations\n",
    "\n",
    "- It's possible to link the attributes of a visual state to a function.\n",
    "- Here we move rectangles based on the mouse position:"
   ]
  },
  {
   "cell_type": "code",
   "execution_count": null,
   "metadata": {},
   "outputs": [],
   "source": [
    "from smile.common import *\n",
    "\n",
    "# set up an experiment\n",
    "exp = Experiment(show_splash=False, debug=True)\n",
    "\n",
    "Wait(1.0)\n",
    "\n",
    "with Parallel():\n",
    "    rect = Rectangle(center_bottom=exp.screen.center_bottom,\n",
    "                     color='white')\n",
    "    r2 = Rectangle(bottom=rect.bottom, color='purple')\n",
    "    r3 = Rectangle(center_top=exp.screen.center_top, color='green')\n",
    "    MouseCursor()\n",
    "with UntilDone():\n",
    "    Wait(until=MouseWithin(rect))\n",
    "    with Meanwhile():\n",
    "        with Parallel():\n",
    "            r2.animate(center_x=lambda t, initial: MousePos()[0])\n",
    "            r3.animate(center_y=lambda t, initial: MousePos()[1])\n",
    "\n",
    "exp.run()"
   ]
  },
  {
   "cell_type": "markdown",
   "metadata": {
    "slideshow": {
     "slide_type": "slide"
    }
   },
   "source": [
    "# Sliding\n",
    "\n",
    "- Visual States have a slide method to set new parameter values over a duration."
   ]
  },
  {
   "cell_type": "code",
   "execution_count": null,
   "metadata": {},
   "outputs": [],
   "source": [
    "from smile.common import *\n",
    "\n",
    "# set up the experiment\n",
    "exp = Experiment(show_splash=False, debug=True)\n",
    "\n",
    "# initial wait\n",
    "Wait(.25)\n",
    "\n",
    "# Put up a circle\n",
    "circ = Ellipse(color=(jitter(0, 1),\n",
    "                      jitter(0, 1),\n",
    "                      jitter(0, 1)))\n",
    "with UntilDone():\n",
    "    Wait(until=circ.appeared)\n",
    "    with Loop(5):\n",
    "        # slide to new loc and color\n",
    "        exp.new_col = (jitter(0, 1),\n",
    "                       jitter(0, 1),\n",
    "                       jitter(0, 1))\n",
    "        exp.new_loc = (jitter(0, exp.screen.width),\n",
    "                       jitter(0, exp.screen.height))\n",
    "        cu = circ.slide(duration=1.5,\n",
    "                        color=exp.new_col,\n",
    "                        center=exp.new_loc)\n",
    "\n",
    "Wait(.25)\n",
    "\n",
    "exp.run()\n"
   ]
  },
  {
   "cell_type": "markdown",
   "metadata": {
    "slideshow": {
     "slide_type": "slide"
    }
   },
   "source": [
    "# Animate and Slide together!"
   ]
  },
  {
   "cell_type": "code",
   "execution_count": null,
   "metadata": {},
   "outputs": [],
   "source": [
    "from smile.common import *\n",
    "from math import cos\n",
    "\n",
    "exp = Experiment(show_splash=False)\n",
    "\n",
    "# add a circle off the screen\n",
    "ellipse = Ellipse(right=exp.screen.left,\n",
    "              center_y=exp.screen.center_y, width=50, height=50,\n",
    "              angle_start=90.0, angle_end=460.0,\n",
    "              color=(1.0, 1.0, 0.0), name=\"Pacman\")\n",
    "\n",
    "with UntilDone():\n",
    "    with Parallel(name=\"Pacman motion\"):\n",
    "        ellipse.slide(left=exp.screen.right, duration=2.0, name=\"Pacman travel\")\n",
    "        ellipse.animate(\n",
    "            angle_start=lambda t, initial: initial + (cos(t * 8) + 1) * 22.5,\n",
    "            angle_end=lambda t, initial: initial - (cos(t * 8) + 1) * 22.5,\n",
    "            duration=4.0, name=\"Pacman gobble\")\n",
    "\n",
    "exp.run()"
   ]
  },
  {
   "cell_type": "markdown",
   "metadata": {
    "slideshow": {
     "slide_type": "slide"
    }
   },
   "source": [
    "# Logging\n",
    "\n",
    "- SMILE states automatically log themselves, so you rarely will lose information if you forget to log it.\n",
    "- It's still much easier to analyze a well-organized log file from your experiment.\n",
    "- Make use of the `Log` state to save out data."
   ]
  },
  {
   "cell_type": "markdown",
   "metadata": {
    "slideshow": {
     "slide_type": "slide"
    }
   },
   "source": [
    "# Subroutines\n",
    "\n",
    "- Functions are a great way to make clean programs when you have chunks of code that are called more than once.\n",
    "- The `Subroutine` decorator allows you to take chunks of state machine and call them like a function."
   ]
  },
  {
   "cell_type": "code",
   "execution_count": null,
   "metadata": {},
   "outputs": [],
   "source": [
    "# when defining the subroutine, you must include self as the first arg\n",
    "@Subroutine\n",
    "def MyTrial(self, text):\n",
    "    Label(text=text)\n",
    "    with UntilDone():\n",
    "        KeyPress()"
   ]
  },
  {
   "cell_type": "markdown",
   "metadata": {
    "slideshow": {
     "slide_type": "slide"
    }
   },
   "source": [
    "# Let's continue learning by building together!\n",
    "\n",
    "- Last class we wrote a list generation and initial Flanker task.\n",
    "- Let's update the frontend experiment to loop over those trials with a subroutine."
   ]
  },
  {
   "cell_type": "markdown",
   "metadata": {
    "slideshow": {
     "slide_type": "slide"
    }
   },
   "source": [
    "# List Gen Function"
   ]
  },
  {
   "cell_type": "code",
   "execution_count": null,
   "metadata": {},
   "outputs": [],
   "source": [
    "import random \n",
    "import copy\n",
    "\n",
    "# define the conditions\n",
    "conds = [{'condition': 'congruent',\n",
    "          'direction': 'left',\n",
    "          'stimulus': '<<<<<<<'\n",
    "         },\n",
    "         {'condition': 'congruent',\n",
    "          'direction': 'right',\n",
    "          'stimulus': '>>>>>>>'\n",
    "         },\n",
    "         {'condition': 'incongruent',\n",
    "          'direction': 'left',\n",
    "          'stimulus': '>>><>>>'\n",
    "         },\n",
    "         {'condition': 'incongruent',\n",
    "          'direction': 'right',\n",
    "          'stimulus': '<<<><<<'\n",
    "         },\n",
    "         {'condition': 'neutral',\n",
    "          'direction': 'left',\n",
    "          'stimulus': '===<==='\n",
    "         },\n",
    "         {'condition': 'neutral',\n",
    "          'direction': 'right',\n",
    "          'stimulus': '===>==='\n",
    "         },]\n",
    "\n",
    "# specify number of reps of these conditions\n",
    "num_reps = 2\n",
    "\n",
    "# loop and create the list\n",
    "trials = []\n",
    "for i in range(num_reps):\n",
    "    # extend the trials with copies of the conditions\n",
    "    trials.extend(copy.deepcopy(conds))\n",
    "\n",
    "# shuffle the trials\n",
    "random.shuffle(trials)\n",
    "\n",
    "print(trials)"
   ]
  },
  {
   "cell_type": "markdown",
   "metadata": {
    "slideshow": {
     "slide_type": "slide"
    }
   },
   "source": [
    "# Goal for each trial\n",
    "\n",
    "- Present the correct stimulus as text on the screen\n",
    "- Wait for a response\n",
    "- Remove the stimulus\n",
    "- Wait for an inter-stimulus interval\n",
    "- Log the result of the trial"
   ]
  },
  {
   "cell_type": "code",
   "execution_count": null,
   "metadata": {
    "slideshow": {
     "slide_type": "slide"
    }
   },
   "outputs": [],
   "source": [
    "from smile.common import *\n",
    "\n",
    "font_size = 75\n",
    "resp_keys = ['F', 'J']\n",
    "ISI_dur = 0.3\n",
    "ISI_jitter = 0.2\n",
    "\n",
    "# create the experiment\n",
    "exp = Experiment(show_splash=False, fullscreen=False)\n",
    "\n",
    "var = 40\n",
    "\n",
    "@Subroutine\n",
    "def Trial(self, cur_trial):\n",
    "    stim = Label(text=cur_trial['stimulus'], center=exp.screen.center - var,\n",
    "                 font_size=font_size)\n",
    "    with UntilDone():\n",
    "        kp = KeyPress(keys=resp_keys)\n",
    "    \n",
    "    Wait(ISI_dur, jitter=ISI_jitter)\n",
    "    \n",
    "    Log(cur_trial, name='flanker',\n",
    "        stim_on=stim.appear_time,\n",
    "        resp=kp.pressed,\n",
    "        resp_time=kp.press_time\n",
    "       )\n",
    "    \n",
    "# show the stimulus (will default to center of the screen)\n",
    "with Loop(trials) as trial:\n",
    "    Trial(trial.current)\n",
    "\n",
    "# run the experiment\n",
    "exp.run()"
   ]
  },
  {
   "cell_type": "markdown",
   "metadata": {
    "slideshow": {
     "slide_type": "slide"
    }
   },
   "source": [
    "## Assignment before next class\n",
    "\n",
    "- We'll be posting the SMILE assignment soon.\n",
    "- Continue familiarizing yourself with SMILE, since that will be front and center for the next assignment.\n",
    "\n",
    "\n",
    "### See you next week!!!"
   ]
  }
 ],
 "metadata": {
  "celltoolbar": "Slideshow",
  "kernelspec": {
   "display_name": "Python 3",
   "language": "python",
   "name": "python3"
  },
  "language_info": {
   "codemirror_mode": {
    "name": "ipython",
    "version": 3
   },
   "file_extension": ".py",
   "mimetype": "text/x-python",
   "name": "python",
   "nbconvert_exporter": "python",
   "pygments_lexer": "ipython3",
   "version": "3.8.3"
  },
  "rise": {
   "scroll": true
  }
 },
 "nbformat": 4,
 "nbformat_minor": 2
}
