{
 "cells": [
  {
   "cell_type": "markdown",
   "metadata": {
    "slideshow": {
     "slide_type": "slide"
    }
   },
   "source": [
    "# Intro to Jupyter and Python\n",
    "## Computational Methods in Psychology (and Neuroscience)\n",
    "### Psychology 4500/7559 --- Fall 2020\n",
    "By: Per B. Sederberg, PhD\n",
    "\n"
   ]
  },
  {
   "cell_type": "markdown",
   "metadata": {
    "slideshow": {
     "slide_type": "slide"
    }
   },
   "source": [
    "# Lesson Objectives\n",
    "\n",
    "Upon completion of this lesson, students should be able to:\n",
    "\n",
    "1. Start and use a Jupyter Notebook\n",
    "2. Identify three kinds of errors that occur in programming and describe \n",
    "   how to correct them\n",
    "3. Identify the data types and keywords in the Python language\n",
    "4. Understand how variable assignment works in Python\n",
    "5. Identify and use math, string, and comparison operators\n",
    "6. Use conditional statements in Python\n",
    "7. Use Boolean logic to create complex conditionals\n",
    "8. Use the \"for\" statement to create loops\n",
    "9. Write in-code comments\n",
    "10. State the purpose of functions and modules in Python\n",
    "11. Use built-in functions\n",
    "12. Create custom void functions and functions that return a value\n",
    "13. Use parameters to make functions generalizable\n",
    "14. Use docstrings to document function interfaces\n",
    "\n",
    "Whew!!!\n"
   ]
  },
  {
   "cell_type": "markdown",
   "metadata": {
    "slideshow": {
     "slide_type": "slide"
    }
   },
   "source": [
    "# A short intro to...\n",
    "\n",
    "![Python](https://www.python.org/static/img/python-logo.png)\n",
    "\n",
    "The Python programming language was invented by Guido van Rossum, who just recently stepped down as benevelont dictator for life to be replaced by an elected steering committee. \n",
    "\n",
    "Python has a set of core principles provided by the Zen of Python, which are available within Python, itself (so Zen, right?!):"
   ]
  },
  {
   "cell_type": "code",
   "execution_count": 1,
   "metadata": {
    "slideshow": {
     "slide_type": "slide"
    }
   },
   "outputs": [
    {
     "name": "stdout",
     "output_type": "stream",
     "text": [
      "The Zen of Python, by Tim Peters\n",
      "\n",
      "Beautiful is better than ugly.\n",
      "Explicit is better than implicit.\n",
      "Simple is better than complex.\n",
      "Complex is better than complicated.\n",
      "Flat is better than nested.\n",
      "Sparse is better than dense.\n",
      "Readability counts.\n",
      "Special cases aren't special enough to break the rules.\n",
      "Although practicality beats purity.\n",
      "Errors should never pass silently.\n",
      "Unless explicitly silenced.\n",
      "In the face of ambiguity, refuse the temptation to guess.\n",
      "There should be one-- and preferably only one --obvious way to do it.\n",
      "Although that way may not be obvious at first unless you're Dutch.\n",
      "Now is better than never.\n",
      "Although never is often better than *right* now.\n",
      "If the implementation is hard to explain, it's a bad idea.\n",
      "If the implementation is easy to explain, it may be a good idea.\n",
      "Namespaces are one honking great idea -- let's do more of those!\n"
     ]
    }
   ],
   "source": [
    "import this"
   ]
  },
  {
   "cell_type": "markdown",
   "metadata": {
    "slideshow": {
     "slide_type": "slide"
    }
   },
   "source": [
    "## Objects everywhere!\n",
    "\n",
    "Python is an object-oriented language and supports (though does not require) an object-oriented programming model. This simply means it makes it easy to create new objects, inheriting features from other objects."
   ]
  },
  {
   "cell_type": "markdown",
   "metadata": {
    "slideshow": {
     "slide_type": "slide"
    }
   },
   "source": [
    "## What is an object?\n",
    "\n",
    "Everything (yes, everything) in Python is an object (or an instance of an object), which is really useful!\n",
    "\n",
    "- Objects have *attributes* that tell us about that object instance\n",
    "- Objects can have *methods* that a functions that object can perform\n"
   ]
  },
  {
   "cell_type": "markdown",
   "metadata": {
    "slideshow": {
     "slide_type": "slide"
    }
   },
   "source": [
    "## What is an instance?\n",
    "\n",
    "When you initialize an object, you create an *instance* of it, taking up memory in the computer. \n",
    "\n",
    "Thus, any variable we define is simply pointing the variable's name (in the current namespace) to a chunk of memory containing the instance of that object.\n",
    "\n",
    "Python keeps track of all object instances and cleans them when they are no longer needed."
   ]
  },
  {
   "cell_type": "code",
   "execution_count": 3,
   "metadata": {
    "slideshow": {
     "slide_type": "slide"
    }
   },
   "outputs": [
    {
     "data": {
      "text/plain": [
       "int"
      ]
     },
     "execution_count": 3,
     "metadata": {},
     "output_type": "execute_result"
    }
   ],
   "source": [
    "# let's make an int object instance\n",
    "x = 42\n",
    "type(x)"
   ]
  },
  {
   "cell_type": "code",
   "execution_count": 3,
   "metadata": {
    "slideshow": {
     "slide_type": "slide"
    }
   },
   "outputs": [
    {
     "data": {
      "text/plain": [
       "42"
      ]
     },
     "execution_count": 3,
     "metadata": {},
     "output_type": "execute_result"
    }
   ],
   "source": [
    "# let's explore x\n",
    "# (press tab after x.<tab>)\n",
    "x"
   ]
  },
  {
   "cell_type": "code",
   "execution_count": 1,
   "metadata": {
    "slideshow": {
     "slide_type": "slide"
    }
   },
   "outputs": [
    {
     "data": {
      "text/plain": [
       "str"
      ]
     },
     "execution_count": 1,
     "metadata": {},
     "output_type": "execute_result"
    }
   ],
   "source": [
    "y = 'The answer to the ultimate question.'\n",
    "type(y)\n"
   ]
  },
  {
   "cell_type": "markdown",
   "metadata": {
    "slideshow": {
     "slide_type": "slide"
    }
   },
   "source": [
    "# Now let's jump in with both feet\n",
    "\n",
    "![](https://kids.nationalgeographic.com/content/dam/kids/photos/animals/Birds/A-G/adelie-penguin-jumping-ocean.jpg)"
   ]
  },
  {
   "cell_type": "markdown",
   "metadata": {
    "slideshow": {
     "slide_type": "slide"
    }
   },
   "source": [
    "## Commands (a.k.a, instruction)\n",
    "\n",
    "- A command or instruction tells the computer to take some action\n",
    "- Commands have a *syntax*:\n",
    "\n",
    "```python\n",
    "   3 + 7   # good\n",
    "   3 7 +   # bad\n",
    "```\n",
    "- In Python, commands are *interpreted*"
   ]
  },
  {
   "cell_type": "markdown",
   "metadata": {
    "slideshow": {
     "slide_type": "slide"
    }
   },
   "source": [
    "## Programs\n",
    "\n",
    "- A program is a sequence of commands\n",
    "\n",
    "  - Input\n",
    "  - Output\n",
    "  - Math and data manipulation\n",
    "  - Conditional execution\n",
    "  - Repetition"
   ]
  },
  {
   "cell_type": "markdown",
   "metadata": {
    "slideshow": {
     "slide_type": "slide"
    }
   },
   "source": [
    "## Scripts\n",
    "\n",
    "- A script is a file that contains a program in a high-level language for an interpreter\n",
    "- Python scripts are text files ending in .py\n",
    "  - e.g., HelloWorld.py\n",
    "\n",
    "```python\n",
    "    print('Hello, World!')\n",
    "```"
   ]
  },
  {
   "cell_type": "markdown",
   "metadata": {
    "slideshow": {
     "slide_type": "slide"
    }
   },
   "source": [
    "## Scripts (example)\n",
    "\n",
    "- Open a text editor (e.g., Notepad, nano, etc...) and create a file called `hello.py` with the following contents (not indented):\n",
    "\n",
    "```python\n",
    "name = input('What is your name? ')\n",
    "print('Hello,', name)\n",
    "```"
   ]
  },
  {
   "cell_type": "markdown",
   "metadata": {
    "slideshow": {
     "slide_type": "slide"
    }
   },
   "source": [
    "## Executing scripts\n",
    "\n",
    "- Python scripts are run in a \"shell\"\n",
    "\n",
    "- This can be a terminal shell (OS X, Linux, Unix) or command prompt window \n",
    "  (MS Windows), or an interactive interpreter (IPython/Jupyter Notebook)\n",
    "  \n",
    "- We'll run that script right in our notebook (though you could also call `python hello.py` from your Anaconda Prompt or Terminal)"
   ]
  },
  {
   "cell_type": "code",
   "execution_count": 5,
   "metadata": {},
   "outputs": [
    {
     "name": "stdout",
     "output_type": "stream",
     "text": [
      "What is your name? Per\n",
      "Hello, Per\n"
     ]
    }
   ],
   "source": [
    "run hello.py"
   ]
  },
  {
   "cell_type": "markdown",
   "metadata": {
    "slideshow": {
     "slide_type": "slide"
    }
   },
   "source": [
    "# Jupyter Notebooks\n",
    "\n",
    "From the [Jupyter](https://jupyter.org) website:\n",
    "\n",
    "\n",
    "> The Jupyter Notebook is an open-source web application that allows you to create and share documents that contain live code, equations, visualizations and narrative text. Uses include: data cleaning and transformation, numerical simulation, statistical modeling, data visualization, machine learning, and much more.\n",
    "\n",
    "\n",
    "Thus, it's an interactive way of interspersing code, text, and graphics, akin to a dynamic electronic lab notebook. \n",
    "\n",
    "***Let's spend some time now getting started using Jupyter Notebooks!***"
   ]
  },
  {
   "cell_type": "markdown",
   "metadata": {
    "slideshow": {
     "slide_type": "slide"
    }
   },
   "source": [
    "### A quick tour of Jupyter notebook features...\n",
    "\n",
    "- Client/Server architecture\n",
    "- Cells of code/text\n",
    "- HTML-based front-end\n",
    "- Cell output can be tables and (interactive) graphics"
   ]
  },
  {
   "cell_type": "markdown",
   "metadata": {
    "slideshow": {
     "slide_type": "slide"
    }
   },
   "source": [
    "### Markdown cells can have fancy formatting:\n",
    "\n",
    "- Headings with #, ##, ###, etc...\n",
    "- *italics*\n",
    "- **bold**\n",
    "- Inline equations like $t_i = \\rho t_{i-1} + (1 - \\rho)f_i$\n",
    "- Or a full equation on its on line:\n",
    "\n",
    "  $$\\frac{dx}{dt} = \\frac{(\\rho - \\kappa x)}{\\tau}$$\n",
    "- Images:\n",
    "  ![](https://jupyter.org/assets/main-logo.svg)\n",
    "- Tables:\n",
    "\n",
    "| This | is   |\n",
    "|------|------|\n",
    "|   a  | table|"
   ]
  },
  {
   "cell_type": "markdown",
   "metadata": {
    "slideshow": {
     "slide_type": "slide"
    }
   },
   "source": [
    "## Notes on Notebooks\n",
    "\n",
    "***NOTE 1***: If you need help doing something in a Jupyter notebook, come back to this mini tutorial or Google it!\n",
    "\n",
    "***NOTE 2***: If you click the `Help` menu at the top, and then select `User Inteface Tour`, the notebook will walk you through all of its most useful features. "
   ]
  },
  {
   "cell_type": "markdown",
   "metadata": {
    "slideshow": {
     "slide_type": "slide"
    }
   },
   "source": [
    "## Starting a Jupyter Notebook \n",
    "\n",
    "Our general workflow will be as follows:\n",
    "\n",
    "0. Open the Anaconda Prompt/Terminal.\n",
    "1. Navigate via `cd` to the directory where you have cloned the `compsy` repo.\n",
    "2. Ensure your *virtual environment* is active: `conda activate compsy`\n",
    "3. Start up the jupyter notebook server, which will open a web-based file browser: `jupyter notebook`\n",
    "4. Identify the notebook you'd like to open and `Duplicate` it if it's one of the notebooks provided by the class repo:\n",
    "  - Check the box to the left of the filename.\n",
    "  - Click the button that appears at the top of the list called `Duplicate`.\n",
    "  - Agree to `Duplicate` on the pop-up window.\n",
    "  - Follow similar steps to `Rename` the notebook appending your computing id (e.g., `01_Introduction_mst3k`.\n",
    "5. Click the name of the notebook to open a new tab with the notebook. This will also start a new Python kernel running in the background\n",
    "  - NOTE: It is important to select `File -> Close and Halt` once you've saved your work and are done working with a notebook, otherwise you might run through your computer's RAM."
   ]
  },
  {
   "cell_type": "markdown",
   "metadata": {
    "slideshow": {
     "slide_type": "slide"
    }
   },
   "source": [
    "## The Two Modes\n",
    "\n",
    "- **Edit mode**: When you double-click or press `Enter` in a cell, you are able to modify its contents. \n",
    "  - It works just like any other place where you can type text (ctrl-c, ctrl-v, etc).\n",
    "- **Command mode**: Pressing `Esc` or clicking outside the cell will put you into the mode that allows you to navigate, reorder, and modify the cell types. \n",
    "  - For example, you can combine, split, create and delete cells, move them around, convert them between code and markdown modes, etc... \n",
    " "
   ]
  },
  {
   "cell_type": "markdown",
   "metadata": {
    "slideshow": {
     "slide_type": "slide"
    }
   },
   "source": [
    "# Back to Python (now all in Jupyter)\n",
    "\n",
    "![](https://jupyter.org/assets/nav_logo.svg)\n"
   ]
  },
  {
   "cell_type": "markdown",
   "metadata": {
    "slideshow": {
     "slide_type": "slide"
    }
   },
   "source": [
    "## Debugging\n",
    "\n",
    "\n",
    "- You will make mistakes while programming!\n",
    "- Mistakes are called *bugs*\n",
    "- The process of finding and fixing bugs is *debugging*\n",
    "- There are 3 main types of errors you will encounter\n"
   ]
  },
  {
   "cell_type": "markdown",
   "metadata": {
    "slideshow": {
     "slide_type": "slide"
    }
   },
   "source": [
    "## Syntax Errors\n",
    "\n",
    "- All programming languages are picky about syntax"
   ]
  },
  {
   "cell_type": "code",
   "execution_count": 6,
   "metadata": {},
   "outputs": [
    {
     "ename": "SyntaxError",
     "evalue": "invalid syntax (<ipython-input-6-2c0ff172c1bf>, line 1)",
     "output_type": "error",
     "traceback": [
      "\u001b[0;36m  File \u001b[0;32m\"<ipython-input-6-2c0ff172c1bf>\"\u001b[0;36m, line \u001b[0;32m1\u001b[0m\n\u001b[0;31m    1+2) + 3\u001b[0m\n\u001b[0m       ^\u001b[0m\n\u001b[0;31mSyntaxError\u001b[0m\u001b[0;31m:\u001b[0m invalid syntax\n"
     ]
    }
   ],
   "source": [
    "1+2) + 3"
   ]
  },
  {
   "cell_type": "markdown",
   "metadata": {},
   "source": [
    "    \n",
    "- Syntax errors can be identified \n",
    "\n",
    "  - automated code checking and highlighting (color coding)\n",
    "  - error messages when you try to run a command or script\n",
    "\n",
    "- Use documentation, help, and Google when in doubt!"
   ]
  },
  {
   "cell_type": "markdown",
   "metadata": {
    "slideshow": {
     "slide_type": "slide"
    }
   },
   "source": [
    "## Runtime errors\n",
    "\n",
    "- Errors that occur when program is running\n",
    "- Also called \"exceptions\"\n",
    "- Ex: runtime.py\n",
    "- Identified by testing the program\n"
   ]
  },
  {
   "cell_type": "code",
   "execution_count": 7,
   "metadata": {},
   "outputs": [
    {
     "ename": "ZeroDivisionError",
     "evalue": "division by zero",
     "output_type": "error",
     "traceback": [
      "\u001b[0;31m---------------------------------------------------------------------------\u001b[0m",
      "\u001b[0;31mZeroDivisionError\u001b[0m                         Traceback (most recent call last)",
      "\u001b[0;32m<ipython-input-7-84c4de9a1b42>\u001b[0m in \u001b[0;36m<module>\u001b[0;34m\u001b[0m\n\u001b[0;32m----> 1\u001b[0;31m \u001b[0;36m1\u001b[0m\u001b[0;34m/\u001b[0m\u001b[0;34m(\u001b[0m\u001b[0;36m1\u001b[0m\u001b[0;34m-\u001b[0m\u001b[0;36m1\u001b[0m\u001b[0;34m)\u001b[0m\u001b[0;34m\u001b[0m\u001b[0;34m\u001b[0m\u001b[0m\n\u001b[0m",
      "\u001b[0;31mZeroDivisionError\u001b[0m: division by zero"
     ]
    }
   ],
   "source": [
    "1/(1-1)"
   ]
  },
  {
   "cell_type": "markdown",
   "metadata": {
    "slideshow": {
     "slide_type": "slide"
    }
   },
   "source": [
    "## Semantic or logical error\n",
    "\n",
    "- The worst kind!!!\n",
    "- Program runs (and does exactly what you told it to do)\n",
    "- But you made a mistake in the design or implementation\n",
    "- Identified by testing program and checking results"
   ]
  },
  {
   "cell_type": "code",
   "execution_count": 8,
   "metadata": {},
   "outputs": [
    {
     "data": {
      "text/plain": [
       "6"
      ]
     },
     "execution_count": 8,
     "metadata": {},
     "output_type": "execute_result"
    }
   ],
   "source": [
    "def sum(x,y):\n",
    "    return x*y\n",
    "\n",
    "sum(2,3)\n"
   ]
  },
  {
   "cell_type": "markdown",
   "metadata": {},
   "source": [
    "## Data types\n",
    "\n",
    "- Built-in\n",
    "\n",
    "  - Numeric types:\n",
    "\n",
    "    - int, float, long, complex \n",
    "\n",
    "  - string\n",
    "\n",
    "  - Boolean\n",
    "\n",
    "    - True / False\n",
    "\n",
    "- User defined"
   ]
  },
  {
   "cell_type": "markdown",
   "metadata": {
    "slideshow": {
     "slide_type": "slide"
    }
   },
   "source": [
    "## Data types (cont.)\n",
    "\n",
    "- Use the type() function to find the type for a value or variable\n",
    "- Data can *often* be converted using cast commands:"
   ]
  },
  {
   "cell_type": "code",
   "execution_count": 9,
   "metadata": {},
   "outputs": [
    {
     "data": {
      "text/plain": [
       "int"
      ]
     },
     "execution_count": 9,
     "metadata": {},
     "output_type": "execute_result"
    }
   ],
   "source": [
    "a = 17\n",
    "type(a)"
   ]
  },
  {
   "cell_type": "code",
   "execution_count": 10,
   "metadata": {},
   "outputs": [
    {
     "data": {
      "text/plain": [
       "str"
      ]
     },
     "execution_count": 10,
     "metadata": {},
     "output_type": "execute_result"
    }
   ],
   "source": [
    "b = str(17)\n",
    "type(b)"
   ]
  },
  {
   "cell_type": "code",
   "execution_count": 11,
   "metadata": {},
   "outputs": [
    {
     "ename": "ValueError",
     "evalue": "invalid literal for int() with base 10: '3a'",
     "output_type": "error",
     "traceback": [
      "\u001b[0;31m---------------------------------------------------------------------------\u001b[0m",
      "\u001b[0;31mValueError\u001b[0m                                Traceback (most recent call last)",
      "\u001b[0;32m<ipython-input-11-d2fbe0b002b4>\u001b[0m in \u001b[0;36m<module>\u001b[0;34m\u001b[0m\n\u001b[0;32m----> 1\u001b[0;31m \u001b[0mint\u001b[0m\u001b[0;34m(\u001b[0m\u001b[0;34m'3a'\u001b[0m\u001b[0;34m)\u001b[0m\u001b[0;34m\u001b[0m\u001b[0;34m\u001b[0m\u001b[0m\n\u001b[0m",
      "\u001b[0;31mValueError\u001b[0m: invalid literal for int() with base 10: '3a'"
     ]
    }
   ],
   "source": [
    "int('3a')"
   ]
  },
  {
   "cell_type": "markdown",
   "metadata": {
    "slideshow": {
     "slide_type": "slide"
    }
   },
   "source": [
    "## Variables\n",
    "\n",
    "- As in mathematics, much of the power of computer programs is in the use of variables\n",
    "- Python variables are identified by name\n",
    "\n",
    "### Variable naming conventions\n",
    "\n",
    "- Must start with a letter\n",
    "- Can contain letters, numbers, and underscore character (_)\n",
    "- Can be any (reasonable) length\n",
    "- Case sensitive\n",
    " - `big` is NOT the same as `BIG` or `Big`\n"
   ]
  },
  {
   "cell_type": "markdown",
   "metadata": {
    "slideshow": {
     "slide_type": "slide"
    }
   },
   "source": [
    "## Naming style guidelines\n",
    "\n",
    "The Python community provides clear style guidelines (PEP8): https://www.python.org/dev/peps/pep-0008/\n",
    "\n",
    "- Use descriptive names\n",
    "\n",
    "- Use lowercase with underscores for variable names\n",
    "\n",
    "  - pres_rate\n",
    "  - word_stim\n",
    "\n",
    "- Don't use \"I\", \"l\", or \"O\" for single letter names\n",
    "\n",
    "- Be consistent"
   ]
  },
  {
   "cell_type": "markdown",
   "metadata": {
    "slideshow": {
     "slide_type": "slide"
    }
   },
   "source": [
    "## Keywords\n",
    "\n",
    "The following words are not allowed as variable names:\n",
    "\n",
    "```\n",
    "False      class      finally    is         return\n",
    "None       continue   for        lambda     try\n",
    "True       def        from       nonlocal   while\n",
    "and        del        global     not        with\n",
    "as         elif       if         or         yield\n",
    "assert     else       import     pass\n",
    "break      except     in         raise\n",
    "```"
   ]
  },
  {
   "cell_type": "markdown",
   "metadata": {
    "slideshow": {
     "slide_type": "slide"
    }
   },
   "source": [
    "## Assignment and initialization\n",
    "\n",
    "- Variables can be created at any time (no need to declare them)\n",
    "- The Python interpreter keeps track of the `namespace`\n",
    "- Variable names are actually pointers to memory locations\n",
    "- Two variables can refer to the same memory location"
   ]
  },
  {
   "cell_type": "code",
   "execution_count": 5,
   "metadata": {},
   "outputs": [
    {
     "data": {
      "text/plain": [
       "True"
      ]
     },
     "execution_count": 5,
     "metadata": {},
     "output_type": "execute_result"
    }
   ],
   "source": [
    "a = \"Howdy\"\n",
    "b = a\n",
    "a is b"
   ]
  },
  {
   "cell_type": "code",
   "execution_count": 13,
   "metadata": {},
   "outputs": [
    {
     "data": {
      "text/plain": [
       "'Howdy'"
      ]
     },
     "execution_count": 13,
     "metadata": {},
     "output_type": "execute_result"
    }
   ],
   "source": [
    "b"
   ]
  },
  {
   "cell_type": "markdown",
   "metadata": {
    "slideshow": {
     "slide_type": "slide"
    }
   },
   "source": [
    "## Math operators\n",
    "\n",
    "- Arithmetic\n",
    "\n",
    "  - +, -, *, and /\n",
    "  - Exponentiation **\n",
    "  - Modulo %\n",
    "\n",
    "- Standard order of operations (PEMDAS)\n",
    "\n",
    "| | |\n",
    "|--|--------|\n",
    "|P|Parentheses first|\n",
    "|E|Exponents (ie Powers and Square Roots, etc.)|\n",
    "|MD|Multiplication and Division (left-to-right)|\n",
    "|AS|Addition and Subtraction (left-to-right)|\n",
    "  \n"
   ]
  },
  {
   "cell_type": "markdown",
   "metadata": {
    "slideshow": {
     "slide_type": "slide"
    }
   },
   "source": [
    "## Math operators (examples)"
   ]
  },
  {
   "cell_type": "code",
   "execution_count": 9,
   "metadata": {},
   "outputs": [
    {
     "data": {
      "text/plain": [
       "23"
      ]
     },
     "execution_count": 9,
     "metadata": {},
     "output_type": "execute_result"
    }
   ],
   "source": [
    "3 + 10 * 2"
   ]
  },
  {
   "cell_type": "code",
   "execution_count": 15,
   "metadata": {},
   "outputs": [
    {
     "data": {
      "text/plain": [
       "26"
      ]
     },
     "execution_count": 15,
     "metadata": {},
     "output_type": "execute_result"
    }
   ],
   "source": [
    "(3 + 10) * 2"
   ]
  },
  {
   "cell_type": "code",
   "execution_count": 16,
   "metadata": {},
   "outputs": [
    {
     "data": {
      "text/plain": [
       "103"
      ]
     },
     "execution_count": 16,
     "metadata": {},
     "output_type": "execute_result"
    }
   ],
   "source": [
    "3 + 10**2"
   ]
  },
  {
   "cell_type": "code",
   "execution_count": 17,
   "metadata": {},
   "outputs": [
    {
     "data": {
      "text/plain": [
       "6.5"
      ]
     },
     "execution_count": 17,
     "metadata": {},
     "output_type": "execute_result"
    }
   ],
   "source": [
    " (3 + 10) / 2"
   ]
  },
  {
   "cell_type": "markdown",
   "metadata": {
    "slideshow": {
     "slide_type": "slide"
    }
   },
   "source": [
    "## String operators\n",
    "\n",
    "- String concatenation uses the `+` sign:"
   ]
  },
  {
   "cell_type": "code",
   "execution_count": 18,
   "metadata": {},
   "outputs": [
    {
     "name": "stdout",
     "output_type": "stream",
     "text": [
      "this is a string\n"
     ]
    }
   ],
   "source": [
    "print('this' + ' is a string')"
   ]
  },
  {
   "cell_type": "markdown",
   "metadata": {},
   "source": [
    "- String repetition uses the `*`"
   ]
  },
  {
   "cell_type": "code",
   "execution_count": 19,
   "metadata": {},
   "outputs": [
    {
     "name": "stdout",
     "output_type": "stream",
     "text": [
      "Spam! Spam! Spam! Spam! \n"
     ]
    }
   ],
   "source": [
    "lunch = 'Spam! ' * 4\n",
    "print(lunch)"
   ]
  },
  {
   "cell_type": "markdown",
   "metadata": {
    "slideshow": {
     "slide_type": "slide"
    }
   },
   "source": [
    "## Comparison operators\n",
    "\n",
    "- Perform logical comparison and return Boolean value\n",
    "\n",
    "  - Equality: `==`\n",
    "  - Inequality\t`!=`\n",
    "  - Relative value `<` `>` `<=` `>=`\n",
    "  - `is` (test whether two variables point to the *same* object)\n"
   ]
  },
  {
   "cell_type": "code",
   "execution_count": 20,
   "metadata": {},
   "outputs": [
    {
     "data": {
      "text/plain": [
       "False"
      ]
     },
     "execution_count": 20,
     "metadata": {},
     "output_type": "execute_result"
    }
   ],
   "source": [
    "a = [1,2,3]\n",
    "b = [1,2,3]\n",
    "a is b"
   ]
  },
  {
   "cell_type": "markdown",
   "metadata": {
    "slideshow": {
     "slide_type": "slide"
    }
   },
   "source": [
    "## Numerical types\n",
    "\n",
    "- Integer variables::\n",
    "b\n",
    "    >>> 1 + 1\n",
    "    2\n",
    "    >>> a = 4\n",
    "\n",
    "\n",
    "floats ::\n",
    "\n",
    "    >>> c = 2.1\n",
    "\n",
    "complex (a native type in Python!) ::\n",
    "\n",
    "    >>> a = 1.5 + 0.5j\n",
    "    >>> a.real\n",
    "    1.5\n",
    "    >>> a.imag\n",
    "    0.5\n",
    "\n",
    "and booleans::\n",
    "\n",
    "    >>> 3 > 4\n",
    "    False\n",
    "    >>> test = (3 > 4)\n",
    "    >>> test\n",
    "    False\n",
    "    >>> type(test)\n",
    "    <type 'bool'>"
   ]
  },
  {
   "cell_type": "markdown",
   "metadata": {
    "slideshow": {
     "slide_type": "slide"
    }
   },
   "source": [
    "## Conditional execution (if...)\n",
    "\n",
    "- Syntax (note the indented section):\n",
    "```python\n",
    "  if condition:\n",
    "      do_something\n",
    "```\n",
    "- Condition must be statement that evaluates to a boolean value (True or False)\n",
    "\n"
   ]
  },
  {
   "cell_type": "code",
   "execution_count": 22,
   "metadata": {},
   "outputs": [
    {
     "name": "stdout",
     "output_type": "stream",
     "text": [
      "x = 33\n",
      "You entered a digit!\n"
     ]
    }
   ],
   "source": [
    "x = input('x = ')\n",
    "if x.isdigit():\n",
    "    print('You entered a digit!')"
   ]
  },
  {
   "cell_type": "markdown",
   "metadata": {
    "slideshow": {
     "slide_type": "slide"
    }
   },
   "source": [
    "## Alternative execution\n",
    "\n",
    "- Syntax:\n",
    "\n",
    "```python\n",
    "   if condition:\n",
    "      do_something\n",
    "   else:\n",
    "      do_alternative\n",
    "```\n"
   ]
  },
  {
   "cell_type": "code",
   "execution_count": 24,
   "metadata": {},
   "outputs": [
    {
     "name": "stdout",
     "output_type": "stream",
     "text": [
      "x = 3a\n",
      "You did not enter a digit!\n"
     ]
    }
   ],
   "source": [
    "x = input('x = ')\n",
    "if x.isdigit():\n",
    "    print('You entered a digit!')\n",
    "else:\n",
    "    print('You did not enter a digit!')"
   ]
  },
  {
   "cell_type": "markdown",
   "metadata": {
    "slideshow": {
     "slide_type": "slide"
    }
   },
   "source": [
    "## Chained conditionals\n",
    "\n",
    "Conditions are evaluated in order and once one it met, the associated code is run.\n",
    "\n",
    "- Syntax:\n",
    "\n",
    "```python\n",
    "    if condition:\n",
    "        do_something\n",
    "    elif condition:\n",
    "        do_alternative1\n",
    "    else:\n",
    "        do_alternative2\n",
    "```\n",
    "\n",
    "- NOTE: The `else` at the end is *not* required, so it may be that nothing runs."
   ]
  },
  {
   "cell_type": "markdown",
   "metadata": {
    "slideshow": {
     "slide_type": "slide"
    }
   },
   "source": [
    "## Complex condition statements\n",
    "\n",
    "- Use Boolean logic operators `and`, `or`, and `not` to chain together simple conditions:\n"
   ]
  },
  {
   "cell_type": "code",
   "execution_count": 25,
   "metadata": {},
   "outputs": [
    {
     "name": "stdout",
     "output_type": "stream",
     "text": [
      "x = 1\n",
      "y = 2\n",
      "z = 2\n",
      "x = y OR y = z\n",
      "x = y = z is False\n"
     ]
    }
   ],
   "source": [
    "x = int(input(\"x = \"))\n",
    "y = int(input(\"y = \"))\n",
    "z = int(input(\"z = \"))\n",
    "\n",
    "if x == y and y == z:\n",
    "    print('x = y = z')\n",
    "if x == y or y == z:\n",
    "    print('x = y OR y = z')\n",
    "if not (x == y and x == z):\n",
    "    print('x = y = z is False')\n"
   ]
  },
  {
   "cell_type": "markdown",
   "metadata": {
    "slideshow": {
     "slide_type": "slide"
    }
   },
   "source": [
    "## Notes on conditionals\n",
    "\n",
    "- You have to have at least one statement inside each branch\n",
    "- You can use the `pass` command while stubbing\n",
    "\n",
    "```python\n",
    "   if x < 0:\n",
    "       pass # Handle neg values \n",
    "```\n",
    "\n",
    "- You can have as many `elif` branches as you need\n",
    "- Conditionals can be nested\n"
   ]
  },
  {
   "cell_type": "markdown",
   "metadata": {
    "slideshow": {
     "slide_type": "slide"
    }
   },
   "source": [
    "## The `for` loop\n",
    "\n",
    "- Used to repeat a section of code a set number of times\n",
    "- Syntax:\n",
    "\n",
    "```python\n",
    "    for target in sequence:\n",
    "        do_statements\n",
    "```"
   ]
  },
  {
   "cell_type": "code",
   "execution_count": 26,
   "metadata": {},
   "outputs": [
    {
     "name": "stdout",
     "output_type": "stream",
     "text": [
      "0\n",
      "1\n",
      "2\n",
      "3\n",
      "4\n",
      "5\n",
      "6\n",
      "7\n",
      "8\n",
      "9\n"
     ]
    }
   ],
   "source": [
    "for i in range(10):\n",
    "    print(i)"
   ]
  },
  {
   "cell_type": "code",
   "execution_count": 27,
   "metadata": {},
   "outputs": [
    {
     "name": "stdout",
     "output_type": "stream",
     "text": [
      "Enter a number: 22\n",
      "Cumsum of 22 is 253\n"
     ]
    }
   ],
   "source": [
    "# ask for a number\n",
    "x = int(input('Enter a number: '))\n",
    "\n",
    "# initialize our cumulative sum\n",
    "csum = 0\n",
    "\n",
    "# loop and calculate the cumulative sum\n",
    "for i in range(1, x+1):\n",
    "    csum += i\n",
    "\n",
    "print('Cumsum of %d is %d' % (x, csum))"
   ]
  },
  {
   "cell_type": "markdown",
   "metadata": {
    "slideshow": {
     "slide_type": "slide"
    }
   },
   "source": [
    "## Commenting your code\n",
    "\n",
    "- The `#` symbol indicates the rest of the line is a comment\n",
    "- The Python interpreter ignores everything after the `#`\n",
    "- ***Use comments liberally***!!!\n"
   ]
  },
  {
   "cell_type": "markdown",
   "metadata": {
    "slideshow": {
     "slide_type": "slide"
    }
   },
   "source": [
    "## What is a function?\n",
    "\n",
    "- A named sequence of statements that performs a computation or action\n",
    "- Functions are called by name\n",
    "- Most functions accept inputs (arguments)\n",
    "- Some functions return results (return value)\n"
   ]
  },
  {
   "cell_type": "markdown",
   "metadata": {
    "slideshow": {
     "slide_type": "slide"
    }
   },
   "source": [
    "## We've already seen some functions\n",
    "\n",
    "- `type()`\n",
    "\n",
    "- Type casting functions\n",
    "\n",
    "  - `int()`, `float()`, `str()`\n",
    "\n",
    "- `input()`\n",
    "\n",
    "- `range()`"
   ]
  },
  {
   "cell_type": "markdown",
   "metadata": {
    "slideshow": {
     "slide_type": "slide"
    }
   },
   "source": [
    "## Creating your own functions\n",
    "\n",
    "- You have to define the function"
   ]
  },
  {
   "cell_type": "code",
   "execution_count": 28,
   "metadata": {},
   "outputs": [
    {
     "name": "stdout",
     "output_type": "stream",
     "text": [
      "I'm a lumberjack, and I'm okay.\n",
      "I sleep all night and I work all day.\n"
     ]
    }
   ],
   "source": [
    "def print_lyrics():\n",
    "    print(\"I'm a lumberjack, and I'm okay.\")\n",
    "    print(\"I sleep all night and I work all day.\")\n",
    "\n",
    "# the parentheses are important\n",
    "print_lyrics()"
   ]
  },
  {
   "cell_type": "markdown",
   "metadata": {
    "slideshow": {
     "slide_type": "slide"
    }
   },
   "source": [
    "## Parameters and arguments\n",
    "\n",
    "- A variable that is an input to a function is called a *parameter*\n",
    "- The value of the parameter you pass in when you call the function is an *argument*\n",
    "- Functions can accept multiple parameters\n",
    "\n",
    "```python\n",
    "def perimeter(length, n_sides):\n",
    "```\n",
    "\n",
    "- You can also use named parameters that specify a default value\n",
    "\n",
    "```python\n",
    "def perimeter(length, n_sides=4):\n",
    "```"
   ]
  },
  {
   "cell_type": "markdown",
   "metadata": {
    "slideshow": {
     "slide_type": "slide"
    }
   },
   "source": [
    "## Parameters and arguments (cont.)\n",
    "\n",
    "- When you call a function, you pass in arguments for each parameter\n",
    "\n",
    "```python\n",
    "perimeter(3)\n",
    "perimeter(3, 6)\n",
    "perimeter(3, n_sides=6)\n",
    "perimeter(length=3, n_sides=6)\n",
    "```"
   ]
  },
  {
   "cell_type": "markdown",
   "metadata": {
    "slideshow": {
     "slide_type": "slide"
    }
   },
   "source": [
    "## Functions can return output\n",
    "\n",
    "- Use the *return* statement\n",
    "- Syntax:\n",
    "  `return [expression]`\n",
    "- Exits the function and returns the value of expression as a result of the call to the function\n",
    "- If expression is omitted, returns None\n"
   ]
  },
  {
   "cell_type": "markdown",
   "metadata": {
    "slideshow": {
     "slide_type": "slide"
    }
   },
   "source": [
    "## Using docstrings\n",
    "\n",
    "\n",
    "* A docstring is a string literal that occurs as the first statement\n",
    "  in a module, function, class, or method definition\n",
    "* The built-in PyDoc module and Sphinx\n",
    "  can automatically generate documentation if the programmer uses\n",
    "  docstrings\n",
    "* See PEP-257 for details:\n",
    "  http://www.python.org/dev/peps/pep-0257/\n",
    "\n",
    "```python\n",
    "def perimeter(length):\n",
    "    \"\"\"Calculate the perimeter of a square.\"\"\"\n",
    "    pass\n",
    "\n",
    "def complex(real=0.0, imag=0.0):\n",
    "    \"\"\"\n",
    "    Form a complex number.\n",
    "\n",
    "    Keyword arguments:\n",
    "    real -- the real part (default 0.0)\n",
    "    imag -- the imaginary part (default 0.0)\n",
    "    \"\"\"\n",
    "    return (real + imag*1j)\n",
    "\n",
    "\n",
    "```"
   ]
  },
  {
   "cell_type": "markdown",
   "metadata": {
    "slideshow": {
     "slide_type": "slide"
    }
   },
   "source": [
    "## Assignment before next class\n",
    "\n",
    "- Look for the Exercise posted by tomorrow on UVACollab and the lab website.\n",
    "- Follow the instructions and upload the final PDF to UVACollab.\n",
    "\n",
    "You will receive ***points*** for the participation/homework grade by finishing this exercise!\n",
    "\n",
    "### See you next week!!!"
   ]
  }
 ],
 "metadata": {
  "celltoolbar": "Slideshow",
  "kernelspec": {
   "display_name": "Python 3",
   "language": "python",
   "name": "python3"
  },
  "language_info": {
   "codemirror_mode": {
    "name": "ipython",
    "version": 3
   },
   "file_extension": ".py",
   "mimetype": "text/x-python",
   "name": "python",
   "nbconvert_exporter": "python",
   "pygments_lexer": "ipython3",
   "version": "3.7.7"
  },
  "rise": {
   "scroll": true
  }
 },
 "nbformat": 4,
 "nbformat_minor": 2
}
