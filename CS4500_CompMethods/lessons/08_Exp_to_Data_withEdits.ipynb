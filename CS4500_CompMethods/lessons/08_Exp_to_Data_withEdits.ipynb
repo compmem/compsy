{
 "cells": [
  {
   "cell_type": "markdown",
   "metadata": {
    "slideshow": {
     "slide_type": "slide"
    }
   },
   "source": [
    "# From Experiments to Data\n",
    "## Computational Methods in Psychology (and Neuroscience)\n",
    "### Psychology 4500/7559 --- Fall 2020\n",
    "By: Per B. Sederberg, PhD\n",
    "\n"
   ]
  },
  {
   "cell_type": "markdown",
   "metadata": {
    "slideshow": {
     "slide_type": "slide"
    }
   },
   "source": [
    "# Lesson Objectives\n",
    "\n",
    "Upon completion of this lesson, students should have learned:\n",
    "\n",
    "1. How to polish up a complete experiment\n",
    "2. How SMILE stores data\n",
    "3. How to read in slog files\n",
    "4. An introduction to Pandas\n"
   ]
  },
  {
   "cell_type": "markdown",
   "metadata": {
    "slideshow": {
     "slide_type": "slide"
    }
   },
   "source": [
    "# Review list generation solution\n",
    "\n",
    "- Let's go through the list gen code you'll use for your next assignment!"
   ]
  },
  {
   "cell_type": "markdown",
   "metadata": {
    "slideshow": {
     "slide_type": "slide"
    }
   },
   "source": [
    "# Updating SMILE\n",
    "\n",
    "- First you can test whether there is a new version Kivy, which is the primary dependency of SMILE:\n",
    "\n",
    "```bash\n",
    "conda install -c conda-forge kivy\n",
    "```\n",
    "\n",
    "- Then you can update SMILE right from the GitHub repository (note the upgrade option at the end):\n",
    "\n",
    "```bash\n",
    "pip install git+https://github.com/compmem/smile --upgrade\n",
    "```"
   ]
  },
  {
   "cell_type": "markdown",
   "metadata": {
    "slideshow": {
     "slide_type": "slide"
    }
   },
   "source": [
    "# Subject Info\n",
    "\n",
    "- When collecting data from a lot of participants in a lab setting, you need an easy way to enter subject information once the experiment has started."
   ]
  },
  {
   "cell_type": "code",
   "execution_count": null,
   "metadata": {},
   "outputs": [],
   "source": [
    "from smile.common import *\n",
    "from smile.startup import InputSubject\n",
    "\n",
    "exp = Experiment(show_splash=False, resolution=(1024,768))\n",
    "\n",
    "InputSubject('Flanker')\n",
    "\n",
    "Label(text='Hello!')\n",
    "with UntilDone():\n",
    "    KeyPress()\n",
    "    \n",
    "exp.run()"
   ]
  },
  {
   "cell_type": "markdown",
   "metadata": {
    "slideshow": {
     "slide_type": "slide"
    }
   },
   "source": [
    "# Instructions\n",
    "\n",
    "- Participants need some guidance as to how they should perform the task\n",
    "- This can be just text via `Label` states, but even better would be a visual description, and even better would be a full tutorial.\n",
    "- ***NOTE: If you provide a tutorial, do not use items that you will use for the actual task!***"
   ]
  },
  {
   "cell_type": "code",
   "execution_count": null,
   "metadata": {},
   "outputs": [],
   "source": [
    "from smile.common import *\n",
    "\n",
    "exp = Experiment(show_splash=False, resolution=(1024,768))\n",
    "\n",
    "# Labels can be multi-line with markup!\n",
    "with Parallel():\n",
    "    Label(text=\"This is multi-line text aligned to the left\", \n",
    "          font_size=50, text_size=(400, None),\n",
    "          left=exp.screen.left)\n",
    "    Label(text=\"This is multi-line text aligned to the right\", \n",
    "          font_size=50, text_size=(400, None), \n",
    "          right=exp.screen.right, halign='right')\n",
    "with UntilDone():\n",
    "    KeyPress()\n",
    "    \n",
    "exp.run()"
   ]
  },
  {
   "cell_type": "markdown",
   "metadata": {
    "slideshow": {
     "slide_type": "slide"
    }
   },
   "source": [
    "# Scaling to different screen sizes/densities\n",
    "\n",
    "- Screen sizes and pixel densities can vary across devices (especially on laptops, tablets, and phones)\n",
    "- But all sizes in Kivy/SMILE are defined by number of pixels\n",
    "- We provide a means to scale across devices:"
   ]
  },
  {
   "cell_type": "code",
   "execution_count": null,
   "metadata": {},
   "outputs": [],
   "source": [
    "# load in smile states\n",
    "from smile.common import *\n",
    "from smile.scale import scale as s\n",
    "\n",
    "# create an experiment instance (pick different resolutions)\n",
    "resolution = (800,600)\n",
    "#resolution = (1024,768)\n",
    "exp = Experiment(show_splash=False, resolution=resolution,\n",
    "                 scale_up=True, scale_down=True, scale_box=(400, 300))\n",
    "Wait(.5)\n",
    "with Parallel():\n",
    "    # add a scaled rectangle\n",
    "    Rectangle(width=s(250),height=s(250))\n",
    "    \n",
    "    # and a fixed size rectangle\n",
    "    Rectangle(width=100, height=100, color='blue')\n",
    "with UntilDone():\n",
    "    KeyPress()\n",
    "\n",
    "exp.run()"
   ]
  },
  {
   "cell_type": "markdown",
   "metadata": {
    "slideshow": {
     "slide_type": "slide"
    }
   },
   "source": [
    "# Logging and Slogging\n",
    "\n",
    "- SMILE states automatically log themselves, so you rarely will lose information if you forget to log it.\n",
    "- It's still much easier to analyze a well-organized log file from your experiment.\n",
    "- Make use of the `Log` state to save out data.\n",
    "- All logs are stored in `.slog` files, which is short for SMILE Log.\n",
    "- These are read in as a list of dictionaries (or a dict-list):\n",
    "\n",
    "```python\n",
    "from smile.log import log2dl\n",
    "dl = log2dl('flanker_log.slog')\n",
    "```"
   ]
  },
  {
   "cell_type": "markdown",
   "metadata": {
    "slideshow": {
     "slide_type": "slide"
    }
   },
   "source": [
    "# Where have all the data gone?\n",
    "\n",
    "- All the data files are stored in the `data` directory\n",
    "  - NOTE: Even when you don't specify a subj, it saves to a `test000` directory, so you can delete that sometimes to save space.\n",
    "- There is a hierarchical structure to the data directory:\n",
    "  - Experiment -> SubjID -> Date/Time"
   ]
  },
  {
   "cell_type": "code",
   "execution_count": null,
   "metadata": {},
   "outputs": [],
   "source": [
    "!ls data"
   ]
  },
  {
   "cell_type": "markdown",
   "metadata": {
    "slideshow": {
     "slide_type": "slide"
    }
   },
   "source": [
    "# Let's continue learning by building together!\n",
    "\n",
    "- Remaining features to add:\n",
    "  - Instructions\n",
    "  - Loop over blocks and then trials\n",
    "  - Verify logging"
   ]
  },
  {
   "cell_type": "markdown",
   "metadata": {
    "slideshow": {
     "slide_type": "slide"
    }
   },
   "source": [
    "# List Gen Function\n",
    "\n",
    "- NOTE: New addition for multiple blocks of trials"
   ]
  },
  {
   "cell_type": "code",
   "execution_count": 2,
   "metadata": {},
   "outputs": [
    {
     "name": "stdout",
     "output_type": "stream",
     "text": [
      "[[{'condition': 'incongruent', 'direction': 'right', 'stimulus': '<<<><<<'}, {'condition': 'incongruent', 'direction': 'right', 'stimulus': '<<<><<<'}, {'condition': 'neutral', 'direction': 'right', 'stimulus': '===>==='}, {'condition': 'congruent', 'direction': 'right', 'stimulus': '>>>>>>>'}, {'condition': 'congruent', 'direction': 'left', 'stimulus': '<<<<<<<'}, {'condition': 'congruent', 'direction': 'left', 'stimulus': '<<<<<<<'}, {'condition': 'congruent', 'direction': 'right', 'stimulus': '>>>>>>>'}, {'condition': 'neutral', 'direction': 'left', 'stimulus': '===<==='}, {'condition': 'neutral', 'direction': 'left', 'stimulus': '===<==='}, {'condition': 'incongruent', 'direction': 'left', 'stimulus': '>>><>>>'}, {'condition': 'neutral', 'direction': 'right', 'stimulus': '===>==='}, {'condition': 'incongruent', 'direction': 'left', 'stimulus': '>>><>>>'}], [{'condition': 'neutral', 'direction': 'right', 'stimulus': '===>==='}, {'condition': 'neutral', 'direction': 'left', 'stimulus': '===<==='}, {'condition': 'incongruent', 'direction': 'right', 'stimulus': '<<<><<<'}, {'condition': 'congruent', 'direction': 'right', 'stimulus': '>>>>>>>'}, {'condition': 'congruent', 'direction': 'left', 'stimulus': '<<<<<<<'}, {'condition': 'congruent', 'direction': 'left', 'stimulus': '<<<<<<<'}, {'condition': 'incongruent', 'direction': 'left', 'stimulus': '>>><>>>'}, {'condition': 'incongruent', 'direction': 'right', 'stimulus': '<<<><<<'}, {'condition': 'neutral', 'direction': 'right', 'stimulus': '===>==='}, {'condition': 'congruent', 'direction': 'right', 'stimulus': '>>>>>>>'}, {'condition': 'incongruent', 'direction': 'left', 'stimulus': '>>><>>>'}, {'condition': 'neutral', 'direction': 'left', 'stimulus': '===<==='}], [{'condition': 'congruent', 'direction': 'right', 'stimulus': '>>>>>>>'}, {'condition': 'neutral', 'direction': 'right', 'stimulus': '===>==='}, {'condition': 'neutral', 'direction': 'right', 'stimulus': '===>==='}, {'condition': 'incongruent', 'direction': 'left', 'stimulus': '>>><>>>'}, {'condition': 'congruent', 'direction': 'left', 'stimulus': '<<<<<<<'}, {'condition': 'congruent', 'direction': 'left', 'stimulus': '<<<<<<<'}, {'condition': 'neutral', 'direction': 'left', 'stimulus': '===<==='}, {'condition': 'incongruent', 'direction': 'right', 'stimulus': '<<<><<<'}, {'condition': 'incongruent', 'direction': 'left', 'stimulus': '>>><>>>'}, {'condition': 'congruent', 'direction': 'right', 'stimulus': '>>>>>>>'}, {'condition': 'incongruent', 'direction': 'right', 'stimulus': '<<<><<<'}, {'condition': 'neutral', 'direction': 'left', 'stimulus': '===<==='}]]\n"
     ]
    }
   ],
   "source": [
    "import random \n",
    "import copy\n",
    "\n",
    "# define the conditions\n",
    "conds = [{'condition': 'congruent',\n",
    "          'direction': 'left',\n",
    "          'stimulus': '<<<<<<<'\n",
    "         },\n",
    "         {'condition': 'congruent',\n",
    "          'direction': 'right',\n",
    "          'stimulus': '>>>>>>>'\n",
    "         },\n",
    "         {'condition': 'incongruent',\n",
    "          'direction': 'left',\n",
    "          'stimulus': '>>><>>>'\n",
    "         },\n",
    "         {'condition': 'incongruent',\n",
    "          'direction': 'right',\n",
    "          'stimulus': '<<<><<<'\n",
    "         },\n",
    "         {'condition': 'neutral',\n",
    "          'direction': 'left',\n",
    "          'stimulus': '===<==='\n",
    "         },\n",
    "         {'condition': 'neutral',\n",
    "          'direction': 'right',\n",
    "          'stimulus': '===>==='\n",
    "         },]\n",
    "\n",
    "# specify number of reps of these conditions\n",
    "num_reps = 2\n",
    "num_blocks = 3\n",
    "\n",
    "# loop and create the blocks\n",
    "blocks = []\n",
    "for b in range(num_blocks):\n",
    "    # loop and create the list\n",
    "    trials = []\n",
    "    for i in range(num_reps):\n",
    "        # extend the trials with copies of the conditions\n",
    "        trials.extend(copy.deepcopy(conds))\n",
    "        \n",
    "    # shuffle the trials\n",
    "    random.shuffle(trials)\n",
    "    \n",
    "    # append the trials to the blocks\n",
    "    blocks.append(trials)\n",
    "\n",
    "print(blocks)"
   ]
  },
  {
   "cell_type": "markdown",
   "metadata": {
    "slideshow": {
     "slide_type": "slide"
    }
   },
   "source": [
    "# Goal for task\n",
    "\n",
    "## High level structure\n",
    "\n",
    "- Present instructions\n",
    "- Loop over blocks\n",
    "- Within each block, loop over trials\n",
    "\n",
    "## Trial structure\n",
    "\n",
    "- Present the correct stimulus as text on the screen\n",
    "- Wait for a response\n",
    "- Remove the stimulus\n",
    "- Wait for an inter-stimulus interval\n",
    "- Log the result of the trial"
   ]
  },
  {
   "cell_type": "code",
   "execution_count": 5,
   "metadata": {
    "slideshow": {
     "slide_type": "slide"
    }
   },
   "outputs": [
    {
     "ename": "RecursionError",
     "evalue": "maximum recursion depth exceeded",
     "output_type": "error",
     "traceback": [
      "\u001b[1;31m---------------------------------------------------------------------------\u001b[0m",
      "\u001b[1;31mRecursionError\u001b[0m                            Traceback (most recent call last)",
      "\u001b[1;32m<ipython-input-5-aa8d3f2e575e>\u001b[0m in \u001b[0;36m<module>\u001b[1;34m\u001b[0m\n\u001b[0;32m     85\u001b[0m     \u001b[1;31m# loop over the trials\u001b[0m\u001b[1;33m\u001b[0m\u001b[1;33m\u001b[0m\u001b[1;33m\u001b[0m\u001b[0m\n\u001b[0;32m     86\u001b[0m     \u001b[1;32mwith\u001b[0m \u001b[0mLoop\u001b[0m\u001b[1;33m(\u001b[0m\u001b[0mblock\u001b[0m\u001b[1;33m.\u001b[0m\u001b[0mcurrent\u001b[0m\u001b[1;33m)\u001b[0m \u001b[1;32mas\u001b[0m \u001b[0mtrial\u001b[0m\u001b[1;33m:\u001b[0m\u001b[1;33m\u001b[0m\u001b[1;33m\u001b[0m\u001b[0m\n\u001b[1;32m---> 87\u001b[1;33m         \u001b[0mTrial\u001b[0m\u001b[1;33m(\u001b[0m\u001b[0mblock\u001b[0m\u001b[1;33m.\u001b[0m\u001b[0mi\u001b[0m\u001b[1;33m,\u001b[0m \u001b[0mtrial\u001b[0m\u001b[1;33m.\u001b[0m\u001b[0mi\u001b[0m\u001b[1;33m,\u001b[0m \u001b[0mtrial\u001b[0m\u001b[1;33m.\u001b[0m\u001b[0mcurrent\u001b[0m\u001b[1;33m)\u001b[0m\u001b[1;33m\u001b[0m\u001b[1;33m\u001b[0m\u001b[0m\n\u001b[0m\u001b[0;32m     88\u001b[0m \u001b[1;33m\u001b[0m\u001b[0m\n\u001b[0;32m     89\u001b[0m \u001b[1;31m# run the experiment\u001b[0m\u001b[1;33m\u001b[0m\u001b[1;33m\u001b[0m\u001b[1;33m\u001b[0m\u001b[0m\n",
      "\u001b[1;32mC:\\ProgramData\\Anaconda3\\lib\\site-packages\\smile\\state.py\u001b[0m in \u001b[0;36m__call__\u001b[1;34m(self, *pargs, **kwargs)\u001b[0m\n\u001b[0;32m   1586\u001b[0m                              \u001b[0mname\u001b[0m\u001b[1;33m=\u001b[0m\u001b[0mkwargs\u001b[0m\u001b[1;33m.\u001b[0m\u001b[0mpop\u001b[0m\u001b[1;33m(\u001b[0m\u001b[1;34m\"name\"\u001b[0m\u001b[1;33m,\u001b[0m \u001b[1;32mNone\u001b[0m\u001b[1;33m)\u001b[0m\u001b[1;33m,\u001b[0m\u001b[1;33m\u001b[0m\u001b[1;33m\u001b[0m\u001b[0m\n\u001b[0;32m   1587\u001b[0m                              blocking=kwargs.pop(\"blocking\", True)) as state:\n\u001b[1;32m-> 1588\u001b[1;33m             \u001b[0mretval\u001b[0m \u001b[1;33m=\u001b[0m \u001b[0mself\u001b[0m\u001b[1;33m.\u001b[0m\u001b[0m_func\u001b[0m\u001b[1;33m(\u001b[0m\u001b[0mstate\u001b[0m\u001b[1;33m,\u001b[0m \u001b[1;33m*\u001b[0m\u001b[0mpargs\u001b[0m\u001b[1;33m,\u001b[0m \u001b[1;33m**\u001b[0m\u001b[0mkwargs\u001b[0m\u001b[1;33m)\u001b[0m\u001b[1;33m\u001b[0m\u001b[1;33m\u001b[0m\u001b[0m\n\u001b[0m\u001b[0;32m   1589\u001b[0m             \u001b[1;32mif\u001b[0m \u001b[0mretval\u001b[0m \u001b[1;32mis\u001b[0m \u001b[1;32mNone\u001b[0m\u001b[1;33m:\u001b[0m\u001b[1;33m\u001b[0m\u001b[1;33m\u001b[0m\u001b[0m\n\u001b[0;32m   1590\u001b[0m                 \u001b[0mresult\u001b[0m \u001b[1;33m=\u001b[0m \u001b[0mstate\u001b[0m\u001b[1;33m\u001b[0m\u001b[1;33m\u001b[0m\u001b[0m\n",
      "\u001b[1;32m<ipython-input-5-aa8d3f2e575e>\u001b[0m in \u001b[0;36mTrial\u001b[1;34m(self, block_num, trial_num, cur_trial)\u001b[0m\n\u001b[0;32m     48\u001b[0m                       \u001b[0mbase_time\u001b[0m\u001b[1;33m=\u001b[0m\u001b[0mstim\u001b[0m\u001b[1;33m.\u001b[0m\u001b[0mappear_time\u001b[0m\u001b[1;33m[\u001b[0m\u001b[1;34m'time'\u001b[0m\u001b[1;33m]\u001b[0m\u001b[1;33m,\u001b[0m\u001b[1;33m\u001b[0m\u001b[1;33m\u001b[0m\u001b[0m\n\u001b[0;32m     49\u001b[0m                       correct_resp=Ref.object(resp_map)[cur_trial['direction']])\n\u001b[1;32m---> 50\u001b[1;33m         \u001b[0mprint\u001b[0m\u001b[1;33m(\u001b[0m\u001b[0mcur_trial\u001b[0m\u001b[1;33m)\u001b[0m\u001b[1;33m\u001b[0m\u001b[1;33m\u001b[0m\u001b[0m\n\u001b[0m\u001b[0;32m     51\u001b[0m \u001b[1;33m\u001b[0m\u001b[0m\n\u001b[0;32m     52\u001b[0m     \u001b[1;31m# wait the ISI with jitter\u001b[0m\u001b[1;33m\u001b[0m\u001b[1;33m\u001b[0m\u001b[1;33m\u001b[0m\u001b[0m\n",
      "\u001b[1;32mC:\\ProgramData\\Anaconda3\\lib\\site-packages\\smile\\ref.py\u001b[0m in \u001b[0;36m__str__\u001b[1;34m(self)\u001b[0m\n\u001b[0;32m    125\u001b[0m \u001b[1;33m\u001b[0m\u001b[0m\n\u001b[0;32m    126\u001b[0m     \u001b[1;32mdef\u001b[0m \u001b[0m__str__\u001b[0m\u001b[1;33m(\u001b[0m\u001b[0mself\u001b[0m\u001b[1;33m)\u001b[0m\u001b[1;33m:\u001b[0m\u001b[1;33m\u001b[0m\u001b[1;33m\u001b[0m\u001b[0m\n\u001b[1;32m--> 127\u001b[1;33m         \u001b[1;32mreturn\u001b[0m \u001b[0mstr\u001b[0m\u001b[1;33m(\u001b[0m\u001b[0mself\u001b[0m\u001b[1;33m)\u001b[0m\u001b[1;33m.\u001b[0m\u001b[0mencode\u001b[0m\u001b[1;33m(\u001b[0m\u001b[1;34m'utf-8'\u001b[0m\u001b[1;33m)\u001b[0m\u001b[1;33m\u001b[0m\u001b[1;33m\u001b[0m\u001b[0m\n\u001b[0m\u001b[0;32m    128\u001b[0m \u001b[1;33m\u001b[0m\u001b[0m\n\u001b[0;32m    129\u001b[0m     \u001b[1;31m# Unicode is called when creating the filename\u001b[0m\u001b[1;33m\u001b[0m\u001b[1;33m\u001b[0m\u001b[1;33m\u001b[0m\u001b[0m\n",
      "... last 1 frames repeated, from the frame below ...\n",
      "\u001b[1;32mC:\\ProgramData\\Anaconda3\\lib\\site-packages\\smile\\ref.py\u001b[0m in \u001b[0;36m__str__\u001b[1;34m(self)\u001b[0m\n\u001b[0;32m    125\u001b[0m \u001b[1;33m\u001b[0m\u001b[0m\n\u001b[0;32m    126\u001b[0m     \u001b[1;32mdef\u001b[0m \u001b[0m__str__\u001b[0m\u001b[1;33m(\u001b[0m\u001b[0mself\u001b[0m\u001b[1;33m)\u001b[0m\u001b[1;33m:\u001b[0m\u001b[1;33m\u001b[0m\u001b[1;33m\u001b[0m\u001b[0m\n\u001b[1;32m--> 127\u001b[1;33m         \u001b[1;32mreturn\u001b[0m \u001b[0mstr\u001b[0m\u001b[1;33m(\u001b[0m\u001b[0mself\u001b[0m\u001b[1;33m)\u001b[0m\u001b[1;33m.\u001b[0m\u001b[0mencode\u001b[0m\u001b[1;33m(\u001b[0m\u001b[1;34m'utf-8'\u001b[0m\u001b[1;33m)\u001b[0m\u001b[1;33m\u001b[0m\u001b[1;33m\u001b[0m\u001b[0m\n\u001b[0m\u001b[0;32m    128\u001b[0m \u001b[1;33m\u001b[0m\u001b[0m\n\u001b[0;32m    129\u001b[0m     \u001b[1;31m# Unicode is called when creating the filename\u001b[0m\u001b[1;33m\u001b[0m\u001b[1;33m\u001b[0m\u001b[1;33m\u001b[0m\u001b[0m\n",
      "\u001b[1;31mRecursionError\u001b[0m: maximum recursion depth exceeded"
     ]
    }
   ],
   "source": [
    "from smile.common import *\n",
    "from smile.scale import scale as s\n",
    "\n",
    "# config section\n",
    "font_size = s(75)\n",
    "resp_keys = ['F', 'J']\n",
    "resp_map = {'left': 'F', 'right': 'J'}\n",
    "ISI_dur = 0.5\n",
    "ISI_jitter = 0.5\n",
    "LOC_X_jitter = s(200)\n",
    "LOC_Y_jitter = s(100)\n",
    "inst_font_size = s(25)\n",
    "inst_text = \"\"\"[size=40]FLANKER INSTRUCTIONS[/size]\n",
    "    \n",
    "Press ENTER key to continue.\"\"\"\n",
    "\n",
    "# create the experiment\n",
    "exp = Experiment(name='FLANKER', show_splash=False, \n",
    "                 fullscreen=False,\n",
    "                 resolution=(1024, 768))\n",
    "\n",
    "@Subroutine\n",
    "def Instruct(self):\n",
    "    # show the instructions\n",
    "    Label(text=inst_text, font_size=inst_font_size,\n",
    "          text_size=(exp.screen.width*0.75, None),\n",
    "          markup=True)\n",
    "    with UntilDone():\n",
    "        KeyPress(keys=['ENTER'])\n",
    "\n",
    "@Subroutine\n",
    "def Trial(self, block_num, trial_num, cur_trial):\n",
    "    # pick the new stimulus location\n",
    "    self.location = (jitter(self.exp.screen.center_x-LOC_X_jitter,\n",
    "                            LOC_X_jitter*2),\n",
    "                     jitter(self.exp.screen.center_y-LOC_Y_jitter,\n",
    "                            LOC_Y_jitter*2))\n",
    "    # present the stimulus\n",
    "    stim = Label(text=cur_trial['stimulus'],\n",
    "                 font_size=font_size,\n",
    "                 center=self.location)\n",
    "    with UntilDone():\n",
    "        # make sure the stimulus has appeared on the screen\n",
    "        Wait(until=stim.appear_time)\n",
    "        \n",
    "        # collect a response (with no timeout)\n",
    "        kp = KeyPress(keys=resp_keys, \n",
    "                      base_time=stim.appear_time['time'],\n",
    "                      correct_resp=Ref.object(resp_map)[cur_trial['direction']])\n",
    "    \n",
    "    # wait the ISI with jitter\n",
    "    Wait(ISI_dur, jitter=ISI_jitter)\n",
    "\n",
    "    # log the result of the trial\n",
    "    Log(name='flanker', \n",
    "        log_dict=cur_trial,\n",
    "        block_num=block_num,\n",
    "        trial_num=trial_num,\n",
    "        stim_on=stim.appear_time,\n",
    "        resp=kp.pressed,\n",
    "        resp_time=kp.press_time,\n",
    "        rt=kp.rt,\n",
    "        correct=kp.correct,\n",
    "        location=self.location\n",
    "       )\n",
    "    \n",
    "    \n",
    "    \n",
    "# show the instructions\n",
    "Instruct()\n",
    "Wait(0.5)\n",
    "\n",
    "# loop over the blocks\n",
    "with Loop(blocks) as block:\n",
    "    # make sure they are ready to continue\n",
    "    Label(text='Press the ENTER key to\\nstart the next block.', \n",
    "          font_size=font_size, halign='center')\n",
    "    with UntilDone():\n",
    "        KeyPress(keys=['ENTER'])\n",
    "\n",
    "    # add in some delay before the start of the block\n",
    "    Wait(ISI_dur, jitter=ISI_jitter)\n",
    "    \n",
    "    # loop over the trials\n",
    "    with Loop(block.current) as trial:\n",
    "        Trial(block.i, trial.i, trial.current)\n",
    "\n",
    "# run the experiment\n",
    "exp.run()"
   ]
  },
  {
   "cell_type": "markdown",
   "metadata": {
    "slideshow": {
     "slide_type": "slide"
    }
   },
   "source": [
    "# Read in some data from the logs"
   ]
  },
  {
   "cell_type": "code",
   "execution_count": null,
   "metadata": {},
   "outputs": [],
   "source": [
    "from smile.log import log2dl\n",
    "log2dl('data/SMILE/test000/20201015_002203/log_flanker_0.slog')"
   ]
  },
  {
   "cell_type": "markdown",
   "metadata": {
    "slideshow": {
     "slide_type": "slide"
    }
   },
   "source": [
    "## Assignment before next class\n",
    "\n",
    "- Your SMILE experiment is due next Thursday!\n",
    "\n",
    "### See you next week!!!"
   ]
  }
 ],
 "metadata": {
  "celltoolbar": "Slideshow",
  "kernelspec": {
   "display_name": "Python 3",
   "language": "python",
   "name": "python3"
  },
  "language_info": {
   "codemirror_mode": {
    "name": "ipython",
    "version": 3
   },
   "file_extension": ".py",
   "mimetype": "text/x-python",
   "name": "python",
   "nbconvert_exporter": "python",
   "pygments_lexer": "ipython3",
   "version": "3.8.3"
  },
  "rise": {
   "scroll": true
  }
 },
 "nbformat": 4,
 "nbformat_minor": 2
}
