{
 "cells": [
  {
   "cell_type": "markdown",
   "metadata": {
    "slideshow": {
     "slide_type": "slide"
    }
   },
   "source": [
    "# File I/O and Experimental Design\n",
    "## Computational Methods in Psychology (and Neuroscience)\n",
    "### Psychology 4500/7559 --- Fall 2020\n",
    "By: Per B. Sederberg, PhD\n",
    "\n"
   ]
  },
  {
   "cell_type": "markdown",
   "metadata": {
    "slideshow": {
     "slide_type": "slide"
    }
   },
   "source": [
    "# Lesson Objectives\n",
    "\n",
    "Upon completion of this lesson, students should have learned:\n",
    "\n",
    "1. Read and write basic text files\n",
    "\n",
    "2. Read and write CSV files\n",
    "\n",
    "3. Know how to pickle objects\n",
    "\n",
    "then:\n",
    "\n",
    "4. Fundamentals of experiment design\n",
    "\n",
    "5. The link between science and coding\n",
    "\n",
    "6. Dependent vs. Independent variables\n",
    "\n",
    "7. Constraints on list structure\n",
    "\n",
    "8. How to make a simple list of dictionaries to define trials\n"
   ]
  },
  {
   "cell_type": "markdown",
   "metadata": {
    "slideshow": {
     "slide_type": "slide"
    }
   },
   "source": [
    "## Sorting data in files\n",
    "\n",
    "- Say we have some numbers in a file:"
   ]
  },
  {
   "cell_type": "code",
   "execution_count": 1,
   "metadata": {},
   "outputs": [
    {
     "name": "stdout",
     "output_type": "stream",
     "text": [
      "29 34 7 1 32 14 57 54 75 92 81 48 28 76 70 19 97 45 87 52 \n"
     ]
    }
   ],
   "source": [
    "!more spaced_numbers.txt"
   ]
  },
  {
   "cell_type": "markdown",
   "metadata": {},
   "source": [
    "- Let's read them in, sort them, and write them back out sorted!"
   ]
  },
  {
   "cell_type": "markdown",
   "metadata": {
    "slideshow": {
     "slide_type": "slide"
    }
   },
   "source": [
    "## Reading from files\n",
    "\n",
    "* Since these numbers are all on one line, we just have to read one\n",
    "  line in:\n"
   ]
  },
  {
   "cell_type": "code",
   "execution_count": 2,
   "metadata": {},
   "outputs": [
    {
     "name": "stdout",
     "output_type": "stream",
     "text": [
      "29 34 7 1 32 14 57 54 75 92 81 48 28 76 70 19 97 45 87 52 \n",
      "\n"
     ]
    }
   ],
   "source": [
    "# you can open a file for reading, writing, or appending\n",
    "f = open('spaced_numbers.txt', 'r')\n",
    "\n",
    "# Read one line in\n",
    "line = f.readline()\n",
    "\n",
    "# print what we read in\n",
    "print(line)\n",
    "\n",
    "# close the file\n",
    "f.close()"
   ]
  },
  {
   "cell_type": "markdown",
   "metadata": {
    "slideshow": {
     "slide_type": "slide"
    }
   },
   "source": [
    "## Files are objects, too!\n",
    "\n",
    "* You can see that `f` is a file object with methods:\n"
   ]
  },
  {
   "cell_type": "code",
   "execution_count": 3,
   "metadata": {},
   "outputs": [
    {
     "name": "stdout",
     "output_type": "stream",
     "text": [
      "['buffer', 'close', 'closed', 'detach', 'encoding', 'errors', 'fileno', 'flush', 'isatty', 'line_buffering', 'mode', 'name', 'newlines', 'read', 'readable', 'readline', 'readlines', 'reconfigure', 'seek', 'seekable', 'tell', 'truncate', 'writable', 'write', 'write_through', 'writelines']\n"
     ]
    }
   ],
   "source": [
    "# print out all non-hidden attributes and methods\n",
    "print([x for x in dir(f) if x[0]!='_'])"
   ]
  },
  {
   "cell_type": "markdown",
   "metadata": {
    "slideshow": {
     "slide_type": "slide"
    }
   },
   "source": [
    "## Parsing the numbers\n",
    "\n",
    "* We need to turn our big string into a list of numbers:\n"
   ]
  },
  {
   "cell_type": "code",
   "execution_count": 4,
   "metadata": {},
   "outputs": [
    {
     "data": {
      "text/plain": [
       "'29 34 7 1 32 14 57 54 75 92 81 48 28 76 70 19 97 45 87 52 \\n'"
      ]
     },
     "execution_count": 4,
     "metadata": {},
     "output_type": "execute_result"
    }
   ],
   "source": [
    "line"
   ]
  },
  {
   "cell_type": "markdown",
   "metadata": {},
   "source": [
    "* First we can use ``strip`` to pull off the trailing ``newline``."
   ]
  },
  {
   "cell_type": "code",
   "execution_count": 5,
   "metadata": {},
   "outputs": [
    {
     "data": {
      "text/plain": [
       "'29 34 7 1 32 14 57 54 75 92 81 48 28 76 70 19 97 45 87 52'"
      ]
     },
     "execution_count": 5,
     "metadata": {},
     "output_type": "execute_result"
    }
   ],
   "source": [
    "line.strip()"
   ]
  },
  {
   "cell_type": "markdown",
   "metadata": {},
   "source": [
    "* We can combine that with split to make a list of numbers"
   ]
  },
  {
   "cell_type": "code",
   "execution_count": 6,
   "metadata": {},
   "outputs": [
    {
     "name": "stdout",
     "output_type": "stream",
     "text": [
      "['29', '34', '7', '1', '32', '14', '57', '54', '75', '92', '81', '48', '28', '76', '70', '19', '97', '45', '87', '52']\n"
     ]
    }
   ],
   "source": [
    "# note how you can apply the strip and split right after one another\n",
    "# that's because strip returns a string\n",
    "print(line.strip().split(' '))"
   ]
  },
  {
   "cell_type": "markdown",
   "metadata": {
    "slideshow": {
     "slide_type": "slide"
    }
   },
   "source": [
    "## Convert to numbers\n",
    "\n",
    "* Now we have a list of strings, but we want numbers.\n",
    "\n",
    "* We could loop over each item in that list with a for loop, creating a new list."
   ]
  },
  {
   "cell_type": "code",
   "execution_count": 7,
   "metadata": {},
   "outputs": [],
   "source": [
    "ints = []\n",
    "for s in line.strip().split(' '):\n",
    "    ints.append(int(s))"
   ]
  },
  {
   "cell_type": "markdown",
   "metadata": {},
   "source": [
    "* Or, we can use a list comprehension to convert it in one line :)"
   ]
  },
  {
   "cell_type": "code",
   "execution_count": 8,
   "metadata": {},
   "outputs": [
    {
     "name": "stdout",
     "output_type": "stream",
     "text": [
      "[29, 34, 7, 1, 32, 14, 57, 54, 75, 92, 81, 48, 28, 76, 70, 19, 97, 45, 87, 52]\n"
     ]
    }
   ],
   "source": [
    "ints = [int(s) for s in line.strip().split(' ')]\n",
    "print(ints)"
   ]
  },
  {
   "cell_type": "markdown",
   "metadata": {
    "slideshow": {
     "slide_type": "slide"
    }
   },
   "source": [
    "## Sorting things out\n",
    "\n",
    "* Now that we have a list, sorting is easy :)\n"
   ]
  },
  {
   "cell_type": "code",
   "execution_count": 9,
   "metadata": {},
   "outputs": [
    {
     "name": "stdout",
     "output_type": "stream",
     "text": [
      "[1, 7, 14, 19, 28, 29, 32, 34, 45, 48, 52, 54, 57, 70, 75, 76, 81, 87, 92, 97]\n"
     ]
    }
   ],
   "source": [
    "ints.sort()\n",
    "print(ints)"
   ]
  },
  {
   "cell_type": "code",
   "execution_count": 10,
   "metadata": {},
   "outputs": [
    {
     "name": "stdout",
     "output_type": "stream",
     "text": [
      "[97, 92, 87, 81, 76, 75, 70, 57, 54, 52, 48, 45, 34, 32, 29, 28, 19, 14, 7, 1]\n"
     ]
    }
   ],
   "source": [
    "# you can reverse it, too!\n",
    "ints.sort(reverse=True)\n",
    "print(ints)"
   ]
  },
  {
   "cell_type": "markdown",
   "metadata": {
    "slideshow": {
     "slide_type": "slide"
    }
   },
   "source": [
    "## Write it back out\n",
    "\n",
    "* Now we have our sorted list, let's save it back to file\n"
   ]
  },
  {
   "cell_type": "code",
   "execution_count": 11,
   "metadata": {},
   "outputs": [],
   "source": [
    "with open('spaced_numbers_sorted.txt', 'w') as f:\n",
    "    for i in ints:\n",
    "        f.write('%d ' % i)\n",
    "    f.write('\\n')"
   ]
  },
  {
   "cell_type": "code",
   "execution_count": 12,
   "metadata": {},
   "outputs": [
    {
     "name": "stdout",
     "output_type": "stream",
     "text": [
      "97 92 87 81 76 75 70 57 54 52 48 45 34 32 29 28 19 14 7 1 \n"
     ]
    }
   ],
   "source": [
    "!more spaced_numbers_sorted.txt"
   ]
  },
  {
   "cell_type": "markdown",
   "metadata": {
    "slideshow": {
     "slide_type": "slide"
    }
   },
   "source": [
    "## Random Numbers\n",
    "\n",
    "How did I generate those random numbers in the first place?"
   ]
  },
  {
   "cell_type": "code",
   "execution_count": 13,
   "metadata": {},
   "outputs": [],
   "source": [
    "# import the random module\n",
    "import random\n",
    "\n",
    "# open a file for writing\n",
    "with open('spaced_numbers.txt', 'w') as f:\n",
    "    # loop some number of times\n",
    "    for i in range(20):\n",
    "        # write out a random integer, followed by a space\n",
    "        f.write('%d ' % random.randint(0, 100))\n",
    "    f.write('\\n')\n"
   ]
  },
  {
   "cell_type": "markdown",
   "metadata": {
    "slideshow": {
     "slide_type": "slide"
    }
   },
   "source": [
    "## Random Numbers\n",
    "\n",
    "* You have loads of random operations at your fingertips:\n"
   ]
  },
  {
   "cell_type": "code",
   "execution_count": 14,
   "metadata": {},
   "outputs": [
    {
     "name": "stdout",
     "output_type": "stream",
     "text": [
      "['BPF', 'LOG4', 'NV_MAGICCONST', 'RECIP_BPF', 'Random', 'SG_MAGICCONST', 'SystemRandom', 'TWOPI', 'betavariate', 'choice', 'choices', 'expovariate', 'gammavariate', 'gauss', 'getrandbits', 'getstate', 'lognormvariate', 'normalvariate', 'paretovariate', 'randint', 'random', 'randrange', 'sample', 'seed', 'setstate', 'shuffle', 'triangular', 'uniform', 'vonmisesvariate', 'weibullvariate']\n"
     ]
    }
   ],
   "source": [
    "print([m for m in dir(random) if m[0] != '_'])"
   ]
  },
  {
   "cell_type": "markdown",
   "metadata": {},
   "source": [
    "* `random.shuffle` is particularly useful in our work to randomize a list:"
   ]
  },
  {
   "cell_type": "code",
   "execution_count": 15,
   "metadata": {},
   "outputs": [
    {
     "name": "stdout",
     "output_type": "stream",
     "text": [
      "[34, 57, 54, 81, 29, 1, 52, 28, 45, 75, 7, 70, 48, 87, 92, 76, 97, 14, 32, 19]\n"
     ]
    }
   ],
   "source": [
    "random.shuffle(ints)\n",
    "print(ints)"
   ]
  },
  {
   "cell_type": "markdown",
   "metadata": {
    "slideshow": {
     "slide_type": "slide"
    }
   },
   "source": [
    "## What about CSV files?\n",
    "\n",
    "* Most often our data are in formatted files, such as comma-separated values (CSV) files, not just lists of numbers:"
   ]
  },
  {
   "cell_type": "code",
   "execution_count": 16,
   "metadata": {},
   "outputs": [
    {
     "name": "stdout",
     "output_type": "stream",
     "text": [
      "Subject,Performance\n",
      "0,0.19839211032002024\n",
      "1,0.41428489112125344\n",
      "2,0.027715898314496612\n",
      "3,0.05627103270567213\n",
      "4,0.27079871696692148\n",
      "5,0.93739232241039394\n",
      "6,0.49069767020105493\n",
      "7,0.24287893232441449\n",
      "8,0.97942327679701313\n",
      "9,0.3229346781148571\n"
     ]
    }
   ],
   "source": [
    "!more exp_res.csv"
   ]
  },
  {
   "cell_type": "markdown",
   "metadata": {
    "slideshow": {
     "slide_type": "slide"
    }
   },
   "source": [
    "## Using the csv module\n",
    "\n",
    "* We could parse the file with strip and split like before\n",
    "\n",
    "* or we can use the builtin ``csv`` module to read and write them:\n"
   ]
  },
  {
   "cell_type": "code",
   "execution_count": 17,
   "metadata": {},
   "outputs": [
    {
     "data": {
      "text/plain": [
       "[{'Subject': '0', 'Performance': '0.19839211032002024'},\n",
       " {'Subject': '1', 'Performance': '0.41428489112125344'},\n",
       " {'Subject': '2', 'Performance': '0.027715898314496612'},\n",
       " {'Subject': '3', 'Performance': '0.05627103270567213'},\n",
       " {'Subject': '4', 'Performance': '0.27079871696692148'},\n",
       " {'Subject': '5', 'Performance': '0.93739232241039394'},\n",
       " {'Subject': '6', 'Performance': '0.49069767020105493'},\n",
       " {'Subject': '7', 'Performance': '0.24287893232441449'},\n",
       " {'Subject': '8', 'Performance': '0.97942327679701313'},\n",
       " {'Subject': '9', 'Performance': '0.3229346781148571'}]"
      ]
     },
     "execution_count": 17,
     "metadata": {},
     "output_type": "execute_result"
    }
   ],
   "source": [
    "import csv\n",
    "\n",
    "# create a dictionary reader\n",
    "dr = csv.DictReader(open('exp_res.csv','r'))\n",
    "\n",
    "# read in all the lines into a list of dicts\n",
    "d = [l for l in dr]\n",
    "\n",
    "# note it creates OrderedDict instances!!!\n",
    "d"
   ]
  },
  {
   "cell_type": "markdown",
   "metadata": {
    "slideshow": {
     "slide_type": "slide"
    }
   },
   "source": [
    "## Pickling!\n",
    "\n",
    "* Often we want to dump and object to file for future use.\n",
    "\n",
    "* Pickling allows us to *serialize* Python objects (i.e., turn them into a byte stream that can be saved to file):\n"
   ]
  },
  {
   "cell_type": "code",
   "execution_count": 18,
   "metadata": {},
   "outputs": [
    {
     "name": "stderr",
     "output_type": "stream",
     "text": [
      "'cat' is not recognized as an internal or external command,\n",
      "operable program or batch file.\n"
     ]
    }
   ],
   "source": [
    "import pickle\n",
    "\n",
    "# dump the list of ordered dicts to a file \n",
    "# (note the 'b' in the 'wb', which means a \n",
    "# binary stream instead of a ascii text stream)\n",
    "pickle.dump(d, open('my_dict.pickle', 'wb'))\n",
    "\n",
    "!cat my_dict.pickle"
   ]
  },
  {
   "cell_type": "markdown",
   "metadata": {
    "slideshow": {
     "slide_type": "slide"
    }
   },
   "source": [
    "## Unpickling\n",
    "\n",
    "* As you can see, the serialization process is not usually human-readable\n",
    "* Once pickled, it's easy to load it back:\n"
   ]
  },
  {
   "cell_type": "code",
   "execution_count": 19,
   "metadata": {},
   "outputs": [
    {
     "data": {
      "text/plain": [
       "[{'Subject': '0', 'Performance': '0.19839211032002024'},\n",
       " {'Subject': '1', 'Performance': '0.41428489112125344'},\n",
       " {'Subject': '2', 'Performance': '0.027715898314496612'},\n",
       " {'Subject': '3', 'Performance': '0.05627103270567213'},\n",
       " {'Subject': '4', 'Performance': '0.27079871696692148'},\n",
       " {'Subject': '5', 'Performance': '0.93739232241039394'},\n",
       " {'Subject': '6', 'Performance': '0.49069767020105493'},\n",
       " {'Subject': '7', 'Performance': '0.24287893232441449'},\n",
       " {'Subject': '8', 'Performance': '0.97942327679701313'},\n",
       " {'Subject': '9', 'Performance': '0.3229346781148571'}]"
      ]
     },
     "execution_count": 19,
     "metadata": {},
     "output_type": "execute_result"
    }
   ],
   "source": [
    "# open the file back for reading\n",
    "d2 = pickle.load(open('my_dict.pickle','rb'))\n",
    "d2"
   ]
  },
  {
   "cell_type": "markdown",
   "metadata": {
    "slideshow": {
     "slide_type": "slide"
    }
   },
   "source": [
    "## Notes on Pickles\n",
    "\n",
    "* Delicious, but...\n",
    "\n",
    "* Note that pickles are *NOT* portable across languages\n",
    "\n",
    "* If you require interoperability, then you'll want to use a different\n",
    "  file format\n",
    "\n",
    "* Raw text is about as portable as they get, but is not always the\n",
    "  most efficient\n",
    "\n",
    "* My favorite data storage format is Hierarchical Data Format v. 5 (HDF5), which is widely used (even adopted by Matlab) and has I/O libraries for almost every programming language.\n",
    "\n",
    "  * e.g., [h5py](https://www.h5py.org/)"
   ]
  },
  {
   "cell_type": "markdown",
   "metadata": {
    "slideshow": {
     "slide_type": "slide"
    }
   },
   "source": [
    "# Experimental Design\n",
    "\n",
    "## Science is hard\n",
    "\n",
    "![](https://imgs.xkcd.com/comics/purity.png)"
   ]
  },
  {
   "cell_type": "markdown",
   "metadata": {
    "slideshow": {
     "slide_type": "slide"
    }
   },
   "source": [
    "## It all starts with a question\n",
    "\n",
    "### What are we trying to do, anyway?\n",
    "\n",
    "![](./figs/brain_quest.png)"
   ]
  },
  {
   "cell_type": "markdown",
   "metadata": {
    "slideshow": {
     "slide_type": "slide"
    }
   },
   "source": [
    "## The Scientific method as a computer program"
   ]
  },
  {
   "cell_type": "markdown",
   "metadata": {},
   "source": [
    "* Science basically involves figuring out how a function works by passing in variables and observing the output."
   ]
  },
  {
   "cell_type": "code",
   "execution_count": 20,
   "metadata": {
    "slideshow": {
     "slide_type": ""
    }
   },
   "outputs": [],
   "source": [
    "def human_brain(*args, **kwargs):\n",
    "    # stuff happens\n",
    "    \n",
    "    return output"
   ]
  },
  {
   "cell_type": "markdown",
   "metadata": {
    "slideshow": {
     "slide_type": "slide"
    }
   },
   "source": [
    "## Independent vs. dependent variables\n",
    "\n",
    "- The inputs are the ***independent*** variables\n",
    "  - e.g., items, conditions, etc...\n",
    "- The outputs are the ***dependent*** variables\n",
    "  - e.g., choices, reaction times, etc...\n",
    "- There are also ***controlled*** variables that you keep the same. \n",
    "  - The goal is to prevent their influence the effect of independent on dependent variables.\n",
    "  - e.g., if you changed items when you changed conditions, you wouldn't know if it was the items or the conditions that affected the output."
   ]
  },
  {
   "cell_type": "markdown",
   "metadata": {
    "slideshow": {
     "slide_type": "slide"
    }
   },
   "source": [
    "## The Hypothesis\n",
    "\n",
    "- The scientist makes a conjecture about how change in independent variables will give rise to change in dependent variables.\n",
    "\n",
    "- The hypothesis is an instantiation of your ***model*** of the world, even if it's a poorly specified model.\n",
    "\n",
    "- It could be that the independent variables have no relation to the dependent variables, in which case we need a new hypothesis."
   ]
  },
  {
   "cell_type": "markdown",
   "metadata": {
    "slideshow": {
     "slide_type": "slide"
    }
   },
   "source": [
    "## Experiments test hypotheses\n",
    "\n",
    "- The goal is to design an experiment that can reliably ***disprove*** your hypothesis.\n",
    "- Ideally, your hypothesis is a *generative* model and you can run simulations to help you design a powerful experiment."
   ]
  },
  {
   "cell_type": "markdown",
   "metadata": {
    "slideshow": {
     "slide_type": "slide"
    }
   },
   "source": [
    "## Generative model?\n",
    "\n",
    "- A ***generative*** model is like a function you've written to mimic the behavior of the function you're trying to understand.\n",
    "- The alternative is a ***descriptive/discriminative*** model, which tests whether a change in the input to a function gives rise to a significant change in the output.\n",
    "\n",
    "(Details in another course, Quantified Cognition, which I typically teach in the Spring.)\n"
   ]
  },
  {
   "cell_type": "markdown",
   "metadata": {
    "slideshow": {
     "slide_type": "slide"
    }
   },
   "source": [
    "## Learning by example: Flanker Task\n",
    "\n",
    "Which of these is harder to indicate the direction the middle arrow is pointing?"
   ]
  },
  {
   "cell_type": "markdown",
   "metadata": {
    "slideshow": {
     "slide_type": "slide"
    }
   },
   "source": [
    "# <<<<<<<"
   ]
  },
  {
   "cell_type": "markdown",
   "metadata": {
    "slideshow": {
     "slide_type": "slide"
    }
   },
   "source": [
    "# <<<><<<"
   ]
  },
  {
   "cell_type": "markdown",
   "metadata": {
    "slideshow": {
     "slide_type": "slide"
    }
   },
   "source": [
    "# ===<==="
   ]
  },
  {
   "cell_type": "markdown",
   "metadata": {
    "slideshow": {
     "slide_type": "slide"
    }
   },
   "source": [
    "## The Flanker task\n",
    "\n",
    "Tests the role of attention and cognitive control in decision-making.\n",
    "\n",
    "### Hypothesis\n",
    "\n",
    "The items that flank a target item will affect processing of that item, requiring exertion of cognitive control to overcome the interference."
   ]
  },
  {
   "cell_type": "markdown",
   "metadata": {
    "slideshow": {
     "slide_type": "slide"
    }
   },
   "source": [
    "## How should we test this hypothesis?\n",
    "\n",
    "- How many trials do we need?\n",
    "- Should we do a between- or within-subject manipulation?\n",
    "- What conditions should we include?\n",
    "- What proportion of each condition should we include?\n",
    "- Does the order of the items matter?\n"
   ]
  },
  {
   "cell_type": "markdown",
   "metadata": {
    "slideshow": {
     "slide_type": "slide"
    }
   },
   "source": [
    "## List generation vs. Stimulus Presentation\n",
    "\n",
    "- Most experiments can separate the generation of random lists that govern what we will present to participants and the code necessary to handle the presentation of stimuli and collect the responses.\n",
    "\n",
    "  - The primary exception would be adaptive experiments that depend on the behavior (or neural activity) of the participant to determine subsequent trials.\n",
    "\n",
    "- We'll focus here on the list generation portion of the experiment."
   ]
  },
  {
   "cell_type": "markdown",
   "metadata": {
    "slideshow": {
     "slide_type": "slide"
    }
   },
   "source": [
    "## Define the trial types\n",
    "\n",
    "We have the following variables:\n",
    "\n",
    "- Condition: Incongruent, Congruent, Neutral\n",
    "- Direction: Left, Right"
   ]
  },
  {
   "cell_type": "code",
   "execution_count": 25,
   "metadata": {},
   "outputs": [],
   "source": [
    "# conditions\n",
    "conds = [{'condition': 'congruent',\n",
    "          'direction': 'left',\n",
    "          'stimulus': '<<<<<<<'\n",
    "         },\n",
    "         {'condition': 'congruent',\n",
    "          'direction': 'right',\n",
    "          'stimulus': '>>>>>>>'\n",
    "         },\n",
    "         {'condition': 'incongruent',\n",
    "          'direction': 'left',\n",
    "          'stimulus': '>>><>>>'\n",
    "         },\n",
    "         {'condition': 'incongruent',\n",
    "          'direction': 'right',\n",
    "          'stimulus': '<<<><<<'\n",
    "         },\n",
    "         {'condition': 'neutral',\n",
    "          'direction': 'left',\n",
    "          'stimulus': '===<==='\n",
    "         },\n",
    "         {'condition': 'neutral',\n",
    "          'direction': 'right',\n",
    "          'stimulus': '===>==='\n",
    "         },]"
   ]
  },
  {
   "cell_type": "markdown",
   "metadata": {
    "slideshow": {
     "slide_type": "slide"
    }
   },
   "source": [
    "## Turning conditions into trials\n",
    "\n",
    "- As long as we want to keep the conditions balanced, we can just specify the number of repetitions."
   ]
  },
  {
   "cell_type": "code",
   "execution_count": 26,
   "metadata": {
    "scrolled": false
   },
   "outputs": [
    {
     "data": {
      "text/plain": [
       "[{'condition': 'congruent', 'direction': 'left', 'stimulus': '<<<<<<<'},\n",
       " {'condition': 'congruent', 'direction': 'right', 'stimulus': '>>>>>>>'},\n",
       " {'condition': 'incongruent', 'direction': 'left', 'stimulus': '>>><>>>'},\n",
       " {'condition': 'incongruent', 'direction': 'right', 'stimulus': '<<<><<<'},\n",
       " {'condition': 'neutral', 'direction': 'left', 'stimulus': '===<==='},\n",
       " {'condition': 'neutral', 'direction': 'right', 'stimulus': '===>==='},\n",
       " {'condition': 'congruent', 'direction': 'left', 'stimulus': '<<<<<<<'},\n",
       " {'condition': 'congruent', 'direction': 'right', 'stimulus': '>>>>>>>'},\n",
       " {'condition': 'incongruent', 'direction': 'left', 'stimulus': '>>><>>>'},\n",
       " {'condition': 'incongruent', 'direction': 'right', 'stimulus': '<<<><<<'},\n",
       " {'condition': 'neutral', 'direction': 'left', 'stimulus': '===<==='},\n",
       " {'condition': 'neutral', 'direction': 'right', 'stimulus': '===>==='},\n",
       " {'condition': 'congruent', 'direction': 'left', 'stimulus': '<<<<<<<'},\n",
       " {'condition': 'congruent', 'direction': 'right', 'stimulus': '>>>>>>>'},\n",
       " {'condition': 'incongruent', 'direction': 'left', 'stimulus': '>>><>>>'},\n",
       " {'condition': 'incongruent', 'direction': 'right', 'stimulus': '<<<><<<'},\n",
       " {'condition': 'neutral', 'direction': 'left', 'stimulus': '===<==='},\n",
       " {'condition': 'neutral', 'direction': 'right', 'stimulus': '===>==='},\n",
       " {'condition': 'congruent', 'direction': 'left', 'stimulus': '<<<<<<<'},\n",
       " {'condition': 'congruent', 'direction': 'right', 'stimulus': '>>>>>>>'},\n",
       " {'condition': 'incongruent', 'direction': 'left', 'stimulus': '>>><>>>'},\n",
       " {'condition': 'incongruent', 'direction': 'right', 'stimulus': '<<<><<<'},\n",
       " {'condition': 'neutral', 'direction': 'left', 'stimulus': '===<==='},\n",
       " {'condition': 'neutral', 'direction': 'right', 'stimulus': '===>==='}]"
      ]
     },
     "execution_count": 26,
     "metadata": {},
     "output_type": "execute_result"
    }
   ],
   "source": [
    "num_reps = 4\n",
    "trials = conds * num_reps\n",
    "trials"
   ]
  },
  {
   "cell_type": "markdown",
   "metadata": {
    "slideshow": {
     "slide_type": "slide"
    }
   },
   "source": [
    "## Randomizing the order\n",
    "\n",
    "- We don't want the participant to know what trials will come next\n",
    "- We can use the random module to help us here:"
   ]
  },
  {
   "cell_type": "code",
   "execution_count": 23,
   "metadata": {},
   "outputs": [
    {
     "data": {
      "text/plain": [
       "[{'condition': 'neutral', 'direction': 'right', 'stimulus': '===>==='},\n",
       " {'condition': 'congruent', 'direction': 'right', 'stimulus': '>>>>>>>'},\n",
       " {'condition': 'neutral', 'direction': 'left', 'stimulus': '===<==='},\n",
       " {'condition': 'incongruent', 'direction': 'right', 'stimulus': '<<<><<<'},\n",
       " {'condition': 'neutral', 'direction': 'right', 'stimulus': '===>==='},\n",
       " {'condition': 'incongruent', 'direction': 'left', 'stimulus': '>>><>>>'},\n",
       " {'condition': 'congruent', 'direction': 'left', 'stimulus': '<<<<<<<'},\n",
       " {'condition': 'neutral', 'direction': 'right', 'stimulus': '===>==='},\n",
       " {'condition': 'congruent', 'direction': 'left', 'stimulus': '<<<<<<<'},\n",
       " {'condition': 'neutral', 'direction': 'left', 'stimulus': '===<==='},\n",
       " {'condition': 'congruent', 'direction': 'left', 'stimulus': '<<<<<<<'},\n",
       " {'condition': 'incongruent', 'direction': 'left', 'stimulus': '>>><>>>'},\n",
       " {'condition': 'neutral', 'direction': 'left', 'stimulus': '===<==='},\n",
       " {'condition': 'neutral', 'direction': 'left', 'stimulus': '===<==='},\n",
       " {'condition': 'incongruent', 'direction': 'left', 'stimulus': '>>><>>>'},\n",
       " {'condition': 'congruent', 'direction': 'right', 'stimulus': '>>>>>>>'},\n",
       " {'condition': 'congruent', 'direction': 'right', 'stimulus': '>>>>>>>'},\n",
       " {'condition': 'incongruent', 'direction': 'right', 'stimulus': '<<<><<<'},\n",
       " {'condition': 'incongruent', 'direction': 'left', 'stimulus': '>>><>>>'},\n",
       " {'condition': 'congruent', 'direction': 'right', 'stimulus': '>>>>>>>'},\n",
       " {'condition': 'incongruent', 'direction': 'right', 'stimulus': '<<<><<<'},\n",
       " {'condition': 'neutral', 'direction': 'right', 'stimulus': '===>==='},\n",
       " {'condition': 'congruent', 'direction': 'left', 'stimulus': '<<<<<<<'},\n",
       " {'condition': 'incongruent', 'direction': 'right', 'stimulus': '<<<><<<'}]"
      ]
     },
     "execution_count": 23,
     "metadata": {},
     "output_type": "execute_result"
    }
   ],
   "source": [
    "random.shuffle(trials)\n",
    "trials"
   ]
  },
  {
   "cell_type": "markdown",
   "metadata": {
    "slideshow": {
     "slide_type": "slide"
    }
   },
   "source": [
    "## Multiple trial blocks\n",
    "\n",
    "- We often want to give participants a break during a task.\n",
    "- One way to do this is to split the trials into blocks"
   ]
  },
  {
   "cell_type": "code",
   "execution_count": 24,
   "metadata": {},
   "outputs": [
    {
     "data": {
      "text/plain": [
       "[[{'condition': 'neutral', 'direction': 'left', 'stimulus': '===<==='},\n",
       "  {'condition': 'neutral', 'direction': 'right', 'stimulus': '===>==='},\n",
       "  {'condition': 'congruent', 'direction': 'left', 'stimulus': '<<<<<<<'},\n",
       "  {'condition': 'incongruent', 'direction': 'left', 'stimulus': '>>><>>>'},\n",
       "  {'condition': 'congruent', 'direction': 'left', 'stimulus': '<<<<<<<'},\n",
       "  {'condition': 'congruent', 'direction': 'right', 'stimulus': '>>>>>>>'},\n",
       "  {'condition': 'incongruent', 'direction': 'left', 'stimulus': '>>><>>>'},\n",
       "  {'condition': 'neutral', 'direction': 'right', 'stimulus': '===>==='},\n",
       "  {'condition': 'congruent', 'direction': 'right', 'stimulus': '>>>>>>>'},\n",
       "  {'condition': 'incongruent', 'direction': 'left', 'stimulus': '>>><>>>'},\n",
       "  {'condition': 'congruent', 'direction': 'right', 'stimulus': '>>>>>>>'},\n",
       "  {'condition': 'neutral', 'direction': 'right', 'stimulus': '===>==='},\n",
       "  {'condition': 'congruent', 'direction': 'right', 'stimulus': '>>>>>>>'},\n",
       "  {'condition': 'neutral', 'direction': 'right', 'stimulus': '===>==='},\n",
       "  {'condition': 'neutral', 'direction': 'left', 'stimulus': '===<==='},\n",
       "  {'condition': 'incongruent', 'direction': 'right', 'stimulus': '<<<><<<'},\n",
       "  {'condition': 'congruent', 'direction': 'left', 'stimulus': '<<<<<<<'},\n",
       "  {'condition': 'incongruent', 'direction': 'right', 'stimulus': '<<<><<<'},\n",
       "  {'condition': 'incongruent', 'direction': 'right', 'stimulus': '<<<><<<'},\n",
       "  {'condition': 'neutral', 'direction': 'left', 'stimulus': '===<==='},\n",
       "  {'condition': 'incongruent', 'direction': 'left', 'stimulus': '>>><>>>'},\n",
       "  {'condition': 'congruent', 'direction': 'left', 'stimulus': '<<<<<<<'},\n",
       "  {'condition': 'neutral', 'direction': 'left', 'stimulus': '===<==='},\n",
       "  {'condition': 'incongruent', 'direction': 'right', 'stimulus': '<<<><<<'}],\n",
       " [{'condition': 'congruent', 'direction': 'left', 'stimulus': '<<<<<<<'},\n",
       "  {'condition': 'incongruent', 'direction': 'left', 'stimulus': '>>><>>>'},\n",
       "  {'condition': 'congruent', 'direction': 'right', 'stimulus': '>>>>>>>'},\n",
       "  {'condition': 'congruent', 'direction': 'left', 'stimulus': '<<<<<<<'},\n",
       "  {'condition': 'neutral', 'direction': 'left', 'stimulus': '===<==='},\n",
       "  {'condition': 'incongruent', 'direction': 'left', 'stimulus': '>>><>>>'},\n",
       "  {'condition': 'incongruent', 'direction': 'right', 'stimulus': '<<<><<<'},\n",
       "  {'condition': 'incongruent', 'direction': 'right', 'stimulus': '<<<><<<'},\n",
       "  {'condition': 'neutral', 'direction': 'left', 'stimulus': '===<==='},\n",
       "  {'condition': 'neutral', 'direction': 'left', 'stimulus': '===<==='},\n",
       "  {'condition': 'incongruent', 'direction': 'right', 'stimulus': '<<<><<<'},\n",
       "  {'condition': 'neutral', 'direction': 'right', 'stimulus': '===>==='},\n",
       "  {'condition': 'neutral', 'direction': 'left', 'stimulus': '===<==='},\n",
       "  {'condition': 'congruent', 'direction': 'right', 'stimulus': '>>>>>>>'},\n",
       "  {'condition': 'congruent', 'direction': 'left', 'stimulus': '<<<<<<<'},\n",
       "  {'condition': 'incongruent', 'direction': 'left', 'stimulus': '>>><>>>'},\n",
       "  {'condition': 'neutral', 'direction': 'right', 'stimulus': '===>==='},\n",
       "  {'condition': 'neutral', 'direction': 'right', 'stimulus': '===>==='},\n",
       "  {'condition': 'neutral', 'direction': 'right', 'stimulus': '===>==='},\n",
       "  {'condition': 'incongruent', 'direction': 'right', 'stimulus': '<<<><<<'},\n",
       "  {'condition': 'congruent', 'direction': 'right', 'stimulus': '>>>>>>>'},\n",
       "  {'condition': 'congruent', 'direction': 'left', 'stimulus': '<<<<<<<'},\n",
       "  {'condition': 'congruent', 'direction': 'right', 'stimulus': '>>>>>>>'},\n",
       "  {'condition': 'incongruent', 'direction': 'left', 'stimulus': '>>><>>>'}],\n",
       " [{'condition': 'incongruent', 'direction': 'right', 'stimulus': '<<<><<<'},\n",
       "  {'condition': 'neutral', 'direction': 'left', 'stimulus': '===<==='},\n",
       "  {'condition': 'congruent', 'direction': 'left', 'stimulus': '<<<<<<<'},\n",
       "  {'condition': 'neutral', 'direction': 'right', 'stimulus': '===>==='},\n",
       "  {'condition': 'incongruent', 'direction': 'right', 'stimulus': '<<<><<<'},\n",
       "  {'condition': 'congruent', 'direction': 'right', 'stimulus': '>>>>>>>'},\n",
       "  {'condition': 'neutral', 'direction': 'left', 'stimulus': '===<==='},\n",
       "  {'condition': 'incongruent', 'direction': 'left', 'stimulus': '>>><>>>'},\n",
       "  {'condition': 'neutral', 'direction': 'right', 'stimulus': '===>==='},\n",
       "  {'condition': 'congruent', 'direction': 'left', 'stimulus': '<<<<<<<'},\n",
       "  {'condition': 'neutral', 'direction': 'left', 'stimulus': '===<==='},\n",
       "  {'condition': 'incongruent', 'direction': 'right', 'stimulus': '<<<><<<'},\n",
       "  {'condition': 'congruent', 'direction': 'left', 'stimulus': '<<<<<<<'},\n",
       "  {'condition': 'neutral', 'direction': 'right', 'stimulus': '===>==='},\n",
       "  {'condition': 'incongruent', 'direction': 'right', 'stimulus': '<<<><<<'},\n",
       "  {'condition': 'incongruent', 'direction': 'left', 'stimulus': '>>><>>>'},\n",
       "  {'condition': 'congruent', 'direction': 'left', 'stimulus': '<<<<<<<'},\n",
       "  {'condition': 'neutral', 'direction': 'left', 'stimulus': '===<==='},\n",
       "  {'condition': 'congruent', 'direction': 'right', 'stimulus': '>>>>>>>'},\n",
       "  {'condition': 'incongruent', 'direction': 'left', 'stimulus': '>>><>>>'},\n",
       "  {'condition': 'congruent', 'direction': 'right', 'stimulus': '>>>>>>>'},\n",
       "  {'condition': 'neutral', 'direction': 'right', 'stimulus': '===>==='},\n",
       "  {'condition': 'incongruent', 'direction': 'left', 'stimulus': '>>><>>>'},\n",
       "  {'condition': 'congruent', 'direction': 'right', 'stimulus': '>>>>>>>'}]]"
      ]
     },
     "execution_count": 24,
     "metadata": {},
     "output_type": "execute_result"
    }
   ],
   "source": [
    "# turn the trial list generation into a function\n",
    "def gen_trials(conds, num_reps):\n",
    "    # warning, even though this give you a new list\n",
    "    # each dictionary in the list is the same one, repeated\n",
    "    # see the `deepcopy` in the `copy` module \n",
    "    trials = conds[:] * num_reps\n",
    "    random.shuffle(trials)\n",
    "    \n",
    "    return trials\n",
    "\n",
    "# Specify the number of blocks\n",
    "num_blocks = 3\n",
    "blocks = [gen_trials(conds, num_reps) for b in range(num_blocks)]\n",
    "blocks"
   ]
  },
  {
   "cell_type": "markdown",
   "metadata": {
    "slideshow": {
     "slide_type": "slide"
    }
   },
   "source": [
    "## General tips\n",
    "\n",
    "- Give your future self a gift!\n",
    "  - Try to include as much information as possible in your trials to facilitate subsequent analyses (e.g., don't just have a stimulus column.)\n",
    "- Try as much as possible to avoid hard-coded values.\n",
    "  - Make use of a configuration section in your code to set all the variables that would determine the lists that are generated."
   ]
  },
  {
   "cell_type": "markdown",
   "metadata": {
    "slideshow": {
     "slide_type": "slide"
    }
   },
   "source": [
    "## First bigger project!\n",
    "\n",
    "- We're going to be generating lists for an experiment we'll run in class.\n",
    "- We'll work on this now for the rest of class, though they are due next week.\n",
    "\n",
    "\n",
    "### See you next week!!!"
   ]
  }
 ],
 "metadata": {
  "celltoolbar": "Slideshow",
  "kernelspec": {
   "display_name": "Python 3",
   "language": "python",
   "name": "python3"
  },
  "language_info": {
   "codemirror_mode": {
    "name": "ipython",
    "version": 3
   },
   "file_extension": ".py",
   "mimetype": "text/x-python",
   "name": "python",
   "nbconvert_exporter": "python",
   "pygments_lexer": "ipython3",
   "version": "3.8.3"
  },
  "rise": {
   "scroll": true
  }
 },
 "nbformat": 4,
 "nbformat_minor": 2
}
