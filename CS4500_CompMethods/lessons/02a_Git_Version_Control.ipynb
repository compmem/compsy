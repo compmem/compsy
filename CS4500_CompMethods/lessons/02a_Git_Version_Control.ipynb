{
 "cells": [
  {
   "cell_type": "markdown",
   "metadata": {
    "slideshow": {
     "slide_type": "slide"
    }
   },
   "source": [
    "# Intro to Git and GitHub\n",
    "## Computational Methods in Psychology (and Neuroscience)\n",
    "### Psychology 4500/7559 --- Fall 2020\n",
    "By: Per B. Sederberg, PhD\n",
    "\n"
   ]
  },
  {
   "cell_type": "markdown",
   "metadata": {
    "slideshow": {
     "slide_type": "slide"
    }
   },
   "source": [
    "# Lesson Objectives\n",
    "\n",
    "Upon completion of this lesson, students should have learned:\n",
    "\n",
    "1. What version control is and why to use it\n",
    "2. About the Git version control system and how to use it with GitHub\n",
    "3. How to fork and clone Git repositories\n",
    "4. How to commit and upload changes to a Git repository\n",
    "\n"
   ]
  },
  {
   "cell_type": "markdown",
   "metadata": {
    "slideshow": {
     "slide_type": "slide"
    }
   },
   "source": [
    "# The what and the why of version control\n",
    "\n",
    "Have you been here before?\n",
    "\n",
    "![](https://i0.wp.com/devs.wiresmithtech.com/wp-content/uploads/2015/01/geek-and-poke-version-control.jpg)\n",
    "\n",
    "\n"
   ]
  },
  {
   "cell_type": "markdown",
   "metadata": {
    "slideshow": {
     "slide_type": "slide"
    }
   },
   "source": [
    "## Why version control?\n",
    "\n",
    "- Save different versions of software or documents in a safe and organized way.\n",
    "- Flexible ways to revert to previous versions to correct errors (i.e., fix bugs).\n",
    "- Make it *much* easier to collaborate as a team on the same documents.\n",
    "- Can act like a backup (but should not *replace* actual backups)."
   ]
  },
  {
   "cell_type": "markdown",
   "metadata": {
    "slideshow": {
     "slide_type": "slide"
    }
   },
   "source": [
    "## What is Git?\n",
    "\n",
    ">Git is a free and open source distributed version control system designed to handle everything from small to very large projects with speed and efficiency.\n",
    "---Linus Trovalds (author of Git and the Linux Kernel)\n",
    "\n",
    "![](https://www.groovecommerce.com/hs-fs/hub/188845/file-4063238095-png/blog-files/distributed-version-control-system.png?width=499&height=262&name=distributed-version-control-system.png)"
   ]
  },
  {
   "cell_type": "markdown",
   "metadata": {
    "slideshow": {
     "slide_type": "slide"
    }
   },
   "source": [
    "## What is Git?\n",
    "\n",
    "It helps users:\n",
    "- Update their code to the latest version\n",
    "- Keep track of all changes made and who made them\n",
    "- Submit modifications to the original codebase\n",
    "- Revert their code to an earlier version"
   ]
  },
  {
   "cell_type": "markdown",
   "metadata": {
    "slideshow": {
     "slide_type": "slide"
    }
   },
   "source": [
    "## Git is confusing at first, but extremely powerful\n",
    "\n",
    "![alt text](https://imgs.xkcd.com/comics/git.png \"Title\")"
   ]
  },
  {
   "cell_type": "markdown",
   "metadata": {
    "slideshow": {
     "slide_type": "slide"
    }
   },
   "source": [
    "## Why do we use Git?\n",
    "\n",
    "- Git allows us to track ONLY the *changes* we make in our files (`git commit`)\n",
    "- Allows us to greatly save space while also having a complete history of a document or entire project. (`git log`)\n",
    "- Allows us to know exactly which collaborator (or which version of your former self) made the change to your code that completely broke everything (`git blame`)\n",
    "- Make potential changes to our project without affecting a working master version (`git branch`, `git request-pull`)\n",
    "- GitHub allows us to upload the history of our files to one place (`git push`)"
   ]
  },
  {
   "cell_type": "markdown",
   "metadata": {
    "slideshow": {
     "slide_type": "slide"
    }
   },
   "source": [
    "## ***In-class Assignment***\n",
    "\n",
    "Everyone needs to sign up for a GitHub account so that they can follow along with the steps. \n",
    "\n",
    "Please go to https://github.com/ and use your UVA email to create an account.\n",
    "\n",
    "![alt text](https://octodex.github.com/images/original.png \"OctoCat\")"
   ]
  },
  {
   "cell_type": "markdown",
   "metadata": {
    "slideshow": {
     "slide_type": "slide"
    }
   },
   "source": [
    "## Forking and Cloning\n",
    "\n",
    "- Forking takes the entire history of a project/repository (usually one that you're not allowed to modify) and copies it to a new location that you can edit.\n",
    "- We will now:\n",
    "    1. *Fork* the class project onto your own GitHub accounts\n",
    "    2. *Clone* this version onto our computers (like downloading but better)\n",
    "    3. Create a remote connection to the original compsy repository (so you can download the lectures onto your computer with one command every week)!"
   ]
  },
  {
   "cell_type": "markdown",
   "metadata": {
    "slideshow": {
     "slide_type": "slide"
    }
   },
   "source": [
    "## 1. Fork the project\n",
    "\n",
    "- Make sure you are signed into the GitHub web page.\n",
    "- Go to the GitHub url for the class: https://github.com/compmem/compsy \n",
    "- Click the Fork button (see image below) \n",
    "  - This creates a copy of the class repository into your account and takes you to that newly forked *compsy* repository!\n",
    "![alt text](https://github-images.s3.amazonaws.com/help/bootcamp/Bootcamp-Fork.png \"Fork button\")\n",
    "\n",
    "***For more info, see https://guides.github.com/activities/forking/***"
   ]
  },
  {
   "cell_type": "markdown",
   "metadata": {
    "slideshow": {
     "slide_type": "slide"
    }
   },
   "source": [
    "## 2. Clone your fork to your computer\n",
    "\n",
    "Now, on your computer, we are going to create a place where you will *clone* this project. \n",
    "\n",
    "- Open your Anaconda Prompt or Terminal\n",
    "- Change directory to a folder where you'd like to store your work:\n",
    "   e.g., `cd class`\n",
    "  - You must first create the folder if it doesn't already exist: `mkdir class`\n",
    "- Now we can pull down *your* copy of *compsy* from github using `git clone`:\n",
    "   `git clone https://github.com/<your_github_username>/compsy`\n",
    "  - Make sure to replace `<your_github_username>` with what it says (i.e., mine is `psederberg`)\n",
    "\n",
    "You should see something like:\n",
    "```Cloning into 'compsy'...\n",
    "remote: Enumerating objects: 37, done.\n",
    "remote: Counting objects: 100% (37/37), done.\n",
    "remote: Compressing objects: 100% (27/27), done.\n",
    "remote: Total 37 (delta 11), reused 31 (delta 8), pack-reused 0\n",
    "Unpacking objects: 100% (37/37), 291.10 KiB | 2.80 MiB/s, done.\n",
    "```\n",
    "- Ensure everything is there by changing to the compsy directory (`cd compsy`) and listing the contents with either `ls` or `dir`, depending on your OS.\n"
   ]
  },
  {
   "cell_type": "markdown",
   "metadata": {
    "slideshow": {
     "slide_type": "slide"
    }
   },
   "source": [
    "## 3. Create a remote connection to the main repo\n",
    "\n",
    "You now have a *local* copy/clone of your fork of the main class repository, but you need an easy way to pull in any new changes we make to this main repo. \n",
    "\n",
    "- Set up a remote connection with the `git remote` command:\n",
    "   `git remote add compmem https://github.com/compmem/compsy`\n",
    "- Verify that the new remote is added by running `git remote` with no additional arguments.\n",
    "  - You should see that you have 2 entires: `origin`, which points to your own github fork, and `compmem`, which points to the original version of the class repo. \n",
    "- Now we can pull the latest version of all the files: `git pull compmem`\n",
    "  - and you will be able to see that you now have access to the *branch* prof/master, which we will use to update you with class materials every week!\n",
    "  \n",
    "-*NOTE*: You may see a message asking you to specify how you want to handle merges. If so, we suggest running the following: `git config pull.rebase false`"
   ]
  },
  {
   "cell_type": "markdown",
   "metadata": {
    "slideshow": {
     "slide_type": "slide"
    }
   },
   "source": [
    "## Branches\n",
    "\n",
    "Branching and Merging are what set Git apart from all other version control systems.\n",
    "\n",
    "![](https://git-scm.com/images/about/branches@2x.png)\n",
    "\n",
    "Think of git as a giant tree. If you want to test changes to your code without affecting the main trunk.\n",
    "\n",
    "- `git checkout -b new_name` creates a new branch branch for exploration and fun! "
   ]
  },
  {
   "cell_type": "markdown",
   "metadata": {
    "slideshow": {
     "slide_type": "slide"
    }
   },
   "source": [
    "## Updating a branch\n",
    "\n",
    "### `git pull` before making changes whenever possible!\n",
    "\n",
    "- Once you have made edits to your files or created new files, the time has come to push your work to the branch. \n",
    "- You update a branch by creating a **commit**. \n",
    "  -For example, if you have created a text file called _github-is-great.txt_ and made modifications to the script _super-cool-analysis-funcs.py_, you can add these files to the **commit** individually by first adding the files to a staging area via entering the following two commands in your command prompt:\n",
    "\n",
    "```\n",
    "git add github-is-great.txt\n",
    "git add super-cool-analysis-funcs.py\n",
    "```"
   ]
  },
  {
   "cell_type": "markdown",
   "metadata": {
    "slideshow": {
     "slide_type": "slide"
    }
   },
   "source": [
    "## Commit your changes\n",
    "\n",
    "- After adding all necessary files to the staging area, use `git commit -m \"Brief description of the commit\"` to make the commit. \n",
    "- Be sure to include a brief description of the commit, as this is very useful if you ever need to go back and track down when a certain change was made. "
   ]
  },
  {
   "cell_type": "markdown",
   "metadata": {
    "slideshow": {
     "slide_type": "slide"
    }
   },
   "source": [
    "## Push your commit\n",
    "\n",
    "- Finally, it is time to update the branch on the GitHub repository by using the command `git push`\n",
    "\n",
    "- **NOTE:** Pulling the latest commits from your branch prior to making changes can save you a lot of time and headaches. Always try to `git pull` your branch prior to pushing your commits to help prevent any merge errors.\n",
    "\n",
    "![alt text](http://www.quickmeme.com/img/3b/3bff12c922b4b369b9cb2894f19ce360e9a26ee190602090e91fc7184f06f89a.jpg \"Title\")"
   ]
  },
  {
   "cell_type": "markdown",
   "metadata": {
    "slideshow": {
     "slide_type": "slide"
    }
   },
   "source": [
    "# Exercise: Create a .txt file and push it to a branch\n",
    "By default, GitHub has a main branch called \"master\". It is good practice to create new branches when working on different sub-projects, then merging your branch with the the master branch when you have completed your task. \n",
    "\n",
    "We will now create a branch. Use the following command:\n",
    "\n",
    "`git branch my-branch` to create a branch called \"my-branch\". \n",
    "\n",
    "Great! We have created a new branch. We now need to switch our new branch by using `git checkout my-branch`\n",
    "If you are ever unsure which branch you are on, use `git status` to check.\n",
    "\n",
    "Now we will create a text file called \"quotes.txt\". To do so, enter the following:\n",
    "\n",
    "for Windows: `start noetpad quotes.txt` to open Notepad and create and edit the file\n",
    "\n",
    "for OSX and Linux: `nano quotes.txt` to create and edit the file in the command prompt.\n",
    "\n",
    "You can also create & open the file via your OS's file system (Finder for OSX, File Explorer for Windows). Type or copy & paste your favorite quotes of all time into the .txt file. Please include the sources of the quotes. Save the file, then close it. \n",
    "\n",
    "Next, we will add this file to the staging area, create a commit, and push it to the repository via these commands:\n",
    "\n",
    "\n",
    "`git add quotes.txt`\n",
    "\n",
    "`git commit -m \"uploading my favorite quotes\"`\n",
    "\n",
    "`git push --set-upstream origin my-branch` The \"--set-upstream origin my-branch\" part of this pushes the newly created branch to the repository, along with our new commit. If we wanted to add or change files in the branch, we can simply use `git push` now that the branch exists on the repository. \n",
    "\n",
    "Check your repository for the new branch and file. To see your new branch, click the top left button that says \"master\"\n"
   ]
  },
  {
   "cell_type": "markdown",
   "metadata": {
    "slideshow": {
     "slide_type": "slide"
    }
   },
   "source": [
    "# GitHub Student Developer Pack\n",
    "\n",
    "GitHub provides a wide array of services to students for free! This includes unlimited private repositories on GitHub, student Amazon Web Services (AWS) account, and much more. Go to https://education.github.com/pack#offers to register your GitHub account and get your Student Developer Pack!"
   ]
  }
 ],
 "metadata": {
  "celltoolbar": "Slideshow",
  "kernelspec": {
   "display_name": "Python 3",
   "language": "python",
   "name": "python3"
  },
  "language_info": {
   "codemirror_mode": {
    "name": "ipython",
    "version": 3
   },
   "file_extension": ".py",
   "mimetype": "text/x-python",
   "name": "python",
   "nbconvert_exporter": "python",
   "pygments_lexer": "ipython3",
   "version": "3.8.3"
  },
  "rise": {
   "scroll": true
  }
 },
 "nbformat": 4,
 "nbformat_minor": 2
}
