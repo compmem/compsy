{
 "cells": [
  {
   "cell_type": "markdown",
   "metadata": {
    "slideshow": {
     "slide_type": "slide"
    }
   },
   "source": [
    "# Across-Subject Analyses\n",
    "## Computational Methods in Psychology (and Neuroscience)\n",
    "### Psychology 4500/7559 --- Fall 2020\n",
    "By: Per B. Sederberg, PhD\n",
    "\n"
   ]
  },
  {
   "cell_type": "markdown",
   "metadata": {
    "slideshow": {
     "slide_type": "slide"
    }
   },
   "source": [
    "# Lesson Objectives\n",
    "\n",
    "Upon completion of this lesson, students should have learned:\n",
    "\n",
    "1. How to read in all the data\n",
    "2. Perform some simple data clean-up\n",
    "3. Some more Pandas analysis tricks\n",
    "4. Regression across subjects\n"
   ]
  },
  {
   "cell_type": "markdown",
   "metadata": {
    "slideshow": {
     "slide_type": "slide"
    }
   },
   "source": [
    "# Updating SMILE\n",
    "\n",
    "- First you can test whether there is a new version Kivy, which is the primary dependency of SMILE:\n",
    "\n",
    "```bash\n",
    "conda install -c conda-forge kivy==1.11.1\n",
    "```\n",
    "\n",
    "- Then you can update SMILE right from the GitHub repository (note the upgrade option at the end):\n",
    "\n",
    "```bash\n",
    "pip install git+https://github.com/compmem/smile --upgrade\n",
    "```"
   ]
  },
  {
   "cell_type": "markdown",
   "metadata": {
    "slideshow": {
     "slide_type": "slide"
    }
   },
   "source": [
    "# Loading in all the data\n",
    "\n",
    "- Let's explore one subject's data and learn stuff along the way!\n",
    "- Where are the data?"
   ]
  },
  {
   "cell_type": "code",
   "execution_count": 1,
   "metadata": {},
   "outputs": [
    {
     "name": "stdout",
     "output_type": "stream",
     "text": [
      "\u001b[0m\u001b[01;34ms001\u001b[0m/  \u001b[01;34ms004\u001b[0m/  \u001b[01;34ms007\u001b[0m/  \u001b[01;34ms010\u001b[0m/  \u001b[01;34ms013\u001b[0m/  \u001b[01;34ms016\u001b[0m/  \u001b[01;34ms019\u001b[0m/  \u001b[01;34ms022\u001b[0m/\r\n",
      "\u001b[01;34ms002\u001b[0m/  \u001b[01;34ms005\u001b[0m/  \u001b[01;34ms008\u001b[0m/  \u001b[01;34ms011\u001b[0m/  \u001b[01;34ms014\u001b[0m/  \u001b[01;34ms017\u001b[0m/  \u001b[01;34ms020\u001b[0m/  \u001b[01;34ms023\u001b[0m/\r\n",
      "\u001b[01;34ms003\u001b[0m/  \u001b[01;34ms006\u001b[0m/  \u001b[01;34ms009\u001b[0m/  \u001b[01;34ms012\u001b[0m/  \u001b[01;34ms015\u001b[0m/  \u001b[01;34ms018\u001b[0m/  \u001b[01;34ms021\u001b[0m/\r\n"
     ]
    }
   ],
   "source": [
    "ls data/Taskapalooza/"
   ]
  },
  {
   "cell_type": "code",
   "execution_count": 2,
   "metadata": {},
   "outputs": [],
   "source": [
    "from smile.log import log2dl\n",
    "import numpy as np\n",
    "from scipy import stats\n",
    "import pandas as pd\n",
    "from glob import glob\n",
    "import os\n"
   ]
  },
  {
   "cell_type": "markdown",
   "metadata": {
    "slideshow": {
     "slide_type": "slide"
    }
   },
   "source": [
    "## Glob?\n",
    "\n",
    "- Allows for pattern matching for files\n",
    "- Here we want to return a list of all the subject directories matching a specific pattern"
   ]
  },
  {
   "cell_type": "code",
   "execution_count": 3,
   "metadata": {},
   "outputs": [
    {
     "data": {
      "text/plain": [
       "['data/Taskapalooza/s018',\n",
       " 'data/Taskapalooza/s006',\n",
       " 'data/Taskapalooza/s013',\n",
       " 'data/Taskapalooza/s015',\n",
       " 'data/Taskapalooza/s014',\n",
       " 'data/Taskapalooza/s001',\n",
       " 'data/Taskapalooza/s003',\n",
       " 'data/Taskapalooza/s008',\n",
       " 'data/Taskapalooza/s005',\n",
       " 'data/Taskapalooza/s016',\n",
       " 'data/Taskapalooza/s002',\n",
       " 'data/Taskapalooza/s021',\n",
       " 'data/Taskapalooza/s017',\n",
       " 'data/Taskapalooza/s011',\n",
       " 'data/Taskapalooza/s022',\n",
       " 'data/Taskapalooza/s007',\n",
       " 'data/Taskapalooza/s010',\n",
       " 'data/Taskapalooza/s019',\n",
       " 'data/Taskapalooza/s020',\n",
       " 'data/Taskapalooza/s023',\n",
       " 'data/Taskapalooza/s009',\n",
       " 'data/Taskapalooza/s012',\n",
       " 'data/Taskapalooza/s004']"
      ]
     },
     "execution_count": 3,
     "metadata": {},
     "output_type": "execute_result"
    }
   ],
   "source": [
    "glob('data/Taskapalooza/s*')"
   ]
  },
  {
   "cell_type": "markdown",
   "metadata": {
    "slideshow": {
     "slide_type": "slide"
    }
   },
   "source": [
    "## Manipulating paths with `os.path`\n",
    "\n",
    "- Different operation systems have different ways of dealing with directories\n",
    "  - Windows separate directories with `\\`\n",
    "  - Most others use `/`\n",
    "- Python can handle processing paths for you with the `os.path` module"
   ]
  },
  {
   "cell_type": "code",
   "execution_count": 4,
   "metadata": {},
   "outputs": [
    {
     "data": {
      "text/plain": [
       "('data/Taskapalooza', 's018')"
      ]
     },
     "execution_count": 4,
     "metadata": {},
     "output_type": "execute_result"
    }
   ],
   "source": [
    "# split up the path\n",
    "os.path.split('data/Taskapalooza/s018')"
   ]
  },
  {
   "cell_type": "markdown",
   "metadata": {
    "slideshow": {
     "slide_type": "slide"
    }
   },
   "source": [
    "## Custom SLOG loading function"
   ]
  },
  {
   "cell_type": "code",
   "execution_count": 5,
   "metadata": {},
   "outputs": [],
   "source": [
    "# custom function to load slogs\n",
    "def load_all_subj_logs(task_dir, log_file):\n",
    "    # load in a list of all the subj\n",
    "    subjs = [os.path.split(subj_dir)[-1] \n",
    "             for subj_dir in glob(os.path.join(task_dir, 's*'))]\n",
    "    subjs.sort()\n",
    "\n",
    "    # loop over subj and their data\n",
    "    all_dat = []\n",
    "    for subj in subjs:\n",
    "        # set the file\n",
    "        log_path = os.path.join(task_dir, subj, log_file)\n",
    "        #print(log_path)\n",
    "\n",
    "        # load the data\n",
    "        all_dat.extend(log2dl(log_path, subj=subj))\n",
    "\n",
    "    df = pd.DataFrame(all_dat)\n",
    "    \n",
    "    return df"
   ]
  },
  {
   "cell_type": "markdown",
   "metadata": {
    "slideshow": {
     "slide_type": "slide"
    }
   },
   "source": [
    "## Load in all the data"
   ]
  },
  {
   "cell_type": "code",
   "execution_count": 6,
   "metadata": {},
   "outputs": [
    {
     "data": {
      "text/html": [
       "<div>\n",
       "<style scoped>\n",
       "    .dataframe tbody tr th:only-of-type {\n",
       "        vertical-align: middle;\n",
       "    }\n",
       "\n",
       "    .dataframe tbody tr th {\n",
       "        vertical-align: top;\n",
       "    }\n",
       "\n",
       "    .dataframe thead th {\n",
       "        text-align: right;\n",
       "    }\n",
       "</style>\n",
       "<table border=\"1\" class=\"dataframe\">\n",
       "  <thead>\n",
       "    <tr style=\"text-align: right;\">\n",
       "      <th></th>\n",
       "      <th>resp_map_left</th>\n",
       "      <th>resp_map_right</th>\n",
       "      <th>block_num</th>\n",
       "      <th>trial_num</th>\n",
       "      <th>stim_on_time</th>\n",
       "      <th>stim_on_error</th>\n",
       "      <th>resp</th>\n",
       "      <th>resp_time_time</th>\n",
       "      <th>resp_time_error</th>\n",
       "      <th>rt</th>\n",
       "      <th>correct</th>\n",
       "      <th>location_0</th>\n",
       "      <th>location_1</th>\n",
       "      <th>log_time</th>\n",
       "      <th>condition</th>\n",
       "      <th>direction</th>\n",
       "      <th>stimulus</th>\n",
       "      <th>subj</th>\n",
       "      <th>log_num</th>\n",
       "    </tr>\n",
       "  </thead>\n",
       "  <tbody>\n",
       "    <tr>\n",
       "      <th>0</th>\n",
       "      <td>F</td>\n",
       "      <td>J</td>\n",
       "      <td>0</td>\n",
       "      <td>0</td>\n",
       "      <td>1829.983096</td>\n",
       "      <td>0.0</td>\n",
       "      <td>F</td>\n",
       "      <td>1830.614606</td>\n",
       "      <td>0.000206</td>\n",
       "      <td>0.631509</td>\n",
       "      <td>True</td>\n",
       "      <td>1124.413938</td>\n",
       "      <td>852.384884</td>\n",
       "      <td>1831.313423</td>\n",
       "      <td>neutral</td>\n",
       "      <td>left</td>\n",
       "      <td>===&lt;===</td>\n",
       "      <td>s001</td>\n",
       "      <td>0</td>\n",
       "    </tr>\n",
       "    <tr>\n",
       "      <th>1</th>\n",
       "      <td>F</td>\n",
       "      <td>J</td>\n",
       "      <td>0</td>\n",
       "      <td>1</td>\n",
       "      <td>1831.320258</td>\n",
       "      <td>0.0</td>\n",
       "      <td>J</td>\n",
       "      <td>1831.708334</td>\n",
       "      <td>0.000181</td>\n",
       "      <td>0.388076</td>\n",
       "      <td>True</td>\n",
       "      <td>1488.898432</td>\n",
       "      <td>948.599964</td>\n",
       "      <td>1832.235087</td>\n",
       "      <td>neutral</td>\n",
       "      <td>right</td>\n",
       "      <td>===&gt;===</td>\n",
       "      <td>s001</td>\n",
       "      <td>0</td>\n",
       "    </tr>\n",
       "    <tr>\n",
       "      <th>2</th>\n",
       "      <td>F</td>\n",
       "      <td>J</td>\n",
       "      <td>0</td>\n",
       "      <td>2</td>\n",
       "      <td>1832.244198</td>\n",
       "      <td>0.0</td>\n",
       "      <td>F</td>\n",
       "      <td>1832.818232</td>\n",
       "      <td>0.000197</td>\n",
       "      <td>0.574034</td>\n",
       "      <td>True</td>\n",
       "      <td>1853.572485</td>\n",
       "      <td>748.901092</td>\n",
       "      <td>1833.391370</td>\n",
       "      <td>neutral</td>\n",
       "      <td>left</td>\n",
       "      <td>===&lt;===</td>\n",
       "      <td>s001</td>\n",
       "      <td>0</td>\n",
       "    </tr>\n",
       "    <tr>\n",
       "      <th>3</th>\n",
       "      <td>F</td>\n",
       "      <td>J</td>\n",
       "      <td>0</td>\n",
       "      <td>3</td>\n",
       "      <td>1833.404586</td>\n",
       "      <td>0.0</td>\n",
       "      <td>F</td>\n",
       "      <td>1833.990549</td>\n",
       "      <td>0.000203</td>\n",
       "      <td>0.585963</td>\n",
       "      <td>True</td>\n",
       "      <td>1413.608109</td>\n",
       "      <td>996.704422</td>\n",
       "      <td>1834.859940</td>\n",
       "      <td>neutral</td>\n",
       "      <td>left</td>\n",
       "      <td>===&lt;===</td>\n",
       "      <td>s001</td>\n",
       "      <td>0</td>\n",
       "    </tr>\n",
       "    <tr>\n",
       "      <th>4</th>\n",
       "      <td>F</td>\n",
       "      <td>J</td>\n",
       "      <td>0</td>\n",
       "      <td>4</td>\n",
       "      <td>1834.876087</td>\n",
       "      <td>0.0</td>\n",
       "      <td>F</td>\n",
       "      <td>1835.262948</td>\n",
       "      <td>0.000186</td>\n",
       "      <td>0.386861</td>\n",
       "      <td>True</td>\n",
       "      <td>1557.565574</td>\n",
       "      <td>686.474531</td>\n",
       "      <td>1836.017047</td>\n",
       "      <td>neutral</td>\n",
       "      <td>left</td>\n",
       "      <td>===&lt;===</td>\n",
       "      <td>s001</td>\n",
       "      <td>0</td>\n",
       "    </tr>\n",
       "  </tbody>\n",
       "</table>\n",
       "</div>"
      ],
      "text/plain": [
       "  resp_map_left resp_map_right  block_num  trial_num  stim_on_time  \\\n",
       "0             F              J          0          0   1829.983096   \n",
       "1             F              J          0          1   1831.320258   \n",
       "2             F              J          0          2   1832.244198   \n",
       "3             F              J          0          3   1833.404586   \n",
       "4             F              J          0          4   1834.876087   \n",
       "\n",
       "   stim_on_error resp  resp_time_time  resp_time_error        rt  correct  \\\n",
       "0            0.0    F     1830.614606         0.000206  0.631509     True   \n",
       "1            0.0    J     1831.708334         0.000181  0.388076     True   \n",
       "2            0.0    F     1832.818232         0.000197  0.574034     True   \n",
       "3            0.0    F     1833.990549         0.000203  0.585963     True   \n",
       "4            0.0    F     1835.262948         0.000186  0.386861     True   \n",
       "\n",
       "    location_0  location_1     log_time condition direction stimulus  subj  \\\n",
       "0  1124.413938  852.384884  1831.313423   neutral      left  ===<===  s001   \n",
       "1  1488.898432  948.599964  1832.235087   neutral     right  ===>===  s001   \n",
       "2  1853.572485  748.901092  1833.391370   neutral      left  ===<===  s001   \n",
       "3  1413.608109  996.704422  1834.859940   neutral      left  ===<===  s001   \n",
       "4  1557.565574  686.474531  1836.017047   neutral      left  ===<===  s001   \n",
       "\n",
       "   log_num  \n",
       "0        0  \n",
       "1        0  \n",
       "2        0  \n",
       "3        0  \n",
       "4        0  "
      ]
     },
     "execution_count": 6,
     "metadata": {},
     "output_type": "execute_result"
    }
   ],
   "source": [
    "# load the data from each task\n",
    "task_dir = os.path.join('data', 'Taskapalooza')\n",
    "\n",
    "df_f = load_all_subj_logs(task_dir, 'log_flanker')\n",
    "df_m = load_all_subj_logs(task_dir, 'log_math_distract')\n",
    "df_i = load_all_subj_logs(task_dir, 'log_image_test')\n",
    "df_w = load_all_subj_logs(task_dir, 'log_word_test')\n",
    "df_f.head()"
   ]
  },
  {
   "cell_type": "markdown",
   "metadata": {
    "slideshow": {
     "slide_type": "slide"
    }
   },
   "source": [
    "## Some data clean-up"
   ]
  },
  {
   "cell_type": "code",
   "execution_count": 7,
   "metadata": {},
   "outputs": [],
   "source": [
    "# it turns out the cond is easier to visualize as pure and mixed\n",
    "def fix_conds(df, type_col):\n",
    "    # loop over the unique subjects\n",
    "    usubj = df.subj.unique()\n",
    "    for s in usubj:\n",
    "        # loop over their blocks\n",
    "        ublocks = df.loc[df['subj']==s, 'block_num'].unique()\n",
    "        for b in ublocks:\n",
    "            # grab the data for that subj and block\n",
    "            dfb = df.loc[(df['subj']==s)&(df['block_num']==b)]\n",
    "            \n",
    "            # get the unique types in that block\n",
    "            uval = dfb[type_col].unique()\n",
    "            if len(uval) > 1:\n",
    "                # it's mixed\n",
    "                df.loc[df.block_num==b, 'cond'] = 'mixed'\n",
    "            else:\n",
    "                # it's the pure\n",
    "                df.loc[df.block_num==b, 'cond'] = 'pure'\n",
    "\n",
    "# fix the conds in the recog experiments (updated in place)\n",
    "fix_conds(df_i, type_col='in_out')\n",
    "fix_conds(df_w, type_col='valence')\n",
    "\n",
    "\n",
    "# add in log_rt columns\n",
    "df_i['log_rt'] = np.log(df_i['rt'])\n",
    "df_w['log_rt'] = np.log(df_w['rt'])\n",
    "df_f['log_rt'] = np.log(df_f['rt'])\n",
    "df_m['log_rt'] = np.log(df_m['rt'])"
   ]
  },
  {
   "cell_type": "markdown",
   "metadata": {
    "slideshow": {
     "slide_type": "slide"
    }
   },
   "source": [
    "## Check Math Performance\n",
    "\n",
    "- We want to calculate mean performance and run a binomial test on each participant\n",
    "- How can we do this efficiently with Pandas?"
   ]
  },
  {
   "cell_type": "markdown",
   "metadata": {
    "slideshow": {
     "slide_type": "slide"
    }
   },
   "source": [
    "## Start with a `groupby`\n",
    "\n",
    "- We know we can group rows of data by subject and apply a function to specific columns"
   ]
  },
  {
   "cell_type": "code",
   "execution_count": 8,
   "metadata": {},
   "outputs": [
    {
     "data": {
      "text/plain": [
       "subj\n",
       "s001    0.797753\n",
       "s002    0.767677\n",
       "s003    0.977528\n",
       "s004    0.875000\n",
       "s005    0.862745\n",
       "s006    0.934783\n",
       "s007    0.913043\n",
       "s008    0.768421\n",
       "s009    0.892857\n",
       "s010    0.793478\n",
       "s011    0.881818\n",
       "s012    0.942857\n",
       "s013    0.858696\n",
       "s014    0.804124\n",
       "s015    0.723404\n",
       "s016    0.881720\n",
       "s017    0.814433\n",
       "s018    0.989247\n",
       "s019    0.858974\n",
       "s020    0.955056\n",
       "s021    0.967391\n",
       "s022    0.847619\n",
       "s023    0.700000\n",
       "Name: correct, dtype: float64"
      ]
     },
     "execution_count": 8,
     "metadata": {},
     "output_type": "execute_result"
    }
   ],
   "source": [
    "df_m.groupby(['subj'])['correct'].mean()"
   ]
  },
  {
   "cell_type": "markdown",
   "metadata": {
    "slideshow": {
     "slide_type": "slide"
    }
   },
   "source": [
    "## The `agg` method can help\n",
    "\n",
    "- `agg` allows us to run more than one function on each group\n",
    "- Can provide either a string or the actual function\n",
    "- We need the `sum` and the `count` for the binomial test"
   ]
  },
  {
   "cell_type": "code",
   "execution_count": 9,
   "metadata": {},
   "outputs": [
    {
     "data": {
      "text/html": [
       "<div>\n",
       "<style scoped>\n",
       "    .dataframe tbody tr th:only-of-type {\n",
       "        vertical-align: middle;\n",
       "    }\n",
       "\n",
       "    .dataframe tbody tr th {\n",
       "        vertical-align: top;\n",
       "    }\n",
       "\n",
       "    .dataframe thead th {\n",
       "        text-align: right;\n",
       "    }\n",
       "</style>\n",
       "<table border=\"1\" class=\"dataframe\">\n",
       "  <thead>\n",
       "    <tr style=\"text-align: right;\">\n",
       "      <th></th>\n",
       "      <th>sum</th>\n",
       "      <th>count</th>\n",
       "      <th>mean</th>\n",
       "    </tr>\n",
       "    <tr>\n",
       "      <th>subj</th>\n",
       "      <th></th>\n",
       "      <th></th>\n",
       "      <th></th>\n",
       "    </tr>\n",
       "  </thead>\n",
       "  <tbody>\n",
       "    <tr>\n",
       "      <th>s001</th>\n",
       "      <td>71</td>\n",
       "      <td>89</td>\n",
       "      <td>0.797753</td>\n",
       "    </tr>\n",
       "    <tr>\n",
       "      <th>s002</th>\n",
       "      <td>76</td>\n",
       "      <td>99</td>\n",
       "      <td>0.767677</td>\n",
       "    </tr>\n",
       "    <tr>\n",
       "      <th>s003</th>\n",
       "      <td>87</td>\n",
       "      <td>89</td>\n",
       "      <td>0.977528</td>\n",
       "    </tr>\n",
       "    <tr>\n",
       "      <th>s004</th>\n",
       "      <td>77</td>\n",
       "      <td>88</td>\n",
       "      <td>0.875000</td>\n",
       "    </tr>\n",
       "    <tr>\n",
       "      <th>s005</th>\n",
       "      <td>88</td>\n",
       "      <td>102</td>\n",
       "      <td>0.862745</td>\n",
       "    </tr>\n",
       "  </tbody>\n",
       "</table>\n",
       "</div>"
      ],
      "text/plain": [
       "      sum  count      mean\n",
       "subj                      \n",
       "s001   71     89  0.797753\n",
       "s002   76     99  0.767677\n",
       "s003   87     89  0.977528\n",
       "s004   77     88  0.875000\n",
       "s005   88    102  0.862745"
      ]
     },
     "execution_count": 9,
     "metadata": {},
     "output_type": "execute_result"
    }
   ],
   "source": [
    "mperf = df_m.groupby(['subj'])['correct'].agg(['sum', 'count', 'mean'])\n",
    "mperf.head()"
   ]
  },
  {
   "cell_type": "markdown",
   "metadata": {
    "slideshow": {
     "slide_type": "slide"
    }
   },
   "source": [
    "## Use `apply` to run a function on each row\n",
    "\n",
    "- The `apply` method of a `DataFrame` allows you to \n",
    "- Here we need to specify a custom function that uses the info from each row to call `stats.binom_test`\n",
    "  - We could have defined a separate function\n",
    "  - But here I'll use `lambda` to define a function inline, since it's only one line of code"
   ]
  },
  {
   "cell_type": "code",
   "execution_count": 10,
   "metadata": {},
   "outputs": [
    {
     "data": {
      "text/html": [
       "<div>\n",
       "<style scoped>\n",
       "    .dataframe tbody tr th:only-of-type {\n",
       "        vertical-align: middle;\n",
       "    }\n",
       "\n",
       "    .dataframe tbody tr th {\n",
       "        vertical-align: top;\n",
       "    }\n",
       "\n",
       "    .dataframe thead th {\n",
       "        text-align: right;\n",
       "    }\n",
       "</style>\n",
       "<table border=\"1\" class=\"dataframe\">\n",
       "  <thead>\n",
       "    <tr style=\"text-align: right;\">\n",
       "      <th></th>\n",
       "      <th>sum</th>\n",
       "      <th>count</th>\n",
       "      <th>mean</th>\n",
       "      <th>binom_pval</th>\n",
       "      <th>good</th>\n",
       "    </tr>\n",
       "    <tr>\n",
       "      <th>subj</th>\n",
       "      <th></th>\n",
       "      <th></th>\n",
       "      <th></th>\n",
       "      <th></th>\n",
       "      <th></th>\n",
       "    </tr>\n",
       "  </thead>\n",
       "  <tbody>\n",
       "    <tr>\n",
       "      <th>s001</th>\n",
       "      <td>71</td>\n",
       "      <td>89</td>\n",
       "      <td>0.797753</td>\n",
       "      <td>6.484375e-09</td>\n",
       "      <td>True</td>\n",
       "    </tr>\n",
       "    <tr>\n",
       "      <th>s002</th>\n",
       "      <td>76</td>\n",
       "      <td>99</td>\n",
       "      <td>0.767677</td>\n",
       "      <td>4.267164e-08</td>\n",
       "      <td>True</td>\n",
       "    </tr>\n",
       "    <tr>\n",
       "      <th>s003</th>\n",
       "      <td>87</td>\n",
       "      <td>89</td>\n",
       "      <td>0.977528</td>\n",
       "      <td>6.472042e-24</td>\n",
       "      <td>True</td>\n",
       "    </tr>\n",
       "    <tr>\n",
       "      <th>s004</th>\n",
       "      <td>77</td>\n",
       "      <td>88</td>\n",
       "      <td>0.875000</td>\n",
       "      <td>1.200777e-13</td>\n",
       "      <td>True</td>\n",
       "    </tr>\n",
       "    <tr>\n",
       "      <th>s005</th>\n",
       "      <td>88</td>\n",
       "      <td>102</td>\n",
       "      <td>0.862745</td>\n",
       "      <td>1.387694e-14</td>\n",
       "      <td>True</td>\n",
       "    </tr>\n",
       "    <tr>\n",
       "      <th>s006</th>\n",
       "      <td>86</td>\n",
       "      <td>92</td>\n",
       "      <td>0.934783</td>\n",
       "      <td>1.545247e-19</td>\n",
       "      <td>True</td>\n",
       "    </tr>\n",
       "    <tr>\n",
       "      <th>s007</th>\n",
       "      <td>84</td>\n",
       "      <td>92</td>\n",
       "      <td>0.913043</td>\n",
       "      <td>2.072124e-17</td>\n",
       "      <td>True</td>\n",
       "    </tr>\n",
       "    <tr>\n",
       "      <th>s008</th>\n",
       "      <td>73</td>\n",
       "      <td>95</td>\n",
       "      <td>0.768421</td>\n",
       "      <td>7.314912e-08</td>\n",
       "      <td>True</td>\n",
       "    </tr>\n",
       "    <tr>\n",
       "      <th>s009</th>\n",
       "      <td>75</td>\n",
       "      <td>84</td>\n",
       "      <td>0.892857</td>\n",
       "      <td>2.154292e-14</td>\n",
       "      <td>True</td>\n",
       "    </tr>\n",
       "    <tr>\n",
       "      <th>s010</th>\n",
       "      <td>73</td>\n",
       "      <td>92</td>\n",
       "      <td>0.793478</td>\n",
       "      <td>6.170194e-09</td>\n",
       "      <td>True</td>\n",
       "    </tr>\n",
       "    <tr>\n",
       "      <th>s011</th>\n",
       "      <td>97</td>\n",
       "      <td>110</td>\n",
       "      <td>0.881818</td>\n",
       "      <td>2.350471e-17</td>\n",
       "      <td>True</td>\n",
       "    </tr>\n",
       "    <tr>\n",
       "      <th>s012</th>\n",
       "      <td>99</td>\n",
       "      <td>105</td>\n",
       "      <td>0.942857</td>\n",
       "      <td>4.217640e-23</td>\n",
       "      <td>True</td>\n",
       "    </tr>\n",
       "    <tr>\n",
       "      <th>s013</th>\n",
       "      <td>79</td>\n",
       "      <td>92</td>\n",
       "      <td>0.858696</td>\n",
       "      <td>5.366874e-13</td>\n",
       "      <td>True</td>\n",
       "    </tr>\n",
       "    <tr>\n",
       "      <th>s014</th>\n",
       "      <td>78</td>\n",
       "      <td>97</td>\n",
       "      <td>0.804124</td>\n",
       "      <td>5.767114e-10</td>\n",
       "      <td>True</td>\n",
       "    </tr>\n",
       "    <tr>\n",
       "      <th>s015</th>\n",
       "      <td>68</td>\n",
       "      <td>94</td>\n",
       "      <td>0.723404</td>\n",
       "      <td>8.658456e-06</td>\n",
       "      <td>True</td>\n",
       "    </tr>\n",
       "    <tr>\n",
       "      <th>s016</th>\n",
       "      <td>82</td>\n",
       "      <td>93</td>\n",
       "      <td>0.881720</td>\n",
       "      <td>7.079936e-15</td>\n",
       "      <td>True</td>\n",
       "    </tr>\n",
       "    <tr>\n",
       "      <th>s017</th>\n",
       "      <td>79</td>\n",
       "      <td>97</td>\n",
       "      <td>0.814433</td>\n",
       "      <td>1.360272e-10</td>\n",
       "      <td>True</td>\n",
       "    </tr>\n",
       "    <tr>\n",
       "      <th>s018</th>\n",
       "      <td>92</td>\n",
       "      <td>93</td>\n",
       "      <td>0.989247</td>\n",
       "      <td>9.491574e-27</td>\n",
       "      <td>True</td>\n",
       "    </tr>\n",
       "    <tr>\n",
       "      <th>s019</th>\n",
       "      <td>67</td>\n",
       "      <td>78</td>\n",
       "      <td>0.858974</td>\n",
       "      <td>3.059155e-11</td>\n",
       "      <td>True</td>\n",
       "    </tr>\n",
       "    <tr>\n",
       "      <th>s020</th>\n",
       "      <td>85</td>\n",
       "      <td>89</td>\n",
       "      <td>0.955056</td>\n",
       "      <td>4.134604e-21</td>\n",
       "      <td>True</td>\n",
       "    </tr>\n",
       "    <tr>\n",
       "      <th>s021</th>\n",
       "      <td>89</td>\n",
       "      <td>92</td>\n",
       "      <td>0.967391</td>\n",
       "      <td>2.622482e-23</td>\n",
       "      <td>True</td>\n",
       "    </tr>\n",
       "    <tr>\n",
       "      <th>s022</th>\n",
       "      <td>89</td>\n",
       "      <td>105</td>\n",
       "      <td>0.847619</td>\n",
       "      <td>9.356564e-14</td>\n",
       "      <td>True</td>\n",
       "    </tr>\n",
       "    <tr>\n",
       "      <th>s023</th>\n",
       "      <td>84</td>\n",
       "      <td>120</td>\n",
       "      <td>0.700000</td>\n",
       "      <td>6.948506e-06</td>\n",
       "      <td>True</td>\n",
       "    </tr>\n",
       "  </tbody>\n",
       "</table>\n",
       "</div>"
      ],
      "text/plain": [
       "      sum  count      mean    binom_pval  good\n",
       "subj                                          \n",
       "s001   71     89  0.797753  6.484375e-09  True\n",
       "s002   76     99  0.767677  4.267164e-08  True\n",
       "s003   87     89  0.977528  6.472042e-24  True\n",
       "s004   77     88  0.875000  1.200777e-13  True\n",
       "s005   88    102  0.862745  1.387694e-14  True\n",
       "s006   86     92  0.934783  1.545247e-19  True\n",
       "s007   84     92  0.913043  2.072124e-17  True\n",
       "s008   73     95  0.768421  7.314912e-08  True\n",
       "s009   75     84  0.892857  2.154292e-14  True\n",
       "s010   73     92  0.793478  6.170194e-09  True\n",
       "s011   97    110  0.881818  2.350471e-17  True\n",
       "s012   99    105  0.942857  4.217640e-23  True\n",
       "s013   79     92  0.858696  5.366874e-13  True\n",
       "s014   78     97  0.804124  5.767114e-10  True\n",
       "s015   68     94  0.723404  8.658456e-06  True\n",
       "s016   82     93  0.881720  7.079936e-15  True\n",
       "s017   79     97  0.814433  1.360272e-10  True\n",
       "s018   92     93  0.989247  9.491574e-27  True\n",
       "s019   67     78  0.858974  3.059155e-11  True\n",
       "s020   85     89  0.955056  4.134604e-21  True\n",
       "s021   89     92  0.967391  2.622482e-23  True\n",
       "s022   89    105  0.847619  9.356564e-14  True\n",
       "s023   84    120  0.700000  6.948506e-06  True"
      ]
     },
     "execution_count": 10,
     "metadata": {},
     "output_type": "execute_result"
    }
   ],
   "source": [
    "# add the binom_test p value as a new column (axis=1 tells it to go by row)\n",
    "mperf['binom_pval'] = mperf.apply(lambda x: stats.binom_test(x['sum'], n=x['count'], \n",
    "                                                             p=0.5, alternative='greater'),\n",
    "                                  axis=1)\n",
    "\n",
    "# they are good if the mean is greater than 0.5 and the pval is less that .05\n",
    "mperf['good'] = (mperf['mean']>0.5) & (mperf['binom_pval'] <= 0.05)\n",
    "mperf"
   ]
  },
  {
   "cell_type": "code",
   "execution_count": 11,
   "metadata": {},
   "outputs": [
    {
     "data": {
      "text/plain": [
       "<AxesSubplot:>"
      ]
     },
     "execution_count": 11,
     "metadata": {},
     "output_type": "execute_result"
    },
    {
     "data": {
      "image/png": "[encoded data removed]",
      "text/plain": [
       "<Figure size 432x288 with 1 Axes>"
      ]
     },
     "metadata": {
      "needs_background": "light"
     },
     "output_type": "display_data"
    }
   ],
   "source": [
    "# quick plot of performance\n",
    "mperf['mean'].hist(bins='auto')"
   ]
  },
  {
   "cell_type": "code",
   "execution_count": 12,
   "metadata": {},
   "outputs": [
    {
     "data": {
      "text/plain": [
       "<AxesSubplot:xlabel='subj'>"
      ]
     },
     "execution_count": 12,
     "metadata": {},
     "output_type": "execute_result"
    },
    {
     "data": {
      "image/png": "[encoded data removed]",
      "text/plain": [
       "<Figure size 432x288 with 1 Axes>"
      ]
     },
     "metadata": {
      "needs_background": "light"
     },
     "output_type": "display_data"
    }
   ],
   "source": [
    "df_m.groupby(['subj'])['log_rt'].mean().plot()"
   ]
  },
  {
   "cell_type": "code",
   "execution_count": 112,
   "metadata": {},
   "outputs": [
    {
     "data": {
      "text/plain": [
       "<AxesSubplot:title={'center':'log_rt'}, xlabel='[subj]'>"
      ]
     },
     "execution_count": 112,
     "metadata": {},
     "output_type": "execute_result"
    },
    {
     "data": {
      "image/png": "[encoded data removed]",
      "text/plain": [
       "<Figure size 864x360 with 1 Axes>"
      ]
     },
     "metadata": {
      "needs_background": "light"
     },
     "output_type": "display_data"
    }
   ],
   "source": [
    "df_m.boxplot(column=['log_rt'], by=['subj'], figsize=(12,5))"
   ]
  },
  {
   "cell_type": "markdown",
   "metadata": {
    "slideshow": {
     "slide_type": "slide"
    }
   },
   "source": [
    "## What about performance on the easy flanker conditions?\n",
    "\n",
    "- Another way to test for task compliance is to check the performance on the easiest task conditions.\n",
    "- ***Question: Did the participant perform above chance on the congruent flanker trials?***"
   ]
  },
  {
   "cell_type": "code",
   "execution_count": 14,
   "metadata": {},
   "outputs": [
    {
     "data": {
      "text/html": [
       "<div>\n",
       "<style scoped>\n",
       "    .dataframe tbody tr th:only-of-type {\n",
       "        vertical-align: middle;\n",
       "    }\n",
       "\n",
       "    .dataframe tbody tr th {\n",
       "        vertical-align: top;\n",
       "    }\n",
       "\n",
       "    .dataframe thead th {\n",
       "        text-align: right;\n",
       "    }\n",
       "</style>\n",
       "<table border=\"1\" class=\"dataframe\">\n",
       "  <thead>\n",
       "    <tr style=\"text-align: right;\">\n",
       "      <th></th>\n",
       "      <th></th>\n",
       "      <th>sum</th>\n",
       "      <th>count</th>\n",
       "      <th>mean</th>\n",
       "      <th>binom_pval</th>\n",
       "    </tr>\n",
       "    <tr>\n",
       "      <th>subj</th>\n",
       "      <th>condition</th>\n",
       "      <th></th>\n",
       "      <th></th>\n",
       "      <th></th>\n",
       "      <th></th>\n",
       "    </tr>\n",
       "  </thead>\n",
       "  <tbody>\n",
       "    <tr>\n",
       "      <th rowspan=\"3\" valign=\"top\">s001</th>\n",
       "      <th>congruent</th>\n",
       "      <td>94</td>\n",
       "      <td>96</td>\n",
       "      <td>0.979167</td>\n",
       "      <td>5.877960e-26</td>\n",
       "    </tr>\n",
       "    <tr>\n",
       "      <th>incongruent</th>\n",
       "      <td>80</td>\n",
       "      <td>96</td>\n",
       "      <td>0.833333</td>\n",
       "      <td>1.037205e-11</td>\n",
       "    </tr>\n",
       "    <tr>\n",
       "      <th>neutral</th>\n",
       "      <td>95</td>\n",
       "      <td>96</td>\n",
       "      <td>0.989583</td>\n",
       "      <td>1.224312e-27</td>\n",
       "    </tr>\n",
       "    <tr>\n",
       "      <th rowspan=\"2\" valign=\"top\">s002</th>\n",
       "      <th>congruent</th>\n",
       "      <td>94</td>\n",
       "      <td>96</td>\n",
       "      <td>0.979167</td>\n",
       "      <td>5.877960e-26</td>\n",
       "    </tr>\n",
       "    <tr>\n",
       "      <th>incongruent</th>\n",
       "      <td>91</td>\n",
       "      <td>96</td>\n",
       "      <td>0.947917</td>\n",
       "      <td>8.152854e-22</td>\n",
       "    </tr>\n",
       "    <tr>\n",
       "      <th>...</th>\n",
       "      <th>...</th>\n",
       "      <td>...</td>\n",
       "      <td>...</td>\n",
       "      <td>...</td>\n",
       "      <td>...</td>\n",
       "    </tr>\n",
       "    <tr>\n",
       "      <th rowspan=\"2\" valign=\"top\">s022</th>\n",
       "      <th>incongruent</th>\n",
       "      <td>89</td>\n",
       "      <td>96</td>\n",
       "      <td>0.927083</td>\n",
       "      <td>1.629576e-19</td>\n",
       "    </tr>\n",
       "    <tr>\n",
       "      <th>neutral</th>\n",
       "      <td>95</td>\n",
       "      <td>96</td>\n",
       "      <td>0.989583</td>\n",
       "      <td>1.224312e-27</td>\n",
       "    </tr>\n",
       "    <tr>\n",
       "      <th rowspan=\"3\" valign=\"top\">s023</th>\n",
       "      <th>congruent</th>\n",
       "      <td>92</td>\n",
       "      <td>96</td>\n",
       "      <td>0.958333</td>\n",
       "      <td>4.379121e-23</td>\n",
       "    </tr>\n",
       "    <tr>\n",
       "      <th>incongruent</th>\n",
       "      <td>36</td>\n",
       "      <td>96</td>\n",
       "      <td>0.375000</td>\n",
       "      <td>9.948270e-01</td>\n",
       "    </tr>\n",
       "    <tr>\n",
       "      <th>neutral</th>\n",
       "      <td>90</td>\n",
       "      <td>96</td>\n",
       "      <td>0.937500</td>\n",
       "      <td>1.251628e-20</td>\n",
       "    </tr>\n",
       "  </tbody>\n",
       "</table>\n",
       "<p>69 rows × 4 columns</p>\n",
       "</div>"
      ],
      "text/plain": [
       "                  sum  count      mean    binom_pval\n",
       "subj condition                                      \n",
       "s001 congruent     94     96  0.979167  5.877960e-26\n",
       "     incongruent   80     96  0.833333  1.037205e-11\n",
       "     neutral       95     96  0.989583  1.224312e-27\n",
       "s002 congruent     94     96  0.979167  5.877960e-26\n",
       "     incongruent   91     96  0.947917  8.152854e-22\n",
       "...               ...    ...       ...           ...\n",
       "s022 incongruent   89     96  0.927083  1.629576e-19\n",
       "     neutral       95     96  0.989583  1.224312e-27\n",
       "s023 congruent     92     96  0.958333  4.379121e-23\n",
       "     incongruent   36     96  0.375000  9.948270e-01\n",
       "     neutral       90     96  0.937500  1.251628e-20\n",
       "\n",
       "[69 rows x 4 columns]"
      ]
     },
     "execution_count": 14,
     "metadata": {},
     "output_type": "execute_result"
    }
   ],
   "source": [
    "fperf = df_f.groupby(['subj', 'condition'])['correct'].agg(['sum', 'count', 'mean'])\n",
    "fperf.head()\n",
    "fperf['binom_pval'] = fperf.apply(lambda x: stats.binom_test(x['sum'], n=x['count'], \n",
    "                                                             p=0.5, alternative='greater'),\n",
    "                                  axis=1)\n",
    "fperf"
   ]
  },
  {
   "cell_type": "markdown",
   "metadata": {
    "slideshow": {
     "slide_type": "slide"
    }
   },
   "source": [
    "## Congruency effect\n",
    "\n",
    "- The typical congruency effect is that participants show lower accuracy and slower reaction times in the incongruent relative to the congruent conditions\n",
    "- Let's check that for all our participants!"
   ]
  },
  {
   "cell_type": "markdown",
   "metadata": {},
   "source": [
    "### Performance by condition"
   ]
  },
  {
   "cell_type": "code",
   "execution_count": 15,
   "metadata": {},
   "outputs": [
    {
     "data": {
      "text/plain": [
       "Text(0.5, 0, 'Condition')"
      ]
     },
     "execution_count": 15,
     "metadata": {},
     "output_type": "execute_result"
    },
    {
     "data": {
      "image/png": "[encoded data removed]",
      "text/plain": [
       "<Figure size 432x288 with 1 Axes>"
      ]
     },
     "metadata": {
      "needs_background": "light"
     },
     "output_type": "display_data"
    }
   ],
   "source": [
    "# Let's make a boxplot of the performance values\n",
    "ax = fperf.boxplot(column='mean', by=['condition'])\n",
    "ax.set_title('')\n",
    "ax.set_ylabel('Performance')\n",
    "ax.set_xlabel('Condition')"
   ]
  },
  {
   "cell_type": "markdown",
   "metadata": {
    "slideshow": {
     "slide_type": "slide"
    }
   },
   "source": [
    "### RT by condition"
   ]
  },
  {
   "cell_type": "code",
   "execution_count": 16,
   "metadata": {},
   "outputs": [
    {
     "data": {
      "text/plain": [
       "Text(0.5, 0, 'Condition')"
      ]
     },
     "execution_count": 16,
     "metadata": {},
     "output_type": "execute_result"
    },
    {
     "data": {
      "image/png": "[encoded data removed]",
      "text/plain": [
       "<Figure size 432x288 with 1 Axes>"
      ]
     },
     "metadata": {
      "needs_background": "light"
     },
     "output_type": "display_data"
    }
   ],
   "source": [
    "fres = df_f.groupby(['subj', 'condition'])['log_rt'].mean().reset_index()\n",
    "ax = fres.boxplot(column='log_rt', by=['condition'])\n",
    "ax.set_title('')\n",
    "ax.set_ylabel('Log(RT)')\n",
    "ax.set_xlabel('Condition')"
   ]
  },
  {
   "cell_type": "markdown",
   "metadata": {
    "slideshow": {
     "slide_type": "slide"
    }
   },
   "source": [
    "## Error bars for repeated measures designs\n",
    "\n",
    "- The box plots above do not actually show us the relationships between the conditions that indicate significance\n",
    "- We have a repeated-measures design, with different conditions *within* subjects\n",
    "- Thus, the real comparisons of interest are *within* subjects, not *between* subjects\n",
    "  - In the box plots, the between-subject variability is masking the within-subject effects!\n",
    "- To help us visualize the differences more-accurately, we can calculate within-subject corrected error bars\n",
    "  - All this entails is removing the within-subject mean across conditions before calculating error"
   ]
  },
  {
   "cell_type": "code",
   "execution_count": 17,
   "metadata": {},
   "outputs": [],
   "source": [
    "# some folks wrote a useful script for calculating these for us!\n",
    "from ci_within import ci_within"
   ]
  },
  {
   "cell_type": "code",
   "execution_count": 61,
   "metadata": {},
   "outputs": [
    {
     "data": {
      "text/html": [
       "<div>\n",
       "<style scoped>\n",
       "    .dataframe tbody tr th:only-of-type {\n",
       "        vertical-align: middle;\n",
       "    }\n",
       "\n",
       "    .dataframe tbody tr th {\n",
       "        vertical-align: top;\n",
       "    }\n",
       "\n",
       "    .dataframe thead th {\n",
       "        text-align: right;\n",
       "    }\n",
       "</style>\n",
       "<table border=\"1\" class=\"dataframe\">\n",
       "  <thead>\n",
       "    <tr style=\"text-align: right;\">\n",
       "      <th></th>\n",
       "      <th></th>\n",
       "      <th>mean</th>\n",
       "      <th>std</th>\n",
       "      <th>sem</th>\n",
       "      <th>ci</th>\n",
       "      <th>len</th>\n",
       "    </tr>\n",
       "    <tr>\n",
       "      <th>condition</th>\n",
       "      <th>correct</th>\n",
       "      <th></th>\n",
       "      <th></th>\n",
       "      <th></th>\n",
       "      <th></th>\n",
       "      <th></th>\n",
       "    </tr>\n",
       "  </thead>\n",
       "  <tbody>\n",
       "    <tr>\n",
       "      <th rowspan=\"2\" valign=\"top\">congruent</th>\n",
       "      <th>False</th>\n",
       "      <td>-0.649545</td>\n",
       "      <td>0.295123</td>\n",
       "      <td>0.061537</td>\n",
       "      <td>0.127621</td>\n",
       "      <td>23.0</td>\n",
       "    </tr>\n",
       "    <tr>\n",
       "      <th>True</th>\n",
       "      <td>-0.593183</td>\n",
       "      <td>0.257711</td>\n",
       "      <td>0.005513</td>\n",
       "      <td>0.010812</td>\n",
       "      <td>2185.0</td>\n",
       "    </tr>\n",
       "    <tr>\n",
       "      <th rowspan=\"2\" valign=\"top\">incongruent</th>\n",
       "      <th>False</th>\n",
       "      <td>-0.581388</td>\n",
       "      <td>0.427261</td>\n",
       "      <td>0.029914</td>\n",
       "      <td>0.058983</td>\n",
       "      <td>204.0</td>\n",
       "    </tr>\n",
       "    <tr>\n",
       "      <th>True</th>\n",
       "      <td>-0.211566</td>\n",
       "      <td>0.329754</td>\n",
       "      <td>0.007366</td>\n",
       "      <td>0.014446</td>\n",
       "      <td>2004.0</td>\n",
       "    </tr>\n",
       "    <tr>\n",
       "      <th rowspan=\"2\" valign=\"top\">neutral</th>\n",
       "      <th>False</th>\n",
       "      <td>-0.591497</td>\n",
       "      <td>0.518851</td>\n",
       "      <td>0.086475</td>\n",
       "      <td>0.175554</td>\n",
       "      <td>36.0</td>\n",
       "    </tr>\n",
       "    <tr>\n",
       "      <th>True</th>\n",
       "      <td>-0.614623</td>\n",
       "      <td>0.225998</td>\n",
       "      <td>0.004849</td>\n",
       "      <td>0.009510</td>\n",
       "      <td>2172.0</td>\n",
       "    </tr>\n",
       "  </tbody>\n",
       "</table>\n",
       "</div>"
      ],
      "text/plain": [
       "                         mean       std       sem        ci     len\n",
       "condition   correct                                                \n",
       "congruent   False   -0.649545  0.295123  0.061537  0.127621    23.0\n",
       "            True    -0.593183  0.257711  0.005513  0.010812  2185.0\n",
       "incongruent False   -0.581388  0.427261  0.029914  0.058983   204.0\n",
       "            True    -0.211566  0.329754  0.007366  0.014446  2004.0\n",
       "neutral     False   -0.591497  0.518851  0.086475  0.175554    36.0\n",
       "            True    -0.614623  0.225998  0.004849  0.009510  2172.0"
      ]
     },
     "execution_count": 61,
     "metadata": {},
     "output_type": "execute_result"
    }
   ],
   "source": [
    "# get the error corrected by condition and whether they got it correct\n",
    "res = ci_within(df_f, indexvar='subj', \n",
    "                withinvars=['condition', 'correct'], \n",
    "                measvar='log_rt')\n",
    "res"
   ]
  },
  {
   "cell_type": "markdown",
   "metadata": {
    "slideshow": {
     "slide_type": "slide"
    }
   },
   "source": [
    "## Unstacking and Resetting Index\n",
    "\n",
    "- After a group-by, we often need to pivot the data so that it has the right indices for plotting\n",
    "- The `unstack` command takes a multi-level index and moves one of the row indices to a column\n",
    "- Here we'll move the `correct` row indicator to be a column indicator\n",
    "- Calling `reset_index` will fill in the values in all the index columns and add in an overall index."
   ]
  },
  {
   "cell_type": "code",
   "execution_count": 64,
   "metadata": {},
   "outputs": [
    {
     "data": {
      "text/html": [
       "<div>\n",
       "<style scoped>\n",
       "    .dataframe tbody tr th:only-of-type {\n",
       "        vertical-align: middle;\n",
       "    }\n",
       "\n",
       "    .dataframe tbody tr th {\n",
       "        vertical-align: top;\n",
       "    }\n",
       "\n",
       "    .dataframe thead tr th {\n",
       "        text-align: left;\n",
       "    }\n",
       "</style>\n",
       "<table border=\"1\" class=\"dataframe\">\n",
       "  <thead>\n",
       "    <tr>\n",
       "      <th></th>\n",
       "      <th>condition</th>\n",
       "      <th colspan=\"2\" halign=\"left\">mean</th>\n",
       "      <th colspan=\"2\" halign=\"left\">std</th>\n",
       "      <th colspan=\"2\" halign=\"left\">sem</th>\n",
       "      <th colspan=\"2\" halign=\"left\">ci</th>\n",
       "      <th colspan=\"2\" halign=\"left\">len</th>\n",
       "    </tr>\n",
       "    <tr>\n",
       "      <th>correct</th>\n",
       "      <th></th>\n",
       "      <th>False</th>\n",
       "      <th>True</th>\n",
       "      <th>False</th>\n",
       "      <th>True</th>\n",
       "      <th>False</th>\n",
       "      <th>True</th>\n",
       "      <th>False</th>\n",
       "      <th>True</th>\n",
       "      <th>False</th>\n",
       "      <th>True</th>\n",
       "    </tr>\n",
       "  </thead>\n",
       "  <tbody>\n",
       "    <tr>\n",
       "      <th>0</th>\n",
       "      <td>congruent</td>\n",
       "      <td>-0.649545</td>\n",
       "      <td>-0.593183</td>\n",
       "      <td>0.295123</td>\n",
       "      <td>0.257711</td>\n",
       "      <td>0.061537</td>\n",
       "      <td>0.005513</td>\n",
       "      <td>0.127621</td>\n",
       "      <td>0.010812</td>\n",
       "      <td>23.0</td>\n",
       "      <td>2185.0</td>\n",
       "    </tr>\n",
       "    <tr>\n",
       "      <th>1</th>\n",
       "      <td>incongruent</td>\n",
       "      <td>-0.581388</td>\n",
       "      <td>-0.211566</td>\n",
       "      <td>0.427261</td>\n",
       "      <td>0.329754</td>\n",
       "      <td>0.029914</td>\n",
       "      <td>0.007366</td>\n",
       "      <td>0.058983</td>\n",
       "      <td>0.014446</td>\n",
       "      <td>204.0</td>\n",
       "      <td>2004.0</td>\n",
       "    </tr>\n",
       "    <tr>\n",
       "      <th>2</th>\n",
       "      <td>neutral</td>\n",
       "      <td>-0.591497</td>\n",
       "      <td>-0.614623</td>\n",
       "      <td>0.518851</td>\n",
       "      <td>0.225998</td>\n",
       "      <td>0.086475</td>\n",
       "      <td>0.004849</td>\n",
       "      <td>0.175554</td>\n",
       "      <td>0.009510</td>\n",
       "      <td>36.0</td>\n",
       "      <td>2172.0</td>\n",
       "    </tr>\n",
       "  </tbody>\n",
       "</table>\n",
       "</div>"
      ],
      "text/plain": [
       "           condition      mean                 std                 sem  \\\n",
       "correct                  False      True     False      True     False   \n",
       "0          congruent -0.649545 -0.593183  0.295123  0.257711  0.061537   \n",
       "1        incongruent -0.581388 -0.211566  0.427261  0.329754  0.029914   \n",
       "2            neutral -0.591497 -0.614623  0.518851  0.225998  0.086475   \n",
       "\n",
       "                         ci              len          \n",
       "correct      True     False      True  False    True  \n",
       "0        0.005513  0.127621  0.010812   23.0  2185.0  \n",
       "1        0.007366  0.058983  0.014446  204.0  2004.0  \n",
       "2        0.004849  0.175554  0.009510   36.0  2172.0  "
      ]
     },
     "execution_count": 64,
     "metadata": {},
     "output_type": "execute_result"
    }
   ],
   "source": [
    "# must unstack and reset index to plot properly\n",
    "res.unstack().reset_index()"
   ]
  },
  {
   "cell_type": "code",
   "execution_count": 114,
   "metadata": {},
   "outputs": [
    {
     "data": {
      "text/plain": [
       "Text(0, 0.5, 'Log(RT)')"
      ]
     },
     "execution_count": 114,
     "metadata": {},
     "output_type": "execute_result"
    },
    {
     "data": {
      "image/png": "[encoded data removed]",
      "text/plain": [
       "<Figure size 432x288 with 1 Axes>"
      ]
     },
     "metadata": {
      "needs_background": "light"
     },
     "output_type": "display_data"
    }
   ],
   "source": [
    "# plot the results\n",
    "ax = res.unstack().reset_index().plot(x='condition', y='mean', yerr='ci', kind=\"bar\")\n",
    "#ax.get_legend().remove()\n",
    "ax.set_xlabel('Condition')\n",
    "ax.set_ylabel('Log(RT)')"
   ]
  },
  {
   "cell_type": "markdown",
   "metadata": {
    "slideshow": {
     "slide_type": "slide"
    }
   },
   "source": [
    "## Regression and beyond!\n",
    "\n",
    "- This sure looks significant, but we need to build a regression to test all these factors\n",
    "\n",
    "![](https://scipy-lectures.org/_images/math/8c27948834377cd91a6907f91d1f87acb32f1817.png)\n",
    "\n",
    "- Here `y` is the dependent variable and `x` is the independent variable(s).\n",
    "- This is also often called *endogenous* and *exogenous*."
   ]
  },
  {
   "cell_type": "markdown",
   "metadata": {
    "slideshow": {
     "slide_type": "slide"
    }
   },
   "source": [
    "## Statsmodels allows us to specify regressions as formulas\n",
    "\n",
    "- There are many ways to fit regression models that often depend on your dependent data\n",
    "  - e.g., ordinary least squares vs. logistic regression"
   ]
  },
  {
   "cell_type": "code",
   "execution_count": 65,
   "metadata": {},
   "outputs": [],
   "source": [
    "import statsmodels.formula.api as smf"
   ]
  },
  {
   "cell_type": "markdown",
   "metadata": {
    "slideshow": {
     "slide_type": "slide"
    }
   },
   "source": [
    "### Question: Are there differences in accuracy between conditions?"
   ]
  },
  {
   "cell_type": "code",
   "execution_count": 100,
   "metadata": {},
   "outputs": [
    {
     "data": {
      "text/html": [
       "<div>\n",
       "<style scoped>\n",
       "    .dataframe tbody tr th:only-of-type {\n",
       "        vertical-align: middle;\n",
       "    }\n",
       "\n",
       "    .dataframe tbody tr th {\n",
       "        vertical-align: top;\n",
       "    }\n",
       "\n",
       "    .dataframe thead th {\n",
       "        text-align: right;\n",
       "    }\n",
       "</style>\n",
       "<table border=\"1\" class=\"dataframe\">\n",
       "  <thead>\n",
       "    <tr style=\"text-align: right;\">\n",
       "      <th></th>\n",
       "      <th>subj</th>\n",
       "      <th>condition</th>\n",
       "      <th>correct</th>\n",
       "    </tr>\n",
       "  </thead>\n",
       "  <tbody>\n",
       "    <tr>\n",
       "      <th>0</th>\n",
       "      <td>s001</td>\n",
       "      <td>congruent</td>\n",
       "      <td>0.979167</td>\n",
       "    </tr>\n",
       "    <tr>\n",
       "      <th>1</th>\n",
       "      <td>s001</td>\n",
       "      <td>incongruent</td>\n",
       "      <td>0.833333</td>\n",
       "    </tr>\n",
       "    <tr>\n",
       "      <th>2</th>\n",
       "      <td>s001</td>\n",
       "      <td>neutral</td>\n",
       "      <td>0.989583</td>\n",
       "    </tr>\n",
       "    <tr>\n",
       "      <th>3</th>\n",
       "      <td>s002</td>\n",
       "      <td>congruent</td>\n",
       "      <td>0.979167</td>\n",
       "    </tr>\n",
       "    <tr>\n",
       "      <th>4</th>\n",
       "      <td>s002</td>\n",
       "      <td>incongruent</td>\n",
       "      <td>0.947917</td>\n",
       "    </tr>\n",
       "    <tr>\n",
       "      <th>...</th>\n",
       "      <td>...</td>\n",
       "      <td>...</td>\n",
       "      <td>...</td>\n",
       "    </tr>\n",
       "    <tr>\n",
       "      <th>64</th>\n",
       "      <td>s022</td>\n",
       "      <td>incongruent</td>\n",
       "      <td>0.927083</td>\n",
       "    </tr>\n",
       "    <tr>\n",
       "      <th>65</th>\n",
       "      <td>s022</td>\n",
       "      <td>neutral</td>\n",
       "      <td>0.989583</td>\n",
       "    </tr>\n",
       "    <tr>\n",
       "      <th>66</th>\n",
       "      <td>s023</td>\n",
       "      <td>congruent</td>\n",
       "      <td>0.958333</td>\n",
       "    </tr>\n",
       "    <tr>\n",
       "      <th>67</th>\n",
       "      <td>s023</td>\n",
       "      <td>incongruent</td>\n",
       "      <td>0.375000</td>\n",
       "    </tr>\n",
       "    <tr>\n",
       "      <th>68</th>\n",
       "      <td>s023</td>\n",
       "      <td>neutral</td>\n",
       "      <td>0.937500</td>\n",
       "    </tr>\n",
       "  </tbody>\n",
       "</table>\n",
       "<p>69 rows × 3 columns</p>\n",
       "</div>"
      ],
      "text/plain": [
       "    subj    condition   correct\n",
       "0   s001    congruent  0.979167\n",
       "1   s001  incongruent  0.833333\n",
       "2   s001      neutral  0.989583\n",
       "3   s002    congruent  0.979167\n",
       "4   s002  incongruent  0.947917\n",
       "..   ...          ...       ...\n",
       "64  s022  incongruent  0.927083\n",
       "65  s022      neutral  0.989583\n",
       "66  s023    congruent  0.958333\n",
       "67  s023  incongruent  0.375000\n",
       "68  s023      neutral  0.937500\n",
       "\n",
       "[69 rows x 3 columns]"
      ]
     },
     "execution_count": 100,
     "metadata": {},
     "output_type": "execute_result"
    }
   ],
   "source": [
    "# first we need to get summary values for each subj\n",
    "sum_df = df_f.groupby(['subj', 'condition'])['correct'].mean().reset_index()\n",
    "sum_df"
   ]
  },
  {
   "cell_type": "code",
   "execution_count": 101,
   "metadata": {},
   "outputs": [
    {
     "data": {
      "text/html": [
       "<table class=\"simpletable\">\n",
       "<caption>OLS Regression Results</caption>\n",
       "<tr>\n",
       "  <th>Dep. Variable:</th>         <td>correct</td>     <th>  R-squared:         </th> <td>   0.192</td>\n",
       "</tr>\n",
       "<tr>\n",
       "  <th>Model:</th>                   <td>OLS</td>       <th>  Adj. R-squared:    </th> <td>   0.168</td>\n",
       "</tr>\n",
       "<tr>\n",
       "  <th>Method:</th>             <td>Least Squares</td>  <th>  F-statistic:       </th> <td>   7.862</td>\n",
       "</tr>\n",
       "<tr>\n",
       "  <th>Date:</th>             <td>Thu, 05 Nov 2020</td> <th>  Prob (F-statistic):</th> <td>0.000866</td>\n",
       "</tr>\n",
       "<tr>\n",
       "  <th>Time:</th>                 <td>13:21:22</td>     <th>  Log-Likelihood:    </th> <td>  79.466</td>\n",
       "</tr>\n",
       "<tr>\n",
       "  <th>No. Observations:</th>      <td>    69</td>      <th>  AIC:               </th> <td>  -152.9</td>\n",
       "</tr>\n",
       "<tr>\n",
       "  <th>Df Residuals:</th>          <td>    66</td>      <th>  BIC:               </th> <td>  -146.2</td>\n",
       "</tr>\n",
       "<tr>\n",
       "  <th>Df Model:</th>              <td>     2</td>      <th>                     </th>     <td> </td>   \n",
       "</tr>\n",
       "<tr>\n",
       "  <th>Covariance Type:</th>      <td>nonrobust</td>    <th>                     </th>     <td> </td>   \n",
       "</tr>\n",
       "</table>\n",
       "<table class=\"simpletable\">\n",
       "<tr>\n",
       "              <td></td>                <th>coef</th>     <th>std err</th>      <th>t</th>      <th>P>|t|</th>  <th>[0.025</th>    <th>0.975]</th>  \n",
       "</tr>\n",
       "<tr>\n",
       "  <th>Intercept</th>                <td>    0.9896</td> <td>    0.016</td> <td>   60.684</td> <td> 0.000</td> <td>    0.957</td> <td>    1.022</td>\n",
       "</tr>\n",
       "<tr>\n",
       "  <th>condition[T.incongruent]</th> <td>   -0.0820</td> <td>    0.023</td> <td>   -3.555</td> <td> 0.001</td> <td>   -0.128</td> <td>   -0.036</td>\n",
       "</tr>\n",
       "<tr>\n",
       "  <th>condition[T.neutral]</th>     <td>   -0.0059</td> <td>    0.023</td> <td>   -0.255</td> <td> 0.799</td> <td>   -0.052</td> <td>    0.040</td>\n",
       "</tr>\n",
       "</table>\n",
       "<table class=\"simpletable\">\n",
       "<tr>\n",
       "  <th>Omnibus:</th>       <td>108.905</td> <th>  Durbin-Watson:     </th> <td>   1.709</td>\n",
       "</tr>\n",
       "<tr>\n",
       "  <th>Prob(Omnibus):</th> <td> 0.000</td>  <th>  Jarque-Bera (JB):  </th> <td>3118.136</td>\n",
       "</tr>\n",
       "<tr>\n",
       "  <th>Skew:</th>          <td>-4.889</td>  <th>  Prob(JB):          </th> <td>    0.00</td>\n",
       "</tr>\n",
       "<tr>\n",
       "  <th>Kurtosis:</th>      <td>34.448</td>  <th>  Cond. No.          </th> <td>    3.73</td>\n",
       "</tr>\n",
       "</table><br/><br/>Notes:<br/>[1] Standard Errors assume that the covariance matrix of the errors is correctly specified."
      ],
      "text/plain": [
       "<class 'statsmodels.iolib.summary.Summary'>\n",
       "\"\"\"\n",
       "                            OLS Regression Results                            \n",
       "==============================================================================\n",
       "Dep. Variable:                correct   R-squared:                       0.192\n",
       "Model:                            OLS   Adj. R-squared:                  0.168\n",
       "Method:                 Least Squares   F-statistic:                     7.862\n",
       "Date:                Thu, 05 Nov 2020   Prob (F-statistic):           0.000866\n",
       "Time:                        13:21:22   Log-Likelihood:                 79.466\n",
       "No. Observations:                  69   AIC:                            -152.9\n",
       "Df Residuals:                      66   BIC:                            -146.2\n",
       "Df Model:                           2                                         \n",
       "Covariance Type:            nonrobust                                         \n",
       "============================================================================================\n",
       "                               coef    std err          t      P>|t|      [0.025      0.975]\n",
       "--------------------------------------------------------------------------------------------\n",
       "Intercept                    0.9896      0.016     60.684      0.000       0.957       1.022\n",
       "condition[T.incongruent]    -0.0820      0.023     -3.555      0.001      -0.128      -0.036\n",
       "condition[T.neutral]        -0.0059      0.023     -0.255      0.799      -0.052       0.040\n",
       "==============================================================================\n",
       "Omnibus:                      108.905   Durbin-Watson:                   1.709\n",
       "Prob(Omnibus):                  0.000   Jarque-Bera (JB):             3118.136\n",
       "Skew:                          -4.889   Prob(JB):                         0.00\n",
       "Kurtosis:                      34.448   Cond. No.                         3.73\n",
       "==============================================================================\n",
       "\n",
       "Notes:\n",
       "[1] Standard Errors assume that the covariance matrix of the errors is correctly specified.\n",
       "\"\"\""
      ]
     },
     "execution_count": 101,
     "metadata": {},
     "output_type": "execute_result"
    }
   ],
   "source": [
    "# build a logistic regression\n",
    "model = smf.ols(\"correct ~ condition\", sum_df).fit()\n",
    "model.summary()"
   ]
  },
  {
   "cell_type": "markdown",
   "metadata": {
    "slideshow": {
     "slide_type": "slide"
    }
   },
   "source": [
    "### Question: Are there differences in RTs between conditions?"
   ]
  },
  {
   "cell_type": "code",
   "execution_count": 124,
   "metadata": {},
   "outputs": [
    {
     "data": {
      "text/html": [
       "<div>\n",
       "<style scoped>\n",
       "    .dataframe tbody tr th:only-of-type {\n",
       "        vertical-align: middle;\n",
       "    }\n",
       "\n",
       "    .dataframe tbody tr th {\n",
       "        vertical-align: top;\n",
       "    }\n",
       "\n",
       "    .dataframe thead th {\n",
       "        text-align: right;\n",
       "    }\n",
       "</style>\n",
       "<table border=\"1\" class=\"dataframe\">\n",
       "  <thead>\n",
       "    <tr style=\"text-align: right;\">\n",
       "      <th></th>\n",
       "      <th>subj</th>\n",
       "      <th>condition</th>\n",
       "      <th>correct</th>\n",
       "      <th>log_rt</th>\n",
       "    </tr>\n",
       "  </thead>\n",
       "  <tbody>\n",
       "    <tr>\n",
       "      <th>0</th>\n",
       "      <td>s001</td>\n",
       "      <td>congruent</td>\n",
       "      <td>False</td>\n",
       "      <td>-0.722098</td>\n",
       "    </tr>\n",
       "    <tr>\n",
       "      <th>1</th>\n",
       "      <td>s001</td>\n",
       "      <td>congruent</td>\n",
       "      <td>True</td>\n",
       "      <td>-0.730229</td>\n",
       "    </tr>\n",
       "    <tr>\n",
       "      <th>2</th>\n",
       "      <td>s001</td>\n",
       "      <td>incongruent</td>\n",
       "      <td>False</td>\n",
       "      <td>-0.832261</td>\n",
       "    </tr>\n",
       "    <tr>\n",
       "      <th>3</th>\n",
       "      <td>s001</td>\n",
       "      <td>incongruent</td>\n",
       "      <td>True</td>\n",
       "      <td>-0.146624</td>\n",
       "    </tr>\n",
       "    <tr>\n",
       "      <th>4</th>\n",
       "      <td>s001</td>\n",
       "      <td>neutral</td>\n",
       "      <td>False</td>\n",
       "      <td>-0.690644</td>\n",
       "    </tr>\n",
       "    <tr>\n",
       "      <th>...</th>\n",
       "      <td>...</td>\n",
       "      <td>...</td>\n",
       "      <td>...</td>\n",
       "      <td>...</td>\n",
       "    </tr>\n",
       "    <tr>\n",
       "      <th>116</th>\n",
       "      <td>s023</td>\n",
       "      <td>congruent</td>\n",
       "      <td>True</td>\n",
       "      <td>-0.793806</td>\n",
       "    </tr>\n",
       "    <tr>\n",
       "      <th>117</th>\n",
       "      <td>s023</td>\n",
       "      <td>incongruent</td>\n",
       "      <td>False</td>\n",
       "      <td>-0.760241</td>\n",
       "    </tr>\n",
       "    <tr>\n",
       "      <th>118</th>\n",
       "      <td>s023</td>\n",
       "      <td>incongruent</td>\n",
       "      <td>True</td>\n",
       "      <td>-0.188005</td>\n",
       "    </tr>\n",
       "    <tr>\n",
       "      <th>119</th>\n",
       "      <td>s023</td>\n",
       "      <td>neutral</td>\n",
       "      <td>False</td>\n",
       "      <td>-0.911746</td>\n",
       "    </tr>\n",
       "    <tr>\n",
       "      <th>120</th>\n",
       "      <td>s023</td>\n",
       "      <td>neutral</td>\n",
       "      <td>True</td>\n",
       "      <td>-0.768993</td>\n",
       "    </tr>\n",
       "  </tbody>\n",
       "</table>\n",
       "<p>121 rows × 4 columns</p>\n",
       "</div>"
      ],
      "text/plain": [
       "     subj    condition  correct    log_rt\n",
       "0    s001    congruent    False -0.722098\n",
       "1    s001    congruent     True -0.730229\n",
       "2    s001  incongruent    False -0.832261\n",
       "3    s001  incongruent     True -0.146624\n",
       "4    s001      neutral    False -0.690644\n",
       "..    ...          ...      ...       ...\n",
       "116  s023    congruent     True -0.793806\n",
       "117  s023  incongruent    False -0.760241\n",
       "118  s023  incongruent     True -0.188005\n",
       "119  s023      neutral    False -0.911746\n",
       "120  s023      neutral     True -0.768993\n",
       "\n",
       "[121 rows x 4 columns]"
      ]
     },
     "execution_count": 124,
     "metadata": {},
     "output_type": "execute_result"
    }
   ],
   "source": [
    "# first we need to get summary values for each subj\n",
    "sum_df = df_f.groupby(['subj', 'condition', 'correct'])['log_rt'].mean().reset_index()\n",
    "sum_df"
   ]
  },
  {
   "cell_type": "markdown",
   "metadata": {
    "slideshow": {
     "slide_type": "slide"
    }
   },
   "source": [
    "#### Full model with interaction"
   ]
  },
  {
   "cell_type": "code",
   "execution_count": 125,
   "metadata": {},
   "outputs": [
    {
     "data": {
      "text/html": [
       "<table class=\"simpletable\">\n",
       "<caption>OLS Regression Results</caption>\n",
       "<tr>\n",
       "  <th>Dep. Variable:</th>         <td>log_rt</td>      <th>  R-squared:         </th> <td>   0.123</td>\n",
       "</tr>\n",
       "<tr>\n",
       "  <th>Model:</th>                   <td>OLS</td>       <th>  Adj. R-squared:    </th> <td>   0.085</td>\n",
       "</tr>\n",
       "<tr>\n",
       "  <th>Method:</th>             <td>Least Squares</td>  <th>  F-statistic:       </th> <td>   3.225</td>\n",
       "</tr>\n",
       "<tr>\n",
       "  <th>Date:</th>             <td>Thu, 05 Nov 2020</td> <th>  Prob (F-statistic):</th>  <td>0.00922</td>\n",
       "</tr>\n",
       "<tr>\n",
       "  <th>Time:</th>                 <td>13:48:43</td>     <th>  Log-Likelihood:    </th> <td> -59.297</td>\n",
       "</tr>\n",
       "<tr>\n",
       "  <th>No. Observations:</th>      <td>   121</td>      <th>  AIC:               </th> <td>   130.6</td>\n",
       "</tr>\n",
       "<tr>\n",
       "  <th>Df Residuals:</th>          <td>   115</td>      <th>  BIC:               </th> <td>   147.4</td>\n",
       "</tr>\n",
       "<tr>\n",
       "  <th>Df Model:</th>              <td>     5</td>      <th>                     </th>     <td> </td>   \n",
       "</tr>\n",
       "<tr>\n",
       "  <th>Covariance Type:</th>      <td>nonrobust</td>    <th>                     </th>     <td> </td>   \n",
       "</tr>\n",
       "</table>\n",
       "<table class=\"simpletable\">\n",
       "<tr>\n",
       "                      <td></td>                        <th>coef</th>     <th>std err</th>      <th>t</th>      <th>P>|t|</th>  <th>[0.025</th>    <th>0.975]</th>  \n",
       "</tr>\n",
       "<tr>\n",
       "  <th>Intercept</th>                                <td>   -0.5988</td> <td>    0.108</td> <td>   -5.530</td> <td> 0.000</td> <td>   -0.813</td> <td>   -0.384</td>\n",
       "</tr>\n",
       "<tr>\n",
       "  <th>condition[T.incongruent]</th>                 <td>    0.1093</td> <td>    0.140</td> <td>    0.782</td> <td> 0.436</td> <td>   -0.168</td> <td>    0.386</td>\n",
       "</tr>\n",
       "<tr>\n",
       "  <th>condition[T.neutral]</th>                     <td>    0.0816</td> <td>    0.146</td> <td>    0.558</td> <td> 0.578</td> <td>   -0.208</td> <td>    0.371</td>\n",
       "</tr>\n",
       "<tr>\n",
       "  <th>correct[T.True]</th>                          <td>    0.0058</td> <td>    0.137</td> <td>    0.042</td> <td> 0.967</td> <td>   -0.266</td> <td>    0.278</td>\n",
       "</tr>\n",
       "<tr>\n",
       "  <th>condition[T.incongruent]:correct[T.True]</th> <td>    0.2791</td> <td>    0.184</td> <td>    1.517</td> <td> 0.132</td> <td>   -0.085</td> <td>    0.643</td>\n",
       "</tr>\n",
       "<tr>\n",
       "  <th>condition[T.neutral]:correct[T.True]</th>     <td>   -0.1029</td> <td>    0.189</td> <td>   -0.545</td> <td> 0.587</td> <td>   -0.477</td> <td>    0.271</td>\n",
       "</tr>\n",
       "</table>\n",
       "<table class=\"simpletable\">\n",
       "<tr>\n",
       "  <th>Omnibus:</th>       <td>103.979</td> <th>  Durbin-Watson:     </th> <td>   1.018</td> \n",
       "</tr>\n",
       "<tr>\n",
       "  <th>Prob(Omnibus):</th> <td> 0.000</td>  <th>  Jarque-Bera (JB):  </th> <td>1057.580</td> \n",
       "</tr>\n",
       "<tr>\n",
       "  <th>Skew:</th>          <td> 2.934</td>  <th>  Prob(JB):          </th> <td>2.24e-230</td>\n",
       "</tr>\n",
       "<tr>\n",
       "  <th>Kurtosis:</th>      <td>16.242</td>  <th>  Cond. No.          </th> <td>    11.3</td> \n",
       "</tr>\n",
       "</table><br/><br/>Notes:<br/>[1] Standard Errors assume that the covariance matrix of the errors is correctly specified."
      ],
      "text/plain": [
       "<class 'statsmodels.iolib.summary.Summary'>\n",
       "\"\"\"\n",
       "                            OLS Regression Results                            \n",
       "==============================================================================\n",
       "Dep. Variable:                 log_rt   R-squared:                       0.123\n",
       "Model:                            OLS   Adj. R-squared:                  0.085\n",
       "Method:                 Least Squares   F-statistic:                     3.225\n",
       "Date:                Thu, 05 Nov 2020   Prob (F-statistic):            0.00922\n",
       "Time:                        13:48:43   Log-Likelihood:                -59.297\n",
       "No. Observations:                 121   AIC:                             130.6\n",
       "Df Residuals:                     115   BIC:                             147.4\n",
       "Df Model:                           5                                         \n",
       "Covariance Type:            nonrobust                                         \n",
       "============================================================================================================\n",
       "                                               coef    std err          t      P>|t|      [0.025      0.975]\n",
       "------------------------------------------------------------------------------------------------------------\n",
       "Intercept                                   -0.5988      0.108     -5.530      0.000      -0.813      -0.384\n",
       "condition[T.incongruent]                     0.1093      0.140      0.782      0.436      -0.168       0.386\n",
       "condition[T.neutral]                         0.0816      0.146      0.558      0.578      -0.208       0.371\n",
       "correct[T.True]                              0.0058      0.137      0.042      0.967      -0.266       0.278\n",
       "condition[T.incongruent]:correct[T.True]     0.2791      0.184      1.517      0.132      -0.085       0.643\n",
       "condition[T.neutral]:correct[T.True]        -0.1029      0.189     -0.545      0.587      -0.477       0.271\n",
       "==============================================================================\n",
       "Omnibus:                      103.979   Durbin-Watson:                   1.018\n",
       "Prob(Omnibus):                  0.000   Jarque-Bera (JB):             1057.580\n",
       "Skew:                           2.934   Prob(JB):                    2.24e-230\n",
       "Kurtosis:                      16.242   Cond. No.                         11.3\n",
       "==============================================================================\n",
       "\n",
       "Notes:\n",
       "[1] Standard Errors assume that the covariance matrix of the errors is correctly specified.\n",
       "\"\"\""
      ]
     },
     "execution_count": 125,
     "metadata": {},
     "output_type": "execute_result"
    }
   ],
   "source": [
    "# build a linear regression of the full model\n",
    "m0 = smf.ols(\"log_rt ~ condition * correct\", sum_df).fit()\n",
    "m0.summary()"
   ]
  },
  {
   "cell_type": "markdown",
   "metadata": {
    "slideshow": {
     "slide_type": "slide"
    }
   },
   "source": [
    "#### Model with only interaction"
   ]
  },
  {
   "cell_type": "code",
   "execution_count": 126,
   "metadata": {},
   "outputs": [
    {
     "data": {
      "text/html": [
       "<table class=\"simpletable\">\n",
       "<caption>OLS Regression Results</caption>\n",
       "<tr>\n",
       "  <th>Dep. Variable:</th>         <td>log_rt</td>      <th>  R-squared:         </th> <td>   0.123</td>\n",
       "</tr>\n",
       "<tr>\n",
       "  <th>Model:</th>                   <td>OLS</td>       <th>  Adj. R-squared:    </th> <td>   0.085</td>\n",
       "</tr>\n",
       "<tr>\n",
       "  <th>Method:</th>             <td>Least Squares</td>  <th>  F-statistic:       </th> <td>   3.225</td>\n",
       "</tr>\n",
       "<tr>\n",
       "  <th>Date:</th>             <td>Thu, 05 Nov 2020</td> <th>  Prob (F-statistic):</th>  <td>0.00922</td>\n",
       "</tr>\n",
       "<tr>\n",
       "  <th>Time:</th>                 <td>13:48:46</td>     <th>  Log-Likelihood:    </th> <td> -59.297</td>\n",
       "</tr>\n",
       "<tr>\n",
       "  <th>No. Observations:</th>      <td>   121</td>      <th>  AIC:               </th> <td>   130.6</td>\n",
       "</tr>\n",
       "<tr>\n",
       "  <th>Df Residuals:</th>          <td>   115</td>      <th>  BIC:               </th> <td>   147.4</td>\n",
       "</tr>\n",
       "<tr>\n",
       "  <th>Df Model:</th>              <td>     5</td>      <th>                     </th>     <td> </td>   \n",
       "</tr>\n",
       "<tr>\n",
       "  <th>Covariance Type:</th>      <td>nonrobust</td>    <th>                     </th>     <td> </td>   \n",
       "</tr>\n",
       "</table>\n",
       "<table class=\"simpletable\">\n",
       "<tr>\n",
       "                     <td></td>                        <th>coef</th>     <th>std err</th>      <th>t</th>      <th>P>|t|</th>  <th>[0.025</th>    <th>0.975]</th>  \n",
       "</tr>\n",
       "<tr>\n",
       "  <th>Intercept</th>                               <td>   -0.5988</td> <td>    0.108</td> <td>   -5.530</td> <td> 0.000</td> <td>   -0.813</td> <td>   -0.384</td>\n",
       "</tr>\n",
       "<tr>\n",
       "  <th>correct[T.True]</th>                         <td>    0.0058</td> <td>    0.137</td> <td>    0.042</td> <td> 0.967</td> <td>   -0.266</td> <td>    0.278</td>\n",
       "</tr>\n",
       "<tr>\n",
       "  <th>condition[T.incongruent]:correct[False]</th> <td>    0.1093</td> <td>    0.140</td> <td>    0.782</td> <td> 0.436</td> <td>   -0.168</td> <td>    0.386</td>\n",
       "</tr>\n",
       "<tr>\n",
       "  <th>condition[T.neutral]:correct[False]</th>     <td>    0.0816</td> <td>    0.146</td> <td>    0.558</td> <td> 0.578</td> <td>   -0.208</td> <td>    0.371</td>\n",
       "</tr>\n",
       "<tr>\n",
       "  <th>condition[T.incongruent]:correct[True]</th>  <td>    0.3884</td> <td>    0.119</td> <td>    3.251</td> <td> 0.002</td> <td>    0.152</td> <td>    0.625</td>\n",
       "</tr>\n",
       "<tr>\n",
       "  <th>condition[T.neutral]:correct[True]</th>      <td>   -0.0213</td> <td>    0.119</td> <td>   -0.178</td> <td> 0.859</td> <td>   -0.258</td> <td>    0.215</td>\n",
       "</tr>\n",
       "</table>\n",
       "<table class=\"simpletable\">\n",
       "<tr>\n",
       "  <th>Omnibus:</th>       <td>103.979</td> <th>  Durbin-Watson:     </th> <td>   1.018</td> \n",
       "</tr>\n",
       "<tr>\n",
       "  <th>Prob(Omnibus):</th> <td> 0.000</td>  <th>  Jarque-Bera (JB):  </th> <td>1057.580</td> \n",
       "</tr>\n",
       "<tr>\n",
       "  <th>Skew:</th>          <td> 2.934</td>  <th>  Prob(JB):          </th> <td>2.24e-230</td>\n",
       "</tr>\n",
       "<tr>\n",
       "  <th>Kurtosis:</th>      <td>16.242</td>  <th>  Cond. No.          </th> <td>    7.80</td> \n",
       "</tr>\n",
       "</table><br/><br/>Notes:<br/>[1] Standard Errors assume that the covariance matrix of the errors is correctly specified."
      ],
      "text/plain": [
       "<class 'statsmodels.iolib.summary.Summary'>\n",
       "\"\"\"\n",
       "                            OLS Regression Results                            \n",
       "==============================================================================\n",
       "Dep. Variable:                 log_rt   R-squared:                       0.123\n",
       "Model:                            OLS   Adj. R-squared:                  0.085\n",
       "Method:                 Least Squares   F-statistic:                     3.225\n",
       "Date:                Thu, 05 Nov 2020   Prob (F-statistic):            0.00922\n",
       "Time:                        13:48:46   Log-Likelihood:                -59.297\n",
       "No. Observations:                 121   AIC:                             130.6\n",
       "Df Residuals:                     115   BIC:                             147.4\n",
       "Df Model:                           5                                         \n",
       "Covariance Type:            nonrobust                                         \n",
       "===========================================================================================================\n",
       "                                              coef    std err          t      P>|t|      [0.025      0.975]\n",
       "-----------------------------------------------------------------------------------------------------------\n",
       "Intercept                                  -0.5988      0.108     -5.530      0.000      -0.813      -0.384\n",
       "correct[T.True]                             0.0058      0.137      0.042      0.967      -0.266       0.278\n",
       "condition[T.incongruent]:correct[False]     0.1093      0.140      0.782      0.436      -0.168       0.386\n",
       "condition[T.neutral]:correct[False]         0.0816      0.146      0.558      0.578      -0.208       0.371\n",
       "condition[T.incongruent]:correct[True]      0.3884      0.119      3.251      0.002       0.152       0.625\n",
       "condition[T.neutral]:correct[True]         -0.0213      0.119     -0.178      0.859      -0.258       0.215\n",
       "==============================================================================\n",
       "Omnibus:                      103.979   Durbin-Watson:                   1.018\n",
       "Prob(Omnibus):                  0.000   Jarque-Bera (JB):             1057.580\n",
       "Skew:                           2.934   Prob(JB):                    2.24e-230\n",
       "Kurtosis:                      16.242   Cond. No.                         7.80\n",
       "==============================================================================\n",
       "\n",
       "Notes:\n",
       "[1] Standard Errors assume that the covariance matrix of the errors is correctly specified.\n",
       "\"\"\""
      ]
     },
     "execution_count": 126,
     "metadata": {},
     "output_type": "execute_result"
    }
   ],
   "source": [
    "m1 = smf.ols(\"log_rt ~ condition : correct\", sum_df).fit()\n",
    "m1.summary()"
   ]
  },
  {
   "cell_type": "markdown",
   "metadata": {
    "slideshow": {
     "slide_type": "slide"
    }
   },
   "source": [
    "#### Model with only correct items"
   ]
  },
  {
   "cell_type": "code",
   "execution_count": 120,
   "metadata": {},
   "outputs": [
    {
     "data": {
      "text/html": [
       "<table class=\"simpletable\">\n",
       "<caption>OLS Regression Results</caption>\n",
       "<tr>\n",
       "  <th>Dep. Variable:</th>         <td>log_rt</td>      <th>  R-squared:         </th> <td>   0.401</td>\n",
       "</tr>\n",
       "<tr>\n",
       "  <th>Model:</th>                   <td>OLS</td>       <th>  Adj. R-squared:    </th> <td>   0.382</td>\n",
       "</tr>\n",
       "<tr>\n",
       "  <th>Method:</th>             <td>Least Squares</td>  <th>  F-statistic:       </th> <td>   22.06</td>\n",
       "</tr>\n",
       "<tr>\n",
       "  <th>Date:</th>             <td>Thu, 05 Nov 2020</td> <th>  Prob (F-statistic):</th> <td>4.61e-08</td>\n",
       "</tr>\n",
       "<tr>\n",
       "  <th>Time:</th>                 <td>13:48:02</td>     <th>  Log-Likelihood:    </th> <td>  3.4100</td>\n",
       "</tr>\n",
       "<tr>\n",
       "  <th>No. Observations:</th>      <td>    69</td>      <th>  AIC:               </th> <td> -0.8201</td>\n",
       "</tr>\n",
       "<tr>\n",
       "  <th>Df Residuals:</th>          <td>    66</td>      <th>  BIC:               </th> <td>   5.882</td>\n",
       "</tr>\n",
       "<tr>\n",
       "  <th>Df Model:</th>              <td>     2</td>      <th>                     </th>     <td> </td>   \n",
       "</tr>\n",
       "<tr>\n",
       "  <th>Covariance Type:</th>      <td>nonrobust</td>    <th>                     </th>     <td> </td>   \n",
       "</tr>\n",
       "</table>\n",
       "<table class=\"simpletable\">\n",
       "<tr>\n",
       "              <td></td>                <th>coef</th>     <th>std err</th>      <th>t</th>      <th>P>|t|</th>  <th>[0.025</th>    <th>0.975]</th>  \n",
       "</tr>\n",
       "<tr>\n",
       "  <th>Intercept</th>                <td>   -0.5930</td> <td>    0.049</td> <td>  -12.078</td> <td> 0.000</td> <td>   -0.691</td> <td>   -0.495</td>\n",
       "</tr>\n",
       "<tr>\n",
       "  <th>condition[T.incongruent]</th> <td>    0.3884</td> <td>    0.069</td> <td>    5.593</td> <td> 0.000</td> <td>    0.250</td> <td>    0.527</td>\n",
       "</tr>\n",
       "<tr>\n",
       "  <th>condition[T.neutral]</th>     <td>   -0.0213</td> <td>    0.069</td> <td>   -0.306</td> <td> 0.760</td> <td>   -0.160</td> <td>    0.117</td>\n",
       "</tr>\n",
       "</table>\n",
       "<table class=\"simpletable\">\n",
       "<tr>\n",
       "  <th>Omnibus:</th>       <td>48.632</td> <th>  Durbin-Watson:     </th> <td>   0.942</td>\n",
       "</tr>\n",
       "<tr>\n",
       "  <th>Prob(Omnibus):</th> <td> 0.000</td> <th>  Jarque-Bera (JB):  </th> <td> 170.063</td>\n",
       "</tr>\n",
       "<tr>\n",
       "  <th>Skew:</th>          <td> 2.192</td> <th>  Prob(JB):          </th> <td>1.18e-37</td>\n",
       "</tr>\n",
       "<tr>\n",
       "  <th>Kurtosis:</th>      <td> 9.320</td> <th>  Cond. No.          </th> <td>    3.73</td>\n",
       "</tr>\n",
       "</table><br/><br/>Notes:<br/>[1] Standard Errors assume that the covariance matrix of the errors is correctly specified."
      ],
      "text/plain": [
       "<class 'statsmodels.iolib.summary.Summary'>\n",
       "\"\"\"\n",
       "                            OLS Regression Results                            \n",
       "==============================================================================\n",
       "Dep. Variable:                 log_rt   R-squared:                       0.401\n",
       "Model:                            OLS   Adj. R-squared:                  0.382\n",
       "Method:                 Least Squares   F-statistic:                     22.06\n",
       "Date:                Thu, 05 Nov 2020   Prob (F-statistic):           4.61e-08\n",
       "Time:                        13:48:02   Log-Likelihood:                 3.4100\n",
       "No. Observations:                  69   AIC:                           -0.8201\n",
       "Df Residuals:                      66   BIC:                             5.882\n",
       "Df Model:                           2                                         \n",
       "Covariance Type:            nonrobust                                         \n",
       "============================================================================================\n",
       "                               coef    std err          t      P>|t|      [0.025      0.975]\n",
       "--------------------------------------------------------------------------------------------\n",
       "Intercept                   -0.5930      0.049    -12.078      0.000      -0.691      -0.495\n",
       "condition[T.incongruent]     0.3884      0.069      5.593      0.000       0.250       0.527\n",
       "condition[T.neutral]        -0.0213      0.069     -0.306      0.760      -0.160       0.117\n",
       "==============================================================================\n",
       "Omnibus:                       48.632   Durbin-Watson:                   0.942\n",
       "Prob(Omnibus):                  0.000   Jarque-Bera (JB):              170.063\n",
       "Skew:                           2.192   Prob(JB):                     1.18e-37\n",
       "Kurtosis:                       9.320   Cond. No.                         3.73\n",
       "==============================================================================\n",
       "\n",
       "Notes:\n",
       "[1] Standard Errors assume that the covariance matrix of the errors is correctly specified.\n",
       "\"\"\""
      ]
     },
     "execution_count": 120,
     "metadata": {},
     "output_type": "execute_result"
    }
   ],
   "source": [
    "sum_df = df_f.loc[df_f['correct']].groupby(['subj', 'condition'])['log_rt'].mean().reset_index()\n",
    "m2 = smf.ols(\"log_rt ~ condition\", sum_df).fit()\n",
    "m2.summary()"
   ]
  },
  {
   "cell_type": "markdown",
   "metadata": {
    "slideshow": {
     "slide_type": "slide"
    }
   },
   "source": [
    "## Conclusion\n",
    "\n",
    "- We see a robust congruency effect whereby:\n",
    "  - Incongruent trials have lower performance than congruent\n",
    "  - *Correct* incongruent trials are much slower than *incorrect*\n",
    "  - i.e., participants make \"fast\" errors"
   ]
  },
  {
   "cell_type": "markdown",
   "metadata": {
    "slideshow": {
     "slide_type": "slide"
    }
   },
   "source": [
    "## Assignment before next class\n",
    "\n",
    "- We will post a small set of analyses to run on the memory data based on the examples in this class\n",
    "- This will be due on ***Thursday*** next week\n",
    "\n",
    "### See you next week!!!"
   ]
  }
 ],
 "metadata": {
  "celltoolbar": "Slideshow",
  "kernelspec": {
   "display_name": "Python 3",
   "language": "python",
   "name": "python3"
  },
  "language_info": {
   "codemirror_mode": {
    "name": "ipython",
    "version": 3
   },
   "file_extension": ".py",
   "mimetype": "text/x-python",
   "name": "python",
   "nbconvert_exporter": "python",
   "pygments_lexer": "ipython3",
   "version": "3.8.3"
  },
  "rise": {
   "scroll": true
  }
 },
 "nbformat": 4,
 "nbformat_minor": 2
}
