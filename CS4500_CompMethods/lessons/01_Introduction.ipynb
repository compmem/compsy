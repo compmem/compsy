{
 "cells": [
  {
   "cell_type": "markdown",
   "metadata": {
    "slideshow": {
     "slide_type": "slide"
    }
   },
   "source": [
    "# Computational Methods in Psychology (and Neuroscience)\n",
    "## or: *How I learned to stop worrying and love to program*\n",
    "### Psychology 4500 --- Fall 2020\n",
    "By: Per B. Sederberg, PhD\n",
    "\n",
    "![](http://compmem.org/assets/img/cmlab_logo.jpg)"
   ]
  },
  {
   "cell_type": "markdown",
   "metadata": {
    "slideshow": {
     "slide_type": "slide"
    }
   },
   "source": [
    "## Quick Reference\n",
    "\n",
    "\n",
    "- *Credit*:    3 units ; Class # 18865\n",
    "\n",
    "- *Time*: Thursday, 14:00 -- 16:30\n",
    "\n",
    "- *Place*: Online\n",
    "\n",
    "- *Text*: Assigned readings\n",
    "\n",
    "- *Course Web Page*: GitHub (https://github.com/compmem/compsy)\n",
    "\n",
    "- *Course assistants*: Ryan Kirkpatrick (and other CompMem lab members)\n",
    "\n",
    "- *Instructor*: Dr. Per Sederberg\n",
    "\n",
    "- *Office*: Online\n",
    "\n",
    "- *E-mail*: pbs5u@virginia.edu (but use Slack whenever possible)\n",
    "\n",
    "- *Lab Website*: Computational Memory Lab (https://compmem.org)\n",
    "\n",
    "- *Office hours*: TBA\n",
    "\n",
    "- *Final*: Project-based\n"
   ]
  },
  {
   "cell_type": "markdown",
   "metadata": {
    "slideshow": {
     "slide_type": "slide"
    }
   },
   "source": [
    "## Acknowledgements\n",
    "\n",
    "Thank you to all the contributors to the various Python projects, including:\n",
    "\n",
    "- Python Software Foundation (http://www.python.org)\n",
    "- Scientific Tools for Python (http://www.scipy.org)\n",
    "\n",
    "And especially to the following, from which much of the inspiration or content of the lectures \n",
    "and tutorials was borrowed:\n",
    "\n",
    "* Think Python (https://greenteapress.com/wp/think-python-2e/)\n",
    "\n",
    "* Scientific Python Lectures (https://scipy-lectures.org/index.html)\n",
    "\n",
    "And to my former postdoc, [Troy A. Smith, PhD](https://ung.edu/psychology/faculty-staff-bio/troy-smith.php), who helped develop the first version of this course in 2012."
   ]
  },
  {
   "cell_type": "markdown",
   "metadata": {
    "slideshow": {
     "slide_type": "slide"
    }
   },
   "source": [
    "## Online Course Expectations\n",
    "\n",
    "This course will be taking place entirely online with \"synchronous\" classes on Zoom. As much as possible, I hope we can make this feel like we are all in this together, meeting in the same room. As such, these are the primary guidelines and expectations for our Zoom meetings:\n",
    "\n",
    "- You should keep your video on unless a transient issue arises (e.g., there is something seriously distracting going on in the room.) \n",
    "- You can, however, keep your microphone muted when not talking.\n",
    "- Feel free to ask questions anytime! It's often hard for me to see everyone, so interjecting by voice is perfectly fine (i.e., you don't need to use the hand-raising feature in the Zoom chat.)\n",
    "- We will be recording the lessons, which will be made available *only* to those in the class via UVACollab. \n",
    "\n",
    "*If you have any concerns about any of these policies, please set up a meeting with me and I will do my best to accommodate your needs.*\n"
   ]
  },
  {
   "cell_type": "markdown",
   "metadata": {
    "slideshow": {
     "slide_type": "slide"
    }
   },
   "source": [
    "## Why are we here?\n",
    "\n",
    "![The memory drum.](http://learnmem.cshlp.org/content/6/2/77/F2.medium.gif)\n",
    "\n",
    "- Science is hard, and folks didn't always have it so easy...\n",
    "- Today, we have computers, yet they are rarely employed to their full potential.\n",
    "  - This limits the productivity, reproducibility, and quality of our work. "
   ]
  },
  {
   "cell_type": "markdown",
   "metadata": {
    "slideshow": {
     "slide_type": "slide"
    }
   },
   "source": [
    "## This course\n",
    "\n",
    "- Is designed to break the fetters of commercial, and often inflexible, applications with the power of computer programming. \n",
    "- Makes no assumptions of prior programming experience.\n",
    "- Focuses on the Python language and specifically on how it can help with *every* stage of our scientific workflow in Psychology and Neuroscience.  \n",
    "\n",
    "***The goal is that you will:***\n",
    "- gain a better understanding of how a computer works (and can work for you)\n",
    "- improve how you solve problems\n",
    "- optimize and speed up your workflow\n",
    "- but, most importantly, that you will lessen the need to tailor your research questions based on the *status quo*."
   ]
  },
  {
   "cell_type": "markdown",
   "metadata": {
    "slideshow": {
     "slide_type": "slide"
    }
   },
   "source": [
    "## Computing Requirements\n",
    "\n",
    "- This is a computational class and all work will be performed on a computer, and almost entirely with the Python programming language within Jupyter notebooks. \n",
    "  - You will need to bring a laptop running Windows, OSX, or Linux to every class. \n",
    "\n",
    "- You will run the [Jupyter](https://jupyter.org) notebooks directly on your computer. This will also allow you to incorporate these approaches into your own research more easily. \n",
    "  - Thus, my recommendation is that you install and use the [Anaconda Python](https://www.anaconda.com/) distribution for your OS. \n",
    "\n",
    "- We will spend time on the first day of class to ensure everyone has a functioning computer that will be able to run everything necessary for the course.\n"
   ]
  },
  {
   "cell_type": "markdown",
   "metadata": {
    "slideshow": {
     "slide_type": "slide"
    }
   },
   "source": [
    "## Schedule\n",
    "\n",
    "The following is the general order of the topics covered in the course. Please note that sometimes we may cover multiple topics in a single lecture, or spend more than one lecture on a single topic, and this list is subject to modification at any time. \n",
    "\n",
    "0. Intro and Ecosystem setup\n",
    "1. Version control with git\n",
    "2. Python programming\n",
    "3. Experiment design and implementation\n",
    "4. Data collection and processing\n",
    "5. Data visualization\n",
    "6. Data analysis and statistics\n",
    "7. Presentations\n",
    "8. Advanced topics\n",
    "\n"
   ]
  },
  {
   "cell_type": "markdown",
   "metadata": {
    "slideshow": {
     "slide_type": "slide"
    }
   },
   "source": [
    "## Evaluation\n",
    "\n",
    "This is a upper-level course, which means that much of the burden of staying motivated to learn is transferred to the student. As such, there will not be any in-class exams. Students will be evaluated on the basis of:\n",
    "\n",
    "- Lesson exercises / class participation (30 pts)\n",
    "- List generation project (20 pts)\n",
    "- Experiment project (20 pts)\n",
    "- Data Analysis project (30 pts)\n",
    "\n",
    "for a total of 100 points. \n",
    "\n",
    "The course will be graded using the standard grading scale.\n",
    "\n"
   ]
  },
  {
   "cell_type": "markdown",
   "metadata": {
    "collapsed": true,
    "slideshow": {
     "slide_type": "slide"
    }
   },
   "source": [
    "## GitHub\n",
    "\n",
    "All course material will be available on a public [GitHub](https://github.com/compmem/compsy) repository. \n",
    "\n",
    "There you will find the current version of the syllabus, all Jupyter Notebooks for the lessons, and links to any associated readings.\n",
    "\n",
    "I encourage you all to sign up for a GitHub account and make use of Git in your research.\n",
    "\n",
    "In fact, we will be making use of [Git](https://git-scm.com/) to manage code and assignments in this course. \n",
    "\n",
    "***We will provide an introduction to Git and GitHub in the next class.***\n",
    "\n"
   ]
  },
  {
   "cell_type": "markdown",
   "metadata": {
    "slideshow": {
     "slide_type": "slide"
    }
   },
   "source": [
    "## Communications\n",
    "\n",
    "We will use [Slack](https://slack.com/) for all class communication and discussions. \n",
    "\n",
    "Please do not email me unless there is an issue with Slack. If you'd prefer to have a one-on-one discussion it is possible to send direct messages in Slack.\n",
    "\n",
    "There will also be traditional office hours for in-person conversations.\n",
    "\n",
    "***Look for an email after class inviting you to the Slack Workspace for the course!***\n"
   ]
  },
  {
   "cell_type": "markdown",
   "metadata": {
    "slideshow": {
     "slide_type": "slide"
    }
   },
   "source": [
    "# Let's get started!"
   ]
  },
  {
   "cell_type": "markdown",
   "metadata": {
    "slideshow": {
     "slide_type": "slide"
    }
   },
   "source": [
    "## What do we do?\n",
    "\n",
    "- Get data (simulation, experiment, survey, etc.)\n",
    "\n",
    "- Manipulate and process data.\n",
    "\n",
    "- Visualize results... to understand what we are doing!\n",
    "\n",
    "- Perform statistical analyses.\n",
    "\n",
    "- Communicate results: produce figures for reports or publications,\n",
    "  write presentations.\n",
    "\n",
    "![](http://phdcomics.com/comics/archive/phd053104s.gif)\n",
    "\n"
   ]
  },
  {
   "cell_type": "markdown",
   "metadata": {
    "slideshow": {
     "slide_type": "slide"
    }
   },
   "source": [
    "## What do we want?\n",
    "\n",
    "\n",
    "- A rich collection of already existing modules and libraries with code for\n",
    "  performing routine tasks, including classical numerical methods: \n",
    "  \n",
    "  - We don't want to re-program the plotting of a curve, a Fourier transform,\n",
    "    or a fitting algorithm. \n",
    "\n",
    "  - Don't reinvent the wheel!\n",
    "\n",
    "- Easy to learn:\n",
    "\n",
    "  - Computer science neither is our job nor our education. \n",
    "\n",
    "  - We want to be able to draw a curve, smooth a signal, do a Fourier transform, or run a statistical test with a few lines of code.\n",
    "  \n",
    "- Easy communication with collaborators, students, customers, to make the code\n",
    "  live within a lab: \n",
    "\n",
    "  - Code should be as readable as a book.\n",
    "\n",
    "  - Thus, the language should contain as few syntax symbols or unneeded routines\n",
    "    that would divert the reader from the mathematical or scientific understanding\n",
    "    of the code.\n",
    "\n",
    "- Efficient code that executes quickly...\n",
    "\n",
    "  - But needless to say that a very fast code becomes useless if we\n",
    "    spend too much time writing it. \n",
    "\n",
    "  - So, we need both a quick development time and a quick execution\n",
    "    time.\n",
    "\n",
    "- A single environment/language for everything\n",
    "\n",
    "  - Avoid learning a new software for each new problem.\n",
    "  \n",
    "- Should be cross-platform so that you can use the same code and tools\n",
    "  on any operating system (Linux, Windows, OS X).\n",
    " \n",
    "\n",
    "\n"
   ]
  },
  {
   "cell_type": "markdown",
   "metadata": {
    "slideshow": {
     "slide_type": "slide"
    }
   },
   "source": [
    "## How can we get it?\n",
    "\n",
    "What choices do we have?"
   ]
  },
  {
   "cell_type": "markdown",
   "metadata": {
    "slideshow": {
     "slide_type": "slide"
    }
   },
   "source": [
    "## Compiled languages: C, C++, Fortran, etc...\n",
    "\n",
    "- Advantages:\n",
    "\n",
    "  - Very fast. Very optimized compilers. For heavy computations, it's difficult\n",
    "    to outperform these languages.\n",
    "\n",
    "  - Some very optimized scientific libraries have been written for these\n",
    "    languages. Ex: blas (vector/matrix operations)\n",
    "\n",
    "- Drawbacks:\n",
    "\n",
    "  - Painful usage: \n",
    "  \n",
    "    - no interactivity during development,\n",
    "    - mandatory compilation steps, \n",
    "    - verbose syntax (&, ::, }}, ; etc.),\n",
    "    - manual memory management (tricky in C). \n",
    "    \n",
    "These are **difficult languages** for non computer scientists.\n"
   ]
  },
  {
   "cell_type": "markdown",
   "metadata": {
    "slideshow": {
     "slide_type": "slide"
    }
   },
   "source": [
    "## Scripting languages: Matlab\n",
    "\n",
    "- Advantages: \n",
    "\n",
    "  - Very rich collection of libraries with numerous algorithms, for many\n",
    "    different domains. \n",
    "    \n",
    "  - Fast execution because these libraries are often written\n",
    "    in a compiled language.\n",
    "\n",
    "  - Pleasant development environment: comprehensive and well organized help,\n",
    "    integrated editor, etc.\n",
    "\n",
    "  - Commercial support is available.\n",
    "\n",
    "- Drawbacks: \n",
    "\n",
    "  - Base language is quite poor and can become restrictive for advanced users.\n",
    "\n",
    "  - Not free."
   ]
  },
  {
   "cell_type": "markdown",
   "metadata": {
    "slideshow": {
     "slide_type": "slide"
    }
   },
   "source": [
    "## Scripting languages: Julia\n",
    "\n",
    "- Advantages:\n",
    "  - Fast code, yet interactive and simple.\n",
    "  - Easily connects to Python or C.\n",
    "\n",
    "- Drawbacks:\n",
    "\n",
    "  - Ecosystem limited to numerical computing.\n",
    "  - Still young.\n"
   ]
  },
  {
   "cell_type": "markdown",
   "metadata": {
    "slideshow": {
     "slide_type": "slide"
    }
   },
   "source": [
    "## Other scripting languages\n",
    "\n",
    "**--e.g., Scilab, Octave, R, IDL, etc.--**\n",
    "\n",
    "- Advantages:\n",
    "\n",
    "  - Open-source, free, or at least cheaper than Matlab.\n",
    "\n",
    "  - Some features can be very advanced (statistics in R, etc.)\n",
    "\n",
    "- Drawbacks:\n",
    "\n",
    "  - Fewer available algorithms than in Matlab, and the language\n",
    "    is not more advanced.\n",
    "\n",
    "  - Some software are dedicated to one domain. e.g., Gnuplot or xmgrace\n",
    "    to draw curves. These programs are very powerful, but they are\n",
    "    restricted to a single type of usage, such as plotting. \n"
   ]
  },
  {
   "cell_type": "markdown",
   "metadata": {
    "slideshow": {
     "slide_type": "slide"
    }
   },
   "source": [
    "What about Python?\n",
    "------------------\n",
    "\n",
    "- Advantages:\n",
    "  \n",
    "  - Very rich scientific computing libraries (a bit less than Matlab,\n",
    "    though)\n",
    "    \n",
    "  - Well thought out language, allowing to write very readable and well structured\n",
    "    code: we \"code what we think\".\n",
    "\n",
    "  - Many libraries for other tasks than scientific computing (web server\n",
    "    management, serial port access, etc.)\n",
    "    \n",
    "  - A variety of powerful environments to work in, such as IPython, Spyder, Jupyter notebooks, Pycharm, Visual Studio Code...\n",
    "\n",
    "  - Free and open-source software, widely spread, with a vibrant community.\n",
    "  \n",
    "  - Works on all major operating systems: Linux, Windows, Mac OS X\n",
    "\n",
    "\n",
    "- Drawbacks:  \n",
    "\n",
    "  - Not all the algorithms that can be found in more specialized\n",
    "    software or toolboxes.\n"
   ]
  },
  {
   "cell_type": "markdown",
   "metadata": {
    "slideshow": {
     "slide_type": "slide"
    }
   },
   "source": [
    "\n",
    "## What can you do with Python?\n",
    "\n",
    "- Write programs to run experiments\n",
    "\n",
    "- Computational modeling (cognitive models, neural networks, simulation studies)\n",
    "\n",
    "- Data processing from start to finish\n",
    "\n",
    "  - Reading and parsing log files\n",
    "  \n",
    "  - Data preprocessing (esp, important for EEG and fMRI) and filtering\n",
    "  \n",
    "  - Statistical analyses\n",
    "\n",
    "- Produce papers, presentations, websites...\n",
    "\n",
    "- Just about anything else you can think of\n",
    "\n",
    "  - Games, graphics, audio apps, even cell phone apps\n"
   ]
  },
  {
   "cell_type": "markdown",
   "metadata": {
    "slideshow": {
     "slide_type": "slide"
    }
   },
   "source": [
    "## Jupyter Notebooks\n",
    "\n",
    "The core computational and interactive infrastructure for the entire class will be [Jupyter](https://jupyter.org) notebooks. They provide an interactive way of interspersing code, text, and graphics, akin to a dynamic electronic lab notebook. \n",
    "\n",
    "Jupyter notebooks are *VERY* powerful, and have many useful extensions (for example, this presentation is a live and editable rendering of a Jupyter notebook!)"
   ]
  },
  {
   "cell_type": "markdown",
   "metadata": {},
   "source": [
    "### A quick tour of Jupyter notebook features...\n",
    "\n",
    "- Client/Server architecture\n",
    "- Cells of code/text\n",
    "- HTML-based front-end\n",
    "- Cell output can be tables and (interactive) graphics"
   ]
  },
  {
   "cell_type": "markdown",
   "metadata": {
    "slideshow": {
     "slide_type": "slide"
    }
   },
   "source": [
    "### Markdown cells can have fancy formatting:\n",
    "\n",
    "- Headings with #, ##, ###, etc...\n",
    "- *italics*\n",
    "- **bold**\n",
    "- Inline equations like $t_i = \\rho t_{i-1} + (1 - \\rho)f_i$\n",
    "- Or a full equation on its on line:\n",
    "\n",
    "  $$\\frac{dx}{dt} = \\frac{(\\rho - \\kappa x)}{\\tau}$$\n",
    "- Images:\n",
    "  ![](https://jupyter.org/assets/main-logo.svg)\n",
    "- Tables:\n",
    "\n",
    "| This | is   |\n",
    "|------|------|\n",
    "|   a  | table|"
   ]
  },
  {
   "cell_type": "code",
   "execution_count": 1,
   "metadata": {
    "slideshow": {
     "slide_type": "slide"
    }
   },
   "outputs": [],
   "source": [
    "# Best practice is to put imports and settings at the top\n",
    "\n",
    "# load matplotlib in inline mode (you can use notebook if you are running local)\n",
    "%matplotlib inline\n",
    "\n",
    "# import some useful libraries\n",
    "import numpy as np                # numerical analysis linear algebra\n",
    "import pandas as pd               # efficient tables\n",
    "import matplotlib.pyplot as plt   # plotting\n",
    "import ipywidgets as widgets      # interactive widgets\n"
   ]
  },
  {
   "cell_type": "markdown",
   "metadata": {
    "slideshow": {
     "slide_type": "slide"
    }
   },
   "source": [
    "## Other useful libraries\n",
    "\n",
    "- [SciPy](https://www.scipy.org): Wide range of tools scientific computing\n",
    "- [StatsModels](https://www.statsmodels.org/stable/index.html): Many statistics\n",
    "- [NiLearn](https://nilearn.github.io): Machine learning of neuroimaging data\n",
    "- [Numba](http://numba.pydata.org): Just-in-time compiler to speed up Python\n",
    "- [PlotNine](https://plotnine.readthedocs.io/en/stable/): Port of ggplot2 to Python\n",
    "- [Seaborn](https://seaborn.pydata.org): Statistical data visualization"
   ]
  },
  {
   "cell_type": "markdown",
   "metadata": {
    "slideshow": {
     "slide_type": "slide"
    }
   },
   "source": [
    "## Some libraries from my lab\n",
    "\n",
    "- [SMILE](https://github.com/compmem/SMILE): A library for writing Psychology/Neuroscience experiments in Python.\n",
    "- [RunDEMC](https://github.com/compmem/RunDEMC): Library for running Bayesian inference on hierarchical models.\n",
    "- [PTSA](https://github.com/compmem/ptsa): Short for Python Time Series Analysis, this library aids in analysis of EEG and other forms of neural data represented as time series."
   ]
  },
  {
   "cell_type": "code",
   "execution_count": 2,
   "metadata": {
    "slideshow": {
     "slide_type": "slide"
    }
   },
   "outputs": [],
   "source": [
    "# get some random data\n",
    "dat = np.random.randn(1000, 10)"
   ]
  },
  {
   "cell_type": "code",
   "execution_count": 3,
   "metadata": {
    "slideshow": {
     "slide_type": "subslide"
    }
   },
   "outputs": [
    {
     "name": "stdout",
     "output_type": "stream",
     "text": [
      "2.14 ms ± 12.6 µs per loop (mean ± std. dev. of 7 runs, 100 loops each)\n"
     ]
    }
   ],
   "source": [
    "%%timeit\n",
    "# calculate the mean of each row\n",
    "mdat = []\n",
    "for i in range(len(dat)):\n",
    "    mdat.append(sum(dat[i])/len(dat[i]))\n"
   ]
  },
  {
   "cell_type": "code",
   "execution_count": 4,
   "metadata": {
    "slideshow": {
     "slide_type": "subslide"
    }
   },
   "outputs": [
    {
     "name": "stdout",
     "output_type": "stream",
     "text": [
      "21.4 µs ± 226 ns per loop (mean ± std. dev. of 7 runs, 10000 loops each)\n"
     ]
    }
   ],
   "source": [
    "%%timeit\n",
    "# numpy can help us do things like this much faster\n",
    "mdat = dat.mean(1)"
   ]
  },
  {
   "cell_type": "code",
   "execution_count": 5,
   "metadata": {
    "slideshow": {
     "slide_type": "slide"
    }
   },
   "outputs": [
    {
     "data": {
      "image/png": "[encoded data removed]",
      "text/plain": [
       "<Figure size 432x288 with 1 Axes>"
      ]
     },
     "metadata": {
      "needs_background": "light"
     },
     "output_type": "display_data"
    }
   ],
   "source": [
    "# sample some normally-distributed random numbers\n",
    "x = np.random.randn(10000)\n",
    "\n",
    "# plot a histogram of them\n",
    "plt.hist(x, bins='auto');       # the ; suppresses the printout of the return values"
   ]
  },
  {
   "cell_type": "code",
   "execution_count": 6,
   "metadata": {
    "slideshow": {
     "slide_type": "slide"
    }
   },
   "outputs": [
    {
     "data": {
      "application/vnd.jupyter.widget-view+json": {
       "model_id": "9c72d40e07f24d8ba82293c423778c4a",
       "version_major": 2,
       "version_minor": 0
      },
      "text/plain": [
       "interactive(children=(IntSlider(value=10, description='x', max=30, min=-10), Output()), _dom_classes=('widget-…"
      ]
     },
     "metadata": {},
     "output_type": "display_data"
    }
   ],
   "source": [
    "# you can even have interactive widgets!\n",
    "def f(x):\n",
    "    print(x)\n",
    "widgets.interact(f, x=10);"
   ]
  },
  {
   "cell_type": "markdown",
   "metadata": {
    "slideshow": {
     "slide_type": "slide"
    }
   },
   "source": [
    "## Why do we use Anaconda?\n",
    "\n",
    "![](https://imgs.xkcd.com/comics/python_environment.png)"
   ]
  },
  {
   "cell_type": "markdown",
   "metadata": {
    "slideshow": {
     "slide_type": "slide"
    }
   },
   "source": [
    "## Why do we use Anaconda?\n",
    "\n",
    "1. Relatively easy to install and well-supported\n",
    "    - Can be installed with GUI or command line\n",
    "    - Easy to find solutions to installation or runtime problems online\n",
    "2. Allows you to create virtual environments\n",
    "    - Essential when packages share dependencies but require different versions of the same package\n",
    "3. Has a powerful dependency solver\n",
    "    - Will upgrade/downgrade your packages as needed when you install a new package\n",
    "4. Development team maintains a core scientific stack (numpy, scipy, matplotlib, etc.)\n",
    "    - Takes pressure off the user to determine if their scientific packages are working as expected\n",
    "    - More resources for troubleshooting\n",
    "5. Has a highly customizable and user-friendly interactive python shell\n",
    "    - Can be easier to test code quickly in an interactive shell than by running a script and waiting for output\n",
    "    - Crucial for visualization of data and results\n",
    "6. Makes programming much easier on windows\n",
    "    - No need to worry about system variables"
   ]
  },
  {
   "cell_type": "markdown",
   "metadata": {
    "slideshow": {
     "slide_type": "slide"
    }
   },
   "source": [
    "## Installing Anaconda\n",
    "\n",
    "Follow the instructions to download and install Anaconda on this website:\n",
    "\n",
    "https://docs.anaconda.com/anaconda/install/\n",
    "\n",
    "- Make sure to follow the instructions specific to your operating system!\n",
    "- Each operating system works differently, so the Anaconda team has designed installation software specifically\n",
    "  tailored for each operating system"
   ]
  },
  {
   "cell_type": "markdown",
   "metadata": {
    "slideshow": {
     "slide_type": "slide"
    }
   },
   "source": [
    "## Why use a virtual environment\n",
    "\n",
    "A *virtual environment* creates a folder that contains all of the libraries and code necessary to use the packages needed by a specific project. \n",
    "- Virtual environments allow the user to have different versions of the same package on the same system. \n",
    "- This is important because some packages are only compatible with early versions of other packages.\n",
    "\n",
    "- Example:\n",
    "  - Assume you have two packages you want to install on your machine, Package A and Package B\n",
    "    - Package A and Package B are both dependent on the same package, Package C\n",
    "    - Package A only works with version 1.1.19 or earlier of Package C\n",
    "    - Package B only works with version 1.2.1 or later of Package C\n",
    "\n",
    "  - If a user were to attempt to install both versions of Package C in the same environment (so they could use Package A and Package B) and a script calls a function from Package C, then the package manager would have conflicting versions of Package C that could lead to unexpected behavior invalidating the results of your program.\n",
    "\n",
    "  - With the virtual environment approach, the user can make a separate virtual environment to accommodate the two conflicting but necessary versions of Package C. \n",
    "    - In one environment, the user can install Package A and version 1.1.19 of Package C.\n",
    "    - In the other environment, the user can install Package B and version 1.2.1 of Package C.\n",
    "    - No conflicts!\n",
    " "
   ]
  },
  {
   "cell_type": "markdown",
   "metadata": {
    "slideshow": {
     "slide_type": "slide"
    }
   },
   "source": [
    "## Creating a virtual environment\n",
    "\n",
    "Now we want to create a virtual environment that we will use for the rest of the semester.\n",
    "\n",
    "0. Download the experiment.yml file from the course [GitHub](https://github.com/compmem/compsy).\n",
    "1. In your Anaconda prompt (or Terminal in OSX/linux), navigate to the directory with the `environment.yml` file that you downloaded.\n",
    "2. Type `conda env create -f environment.yml` in your Anaconda Prompt.\n",
    "    - This command creates a new virtual environment separate from the base environment and installs all the packages specified in `environment.yml`\n",
    "3. After some time (it can take 5 to 15 minutes depending on your computer), you will see the following lines (it may also show lots of packages getting downloaded): \n",
    "***\n",
    "    Collecting package metadata <repodata.json>: done  \n",
    "    Solving environment: done  \n",
    "    Preparing transaction: done  \n",
    "    Verifying transaction: done  \n",
    "    Executing transaction: done  \n",
    "***\n",
    "4. You have now created a virtual environment\n",
    "5. To activate your virtual environment, type `conda activate compsy`\n",
    "    - This command switches you from your `base` environment to `compsy`\n",
    "    - You will then see `(compsy)` to the left of your current directory in the command prompt.\n"
   ]
  },
  {
   "cell_type": "markdown",
   "metadata": {
    "slideshow": {
     "slide_type": "slide"
    }
   },
   "source": [
    "## Assignment before next class\n",
    "\n",
    "- Find the assignment on UVACollab page for this course. Input your conda environment details.\n",
    "- Look for an email about joining our Slack workspace and join!\n",
    "\n",
    "You will receive ***points*** for the participation/homework grade by finishing these two tasks!\n",
    "\n",
    "### See you next week!!!"
   ]
  }
 ],
 "metadata": {
  "celltoolbar": "Slideshow",
  "kernelspec": {
   "display_name": "Python 3",
   "language": "python",
   "name": "python3"
  },
  "language_info": {
   "codemirror_mode": {
    "name": "ipython",
    "version": 3
   },
   "file_extension": ".py",
   "mimetype": "text/x-python",
   "name": "python",
   "nbconvert_exporter": "python",
   "pygments_lexer": "ipython3",
   "version": "3.7.6"
  },
  "rise": {
   "scroll": true
  }
 },
 "nbformat": 4,
 "nbformat_minor": 2
}
