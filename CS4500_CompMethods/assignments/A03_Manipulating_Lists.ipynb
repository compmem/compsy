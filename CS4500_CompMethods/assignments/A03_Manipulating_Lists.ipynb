{
 "cells": [
  {
   "cell_type": "markdown",
   "metadata": {},
   "source": [
    "# Assignment 3: Manipulating Lists\n",
    "## Computational Methods in Psychology (and Neuroscience)\n",
    "### Psychology 4500/7559 --- Fall 2020"
   ]
  },
  {
   "cell_type": "markdown",
   "metadata": {},
   "source": [
    "# Objectives\n",
    "\n",
    "Upon completion of this exercise, the student will be able to:\n",
    "\n",
    "1. Create and manipulate lists\n",
    "\n",
    "2. Iterate over lists\n",
    "\n",
    "3. Demonstrate the use of lists in functions"
   ]
  },
  {
   "cell_type": "markdown",
   "metadata": {},
   "source": [
    "# Assignment\n",
    "\n",
    "* Write code in this notebook (after making a copy and renaming it to have your userid in the title --- e.g., A03_Manipulating_Lists_mst3k) that performs the following tasks:\n",
    "\n",
    "  1. Take in a list of numbers from the user.\n",
    "  2. Store those numbers as a list.\n",
    "  3. Write a function that takes in a list and sorts it.\n",
    "  4. Print out the sorted list\n",
    "  \n",
    "* Test your script and debug as necessary. You can compare your output with the `sort` method built into the list object.\n",
    "\n",
    "* Hint: You can look at the Wikipedia entry for [Bubble Sort](https://en.wikipedia.org/wiki/Bubble_sort) for one\n",
    "  possible sorting algorithm.\n",
    "  \n",
    "* ***When you are done, save this notebook as HTML (`File -> Download as -> HTML`) and upload it to the matching assignment on UVACollab.***  "
   ]
  },
  {
   "cell_type": "code",
   "execution_count": 2,
   "metadata": {},
   "outputs": [],
   "source": [
    "# Here are some comments to get you started!\n",
    "# You can fill in your code here.\n",
    "\n",
    "def my_sort(my_list):\n",
    "    # write your list sorting code here\n",
    "    # remember, lists are passed by reference, so if you modify my_list, \n",
    "    # it will be modified in place\n",
    "    pass"
   ]
  },
  {
   "cell_type": "code",
   "execution_count": 4,
   "metadata": {},
   "outputs": [],
   "source": [
    "# Write code to test your script here\n",
    "\n",
    "# Collect numbers with an `input` method\n",
    "# You can have them enter the items as a comma-separated list\n",
    "# Or call `input` in a loop\n",
    "\n",
    "# Convert the input into a list\n",
    "\n",
    "# Call your sorting algorithm on the list\n",
    "\n",
    "# Print out the sorted list\n"
   ]
  },
  {
   "cell_type": "markdown",
   "metadata": {},
   "source": [
    "# Challenge (for advanced students)\n",
    "\n",
    "* Try allowing the user to sort in ascending or descending order!\n",
    "* Write the sort function recursively."
   ]
  }
 ],
 "metadata": {
  "kernelspec": {
   "display_name": "Python 3",
   "language": "python",
   "name": "python3"
  },
  "language_info": {
   "codemirror_mode": {
    "name": "ipython",
    "version": 3
   },
   "file_extension": ".py",
   "mimetype": "text/x-python",
   "name": "python",
   "nbconvert_exporter": "python",
   "pygments_lexer": "ipython3",
   "version": "3.7.6"
  }
 },
 "nbformat": 4,
 "nbformat_minor": 4
}
