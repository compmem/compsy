{
 "cells": [
  {
   "cell_type": "code",
   "execution_count": 2,
   "metadata": {},
   "outputs": [],
   "source": [
    "def my_sort(start_list):\n",
    "    '''\n",
    "    Receives a list of numbers and sorts in ascending order using mergesort method\n",
    "    '''\n",
    "    # Create a copy of list to preserve original. Also create template for final sorted list\n",
    "    temp = start_list[:]\n",
    "    final = []\n",
    "    track1 = 1\n",
    "    track2 = 1\n",
    "    # Use trackers to continue dividing halves until only single numbers remain\n",
    "    # Runs through my_sort function for each split chunk\n",
    "    left = temp[:((len(start_list))//2)]\n",
    "    if len(left) > 1 and track1 == 1:\n",
    "        left = my_sort(left)\n",
    "    elif len(left) == 1 and track1 == 1:\n",
    "        track1 = 0\n",
    "    right = temp[((len(start_list))//2):]\n",
    "    if len(right) > 1 and track2 == 1:\n",
    "        right = my_sort(right)\n",
    "    elif len(right) == 1 and track2 == 1:\n",
    "        track2 = 0\n",
    "    # Compares first of left and right half; appends smaller value to final list first\n",
    "    # Pops appended value off to continue comparing remaining values\n",
    "    # Identical values both popped from start of respective half and appended\n",
    "    while len(left) > 0 and len(right) > 0:\n",
    "        if left[0] < right[0]:\n",
    "            final.append(left[0])\n",
    "            left.pop(0)\n",
    "        elif left[0] > right[0]:\n",
    "            final.append(right[0])\n",
    "            right.pop(0)\n",
    "        elif left[0] == right[0]:\n",
    "            final.append(left[0])\n",
    "            final.append(right[0])\n",
    "            left.pop(0)\n",
    "            right.pop(0)\n",
    "    # When one half is empty, assumes the other half is already sorted and appends it as is\n",
    "    if len(left) == 0:\n",
    "        for each in right:\n",
    "            final.append(each)\n",
    "    if len(right) == 0:\n",
    "        for each in left:\n",
    "            final.append(each)\n",
    "    # Returns the final list sorted in ascending order\n",
    "    return final"
   ]
  },
  {
   "cell_type": "code",
   "execution_count": 4,
   "metadata": {},
   "outputs": [
    {
     "name": "stdout",
     "output_type": "stream",
     "text": [
      "Please enter the comma seperated list to be sorted: 23,3243,453,4,64,32\n",
      "[4.0, 23.0, 32.0, 64.0, 453.0, 3243.0]\n"
     ]
    }
   ],
   "source": [
    "# Collect numbers with an input method and turn into list\n",
    "start_vals = input(\"Please enter the comma seperated list to be sorted: \")\n",
    "start_list = start_vals.split(',')\n",
    "\n",
    "\n",
    "# Convert the string input into a list of floats\n",
    "for each in start_list:\n",
    "    place = start_list.index(each)\n",
    "    flt_val = float(each)\n",
    "    start_list[place] = flt_val\n",
    "\n",
    "    \n",
    "# Calls the sorting algorithm on the list and prints the result\n",
    "print(my_sort(start_list))"
   ]
  },
  {
   "cell_type": "code",
   "execution_count": null,
   "metadata": {},
   "outputs": [],
   "source": []
  }
 ],
 "metadata": {
  "kernelspec": {
   "display_name": "Python 3",
   "language": "python",
   "name": "python3"
  },
  "language_info": {
   "codemirror_mode": {
    "name": "ipython",
    "version": 3
   },
   "file_extension": ".py",
   "mimetype": "text/x-python",
   "name": "python",
   "nbconvert_exporter": "python",
   "pygments_lexer": "ipython3",
   "version": "3.8.3"
  }
 },
 "nbformat": 4,
 "nbformat_minor": 4
}
