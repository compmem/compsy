{
 "cells": [
  {
   "cell_type": "markdown",
   "metadata": {},
   "source": [
    "# Assignment 3: Manipulating Lists\n",
    "## Computational Methods in Psychology (and Neuroscience)\n",
    "### Psychology 4500/7559 --- Fall 2020"
   ]
  },
  {
   "cell_type": "markdown",
   "metadata": {},
   "source": [
    "# Objectives\n",
    "\n",
    "Upon completion of this exercise, the student will be able to:\n",
    "\n",
    "1. Create and manipulate lists\n",
    "\n",
    "2. Iterate over lists\n",
    "\n",
    "3. Demonstrate the use of lists in functions"
   ]
  },
  {
   "cell_type": "markdown",
   "metadata": {},
   "source": [
    "# Assignment\n",
    "\n",
    "* Write code in this notebook (after making a copy and renaming it to have your userid in the title --- e.g., A03_Manipulating_Lists_mst3k) that performs the following tasks:\n",
    "\n",
    "  1. Take in a list of numbers from the user.\n",
    "  2. Store those numbers as a list.\n",
    "  3. Write a function that takes in a list and sorts it.\n",
    "  4. Print out the sorted list\n",
    "  \n",
    "* Test your script and debug as necessary. You can compare your output with the `sort` method built into the list object.\n",
    "\n",
    "* Hint: You can look at the Wikipedia entry for [Bubble Sort](https://en.wikipedia.org/wiki/Bubble_sort) for one\n",
    "  possible sorting algorithm.\n",
    "  \n",
    "* ***When you are done, save this notebook as HTML (`File -> Download as -> HTML`) and upload it to the matching assignment on UVACollab.***  "
   ]
  },
  {
   "cell_type": "code",
   "execution_count": null,
   "metadata": {},
   "outputs": [],
   "source": [
    "def my_sort(start_list):\n",
    "    '''\n",
    "    Receives a list of numbers and sorts in ascending order using mergesort method\n",
    "    '''\n",
    "    # Create a copy of list to preserve original. Also create template for final sorted list\n",
    "    temp = start_list[:]\n",
    "    final = []\n",
    "    track1 = 1\n",
    "    track2 = 1\n",
    "    # Use trackers to continue dividing halves until only single numbers remain\n",
    "    # Runs through my_sort function for each split chunk\n",
    "    left = temp[:((len(start_list))//2)]\n",
    "    if len(left) > 1 and track1 == 1:\n",
    "        left = my_sort(left)\n",
    "    elif len(left) == 1 and track1 == 1:\n",
    "        track1 = 0\n",
    "    right = temp[((len(start_list))//2):]\n",
    "    if len(right) > 1 and track2 == 1:\n",
    "        right = my_sort(right)\n",
    "    elif len(right) == 1 and track2 == 1:\n",
    "        track2 = 0\n",
    "    # Compares first of left and right half; appends smaller value to final list first\n",
    "    # Pops appended value off to continue comparing remaining values\n",
    "    # Identical values both popped from start of respective half and appended\n",
    "    while len(left) > 0 and len(right) > 0:\n",
    "        if left[0] < right[0]:\n",
    "            final.append(left[0])\n",
    "            left.pop(0)\n",
    "        elif left[0] > right[0]:\n",
    "            final.append(right[0])\n",
    "            right.pop(0)\n",
    "        elif left[0] == right[0]:\n",
    "            final.append(left[0])\n",
    "            final.append(right[0])\n",
    "            left.pop(0)\n",
    "            right.pop(0)\n",
    "    # When one half is empty, assumes the other half is already sorted and appends it as is\n",
    "    if len(left) == 0:\n",
    "        for each in right:\n",
    "            final.append(each)\n",
    "    if len(right) == 0:\n",
    "        for each in left:\n",
    "            final.append(each)\n",
    "    # Returns the final list sorted in ascending order\n",
    "    return final"
   ]
  },
  {
   "cell_type": "code",
   "execution_count": 1,
   "metadata": {
    "scrolled": true
   },
   "outputs": [
    {
     "ename": "SyntaxError",
     "evalue": "invalid syntax (<ipython-input-1-407eecb4ccfc>, line 7)",
     "output_type": "error",
     "traceback": [
      "\u001b[1;36m  File \u001b[1;32m\"<ipython-input-1-407eecb4ccfc>\"\u001b[1;36m, line \u001b[1;32m7\u001b[0m\n\u001b[1;33m    for each in start_list:.\u001b[0m\n\u001b[1;37m                           ^\u001b[0m\n\u001b[1;31mSyntaxError\u001b[0m\u001b[1;31m:\u001b[0m invalid syntax\n"
     ]
    }
   ],
   "source": [
    "# Collect numbers with an input method and turn into list\n",
    "start_vals = input(\"Please enter the comma seperated list to be sorted: \")\n",
    "start_list = start_vals.split(',')\n",
    "\n",
    "\n",
    "# Convert the string input into a list of floats\n",
    "for each in start_list:.\n",
    "    place = start_list.index(each)\n",
    "    flt_val = float(each)\n",
    "    start_list[place] = flt_val\n",
    "\n",
    "    \n",
    "# Calls the sorting algorithm on the list and prints the result\n",
    "print(my_sort(start_list))"
   ]
  },
  {
   "cell_type": "markdown",
   "metadata": {},
   "source": [
    "# Challenge (for advanced students)\n",
    "\n",
    "* Try allowing the user to sort in ascending or descending order!\n",
    "* Write the sort function recursively."
   ]
  }
 ],
 "metadata": {
  "kernelspec": {
   "display_name": "Python 3",
   "language": "python",
   "name": "python3"
  },
  "language_info": {
   "codemirror_mode": {
    "name": "ipython",
    "version": 3
   },
   "file_extension": ".py",
   "mimetype": "text/x-python",
   "name": "python",
   "nbconvert_exporter": "python",
   "pygments_lexer": "ipython3",
   "version": "3.8.3"
  }
 },
 "nbformat": 4,
 "nbformat_minor": 4
}
