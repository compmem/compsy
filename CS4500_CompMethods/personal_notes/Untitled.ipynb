{
 "cells": [
  {
   "cell_type": "code",
   "execution_count": 2,
   "metadata": {},
   "outputs": [
    {
     "name": "stdout",
     "output_type": "stream",
     "text": [
      "Guess a number between 1 and 100.\n",
      "press y if you want to show the hint and n if you don't want it: 80\n",
      "Your Guess: 80\n",
      "Guess higher!\n",
      "Your Guess: 90\n",
      "Guess lower!\n",
      "Your Guess: 85\n",
      "Guess lower!\n",
      "Your Guess: 84\n",
      "Guess lower!\n",
      "Your Guess: 83\n",
      "Guess lower!\n",
      "Your Guess: 82\n",
      "You got it right congratulations!\n",
      "Thanks for playing this lovely game.\n"
     ]
    }
   ],
   "source": [
    "'''made by Salah Gfx, a complete noob in python, in the 2/5/2017'''\n",
    "# make sure to un the code in a python idle because it seems that SoloLearn does not run it properly \n",
    "import random\n",
    "\n",
    "def main():\n",
    "    print(\"Guess a number between 1 and 100.\")\n",
    "\n",
    "    # rndmNumber = 35 just to test things if they work as I wish\n",
    "    rndmNumber = random.randint(1, 100)\n",
    "    # yorn stand for yes or no\n",
    "    \n",
    "    def yorn():\n",
    "        usChoice = str(input(\"press y if you want to show the hint and n if you don't want it: \"))\n",
    "        if usChoice == str(\"y\"):\n",
    "            if rndmNumber in range(1, 100, 2):\n",
    "                print(\"Hint:(It\\'s an odd number)\")\n",
    "                return False\n",
    "            else:\n",
    "                print(\"Hint:(It\\'s an even number)\")\n",
    "        elif usChoice == str(\"n\"):\n",
    "            return False\n",
    "        else:\n",
    "            return True\n",
    "\n",
    "    yorn()\n",
    "\n",
    "    found = False\n",
    "\n",
    "    while not found:\n",
    "        usGuess = int(input(\"Your Guess: \"))\n",
    "        \n",
    "        if usGuess == rndmNumber:\n",
    "\n",
    "            print(\"You got it right congratulations!\\nThanks for playing this lovely game.\")\n",
    "            # found the correct guess\n",
    "            found = True\n",
    "\n",
    "        elif usGuess > rndmNumber:\n",
    "            print(\"Guess lower!\")\n",
    "\n",
    "        else:\n",
    "            print(\"Guess higher!\")\n",
    "            \n",
    "\n",
    "\n",
    "if __name__ == '__main__':\n",
    "    main()\n",
    "    \n",
    "# make sure to like (y) and shaire -&+ :)    "
   ]
  }
 ],
 "metadata": {
  "kernelspec": {
   "display_name": "Python 3",
   "language": "python",
   "name": "python3"
  },
  "language_info": {
   "codemirror_mode": {
    "name": "ipython",
    "version": 3
   },
   "file_extension": ".py",
   "mimetype": "text/x-python",
   "name": "python",
   "nbconvert_exporter": "python",
   "pygments_lexer": "ipython3",
   "version": "3.8.3"
  }
 },
 "nbformat": 4,
 "nbformat_minor": 4
}
