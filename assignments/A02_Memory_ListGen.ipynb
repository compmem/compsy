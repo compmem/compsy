{
 "cells": [
  {
   "cell_type": "markdown",
   "metadata": {},
   "source": [
    "# Assignment 2: Memory Task List Generation\n",
    "## Computational Methods in Psychology and Neuroscience\n",
    "### Psychology 4215/7215 --- Fall 2023"
   ]
  },
  {
   "cell_type": "markdown",
   "metadata": {},
   "source": [
    "# Objectives\n",
    "\n",
    "Upon completion of this assignment, the student will have:\n",
    "\n",
    "1. Read in a stimulus pool from a file.\n",
    "\n",
    "2. Created unique trial conditions with sequential constraints.\n",
    "\n",
    "3. Generated randomized lists to use in a recognition experiment.\n"
   ]
  },
  {
   "cell_type": "markdown",
   "metadata": {},
   "source": [
    "# Assignment\n",
    "\n",
    "* Write code in a Jupyter notebook (after making a copy and renaming it to have your userid in the title --- e.g., A02_Memory_ListGen_mst3k).\n",
    "\n",
    "## Design\n",
    "\n",
    "Your assignment is to write a script that creates lists of dictionaries that you will later present to participants as part of an experiment.  \n",
    "\n",
    "The script should be configurable such that you can specify different\n",
    "numbers of lists and trials, along with other details specific to the\n",
    "experiment you decide to do.\n",
    "\n",
    "Each dictionary represents a trial and should contain all the\n",
    "information necessary to identify the stimulus to be presented,\n",
    "details about that stimulus, and the condition in which to present it.\n",
    "This information will be experiment-specific, as outlined below.\n",
    "\n",
    "You have two options for your experiment.  Please select **one** of\n",
    "the following experiments, keeping in mind that your next assignment\n",
    "will be to code the experiment presentation and response collection\n",
    "for the lists you generate from this assignment.\n",
    "  \n",
    "* ***When you are done, make sure you have run every cell, so that we can see it ran without error and produces the correct output. Then please save the notebook as HTML (`File -> Download as -> HTML`) and upload it to the matching assignment on Canvas.***  "
   ]
  },
  {
   "cell_type": "markdown",
   "metadata": {},
   "source": [
    "## Option 1: Refreshing Valence Study\n",
    "\n",
    "The main question of this study is whether recognition memory for\n",
    "words depends on the emotional or affective valence of those words and whether there is an interaction between attention refreshing and valence.\n",
    "\n",
    "Participants will study lists of positive (+), negative (-), and\n",
    "neutral (~) words and then, after a short delay, they will be given a\n",
    "recognition test over all the studied target words plus a matched set\n",
    "of non-studied lures.  The stimuli are contained in three separate CSV\n",
    "files:\n",
    "\n",
    "- [Positive Pool](./pos_pool.csv)\n",
    "- [Negative Pool](./neg_pool.csv)\n",
    "- [Neutral Pool](./neu_pool.csv)\n",
    "\n",
    "You will need to read these files in as lists of dictionaries (hint,\n",
    "use the ``DictReader`` from the ``csv`` module that was covered in\n",
    "class.)  \n",
    "\n",
    "Use these pools to create lists with trials of valence crossed with three experimental conditions:\n",
    "\n",
    "1. *Repeated*: Where a word will be immediately repeated as the next word.\n",
    "2. *Refreshed*: Where you will indicate the participant should \"refresh\" the previous word by presenting a \"+\".\n",
    "3. *Once-presented*: Where a word is only presented once and is *not* repeated or refreshed.\n",
    "\n",
    "We suggest that you generate the study items for a list in two stages. In the first stage you shuffle all combinations of the trial types (Valence crossed with Condition). In the second stage you loop over those conditions and append trials to a block depending on the information in each trial type. For the Repeated and Refreshed you would append two items, for the Once-presented you would only append one.\n",
    "\n",
    "You will need to generate a matching test list for each study list\n",
    "that includes all the studied items, plus a set of lures that match\n",
    "the valence of the studied words.\n",
    "\n",
    "Be sure to add in information to each trial dictionary that identifies\n",
    "the word, its valence, the condition of that trial, and whether it is a\n",
    "target or a lure.  Feel free to add in more information if you would\n",
    "like."
   ]
  },
  {
   "cell_type": "markdown",
   "metadata": {},
   "source": [
    "## Option 2: Spacing Scene Study\n",
    "\n",
    "This study will test whether recognition memory for indoor and outdoor\n",
    "scenes is modulated by whether the items are once-presented, repeated immediately following the first presentation of the item (i.e., massed repetition), or repeated after a number of other items (i.e., spaced repetition). The participants will then be given a\n",
    "recognition test over all the studied target images plus a matched set\n",
    "of non-studied lures.  You can access the lists of stimuli available:\n",
    "\n",
    "- [Indoor Pool](./indoor.csv)\n",
    "- [Outdoor Pool](./outdoor.csv)\n",
    "\n",
    "You will need to read these files in as lists of dictionaries (hint,\n",
    "use the ``DictReader`` from the ``csv`` module that was covered in\n",
    "class.)  For the actual experiment we will give you the images that\n",
    "are referenced by the file names in these pools, but for the list\n",
    "generation you do not need the images, themselves and should identify\n",
    "the image you will be presenting using the file name.  \n",
    "\n",
    "Use these pools to create lists of trials for the experimental conditions consiting of indoor/outdoor vs once-presented/massed/spaced items. Each\n",
    "list should contain an equal number of each combination of these conditions in *random* order, but handling the spaced items will take some care. \n",
    "\n",
    "While the massed items come immediately after the first time the item was presented, the spaced repetitions need to come at a range of 3 to 7 (though this should be a configuration variable) items following the first presentation of the matching item. We will provide some suggestions for how to attain this structure in class discussions, but generally following a two-stage approach of shuffling all possible conditions first and then filling in specific items will work best. *Note, you can not have a spaced item condition in the last two slots on the list because it would not be possible to have the repetition be spaced.*\n",
    "\n",
    "You will need to generate a matching test list for each study list\n",
    "that includes all the studied items, plus a set of lures that match\n",
    "the image categories from the studied items.\n",
    "\n",
    "Be sure to add in information to each trial dictionary that identifies\n",
    "the file name, the category of the image, the condition of the trial,\n",
    "and whether it is a target or a lure.\n"
   ]
  },
  {
   "cell_type": "markdown",
   "metadata": {},
   "source": [
    "## Some code to get you started\n",
    "\n",
    "Below you will find some cells with example code that may be useful for your listgen. You are not required to use it (there are many ways to solve the constraints), but feel free to make use of any of it you would like."
   ]
  },
  {
   "cell_type": "code",
   "execution_count": 4,
   "metadata": {},
   "outputs": [],
   "source": [
    "# some useful imports\n",
    "import random\n",
    "import csv\n",
    "from copy import deepcopy"
   ]
  },
  {
   "cell_type": "code",
   "execution_count": 1,
   "metadata": {},
   "outputs": [
    {
     "name": "stdout",
     "output_type": "stream",
     "text": [
      "[{'description': 'daylight', 'word_no': '716', 'valence_mean': '6.7999999999999998', 'valence_sd': '2.1699999999999999', 'arousal_mean': '4.7699999999999996', 'arousal_sd': '2.5', 'dominance_mean': '5.4800000000000004', 'dominance_sd': '2.1400000000000001', 'word_frequency': '15'}, {'description': 'wedding', 'word_no': '491', 'valence_mean': '7.8200000000000003', 'valence_sd': '1.5600000000000001', 'arousal_mean': '5.9699999999999998', 'arousal_sd': '2.8500000000000001', 'dominance_mean': '6.6799999999999997', 'dominance_sd': '2.0800000000000001', 'word_frequency': '32'}, {'description': 'honor', 'word_no': '211', 'valence_mean': '7.6600000000000001', 'valence_sd': '1.24', 'arousal_mean': '5.9000000000000004', 'arousal_sd': '1.8300000000000001', 'dominance_mean': '6.7000000000000002', 'dominance_sd': '2.04', 'word_frequency': '66'}, {'description': 'girl', 'word_no': '185', 'valence_mean': '6.8700000000000001', 'valence_sd': '1.6399999999999999', 'arousal_mean': '4.29', 'arousal_sd': '2.6899999999999999', 'dominance_mean': '5.7999999999999998', 'dominance_sd': '2.1600000000000001', 'word_frequency': '220'}, {'description': 'life', 'word_no': '258', 'valence_mean': '7.2699999999999996', 'valence_sd': '1.8799999999999999', 'arousal_mean': '6.0199999999999996', 'arousal_sd': '2.6200000000000001', 'dominance_mean': '5.7199999999999998', 'dominance_sd': '2.5099999999999998', 'word_frequency': '715'}, {'description': 'butterfly', 'word_no': '58', 'valence_mean': '7.1699999999999999', 'valence_sd': '1.2', 'arousal_mean': '3.4700000000000002', 'arousal_sd': '2.3900000000000001', 'dominance_mean': '4.6500000000000004', 'dominance_sd': '2.27', 'word_frequency': '2'}, {'description': 'perfume', 'word_no': '934', 'valence_mean': '6.7599999999999998', 'valence_sd': '1.48', 'arousal_mean': '5.0499999999999998', 'arousal_sd': '2.3599999999999999', 'dominance_mean': '5.9299999999999997', 'dominance_sd': '1.6899999999999999', 'word_frequency': '10'}, {'description': 'famous', 'word_no': '745', 'valence_mean': '6.9800000000000004', 'valence_sd': '2.0699999999999998', 'arousal_mean': '5.7300000000000004', 'arousal_sd': '2.6800000000000002', 'dominance_mean': '6.3200000000000003', 'dominance_sd': '2.1800000000000002', 'word_frequency': '89'}, {'description': 'nude', 'word_no': '520', 'valence_mean': '6.8200000000000003', 'valence_sd': '1.6299999999999999', 'arousal_mean': '6.4100000000000001', 'arousal_sd': '2.0899999999999999', 'dominance_mean': '5.96', 'dominance_sd': '2.29', 'word_frequency': '20'}, {'description': 'astronaut', 'word_no': '501', 'valence_mean': '6.6600000000000001', 'valence_sd': '1.6000000000000001', 'arousal_mean': '5.2800000000000002', 'arousal_sd': '2.1099999999999999', 'dominance_mean': '5.2000000000000002', 'dominance_sd': '1.95', 'word_frequency': '2'}]\n"
     ]
    }
   ],
   "source": [
    "# Read in the positive pool\n",
    "# create a dictionary reader\n",
    "dr = csv.DictReader(open('pos_pool.csv','r'))\n",
    "\n",
    "# read in all the lines into a list of dicts\n",
    "pos_pool = [l for l in dr]\n",
    "\n",
    "# shuffle it so that the we get new items each time\n",
    "random.shuffle(pos_pool)\n",
    "\n",
    "# note it creates OrderedDict instances!!!\n",
    "print(pos_pool[:5])"
   ]
  },
  {
   "cell_type": "code",
   "execution_count": 2,
   "metadata": {},
   "outputs": [
    {
     "name": "stdout",
     "output_type": "stream",
     "text": [
      "{'description': 'refreshment', 'word_no': '347', 'valence_mean': '7.4400000000000004', 'valence_sd': '1.29', 'arousal_mean': '4.4500000000000002', 'arousal_sd': '2.7000000000000002', 'dominance_mean': '5.0', 'dominance_sd': '1.9199999999999999', 'word_frequency': '2'}\n"
     ]
    }
   ],
   "source": [
    "# TIP: you can \"pop\" an item off a list to use it and make sure\n",
    "# it is removed from further use\n",
    "item = pos_pool.pop()\n",
    "print(item)"
   ]
  },
  {
   "cell_type": "code",
   "execution_count": 3,
   "metadata": {},
   "outputs": [],
   "source": [
    "# you can get all your conditions with a nested `for` loop\n",
    "\n",
    "# make sure to shuffle the conditions whenever you're going \n",
    "# to insert them in a list you're generating (see flanker example)"
   ]
  },
  {
   "cell_type": "code",
   "execution_count": 5,
   "metadata": {},
   "outputs": [
    {
     "name": "stdout",
     "output_type": "stream",
     "text": [
      "{'valence': 'pos', 'pres_num': 1, 'cond': 'refresh', 'description': 'refreshment', 'word_no': '347', 'valence_mean': '7.4400000000000004', 'valence_sd': '1.29', 'arousal_mean': '4.4500000000000002', 'arousal_sd': '2.7000000000000002', 'dominance_mean': '5.0', 'dominance_sd': '1.9199999999999999', 'word_frequency': '2'}\n"
     ]
    }
   ],
   "source": [
    "# to decrease required typing let Python merge dictionaries\n",
    "# with the `update` method\n",
    "\n",
    "# create an example dict (in your code you'll have this from \n",
    "# the nested for loop above)\n",
    "cond_item = {'valence': 'pos', 'pres_num': 1, 'cond': 'refresh'}\n",
    "\n",
    "# merge the info with the item\n",
    "cond_item.update(item)\n",
    "\n",
    "print(cond_item)"
   ]
  },
  {
   "cell_type": "code",
   "execution_count": 7,
   "metadata": {},
   "outputs": [
    {
     "name": "stdout",
     "output_type": "stream",
     "text": [
      "{'valence': 'pos', 'pres_num': 2, 'cond': 'refresh', 'description': 'refreshment', 'word_no': '347', 'valence_mean': '7.4400000000000004', 'valence_sd': '1.29', 'arousal_mean': '4.4500000000000002', 'arousal_sd': '2.7000000000000002', 'dominance_mean': '5.0', 'dominance_sd': '1.9199999999999999', 'word_frequency': '2'}\n"
     ]
    }
   ],
   "source": [
    "# if you want to repeat an item, you can copy it from the previous\n",
    "# and then make changes to match the cond (in this case refresh)\n",
    "next_item = deepcopy(cond_item)\n",
    "next_item['pres_num'] = 2\n",
    "print(next_item)"
   ]
  }
 ],
 "metadata": {
  "kernelspec": {
   "display_name": "Python 3 (ipykernel)",
   "language": "python",
   "name": "python3"
  },
  "language_info": {
   "codemirror_mode": {
    "name": "ipython",
    "version": 3
   },
   "file_extension": ".py",
   "mimetype": "text/x-python",
   "name": "python",
   "nbconvert_exporter": "python",
   "pygments_lexer": "ipython3",
   "version": "3.11.4"
  }
 },
 "nbformat": 4,
 "nbformat_minor": 4
}
