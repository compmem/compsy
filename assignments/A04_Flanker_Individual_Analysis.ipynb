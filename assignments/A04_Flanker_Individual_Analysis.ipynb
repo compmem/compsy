{
 "cells": [
  {
   "cell_type": "markdown",
   "metadata": {},
   "source": [
    "# Assignment 4: Flanker Individual Analysis\n",
    "## Computational Methods in Psychology and Neuroscience\n",
    "### Psychology 4215/7215 --- Fall 2023"
   ]
  },
  {
   "cell_type": "markdown",
   "metadata": {},
   "source": [
    "# Objectives\n",
    "\n",
    "Upon completion of this assignment, the student will have:\n",
    "\n",
    "A. Participated in the Flanker task.\n",
    "\n",
    "B. Performed a regression analysis to test for the Simon effect in your data.\n"
   ]
  },
  {
   "cell_type": "markdown",
   "metadata": {},
   "source": [
    "# Assignment\n",
    "\n",
    "* Write code in a Jupyter notebook (after making a copy and renaming it to have your userid in the title --- e.g., A05_Flanker_Individual_Analysis_mst3k).\n",
    "\n",
    "## Details\n",
    "\n",
    "The goal of this assignment is to perform the Flanker task, upload the data to Canvas, and perform a regression analysis of your data. *Note, the data and analysis will be uploaded as two separate assignments (4a and 4b) on Canvas.*\n",
    "\n",
    "To run the Flanker task:\n",
    "\n",
    "- Download the flanker.zip file\n",
    "- Unzip it (usually with a command like, `unzip flanker.zip`\n",
    "- Change to the `flanker` directory, `cd flanker`\n",
    "- Activate the smile virtual environment: `conda activate smile`\n",
    "- Then run the experiment with: `python flanker_exp.py -s mst3k`, replacing `mst3k` with your userid.\n",
    "- Follow the instructions and try to perform well on all the blocks (it should take around 5 minutes.)\n",
    "\n",
    "Once you have run in the flanker experiment, put a copy of this notebook in the flanker directory. Then open the notebook and perform the regression analysis described below.\n",
    "\n",
    "The Flanker experiment will also create a zip file for you of your data from the session you ran. It will have a name with the following format `flanker_subj_session.zip`, where subj will be the userid you entered above, and session will be the date/time when you started the experiment. You will upload these data to one of the matching assignment.\n",
    "  \n",
    "* ***When you are done with the analysis, save this notebook as HTML (`File -> Download as -> HTML`) and upload it to the matching assignment on Canvas. There will be a separate assignment for uploading the Flanker data from when you ran the task.***  "
   ]
  },
  {
   "cell_type": "code",
   "execution_count": null,
   "metadata": {},
   "outputs": [],
   "source": [
    "# Load some required modules\n",
    "# If you get an import error, make sure the libraries are installed:\n",
    "# conda install -c conda-forge statsmodels\n",
    "\n",
    "import pandas as pd\n",
    "import numpy as np\n",
    "from scipy import stats\n",
    "import statsmodels.formula.api as smf\n",
    "from statsmodels.stats.api import anova_lm\n",
    "\n",
    "from smile.log import log2dl"
   ]
  },
  {
   "cell_type": "code",
   "execution_count": null,
   "metadata": {},
   "outputs": [],
   "source": [
    "# find and set the path to your log file (replace subj and sess with your info)\n",
    "log_file = 'data/Flanker/subj/sess/log_flanker_0.slog'\n",
    "\n",
    "# load it in\n",
    "dl = log2dl(log_file)\n",
    "\n",
    "# convert it to a Pandas DataFrame\n",
    "df = pd.DataFrame(dl)\n",
    "\n",
    "# show the first few lines\n",
    "df.head()"
   ]
  },
  {
   "cell_type": "code",
   "execution_count": null,
   "metadata": {},
   "outputs": [],
   "source": [
    "# load in the sysinfo slog\n",
    "sinfo = log2dl('data/Flanker/subj/sess/sysinfo.slog')[0]\n",
    "sinfo"
   ]
  },
  {
   "cell_type": "code",
   "execution_count": null,
   "metadata": {},
   "outputs": [],
   "source": [
    "# perform some quick data cleanup\n",
    "# calculate the offset from the center\n",
    "df['x_offset'] = df['location_0'] - sinfo['screen_size_0']/2\n",
    "\n",
    "# save the log(rt)\n",
    "df['log_rt'] = np.log(df['rt'])\n",
    "\n",
    "# print out all the column names\n",
    "print(df.columns)"
   ]
  },
  {
   "cell_type": "code",
   "execution_count": null,
   "metadata": {},
   "outputs": [],
   "source": [
    "# plot the distribution of x_offset values (to see if it's skewed)\n",
    "df['x_offset'].hist()\n",
    "\n",
    "# BONUS: Use a non-parametric test to see whether they are skewed with respect to 0\n",
    "# HINT: It's the sign rank test we talked about in class that was invented by Wilcoxon"
   ]
  },
  {
   "cell_type": "code",
   "execution_count": null,
   "metadata": {},
   "outputs": [],
   "source": [
    "# perform the regression\n",
    "\n",
    "# YOUR CODE HERE TO DEFINE AND FIT THE MODEL\n",
    "\n",
    "# you want to test if the log_rt is dependent on x_offset and direction (and their interaction)\n",
    "\n",
    "# print the model summary\n",
    "model.summary"
   ]
  },
  {
   "cell_type": "code",
   "execution_count": null,
   "metadata": {},
   "outputs": [],
   "source": [
    "# perform an ANOVA on the model to show whether the main effects and interaction are significant\n",
    "anova_lm(model)"
   ]
  },
  {
   "cell_type": "markdown",
   "metadata": {},
   "source": [
    "## Did you show a Simon effect? \n",
    "\n",
    "Look at the `PR(>F)` column for the `direction:x_offset` interaction row."
   ]
  }
 ],
 "metadata": {
  "kernelspec": {
   "display_name": "Python 3 (ipykernel)",
   "language": "python",
   "name": "python3"
  },
  "language_info": {
   "codemirror_mode": {
    "name": "ipython",
    "version": 3
   },
   "file_extension": ".py",
   "mimetype": "text/x-python",
   "name": "python",
   "nbconvert_exporter": "python",
   "pygments_lexer": "ipython3",
   "version": "3.11.2"
  }
 },
 "nbformat": 4,
 "nbformat_minor": 4
}
