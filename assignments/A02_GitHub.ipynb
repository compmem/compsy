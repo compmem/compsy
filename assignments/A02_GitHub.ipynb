{
 "cells": [
  {
   "cell_type": "markdown",
   "metadata": {},
   "source": [
    "# Assignment 2: GitHub\n",
    "## Computational Methods in Psychology (and Neuroscience)\n",
    "### Psychology 4500/7559 --- Fall 2020"
   ]
  },
  {
   "cell_type": "markdown",
   "metadata": {},
   "source": [
    "# Objectives\n",
    "\n",
    "Upon completion of this exercise, the student will be able to:\n",
    "\n",
    "1. Create new git branches\n",
    "2. Write a new file and save it to the repository\n",
    "3. Upload the updated branch to GitHub"
   ]
  },
  {
   "cell_type": "markdown",
   "metadata": {},
   "source": [
    "## Creating new branches, writing new files, and updating the repository"
   ]
  },
  {
   "cell_type": "markdown",
   "metadata": {},
   "source": [
    "By default, GitHub has a main branch called \"master\". It is good practice to create new branches when working on different sub-projects, then merge your branch with the the master branch when you have completed your task. \n",
    "\n",
    "The master branch should *ideally* be a functional version of the codebase. By working within branches, you are able to make changes and experiment with code without impacting the main branch.\n",
    "\n",
    "![alt text](https://cdn2.hubspot.net/hubfs/2249672/Imported_Blog_Media/austin_powers-1.jpg \"Git Master\")"
   ]
  },
  {
   "cell_type": "markdown",
   "metadata": {},
   "source": [
    "# NOTE: Execute each command on the command line as they appear on this page. You will run into problems if the commands are not run in this precise order. "
   ]
  },
  {
   "cell_type": "markdown",
   "metadata": {},
   "source": [
    "### Create a Branch\n",
    "We will now create a branch. Use the following command:\n",
    "\n",
    "`git branch my-branch` to create a branch called \"my-branch\". \n",
    "\n",
    "Great! We have created a new branch. We now need to switch our new branch by using `git checkout my-branch`\n",
    "If you are ever unsure which branch you are on, use `git status` to check."
   ]
  },
  {
   "cell_type": "markdown",
   "metadata": {},
   "source": [
    "### Write a .txt file\n",
    "Now we will create a text file called \"quotes.txt\". To do so, enter the following:\n",
    "\n",
    "for Windows: `start notepad quotes.txt` to open Notepad and create and edit the file\n",
    "\n",
    "for OSX and Linux: `nano quotes.txt` to create and edit the file in the command prompt.\n",
    "\n",
    "You can also create & open the file via your OS's file system (Finder for OSX, File Explorer for Windows). Type or copy & paste your favorite quotes of all time into the .txt file. Please include the sources of the quotes. For example: \n",
    ">\"Strange things are afoot at the Circle-K.\" \n",
    "        - Ted, _Bill & Ted's Excellent Adventure_\n",
    "\n",
    "Save the file, then close it. "
   ]
  },
  {
   "cell_type": "markdown",
   "metadata": {},
   "source": [
    "### Stage, Commit, Push\n",
    "Next, we will add this file to the staging area, create a commit, and push it to the repository via these commands:\n",
    "\n",
    "\n",
    "`git add quotes.txt`\n",
    "\n",
    "`git commit -m \"uploading my favorite quotes\"`\n",
    "\n",
    "`git push --set-upstream origin my-branch` \n",
    "\n",
    "The \"--set-upstream origin my-branch\" part of this pushes the newly created branch to the repository, along with our new commit. If we wanted to add or change files in the branch, we can simply use `git push` now that the branch exists on the repository. \n",
    "\n",
    "Check your repository for the new branch and file. To see your new branch, click the top left button that says \"master\" to open a drop-down menu to see the available branches. You should see your branch \"my-branch\" there.\n",
    "![alt text](https://i.imgur.com/SzBELPw.png \"Title\")"
   ]
  },
  {
   "cell_type": "markdown",
   "metadata": {},
   "source": [
    "## Submitting your assignment\n",
    "\n",
    "Once you are done with the above steps, enter the following at your command prompt:\n",
    "\n",
    "```\n",
    "git log -1 --stat\n",
    "```\n",
    "\n",
    "And paste the output into the Assignment text box on UVACollab."
   ]
  }
 ],
 "metadata": {
  "kernelspec": {
   "display_name": "Python 3",
   "language": "python",
   "name": "python3"
  },
  "language_info": {
   "codemirror_mode": {
    "name": "ipython",
    "version": 3
   },
   "file_extension": ".py",
   "mimetype": "text/x-python",
   "name": "python",
   "nbconvert_exporter": "python",
   "pygments_lexer": "ipython3",
   "version": "3.7.7"
  }
 },
 "nbformat": 4,
 "nbformat_minor": 4
}
