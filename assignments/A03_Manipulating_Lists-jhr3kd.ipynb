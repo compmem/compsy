{
 "cells": [
  {
   "cell_type": "markdown",
   "metadata": {},
   "source": [
    "# Assignment 3: Manipulating Lists\n",
    "## Computational Methods in Psychology (and Neuroscience)\n",
    "### Psychology 4500/7559 --- Fall 2020"
   ]
  },
  {
   "cell_type": "markdown",
   "metadata": {},
   "source": [
    "# Objectives\n",
    "\n",
    "Upon completion of this exercise, the student will be able to:\n",
    "\n",
    "1. Create and manipulate lists\n",
    "\n",
    "2. Iterate over lists\n",
    "\n",
    "3. Demonstrate the use of lists in functions"
   ]
  },
  {
   "cell_type": "markdown",
   "metadata": {},
   "source": [
    "# Assignment\n",
    "\n",
    "* Write code in this notebook (after making a copy and renaming it to have your userid in the title --- e.g., A03_Manipulating_Lists_mst3k) that performs the following tasks:\n",
    "\n",
    "  1. Take in a list of numbers from the user.\n",
    "  2. Store those numbers as a list.\n",
    "  3. Write a function that takes in a list and sorts it.\n",
    "  4. Print out the sorted list\n",
    "  \n",
    "* Test your script and debug as necessary. You can compare your output with the `sort` method built into the list object.\n",
    "\n",
    "* Hint: You can look at the Wikipedia entry for [Bubble Sort](https://en.wikipedia.org/wiki/Bubble_sort) for one\n",
    "  possible sorting algorithm.\n",
    "  \n",
    "* ***When you are done, save this notebook as HTML (`File -> Download as -> HTML`) and upload it to the matching assignment on UVACollab.***  "
   ]
  },
  {
   "cell_type": "code",
   "execution_count": 36,
   "metadata": {},
   "outputs": [],
   "source": [
    "# Here are some comments to get you started!\n",
    "# You can fill in your code here.\n",
    "\n",
    "def my_sort(my_list):\n",
    "    temp = 0\n",
    "    for j in range(len(my_list)):\n",
    "        for i in range(len(my_list)-1):\n",
    "            if(my_list[i] >= my_list[i+1]):\n",
    "                temp = my_list[i]\n",
    "                my_list[i] = my_list[i+1]\n",
    "                my_list[i+1] = temp\n",
    "\n",
    "def my_sort_rev(my_list):\n",
    "    temp = 0\n",
    "    for j in range(len(my_list)):\n",
    "        for i in range(len(my_list)-1):\n",
    "            if(my_list[i] <= my_list[i+1]):\n",
    "                temp = my_list[i]\n",
    "                my_list[i] = my_list[i+1]\n",
    "                my_list[i+1] = temp\n",
    "                "
   ]
  },
  {
   "cell_type": "code",
   "execution_count": 47,
   "metadata": {},
   "outputs": [
    {
     "name": "stdout",
     "output_type": "stream",
     "text": [
      "Input a list size:9\n",
      "Enter list item #1:1\n",
      "Enter list item #2:1\n",
      "Enter list item #3:9\n",
      "Enter list item #4:9\n",
      "Enter list item #5:1\n",
      "Enter list item #6:2\n",
      "Enter list item #7:3\n",
      "Enter list item #8:3\n",
      "Enter list item #9:9\n",
      "[1, 1, 9, 9, 1, 2, 3, 3, 9]\n",
      "Enter 'up' for ascending or 'down' for descending: up\n",
      "[1, 1, 1, 2, 3, 3, 9, 9, 9]\n"
     ]
    }
   ],
   "source": [
    "# Write code to test your script here\n",
    "\n",
    "# Collect numbers with an `input` method\n",
    "# You can have them enter the items as a comma-separated list\n",
    "# Or call `input` in a loop\n",
    "# Convert the input into a list\n",
    "try:\n",
    "    size = int(input(\"Input a list size:\"))\n",
    "    my_list = []\n",
    "    for i in range(size):\n",
    "        x = int(input(\"Enter list item #\" + str(i + 1) + \":\"))\n",
    "        my_list.append(x)\n",
    "    print(my_list)\n",
    "    \n",
    "    direction = input(\"Enter 'up' for ascending or 'down' for descending: \")\n",
    "    if (direction == \"up\"):\n",
    "        my_sort(my_list)\n",
    "        print(my_list)\n",
    "    elif (direction ==\"down\"):\n",
    "        my_sort_rev(my_list)\n",
    "        print(my_list)\n",
    "    else:\n",
    "        print(\"Did not enter a valid direction please try again\")\n",
    "except:\n",
    "    print(\"Pls enter a valid integer for list size and list inputs!\")\n",
    "    "
   ]
  },
  {
   "cell_type": "markdown",
   "metadata": {},
   "source": [
    "# Challenge (for advanced students)\n",
    "\n",
    "* Try allowing the user to sort in ascending or descending order!\n",
    "* Write the sort function recursively."
   ]
  },
  {
   "cell_type": "code",
   "execution_count": null,
   "metadata": {},
   "outputs": [],
   "source": []
  }
 ],
 "metadata": {
  "kernelspec": {
   "display_name": "Python 3",
   "language": "python",
   "name": "python3"
  },
  "language_info": {
   "codemirror_mode": {
    "name": "ipython",
    "version": 3
   },
   "file_extension": ".py",
   "mimetype": "text/x-python",
   "name": "python",
   "nbconvert_exporter": "python",
   "pygments_lexer": "ipython3",
   "version": "3.7.7"
  }
 },
 "nbformat": 4,
 "nbformat_minor": 4
}
