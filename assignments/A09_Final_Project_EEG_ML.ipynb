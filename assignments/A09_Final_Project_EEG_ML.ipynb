{
 "cells": [
  {
   "cell_type": "markdown",
   "id": "47f8a407",
   "metadata": {},
   "source": [
    "# Assignment 09: Final Project (Machine Learning EEG)\n",
    "## Computational Methods in Psychology and Neuroscience\n",
    "### Psychology 4215/7215 --- Fall 2023\n"
   ]
  },
  {
   "cell_type": "markdown",
   "id": "e39cb0ff",
   "metadata": {},
   "source": [
    "## Brief overview\n",
    "\n",
    "This project will consist of a deeper dive into EEG analysis by first preprocessing a new subject from the same dataset we analyzed for class. Then you will organize the data and perform a machine-learning analysis to test whether it it possible to distinguish, above chance, whether the participant experienced an auditory or visual stimulus. \n",
    "\n",
    "\n",
    "## EEG Preprocessing\n",
    "\n",
    "For the preprocessing, you will simply replicate everything we did in class, but on the new data from participant `rof011`. Here's the link to download the EEG data (note it is large, at ~220MB):\n",
    "\n",
    "https://virginia.box.com/s/j1gdv020kdfyitsho7cmp81oc6ymw9ih\n",
    "\n",
    "Then you'll follow along for all steps of data preprocessing that we covered in the class lecture on EEG data:\n",
    "\n",
    "https://github.com/compmem/compsy/blob/2023_Fall/lessons/13_EEG.ipynb\n",
    "\n",
    "In particular you will need to:\n",
    "\n",
    "1) Load in the behavioral data\n",
    "2) Load in the EEG data\n",
    "3) Align the EEG and behavioral data via the sync pulses\n",
    "4) Perform eyeblink correction with ICA\n",
    "5) Extract the epochs/events from the continuous data\n",
    "6) Make some simple plots to visualize the event-related potentials (ERPs)\n",
    "\n",
    "At the end of this process you'll have the Epoch data in a form that should work well for a machine learning analysis.\n",
    "\n",
    "## Machine Learning of EEG data\n",
    "\n",
    "Making use of the Epochs of data, you will first follow along as we assess whether we can distinguish between `common` and `rare` trials based on the EEG voltage values recorded during each trial.\n",
    "\n",
    "You will then apply the same general approach to try and classify whether the participant was experiencing a `visual` or `auditory` stimulus at each trial. \n",
    "\n",
    "\n"
   ]
  },
  {
   "cell_type": "markdown",
   "id": "2b5b37ed",
   "metadata": {},
   "source": [
    "## You'll need both MNE and sklearn (will come with nilearn)\n",
    "\n",
    "```bash\n",
    "conda install -c conda-forge mne\n",
    "\n",
    "# or install via pip\n",
    "\n",
    "python -m pip install mne[hdf5]\n",
    "```\n",
    "and also:\n",
    "```bash\n",
    "python -m pip install pyyaml\n",
    "\n",
    "```\n",
    "\n",
    "and for nilearn:\n",
    "\n",
    "```bash\n",
    "conda install -c conda-forge nilearn\n",
    "\n",
    "# or install it via pip\n",
    "\n",
    "python -m pip instal nilearn\n",
    "```"
   ]
  },
  {
   "cell_type": "markdown",
   "id": "917bc493",
   "metadata": {},
   "source": [
    "## EEG Preprocessing"
   ]
  },
  {
   "cell_type": "code",
   "execution_count": 1,
   "id": "561e27d4",
   "metadata": {},
   "outputs": [],
   "source": [
    "%matplotlib inline\n",
    "\n",
    "import matplotlib.pyplot as plt\n",
    "import pandas as pd\n",
    "import numpy as np\n",
    "from scipy import stats\n",
    "import mne\n"
   ]
  },
  {
   "cell_type": "code",
   "execution_count": null,
   "id": "8a12d606",
   "metadata": {},
   "outputs": [],
   "source": [
    "# YOUR CODE IN SEPARATE CELLS HERE TO PREPROCESS THE NEW DATASET\n"
   ]
  },
  {
   "cell_type": "markdown",
   "id": "83b2b7aa",
   "metadata": {},
   "source": [
    "## Machine Learning\n",
    "\n",
    "We'll first make use of the Epochs of data from the participant analyzed in class in order to demonstrate manipulating the data."
   ]
  },
  {
   "cell_type": "code",
   "execution_count": 209,
   "id": "ddd689bf",
   "metadata": {},
   "outputs": [],
   "source": [
    "# necessary imports from sklearn\n",
    "from sklearn import svm\n",
    "from sklearn.feature_selection import SelectPercentile, f_regression\n",
    "from sklearn.pipeline import make_pipeline, Pipeline\n",
    "from sklearn.model_selection import StratifiedKFold, permutation_test_score\n",
    "from sklearn.preprocessing import LabelEncoder\n",
    "from sklearn.metrics import accuracy_score\n",
    "from sklearn.utils.class_weight import compute_sample_weight\n",
    "from sklearn.preprocessing import StandardScaler\n",
    "from sklearn.linear_model import LogisticRegression, ElasticNet"
   ]
  },
  {
   "cell_type": "code",
   "execution_count": 37,
   "id": "b4c6c60c",
   "metadata": {},
   "outputs": [
    {
     "name": "stdout",
     "output_type": "stream",
     "text": [
      "Reading /home/per/OneDrive/class/compsy/assignments/rof07_odd-epo.fif ...\n",
      "    Found the data of interest:\n",
      "        t =    -200.00 ...     995.00 ms\n",
      "        0 CTF compensation matrices available\n",
      "Not setting metadata\n",
      "400 matching events found\n",
      "No baseline correction applied\n",
      "0 projection items activated\n"
     ]
    }
   ],
   "source": [
    "# load in the epochs of data (same as your homework)\n",
    "epochs = mne.read_epochs('rof07_odd-epo.fif')\n",
    "\n",
    "# downsample to 50 Hz\n",
    "epochs = epochs.resample(sfreq=50)"
   ]
  },
  {
   "cell_type": "markdown",
   "id": "b761e2f5",
   "metadata": {},
   "source": [
    "### Extracting the data and event labels\n",
    "\n",
    "- We would like to train and test a machine learning classifier to predict what the participant is experiencing during each trial. \n",
    "\n",
    "- We will use the voltage values for each event (at each of the 64 channels as function of time) as the data for predicting the event type, which is also called the `label`.\n",
    "\n",
    "- The next section extracts the conditions of interest (in this case `common` or `rare`, and defines the labels for each trial"
   ]
  },
  {
   "cell_type": "code",
   "execution_count": 95,
   "id": "485cac33",
   "metadata": {},
   "outputs": [
    {
     "name": "stderr",
     "output_type": "stream",
     "text": [
      "/tmp/ipykernel_2394948/698547697.py:3: FutureWarning: The current default of copy=False will change to copy=True in 1.7. Set the value of copy explicitly to avoid this warning\n",
      "  vdata = epochs['common'].get_data()\n",
      "/tmp/ipykernel_2394948/698547697.py:4: FutureWarning: The current default of copy=False will change to copy=True in 1.7. Set the value of copy explicitly to avoid this warning\n",
      "  adata = epochs['rare'].get_data()\n"
     ]
    },
    {
     "data": {
      "text/plain": [
       "(400, 64, 60)"
      ]
     },
     "execution_count": 95,
     "metadata": {},
     "output_type": "execute_result"
    }
   ],
   "source": [
    "# this will extract the EEG data for each epoch type\n",
    "# shape is event, electrode, time\n",
    "vdata = epochs['common'].get_data()\n",
    "adata = epochs['rare'].get_data()\n",
    "\n",
    "# combine them\n",
    "all_data = np.vstack([vdata, adata])\n",
    "\n",
    "# create labels for each epoch\n",
    "labels = ['common']*len(vdata) + ['rare']*len(adata)\n",
    "\n",
    "# show the data \n",
    "all_data.shape"
   ]
  },
  {
   "cell_type": "code",
   "execution_count": 96,
   "id": "ffaaaea7",
   "metadata": {},
   "outputs": [
    {
     "data": {
      "text/plain": [
       "(400, 3840)"
      ]
     },
     "execution_count": 96,
     "metadata": {},
     "output_type": "execute_result"
    }
   ],
   "source": [
    "# machine learning involves decoding samples based on features\n",
    "# so we need our data to be in that shape\n",
    "\n",
    "# the first dimension is already the samples, \n",
    "# but the electrodes and time are the features that we can reshape\n",
    "\n",
    "X = all_data.reshape((len(all_data), -1))\n",
    "X.shape"
   ]
  },
  {
   "cell_type": "code",
   "execution_count": 101,
   "id": "b1a5915b",
   "metadata": {},
   "outputs": [
    {
     "data": {
      "text/plain": [
       "array([0, 0, 0, 0, 0, 0, 0, 0, 0, 0, 0, 0, 0, 0, 0, 0, 0, 0, 0, 0, 0, 0,\n",
       "       0, 0, 0, 0, 0, 0, 0, 0, 0, 0, 0, 0, 0, 0, 0, 0, 0, 0, 0, 0, 0, 0,\n",
       "       0, 0, 0, 0, 0, 0, 0, 0, 0, 0, 0, 0, 0, 0, 0, 0, 0, 0, 0, 0, 0, 0,\n",
       "       0, 0, 0, 0, 0, 0, 0, 0, 0, 0, 0, 0, 0, 0, 0, 0, 0, 0, 0, 0, 0, 0,\n",
       "       0, 0, 0, 0, 0, 0, 0, 0, 0, 0, 0, 0, 0, 0, 0, 0, 0, 0, 0, 0, 0, 0,\n",
       "       0, 0, 0, 0, 0, 0, 0, 0, 0, 0, 0, 0, 0, 0, 0, 0, 0, 0, 0, 0, 0, 0,\n",
       "       0, 0, 0, 0, 0, 0, 0, 0, 0, 0, 0, 0, 0, 0, 0, 0, 0, 0, 0, 0, 0, 0,\n",
       "       0, 0, 0, 0, 0, 0, 0, 0, 0, 0, 0, 0, 0, 0, 0, 0, 0, 0, 0, 0, 0, 0,\n",
       "       0, 0, 0, 0, 0, 0, 0, 0, 0, 0, 0, 0, 0, 0, 0, 0, 0, 0, 0, 0, 0, 0,\n",
       "       0, 0, 0, 0, 0, 0, 0, 0, 0, 0, 0, 0, 0, 0, 0, 0, 0, 0, 0, 0, 0, 0,\n",
       "       0, 0, 0, 0, 0, 0, 0, 0, 0, 0, 0, 0, 0, 0, 0, 0, 0, 0, 0, 0, 0, 0,\n",
       "       0, 0, 0, 0, 0, 0, 0, 0, 0, 0, 0, 0, 0, 0, 0, 0, 0, 0, 0, 0, 0, 0,\n",
       "       0, 0, 0, 0, 0, 0, 0, 0, 0, 0, 0, 0, 0, 0, 0, 0, 0, 0, 0, 0, 0, 0,\n",
       "       0, 0, 0, 0, 0, 0, 0, 0, 0, 0, 0, 0, 0, 0, 0, 0, 0, 0, 0, 0, 0, 0,\n",
       "       0, 0, 0, 0, 0, 0, 0, 0, 0, 0, 0, 0, 1, 1, 1, 1, 1, 1, 1, 1, 1, 1,\n",
       "       1, 1, 1, 1, 1, 1, 1, 1, 1, 1, 1, 1, 1, 1, 1, 1, 1, 1, 1, 1, 1, 1,\n",
       "       1, 1, 1, 1, 1, 1, 1, 1, 1, 1, 1, 1, 1, 1, 1, 1, 1, 1, 1, 1, 1, 1,\n",
       "       1, 1, 1, 1, 1, 1, 1, 1, 1, 1, 1, 1, 1, 1, 1, 1, 1, 1, 1, 1, 1, 1,\n",
       "       1, 1, 1, 1])"
      ]
     },
     "execution_count": 101,
     "metadata": {},
     "output_type": "execute_result"
    }
   ],
   "source": [
    "# we also need to turn the labels into integers\n",
    "le = LabelEncoder()\n",
    "y = le.fit_transform(labels)\n",
    "y"
   ]
  },
  {
   "cell_type": "markdown",
   "id": "29525861",
   "metadata": {},
   "source": [
    "### Training and Testing\n",
    "\n",
    "- To be valid, you have to train and test a classifer on different data.\n",
    "- We can approximate this within a single dataset, but created subsets of our data for training and testing (this is called cross validation)\n",
    "- Below we set up a classifer and then train and test it on each subset (or fold) of the data.\n",
    "- We also extract the weights so we can see what features drove the testing performance"
   ]
  },
  {
   "cell_type": "code",
   "execution_count": 225,
   "id": "e381dc5c",
   "metadata": {},
   "outputs": [
    {
     "name": "stdout",
     "output_type": "stream",
     "text": [
      "[0.55, 0.8, 0.8, 0.475, 0.575, 0.2, 0.8, 0.2, 0.35, 0.775]\n",
      "mean accuracy: 0.5525\n"
     ]
    }
   ],
   "source": [
    "# set up a classifier\n",
    "clf = svm.LinearSVC(penalty='l2', dual='auto', max_iter=10000)\n",
    "\n",
    "# set up cross validation that saves out equal numbers of\n",
    "# each category\n",
    "cv = StratifiedKFold(10, shuffle=True)\n",
    "\n",
    "# perform cross validation saving performance and weights\n",
    "perfs = []\n",
    "weights = []\n",
    "for train_index, test_index in cv.split(X, y):\n",
    "    # select the training and testing samples\n",
    "    X_train, X_test = X[train_index], X[test_index]\n",
    "    y_train, y_test = y[train_index], y[test_index]\n",
    "    \n",
    "    # handle unbalanced training set\n",
    "    sample_weight = compute_sample_weight('balanced', y=y_train)\n",
    "\n",
    "    # Train the classifier\n",
    "    clf.fit(X_train, y_train, sample_weight=sample_weight)\n",
    "\n",
    "    # Predict on the test set\n",
    "    y_pred = clf.predict(X_test)\n",
    "\n",
    "    # Calculate accuracy and store it\n",
    "    perfs.append(accuracy_score(y_test, y_pred))\n",
    "\n",
    "    # Store the weights of this fold\n",
    "    weights.append(clf.coef_)\n",
    "    \n",
    "# stack the weights\n",
    "weights = np.vstack(weights)\n",
    "print(perfs)\n",
    "print('mean accuracy:', np.mean(perfs))"
   ]
  },
  {
   "cell_type": "markdown",
   "id": "c54c851b",
   "metadata": {},
   "source": [
    "### Fluctuating performance\n",
    "\n",
    "- You can see above that the performance of the classifier varies wildly from fold to fold due to fluctuations in the test data\n",
    "- What happens if you re-run the cell above?\n",
    "- We can get an overall assessment of performance by averaging across folds"
   ]
  },
  {
   "cell_type": "markdown",
   "id": "94705e51",
   "metadata": {},
   "source": [
    "### Features that guided performance\n",
    "\n",
    "- Next we'll extract the weights from the classifier that guided its decisions"
   ]
  },
  {
   "cell_type": "code",
   "execution_count": 226,
   "id": "02986baa",
   "metadata": {},
   "outputs": [
    {
     "name": "stdout",
     "output_type": "stream",
     "text": [
      "Index with max std: 32\n"
     ]
    },
    {
     "data": {
      "image/png": "[encoded data removed]",
      "text/plain": [
       "<Figure size 640x480 with 1 Axes>"
      ]
     },
     "metadata": {},
     "output_type": "display_data"
    }
   ],
   "source": [
    "# calculate the average weights and reshape to channels by time\n",
    "ave_weights = weights.mean(0).reshape(all_data.shape[1:]);\n",
    "\n",
    "# find the time points with the highest std across electrodes\n",
    "plt.plot(ave_weights.std(0))\n",
    "\n",
    "# extract the max ind\n",
    "ind = ave_weights.std(0).argmax()\n",
    "print('Index with max std:', ind)"
   ]
  },
  {
   "cell_type": "code",
   "execution_count": 227,
   "id": "71c5cc86",
   "metadata": {},
   "outputs": [
    {
     "data": {
      "image/png": "[encoded data removed]",
      "text/plain": [
       "<Figure size 100x100 with 1 Axes>"
      ]
     },
     "metadata": {},
     "output_type": "display_data"
    },
    {
     "name": "stdout",
     "output_type": "stream",
     "text": [
      "Map at 0.44 s\n"
     ]
    }
   ],
   "source": [
    "mne.viz.plot_topomap(data=ave_weights[:, ind], pos=epochs.info);\n",
    "print('Map at %0.2f s'%epochs.times[ind])"
   ]
  },
  {
   "cell_type": "markdown",
   "id": "23175455",
   "metadata": {},
   "source": [
    "## Your turn!!!\n",
    "\n",
    "- In a set of cells below, you should now test whether you can classify whether the participant was experiencing an `auditory` or `visual` stimulus.\n",
    "\n",
    "- Test this in both participants (`rof07` and `rof11`)\n",
    "\n",
    "- Make sure to include all the relevant plots and performance assessments, as above\n"
   ]
  },
  {
   "cell_type": "code",
   "execution_count": null,
   "id": "d7501e8b",
   "metadata": {},
   "outputs": [],
   "source": []
  },
  {
   "cell_type": "markdown",
   "id": "6193ac4b",
   "metadata": {},
   "source": [
    "## Discussion\n",
    "\n",
    "Once you have completed the machine-learning analysis of the EEG data, please write a handful of bullet points summarizing what you found (i.e., was the machine learning accuracy above chance? how do you know this? what features helped the model make this decision?, was classification performance better in one participant than the other? did the topomaps of the weights differe between subjects?, etc.)"
   ]
  }
 ],
 "metadata": {
  "kernelspec": {
   "display_name": "smiledev",
   "language": "python",
   "name": "smiledev"
  },
  "language_info": {
   "codemirror_mode": {
    "name": "ipython",
    "version": 3
   },
   "file_extension": ".py",
   "mimetype": "text/x-python",
   "name": "python",
   "nbconvert_exporter": "python",
   "pygments_lexer": "ipython3",
   "version": "3.10.12"
  }
 },
 "nbformat": 4,
 "nbformat_minor": 5
}
