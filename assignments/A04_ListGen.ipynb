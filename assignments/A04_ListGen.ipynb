{
 "cells": [
  {
   "cell_type": "markdown",
   "metadata": {},
   "source": [
    "# Assignment 4: List Generation for Experiments\n",
    "## Computational Methods in Psychology (and Neuroscience)\n",
    "### Psychology 4500/7559 --- Fall 2020"
   ]
  },
  {
   "cell_type": "markdown",
   "metadata": {},
   "source": [
    "# Objectives\n",
    "\n",
    "Upon completion of this assignment, the student will have:\n",
    "\n",
    "1. Read in a stimulus pool from a file.\n",
    "\n",
    "2. Randomly generated lists to use in a experiment.\n",
    "\n",
    "3. Written the lists out to files for future use.\n"
   ]
  },
  {
   "cell_type": "markdown",
   "metadata": {},
   "source": [
    "# Assignment\n",
    "\n",
    "* Write code in a Jupyter notebook (after making a copy and renaming it to have your userid in the title --- e.g., A04_ListGen_mst3k).\n",
    "\n",
    "## Design\n",
    "\n",
    "Your assignment is to write a script that reads in a pool of stimuli\n",
    "and creates lists of dictionaries that you will later present to\n",
    "participants as part of an experiment.  \n",
    "\n",
    "The script should be configurable such that you can specify different\n",
    "numbers of lists and trials, along with other details specific to the\n",
    "experiment you decide to do.\n",
    "\n",
    "Each dictionary represents a trial and should contain all the\n",
    "information necessary to identify the stimulus to be presented,\n",
    "details about that stimulus, and the condition in which to present it.\n",
    "This information will be experiment-specific, as outlined below.\n",
    "\n",
    "You have three options for your experiment.  Please select **one** of\n",
    "the following experiments, keeping in mind that your next assignment\n",
    "will be to code the experiment presentation and response collection\n",
    "for the lists you generate from this assignment.\n",
    "\n",
    "  \n",
    "* ***When you are done, save this notebook as HTML (`File -> Download as -> HTML`) and upload it to the matching assignment on UVACollab.***  "
   ]
  },
  {
   "cell_type": "markdown",
   "metadata": {},
   "source": [
    "## Option 1: Valence Study\n",
    "\n",
    "The main question of this study is whether recognition memory for\n",
    "words depends on the emotional or affective valence of those words.\n",
    "Participants will study lists of positive (+), negative (-), and\n",
    "neutral (~) words and then, after a short delay, they will be given a\n",
    "recognition test over all the studied target words plus a matched set\n",
    "of non-studied lures.  The stimuli are contained in three separate CSV\n",
    "files:\n",
    "\n",
    "- [Positive Pool](./pos_pool.csv)\n",
    "- [Negative Pool](./neg_pool.csv)\n",
    "- [Neutral Pool](./neu_pool.csv)\n",
    "\n",
    "You will need to read these files in as lists of dictionaries (hint,\n",
    "use the ``DictReader`` from the ``csv`` module that was covered in\n",
    "class.)  Use these pools to create lists of trials for two\n",
    "experimental conditions: pure or mixed.  In the *pure* condition,\n",
    "all of the trials should be words from the same valence (be sure to\n",
    "have the same number of positive, negative, and neutral pure lists.)\n",
    "In the *mixed* condition, each list should contain an equal number of\n",
    "positive, negative, and neutral words in *random* order (hint, use the\n",
    "``shuffle`` function provided by the ``random`` module.) \n",
    "\n",
    "You will need to generate a matching test list for each study list\n",
    "that includes all the studied items, plus a set of lures that match\n",
    "the valence of the studied words.\n",
    "\n",
    "Be sure to add in information to each trial dictionary that identifies\n",
    "the word, its valence, the condition of the list, and whether it is a\n",
    "target or a lure.  Feel free to add in more information if you would\n",
    "like.\n"
   ]
  },
  {
   "cell_type": "markdown",
   "metadata": {},
   "source": [
    "## Option 2: Scene Study\n",
    "\n",
    "This study will test whether recognition memory for indoor and outdoor\n",
    "scenes is modulated by the structure of the study lists.\n",
    "Specifically, participants will study lists that either have indoor\n",
    "and outdoor scenes that come in pure blocks or intermixed (similar to\n",
    "the Valence study above).  The participants will then be given a\n",
    "recognition test over all the studied target images plus a matched set\n",
    "of non-studied lures.  You can access the lists of stimuli available:\n",
    "\n",
    "- [Indoor Pool](./indoor.csv)\n",
    "- [Outdoor Pool](./outdoor.csv)\n",
    "\n",
    "You will need to read these files in as lists of dictionaries (hint,\n",
    "use the ``DictReader`` from the ``csv`` module that was covered in\n",
    "class.)  For the actual experiment we will give you the images that\n",
    "are referenced by the file names in these pools, but for the list\n",
    "generation you do not need the images, themselves and should identify\n",
    "the image you will be presenting using the file name.  Use these pools\n",
    "to create lists of trials for two experimental conditions: pure or\n",
    "mixed.  In the *pure* condition, all of the trials should be images\n",
    "from the same category (be sure to have the same number of indoor\n",
    "and outdoor pure lists.)  In the *mixed* condition, each\n",
    "list should contain an equal number of indoor and outdoor\n",
    "images in *random* order (hint, use the ``shuffle`` function provided\n",
    "by the ``random`` module.)\n",
    "\n",
    "You will need to generate a matching test list for each study list\n",
    "that includes all the studied items, plus a set of lures that match\n",
    "the image categories from the studied items.\n",
    "\n",
    "Be sure to add in information to each trial dictionary that identifies\n",
    "the file name, the category of the image, the condition of the list,\n",
    "and whether it is a target or a lure.\n"
   ]
  },
  {
   "cell_type": "markdown",
   "metadata": {},
   "source": [
    "## Option 3: Your own study\n",
    "\n",
    "You may also generate lists for a study specifically relevant to your\n",
    "own work.  We are extremely supportive of this, but the study must be\n",
    "approved by the professor.\n"
   ]
  }
 ],
 "metadata": {
  "kernelspec": {
   "display_name": "Python 3",
   "language": "python",
   "name": "python3"
  },
  "language_info": {
   "codemirror_mode": {
    "name": "ipython",
    "version": 3
   },
   "file_extension": ".py",
   "mimetype": "text/x-python",
   "name": "python",
   "nbconvert_exporter": "python",
   "pygments_lexer": "ipython3",
   "version": "3.7.6"
  }
 },
 "nbformat": 4,
 "nbformat_minor": 4
}
