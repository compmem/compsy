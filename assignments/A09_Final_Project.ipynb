{
 "cells": [
  {
   "cell_type": "markdown",
   "metadata": {
    "slideshow": {
     "slide_type": "slide"
    }
   },
   "source": [
    "# Assignment 09: Final Project\n",
    "## Computational Methods in Psychology and Neuroscience\n",
    "### Psychology 4215/7215 --- Fall 2023\n"
   ]
  },
  {
   "cell_type": "markdown",
   "metadata": {
    "slideshow": {
     "slide_type": "slide"
    }
   },
   "source": [
    "# Objectives\n",
    "\n",
    "Upon completion of this assignment, students will have:\n",
    "\n",
    "1. Described a list generation process in detail\n",
    "2. Described the experiment details\n",
    "3. Stated two new new hypotheses/questions to test\n",
    "3. Visualized processed data testing these hypotheses\n",
    "4. Performed a statistical analyses to test the hypotheses\n",
    "5. Summarized the results\n",
    "\n",
    "or\n",
    "\n",
    "- Students can pick one of the MRI or EEG neural data projects (see other notebooks posted)\n",
    "\n",
    "or\n",
    "\n",
    "- Students can \"choose their own adventure\" for the final project (see below)\n"
   ]
  },
  {
   "cell_type": "markdown",
   "metadata": {
    "slideshow": {
     "slide_type": "slide"
    }
   },
   "source": [
    "# Assignment\n",
    "\n",
    "Write text (in MarkDown cells) and code (in Code cells) in a Jupyter notebook (after making a copy and renaming it to have your userid in the title --- e.g., A10_Final_Project_mst3k).\n",
    "\n",
    "\n",
    "## Details\n",
    "\n",
    "The goal of the final project is to synthesize material covered in the class and produce part of what would go into an actual scientific publication based on *one or more* of the experiments we ran in the class. Specifically, you will be writing part of the Methods and Results sections.\n",
    "\n",
    "You can copy the basic template code for loading and processing the data from the class lessons. We also outline what each section of your assignment should include. In addition to describing the experiment in detail, you will be developing novel hypotheses we did not test in class and then performing the associated analyses and visualizing the results. As always, make sure to label all figures and be sure to refer to the code in the lesson notebooks as a guide for your analyses.\n",
    "\n",
    "Please feel free to reach out to us on Discord if you have any questions along the way. For example, we're happy to weigh in on whether or not your hypotheses are novel.\n",
    "\n",
    "\n",
    "### Neural Data Analyis Options\n",
    "\n",
    "If you'd prefer to work with the neural data for your final project, we will be posting some notebooks that outline some MRI and EEG options, along with any necessary data for performing the analyses.\n",
    "\n",
    "### Choose your own!\n",
    "\n",
    "You can alternatively \"choose your own adventure\" for your final project. For this option you must get approval from me, but the goal is to have the chance to apply some of the methods from this class in support of your own work. For example, you could design an new experiment and implement it in SMILE, or you could perform a novel analysis of your own data and visualize the results. There are tons of possibilities and I am eager to discuss options with you.\n",
    "\n",
    "* ***If you select the project in this notebook, when you are done, save this notebook as HTML (`File -> Download as -> HTML`) and upload it to the matching assignment on UVA Canvas.***  "
   ]
  },
  {
   "cell_type": "markdown",
   "metadata": {
    "slideshow": {
     "slide_type": "slide"
    }
   },
   "source": [
    "# Your text and code goes below here\n",
    "\n",
    "*All code above should work without modification.*"
   ]
  },
  {
   "cell_type": "markdown",
   "metadata": {
    "slideshow": {
     "slide_type": "slide"
    }
   },
   "source": [
    "## General Imports"
   ]
  },
  {
   "cell_type": "code",
   "execution_count": 6,
   "metadata": {},
   "outputs": [],
   "source": [
    "# import some useful libraries"
   ]
  },
  {
   "cell_type": "markdown",
   "metadata": {
    "slideshow": {
     "slide_type": "slide"
    }
   },
   "source": [
    "# Hypotheses\n",
    "\n",
    "*Fill in two *new* hypotheses here. You must pick something that will give rise to an analysis we did not perform in class, though it could be a similar analysis on a different dataset.*"
   ]
  },
  {
   "cell_type": "markdown",
   "metadata": {
    "slideshow": {
     "slide_type": "slide"
    }
   },
   "source": [
    "# Methods\n",
    "\n",
    "*This section should read like a methods section of a journal article. Fill in the two sub-sections below for one of the experiments from class. Feel free to reference the code we provided you to run the experiments.*\n",
    "\n",
    "## List generation\n",
    "\n",
    "*Provide enough detail (in words) about the list generation so that someone could recreate the list generation code themselves. Be sure to state all the specific parameters used, including number of stimuli per block and number of blocks. Refer to the list generation code we provided to find all the information you need.*\n",
    "\n",
    "## SMILE Experiment Details\n",
    "\n",
    "*Provide enough detail so that someone could implement the experiment presentation and response collection, including all timing information and how the blocks were structured and presented.*\n"
   ]
  },
  {
   "cell_type": "markdown",
   "metadata": {
    "slideshow": {
     "slide_type": "slide"
    }
   },
   "source": [
    "# Results\n",
    "\n",
    "*In this section, state a specific question, then define your dependent and independent variables that will help you answer that question. As stated above, your question must give rise to an analysis that is not identical to one we performed in class (i.e., you must do more than copy and paste code with zero changes. That said, the analysis can match those from the class quite closely.*\n",
    "\n",
    "*Note: You need to repeat this process for a total of two hypotheses/questions.*"
   ]
  },
  {
   "cell_type": "markdown",
   "metadata": {
    "slideshow": {
     "slide_type": "slide"
    }
   },
   "source": [
    "## Data processing and visualization\n",
    "\n",
    "*With the lessons as a guide, process your data to create the necessary data frame to plot the visualization associated with the question stated above. Then plot those data.*"
   ]
  },
  {
   "cell_type": "code",
   "execution_count": null,
   "metadata": {
    "slideshow": {
     "slide_type": "-"
    }
   },
   "outputs": [],
   "source": [
    "# Code for data processing and visualization"
   ]
  },
  {
   "cell_type": "markdown",
   "metadata": {},
   "source": [
    "*Put text here describing what is in your plot like a detailed figure caption.*"
   ]
  },
  {
   "cell_type": "markdown",
   "metadata": {
    "slideshow": {
     "slide_type": "slide"
    }
   },
   "source": [
    "## Statistical test and interpretation\n",
    "\n",
    "*Perform a statistical test to support your conclusions with regard to your question outlined above. This can be with either statsmodels or with bambi.*"
   ]
  },
  {
   "cell_type": "code",
   "execution_count": null,
   "metadata": {},
   "outputs": [],
   "source": [
    "# Code for statistical test (can be either with statsmodels or bambi)"
   ]
  },
  {
   "cell_type": "markdown",
   "metadata": {},
   "source": [
    "*Put text here describing the results of your statistical test*"
   ]
  },
  {
   "cell_type": "markdown",
   "metadata": {
    "slideshow": {
     "slide_type": "slide"
    }
   },
   "source": [
    "# Discussion\n",
    "\n",
    "***Graduate students only!!!***\n",
    "\n",
    "*In one to two paragraphs do the following: a) Place the study in the larger literature, summarizing some of the similar work in the field and how this study compares, b) write some analysis of the findings from the study (even if they are null results) and then describe a follow-up study with a new variant of the experiment that you think might help answer further questions on the topic.*"
   ]
  }
 ],
 "metadata": {
  "celltoolbar": "Slideshow",
  "kernelspec": {
   "display_name": "Python 3 (ipykernel)",
   "language": "python",
   "name": "python3"
  },
  "language_info": {
   "codemirror_mode": {
    "name": "ipython",
    "version": 3
   },
   "file_extension": ".py",
   "mimetype": "text/x-python",
   "name": "python",
   "nbconvert_exporter": "python",
   "pygments_lexer": "ipython3",
   "version": "3.11.2"
  },
  "rise": {
   "scroll": true
  }
 },
 "nbformat": 4,
 "nbformat_minor": 2
}
