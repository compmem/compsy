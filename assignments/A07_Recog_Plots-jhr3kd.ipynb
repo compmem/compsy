{
 "cells": [
  {
   "cell_type": "markdown",
   "metadata": {
    "slideshow": {
     "slide_type": "slide"
    }
   },
   "source": [
    "# Assignment 7: Recog Task Plots\n",
    "## Computational Methods in Psychology (and Neuroscience)\n",
    "### Psychology 4500/7559 --- Fall 2020\n"
   ]
  },
  {
   "cell_type": "markdown",
   "metadata": {
    "slideshow": {
     "slide_type": "slide"
    }
   },
   "source": [
    "# Objectives\n",
    "\n",
    "Upon completion of this assignment, students will have:\n",
    "\n",
    "1. Read in all the recognition memory data\n",
    "2. Performed some simple data clean-up (code provided)\n",
    "3. Plotted general recognition results"
   ]
  },
  {
   "cell_type": "markdown",
   "metadata": {
    "slideshow": {
     "slide_type": "slide"
    }
   },
   "source": [
    "# Assignment\n",
    "\n",
    "* Write code in a Jupyter notebook (after making a copy and renaming it to have your userid in the title --- e.g., A06_Recog_Plots_mst3k).\n",
    "\n",
    "\n",
    "## Details\n",
    "\n",
    "Below is code that will load in the data from the two recognition memory experiments. As long as you have updated this repository from GitHub and unzipped the `all_data.zip` file in the `lessons` directory, the code should work unchanged to load in the data, create two data frames, and perform some minor clean-up of the data.\n",
    "\n",
    "Your task is to make some plots that explore some initial questions about the data (we'll perform some statistical tests on the data next week, taking a deeper dive into how to analyze recognition memory experiments.)\n",
    "\n",
    "For each of the two tasks (i.e., you will be generating two total figures), you will be plotting performance as a function of type (e.g., indoor/outdoor or valence), split out by condition (mixed or pure). These plots must have within-subject corrected error bars that you calculate making use of the `ci_within` function.\n",
    "\n",
    "Be sure to refer to the class notebooks to help guide how to do all the steps above. We have some code below to help you get started, along with demonstrations of approximately what the figures will look like when done.\n",
    "\n",
    "* ***When you are done, save this notebook as HTML (`File -> Download as -> HTML`) and upload it to the matching assignment on UVACollab.***  "
   ]
  },
  {
   "cell_type": "markdown",
   "metadata": {
    "slideshow": {
     "slide_type": "slide"
    }
   },
   "source": [
    "## General Imports"
   ]
  },
  {
   "cell_type": "code",
   "execution_count": 7,
   "metadata": {},
   "outputs": [],
   "source": [
    "import numpy as np\n",
    "from scipy import stats\n",
    "import pandas as pd\n",
    "from glob import glob\n",
    "import os\n",
    "\n",
    "from smile.log import log2dl\n",
    "\n",
    "from ci_within import ci_within"
   ]
  },
  {
   "cell_type": "markdown",
   "metadata": {
    "slideshow": {
     "slide_type": "slide"
    }
   },
   "source": [
    "## Custom SLOG loading function"
   ]
  },
  {
   "cell_type": "code",
   "execution_count": 8,
   "metadata": {},
   "outputs": [],
   "source": [
    "# custom function to load slogs\n",
    "def load_all_subj_logs(task_dir, log_file):\n",
    "    # load in a list of all the subj\n",
    "    subjs = [os.path.split(subj_dir)[-1] \n",
    "             for subj_dir in glob(os.path.join(task_dir, 's*'))]\n",
    "    subjs.sort()\n",
    "\n",
    "    # loop over subj and their data\n",
    "    all_dat = []\n",
    "    for subj in subjs:\n",
    "        # set the file\n",
    "        log_path = os.path.join(task_dir, subj, log_file)\n",
    "        #print(log_path)\n",
    "\n",
    "        # load the data\n",
    "        all_dat.extend(log2dl(log_path, subj=subj))\n",
    "\n",
    "    df = pd.DataFrame(all_dat)\n",
    "    \n",
    "    return df"
   ]
  },
  {
   "cell_type": "markdown",
   "metadata": {
    "slideshow": {
     "slide_type": "slide"
    }
   },
   "source": [
    "## Load in all the data"
   ]
  },
  {
   "cell_type": "code",
   "execution_count": 9,
   "metadata": {},
   "outputs": [
    {
     "data": {
      "text/html": [
       "<div>\n",
       "<style scoped>\n",
       "    .dataframe tbody tr th:only-of-type {\n",
       "        vertical-align: middle;\n",
       "    }\n",
       "\n",
       "    .dataframe tbody tr th {\n",
       "        vertical-align: top;\n",
       "    }\n",
       "\n",
       "    .dataframe thead th {\n",
       "        text-align: right;\n",
       "    }\n",
       "</style>\n",
       "<table border=\"1\" class=\"dataframe\">\n",
       "  <thead>\n",
       "    <tr style=\"text-align: right;\">\n",
       "      <th></th>\n",
       "      <th>resp_map_lure</th>\n",
       "      <th>resp_map_target</th>\n",
       "      <th>block_num</th>\n",
       "      <th>trial_num</th>\n",
       "      <th>stim_on_time</th>\n",
       "      <th>stim_on_error</th>\n",
       "      <th>resp</th>\n",
       "      <th>resp_time_time</th>\n",
       "      <th>resp_time_error</th>\n",
       "      <th>rt</th>\n",
       "      <th>correct</th>\n",
       "      <th>log_time</th>\n",
       "      <th>filename</th>\n",
       "      <th>in_out</th>\n",
       "      <th>novelty</th>\n",
       "      <th>cond</th>\n",
       "      <th>subj</th>\n",
       "      <th>log_num</th>\n",
       "    </tr>\n",
       "  </thead>\n",
       "  <tbody>\n",
       "    <tr>\n",
       "      <th>0</th>\n",
       "      <td>F</td>\n",
       "      <td>J</td>\n",
       "      <td>0</td>\n",
       "      <td>0</td>\n",
       "      <td>2361.470167</td>\n",
       "      <td>0.0</td>\n",
       "      <td>F</td>\n",
       "      <td>2362.502265</td>\n",
       "      <td>0.000391</td>\n",
       "      <td>1.032098</td>\n",
       "      <td>True</td>\n",
       "      <td>2363.385215</td>\n",
       "      <td>out2646.jpg</td>\n",
       "      <td>outdoor</td>\n",
       "      <td>lure</td>\n",
       "      <td>outdoor</td>\n",
       "      <td>s001</td>\n",
       "      <td>0</td>\n",
       "    </tr>\n",
       "    <tr>\n",
       "      <th>1</th>\n",
       "      <td>F</td>\n",
       "      <td>J</td>\n",
       "      <td>0</td>\n",
       "      <td>1</td>\n",
       "      <td>2363.392059</td>\n",
       "      <td>0.0</td>\n",
       "      <td>J</td>\n",
       "      <td>2363.993073</td>\n",
       "      <td>0.001033</td>\n",
       "      <td>0.601014</td>\n",
       "      <td>True</td>\n",
       "      <td>2364.559602</td>\n",
       "      <td>out0031_new.jpg</td>\n",
       "      <td>outdoor</td>\n",
       "      <td>target</td>\n",
       "      <td>outdoor</td>\n",
       "      <td>s001</td>\n",
       "      <td>0</td>\n",
       "    </tr>\n",
       "    <tr>\n",
       "      <th>2</th>\n",
       "      <td>F</td>\n",
       "      <td>J</td>\n",
       "      <td>0</td>\n",
       "      <td>2</td>\n",
       "      <td>2364.572868</td>\n",
       "      <td>0.0</td>\n",
       "      <td>F</td>\n",
       "      <td>2365.363671</td>\n",
       "      <td>0.000197</td>\n",
       "      <td>0.790803</td>\n",
       "      <td>True</td>\n",
       "      <td>2365.870152</td>\n",
       "      <td>out1227.jpg</td>\n",
       "      <td>outdoor</td>\n",
       "      <td>lure</td>\n",
       "      <td>outdoor</td>\n",
       "      <td>s001</td>\n",
       "      <td>0</td>\n",
       "    </tr>\n",
       "    <tr>\n",
       "      <th>3</th>\n",
       "      <td>F</td>\n",
       "      <td>J</td>\n",
       "      <td>0</td>\n",
       "      <td>3</td>\n",
       "      <td>2365.874493</td>\n",
       "      <td>0.0</td>\n",
       "      <td>F</td>\n",
       "      <td>2366.714544</td>\n",
       "      <td>0.000191</td>\n",
       "      <td>0.840051</td>\n",
       "      <td>True</td>\n",
       "      <td>2367.588254</td>\n",
       "      <td>out0134_new.jpg</td>\n",
       "      <td>outdoor</td>\n",
       "      <td>lure</td>\n",
       "      <td>outdoor</td>\n",
       "      <td>s001</td>\n",
       "      <td>0</td>\n",
       "    </tr>\n",
       "    <tr>\n",
       "      <th>4</th>\n",
       "      <td>F</td>\n",
       "      <td>J</td>\n",
       "      <td>0</td>\n",
       "      <td>4</td>\n",
       "      <td>2367.592558</td>\n",
       "      <td>0.0</td>\n",
       "      <td>F</td>\n",
       "      <td>2368.463209</td>\n",
       "      <td>0.000248</td>\n",
       "      <td>0.870651</td>\n",
       "      <td>True</td>\n",
       "      <td>2369.152451</td>\n",
       "      <td>out2086.jpg</td>\n",
       "      <td>outdoor</td>\n",
       "      <td>lure</td>\n",
       "      <td>outdoor</td>\n",
       "      <td>s001</td>\n",
       "      <td>0</td>\n",
       "    </tr>\n",
       "  </tbody>\n",
       "</table>\n",
       "</div>"
      ],
      "text/plain": [
       "  resp_map_lure resp_map_target  block_num  trial_num  stim_on_time  \\\n",
       "0             F               J          0          0   2361.470167   \n",
       "1             F               J          0          1   2363.392059   \n",
       "2             F               J          0          2   2364.572868   \n",
       "3             F               J          0          3   2365.874493   \n",
       "4             F               J          0          4   2367.592558   \n",
       "\n",
       "   stim_on_error resp  resp_time_time  resp_time_error        rt  correct  \\\n",
       "0            0.0    F     2362.502265         0.000391  1.032098     True   \n",
       "1            0.0    J     2363.993073         0.001033  0.601014     True   \n",
       "2            0.0    F     2365.363671         0.000197  0.790803     True   \n",
       "3            0.0    F     2366.714544         0.000191  0.840051     True   \n",
       "4            0.0    F     2368.463209         0.000248  0.870651     True   \n",
       "\n",
       "      log_time         filename   in_out novelty     cond  subj  log_num  \n",
       "0  2363.385215      out2646.jpg  outdoor    lure  outdoor  s001        0  \n",
       "1  2364.559602  out0031_new.jpg  outdoor  target  outdoor  s001        0  \n",
       "2  2365.870152      out1227.jpg  outdoor    lure  outdoor  s001        0  \n",
       "3  2367.588254  out0134_new.jpg  outdoor    lure  outdoor  s001        0  \n",
       "4  2369.152451      out2086.jpg  outdoor    lure  outdoor  s001        0  "
      ]
     },
     "execution_count": 9,
     "metadata": {},
     "output_type": "execute_result"
    }
   ],
   "source": [
    "# load the data from each task\n",
    "task_dir = os.path.join('..', 'lessons', 'data2', 'Taskapalooza')\n",
    "\n",
    "df_i = load_all_subj_logs(task_dir, 'log_image_test')\n",
    "df_w = load_all_subj_logs(task_dir, 'log_word_test')\n",
    "df_i.head()"
   ]
  },
  {
   "cell_type": "markdown",
   "metadata": {
    "slideshow": {
     "slide_type": "slide"
    }
   },
   "source": [
    "## Some data clean-up"
   ]
  },
  {
   "cell_type": "code",
   "execution_count": 10,
   "metadata": {},
   "outputs": [],
   "source": [
    "# it turns out the cond is easier to visualize as pure and mixed\n",
    "def fix_conds(df, type_col):\n",
    "    # loop over the unique subjects\n",
    "    usubj = df.subj.unique()\n",
    "    for s in usubj:\n",
    "        # loop over their blocks\n",
    "        ublocks = df.loc[df['subj']==s, 'block_num'].unique()\n",
    "        for b in ublocks:\n",
    "            # grab the data for that subj and block\n",
    "            dfb = df.loc[(df['subj']==s)&(df['block_num']==b)]\n",
    "            \n",
    "            # get the unique types in that block\n",
    "            uval = dfb[type_col].unique()\n",
    "            if len(uval) > 1:\n",
    "                # it's mixed\n",
    "                df.loc[(df['subj']==s)&(df.block_num==b), 'cond'] = 'mixed'\n",
    "            else:\n",
    "                # it's the pure\n",
    "                df.loc[(df['subj']==s)&(df.block_num==b), 'cond'] = 'pure'\n",
    "\n",
    "# fix the conds in the recog experiments (updated in place)\n",
    "fix_conds(df_i, type_col='in_out')\n",
    "fix_conds(df_w, type_col='valence')\n",
    "\n",
    "\n",
    "# add in log_rt columns\n",
    "df_i['log_rt'] = np.log(df_i['rt'])\n",
    "df_w['log_rt'] = np.log(df_w['rt'])\n",
    "\n",
    "# must make correct an int\n",
    "df_i['correct'] = df_i['correct'].astype(np.int)\n",
    "df_w['correct'] = df_w['correct'].astype(np.int)\n"
   ]
  },
  {
   "cell_type": "markdown",
   "metadata": {
    "slideshow": {
     "slide_type": "slide"
    }
   },
   "source": [
    "# Image Recognition Figure\n",
    "\n",
    "Replace sections marked with `XXX` with the proper code to generate and plot the correct data.\n",
    "\n",
    "You are making a plot of recognition performance as a function of location (indoor vs. outdoor), grouped by condition (mixed vs. pure)."
   ]
  },
  {
   "cell_type": "code",
   "execution_count": 36,
   "metadata": {},
   "outputs": [
    {
     "data": {
      "text/html": [
       "<div>\n",
       "<style scoped>\n",
       "    .dataframe tbody tr th:only-of-type {\n",
       "        vertical-align: middle;\n",
       "    }\n",
       "\n",
       "    .dataframe tbody tr th {\n",
       "        vertical-align: top;\n",
       "    }\n",
       "\n",
       "    .dataframe thead th {\n",
       "        text-align: right;\n",
       "    }\n",
       "</style>\n",
       "<table border=\"1\" class=\"dataframe\">\n",
       "  <thead>\n",
       "    <tr style=\"text-align: right;\">\n",
       "      <th></th>\n",
       "      <th></th>\n",
       "      <th>mean</th>\n",
       "      <th>std</th>\n",
       "      <th>sem</th>\n",
       "      <th>ci</th>\n",
       "      <th>len</th>\n",
       "    </tr>\n",
       "    <tr>\n",
       "      <th>cond</th>\n",
       "      <th>in_out</th>\n",
       "      <th></th>\n",
       "      <th></th>\n",
       "      <th></th>\n",
       "      <th></th>\n",
       "      <th></th>\n",
       "    </tr>\n",
       "  </thead>\n",
       "  <tbody>\n",
       "    <tr>\n",
       "      <th rowspan=\"2\" valign=\"top\">mixed</th>\n",
       "      <th>indoor</th>\n",
       "      <td>0.903397</td>\n",
       "      <td>0.512782</td>\n",
       "      <td>0.012601</td>\n",
       "      <td>0.024715</td>\n",
       "      <td>1656.0</td>\n",
       "    </tr>\n",
       "    <tr>\n",
       "      <th>outdoor</th>\n",
       "      <td>0.892114</td>\n",
       "      <td>0.502189</td>\n",
       "      <td>0.012341</td>\n",
       "      <td>0.024205</td>\n",
       "      <td>1656.0</td>\n",
       "    </tr>\n",
       "    <tr>\n",
       "      <th rowspan=\"2\" valign=\"top\">pure</th>\n",
       "      <th>indoor</th>\n",
       "      <td>0.904077</td>\n",
       "      <td>0.438513</td>\n",
       "      <td>0.007620</td>\n",
       "      <td>0.014940</td>\n",
       "      <td>3312.0</td>\n",
       "    </tr>\n",
       "    <tr>\n",
       "      <th>outdoor</th>\n",
       "      <td>0.904132</td>\n",
       "      <td>0.739333</td>\n",
       "      <td>0.012847</td>\n",
       "      <td>0.025188</td>\n",
       "      <td>3312.0</td>\n",
       "    </tr>\n",
       "  </tbody>\n",
       "</table>\n",
       "</div>"
      ],
      "text/plain": [
       "                   mean       std       sem        ci     len\n",
       "cond  in_out                                                 \n",
       "mixed indoor   0.903397  0.512782  0.012601  0.024715  1656.0\n",
       "      outdoor  0.892114  0.502189  0.012341  0.024205  1656.0\n",
       "pure  indoor   0.904077  0.438513  0.007620  0.014940  3312.0\n",
       "      outdoor  0.904132  0.739333  0.012847  0.025188  3312.0"
      ]
     },
     "execution_count": 36,
     "metadata": {},
     "output_type": "execute_result"
    }
   ],
   "source": [
    "# get the error corrected by condition and whether they got it correct\n",
    "res = ci_within(df_i,  \n",
    "                indexvar='subj',       # column that identifies a subject\n",
    "                withinvars=['cond','in_out'],     # list of columns for grouping within subject\n",
    "                measvar='rt')        # dependent variable averaging over\n",
    "res"
   ]
  },
  {
   "cell_type": "code",
   "execution_count": 37,
   "metadata": {},
   "outputs": [
    {
     "data": {
      "text/html": [
       "<div>\n",
       "<style scoped>\n",
       "    .dataframe tbody tr th:only-of-type {\n",
       "        vertical-align: middle;\n",
       "    }\n",
       "\n",
       "    .dataframe tbody tr th {\n",
       "        vertical-align: top;\n",
       "    }\n",
       "\n",
       "    .dataframe thead tr th {\n",
       "        text-align: left;\n",
       "    }\n",
       "</style>\n",
       "<table border=\"1\" class=\"dataframe\">\n",
       "  <thead>\n",
       "    <tr>\n",
       "      <th></th>\n",
       "      <th>cond</th>\n",
       "      <th colspan=\"2\" halign=\"left\">mean</th>\n",
       "      <th colspan=\"2\" halign=\"left\">std</th>\n",
       "      <th colspan=\"2\" halign=\"left\">sem</th>\n",
       "      <th colspan=\"2\" halign=\"left\">ci</th>\n",
       "      <th colspan=\"2\" halign=\"left\">len</th>\n",
       "    </tr>\n",
       "    <tr>\n",
       "      <th>in_out</th>\n",
       "      <th></th>\n",
       "      <th>indoor</th>\n",
       "      <th>outdoor</th>\n",
       "      <th>indoor</th>\n",
       "      <th>outdoor</th>\n",
       "      <th>indoor</th>\n",
       "      <th>outdoor</th>\n",
       "      <th>indoor</th>\n",
       "      <th>outdoor</th>\n",
       "      <th>indoor</th>\n",
       "      <th>outdoor</th>\n",
       "    </tr>\n",
       "  </thead>\n",
       "  <tbody>\n",
       "    <tr>\n",
       "      <th>0</th>\n",
       "      <td>mixed</td>\n",
       "      <td>0.903397</td>\n",
       "      <td>0.892114</td>\n",
       "      <td>0.512782</td>\n",
       "      <td>0.502189</td>\n",
       "      <td>0.012601</td>\n",
       "      <td>0.012341</td>\n",
       "      <td>0.024715</td>\n",
       "      <td>0.024205</td>\n",
       "      <td>1656.0</td>\n",
       "      <td>1656.0</td>\n",
       "    </tr>\n",
       "    <tr>\n",
       "      <th>1</th>\n",
       "      <td>pure</td>\n",
       "      <td>0.904077</td>\n",
       "      <td>0.904132</td>\n",
       "      <td>0.438513</td>\n",
       "      <td>0.739333</td>\n",
       "      <td>0.007620</td>\n",
       "      <td>0.012847</td>\n",
       "      <td>0.014940</td>\n",
       "      <td>0.025188</td>\n",
       "      <td>3312.0</td>\n",
       "      <td>3312.0</td>\n",
       "    </tr>\n",
       "  </tbody>\n",
       "</table>\n",
       "</div>"
      ],
      "text/plain": [
       "         cond      mean                 std                 sem            \\\n",
       "in_out           indoor   outdoor    indoor   outdoor    indoor   outdoor   \n",
       "0       mixed  0.903397  0.892114  0.512782  0.502189  0.012601  0.012341   \n",
       "1        pure  0.904077  0.904132  0.438513  0.739333  0.007620  0.012847   \n",
       "\n",
       "              ci               len          \n",
       "in_out    indoor   outdoor  indoor outdoor  \n",
       "0       0.024715  0.024205  1656.0  1656.0  \n",
       "1       0.014940  0.025188  3312.0  3312.0  "
      ]
     },
     "execution_count": 37,
     "metadata": {},
     "output_type": "execute_result"
    }
   ],
   "source": [
    "# must unstack and reset index to plot properly\n",
    "res.unstack().reset_index()"
   ]
  },
  {
   "cell_type": "code",
   "execution_count": 38,
   "metadata": {},
   "outputs": [
    {
     "data": {
      "text/plain": [
       "Text(0, 0.5, 'Performance')"
      ]
     },
     "execution_count": 38,
     "metadata": {},
     "output_type": "execute_result"
    },
    {
     "data": {
      "image/png": "[encoded data removed]",
      "text/plain": [
       "<Figure size 432x288 with 1 Axes>"
      ]
     },
     "metadata": {
      "needs_background": "light"
     },
     "output_type": "display_data"
    }
   ],
   "source": [
    "# plot the results\n",
    "ax = res.unstack().reset_index().plot(x='cond', y='mean', yerr='ci', kind=\"bar\")\n",
    "#ax.get_legend().remove()\n",
    "ax.set_xlabel('Condition')\n",
    "ax.set_ylabel('Performance')"
   ]
  },
  {
   "cell_type": "markdown",
   "metadata": {},
   "source": [
    "# Word Recognition Figure\n",
    "\n",
    "Replace the sections marked with `XXX` to generate and plot the correct data.\n",
    "\n",
    "You are plotting recognition performance as a function of valence (negative, neutral, positive), grouped by condition (mixed vs. pure)."
   ]
  },
  {
   "cell_type": "code",
   "execution_count": 32,
   "metadata": {},
   "outputs": [
    {
     "data": {
      "text/plain": [
       "Text(0, 0.5, 'Performance')"
      ]
     },
     "execution_count": 32,
     "metadata": {},
     "output_type": "execute_result"
    },
    {
     "data": {
      "image/png": "[encoded data removed]",
      "text/plain": [
       "<Figure size 432x288 with 1 Axes>"
      ]
     },
     "metadata": {
      "needs_background": "light"
     },
     "output_type": "display_data"
    }
   ],
   "source": [
    "# get the error corrected by condition and whether they got it correct\n",
    "res = ci_within(df_w, \n",
    "                indexvar='subj',       # column that identifies a subject\n",
    "                withinvars=['cond','valence'],     # list of columns for grouping within subject\n",
    "                measvar='log_rt')        # dependent variable averaging over\n",
    "\n",
    "# generate the plot\n",
    "ax = res.unstack().reset_index().plot(x='cond', y='mean', yerr='ci', kind=\"bar\")\n",
    "ax.set_xlabel('Condition')\n",
    "ax.set_ylabel('Performance')"
   ]
  },
  {
   "cell_type": "code",
   "execution_count": null,
   "metadata": {},
   "outputs": [],
   "source": []
  }
 ],
 "metadata": {
  "celltoolbar": "Slideshow",
  "kernelspec": {
   "display_name": "Python 3",
   "language": "python",
   "name": "python3"
  },
  "language_info": {
   "codemirror_mode": {
    "name": "ipython",
    "version": 3
   },
   "file_extension": ".py",
   "mimetype": "text/x-python",
   "name": "python",
   "nbconvert_exporter": "python",
   "pygments_lexer": "ipython3",
   "version": "3.7.7"
  },
  "rise": {
   "scroll": true
  }
 },
 "nbformat": 4,
 "nbformat_minor": 2
}
