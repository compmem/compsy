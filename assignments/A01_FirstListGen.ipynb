{
 "cells": [
  {
   "cell_type": "markdown",
   "metadata": {},
   "source": [
    "# Assignment 1: First List Generation\n",
    "## Computational Methods in Psychology and Neuroscience\n",
    "### Psychology 4215/7215 --- Fall 2023"
   ]
  },
  {
   "cell_type": "markdown",
   "metadata": {},
   "source": [
    "# Objectives\n",
    "\n",
    "Upon completion of this assignment, the student will have:\n",
    "\n",
    "1. Created unique trial conditions\n",
    "\n",
    "2. Randomly generated lists to use in a experiment.\n"
   ]
  },
  {
   "cell_type": "markdown",
   "metadata": {},
   "source": [
    "# Assignment\n",
    "\n",
    "* Write code in a Jupyter notebook (after making a copy and renaming it to have your userid in the title --- e.g., A01_FirstListGen_mst3k).\n",
    "\n",
    "## Design\n",
    "\n",
    "Your assignment is to write a script that creates lists of dictionaries that you will later present to participants as part of an experiment.  \n",
    "\n",
    "The script should be configurable such that you can specify different\n",
    "numbers of lists and trials, along with other details specific to the\n",
    "experiment you decide to do.\n",
    "\n",
    "Each dictionary represents a trial and should contain all the\n",
    "information necessary to identify the stimulus to be presented,\n",
    "details about that stimulus, and the condition in which to present it.\n",
    "This information will be experiment-specific, as outlined below.\n",
    "\n",
    "This assignment acts as a warm-up list generation that is an extension of the flanker example from class. Your full list generation assignment will come next and you will have a choice of experiment to code.\n",
    "\n",
    "  \n",
    "* ***When you are done, save this notebook as HTML (`File -> Download as -> HTML`) and upload it to the matching assignment on Canvas.***  "
   ]
  },
  {
   "cell_type": "markdown",
   "metadata": {},
   "source": [
    "## Perceptual Decision-Making with Interrogation and Confidence\n",
    "\n",
    "The main question of this study is whether we see changes in calibration between accuracy and confidence for perceptual decisions under time pressure. In prior collaborative work, my lab has demonstrated that taking away evidence after short periods of time can affect the decision-making process (see Palestro et al., 2018; https://compmem.org/assets/pdf/Palestro.etal.2018b.pdf). Here we will also probe participant confidence in their decisions after varying levels amounts of time to assess a stimulus for evidence guiding the choice, but that will not affect the list generation.\n",
    "\n",
    "We will present random moving dot stimuli to participants at various levels of coherence. The task is to indicate the direction (left or right) that most of the dots are moving. I'll show examples in class, but for now you simply need to know that the higher the coherence of the dot movement, the easier the trial. The more time a participant has to evaluate the movement also gives rise to better performance. \n",
    "\n",
    "Thus, we will be crossing two factors in this experiment, coherence and interrogation time, but we also need to control for the direction of the coherent movement so that both left and right are equally represented for each condition.\n",
    "\n",
    "You task is to write list-generation code that crosses:\n",
    "\n",
    "- Coherence levels of 0.0, 0.1, 0.2, 0.3\n",
    "  - Note, these should be fully crossed, so you should have trials like:\n",
    "    - 0.0, 0.1\n",
    "    - 0.1, 0.0\n",
    "    - 0.0, 0.2\n",
    "    - 0.2, 0.0\n",
    "    - ...\n",
    "- Interrogation times of .200, .300, .500, .800 seconds\n",
    "\n",
    "Each trial will be defined by a dictionary, such as:\n",
    "\n",
    "`{'left_coh': 0.2, 'right_coh': .1, 'inter_time': 500}`\n",
    "\n",
    "Your complete code should allow for specification of the number of repetitions of all conditions in a single list, as well as how many lists you'd like to run, giving rise to a list of lists of dictionaries that you write out to a pickle file.\n",
    "\n",
    "***Note, You can use the flanker example from class as a guide!***\n"
   ]
  }
 ],
 "metadata": {
  "kernelspec": {
   "display_name": "Python 3 (ipykernel)",
   "language": "python",
   "name": "python3"
  },
  "language_info": {
   "codemirror_mode": {
    "name": "ipython",
    "version": 3
   },
   "file_extension": ".py",
   "mimetype": "text/x-python",
   "name": "python",
   "nbconvert_exporter": "python",
   "pygments_lexer": "ipython3",
   "version": "3.11.4"
  }
 },
 "nbformat": 4,
 "nbformat_minor": 4
}
